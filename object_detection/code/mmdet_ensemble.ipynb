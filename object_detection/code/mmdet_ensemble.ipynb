{
 "cells": [
  {
   "cell_type": "code",
   "execution_count": 1,
   "id": "80461eea-f112-4c9d-9407-cf524f13a87a",
   "metadata": {},
   "outputs": [],
   "source": [
    "from ensemble_boxes import nms, soft_nms, non_maximum_weighted, weighted_boxes_fusion\n",
    "\n",
    "import os\n",
    "import shutil\n",
    "import pandas as pd\n",
    "import numpy as np"
   ]
  },
  {
   "cell_type": "markdown",
   "id": "623bc43f-2fdf-410f-9de5-9629502b4fb1",
   "metadata": {},
   "source": [
    "## CSV file load."
   ]
  },
  {
   "cell_type": "code",
   "execution_count": 2,
   "id": "59f7b9b3-b932-4b8d-852c-94ce776823cf",
   "metadata": {},
   "outputs": [],
   "source": [
    "# save_paths = [\n",
    "#     \"1\",\n",
    "#     \"2\",\n",
    "#     \"3\",\n",
    "#     \"4\",\n",
    "#     \"5\",\n",
    "#     \"6\",\n",
    "#     \"7\",\n",
    "#     \"8\",\n",
    "#     \"9\",\n",
    "#     \"10\",\n",
    "#     \"11\",\n",
    "#     \"12\"\n",
    "# ]\n",
    "save_paths = [f'{i}.csv' for i in range(1, 13)]\n",
    "lb_scores = [8, 8, 7, 7, 6, 6, 4, 3, 2, 5, 4, 5]\n",
    "\n",
    "data_dfs = [pd.read_csv(os.path.join(\"save_dir\", \"Weighted_Boxes_Fusion\", save_path)) for save_path in save_paths]"
   ]
  },
  {
   "cell_type": "markdown",
   "id": "8c8f0da9-b302-4c40-9d32-f9e0a5f39288",
   "metadata": {},
   "source": [
    "## Helper function define."
   ]
  },
  {
   "cell_type": "code",
   "execution_count": 3,
   "id": "64b85bc5-9756-4089-812b-a26393a8bfe4",
   "metadata": {},
   "outputs": [],
   "source": [
    "def get_values(predicted):\n",
    "    predicted = predicted.split(\" \")\n",
    "    \n",
    "    labels = []\n",
    "    scores = []\n",
    "    boxes = []\n",
    "    \n",
    "    for i in range(0, len(predicted) - 1, 6):\n",
    "        label = int(predicted[i])\n",
    "        score = float(predicted[i + 1])\n",
    "        box = list(map(lambda x: float(x) / 512, predicted[i + 2:i + 6]))\n",
    "        \n",
    "        labels.append(label)\n",
    "        scores.append(score)\n",
    "        boxes.append(box)\n",
    "        \n",
    "    return boxes, scores, labels"
   ]
  },
  {
   "cell_type": "markdown",
   "id": "96ee8ec3-4a08-44d5-bf55-1a939c0a593f",
   "metadata": {},
   "source": [
    "## Weighted boxes fusion."
   ]
  },
  {
   "cell_type": "code",
   "execution_count": 4,
   "id": "639a3cd0-2b73-46b1-9c40-b4bc28ff53bd",
   "metadata": {},
   "outputs": [],
   "source": [
    "iou_thr = 0.6\n",
    "skip_box_thr = 0.0001"
   ]
  },
  {
   "cell_type": "code",
   "execution_count": 5,
   "id": "71271352-7749-4bb0-bf47-57606352012a",
   "metadata": {
    "tags": []
   },
   "outputs": [
    {
     "name": "stderr",
     "output_type": "stream",
     "text": [
      "/opt/conda/lib/python3.7/site-packages/ensemble_boxes/ensemble_boxes_wbf.py:88: UserWarning: Zero area box skipped: [0.2954540625, 1.0, 0.3533578515625, 1.0].\n",
      "  warnings.warn(\"Zero area box skipped: {}.\".format(box_part))\n",
      "/opt/conda/lib/python3.7/site-packages/ensemble_boxes/ensemble_boxes_wbf.py:88: UserWarning: Zero area box skipped: [0.29238939453125, 1.0, 0.35037970703125, 1.0].\n",
      "  warnings.warn(\"Zero area box skipped: {}.\".format(box_part))\n",
      "/opt/conda/lib/python3.7/site-packages/ensemble_boxes/ensemble_boxes_wbf.py:88: UserWarning: Zero area box skipped: [0.2859361328125, 1.0, 0.346594609375, 1.0].\n",
      "  warnings.warn(\"Zero area box skipped: {}.\".format(box_part))\n",
      "/opt/conda/lib/python3.7/site-packages/ensemble_boxes/ensemble_boxes_wbf.py:88: UserWarning: Zero area box skipped: [0.0, 2.7751923828125e-06, 0.0, 0.030826806640625].\n",
      "  warnings.warn(\"Zero area box skipped: {}.\".format(box_part))\n",
      "/opt/conda/lib/python3.7/site-packages/ensemble_boxes/ensemble_boxes_wbf.py:88: UserWarning: Zero area box skipped: [0.82548505859375, 1.0, 0.9059508984375, 1.0].\n",
      "  warnings.warn(\"Zero area box skipped: {}.\".format(box_part))\n",
      "/opt/conda/lib/python3.7/site-packages/ensemble_boxes/ensemble_boxes_wbf.py:88: UserWarning: Zero area box skipped: [0.81997525390625, 1.0, 0.9035490234375, 1.0].\n",
      "  warnings.warn(\"Zero area box skipped: {}.\".format(box_part))\n",
      "/opt/conda/lib/python3.7/site-packages/ensemble_boxes/ensemble_boxes_wbf.py:88: UserWarning: Zero area box skipped: [0.83001041015625, 1.0, 0.9086890234375, 1.0].\n",
      "  warnings.warn(\"Zero area box skipped: {}.\".format(box_part))\n",
      "/opt/conda/lib/python3.7/site-packages/ensemble_boxes/ensemble_boxes_wbf.py:88: UserWarning: Zero area box skipped: [0.783861875, 1.0, 0.89767861328125, 1.0].\n",
      "  warnings.warn(\"Zero area box skipped: {}.\".format(box_part))\n",
      "/opt/conda/lib/python3.7/site-packages/ensemble_boxes/ensemble_boxes_wbf.py:88: UserWarning: Zero area box skipped: [0.8043471484375, 1.0, 0.90088546875, 1.0].\n",
      "  warnings.warn(\"Zero area box skipped: {}.\".format(box_part))\n",
      "/opt/conda/lib/python3.7/site-packages/ensemble_boxes/ensemble_boxes_wbf.py:88: UserWarning: Zero area box skipped: [0.6818572265625, 1.0, 0.73760306640625, 1.0].\n",
      "  warnings.warn(\"Zero area box skipped: {}.\".format(box_part))\n",
      "/opt/conda/lib/python3.7/site-packages/ensemble_boxes/ensemble_boxes_wbf.py:88: UserWarning: Zero area box skipped: [0.687004921875, 1.0, 0.74902875, 1.0].\n",
      "  warnings.warn(\"Zero area box skipped: {}.\".format(box_part))\n",
      "/opt/conda/lib/python3.7/site-packages/ensemble_boxes/ensemble_boxes_wbf.py:88: UserWarning: Zero area box skipped: [0.6781095703125, 1.0, 0.73232001953125, 1.0].\n",
      "  warnings.warn(\"Zero area box skipped: {}.\".format(box_part))\n",
      "/opt/conda/lib/python3.7/site-packages/ensemble_boxes/ensemble_boxes_wbf.py:88: UserWarning: Zero area box skipped: [0.83582388671875, 1.0, 0.91107875, 1.0].\n",
      "  warnings.warn(\"Zero area box skipped: {}.\".format(box_part))\n",
      "/opt/conda/lib/python3.7/site-packages/ensemble_boxes/ensemble_boxes_wbf.py:88: UserWarning: Zero area box skipped: [0.82754701171875, 1.0, 0.91070283203125, 1.0].\n",
      "  warnings.warn(\"Zero area box skipped: {}.\".format(box_part))\n",
      "/opt/conda/lib/python3.7/site-packages/ensemble_boxes/ensemble_boxes_wbf.py:88: UserWarning: Zero area box skipped: [0.822513515625, 1.0, 0.908089453125, 1.0].\n",
      "  warnings.warn(\"Zero area box skipped: {}.\".format(box_part))\n"
     ]
    }
   ],
   "source": [
    "wbf_results = []\n",
    "\n",
    "for idx in range(len(data_dfs[0])):\n",
    "    boxes_ = []\n",
    "    scores_ = []\n",
    "    labels_ = []\n",
    "    for df_idx in range(len(data_dfs)):\n",
    "        predicted = data_dfs[df_idx].iloc[idx, 0]\n",
    "        box, score, label = get_values(predicted)\n",
    "        boxes_.append(box)\n",
    "        scores_.append(score)\n",
    "        labels_.append(label)\n",
    "        \n",
    "    wbf_box, wbf_score, wbf_label = weighted_boxes_fusion(boxes_, scores_, labels_, weights=lb_scores, iou_thr=iou_thr, skip_box_thr=skip_box_thr)\n",
    "    \n",
    "    wbf_result = [[int(wbf_label_)] + [wbf_score_] + list(map(lambda x: x * 512, wbf_box_)) for wbf_box_, wbf_score_, wbf_label_ in zip(wbf_box, wbf_score, wbf_label)]\n",
    "    wbf_result = sorted(wbf_result, key=lambda x: x[1], reverse=True)\n",
    "    wbf_result = sorted(wbf_result, key=lambda x: x[0])\n",
    "    \n",
    "    wbf_results.append(wbf_result)"
   ]
  },
  {
   "cell_type": "markdown",
   "id": "53f73495-15a9-4c82-9260-4ab6033afc76",
   "metadata": {},
   "source": [
    "## Save to CSV file."
   ]
  },
  {
   "cell_type": "code",
   "execution_count": 6,
   "id": "d9bef271-2c48-4b1d-8b2a-3415d4996545",
   "metadata": {
    "tags": []
   },
   "outputs": [
    {
     "data": {
      "text/html": [
       "<div>\n",
       "<style scoped>\n",
       "    .dataframe tbody tr th:only-of-type {\n",
       "        vertical-align: middle;\n",
       "    }\n",
       "\n",
       "    .dataframe tbody tr th {\n",
       "        vertical-align: top;\n",
       "    }\n",
       "\n",
       "    .dataframe thead th {\n",
       "        text-align: right;\n",
       "    }\n",
       "</style>\n",
       "<table border=\"1\" class=\"dataframe\">\n",
       "  <thead>\n",
       "    <tr style=\"text-align: right;\">\n",
       "      <th></th>\n",
       "      <th>PredictionString</th>\n",
       "      <th>image_id</th>\n",
       "    </tr>\n",
       "  </thead>\n",
       "  <tbody>\n",
       "    <tr>\n",
       "      <th>0</th>\n",
       "      <td>0 0.02792796492576599 0.07789668440818787 334....</td>\n",
       "      <td>batch_01_vt/0021.jpg</td>\n",
       "    </tr>\n",
       "    <tr>\n",
       "      <th>1</th>\n",
       "      <td>0 0.07869534939527512 284.3097229003906 341.06...</td>\n",
       "      <td>batch_01_vt/0028.jpg</td>\n",
       "    </tr>\n",
       "    <tr>\n",
       "      <th>2</th>\n",
       "      <td>0 0.07040009647607803 235.73126220703125 461.1...</td>\n",
       "      <td>batch_01_vt/0031.jpg</td>\n",
       "    </tr>\n",
       "    <tr>\n",
       "      <th>3</th>\n",
       "      <td>0 0.06808287650346756 295.6249084472656 157.62...</td>\n",
       "      <td>batch_01_vt/0032.jpg</td>\n",
       "    </tr>\n",
       "    <tr>\n",
       "      <th>4</th>\n",
       "      <td>0 0.05581524968147278 107.96443176269531 252.4...</td>\n",
       "      <td>batch_01_vt/0070.jpg</td>\n",
       "    </tr>\n",
       "  </tbody>\n",
       "</table>\n",
       "</div>"
      ],
      "text/plain": [
       "                                    PredictionString              image_id\n",
       "0  0 0.02792796492576599 0.07789668440818787 334....  batch_01_vt/0021.jpg\n",
       "1  0 0.07869534939527512 284.3097229003906 341.06...  batch_01_vt/0028.jpg\n",
       "2  0 0.07040009647607803 235.73126220703125 461.1...  batch_01_vt/0031.jpg\n",
       "3  0 0.06808287650346756 295.6249084472656 157.62...  batch_01_vt/0032.jpg\n",
       "4  0 0.05581524968147278 107.96443176269531 252.4...  batch_01_vt/0070.jpg"
      ]
     },
     "execution_count": 6,
     "metadata": {},
     "output_type": "execute_result"
    }
   ],
   "source": [
    "image_names = data_dfs[0].iloc[:, 1]\n",
    "\n",
    "prediction_strings = []\n",
    "file_names = []\n",
    "\n",
    "for wbf_result, image_name in zip(wbf_results, image_names):\n",
    "    prediction_string = \"\"\n",
    "    for wbf_result_ in wbf_result:\n",
    "        label = str(wbf_result_[0])\n",
    "        score = str(wbf_result_[1])\n",
    "        box = \" \".join(list(map(lambda x: str(x), wbf_result_[2:])))\n",
    "        prediction_string += label + \" \" + score + \" \" + box + \" \"\n",
    "    \n",
    "    prediction_strings.append(prediction_string)\n",
    "    file_names.append(image_name)\n",
    "    \n",
    "submission = pd.DataFrame()\n",
    "submission[\"PredictionString\"] = prediction_strings\n",
    "submission[\"image_id\"] = file_names\n",
    "submission.to_csv(os.path.join(\"save_dir\", f\"submission_wbf_ensemble.csv\"), index=None)\n",
    "submission.head()"
   ]
  },
  {
   "cell_type": "code",
   "execution_count": null,
   "id": "31068af3-1afa-49ac-8633-3cdfcfa0f995",
   "metadata": {},
   "outputs": [],
   "source": []
  }
 ],
 "metadata": {
  "kernelspec": {
   "display_name": "Python 3",
   "language": "python",
   "name": "python3"
  },
  "language_info": {
   "codemirror_mode": {
    "name": "ipython",
    "version": 3
   },
   "file_extension": ".py",
   "mimetype": "text/x-python",
   "name": "python",
   "nbconvert_exporter": "python",
   "pygments_lexer": "ipython3",
   "version": "3.7.7"
  }
 },
 "nbformat": 4,
 "nbformat_minor": 5
}
