{
 "cells": [
  {
   "cell_type": "code",
   "execution_count": 3,
   "id": "d929fd05-8404-47e0-8c2c-3a2497c6e693",
   "metadata": {},
   "outputs": [],
   "source": [
    "import os\n",
    "from PIL import Image\n",
    "import numpy as np\n",
    "from pycocotools.coco import COCO"
   ]
  },
  {
   "cell_type": "code",
   "execution_count": 4,
   "id": "14edaac9-913f-43d0-9f2d-1629d76789a1",
   "metadata": {},
   "outputs": [
    {
     "name": "stdout",
     "output_type": "stream",
     "text": [
      "loading annotations into memory...\n",
      "Done (t=3.82s)\n",
      "creating index...\n",
      "index created!\n"
     ]
    }
   ],
   "source": [
    "coco = COCO(\"../input/data/train.json\")"
   ]
  },
  {
   "cell_type": "code",
   "execution_count": 7,
   "id": "a70b416e-3de0-4a70-8401-36e9758d85b8",
   "metadata": {
    "tags": []
   },
   "outputs": [],
   "source": [
    "data_path = \"../input/data\"\n",
    "seg_path = \"../input/data/seg_image\"\n",
    "os.makedirs(seg_path, exist_ok=True)\n",
    "os.makedirs(os.path.join(seg_path, \"batch_01_vt\"), exist_ok=True)\n",
    "os.makedirs(os.path.join(seg_path, \"batch_02_vt\"), exist_ok=True)\n",
    "os.makedirs(os.path.join(seg_path, \"batch_03\"), exist_ok=True)\n",
    "\n",
    "for i in range(len(coco.imgs)):\n",
    "    image_id = coco.getImgIds(imgIds=i)\n",
    "    image_infos = coco.loadImgs(image_id)[0]\n",
    "    file_name = image_infos[\"file_name\"]\n",
    "    image = Image.open(os.path.join(data_path, file_name))\n",
    "\n",
    "    ann_ids = coco.getAnnIds(imgIds=image_infos[\"id\"])\n",
    "    ann_list = coco.loadAnns(ann_ids)\n",
    "\n",
    "    mask = np.full((image.height, image.width), 255)\n",
    "    for i, ann in enumerate(ann_list):\n",
    "        ann_mask = np.int_(coco.annToMask(ann))\n",
    "        ann_mask *= ann[\"category_id\"] - 255\n",
    "        mask += ann_mask\n",
    "        map_image = Image.fromarray(np.uint8(mask), \"L\")\n",
    "\n",
    "    image.close()\n",
    "    map_image.save(os.path.join(seg_path, file_name[:-4] + \".png\"), \"PNG\")"
   ]
  }
 ],
 "metadata": {
  "kernelspec": {
   "display_name": "Python 3",
   "language": "python",
   "name": "python3"
  },
  "language_info": {
   "codemirror_mode": {
    "name": "ipython",
    "version": 3
   },
   "file_extension": ".py",
   "mimetype": "text/x-python",
   "name": "python",
   "nbconvert_exporter": "python",
   "pygments_lexer": "ipython3",
   "version": "3.7.7"
  }
 },
 "nbformat": 4,
 "nbformat_minor": 5
}
