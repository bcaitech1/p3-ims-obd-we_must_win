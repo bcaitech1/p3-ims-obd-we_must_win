{
 "cells": [
  {
   "cell_type": "code",
   "execution_count": 1,
   "metadata": {
    "pycharm": {
     "name": "#%%\n"
    }
   },
   "outputs": [],
   "source": [
    "from mmcv import Config\n",
    "from mmdet.datasets import build_dataset\n",
    "from mmdet.models import build_detector\n",
    "from mmdet.apis import train_detector\n",
    "from mmdet.datasets import (build_dataloader, build_dataset,\n",
    "                            replace_ImageToTensor)"
   ]
  },
  {
   "cell_type": "code",
   "execution_count": 2,
   "metadata": {
    "pycharm": {
     "name": "#%%\n"
    }
   },
   "outputs": [],
   "source": [
    "classes = (\"UNKNOWN\", \"General trash\", \"Paper\", \"Paper pack\", \"Metal\", \"Glass\", \n",
    "           \"Plastic\", \"Styrofoam\", \"Plastic bag\", \"Battery\", \"Clothing\")\n",
    "# config file 들고오기\n",
    "cfg = Config.fromfile('./configs/faster_rcnn/faster_rcnn_r50_fpn_1x_coco.py')\n",
    "\n",
    "PREFIX = '../../input/data/'\n",
    "\n",
    "\n",
    "# dataset 바꾸기\n",
    "cfg.data.train.classes = classes\n",
    "cfg.data.train.img_prefix = PREFIX\n",
    "cfg.data.train.ann_file = PREFIX + 'train.json'\n",
    "cfg.data.train.pipeline[2]['img_scale'] = (512, 512)\n",
    "\n",
    "cfg.data.val.classes = classes\n",
    "cfg.data.val.img_prefix = PREFIX\n",
    "cfg.data.val.ann_file = PREFIX + 'val.json'\n",
    "cfg.data.val.pipeline[1]['img_scale'] = (512, 512)\n",
    "\n",
    "cfg.data.test.classes = classes\n",
    "cfg.data.test.img_prefix = PREFIX\n",
    "cfg.data.test.ann_file = PREFIX + 'test.json'\n",
    "cfg.data.test.pipeline[1]['img_scale'] = (512, 512)\n",
    "\n",
    "cfg.data.samples_per_gpu = 4\n",
    "\n",
    "cfg.seed=2020\n",
    "cfg.gpu_ids = [0]\n",
    "cfg.work_dir = './work_dirs/faster_rcnn_r50_fpn_1x_trash'\n",
    "\n",
    "cfg.model.roi_head.bbox_head.num_classes = 11\n",
    "\n",
    "cfg.optimizer_config.grad_clip = dict(max_norm=35, norm_type=2)"
   ]
  },
  {
   "cell_type": "code",
   "execution_count": 4,
   "metadata": {
    "pycharm": {
     "name": "#%%\n"
    }
   },
   "outputs": [
    {
     "name": "stderr",
     "output_type": "stream",
     "text": [
      "2021-04-15 14:47:53,126 - mmdet - INFO - load model from: torchvision://resnet50\n",
      "2021-04-15 14:47:53,127 - mmdet - INFO - Use load_from_torchvision loader\n",
      "2021-04-15 14:47:53,424 - mmdet - WARNING - The model and loaded state dict do not match exactly\n",
      "\n",
      "unexpected key in source state_dict: fc.weight, fc.bias\n",
      "\n"
     ]
    }
   ],
   "source": [
    "model = build_detector(cfg.model)"
   ]
  },
  {
   "cell_type": "code",
   "execution_count": 5,
   "metadata": {
    "pycharm": {
     "name": "#%%\n"
    }
   },
   "outputs": [
    {
     "name": "stdout",
     "output_type": "stream",
     "text": [
      "loading annotations into memory...\n",
      "Done (t=3.82s)\n",
      "creating index...\n",
      "index created!\n"
     ]
    }
   ],
   "source": [
    "datasets = [build_dataset(cfg.data.train)]"
   ]
  },
  {
   "cell_type": "code",
   "execution_count": 6,
   "metadata": {
    "pycharm": {
     "name": "#%%\n"
    }
   },
   "outputs": [
    {
     "name": "stdout",
     "output_type": "stream",
     "text": [
      "loading annotations into memory...\n"
     ]
    },
    {
     "name": "stderr",
     "output_type": "stream",
     "text": [
      "2021-04-15 14:48:02,355 - mmdet - INFO - Start running, host: root@pstage-teacher001, work_dir: /root/mmdetection_trash/work_dirs/faster_rcnn_r50_fpn_1x_trash\n",
      "2021-04-15 14:48:02,356 - mmdet - INFO - workflow: [('train', 1)], max: 12 epochs\n"
     ]
    },
    {
     "name": "stdout",
     "output_type": "stream",
     "text": [
      "Done (t=1.27s)\n",
      "creating index...\n",
      "index created!\n"
     ]
    },
    {
     "name": "stderr",
     "output_type": "stream",
     "text": [
      "2021-04-15 14:48:15,225 - mmdet - INFO - Epoch [1][50/655]\tlr: 1.978e-03, eta: 0:33:29, time: 0.257, data_time: 0.050, memory: 2097, loss_rpn_cls: 0.5121, loss_rpn_bbox: 0.0758, loss_cls: 0.6481, acc: 91.2773, loss_bbox: 0.1862, loss: 1.4222, grad_norm: 6.7234\n",
      "2021-04-15 14:48:25,702 - mmdet - INFO - Epoch [1][100/655]\tlr: 3.976e-03, eta: 0:30:11, time: 0.210, data_time: 0.006, memory: 2097, loss_rpn_cls: 0.2180, loss_rpn_bbox: 0.0820, loss_cls: 0.4404, acc: 90.3867, loss_bbox: 0.3559, loss: 1.0964, grad_norm: 3.1493\n",
      "2021-04-15 14:48:36,141 - mmdet - INFO - Epoch [1][150/655]\tlr: 5.974e-03, eta: 0:28:56, time: 0.209, data_time: 0.006, memory: 2097, loss_rpn_cls: 0.2082, loss_rpn_bbox: 0.0813, loss_cls: 0.4587, acc: 90.0820, loss_bbox: 0.3640, loss: 1.1123, grad_norm: 3.4784\n",
      "2021-04-15 14:48:46,435 - mmdet - INFO - Epoch [1][200/655]\tlr: 7.972e-03, eta: 0:28:08, time: 0.206, data_time: 0.005, memory: 2097, loss_rpn_cls: 0.1777, loss_rpn_bbox: 0.0839, loss_cls: 0.4640, acc: 88.9893, loss_bbox: 0.4110, loss: 1.1366, grad_norm: 3.1320\n",
      "2021-04-15 14:48:56,724 - mmdet - INFO - Epoch [1][250/655]\tlr: 9.970e-03, eta: 0:27:34, time: 0.206, data_time: 0.006, memory: 2097, loss_rpn_cls: 0.1902, loss_rpn_bbox: 0.0882, loss_cls: 0.4517, acc: 88.4463, loss_bbox: 0.4294, loss: 1.1595, grad_norm: 3.2667\n",
      "2021-04-15 14:49:06,917 - mmdet - INFO - Epoch [1][300/655]\tlr: 1.197e-02, eta: 0:27:06, time: 0.204, data_time: 0.006, memory: 2097, loss_rpn_cls: 0.1834, loss_rpn_bbox: 0.0892, loss_cls: 0.4607, acc: 88.5146, loss_bbox: 0.4175, loss: 1.1509, grad_norm: 3.3534\n",
      "2021-04-15 14:49:17,084 - mmdet - INFO - Epoch [1][350/655]\tlr: 1.397e-02, eta: 0:26:43, time: 0.203, data_time: 0.005, memory: 2097, loss_rpn_cls: 0.1414, loss_rpn_bbox: 0.0717, loss_cls: 0.4629, acc: 88.9639, loss_bbox: 0.3955, loss: 1.0715, grad_norm: 3.0608\n",
      "2021-04-15 14:49:27,185 - mmdet - INFO - Epoch [1][400/655]\tlr: 1.596e-02, eta: 0:26:21, time: 0.202, data_time: 0.005, memory: 2097, loss_rpn_cls: 0.1554, loss_rpn_bbox: 0.0719, loss_cls: 0.4374, acc: 88.7100, loss_bbox: 0.4053, loss: 1.0701, grad_norm: 2.7388\n",
      "2021-04-15 14:49:37,343 - mmdet - INFO - Epoch [1][450/655]\tlr: 1.796e-02, eta: 0:26:04, time: 0.203, data_time: 0.005, memory: 2097, loss_rpn_cls: 0.1408, loss_rpn_bbox: 0.0718, loss_cls: 0.4642, acc: 87.9941, loss_bbox: 0.4317, loss: 1.1084, grad_norm: 2.7859\n",
      "2021-04-15 14:49:47,443 - mmdet - INFO - Epoch [1][500/655]\tlr: 1.996e-02, eta: 0:25:46, time: 0.202, data_time: 0.005, memory: 2097, loss_rpn_cls: 0.1275, loss_rpn_bbox: 0.0778, loss_cls: 0.4519, acc: 88.2588, loss_bbox: 0.4230, loss: 1.0801, grad_norm: 2.5478\n",
      "2021-04-15 14:49:57,536 - mmdet - INFO - Epoch [1][550/655]\tlr: 2.000e-02, eta: 0:25:30, time: 0.202, data_time: 0.005, memory: 2097, loss_rpn_cls: 0.1403, loss_rpn_bbox: 0.0800, loss_cls: 0.4491, acc: 88.7246, loss_bbox: 0.3928, loss: 1.0622, grad_norm: 2.7539\n",
      "2021-04-15 14:50:07,712 - mmdet - INFO - Epoch [1][600/655]\tlr: 2.000e-02, eta: 0:25:16, time: 0.204, data_time: 0.006, memory: 2097, loss_rpn_cls: 0.1428, loss_rpn_bbox: 0.0748, loss_cls: 0.4657, acc: 89.0625, loss_bbox: 0.3694, loss: 1.0527, grad_norm: 2.8002\n",
      "2021-04-15 14:50:17,985 - mmdet - INFO - Epoch [1][650/655]\tlr: 2.000e-02, eta: 0:25:04, time: 0.205, data_time: 0.005, memory: 2097, loss_rpn_cls: 0.1365, loss_rpn_bbox: 0.0730, loss_cls: 0.4468, acc: 88.7188, loss_bbox: 0.3803, loss: 1.0365, grad_norm: 2.3413\n",
      "2021-04-15 14:50:19,058 - mmdet - INFO - Saving checkpoint at 1 epochs\n"
     ]
    },
    {
     "name": "stdout",
     "output_type": "stream",
     "text": [
      "[>>>>>>>>>>>>>>>>>>>>>>>>>>>>>] 655/655, 31.8 task/s, elapsed: 21s, ETA:     0s"
     ]
    },
    {
     "name": "stderr",
     "output_type": "stream",
     "text": [
      "2021-04-15 14:50:43,155 - mmdet - INFO - Evaluating bbox...\n"
     ]
    },
    {
     "name": "stdout",
     "output_type": "stream",
     "text": [
      "Loading and preparing results...\n",
      "DONE (t=0.62s)\n",
      "creating index...\n",
      "index created!\n",
      "Running per image evaluation...\n",
      "Evaluate annotation type *bbox*\n",
      "DONE (t=7.25s).\n",
      "Accumulating evaluation results...\n"
     ]
    },
    {
     "name": "stderr",
     "output_type": "stream",
     "text": [
      "2021-04-15 14:50:52,462 - mmdet - INFO - Epoch(val) [1][655]\tbbox_mAP: 0.0320, bbox_mAP_50: 0.0820, bbox_mAP_75: 0.0170, bbox_mAP_s: 0.0040, bbox_mAP_m: 0.0380, bbox_mAP_l: 0.0600, bbox_mAP_copypaste: 0.032 0.082 0.017 0.004 0.038 0.060\n"
     ]
    },
    {
     "name": "stdout",
     "output_type": "stream",
     "text": [
      "DONE (t=1.32s).\n",
      "Average Precision  (AP) @[ IoU=0.50:0.95 | area=   all | maxDets=100 ] = 0.032\n",
      "Average Precision  (AP) @[ IoU=0.50      | area=   all | maxDets=1000 ] = 0.082\n",
      "Average Precision  (AP) @[ IoU=0.75      | area=   all | maxDets=1000 ] = 0.017\n",
      "Average Precision  (AP) @[ IoU=0.50:0.95 | area= small | maxDets=1000 ] = 0.004\n",
      "Average Precision  (AP) @[ IoU=0.50:0.95 | area=medium | maxDets=1000 ] = 0.038\n",
      "Average Precision  (AP) @[ IoU=0.50:0.95 | area= large | maxDets=1000 ] = 0.060\n",
      "Average Recall     (AR) @[ IoU=0.50:0.95 | area=   all | maxDets=100 ] = 0.115\n",
      "Average Recall     (AR) @[ IoU=0.50:0.95 | area=   all | maxDets=300 ] = 0.115\n",
      "Average Recall     (AR) @[ IoU=0.50:0.95 | area=   all | maxDets=1000 ] = 0.115\n",
      "Average Recall     (AR) @[ IoU=0.50:0.95 | area= small | maxDets=1000 ] = 0.026\n",
      "Average Recall     (AR) @[ IoU=0.50:0.95 | area=medium | maxDets=1000 ] = 0.092\n",
      "Average Recall     (AR) @[ IoU=0.50:0.95 | area= large | maxDets=1000 ] = 0.239\n"
     ]
    },
    {
     "name": "stderr",
     "output_type": "stream",
     "text": [
      "2021-04-15 14:51:04,811 - mmdet - INFO - Epoch [2][50/655]\tlr: 2.000e-02, eta: 0:25:01, time: 0.247, data_time: 0.050, memory: 2097, loss_rpn_cls: 0.1291, loss_rpn_bbox: 0.0821, loss_cls: 0.4352, acc: 88.2070, loss_bbox: 0.4083, loss: 1.0547, grad_norm: 2.2754\n",
      "2021-04-15 14:51:14,919 - mmdet - INFO - Epoch [2][100/655]\tlr: 2.000e-02, eta: 0:24:47, time: 0.202, data_time: 0.005, memory: 2097, loss_rpn_cls: 0.1252, loss_rpn_bbox: 0.0668, loss_cls: 0.4308, acc: 88.9736, loss_bbox: 0.3595, loss: 0.9823, grad_norm: 2.3246\n",
      "2021-04-15 14:51:25,008 - mmdet - INFO - Epoch [2][150/655]\tlr: 2.000e-02, eta: 0:24:33, time: 0.202, data_time: 0.005, memory: 2097, loss_rpn_cls: 0.1117, loss_rpn_bbox: 0.0764, loss_cls: 0.4385, acc: 88.0713, loss_bbox: 0.3875, loss: 1.0141, grad_norm: 2.3291\n",
      "2021-04-15 14:51:35,137 - mmdet - INFO - Epoch [2][200/655]\tlr: 2.000e-02, eta: 0:24:20, time: 0.203, data_time: 0.005, memory: 2097, loss_rpn_cls: 0.1311, loss_rpn_bbox: 0.0737, loss_cls: 0.4217, acc: 88.9756, loss_bbox: 0.3592, loss: 0.9857, grad_norm: 2.2419\n",
      "2021-04-15 14:51:45,343 - mmdet - INFO - Epoch [2][250/655]\tlr: 2.000e-02, eta: 0:24:08, time: 0.204, data_time: 0.006, memory: 2097, loss_rpn_cls: 0.1134, loss_rpn_bbox: 0.0777, loss_cls: 0.4426, acc: 88.2305, loss_bbox: 0.3878, loss: 1.0215, grad_norm: 2.1783\n",
      "2021-04-15 14:51:55,433 - mmdet - INFO - Epoch [2][300/655]\tlr: 2.000e-02, eta: 0:23:55, time: 0.202, data_time: 0.005, memory: 2097, loss_rpn_cls: 0.0965, loss_rpn_bbox: 0.0616, loss_cls: 0.3949, acc: 89.2090, loss_bbox: 0.3538, loss: 0.9068, grad_norm: 2.0346\n",
      "2021-04-15 14:52:05,590 - mmdet - INFO - Epoch [2][350/655]\tlr: 2.000e-02, eta: 0:23:43, time: 0.203, data_time: 0.005, memory: 2097, loss_rpn_cls: 0.0997, loss_rpn_bbox: 0.0645, loss_cls: 0.4124, acc: 89.0283, loss_bbox: 0.3579, loss: 0.9345, grad_norm: 2.1524\n",
      "2021-04-15 14:52:15,741 - mmdet - INFO - Epoch [2][400/655]\tlr: 2.000e-02, eta: 0:23:31, time: 0.203, data_time: 0.005, memory: 2097, loss_rpn_cls: 0.1095, loss_rpn_bbox: 0.0606, loss_cls: 0.4088, acc: 88.9570, loss_bbox: 0.3537, loss: 0.9327, grad_norm: 2.2329\n",
      "2021-04-15 14:52:25,839 - mmdet - INFO - Epoch [2][450/655]\tlr: 2.000e-02, eta: 0:23:19, time: 0.202, data_time: 0.005, memory: 2097, loss_rpn_cls: 0.1072, loss_rpn_bbox: 0.0750, loss_cls: 0.3912, acc: 88.8564, loss_bbox: 0.3720, loss: 0.9455, grad_norm: 2.0966\n",
      "2021-04-15 14:52:36,008 - mmdet - INFO - Epoch [2][500/655]\tlr: 2.000e-02, eta: 0:23:08, time: 0.203, data_time: 0.005, memory: 2097, loss_rpn_cls: 0.1150, loss_rpn_bbox: 0.0759, loss_cls: 0.4654, acc: 87.7422, loss_bbox: 0.3866, loss: 1.0429, grad_norm: 2.2812\n",
      "2021-04-15 14:52:46,130 - mmdet - INFO - Epoch [2][550/655]\tlr: 2.000e-02, eta: 0:22:56, time: 0.202, data_time: 0.005, memory: 2097, loss_rpn_cls: 0.1022, loss_rpn_bbox: 0.0695, loss_cls: 0.4158, acc: 88.6660, loss_bbox: 0.3619, loss: 0.9494, grad_norm: 2.1480\n",
      "2021-04-15 14:52:56,263 - mmdet - INFO - Epoch [2][600/655]\tlr: 2.000e-02, eta: 0:22:45, time: 0.203, data_time: 0.005, memory: 2097, loss_rpn_cls: 0.0996, loss_rpn_bbox: 0.0654, loss_cls: 0.4439, acc: 88.3838, loss_bbox: 0.3658, loss: 0.9746, grad_norm: 2.1753\n",
      "2021-04-15 14:53:06,369 - mmdet - INFO - Epoch [2][650/655]\tlr: 2.000e-02, eta: 0:22:33, time: 0.202, data_time: 0.005, memory: 2097, loss_rpn_cls: 0.1015, loss_rpn_bbox: 0.0569, loss_cls: 0.4142, acc: 89.3662, loss_bbox: 0.3366, loss: 0.9093, grad_norm: 2.1318\n",
      "2021-04-15 14:53:07,435 - mmdet - INFO - Saving checkpoint at 2 epochs\n"
     ]
    },
    {
     "name": "stdout",
     "output_type": "stream",
     "text": [
      "[>>>>>>>>>>>>>>>>>>>>>>>>>>>>>] 655/655, 31.9 task/s, elapsed: 21s, ETA:     0s"
     ]
    },
    {
     "name": "stderr",
     "output_type": "stream",
     "text": [
      "2021-04-15 14:53:31,135 - mmdet - INFO - Evaluating bbox...\n"
     ]
    },
    {
     "name": "stdout",
     "output_type": "stream",
     "text": [
      "Loading and preparing results...\n",
      "DONE (t=1.07s)\n",
      "creating index...\n",
      "index created!\n",
      "Running per image evaluation...\n",
      "Evaluate annotation type *bbox*\n",
      "DONE (t=6.54s).\n",
      "Accumulating evaluation results...\n"
     ]
    },
    {
     "name": "stderr",
     "output_type": "stream",
     "text": [
      "2021-04-15 14:53:40,309 - mmdet - INFO - Epoch(val) [2][655]\tbbox_mAP: 0.0450, bbox_mAP_50: 0.0980, bbox_mAP_75: 0.0350, bbox_mAP_s: 0.0080, bbox_mAP_m: 0.0480, bbox_mAP_l: 0.0790, bbox_mAP_copypaste: 0.045 0.098 0.035 0.008 0.048 0.079\n"
     ]
    },
    {
     "name": "stdout",
     "output_type": "stream",
     "text": [
      "DONE (t=1.44s).\n",
      "Average Precision  (AP) @[ IoU=0.50:0.95 | area=   all | maxDets=100 ] = 0.045\n",
      "Average Precision  (AP) @[ IoU=0.50      | area=   all | maxDets=1000 ] = 0.098\n",
      "Average Precision  (AP) @[ IoU=0.75      | area=   all | maxDets=1000 ] = 0.035\n",
      "Average Precision  (AP) @[ IoU=0.50:0.95 | area= small | maxDets=1000 ] = 0.008\n",
      "Average Precision  (AP) @[ IoU=0.50:0.95 | area=medium | maxDets=1000 ] = 0.048\n",
      "Average Precision  (AP) @[ IoU=0.50:0.95 | area= large | maxDets=1000 ] = 0.079\n",
      "Average Recall     (AR) @[ IoU=0.50:0.95 | area=   all | maxDets=100 ] = 0.158\n",
      "Average Recall     (AR) @[ IoU=0.50:0.95 | area=   all | maxDets=300 ] = 0.158\n",
      "Average Recall     (AR) @[ IoU=0.50:0.95 | area=   all | maxDets=1000 ] = 0.158\n",
      "Average Recall     (AR) @[ IoU=0.50:0.95 | area= small | maxDets=1000 ] = 0.048\n",
      "Average Recall     (AR) @[ IoU=0.50:0.95 | area=medium | maxDets=1000 ] = 0.152\n",
      "Average Recall     (AR) @[ IoU=0.50:0.95 | area= large | maxDets=1000 ] = 0.300\n"
     ]
    },
    {
     "name": "stderr",
     "output_type": "stream",
     "text": [
      "2021-04-15 14:53:52,673 - mmdet - INFO - Epoch [3][50/655]\tlr: 2.000e-02, eta: 0:22:27, time: 0.247, data_time: 0.049, memory: 2097, loss_rpn_cls: 0.1001, loss_rpn_bbox: 0.0671, loss_cls: 0.4030, acc: 88.9209, loss_bbox: 0.3556, loss: 0.9257, grad_norm: 2.0796\n",
      "2021-04-15 14:54:02,809 - mmdet - INFO - Epoch [3][100/655]\tlr: 2.000e-02, eta: 0:22:15, time: 0.203, data_time: 0.006, memory: 2097, loss_rpn_cls: 0.0888, loss_rpn_bbox: 0.0596, loss_cls: 0.3958, acc: 88.9619, loss_bbox: 0.3464, loss: 0.8906, grad_norm: 2.0554\n",
      "2021-04-15 14:54:12,898 - mmdet - INFO - Epoch [3][150/655]\tlr: 2.000e-02, eta: 0:22:04, time: 0.202, data_time: 0.005, memory: 2097, loss_rpn_cls: 0.0920, loss_rpn_bbox: 0.0668, loss_cls: 0.3953, acc: 88.8535, loss_bbox: 0.3555, loss: 0.9096, grad_norm: 2.1427\n",
      "2021-04-15 14:54:23,022 - mmdet - INFO - Epoch [3][200/655]\tlr: 2.000e-02, eta: 0:21:53, time: 0.202, data_time: 0.005, memory: 2097, loss_rpn_cls: 0.0895, loss_rpn_bbox: 0.0688, loss_cls: 0.3868, acc: 88.9824, loss_bbox: 0.3534, loss: 0.8985, grad_norm: 2.1270\n",
      "2021-04-15 14:54:33,145 - mmdet - INFO - Epoch [3][250/655]\tlr: 2.000e-02, eta: 0:21:41, time: 0.202, data_time: 0.005, memory: 2097, loss_rpn_cls: 0.0916, loss_rpn_bbox: 0.0653, loss_cls: 0.4091, acc: 88.3398, loss_bbox: 0.3679, loss: 0.9340, grad_norm: 2.0902\n",
      "2021-04-15 14:54:43,321 - mmdet - INFO - Epoch [3][300/655]\tlr: 2.000e-02, eta: 0:21:30, time: 0.204, data_time: 0.005, memory: 2097, loss_rpn_cls: 0.0943, loss_rpn_bbox: 0.0685, loss_cls: 0.3900, acc: 89.0176, loss_bbox: 0.3561, loss: 0.9089, grad_norm: 2.2542\n",
      "2021-04-15 14:54:53,635 - mmdet - INFO - Epoch [3][350/655]\tlr: 2.000e-02, eta: 0:21:20, time: 0.206, data_time: 0.005, memory: 2097, loss_rpn_cls: 0.0953, loss_rpn_bbox: 0.0594, loss_cls: 0.3890, acc: 89.4248, loss_bbox: 0.3320, loss: 0.8757, grad_norm: 2.3127\n",
      "2021-04-15 14:55:03,849 - mmdet - INFO - Epoch [3][400/655]\tlr: 2.000e-02, eta: 0:21:09, time: 0.204, data_time: 0.006, memory: 2097, loss_rpn_cls: 0.0939, loss_rpn_bbox: 0.0698, loss_cls: 0.4038, acc: 88.5713, loss_bbox: 0.3734, loss: 0.9409, grad_norm: 2.0885\n",
      "2021-04-15 14:55:13,937 - mmdet - INFO - Epoch [3][450/655]\tlr: 2.000e-02, eta: 0:20:58, time: 0.202, data_time: 0.005, memory: 2097, loss_rpn_cls: 0.0935, loss_rpn_bbox: 0.0646, loss_cls: 0.3899, acc: 88.9189, loss_bbox: 0.3502, loss: 0.8982, grad_norm: 2.0512\n",
      "2021-04-15 14:55:24,045 - mmdet - INFO - Epoch [3][500/655]\tlr: 2.000e-02, eta: 0:20:47, time: 0.202, data_time: 0.005, memory: 2097, loss_rpn_cls: 0.0846, loss_rpn_bbox: 0.0584, loss_cls: 0.3965, acc: 89.1562, loss_bbox: 0.3444, loss: 0.8839, grad_norm: 2.1400\n",
      "2021-04-15 14:55:34,227 - mmdet - INFO - Epoch [3][550/655]\tlr: 2.000e-02, eta: 0:20:36, time: 0.204, data_time: 0.005, memory: 2097, loss_rpn_cls: 0.0889, loss_rpn_bbox: 0.0633, loss_cls: 0.4037, acc: 88.8086, loss_bbox: 0.3526, loss: 0.9085, grad_norm: 2.1011\n",
      "2021-04-15 14:55:44,404 - mmdet - INFO - Epoch [3][600/655]\tlr: 2.000e-02, eta: 0:20:26, time: 0.204, data_time: 0.005, memory: 2097, loss_rpn_cls: 0.0884, loss_rpn_bbox: 0.0571, loss_cls: 0.3851, acc: 89.5615, loss_bbox: 0.3232, loss: 0.8538, grad_norm: 2.0852\n",
      "2021-04-15 14:55:54,678 - mmdet - INFO - Epoch [3][650/655]\tlr: 2.000e-02, eta: 0:20:15, time: 0.205, data_time: 0.006, memory: 2097, loss_rpn_cls: 0.0867, loss_rpn_bbox: 0.0608, loss_cls: 0.3808, acc: 89.4707, loss_bbox: 0.3320, loss: 0.8604, grad_norm: 1.9509\n",
      "2021-04-15 14:55:55,732 - mmdet - INFO - Saving checkpoint at 3 epochs\n"
     ]
    },
    {
     "name": "stdout",
     "output_type": "stream",
     "text": [
      "[>>>>>>>>>>>>>>>>>>>>>>>>>>>>>] 655/655, 30.3 task/s, elapsed: 22s, ETA:     0s"
     ]
    },
    {
     "name": "stderr",
     "output_type": "stream",
     "text": [
      "2021-04-15 14:56:20,161 - mmdet - INFO - Evaluating bbox...\n"
     ]
    },
    {
     "name": "stdout",
     "output_type": "stream",
     "text": [
      "Loading and preparing results...\n",
      "DONE (t=0.60s)\n",
      "creating index...\n",
      "index created!\n",
      "Running per image evaluation...\n",
      "Evaluate annotation type *bbox*\n",
      "DONE (t=5.85s).\n",
      "Accumulating evaluation results...\n"
     ]
    },
    {
     "name": "stderr",
     "output_type": "stream",
     "text": [
      "2021-04-15 14:56:27,713 - mmdet - INFO - Epoch(val) [3][655]\tbbox_mAP: 0.0740, bbox_mAP_50: 0.1520, bbox_mAP_75: 0.0660, bbox_mAP_s: 0.0180, bbox_mAP_m: 0.0820, bbox_mAP_l: 0.1360, bbox_mAP_copypaste: 0.074 0.152 0.066 0.018 0.082 0.136\n"
     ]
    },
    {
     "name": "stdout",
     "output_type": "stream",
     "text": [
      "DONE (t=1.00s).\n",
      "Average Precision  (AP) @[ IoU=0.50:0.95 | area=   all | maxDets=100 ] = 0.074\n",
      "Average Precision  (AP) @[ IoU=0.50      | area=   all | maxDets=1000 ] = 0.152\n",
      "Average Precision  (AP) @[ IoU=0.75      | area=   all | maxDets=1000 ] = 0.066\n",
      "Average Precision  (AP) @[ IoU=0.50:0.95 | area= small | maxDets=1000 ] = 0.018\n",
      "Average Precision  (AP) @[ IoU=0.50:0.95 | area=medium | maxDets=1000 ] = 0.082\n",
      "Average Precision  (AP) @[ IoU=0.50:0.95 | area= large | maxDets=1000 ] = 0.136\n",
      "Average Recall     (AR) @[ IoU=0.50:0.95 | area=   all | maxDets=100 ] = 0.199\n",
      "Average Recall     (AR) @[ IoU=0.50:0.95 | area=   all | maxDets=300 ] = 0.199\n",
      "Average Recall     (AR) @[ IoU=0.50:0.95 | area=   all | maxDets=1000 ] = 0.199\n",
      "Average Recall     (AR) @[ IoU=0.50:0.95 | area= small | maxDets=1000 ] = 0.048\n",
      "Average Recall     (AR) @[ IoU=0.50:0.95 | area=medium | maxDets=1000 ] = 0.191\n",
      "Average Recall     (AR) @[ IoU=0.50:0.95 | area= large | maxDets=1000 ] = 0.378\n"
     ]
    },
    {
     "name": "stderr",
     "output_type": "stream",
     "text": [
      "2021-04-15 14:56:39,924 - mmdet - INFO - Epoch [4][50/655]\tlr: 2.000e-02, eta: 0:20:06, time: 0.244, data_time: 0.049, memory: 2097, loss_rpn_cls: 0.0752, loss_rpn_bbox: 0.0612, loss_cls: 0.3517, acc: 89.7236, loss_bbox: 0.3287, loss: 0.8167, grad_norm: 1.9379\n",
      "2021-04-15 14:56:50,109 - mmdet - INFO - Epoch [4][100/655]\tlr: 2.000e-02, eta: 0:19:56, time: 0.204, data_time: 0.005, memory: 2097, loss_rpn_cls: 0.0967, loss_rpn_bbox: 0.0629, loss_cls: 0.3983, acc: 89.0488, loss_bbox: 0.3361, loss: 0.8940, grad_norm: 2.2299\n",
      "2021-04-15 14:57:00,743 - mmdet - INFO - Epoch [4][150/655]\tlr: 2.000e-02, eta: 0:19:46, time: 0.213, data_time: 0.006, memory: 2097, loss_rpn_cls: 0.0749, loss_rpn_bbox: 0.0571, loss_cls: 0.3408, acc: 90.1006, loss_bbox: 0.3036, loss: 0.7764, grad_norm: 1.9943\n",
      "2021-04-15 14:57:11,483 - mmdet - INFO - Epoch [4][200/655]\tlr: 2.000e-02, eta: 0:19:37, time: 0.215, data_time: 0.006, memory: 2097, loss_rpn_cls: 0.0714, loss_rpn_bbox: 0.0611, loss_cls: 0.3799, acc: 89.0361, loss_bbox: 0.3502, loss: 0.8627, grad_norm: 2.0889\n",
      "2021-04-15 14:57:22,180 - mmdet - INFO - Epoch [4][250/655]\tlr: 2.000e-02, eta: 0:19:28, time: 0.214, data_time: 0.006, memory: 2097, loss_rpn_cls: 0.0824, loss_rpn_bbox: 0.0650, loss_cls: 0.3850, acc: 88.8516, loss_bbox: 0.3491, loss: 0.8815, grad_norm: 2.1355\n",
      "2021-04-15 14:57:32,313 - mmdet - INFO - Epoch [4][300/655]\tlr: 2.000e-02, eta: 0:19:17, time: 0.203, data_time: 0.005, memory: 2097, loss_rpn_cls: 0.0763, loss_rpn_bbox: 0.0631, loss_cls: 0.3993, acc: 88.4619, loss_bbox: 0.3715, loss: 0.9101, grad_norm: 2.1295\n",
      "2021-04-15 14:57:42,463 - mmdet - INFO - Epoch [4][350/655]\tlr: 2.000e-02, eta: 0:19:06, time: 0.203, data_time: 0.005, memory: 2097, loss_rpn_cls: 0.0757, loss_rpn_bbox: 0.0650, loss_cls: 0.3603, acc: 89.7031, loss_bbox: 0.3332, loss: 0.8342, grad_norm: 1.9935\n",
      "2021-04-15 14:57:52,536 - mmdet - INFO - Epoch [4][400/655]\tlr: 2.000e-02, eta: 0:18:55, time: 0.201, data_time: 0.005, memory: 2097, loss_rpn_cls: 0.0829, loss_rpn_bbox: 0.0618, loss_cls: 0.3599, acc: 89.9229, loss_bbox: 0.3183, loss: 0.8229, grad_norm: 2.0569\n",
      "2021-04-15 14:58:02,614 - mmdet - INFO - Epoch [4][450/655]\tlr: 2.000e-02, eta: 0:18:44, time: 0.202, data_time: 0.005, memory: 2097, loss_rpn_cls: 0.0771, loss_rpn_bbox: 0.0581, loss_cls: 0.3654, acc: 89.7275, loss_bbox: 0.3199, loss: 0.8204, grad_norm: 2.1648\n",
      "2021-04-15 14:58:12,714 - mmdet - INFO - Epoch [4][500/655]\tlr: 2.000e-02, eta: 0:18:33, time: 0.202, data_time: 0.006, memory: 2097, loss_rpn_cls: 0.0748, loss_rpn_bbox: 0.0582, loss_cls: 0.3861, acc: 88.7676, loss_bbox: 0.3590, loss: 0.8782, grad_norm: 2.2039\n",
      "2021-04-15 14:58:22,972 - mmdet - INFO - Epoch [4][550/655]\tlr: 2.000e-02, eta: 0:18:23, time: 0.205, data_time: 0.006, memory: 2097, loss_rpn_cls: 0.0837, loss_rpn_bbox: 0.0591, loss_cls: 0.3830, acc: 88.9004, loss_bbox: 0.3451, loss: 0.8709, grad_norm: 2.0437\n",
      "2021-04-15 14:58:33,033 - mmdet - INFO - Epoch [4][600/655]\tlr: 2.000e-02, eta: 0:18:12, time: 0.201, data_time: 0.005, memory: 2097, loss_rpn_cls: 0.0832, loss_rpn_bbox: 0.0593, loss_cls: 0.3704, acc: 89.1396, loss_bbox: 0.3354, loss: 0.8482, grad_norm: 2.0641\n",
      "2021-04-15 14:58:43,139 - mmdet - INFO - Epoch [4][650/655]\tlr: 2.000e-02, eta: 0:18:01, time: 0.202, data_time: 0.005, memory: 2097, loss_rpn_cls: 0.0805, loss_rpn_bbox: 0.0647, loss_cls: 0.3719, acc: 89.1768, loss_bbox: 0.3396, loss: 0.8568, grad_norm: 2.1459\n",
      "2021-04-15 14:58:44,253 - mmdet - INFO - Saving checkpoint at 4 epochs\n"
     ]
    },
    {
     "name": "stdout",
     "output_type": "stream",
     "text": [
      "[>>>>>>>>>>>>>>>>>>>>>>>>>>>>>] 655/655, 32.3 task/s, elapsed: 20s, ETA:     0s"
     ]
    },
    {
     "name": "stderr",
     "output_type": "stream",
     "text": [
      "2021-04-15 14:59:07,411 - mmdet - INFO - Evaluating bbox...\n"
     ]
    },
    {
     "name": "stdout",
     "output_type": "stream",
     "text": [
      "Loading and preparing results...\n",
      "DONE (t=0.60s)\n",
      "creating index...\n",
      "index created!\n",
      "Running per image evaluation...\n",
      "Evaluate annotation type *bbox*\n",
      "DONE (t=6.44s).\n",
      "Accumulating evaluation results...\n"
     ]
    },
    {
     "name": "stderr",
     "output_type": "stream",
     "text": [
      "2021-04-15 14:59:15,635 - mmdet - INFO - Epoch(val) [4][655]\tbbox_mAP: 0.0880, bbox_mAP_50: 0.1750, bbox_mAP_75: 0.0810, bbox_mAP_s: 0.0230, bbox_mAP_m: 0.0980, bbox_mAP_l: 0.1670, bbox_mAP_copypaste: 0.088 0.175 0.081 0.023 0.098 0.167\n"
     ]
    },
    {
     "name": "stdout",
     "output_type": "stream",
     "text": [
      "DONE (t=1.09s).\n",
      "Average Precision  (AP) @[ IoU=0.50:0.95 | area=   all | maxDets=100 ] = 0.088\n",
      "Average Precision  (AP) @[ IoU=0.50      | area=   all | maxDets=1000 ] = 0.175\n",
      "Average Precision  (AP) @[ IoU=0.75      | area=   all | maxDets=1000 ] = 0.081\n",
      "Average Precision  (AP) @[ IoU=0.50:0.95 | area= small | maxDets=1000 ] = 0.023\n",
      "Average Precision  (AP) @[ IoU=0.50:0.95 | area=medium | maxDets=1000 ] = 0.098\n",
      "Average Precision  (AP) @[ IoU=0.50:0.95 | area= large | maxDets=1000 ] = 0.167\n",
      "Average Recall     (AR) @[ IoU=0.50:0.95 | area=   all | maxDets=100 ] = 0.221\n",
      "Average Recall     (AR) @[ IoU=0.50:0.95 | area=   all | maxDets=300 ] = 0.221\n",
      "Average Recall     (AR) @[ IoU=0.50:0.95 | area=   all | maxDets=1000 ] = 0.221\n",
      "Average Recall     (AR) @[ IoU=0.50:0.95 | area= small | maxDets=1000 ] = 0.069\n",
      "Average Recall     (AR) @[ IoU=0.50:0.95 | area=medium | maxDets=1000 ] = 0.222\n",
      "Average Recall     (AR) @[ IoU=0.50:0.95 | area= large | maxDets=1000 ] = 0.386\n"
     ]
    },
    {
     "name": "stderr",
     "output_type": "stream",
     "text": [
      "2021-04-15 14:59:27,992 - mmdet - INFO - Epoch [5][50/655]\tlr: 2.000e-02, eta: 0:17:52, time: 0.247, data_time: 0.050, memory: 2097, loss_rpn_cls: 0.0719, loss_rpn_bbox: 0.0528, loss_cls: 0.3341, acc: 90.2021, loss_bbox: 0.3035, loss: 0.7623, grad_norm: 2.1045\n",
      "2021-04-15 14:59:38,150 - mmdet - INFO - Epoch [5][100/655]\tlr: 2.000e-02, eta: 0:17:41, time: 0.203, data_time: 0.005, memory: 2097, loss_rpn_cls: 0.0667, loss_rpn_bbox: 0.0569, loss_cls: 0.3516, acc: 89.5303, loss_bbox: 0.3170, loss: 0.7921, grad_norm: 2.0618\n",
      "2021-04-15 14:59:48,291 - mmdet - INFO - Epoch [5][150/655]\tlr: 2.000e-02, eta: 0:17:30, time: 0.203, data_time: 0.005, memory: 2097, loss_rpn_cls: 0.0664, loss_rpn_bbox: 0.0463, loss_cls: 0.3291, acc: 90.3535, loss_bbox: 0.3084, loss: 0.7501, grad_norm: 2.2081\n",
      "2021-04-15 14:59:58,490 - mmdet - INFO - Epoch [5][200/655]\tlr: 2.000e-02, eta: 0:17:20, time: 0.204, data_time: 0.005, memory: 2097, loss_rpn_cls: 0.0717, loss_rpn_bbox: 0.0638, loss_cls: 0.3520, acc: 89.8311, loss_bbox: 0.3180, loss: 0.8054, grad_norm: 2.2117\n",
      "2021-04-15 15:00:08,715 - mmdet - INFO - Epoch [5][250/655]\tlr: 2.000e-02, eta: 0:17:09, time: 0.204, data_time: 0.005, memory: 2097, loss_rpn_cls: 0.0751, loss_rpn_bbox: 0.0617, loss_cls: 0.3843, acc: 88.5859, loss_bbox: 0.3531, loss: 0.8742, grad_norm: 2.2793\n",
      "2021-04-15 15:00:18,913 - mmdet - INFO - Epoch [5][300/655]\tlr: 2.000e-02, eta: 0:16:59, time: 0.204, data_time: 0.005, memory: 2097, loss_rpn_cls: 0.0827, loss_rpn_bbox: 0.0671, loss_cls: 0.3735, acc: 89.1484, loss_bbox: 0.3405, loss: 0.8638, grad_norm: 2.1363\n",
      "2021-04-15 15:00:29,189 - mmdet - INFO - Epoch [5][350/655]\tlr: 2.000e-02, eta: 0:16:49, time: 0.206, data_time: 0.005, memory: 2097, loss_rpn_cls: 0.0768, loss_rpn_bbox: 0.0575, loss_cls: 0.3663, acc: 89.4658, loss_bbox: 0.3341, loss: 0.8346, grad_norm: 2.1068\n",
      "2021-04-15 15:00:39,383 - mmdet - INFO - Epoch [5][400/655]\tlr: 2.000e-02, eta: 0:16:38, time: 0.204, data_time: 0.005, memory: 2097, loss_rpn_cls: 0.0704, loss_rpn_bbox: 0.0595, loss_cls: 0.3690, acc: 89.0439, loss_bbox: 0.3396, loss: 0.8385, grad_norm: 2.1728\n",
      "2021-04-15 15:00:49,488 - mmdet - INFO - Epoch [5][450/655]\tlr: 2.000e-02, eta: 0:16:27, time: 0.202, data_time: 0.005, memory: 2097, loss_rpn_cls: 0.0666, loss_rpn_bbox: 0.0524, loss_cls: 0.3637, acc: 89.5576, loss_bbox: 0.3260, loss: 0.8088, grad_norm: 2.1037\n",
      "2021-04-15 15:00:59,473 - mmdet - INFO - Epoch [5][500/655]\tlr: 2.000e-02, eta: 0:16:17, time: 0.200, data_time: 0.005, memory: 2097, loss_rpn_cls: 0.0721, loss_rpn_bbox: 0.0579, loss_cls: 0.3651, acc: 89.7861, loss_bbox: 0.3256, loss: 0.8208, grad_norm: 2.1228\n",
      "2021-04-15 15:01:09,590 - mmdet - INFO - Epoch [5][550/655]\tlr: 2.000e-02, eta: 0:16:06, time: 0.202, data_time: 0.005, memory: 2097, loss_rpn_cls: 0.0733, loss_rpn_bbox: 0.0591, loss_cls: 0.3641, acc: 89.3174, loss_bbox: 0.3325, loss: 0.8290, grad_norm: 2.1209\n",
      "2021-04-15 15:01:19,699 - mmdet - INFO - Epoch [5][600/655]\tlr: 2.000e-02, eta: 0:15:55, time: 0.202, data_time: 0.005, memory: 2097, loss_rpn_cls: 0.0677, loss_rpn_bbox: 0.0647, loss_cls: 0.3634, acc: 89.4316, loss_bbox: 0.3264, loss: 0.8222, grad_norm: 2.0318\n",
      "2021-04-15 15:01:29,788 - mmdet - INFO - Epoch [5][650/655]\tlr: 2.000e-02, eta: 0:15:45, time: 0.202, data_time: 0.005, memory: 2097, loss_rpn_cls: 0.0710, loss_rpn_bbox: 0.0568, loss_cls: 0.3705, acc: 89.1709, loss_bbox: 0.3334, loss: 0.8317, grad_norm: 2.1889\n",
      "2021-04-15 15:01:30,849 - mmdet - INFO - Saving checkpoint at 5 epochs\n"
     ]
    },
    {
     "name": "stdout",
     "output_type": "stream",
     "text": [
      "[>>>>>>>>>>>>>>>>>>>>>>>>>>>>>] 655/655, 32.4 task/s, elapsed: 20s, ETA:     0s"
     ]
    },
    {
     "name": "stderr",
     "output_type": "stream",
     "text": [
      "2021-04-15 15:01:53,962 - mmdet - INFO - Evaluating bbox...\n"
     ]
    },
    {
     "name": "stdout",
     "output_type": "stream",
     "text": [
      "Loading and preparing results...\n",
      "DONE (t=0.56s)\n",
      "creating index...\n",
      "index created!\n",
      "Running per image evaluation...\n",
      "Evaluate annotation type *bbox*\n",
      "DONE (t=6.04s).\n",
      "Accumulating evaluation results...\n"
     ]
    },
    {
     "name": "stderr",
     "output_type": "stream",
     "text": [
      "2021-04-15 15:02:01,644 - mmdet - INFO - Epoch(val) [5][655]\tbbox_mAP: 0.0920, bbox_mAP_50: 0.1770, bbox_mAP_75: 0.0880, bbox_mAP_s: 0.0230, bbox_mAP_m: 0.1000, bbox_mAP_l: 0.1710, bbox_mAP_copypaste: 0.092 0.177 0.088 0.023 0.100 0.171\n"
     ]
    },
    {
     "name": "stdout",
     "output_type": "stream",
     "text": [
      "DONE (t=1.00s).\n",
      "Average Precision  (AP) @[ IoU=0.50:0.95 | area=   all | maxDets=100 ] = 0.092\n",
      "Average Precision  (AP) @[ IoU=0.50      | area=   all | maxDets=1000 ] = 0.177\n",
      "Average Precision  (AP) @[ IoU=0.75      | area=   all | maxDets=1000 ] = 0.088\n",
      "Average Precision  (AP) @[ IoU=0.50:0.95 | area= small | maxDets=1000 ] = 0.023\n",
      "Average Precision  (AP) @[ IoU=0.50:0.95 | area=medium | maxDets=1000 ] = 0.100\n",
      "Average Precision  (AP) @[ IoU=0.50:0.95 | area= large | maxDets=1000 ] = 0.171\n",
      "Average Recall     (AR) @[ IoU=0.50:0.95 | area=   all | maxDets=100 ] = 0.217\n",
      "Average Recall     (AR) @[ IoU=0.50:0.95 | area=   all | maxDets=300 ] = 0.217\n",
      "Average Recall     (AR) @[ IoU=0.50:0.95 | area=   all | maxDets=1000 ] = 0.217\n",
      "Average Recall     (AR) @[ IoU=0.50:0.95 | area= small | maxDets=1000 ] = 0.064\n",
      "Average Recall     (AR) @[ IoU=0.50:0.95 | area=medium | maxDets=1000 ] = 0.217\n",
      "Average Recall     (AR) @[ IoU=0.50:0.95 | area= large | maxDets=1000 ] = 0.390\n"
     ]
    },
    {
     "name": "stderr",
     "output_type": "stream",
     "text": [
      "2021-04-15 15:02:13,970 - mmdet - INFO - Epoch [6][50/655]\tlr: 2.000e-02, eta: 0:15:35, time: 0.246, data_time: 0.050, memory: 2097, loss_rpn_cls: 0.0580, loss_rpn_bbox: 0.0477, loss_cls: 0.3069, acc: 90.7910, loss_bbox: 0.2875, loss: 0.7001, grad_norm: 1.9313\n",
      "2021-04-15 15:02:24,094 - mmdet - INFO - Epoch [6][100/655]\tlr: 2.000e-02, eta: 0:15:24, time: 0.202, data_time: 0.006, memory: 2097, loss_rpn_cls: 0.0777, loss_rpn_bbox: 0.0652, loss_cls: 0.3563, acc: 89.4033, loss_bbox: 0.3387, loss: 0.8379, grad_norm: 2.3864\n",
      "2021-04-15 15:02:34,213 - mmdet - INFO - Epoch [6][150/655]\tlr: 2.000e-02, eta: 0:15:14, time: 0.202, data_time: 0.005, memory: 2097, loss_rpn_cls: 0.0775, loss_rpn_bbox: 0.0631, loss_cls: 0.3443, acc: 89.6436, loss_bbox: 0.3249, loss: 0.8098, grad_norm: 2.2170\n",
      "2021-04-15 15:02:44,355 - mmdet - INFO - Epoch [6][200/655]\tlr: 2.000e-02, eta: 0:15:03, time: 0.203, data_time: 0.005, memory: 2097, loss_rpn_cls: 0.0703, loss_rpn_bbox: 0.0582, loss_cls: 0.3343, acc: 90.1338, loss_bbox: 0.3160, loss: 0.7788, grad_norm: 2.1381\n",
      "2021-04-15 15:02:54,484 - mmdet - INFO - Epoch [6][250/655]\tlr: 2.000e-02, eta: 0:14:53, time: 0.203, data_time: 0.005, memory: 2097, loss_rpn_cls: 0.0639, loss_rpn_bbox: 0.0555, loss_cls: 0.3428, acc: 89.6885, loss_bbox: 0.3150, loss: 0.7772, grad_norm: 2.1754\n",
      "2021-04-15 15:03:04,536 - mmdet - INFO - Epoch [6][300/655]\tlr: 2.000e-02, eta: 0:14:42, time: 0.201, data_time: 0.005, memory: 2097, loss_rpn_cls: 0.0574, loss_rpn_bbox: 0.0508, loss_cls: 0.3380, acc: 90.1182, loss_bbox: 0.2961, loss: 0.7423, grad_norm: 2.0899\n",
      "2021-04-15 15:03:14,590 - mmdet - INFO - Epoch [6][350/655]\tlr: 2.000e-02, eta: 0:14:31, time: 0.201, data_time: 0.005, memory: 2097, loss_rpn_cls: 0.0618, loss_rpn_bbox: 0.0568, loss_cls: 0.3649, acc: 89.3984, loss_bbox: 0.3249, loss: 0.8083, grad_norm: 2.2337\n",
      "2021-04-15 15:03:24,714 - mmdet - INFO - Epoch [6][400/655]\tlr: 2.000e-02, eta: 0:14:21, time: 0.202, data_time: 0.005, memory: 2097, loss_rpn_cls: 0.0637, loss_rpn_bbox: 0.0546, loss_cls: 0.3364, acc: 90.1445, loss_bbox: 0.3117, loss: 0.7664, grad_norm: 2.1049\n",
      "2021-04-15 15:03:34,821 - mmdet - INFO - Epoch [6][450/655]\tlr: 2.000e-02, eta: 0:14:10, time: 0.202, data_time: 0.006, memory: 2097, loss_rpn_cls: 0.0605, loss_rpn_bbox: 0.0540, loss_cls: 0.3410, acc: 89.9980, loss_bbox: 0.3120, loss: 0.7674, grad_norm: 2.2143\n",
      "2021-04-15 15:03:44,973 - mmdet - INFO - Epoch [6][500/655]\tlr: 2.000e-02, eta: 0:14:00, time: 0.203, data_time: 0.006, memory: 2097, loss_rpn_cls: 0.0706, loss_rpn_bbox: 0.0600, loss_cls: 0.3448, acc: 89.8262, loss_bbox: 0.3210, loss: 0.7964, grad_norm: 2.2097\n",
      "2021-04-15 15:03:55,159 - mmdet - INFO - Epoch [6][550/655]\tlr: 2.000e-02, eta: 0:13:50, time: 0.204, data_time: 0.006, memory: 2097, loss_rpn_cls: 0.0793, loss_rpn_bbox: 0.0619, loss_cls: 0.3701, acc: 88.9697, loss_bbox: 0.3397, loss: 0.8511, grad_norm: 2.2708\n",
      "2021-04-15 15:04:05,250 - mmdet - INFO - Epoch [6][600/655]\tlr: 2.000e-02, eta: 0:13:39, time: 0.202, data_time: 0.005, memory: 2097, loss_rpn_cls: 0.0784, loss_rpn_bbox: 0.0575, loss_cls: 0.3671, acc: 89.7314, loss_bbox: 0.3104, loss: 0.8134, grad_norm: 2.3233\n",
      "2021-04-15 15:04:15,326 - mmdet - INFO - Epoch [6][650/655]\tlr: 2.000e-02, eta: 0:13:29, time: 0.202, data_time: 0.005, memory: 2097, loss_rpn_cls: 0.0671, loss_rpn_bbox: 0.0540, loss_cls: 0.3495, acc: 89.4971, loss_bbox: 0.3298, loss: 0.8004, grad_norm: 2.0135\n",
      "2021-04-15 15:04:16,416 - mmdet - INFO - Saving checkpoint at 6 epochs\n"
     ]
    },
    {
     "name": "stdout",
     "output_type": "stream",
     "text": [
      "[>>>>>>>>>>>>>>>>>>>>>>>>>>>>>] 655/655, 31.7 task/s, elapsed: 21s, ETA:     0s"
     ]
    },
    {
     "name": "stderr",
     "output_type": "stream",
     "text": [
      "2021-04-15 15:04:40,470 - mmdet - INFO - Evaluating bbox...\n"
     ]
    },
    {
     "name": "stdout",
     "output_type": "stream",
     "text": [
      "Loading and preparing results...\n",
      "DONE (t=0.59s)\n",
      "creating index...\n",
      "index created!\n",
      "Running per image evaluation...\n",
      "Evaluate annotation type *bbox*\n",
      "DONE (t=6.80s).\n",
      "Accumulating evaluation results...\n"
     ]
    },
    {
     "name": "stderr",
     "output_type": "stream",
     "text": [
      "2021-04-15 15:04:49,084 - mmdet - INFO - Epoch(val) [6][655]\tbbox_mAP: 0.1090, bbox_mAP_50: 0.1990, bbox_mAP_75: 0.1070, bbox_mAP_s: 0.0210, bbox_mAP_m: 0.1030, bbox_mAP_l: 0.2090, bbox_mAP_copypaste: 0.109 0.199 0.107 0.021 0.103 0.209\n"
     ]
    },
    {
     "name": "stdout",
     "output_type": "stream",
     "text": [
      "DONE (t=1.13s).\n",
      "Average Precision  (AP) @[ IoU=0.50:0.95 | area=   all | maxDets=100 ] = 0.109\n",
      "Average Precision  (AP) @[ IoU=0.50      | area=   all | maxDets=1000 ] = 0.199\n",
      "Average Precision  (AP) @[ IoU=0.75      | area=   all | maxDets=1000 ] = 0.107\n",
      "Average Precision  (AP) @[ IoU=0.50:0.95 | area= small | maxDets=1000 ] = 0.021\n",
      "Average Precision  (AP) @[ IoU=0.50:0.95 | area=medium | maxDets=1000 ] = 0.103\n",
      "Average Precision  (AP) @[ IoU=0.50:0.95 | area= large | maxDets=1000 ] = 0.209\n",
      "Average Recall     (AR) @[ IoU=0.50:0.95 | area=   all | maxDets=100 ] = 0.221\n",
      "Average Recall     (AR) @[ IoU=0.50:0.95 | area=   all | maxDets=300 ] = 0.221\n",
      "Average Recall     (AR) @[ IoU=0.50:0.95 | area=   all | maxDets=1000 ] = 0.221\n",
      "Average Recall     (AR) @[ IoU=0.50:0.95 | area= small | maxDets=1000 ] = 0.073\n",
      "Average Recall     (AR) @[ IoU=0.50:0.95 | area=medium | maxDets=1000 ] = 0.204\n",
      "Average Recall     (AR) @[ IoU=0.50:0.95 | area= large | maxDets=1000 ] = 0.387\n"
     ]
    },
    {
     "name": "stderr",
     "output_type": "stream",
     "text": [
      "2021-04-15 15:05:01,507 - mmdet - INFO - Epoch [7][50/655]\tlr: 2.000e-02, eta: 0:13:18, time: 0.248, data_time: 0.050, memory: 2097, loss_rpn_cls: 0.0588, loss_rpn_bbox: 0.0621, loss_cls: 0.3600, acc: 89.1396, loss_bbox: 0.3452, loss: 0.8261, grad_norm: 2.1759\n",
      "2021-04-15 15:05:11,690 - mmdet - INFO - Epoch [7][100/655]\tlr: 2.000e-02, eta: 0:13:08, time: 0.204, data_time: 0.006, memory: 2097, loss_rpn_cls: 0.0541, loss_rpn_bbox: 0.0539, loss_cls: 0.3273, acc: 89.9873, loss_bbox: 0.3140, loss: 0.7493, grad_norm: 2.1558\n",
      "2021-04-15 15:05:21,840 - mmdet - INFO - Epoch [7][150/655]\tlr: 2.000e-02, eta: 0:12:58, time: 0.203, data_time: 0.006, memory: 2097, loss_rpn_cls: 0.0527, loss_rpn_bbox: 0.0469, loss_cls: 0.3284, acc: 90.1045, loss_bbox: 0.3059, loss: 0.7340, grad_norm: 2.2236\n",
      "2021-04-15 15:05:32,367 - mmdet - INFO - Epoch [7][200/655]\tlr: 2.000e-02, eta: 0:12:48, time: 0.211, data_time: 0.006, memory: 2097, loss_rpn_cls: 0.0574, loss_rpn_bbox: 0.0500, loss_cls: 0.3195, acc: 90.6074, loss_bbox: 0.2900, loss: 0.7170, grad_norm: 2.1504\n",
      "2021-04-15 15:05:42,404 - mmdet - INFO - Epoch [7][250/655]\tlr: 2.000e-02, eta: 0:12:37, time: 0.201, data_time: 0.005, memory: 2097, loss_rpn_cls: 0.0525, loss_rpn_bbox: 0.0485, loss_cls: 0.3089, acc: 90.6904, loss_bbox: 0.2894, loss: 0.6993, grad_norm: 2.1817\n",
      "2021-04-15 15:05:52,450 - mmdet - INFO - Epoch [7][300/655]\tlr: 2.000e-02, eta: 0:12:27, time: 0.201, data_time: 0.005, memory: 2097, loss_rpn_cls: 0.0542, loss_rpn_bbox: 0.0503, loss_cls: 0.3332, acc: 89.9082, loss_bbox: 0.3202, loss: 0.7580, grad_norm: 2.2202\n",
      "2021-04-15 15:06:02,475 - mmdet - INFO - Epoch [7][350/655]\tlr: 2.000e-02, eta: 0:12:16, time: 0.200, data_time: 0.005, memory: 2097, loss_rpn_cls: 0.0634, loss_rpn_bbox: 0.0585, loss_cls: 0.3286, acc: 89.9990, loss_bbox: 0.3167, loss: 0.7672, grad_norm: 2.2020\n",
      "2021-04-15 15:06:12,535 - mmdet - INFO - Epoch [7][400/655]\tlr: 2.000e-02, eta: 0:12:06, time: 0.201, data_time: 0.005, memory: 2097, loss_rpn_cls: 0.0682, loss_rpn_bbox: 0.0622, loss_cls: 0.3737, acc: 88.8643, loss_bbox: 0.3423, loss: 0.8464, grad_norm: 2.2915\n",
      "2021-04-15 15:06:22,656 - mmdet - INFO - Epoch [7][450/655]\tlr: 2.000e-02, eta: 0:11:55, time: 0.202, data_time: 0.006, memory: 2097, loss_rpn_cls: 0.0724, loss_rpn_bbox: 0.0579, loss_cls: 0.3304, acc: 90.1299, loss_bbox: 0.3062, loss: 0.7668, grad_norm: 2.2027\n",
      "2021-04-15 15:06:32,925 - mmdet - INFO - Epoch [7][500/655]\tlr: 2.000e-02, eta: 0:11:45, time: 0.205, data_time: 0.006, memory: 2097, loss_rpn_cls: 0.0691, loss_rpn_bbox: 0.0614, loss_cls: 0.3571, acc: 89.2773, loss_bbox: 0.3307, loss: 0.8183, grad_norm: 2.1767\n",
      "2021-04-15 15:06:43,037 - mmdet - INFO - Epoch [7][550/655]\tlr: 2.000e-02, eta: 0:11:34, time: 0.202, data_time: 0.005, memory: 2097, loss_rpn_cls: 0.0616, loss_rpn_bbox: 0.0536, loss_cls: 0.3233, acc: 90.4932, loss_bbox: 0.2983, loss: 0.7367, grad_norm: 2.1938\n",
      "2021-04-15 15:06:53,129 - mmdet - INFO - Epoch [7][600/655]\tlr: 2.000e-02, eta: 0:11:24, time: 0.202, data_time: 0.005, memory: 2097, loss_rpn_cls: 0.0576, loss_rpn_bbox: 0.0504, loss_cls: 0.3180, acc: 90.4258, loss_bbox: 0.2822, loss: 0.7081, grad_norm: 2.1084\n",
      "2021-04-15 15:07:03,267 - mmdet - INFO - Epoch [7][650/655]\tlr: 2.000e-02, eta: 0:11:14, time: 0.203, data_time: 0.005, memory: 2097, loss_rpn_cls: 0.0576, loss_rpn_bbox: 0.0626, loss_cls: 0.3369, acc: 90.0996, loss_bbox: 0.3195, loss: 0.7765, grad_norm: 2.1472\n",
      "2021-04-15 15:07:04,354 - mmdet - INFO - Saving checkpoint at 7 epochs\n"
     ]
    },
    {
     "name": "stdout",
     "output_type": "stream",
     "text": [
      "[>>>>>>>>>>>>>>>>>>>>>>>>>>>>>] 655/655, 31.0 task/s, elapsed: 21s, ETA:     0s"
     ]
    },
    {
     "name": "stderr",
     "output_type": "stream",
     "text": [
      "2021-04-15 15:07:28,368 - mmdet - INFO - Evaluating bbox...\n"
     ]
    },
    {
     "name": "stdout",
     "output_type": "stream",
     "text": [
      "Loading and preparing results...\n",
      "DONE (t=0.58s)\n",
      "creating index...\n",
      "index created!\n",
      "Running per image evaluation...\n",
      "Evaluate annotation type *bbox*\n",
      "DONE (t=6.91s).\n",
      "Accumulating evaluation results...\n"
     ]
    },
    {
     "name": "stderr",
     "output_type": "stream",
     "text": [
      "2021-04-15 15:07:37,020 - mmdet - INFO - Epoch(val) [7][655]\tbbox_mAP: 0.0960, bbox_mAP_50: 0.1820, bbox_mAP_75: 0.0900, bbox_mAP_s: 0.0260, bbox_mAP_m: 0.0930, bbox_mAP_l: 0.1940, bbox_mAP_copypaste: 0.096 0.182 0.090 0.026 0.093 0.194\n"
     ]
    },
    {
     "name": "stdout",
     "output_type": "stream",
     "text": [
      "DONE (t=1.06s).\n",
      "Average Precision  (AP) @[ IoU=0.50:0.95 | area=   all | maxDets=100 ] = 0.096\n",
      "Average Precision  (AP) @[ IoU=0.50      | area=   all | maxDets=1000 ] = 0.182\n",
      "Average Precision  (AP) @[ IoU=0.75      | area=   all | maxDets=1000 ] = 0.090\n",
      "Average Precision  (AP) @[ IoU=0.50:0.95 | area= small | maxDets=1000 ] = 0.026\n",
      "Average Precision  (AP) @[ IoU=0.50:0.95 | area=medium | maxDets=1000 ] = 0.093\n",
      "Average Precision  (AP) @[ IoU=0.50:0.95 | area= large | maxDets=1000 ] = 0.194\n",
      "Average Recall     (AR) @[ IoU=0.50:0.95 | area=   all | maxDets=100 ] = 0.238\n",
      "Average Recall     (AR) @[ IoU=0.50:0.95 | area=   all | maxDets=300 ] = 0.238\n",
      "Average Recall     (AR) @[ IoU=0.50:0.95 | area=   all | maxDets=1000 ] = 0.238\n",
      "Average Recall     (AR) @[ IoU=0.50:0.95 | area= small | maxDets=1000 ] = 0.089\n",
      "Average Recall     (AR) @[ IoU=0.50:0.95 | area=medium | maxDets=1000 ] = 0.235\n",
      "Average Recall     (AR) @[ IoU=0.50:0.95 | area= large | maxDets=1000 ] = 0.430\n"
     ]
    },
    {
     "name": "stderr",
     "output_type": "stream",
     "text": [
      "2021-04-15 15:07:49,398 - mmdet - INFO - Epoch [8][50/655]\tlr: 2.000e-02, eta: 0:11:03, time: 0.247, data_time: 0.050, memory: 2097, loss_rpn_cls: 0.0529, loss_rpn_bbox: 0.0549, loss_cls: 0.3325, acc: 89.9971, loss_bbox: 0.3194, loss: 0.7597, grad_norm: 2.1867\n",
      "2021-04-15 15:07:59,511 - mmdet - INFO - Epoch [8][100/655]\tlr: 2.000e-02, eta: 0:10:53, time: 0.202, data_time: 0.005, memory: 2097, loss_rpn_cls: 0.0534, loss_rpn_bbox: 0.0559, loss_cls: 0.3202, acc: 90.2041, loss_bbox: 0.3113, loss: 0.7408, grad_norm: 2.2029\n",
      "2021-04-15 15:08:09,665 - mmdet - INFO - Epoch [8][150/655]\tlr: 2.000e-02, eta: 0:10:42, time: 0.203, data_time: 0.005, memory: 2097, loss_rpn_cls: 0.0506, loss_rpn_bbox: 0.0493, loss_cls: 0.3260, acc: 90.0332, loss_bbox: 0.3067, loss: 0.7326, grad_norm: 2.1459\n",
      "2021-04-15 15:08:19,778 - mmdet - INFO - Epoch [8][200/655]\tlr: 2.000e-02, eta: 0:10:32, time: 0.202, data_time: 0.005, memory: 2097, loss_rpn_cls: 0.0483, loss_rpn_bbox: 0.0431, loss_cls: 0.2801, acc: 91.4023, loss_bbox: 0.2612, loss: 0.6326, grad_norm: 2.1741\n",
      "2021-04-15 15:08:30,018 - mmdet - INFO - Epoch [8][250/655]\tlr: 2.000e-02, eta: 0:10:22, time: 0.205, data_time: 0.005, memory: 2097, loss_rpn_cls: 0.0407, loss_rpn_bbox: 0.0520, loss_cls: 0.2845, acc: 91.3516, loss_bbox: 0.2610, loss: 0.6381, grad_norm: 1.9842\n",
      "2021-04-15 15:08:40,169 - mmdet - INFO - Epoch [8][300/655]\tlr: 2.000e-02, eta: 0:10:11, time: 0.203, data_time: 0.005, memory: 2097, loss_rpn_cls: 0.0477, loss_rpn_bbox: 0.0520, loss_cls: 0.3327, acc: 89.9971, loss_bbox: 0.3057, loss: 0.7380, grad_norm: 2.2333\n",
      "2021-04-15 15:08:50,350 - mmdet - INFO - Epoch [8][350/655]\tlr: 2.000e-02, eta: 0:10:01, time: 0.204, data_time: 0.005, memory: 2097, loss_rpn_cls: 0.0727, loss_rpn_bbox: 0.0626, loss_cls: 0.3638, acc: 89.2051, loss_bbox: 0.3296, loss: 0.8287, grad_norm: 2.3272\n",
      "2021-04-15 15:09:00,534 - mmdet - INFO - Epoch [8][400/655]\tlr: 2.000e-02, eta: 0:09:51, time: 0.204, data_time: 0.005, memory: 2097, loss_rpn_cls: 0.0617, loss_rpn_bbox: 0.0637, loss_cls: 0.3548, acc: 89.2119, loss_bbox: 0.3406, loss: 0.8208, grad_norm: 2.2541\n",
      "2021-04-15 15:09:10,686 - mmdet - INFO - Epoch [8][450/655]\tlr: 2.000e-02, eta: 0:09:40, time: 0.203, data_time: 0.005, memory: 2097, loss_rpn_cls: 0.0490, loss_rpn_bbox: 0.0535, loss_cls: 0.3006, acc: 90.7324, loss_bbox: 0.2978, loss: 0.7009, grad_norm: 2.0911\n",
      "2021-04-15 15:09:20,790 - mmdet - INFO - Epoch [8][500/655]\tlr: 2.000e-02, eta: 0:09:30, time: 0.202, data_time: 0.005, memory: 2097, loss_rpn_cls: 0.0534, loss_rpn_bbox: 0.0500, loss_cls: 0.3053, acc: 90.8447, loss_bbox: 0.2883, loss: 0.6971, grad_norm: 2.1647\n",
      "2021-04-15 15:09:30,929 - mmdet - INFO - Epoch [8][550/655]\tlr: 2.000e-02, eta: 0:09:19, time: 0.203, data_time: 0.005, memory: 2097, loss_rpn_cls: 0.0573, loss_rpn_bbox: 0.0528, loss_cls: 0.3122, acc: 90.7383, loss_bbox: 0.2868, loss: 0.7090, grad_norm: 2.2776\n",
      "2021-04-15 15:09:41,065 - mmdet - INFO - Epoch [8][600/655]\tlr: 2.000e-02, eta: 0:09:09, time: 0.203, data_time: 0.005, memory: 2097, loss_rpn_cls: 0.0609, loss_rpn_bbox: 0.0569, loss_cls: 0.3130, acc: 90.4727, loss_bbox: 0.3017, loss: 0.7325, grad_norm: 2.2087\n",
      "2021-04-15 15:09:51,162 - mmdet - INFO - Epoch [8][650/655]\tlr: 2.000e-02, eta: 0:08:59, time: 0.202, data_time: 0.005, memory: 2097, loss_rpn_cls: 0.0556, loss_rpn_bbox: 0.0563, loss_cls: 0.3403, acc: 89.8545, loss_bbox: 0.3165, loss: 0.7687, grad_norm: 2.2915\n",
      "2021-04-15 15:09:52,252 - mmdet - INFO - Saving checkpoint at 8 epochs\n"
     ]
    },
    {
     "name": "stdout",
     "output_type": "stream",
     "text": [
      "[>>>>>>>>>>>>>>>>>>>>>>>>>>>>>] 655/655, 32.6 task/s, elapsed: 20s, ETA:     0s"
     ]
    },
    {
     "name": "stderr",
     "output_type": "stream",
     "text": [
      "2021-04-15 15:10:15,861 - mmdet - INFO - Evaluating bbox...\n"
     ]
    },
    {
     "name": "stdout",
     "output_type": "stream",
     "text": [
      "Loading and preparing results...\n",
      "DONE (t=0.67s)\n",
      "creating index...\n",
      "index created!\n",
      "Running per image evaluation...\n",
      "Evaluate annotation type *bbox*\n",
      "DONE (t=6.94s).\n",
      "Accumulating evaluation results...\n"
     ]
    },
    {
     "name": "stderr",
     "output_type": "stream",
     "text": [
      "2021-04-15 15:10:24,876 - mmdet - INFO - Epoch(val) [8][655]\tbbox_mAP: 0.1170, bbox_mAP_50: 0.2160, bbox_mAP_75: 0.1150, bbox_mAP_s: 0.0230, bbox_mAP_m: 0.1170, bbox_mAP_l: 0.2190, bbox_mAP_copypaste: 0.117 0.216 0.115 0.023 0.117 0.219\n"
     ]
    },
    {
     "name": "stdout",
     "output_type": "stream",
     "text": [
      "DONE (t=1.29s).\n",
      "Average Precision  (AP) @[ IoU=0.50:0.95 | area=   all | maxDets=100 ] = 0.117\n",
      "Average Precision  (AP) @[ IoU=0.50      | area=   all | maxDets=1000 ] = 0.216\n",
      "Average Precision  (AP) @[ IoU=0.75      | area=   all | maxDets=1000 ] = 0.115\n",
      "Average Precision  (AP) @[ IoU=0.50:0.95 | area= small | maxDets=1000 ] = 0.023\n",
      "Average Precision  (AP) @[ IoU=0.50:0.95 | area=medium | maxDets=1000 ] = 0.117\n",
      "Average Precision  (AP) @[ IoU=0.50:0.95 | area= large | maxDets=1000 ] = 0.219\n",
      "Average Recall     (AR) @[ IoU=0.50:0.95 | area=   all | maxDets=100 ] = 0.269\n",
      "Average Recall     (AR) @[ IoU=0.50:0.95 | area=   all | maxDets=300 ] = 0.269\n",
      "Average Recall     (AR) @[ IoU=0.50:0.95 | area=   all | maxDets=1000 ] = 0.269\n",
      "Average Recall     (AR) @[ IoU=0.50:0.95 | area= small | maxDets=1000 ] = 0.085\n",
      "Average Recall     (AR) @[ IoU=0.50:0.95 | area=medium | maxDets=1000 ] = 0.275\n",
      "Average Recall     (AR) @[ IoU=0.50:0.95 | area= large | maxDets=1000 ] = 0.472\n"
     ]
    },
    {
     "name": "stderr",
     "output_type": "stream",
     "text": [
      "2021-04-15 15:10:37,425 - mmdet - INFO - Epoch [9][50/655]\tlr: 2.000e-03, eta: 0:08:48, time: 0.251, data_time: 0.050, memory: 2097, loss_rpn_cls: 0.0494, loss_rpn_bbox: 0.0555, loss_cls: 0.3005, acc: 90.5068, loss_bbox: 0.3116, loss: 0.7170, grad_norm: 1.8304\n",
      "2021-04-15 15:10:47,661 - mmdet - INFO - Epoch [9][100/655]\tlr: 2.000e-03, eta: 0:08:38, time: 0.205, data_time: 0.005, memory: 2097, loss_rpn_cls: 0.0348, loss_rpn_bbox: 0.0443, loss_cls: 0.2809, acc: 91.2373, loss_bbox: 0.2803, loss: 0.6403, grad_norm: 1.8666\n",
      "2021-04-15 15:10:57,811 - mmdet - INFO - Epoch [9][150/655]\tlr: 2.000e-03, eta: 0:08:27, time: 0.203, data_time: 0.005, memory: 2097, loss_rpn_cls: 0.0384, loss_rpn_bbox: 0.0442, loss_cls: 0.2595, acc: 91.8184, loss_bbox: 0.2599, loss: 0.6020, grad_norm: 1.8943\n",
      "2021-04-15 15:11:07,906 - mmdet - INFO - Epoch [9][200/655]\tlr: 2.000e-03, eta: 0:08:17, time: 0.202, data_time: 0.006, memory: 2097, loss_rpn_cls: 0.0368, loss_rpn_bbox: 0.0473, loss_cls: 0.2779, acc: 91.4404, loss_bbox: 0.2796, loss: 0.6416, grad_norm: 1.9714\n",
      "2021-04-15 15:11:17,891 - mmdet - INFO - Epoch [9][250/655]\tlr: 2.000e-03, eta: 0:08:07, time: 0.200, data_time: 0.005, memory: 2097, loss_rpn_cls: 0.0316, loss_rpn_bbox: 0.0422, loss_cls: 0.2469, acc: 92.0586, loss_bbox: 0.2565, loss: 0.5772, grad_norm: 1.7863\n",
      "2021-04-15 15:11:27,866 - mmdet - INFO - Epoch [9][300/655]\tlr: 2.000e-03, eta: 0:07:56, time: 0.199, data_time: 0.005, memory: 2097, loss_rpn_cls: 0.0252, loss_rpn_bbox: 0.0345, loss_cls: 0.2355, acc: 92.5107, loss_bbox: 0.2407, loss: 0.5359, grad_norm: 1.7979\n",
      "2021-04-15 15:11:38,070 - mmdet - INFO - Epoch [9][350/655]\tlr: 2.000e-03, eta: 0:07:46, time: 0.204, data_time: 0.005, memory: 2097, loss_rpn_cls: 0.0356, loss_rpn_bbox: 0.0488, loss_cls: 0.2802, acc: 90.9268, loss_bbox: 0.3011, loss: 0.6656, grad_norm: 1.9515\n",
      "2021-04-15 15:11:48,819 - mmdet - INFO - Epoch [9][400/655]\tlr: 2.000e-03, eta: 0:07:36, time: 0.215, data_time: 0.006, memory: 2097, loss_rpn_cls: 0.0356, loss_rpn_bbox: 0.0441, loss_cls: 0.2746, acc: 91.2627, loss_bbox: 0.2869, loss: 0.6412, grad_norm: 2.0702\n",
      "2021-04-15 15:11:59,086 - mmdet - INFO - Epoch [9][450/655]\tlr: 2.000e-03, eta: 0:07:26, time: 0.205, data_time: 0.005, memory: 2097, loss_rpn_cls: 0.0370, loss_rpn_bbox: 0.0427, loss_cls: 0.2577, acc: 91.9268, loss_bbox: 0.2676, loss: 0.6050, grad_norm: 2.0166\n",
      "2021-04-15 15:12:09,215 - mmdet - INFO - Epoch [9][500/655]\tlr: 2.000e-03, eta: 0:07:15, time: 0.203, data_time: 0.005, memory: 2097, loss_rpn_cls: 0.0378, loss_rpn_bbox: 0.0497, loss_cls: 0.2925, acc: 90.8320, loss_bbox: 0.2984, loss: 0.6784, grad_norm: 2.0752\n",
      "2021-04-15 15:12:19,353 - mmdet - INFO - Epoch [9][550/655]\tlr: 2.000e-03, eta: 0:07:05, time: 0.203, data_time: 0.005, memory: 2097, loss_rpn_cls: 0.0313, loss_rpn_bbox: 0.0427, loss_cls: 0.2489, acc: 92.0068, loss_bbox: 0.2545, loss: 0.5774, grad_norm: 1.9400\n",
      "2021-04-15 15:12:29,460 - mmdet - INFO - Epoch [9][600/655]\tlr: 2.000e-03, eta: 0:06:55, time: 0.202, data_time: 0.005, memory: 2097, loss_rpn_cls: 0.0288, loss_rpn_bbox: 0.0401, loss_cls: 0.2617, acc: 91.7412, loss_bbox: 0.2664, loss: 0.5970, grad_norm: 1.9257\n",
      "2021-04-15 15:12:39,521 - mmdet - INFO - Epoch [9][650/655]\tlr: 2.000e-03, eta: 0:06:44, time: 0.201, data_time: 0.005, memory: 2097, loss_rpn_cls: 0.0333, loss_rpn_bbox: 0.0532, loss_cls: 0.2754, acc: 91.1943, loss_bbox: 0.2823, loss: 0.6441, grad_norm: 2.0060\n",
      "2021-04-15 15:12:40,659 - mmdet - INFO - Saving checkpoint at 9 epochs\n"
     ]
    },
    {
     "name": "stdout",
     "output_type": "stream",
     "text": [
      "[>>>>>>>>>>>>>>>>>>>>>>>>>>>>>] 655/655, 32.3 task/s, elapsed: 20s, ETA:     0s"
     ]
    },
    {
     "name": "stderr",
     "output_type": "stream",
     "text": [
      "2021-04-15 15:13:03,705 - mmdet - INFO - Evaluating bbox...\n"
     ]
    },
    {
     "name": "stdout",
     "output_type": "stream",
     "text": [
      "Loading and preparing results...\n",
      "DONE (t=0.56s)\n",
      "creating index...\n",
      "index created!\n",
      "Running per image evaluation...\n",
      "Evaluate annotation type *bbox*\n",
      "DONE (t=5.81s).\n",
      "Accumulating evaluation results...\n"
     ]
    },
    {
     "name": "stderr",
     "output_type": "stream",
     "text": [
      "2021-04-15 15:13:11,031 - mmdet - INFO - Epoch(val) [9][655]\tbbox_mAP: 0.1550, bbox_mAP_50: 0.2760, bbox_mAP_75: 0.1500, bbox_mAP_s: 0.0350, bbox_mAP_m: 0.1360, bbox_mAP_l: 0.3050, bbox_mAP_copypaste: 0.155 0.276 0.150 0.035 0.136 0.305\n"
     ]
    },
    {
     "name": "stdout",
     "output_type": "stream",
     "text": [
      "DONE (t=0.87s).\n",
      "Average Precision  (AP) @[ IoU=0.50:0.95 | area=   all | maxDets=100 ] = 0.155\n",
      "Average Precision  (AP) @[ IoU=0.50      | area=   all | maxDets=1000 ] = 0.276\n",
      "Average Precision  (AP) @[ IoU=0.75      | area=   all | maxDets=1000 ] = 0.150\n",
      "Average Precision  (AP) @[ IoU=0.50:0.95 | area= small | maxDets=1000 ] = 0.035\n",
      "Average Precision  (AP) @[ IoU=0.50:0.95 | area=medium | maxDets=1000 ] = 0.136\n",
      "Average Precision  (AP) @[ IoU=0.50:0.95 | area= large | maxDets=1000 ] = 0.305\n",
      "Average Recall     (AR) @[ IoU=0.50:0.95 | area=   all | maxDets=100 ] = 0.305\n",
      "Average Recall     (AR) @[ IoU=0.50:0.95 | area=   all | maxDets=300 ] = 0.305\n",
      "Average Recall     (AR) @[ IoU=0.50:0.95 | area=   all | maxDets=1000 ] = 0.305\n",
      "Average Recall     (AR) @[ IoU=0.50:0.95 | area= small | maxDets=1000 ] = 0.104\n",
      "Average Recall     (AR) @[ IoU=0.50:0.95 | area=medium | maxDets=1000 ] = 0.276\n",
      "Average Recall     (AR) @[ IoU=0.50:0.95 | area= large | maxDets=1000 ] = 0.539\n"
     ]
    },
    {
     "name": "stderr",
     "output_type": "stream",
     "text": [
      "2021-04-15 15:13:23,399 - mmdet - INFO - Epoch [10][50/655]\tlr: 2.000e-03, eta: 0:06:33, time: 0.247, data_time: 0.049, memory: 2097, loss_rpn_cls: 0.0286, loss_rpn_bbox: 0.0458, loss_cls: 0.2585, acc: 91.6055, loss_bbox: 0.2805, loss: 0.6134, grad_norm: 1.9679\n",
      "2021-04-15 15:13:33,527 - mmdet - INFO - Epoch [10][100/655]\tlr: 2.000e-03, eta: 0:06:23, time: 0.203, data_time: 0.005, memory: 2097, loss_rpn_cls: 0.0247, loss_rpn_bbox: 0.0384, loss_cls: 0.2397, acc: 92.5225, loss_bbox: 0.2446, loss: 0.5473, grad_norm: 1.9393\n",
      "2021-04-15 15:13:43,702 - mmdet - INFO - Epoch [10][150/655]\tlr: 2.000e-03, eta: 0:06:13, time: 0.203, data_time: 0.005, memory: 2097, loss_rpn_cls: 0.0301, loss_rpn_bbox: 0.0416, loss_cls: 0.2534, acc: 91.9238, loss_bbox: 0.2669, loss: 0.5919, grad_norm: 1.9745\n",
      "2021-04-15 15:13:54,016 - mmdet - INFO - Epoch [10][200/655]\tlr: 2.000e-03, eta: 0:06:02, time: 0.206, data_time: 0.005, memory: 2097, loss_rpn_cls: 0.0257, loss_rpn_bbox: 0.0400, loss_cls: 0.2366, acc: 92.3174, loss_bbox: 0.2460, loss: 0.5483, grad_norm: 1.8330\n",
      "2021-04-15 15:14:04,169 - mmdet - INFO - Epoch [10][250/655]\tlr: 2.000e-03, eta: 0:05:52, time: 0.203, data_time: 0.006, memory: 2097, loss_rpn_cls: 0.0272, loss_rpn_bbox: 0.0443, loss_cls: 0.2430, acc: 92.0762, loss_bbox: 0.2628, loss: 0.5772, grad_norm: 1.9401\n",
      "2021-04-15 15:14:14,285 - mmdet - INFO - Epoch [10][300/655]\tlr: 2.000e-03, eta: 0:05:42, time: 0.202, data_time: 0.005, memory: 2097, loss_rpn_cls: 0.0299, loss_rpn_bbox: 0.0480, loss_cls: 0.2536, acc: 91.7207, loss_bbox: 0.2816, loss: 0.6131, grad_norm: 2.0033\n",
      "2021-04-15 15:14:24,409 - mmdet - INFO - Epoch [10][350/655]\tlr: 2.000e-03, eta: 0:05:31, time: 0.202, data_time: 0.005, memory: 2097, loss_rpn_cls: 0.0293, loss_rpn_bbox: 0.0409, loss_cls: 0.2560, acc: 91.6084, loss_bbox: 0.2742, loss: 0.6003, grad_norm: 2.1000\n",
      "2021-04-15 15:14:34,954 - mmdet - INFO - Epoch [10][400/655]\tlr: 2.000e-03, eta: 0:05:21, time: 0.211, data_time: 0.005, memory: 2097, loss_rpn_cls: 0.0359, loss_rpn_bbox: 0.0492, loss_cls: 0.2596, acc: 92.0039, loss_bbox: 0.2659, loss: 0.6106, grad_norm: 1.9487\n",
      "2021-04-15 15:14:45,027 - mmdet - INFO - Epoch [10][450/655]\tlr: 2.000e-03, eta: 0:05:11, time: 0.201, data_time: 0.005, memory: 2097, loss_rpn_cls: 0.0288, loss_rpn_bbox: 0.0426, loss_cls: 0.2529, acc: 91.8125, loss_bbox: 0.2788, loss: 0.6031, grad_norm: 1.9950\n",
      "2021-04-15 15:14:55,136 - mmdet - INFO - Epoch [10][500/655]\tlr: 2.000e-03, eta: 0:05:01, time: 0.202, data_time: 0.006, memory: 2097, loss_rpn_cls: 0.0320, loss_rpn_bbox: 0.0456, loss_cls: 0.2506, acc: 91.9229, loss_bbox: 0.2683, loss: 0.5966, grad_norm: 1.9903\n",
      "2021-04-15 15:15:05,196 - mmdet - INFO - Epoch [10][550/655]\tlr: 2.000e-03, eta: 0:04:50, time: 0.201, data_time: 0.005, memory: 2097, loss_rpn_cls: 0.0244, loss_rpn_bbox: 0.0346, loss_cls: 0.2165, acc: 92.9268, loss_bbox: 0.2287, loss: 0.5042, grad_norm: 1.9085\n",
      "2021-04-15 15:15:15,293 - mmdet - INFO - Epoch [10][600/655]\tlr: 2.000e-03, eta: 0:04:40, time: 0.202, data_time: 0.005, memory: 2097, loss_rpn_cls: 0.0301, loss_rpn_bbox: 0.0448, loss_cls: 0.2855, acc: 90.9551, loss_bbox: 0.2851, loss: 0.6455, grad_norm: 2.1034\n",
      "2021-04-15 15:15:25,442 - mmdet - INFO - Epoch [10][650/655]\tlr: 2.000e-03, eta: 0:04:30, time: 0.203, data_time: 0.006, memory: 2097, loss_rpn_cls: 0.0329, loss_rpn_bbox: 0.0465, loss_cls: 0.2642, acc: 91.5332, loss_bbox: 0.2771, loss: 0.6206, grad_norm: 2.0374\n",
      "2021-04-15 15:15:26,506 - mmdet - INFO - Saving checkpoint at 10 epochs\n"
     ]
    },
    {
     "name": "stdout",
     "output_type": "stream",
     "text": [
      "[>>>>>>>>>>>>>>>>>>>>>>>>>>>>>] 655/655, 30.9 task/s, elapsed: 21s, ETA:     0s"
     ]
    },
    {
     "name": "stderr",
     "output_type": "stream",
     "text": [
      "2021-04-15 15:15:50,418 - mmdet - INFO - Evaluating bbox...\n"
     ]
    },
    {
     "name": "stdout",
     "output_type": "stream",
     "text": [
      "Loading and preparing results...\n",
      "DONE (t=0.53s)\n",
      "creating index...\n",
      "index created!\n",
      "Running per image evaluation...\n",
      "Evaluate annotation type *bbox*\n",
      "DONE (t=5.66s).\n",
      "Accumulating evaluation results...\n"
     ]
    },
    {
     "name": "stderr",
     "output_type": "stream",
     "text": [
      "2021-04-15 15:15:57,504 - mmdet - INFO - Epoch(val) [10][655]\tbbox_mAP: 0.1570, bbox_mAP_50: 0.2730, bbox_mAP_75: 0.1490, bbox_mAP_s: 0.0370, bbox_mAP_m: 0.1410, bbox_mAP_l: 0.3080, bbox_mAP_copypaste: 0.157 0.273 0.149 0.037 0.141 0.308\n"
     ]
    },
    {
     "name": "stdout",
     "output_type": "stream",
     "text": [
      "DONE (t=0.82s).\n",
      "Average Precision  (AP) @[ IoU=0.50:0.95 | area=   all | maxDets=100 ] = 0.157\n",
      "Average Precision  (AP) @[ IoU=0.50      | area=   all | maxDets=1000 ] = 0.273\n",
      "Average Precision  (AP) @[ IoU=0.75      | area=   all | maxDets=1000 ] = 0.149\n",
      "Average Precision  (AP) @[ IoU=0.50:0.95 | area= small | maxDets=1000 ] = 0.037\n",
      "Average Precision  (AP) @[ IoU=0.50:0.95 | area=medium | maxDets=1000 ] = 0.141\n",
      "Average Precision  (AP) @[ IoU=0.50:0.95 | area= large | maxDets=1000 ] = 0.308\n",
      "Average Recall     (AR) @[ IoU=0.50:0.95 | area=   all | maxDets=100 ] = 0.304\n",
      "Average Recall     (AR) @[ IoU=0.50:0.95 | area=   all | maxDets=300 ] = 0.304\n",
      "Average Recall     (AR) @[ IoU=0.50:0.95 | area=   all | maxDets=1000 ] = 0.304\n",
      "Average Recall     (AR) @[ IoU=0.50:0.95 | area= small | maxDets=1000 ] = 0.098\n",
      "Average Recall     (AR) @[ IoU=0.50:0.95 | area=medium | maxDets=1000 ] = 0.281\n",
      "Average Recall     (AR) @[ IoU=0.50:0.95 | area= large | maxDets=1000 ] = 0.538\n"
     ]
    },
    {
     "name": "stderr",
     "output_type": "stream",
     "text": [
      "2021-04-15 15:16:09,908 - mmdet - INFO - Epoch [11][50/655]\tlr: 2.000e-03, eta: 0:04:19, time: 0.248, data_time: 0.050, memory: 2097, loss_rpn_cls: 0.0272, loss_rpn_bbox: 0.0460, loss_cls: 0.2488, acc: 92.0029, loss_bbox: 0.2675, loss: 0.5895, grad_norm: 2.0357\n",
      "2021-04-15 15:16:20,079 - mmdet - INFO - Epoch [11][100/655]\tlr: 2.000e-03, eta: 0:04:08, time: 0.203, data_time: 0.006, memory: 2097, loss_rpn_cls: 0.0219, loss_rpn_bbox: 0.0374, loss_cls: 0.2212, acc: 92.7363, loss_bbox: 0.2386, loss: 0.5190, grad_norm: 1.9145\n",
      "2021-04-15 15:16:30,268 - mmdet - INFO - Epoch [11][150/655]\tlr: 2.000e-03, eta: 0:03:58, time: 0.204, data_time: 0.005, memory: 2097, loss_rpn_cls: 0.0280, loss_rpn_bbox: 0.0465, loss_cls: 0.2498, acc: 91.9268, loss_bbox: 0.2701, loss: 0.5943, grad_norm: 2.0085\n",
      "2021-04-15 15:16:40,790 - mmdet - INFO - Epoch [11][200/655]\tlr: 2.000e-03, eta: 0:03:48, time: 0.210, data_time: 0.006, memory: 2097, loss_rpn_cls: 0.0313, loss_rpn_bbox: 0.0472, loss_cls: 0.2389, acc: 92.1621, loss_bbox: 0.2553, loss: 0.5726, grad_norm: 2.0493\n",
      "2021-04-15 15:16:51,246 - mmdet - INFO - Epoch [11][250/655]\tlr: 2.000e-03, eta: 0:03:37, time: 0.209, data_time: 0.006, memory: 2097, loss_rpn_cls: 0.0311, loss_rpn_bbox: 0.0450, loss_cls: 0.2511, acc: 91.9922, loss_bbox: 0.2656, loss: 0.5927, grad_norm: 2.0207\n",
      "2021-04-15 15:17:02,019 - mmdet - INFO - Epoch [11][300/655]\tlr: 2.000e-03, eta: 0:03:27, time: 0.215, data_time: 0.006, memory: 2097, loss_rpn_cls: 0.0238, loss_rpn_bbox: 0.0442, loss_cls: 0.2396, acc: 92.1865, loss_bbox: 0.2560, loss: 0.5636, grad_norm: 1.9476\n",
      "2021-04-15 15:17:12,176 - mmdet - INFO - Epoch [11][350/655]\tlr: 2.000e-03, eta: 0:03:17, time: 0.203, data_time: 0.006, memory: 2097, loss_rpn_cls: 0.0290, loss_rpn_bbox: 0.0423, loss_cls: 0.2376, acc: 92.1592, loss_bbox: 0.2603, loss: 0.5691, grad_norm: 2.1055\n",
      "2021-04-15 15:17:22,353 - mmdet - INFO - Epoch [11][400/655]\tlr: 2.000e-03, eta: 0:03:07, time: 0.204, data_time: 0.005, memory: 2097, loss_rpn_cls: 0.0288, loss_rpn_bbox: 0.0449, loss_cls: 0.2502, acc: 91.9326, loss_bbox: 0.2744, loss: 0.5983, grad_norm: 2.0852\n",
      "2021-04-15 15:17:32,622 - mmdet - INFO - Epoch [11][450/655]\tlr: 2.000e-03, eta: 0:02:56, time: 0.205, data_time: 0.006, memory: 2097, loss_rpn_cls: 0.0273, loss_rpn_bbox: 0.0394, loss_cls: 0.2212, acc: 92.8281, loss_bbox: 0.2497, loss: 0.5376, grad_norm: 2.0089\n",
      "2021-04-15 15:17:42,739 - mmdet - INFO - Epoch [11][500/655]\tlr: 2.000e-03, eta: 0:02:46, time: 0.202, data_time: 0.005, memory: 2097, loss_rpn_cls: 0.0240, loss_rpn_bbox: 0.0359, loss_cls: 0.2123, acc: 93.0430, loss_bbox: 0.2352, loss: 0.5073, grad_norm: 1.9276\n",
      "2021-04-15 15:17:52,818 - mmdet - INFO - Epoch [11][550/655]\tlr: 2.000e-03, eta: 0:02:36, time: 0.202, data_time: 0.005, memory: 2097, loss_rpn_cls: 0.0230, loss_rpn_bbox: 0.0375, loss_cls: 0.2414, acc: 92.3447, loss_bbox: 0.2512, loss: 0.5530, grad_norm: 2.0416\n",
      "2021-04-15 15:18:02,976 - mmdet - INFO - Epoch [11][600/655]\tlr: 2.000e-03, eta: 0:02:25, time: 0.203, data_time: 0.005, memory: 2097, loss_rpn_cls: 0.0261, loss_rpn_bbox: 0.0395, loss_cls: 0.2430, acc: 92.0127, loss_bbox: 0.2670, loss: 0.5755, grad_norm: 2.0751\n",
      "2021-04-15 15:18:13,175 - mmdet - INFO - Epoch [11][650/655]\tlr: 2.000e-03, eta: 0:02:15, time: 0.204, data_time: 0.005, memory: 2097, loss_rpn_cls: 0.0261, loss_rpn_bbox: 0.0411, loss_cls: 0.2377, acc: 92.2559, loss_bbox: 0.2664, loss: 0.5713, grad_norm: 2.1478\n",
      "2021-04-15 15:18:14,245 - mmdet - INFO - Saving checkpoint at 11 epochs\n"
     ]
    },
    {
     "name": "stdout",
     "output_type": "stream",
     "text": [
      "[>>>>>>>>>>>>>>>>>>>>>>>>>>>>>] 655/655, 32.1 task/s, elapsed: 20s, ETA:     0s"
     ]
    },
    {
     "name": "stderr",
     "output_type": "stream",
     "text": [
      "2021-04-15 15:18:37,397 - mmdet - INFO - Evaluating bbox...\n"
     ]
    },
    {
     "name": "stdout",
     "output_type": "stream",
     "text": [
      "Loading and preparing results...\n",
      "DONE (t=0.55s)\n",
      "creating index...\n",
      "index created!\n",
      "Running per image evaluation...\n",
      "Evaluate annotation type *bbox*\n",
      "DONE (t=5.76s).\n",
      "Accumulating evaluation results...\n"
     ]
    },
    {
     "name": "stderr",
     "output_type": "stream",
     "text": [
      "2021-04-15 15:18:44,659 - mmdet - INFO - Epoch(val) [11][655]\tbbox_mAP: 0.1650, bbox_mAP_50: 0.2960, bbox_mAP_75: 0.1530, bbox_mAP_s: 0.0350, bbox_mAP_m: 0.1480, bbox_mAP_l: 0.3190, bbox_mAP_copypaste: 0.165 0.296 0.153 0.035 0.148 0.319\n"
     ]
    },
    {
     "name": "stdout",
     "output_type": "stream",
     "text": [
      "DONE (t=0.87s).\n",
      "Average Precision  (AP) @[ IoU=0.50:0.95 | area=   all | maxDets=100 ] = 0.165\n",
      "Average Precision  (AP) @[ IoU=0.50      | area=   all | maxDets=1000 ] = 0.296\n",
      "Average Precision  (AP) @[ IoU=0.75      | area=   all | maxDets=1000 ] = 0.153\n",
      "Average Precision  (AP) @[ IoU=0.50:0.95 | area= small | maxDets=1000 ] = 0.035\n",
      "Average Precision  (AP) @[ IoU=0.50:0.95 | area=medium | maxDets=1000 ] = 0.148\n",
      "Average Precision  (AP) @[ IoU=0.50:0.95 | area= large | maxDets=1000 ] = 0.319\n",
      "Average Recall     (AR) @[ IoU=0.50:0.95 | area=   all | maxDets=100 ] = 0.308\n",
      "Average Recall     (AR) @[ IoU=0.50:0.95 | area=   all | maxDets=300 ] = 0.308\n",
      "Average Recall     (AR) @[ IoU=0.50:0.95 | area=   all | maxDets=1000 ] = 0.308\n",
      "Average Recall     (AR) @[ IoU=0.50:0.95 | area= small | maxDets=1000 ] = 0.097\n",
      "Average Recall     (AR) @[ IoU=0.50:0.95 | area=medium | maxDets=1000 ] = 0.286\n",
      "Average Recall     (AR) @[ IoU=0.50:0.95 | area= large | maxDets=1000 ] = 0.531\n"
     ]
    },
    {
     "name": "stderr",
     "output_type": "stream",
     "text": [
      "2021-04-15 15:18:57,144 - mmdet - INFO - Epoch [12][50/655]\tlr: 2.000e-04, eta: 0:02:04, time: 0.250, data_time: 0.050, memory: 2097, loss_rpn_cls: 0.0195, loss_rpn_bbox: 0.0333, loss_cls: 0.1976, acc: 93.7510, loss_bbox: 0.2105, loss: 0.4608, grad_norm: 1.7626\n",
      "2021-04-15 15:19:07,702 - mmdet - INFO - Epoch [12][100/655]\tlr: 2.000e-04, eta: 0:01:54, time: 0.211, data_time: 0.006, memory: 2097, loss_rpn_cls: 0.0267, loss_rpn_bbox: 0.0444, loss_cls: 0.2393, acc: 92.1113, loss_bbox: 0.2781, loss: 0.5885, grad_norm: 1.9300\n",
      "2021-04-15 15:19:18,024 - mmdet - INFO - Epoch [12][150/655]\tlr: 2.000e-04, eta: 0:01:43, time: 0.206, data_time: 0.006, memory: 2097, loss_rpn_cls: 0.0224, loss_rpn_bbox: 0.0419, loss_cls: 0.2262, acc: 92.5957, loss_bbox: 0.2573, loss: 0.5478, grad_norm: 1.9526\n",
      "2021-04-15 15:19:28,186 - mmdet - INFO - Epoch [12][200/655]\tlr: 2.000e-04, eta: 0:01:33, time: 0.203, data_time: 0.005, memory: 2097, loss_rpn_cls: 0.0232, loss_rpn_bbox: 0.0419, loss_cls: 0.2279, acc: 92.6494, loss_bbox: 0.2520, loss: 0.5450, grad_norm: 1.9681\n",
      "2021-04-15 15:19:38,263 - mmdet - INFO - Epoch [12][250/655]\tlr: 2.000e-04, eta: 0:01:23, time: 0.202, data_time: 0.005, memory: 2097, loss_rpn_cls: 0.0214, loss_rpn_bbox: 0.0399, loss_cls: 0.2206, acc: 92.9219, loss_bbox: 0.2375, loss: 0.5193, grad_norm: 1.9018\n",
      "2021-04-15 15:19:48,359 - mmdet - INFO - Epoch [12][300/655]\tlr: 2.000e-04, eta: 0:01:13, time: 0.202, data_time: 0.005, memory: 2097, loss_rpn_cls: 0.0207, loss_rpn_bbox: 0.0358, loss_cls: 0.2113, acc: 93.0361, loss_bbox: 0.2394, loss: 0.5073, grad_norm: 1.9464\n",
      "2021-04-15 15:19:59,286 - mmdet - INFO - Epoch [12][350/655]\tlr: 2.000e-04, eta: 0:01:02, time: 0.219, data_time: 0.006, memory: 2097, loss_rpn_cls: 0.0249, loss_rpn_bbox: 0.0438, loss_cls: 0.2468, acc: 91.9912, loss_bbox: 0.2792, loss: 0.5947, grad_norm: 2.0362\n",
      "2021-04-15 15:20:09,434 - mmdet - INFO - Epoch [12][400/655]\tlr: 2.000e-04, eta: 0:00:52, time: 0.203, data_time: 0.006, memory: 2097, loss_rpn_cls: 0.0173, loss_rpn_bbox: 0.0321, loss_cls: 0.1878, acc: 93.7900, loss_bbox: 0.2115, loss: 0.4488, grad_norm: 1.7935\n",
      "2021-04-15 15:20:19,711 - mmdet - INFO - Epoch [12][450/655]\tlr: 2.000e-04, eta: 0:00:42, time: 0.206, data_time: 0.006, memory: 2097, loss_rpn_cls: 0.0292, loss_rpn_bbox: 0.0453, loss_cls: 0.2504, acc: 92.0156, loss_bbox: 0.2763, loss: 0.6012, grad_norm: 2.0952\n",
      "2021-04-15 15:20:30,170 - mmdet - INFO - Epoch [12][500/655]\tlr: 2.000e-04, eta: 0:00:31, time: 0.209, data_time: 0.006, memory: 2097, loss_rpn_cls: 0.0227, loss_rpn_bbox: 0.0389, loss_cls: 0.2224, acc: 92.8184, loss_bbox: 0.2455, loss: 0.5296, grad_norm: 1.9941\n",
      "2021-04-15 15:20:40,360 - mmdet - INFO - Epoch [12][550/655]\tlr: 2.000e-04, eta: 0:00:21, time: 0.204, data_time: 0.005, memory: 2097, loss_rpn_cls: 0.0223, loss_rpn_bbox: 0.0418, loss_cls: 0.2217, acc: 92.6064, loss_bbox: 0.2629, loss: 0.5487, grad_norm: 1.9583\n",
      "2021-04-15 15:20:50,590 - mmdet - INFO - Epoch [12][600/655]\tlr: 2.000e-04, eta: 0:00:11, time: 0.205, data_time: 0.005, memory: 2097, loss_rpn_cls: 0.0265, loss_rpn_bbox: 0.0455, loss_cls: 0.2454, acc: 92.0947, loss_bbox: 0.2672, loss: 0.5846, grad_norm: 2.0851\n",
      "2021-04-15 15:21:00,733 - mmdet - INFO - Epoch [12][650/655]\tlr: 2.000e-04, eta: 0:00:01, time: 0.203, data_time: 0.005, memory: 2097, loss_rpn_cls: 0.0252, loss_rpn_bbox: 0.0425, loss_cls: 0.2389, acc: 92.1436, loss_bbox: 0.2601, loss: 0.5668, grad_norm: 2.0680\n",
      "2021-04-15 15:21:01,824 - mmdet - INFO - Saving checkpoint at 12 epochs\n"
     ]
    },
    {
     "name": "stdout",
     "output_type": "stream",
     "text": [
      "[>>>>>>>>>>>>>>>>>>>>>>>>>>>>>] 655/655, 31.6 task/s, elapsed: 21s, ETA:     0s"
     ]
    },
    {
     "name": "stderr",
     "output_type": "stream",
     "text": [
      "2021-04-15 15:21:25,292 - mmdet - INFO - Evaluating bbox...\n"
     ]
    },
    {
     "name": "stdout",
     "output_type": "stream",
     "text": [
      "Loading and preparing results...\n",
      "DONE (t=0.56s)\n",
      "creating index...\n",
      "index created!\n",
      "Running per image evaluation...\n",
      "Evaluate annotation type *bbox*\n",
      "DONE (t=5.51s).\n",
      "Accumulating evaluation results...\n"
     ]
    },
    {
     "name": "stderr",
     "output_type": "stream",
     "text": [
      "2021-04-15 15:21:32,266 - mmdet - INFO - Epoch(val) [12][655]\tbbox_mAP: 0.1640, bbox_mAP_50: 0.2860, bbox_mAP_75: 0.1580, bbox_mAP_s: 0.0370, bbox_mAP_m: 0.1490, bbox_mAP_l: 0.3210, bbox_mAP_copypaste: 0.164 0.286 0.158 0.037 0.149 0.321\n"
     ]
    },
    {
     "name": "stdout",
     "output_type": "stream",
     "text": [
      "DONE (t=0.82s).\n",
      "Average Precision  (AP) @[ IoU=0.50:0.95 | area=   all | maxDets=100 ] = 0.164\n",
      "Average Precision  (AP) @[ IoU=0.50      | area=   all | maxDets=1000 ] = 0.286\n",
      "Average Precision  (AP) @[ IoU=0.75      | area=   all | maxDets=1000 ] = 0.158\n",
      "Average Precision  (AP) @[ IoU=0.50:0.95 | area= small | maxDets=1000 ] = 0.037\n",
      "Average Precision  (AP) @[ IoU=0.50:0.95 | area=medium | maxDets=1000 ] = 0.149\n",
      "Average Precision  (AP) @[ IoU=0.50:0.95 | area= large | maxDets=1000 ] = 0.321\n",
      "Average Recall     (AR) @[ IoU=0.50:0.95 | area=   all | maxDets=100 ] = 0.310\n",
      "Average Recall     (AR) @[ IoU=0.50:0.95 | area=   all | maxDets=300 ] = 0.310\n",
      "Average Recall     (AR) @[ IoU=0.50:0.95 | area=   all | maxDets=1000 ] = 0.310\n",
      "Average Recall     (AR) @[ IoU=0.50:0.95 | area= small | maxDets=1000 ] = 0.097\n",
      "Average Recall     (AR) @[ IoU=0.50:0.95 | area=medium | maxDets=1000 ] = 0.292\n",
      "Average Recall     (AR) @[ IoU=0.50:0.95 | area= large | maxDets=1000 ] = 0.544\n"
     ]
    }
   ],
   "source": [
    "train_detector(model, datasets[0], cfg, distributed=False, validate=True)"
   ]
  }
 ],
 "metadata": {
  "kernelspec": {
   "display_name": "Python 3",
   "language": "python",
   "name": "python3"
  },
  "language_info": {
   "codemirror_mode": {
    "name": "ipython",
    "version": 3
   },
   "file_extension": ".py",
   "mimetype": "text/x-python",
   "name": "python",
   "nbconvert_exporter": "python",
   "pygments_lexer": "ipython3",
   "version": "3.7.4"
  },
  "pycharm": {
   "stem_cell": {
    "cell_type": "raw",
    "source": [],
    "metadata": {
     "collapsed": false
    }
   }
  }
 },
 "nbformat": 4,
 "nbformat_minor": 1
}
