{
 "cells": [
  {
   "cell_type": "code",
   "execution_count": 1,
   "id": "normal-queue",
   "metadata": {},
   "outputs": [],
   "source": [
    "import os\n",
    "from urllib import request\n",
    "\n",
    "from mmcv import Config\n",
    "\n",
    "from utils import modify_path, modify_num_classes"
   ]
  },
  {
   "cell_type": "markdown",
   "id": "aboriginal-haiti",
   "metadata": {},
   "source": [
    "## Model Name / Config name / Checkpoint URL"
   ]
  },
  {
   "cell_type": "code",
   "execution_count": 2,
   "id": "amended-formation",
   "metadata": {},
   "outputs": [],
   "source": [
    "model_name = \\\n",
    "\"detectors\"\n",
    "\n",
    "model_cfg = \\\n",
    "\"detectors_cascade_rcnn_r50_1x_coco\"\n",
    "\n",
    "model_url = \\\n",
    "\"http://download.openmmlab.com/mmdetection/v2.0/detectors/detectors_cascade_rcnn_r50_1x_coco/detectors_cascade_rcnn_r50_1x_coco-32a10ba0.pth\""
   ]
  },
  {
   "cell_type": "markdown",
   "id": "suspected-settlement",
   "metadata": {},
   "source": [
    "## Set Config Setting Values."
   ]
  },
  {
   "cell_type": "code",
   "execution_count": 3,
   "id": "phantom-priority",
   "metadata": {},
   "outputs": [],
   "source": [
    "lr_gamma = 0.1\n",
    "\n",
    "batch_size = 8\n",
    "\n",
    "multi_scale_factor = [0.5, 0.75, 1.0, 1.25, 1.5]"
   ]
  },
  {
   "cell_type": "markdown",
   "id": "friendly-thomas",
   "metadata": {},
   "source": [
    "## Load Config"
   ]
  },
  {
   "cell_type": "code",
   "execution_count": 4,
   "id": "vital-connecticut",
   "metadata": {},
   "outputs": [],
   "source": [
    "cfg = Config.fromfile(os.path.join(\"./configs\", model_name, f\"{model_cfg}.py\"))"
   ]
  },
  {
   "cell_type": "markdown",
   "id": "authorized-extent",
   "metadata": {},
   "source": [
    "## Modify Config"
   ]
  },
  {
   "cell_type": "code",
   "execution_count": 5,
   "id": "greenhouse-syracuse",
   "metadata": {},
   "outputs": [],
   "source": [
    "# modify lr_gamma * default lr.\n",
    "cfg.optimizer[\"lr\"] *= lr_gamma\n",
    "\n",
    "# modify evaluation image scales.\n",
    "if multi_scale_factor:\n",
    "    test_h, test_w = cfg.data.test.pipeline[1][\"img_scale\"]\n",
    "    cfg.data.test.pipeline[1][\"img_scale\"] = [(int(test_h * scale_factor), int(test_w * scale_factor)) for scale_factor in multi_scale_factor]\n",
    "    cfg.data.test.pipeline[1][\"flip\"] = True\n",
    "\n",
    "# add pretrained model from url.\n",
    "cfg.load_from = os.path.abspath(os.path.join(\"pretrained\", f\"{model_cfg}.pth\"))\n",
    "\n",
    "# # add wandb log.\n",
    "# cfg.log_config = dict(\n",
    "#     interval=50, hooks=[dict(type=\"TextLoggerHook\"), dict(type=\"WandbLoggerHook\", init_kwargs=dict(project=\"pstage-3-od\", name=model_cfg))]\n",
    "# )\n",
    "\n",
    "# pth model file would be saved for most recent 3 epoch.\n",
    "cfg.checkpoint_config = dict(interval=1, max_keep_ckpts=3)\n",
    "\n",
    "# validation processed for every epoch, and best bbox mAP 50 model would be saved.\n",
    "cfg.evaluation = dict(interval=1, metric='bbox', save_best=\"bbox_mAP_50\")\n",
    "\n",
    "# modify data path, save path.\n",
    "modify_path(cfg, data_path=\"../input/data\", save_path=os.path.join(\"./save_dir\", model_cfg))\n",
    "\n",
    "# modify num of class.\n",
    "modify_num_classes(cfg, class_num=11)\n",
    "\n",
    "# batch size and num of worker.\n",
    "cfg.data.samples_per_gpu = batch_size\n",
    "cfg.data.workers_per_gpu = 4"
   ]
  },
  {
   "cell_type": "markdown",
   "id": "recognized-nickname",
   "metadata": {},
   "source": [
    "## Save Config"
   ]
  },
  {
   "cell_type": "code",
   "execution_count": 6,
   "id": "laughing-province",
   "metadata": {},
   "outputs": [],
   "source": [
    "os.makedirs(os.path.join(\"custom_configs\"), exist_ok=True)\n",
    "cfg.dump(os.path.join(\"custom_configs\", f\"{model_cfg}.py\"))"
   ]
  },
  {
   "cell_type": "markdown",
   "id": "accessible-coalition",
   "metadata": {},
   "source": [
    "## Pretrained Checkpoint Save."
   ]
  },
  {
   "cell_type": "code",
   "execution_count": 7,
   "id": "floral-volunteer",
   "metadata": {},
   "outputs": [
    {
     "data": {
      "text/plain": [
       "('pretrained/detectors_cascade_rcnn_r50_1x_coco.pth',\n",
       " <http.client.HTTPMessage at 0x7f78572586d0>)"
      ]
     },
     "execution_count": 7,
     "metadata": {},
     "output_type": "execute_result"
    }
   ],
   "source": [
    "if not os.path.isdir(\"pretrained\"):\n",
    "    os.makedirs(\"pretrained\")\n",
    "\n",
    "ckpt_name = os.path.join(\"pretrained\", f\"{model_cfg}.pth\")\n",
    "\n",
    "request.urlretrieve(model_url, ckpt_name)"
   ]
  },
  {
   "cell_type": "code",
   "execution_count": null,
   "id": "03a61636-42f9-4137-b117-a0b0b655df5d",
   "metadata": {},
   "outputs": [],
   "source": []
  },
  {
   "cell_type": "code",
   "execution_count": null,
   "id": "dramatic-poison",
   "metadata": {},
   "outputs": [],
   "source": []
  }
 ],
 "metadata": {
  "kernelspec": {
   "display_name": "Python 3",
   "language": "python",
   "name": "python3"
  },
  "language_info": {
   "codemirror_mode": {
    "name": "ipython",
    "version": 3
   },
   "file_extension": ".py",
   "mimetype": "text/x-python",
   "name": "python",
   "nbconvert_exporter": "python",
   "pygments_lexer": "ipython3",
   "version": "3.7.7"
  }
 },
 "nbformat": 4,
 "nbformat_minor": 5
}
