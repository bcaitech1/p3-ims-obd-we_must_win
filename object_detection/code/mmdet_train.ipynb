{
 "cells": [
  {
   "cell_type": "code",
   "execution_count": 1,
   "id": "attached-packet",
   "metadata": {},
   "outputs": [],
   "source": [
    "import os\n",
    "from pprint import pprint\n",
    "\n",
    "from mmcv import Config\n",
    "from mmdet.datasets import build_dataset\n",
    "from mmdet.models import build_detector\n",
    "from mmdet.apis import train_detector"
   ]
  },
  {
   "cell_type": "markdown",
   "id": "continent-prescription",
   "metadata": {},
   "source": [
    "## Model Name / Config"
   ]
  },
  {
   "cell_type": "code",
   "execution_count": 2,
   "id": "ruled-criticism",
   "metadata": {},
   "outputs": [],
   "source": [
    "model_cfg = \\\n",
    "\"detectors_cascade_rcnn_r50_1x_coco\"\n",
    "\n",
    "cfg = Config.fromfile(os.path.join(\"custom_configs\", f\"{model_cfg}.py\"))"
   ]
  },
  {
   "cell_type": "markdown",
   "id": "genuine-coaching",
   "metadata": {},
   "source": [
    "## Save config file in save dir."
   ]
  },
  {
   "cell_type": "code",
   "execution_count": 3,
   "id": "suited-pharmacy",
   "metadata": {},
   "outputs": [],
   "source": [
    "# Save configs.\n",
    "os.makedirs(cfg.work_dir, exist_ok=True)\n",
    "cfg.dump(os.path.join(cfg.work_dir, \"configs.py\"))"
   ]
  },
  {
   "cell_type": "markdown",
   "id": "experienced-discovery",
   "metadata": {},
   "source": [
    "## Build and Training"
   ]
  },
  {
   "cell_type": "code",
   "execution_count": 4,
   "id": "cooked-commitment",
   "metadata": {
    "tags": []
   },
   "outputs": [
    {
     "name": "stderr",
     "output_type": "stream",
     "text": [
      "2021-05-19 21:21:04,518 - mmdet - INFO - load model from: torchvision://resnet50\n",
      "2021-05-19 21:21:04,519 - mmdet - INFO - Use load_from_torchvision loader\n",
      "2021-05-19 21:21:04,778 - mmdet - WARNING - The model and loaded state dict do not match exactly\n",
      "\n",
      "unexpected key in source state_dict: fc.weight, fc.bias\n",
      "\n",
      "missing keys in source state_dict: layer2.0.conv2.weight_diff, layer2.0.conv2.switch.weight, layer2.0.conv2.switch.bias, layer2.0.conv2.pre_context.weight, layer2.0.conv2.pre_context.bias, layer2.0.conv2.post_context.weight, layer2.0.conv2.post_context.bias, layer2.0.conv2.offset_s.weight, layer2.0.conv2.offset_s.bias, layer2.0.conv2.offset_l.weight, layer2.0.conv2.offset_l.bias, layer2.1.conv2.weight_diff, layer2.1.conv2.switch.weight, layer2.1.conv2.switch.bias, layer2.1.conv2.pre_context.weight, layer2.1.conv2.pre_context.bias, layer2.1.conv2.post_context.weight, layer2.1.conv2.post_context.bias, layer2.1.conv2.offset_s.weight, layer2.1.conv2.offset_s.bias, layer2.1.conv2.offset_l.weight, layer2.1.conv2.offset_l.bias, layer2.2.conv2.weight_diff, layer2.2.conv2.switch.weight, layer2.2.conv2.switch.bias, layer2.2.conv2.pre_context.weight, layer2.2.conv2.pre_context.bias, layer2.2.conv2.post_context.weight, layer2.2.conv2.post_context.bias, layer2.2.conv2.offset_s.weight, layer2.2.conv2.offset_s.bias, layer2.2.conv2.offset_l.weight, layer2.2.conv2.offset_l.bias, layer2.3.conv2.weight_diff, layer2.3.conv2.switch.weight, layer2.3.conv2.switch.bias, layer2.3.conv2.pre_context.weight, layer2.3.conv2.pre_context.bias, layer2.3.conv2.post_context.weight, layer2.3.conv2.post_context.bias, layer2.3.conv2.offset_s.weight, layer2.3.conv2.offset_s.bias, layer2.3.conv2.offset_l.weight, layer2.3.conv2.offset_l.bias, layer3.0.conv2.weight_diff, layer3.0.conv2.switch.weight, layer3.0.conv2.switch.bias, layer3.0.conv2.pre_context.weight, layer3.0.conv2.pre_context.bias, layer3.0.conv2.post_context.weight, layer3.0.conv2.post_context.bias, layer3.0.conv2.offset_s.weight, layer3.0.conv2.offset_s.bias, layer3.0.conv2.offset_l.weight, layer3.0.conv2.offset_l.bias, layer3.1.conv2.weight_diff, layer3.1.conv2.switch.weight, layer3.1.conv2.switch.bias, layer3.1.conv2.pre_context.weight, layer3.1.conv2.pre_context.bias, layer3.1.conv2.post_context.weight, layer3.1.conv2.post_context.bias, layer3.1.conv2.offset_s.weight, layer3.1.conv2.offset_s.bias, layer3.1.conv2.offset_l.weight, layer3.1.conv2.offset_l.bias, layer3.2.conv2.weight_diff, layer3.2.conv2.switch.weight, layer3.2.conv2.switch.bias, layer3.2.conv2.pre_context.weight, layer3.2.conv2.pre_context.bias, layer3.2.conv2.post_context.weight, layer3.2.conv2.post_context.bias, layer3.2.conv2.offset_s.weight, layer3.2.conv2.offset_s.bias, layer3.2.conv2.offset_l.weight, layer3.2.conv2.offset_l.bias, layer3.3.conv2.weight_diff, layer3.3.conv2.switch.weight, layer3.3.conv2.switch.bias, layer3.3.conv2.pre_context.weight, layer3.3.conv2.pre_context.bias, layer3.3.conv2.post_context.weight, layer3.3.conv2.post_context.bias, layer3.3.conv2.offset_s.weight, layer3.3.conv2.offset_s.bias, layer3.3.conv2.offset_l.weight, layer3.3.conv2.offset_l.bias, layer3.4.conv2.weight_diff, layer3.4.conv2.switch.weight, layer3.4.conv2.switch.bias, layer3.4.conv2.pre_context.weight, layer3.4.conv2.pre_context.bias, layer3.4.conv2.post_context.weight, layer3.4.conv2.post_context.bias, layer3.4.conv2.offset_s.weight, layer3.4.conv2.offset_s.bias, layer3.4.conv2.offset_l.weight, layer3.4.conv2.offset_l.bias, layer3.5.conv2.weight_diff, layer3.5.conv2.switch.weight, layer3.5.conv2.switch.bias, layer3.5.conv2.pre_context.weight, layer3.5.conv2.pre_context.bias, layer3.5.conv2.post_context.weight, layer3.5.conv2.post_context.bias, layer3.5.conv2.offset_s.weight, layer3.5.conv2.offset_s.bias, layer3.5.conv2.offset_l.weight, layer3.5.conv2.offset_l.bias, layer4.0.conv2.weight_diff, layer4.0.conv2.switch.weight, layer4.0.conv2.switch.bias, layer4.0.conv2.pre_context.weight, layer4.0.conv2.pre_context.bias, layer4.0.conv2.post_context.weight, layer4.0.conv2.post_context.bias, layer4.0.conv2.offset_s.weight, layer4.0.conv2.offset_s.bias, layer4.0.conv2.offset_l.weight, layer4.0.conv2.offset_l.bias, layer4.1.conv2.weight_diff, layer4.1.conv2.switch.weight, layer4.1.conv2.switch.bias, layer4.1.conv2.pre_context.weight, layer4.1.conv2.pre_context.bias, layer4.1.conv2.post_context.weight, layer4.1.conv2.post_context.bias, layer4.1.conv2.offset_s.weight, layer4.1.conv2.offset_s.bias, layer4.1.conv2.offset_l.weight, layer4.1.conv2.offset_l.bias, layer4.2.conv2.weight_diff, layer4.2.conv2.switch.weight, layer4.2.conv2.switch.bias, layer4.2.conv2.pre_context.weight, layer4.2.conv2.pre_context.bias, layer4.2.conv2.post_context.weight, layer4.2.conv2.post_context.bias, layer4.2.conv2.offset_s.weight, layer4.2.conv2.offset_s.bias, layer4.2.conv2.offset_l.weight, layer4.2.conv2.offset_l.bias\n",
      "\n",
      "2021-05-19 21:21:04,803 - mmdet - INFO - Use load_from_torchvision loader\n",
      "2021-05-19 21:21:05,036 - mmdet - WARNING - The model and loaded state dict do not match exactly\n",
      "\n",
      "unexpected key in source state_dict: fc.weight, fc.bias\n",
      "\n",
      "missing keys in source state_dict: layer2.0.conv2.weight_diff, layer2.0.conv2.switch.weight, layer2.0.conv2.switch.bias, layer2.0.conv2.pre_context.weight, layer2.0.conv2.pre_context.bias, layer2.0.conv2.post_context.weight, layer2.0.conv2.post_context.bias, layer2.0.conv2.offset_s.weight, layer2.0.conv2.offset_s.bias, layer2.0.conv2.offset_l.weight, layer2.0.conv2.offset_l.bias, layer2.0.rfp_conv.weight, layer2.0.rfp_conv.bias, layer2.1.conv2.weight_diff, layer2.1.conv2.switch.weight, layer2.1.conv2.switch.bias, layer2.1.conv2.pre_context.weight, layer2.1.conv2.pre_context.bias, layer2.1.conv2.post_context.weight, layer2.1.conv2.post_context.bias, layer2.1.conv2.offset_s.weight, layer2.1.conv2.offset_s.bias, layer2.1.conv2.offset_l.weight, layer2.1.conv2.offset_l.bias, layer2.2.conv2.weight_diff, layer2.2.conv2.switch.weight, layer2.2.conv2.switch.bias, layer2.2.conv2.pre_context.weight, layer2.2.conv2.pre_context.bias, layer2.2.conv2.post_context.weight, layer2.2.conv2.post_context.bias, layer2.2.conv2.offset_s.weight, layer2.2.conv2.offset_s.bias, layer2.2.conv2.offset_l.weight, layer2.2.conv2.offset_l.bias, layer2.3.conv2.weight_diff, layer2.3.conv2.switch.weight, layer2.3.conv2.switch.bias, layer2.3.conv2.pre_context.weight, layer2.3.conv2.pre_context.bias, layer2.3.conv2.post_context.weight, layer2.3.conv2.post_context.bias, layer2.3.conv2.offset_s.weight, layer2.3.conv2.offset_s.bias, layer2.3.conv2.offset_l.weight, layer2.3.conv2.offset_l.bias, layer3.0.conv2.weight_diff, layer3.0.conv2.switch.weight, layer3.0.conv2.switch.bias, layer3.0.conv2.pre_context.weight, layer3.0.conv2.pre_context.bias, layer3.0.conv2.post_context.weight, layer3.0.conv2.post_context.bias, layer3.0.conv2.offset_s.weight, layer3.0.conv2.offset_s.bias, layer3.0.conv2.offset_l.weight, layer3.0.conv2.offset_l.bias, layer3.0.rfp_conv.weight, layer3.0.rfp_conv.bias, layer3.1.conv2.weight_diff, layer3.1.conv2.switch.weight, layer3.1.conv2.switch.bias, layer3.1.conv2.pre_context.weight, layer3.1.conv2.pre_context.bias, layer3.1.conv2.post_context.weight, layer3.1.conv2.post_context.bias, layer3.1.conv2.offset_s.weight, layer3.1.conv2.offset_s.bias, layer3.1.conv2.offset_l.weight, layer3.1.conv2.offset_l.bias, layer3.2.conv2.weight_diff, layer3.2.conv2.switch.weight, layer3.2.conv2.switch.bias, layer3.2.conv2.pre_context.weight, layer3.2.conv2.pre_context.bias, layer3.2.conv2.post_context.weight, layer3.2.conv2.post_context.bias, layer3.2.conv2.offset_s.weight, layer3.2.conv2.offset_s.bias, layer3.2.conv2.offset_l.weight, layer3.2.conv2.offset_l.bias, layer3.3.conv2.weight_diff, layer3.3.conv2.switch.weight, layer3.3.conv2.switch.bias, layer3.3.conv2.pre_context.weight, layer3.3.conv2.pre_context.bias, layer3.3.conv2.post_context.weight, layer3.3.conv2.post_context.bias, layer3.3.conv2.offset_s.weight, layer3.3.conv2.offset_s.bias, layer3.3.conv2.offset_l.weight, layer3.3.conv2.offset_l.bias, layer3.4.conv2.weight_diff, layer3.4.conv2.switch.weight, layer3.4.conv2.switch.bias, layer3.4.conv2.pre_context.weight, layer3.4.conv2.pre_context.bias, layer3.4.conv2.post_context.weight, layer3.4.conv2.post_context.bias, layer3.4.conv2.offset_s.weight, layer3.4.conv2.offset_s.bias, layer3.4.conv2.offset_l.weight, layer3.4.conv2.offset_l.bias, layer3.5.conv2.weight_diff, layer3.5.conv2.switch.weight, layer3.5.conv2.switch.bias, layer3.5.conv2.pre_context.weight, layer3.5.conv2.pre_context.bias, layer3.5.conv2.post_context.weight, layer3.5.conv2.post_context.bias, layer3.5.conv2.offset_s.weight, layer3.5.conv2.offset_s.bias, layer3.5.conv2.offset_l.weight, layer3.5.conv2.offset_l.bias, layer4.0.conv2.weight_diff, layer4.0.conv2.switch.weight, layer4.0.conv2.switch.bias, layer4.0.conv2.pre_context.weight, layer4.0.conv2.pre_context.bias, layer4.0.conv2.post_context.weight, layer4.0.conv2.post_context.bias, layer4.0.conv2.offset_s.weight, layer4.0.conv2.offset_s.bias, layer4.0.conv2.offset_l.weight, layer4.0.conv2.offset_l.bias, layer4.0.rfp_conv.weight, layer4.0.rfp_conv.bias, layer4.1.conv2.weight_diff, layer4.1.conv2.switch.weight, layer4.1.conv2.switch.bias, layer4.1.conv2.pre_context.weight, layer4.1.conv2.pre_context.bias, layer4.1.conv2.post_context.weight, layer4.1.conv2.post_context.bias, layer4.1.conv2.offset_s.weight, layer4.1.conv2.offset_s.bias, layer4.1.conv2.offset_l.weight, layer4.1.conv2.offset_l.bias, layer4.2.conv2.weight_diff, layer4.2.conv2.switch.weight, layer4.2.conv2.switch.bias, layer4.2.conv2.pre_context.weight, layer4.2.conv2.pre_context.bias, layer4.2.conv2.post_context.weight, layer4.2.conv2.post_context.bias, layer4.2.conv2.offset_s.weight, layer4.2.conv2.offset_s.bias, layer4.2.conv2.offset_l.weight, layer4.2.conv2.offset_l.bias\n",
      "\n"
     ]
    },
    {
     "name": "stdout",
     "output_type": "stream",
     "text": [
      "loading annotations into memory...\n",
      "Done (t=4.16s)\n",
      "creating index...\n",
      "index created!\n",
      "loading annotations into memory...\n"
     ]
    },
    {
     "name": "stderr",
     "output_type": "stream",
     "text": [
      "2021-05-19 21:21:14,769 - mmdet - INFO - load checkpoint from /opt/ml/code/pretrained/detectors_cascade_rcnn_r50_1x_coco.pth\n",
      "2021-05-19 21:21:14,770 - mmdet - INFO - Use load_from_local loader\n"
     ]
    },
    {
     "name": "stdout",
     "output_type": "stream",
     "text": [
      "Done (t=1.21s)\n",
      "creating index...\n",
      "index created!\n"
     ]
    },
    {
     "name": "stderr",
     "output_type": "stream",
     "text": [
      "2021-05-19 21:21:15,225 - mmdet - WARNING - The model and loaded state dict do not match exactly\n",
      "\n",
      "size mismatch for roi_head.bbox_head.0.fc_cls.weight: copying a param with shape torch.Size([81, 1024]) from checkpoint, the shape in current model is torch.Size([12, 1024]).\n",
      "size mismatch for roi_head.bbox_head.0.fc_cls.bias: copying a param with shape torch.Size([81]) from checkpoint, the shape in current model is torch.Size([12]).\n",
      "size mismatch for roi_head.bbox_head.1.fc_cls.weight: copying a param with shape torch.Size([81, 1024]) from checkpoint, the shape in current model is torch.Size([12, 1024]).\n",
      "size mismatch for roi_head.bbox_head.1.fc_cls.bias: copying a param with shape torch.Size([81]) from checkpoint, the shape in current model is torch.Size([12]).\n",
      "size mismatch for roi_head.bbox_head.2.fc_cls.weight: copying a param with shape torch.Size([81, 1024]) from checkpoint, the shape in current model is torch.Size([12, 1024]).\n",
      "size mismatch for roi_head.bbox_head.2.fc_cls.bias: copying a param with shape torch.Size([81]) from checkpoint, the shape in current model is torch.Size([12]).\n",
      "2021-05-19 21:21:15,229 - mmdet - INFO - Start running, host: root@6b4311788e13, work_dir: /opt/ml/code/save_dir/detectors_cascade_rcnn_r50_1x_coco\n",
      "2021-05-19 21:21:15,230 - mmdet - INFO - workflow: [('train', 1)], max: 16 epochs\n",
      "/opt/ml/code/mmdet/core/evaluation/eval_hooks.py:113: UserWarning: runner.meta is None. Creating a empty one.\n",
      "  warnings.warn('runner.meta is None. Creating a empty one.')\n",
      "2021-05-19 21:22:59,657 - mmdet - INFO - Epoch [1][50/818]\tlr: 9.890e-06, eta: 7:33:48, time: 2.088, data_time: 0.090, memory: 23626, loss_rpn_cls: 0.1418, loss_rpn_bbox: 0.0318, s0.loss_cls: 1.9572, s0.acc: 67.3555, s0.loss_bbox: 0.1312, s1.loss_cls: 0.9764, s1.acc: 46.6440, s1.loss_bbox: 0.1045, s2.loss_cls: 0.4871, s2.acc: 47.3946, s2.loss_bbox: 0.0556, loss: 3.8856\n",
      "2021-05-19 21:24:38,291 - mmdet - INFO - Epoch [1][100/818]\tlr: 1.988e-05, eta: 7:19:32, time: 1.973, data_time: 0.012, memory: 23626, loss_rpn_cls: 0.0947, loss_rpn_bbox: 0.0297, s0.loss_cls: 0.9477, s0.acc: 85.8955, s0.loss_bbox: 0.1385, s1.loss_cls: 0.4699, s1.acc: 85.9094, s1.loss_bbox: 0.1196, s2.loss_cls: 0.2351, s2.acc: 86.8676, s2.loss_bbox: 0.0614, loss: 2.0967\n",
      "2021-05-19 21:26:19,049 - mmdet - INFO - Epoch [1][150/818]\tlr: 2.987e-05, eta: 7:16:44, time: 2.015, data_time: 0.012, memory: 23626, loss_rpn_cls: 0.0771, loss_rpn_bbox: 0.0322, s0.loss_cls: 0.8163, s0.acc: 88.3623, s0.loss_bbox: 0.1274, s1.loss_cls: 0.4080, s1.acc: 88.8168, s1.loss_bbox: 0.1073, s2.loss_cls: 0.2023, s2.acc: 89.1269, s2.loss_bbox: 0.0588, loss: 1.8293\n",
      "2021-05-19 21:28:01,918 - mmdet - INFO - Epoch [1][200/818]\tlr: 3.986e-05, eta: 7:16:46, time: 2.057, data_time: 0.012, memory: 23626, loss_rpn_cls: 0.0711, loss_rpn_bbox: 0.0303, s0.loss_cls: 0.7861, s0.acc: 90.0029, s0.loss_bbox: 0.1193, s1.loss_cls: 0.3945, s1.acc: 90.1764, s1.loss_bbox: 0.0992, s2.loss_cls: 0.1960, s2.acc: 90.4194, s2.loss_bbox: 0.0518, loss: 1.7484\n",
      "2021-05-19 21:29:45,334 - mmdet - INFO - Epoch [1][250/818]\tlr: 4.985e-05, eta: 7:16:34, time: 2.068, data_time: 0.012, memory: 23626, loss_rpn_cls: 0.0611, loss_rpn_bbox: 0.0304, s0.loss_cls: 0.8049, s0.acc: 90.2012, s0.loss_bbox: 0.1327, s1.loss_cls: 0.4015, s1.acc: 90.4205, s1.loss_bbox: 0.1139, s2.loss_cls: 0.2008, s2.acc: 90.7172, s2.loss_bbox: 0.0602, loss: 1.8055\n",
      "2021-05-19 21:31:21,624 - mmdet - INFO - Epoch [1][300/818]\tlr: 5.984e-05, eta: 7:10:47, time: 1.926, data_time: 0.011, memory: 23626, loss_rpn_cls: 0.0624, loss_rpn_bbox: 0.0253, s0.loss_cls: 0.7084, s0.acc: 90.0645, s0.loss_bbox: 0.1240, s1.loss_cls: 0.3503, s1.acc: 90.5203, s1.loss_bbox: 0.1093, s2.loss_cls: 0.1777, s2.acc: 91.0284, s2.loss_bbox: 0.0579, loss: 1.6153\n",
      "2021-05-19 21:33:00,074 - mmdet - INFO - Epoch [1][350/818]\tlr: 6.983e-05, eta: 7:07:31, time: 1.969, data_time: 0.011, memory: 23626, loss_rpn_cls: 0.0655, loss_rpn_bbox: 0.0304, s0.loss_cls: 0.5455, s0.acc: 91.3525, s0.loss_bbox: 0.1145, s1.loss_cls: 0.2676, s1.acc: 91.5793, s1.loss_bbox: 0.0977, s2.loss_cls: 0.1395, s2.acc: 92.0762, s2.loss_bbox: 0.0534, loss: 1.3140\n",
      "2021-05-19 21:34:38,137 - mmdet - INFO - Epoch [1][400/818]\tlr: 7.982e-05, eta: 7:04:27, time: 1.961, data_time: 0.011, memory: 23626, loss_rpn_cls: 0.0604, loss_rpn_bbox: 0.0306, s0.loss_cls: 0.4316, s0.acc: 90.0674, s0.loss_bbox: 0.1413, s1.loss_cls: 0.2106, s1.acc: 90.3159, s1.loss_bbox: 0.1190, s2.loss_cls: 0.1072, s2.acc: 90.8416, s2.loss_bbox: 0.0616, loss: 1.1624\n",
      "2021-05-19 21:36:13,333 - mmdet - INFO - Epoch [1][450/818]\tlr: 8.981e-05, eta: 7:00:22, time: 1.904, data_time: 0.011, memory: 23626, loss_rpn_cls: 0.0674, loss_rpn_bbox: 0.0332, s0.loss_cls: 0.3842, s0.acc: 90.2588, s0.loss_bbox: 0.1333, s1.loss_cls: 0.1858, s1.acc: 90.6389, s1.loss_bbox: 0.1148, s2.loss_cls: 0.0927, s2.acc: 90.9152, s2.loss_bbox: 0.0629, loss: 1.0744\n",
      "2021-05-19 21:37:51,529 - mmdet - INFO - Epoch [1][500/818]\tlr: 9.980e-05, eta: 6:58:02, time: 1.964, data_time: 0.011, memory: 23626, loss_rpn_cls: 0.0609, loss_rpn_bbox: 0.0305, s0.loss_cls: 0.3604, s0.acc: 90.1064, s0.loss_bbox: 0.1300, s1.loss_cls: 0.1773, s1.acc: 90.1538, s1.loss_bbox: 0.1145, s2.loss_cls: 0.0863, s2.acc: 90.4120, s2.loss_bbox: 0.0606, loss: 1.0206\n",
      "2021-05-19 21:39:30,955 - mmdet - INFO - Epoch [1][550/818]\tlr: 1.000e-04, eta: 6:56:18, time: 1.989, data_time: 0.012, memory: 23626, loss_rpn_cls: 0.0546, loss_rpn_bbox: 0.0295, s0.loss_cls: 0.3432, s0.acc: 90.3857, s0.loss_bbox: 0.1275, s1.loss_cls: 0.1662, s1.acc: 90.5133, s1.loss_bbox: 0.1112, s2.loss_cls: 0.0799, s2.acc: 90.8502, s2.loss_bbox: 0.0576, loss: 0.9697\n",
      "2021-05-19 21:41:09,606 - mmdet - INFO - Epoch [1][600/818]\tlr: 1.000e-04, eta: 6:54:18, time: 1.973, data_time: 0.011, memory: 23626, loss_rpn_cls: 0.0637, loss_rpn_bbox: 0.0269, s0.loss_cls: 0.3430, s0.acc: 90.5771, s0.loss_bbox: 0.1180, s1.loss_cls: 0.1728, s1.acc: 90.4428, s1.loss_bbox: 0.1098, s2.loss_cls: 0.0845, s2.acc: 90.6784, s2.loss_bbox: 0.0607, loss: 0.9793\n",
      "2021-05-19 21:42:48,820 - mmdet - INFO - Epoch [1][650/818]\tlr: 1.000e-04, eta: 6:52:32, time: 1.984, data_time: 0.012, memory: 23627, loss_rpn_cls: 0.0691, loss_rpn_bbox: 0.0304, s0.loss_cls: 0.3405, s0.acc: 90.4521, s0.loss_bbox: 0.1270, s1.loss_cls: 0.1668, s1.acc: 90.6411, s1.loss_bbox: 0.1140, s2.loss_cls: 0.0786, s2.acc: 91.0419, s2.loss_bbox: 0.0613, loss: 0.9876\n",
      "2021-05-19 21:44:31,144 - mmdet - INFO - Epoch [1][700/818]\tlr: 1.000e-04, eta: 6:51:43, time: 2.046, data_time: 0.012, memory: 23627, loss_rpn_cls: 0.0643, loss_rpn_bbox: 0.0339, s0.loss_cls: 0.3507, s0.acc: 89.9971, s0.loss_bbox: 0.1356, s1.loss_cls: 0.1723, s1.acc: 90.0489, s1.loss_bbox: 0.1235, s2.loss_cls: 0.0840, s2.acc: 90.3497, s2.loss_bbox: 0.0657, loss: 1.0300\n",
      "2021-05-19 21:46:11,413 - mmdet - INFO - Epoch [1][750/818]\tlr: 1.000e-04, eta: 6:50:12, time: 2.005, data_time: 0.012, memory: 23627, loss_rpn_cls: 0.0543, loss_rpn_bbox: 0.0306, s0.loss_cls: 0.3435, s0.acc: 90.5713, s0.loss_bbox: 0.1307, s1.loss_cls: 0.1661, s1.acc: 90.7919, s1.loss_bbox: 0.1134, s2.loss_cls: 0.0778, s2.acc: 91.1280, s2.loss_bbox: 0.0576, loss: 0.9740\n",
      "2021-05-19 21:47:54,975 - mmdet - INFO - Epoch [1][800/818]\tlr: 1.000e-04, eta: 6:49:31, time: 2.071, data_time: 0.012, memory: 23627, loss_rpn_cls: 0.0593, loss_rpn_bbox: 0.0325, s0.loss_cls: 0.3607, s0.acc: 89.5977, s0.loss_bbox: 0.1458, s1.loss_cls: 0.1749, s1.acc: 89.9415, s1.loss_bbox: 0.1235, s2.loss_cls: 0.0829, s2.acc: 90.1219, s2.loss_bbox: 0.0622, loss: 1.0417\n",
      "2021-05-19 21:48:31,526 - mmdet - INFO - Saving checkpoint at 1 epochs\n"
     ]
    },
    {
     "name": "stdout",
     "output_type": "stream",
     "text": [
      "[>>>>>>>>>>>>>>>>>>>>>>>>>>>>>>] 655/655, 8.6 task/s, elapsed: 76s, ETA:     0s"
     ]
    },
    {
     "name": "stderr",
     "output_type": "stream",
     "text": [
      "2021-05-19 21:49:51,321 - mmdet - INFO - Evaluating bbox...\n"
     ]
    },
    {
     "name": "stdout",
     "output_type": "stream",
     "text": [
      "Loading and preparing results...\n",
      "DONE (t=0.64s)\n",
      "creating index...\n",
      "index created!\n",
      "Running per image evaluation...\n",
      "Evaluate annotation type *bbox*\n",
      "DONE (t=5.16s).\n",
      "Accumulating evaluation results...\n",
      "DONE (t=0.79s).\n",
      "Average Precision  (AP) @[ IoU=0.50:0.95 | area=   all | maxDets=100 ] = 0.181\n",
      "Average Precision  (AP) @[ IoU=0.50      | area=   all | maxDets=1000 ] = 0.259\n",
      "Average Precision  (AP) @[ IoU=0.75      | area=   all | maxDets=1000 ] = 0.197\n",
      "Average Precision  (AP) @[ IoU=0.50:0.95 | area= small | maxDets=1000 ] = 0.077\n",
      "Average Precision  (AP) @[ IoU=0.50:0.95 | area=medium | maxDets=1000 ] = 0.194\n",
      "Average Precision  (AP) @[ IoU=0.50:0.95 | area= large | maxDets=1000 ] = 0.305\n",
      "Average Recall     (AR) @[ IoU=0.50:0.95 | area=   all | maxDets=100 ] = 0.331\n",
      "Average Recall     (AR) @[ IoU=0.50:0.95 | area=   all | maxDets=300 ] = 0.331\n",
      "Average Recall     (AR) @[ IoU=0.50:0.95 | area=   all | maxDets=1000 ] = 0.331\n",
      "Average Recall     (AR) @[ IoU=0.50:0.95 | area= small | maxDets=1000 ] = 0.143\n",
      "Average Recall     (AR) @[ IoU=0.50:0.95 | area=medium | maxDets=1000 ] = 0.342\n",
      "Average Recall     (AR) @[ IoU=0.50:0.95 | area= large | maxDets=1000 ] = 0.531\n"
     ]
    },
    {
     "name": "stderr",
     "output_type": "stream",
     "text": [
      "2021-05-19 21:50:07,656 - mmdet - INFO - Now best checkpoint is epoch_1.pth.Best bbox_mAP_50 is 0.2590\n",
      "2021-05-19 21:50:07,661 - mmdet - INFO - Epoch(val) [1][818]\tbbox_mAP: 0.1810, bbox_mAP_50: 0.2590, bbox_mAP_75: 0.1970, bbox_mAP_s: 0.0770, bbox_mAP_m: 0.1940, bbox_mAP_l: 0.3050, bbox_mAP_copypaste: 0.181 0.259 0.197 0.077 0.194 0.305\n",
      "2021-05-19 21:51:51,586 - mmdet - INFO - Epoch [2][50/818]\tlr: 1.000e-04, eta: 6:39:44, time: 2.078, data_time: 0.100, memory: 23627, loss_rpn_cls: 0.0465, loss_rpn_bbox: 0.0269, s0.loss_cls: 0.2793, s0.acc: 91.6787, s0.loss_bbox: 0.1207, s1.loss_cls: 0.1365, s1.acc: 91.7151, s1.loss_bbox: 0.1088, s2.loss_cls: 0.0651, s2.acc: 91.9960, s2.loss_bbox: 0.0558, loss: 0.8394\n",
      "2021-05-19 21:53:30,110 - mmdet - INFO - Epoch [2][100/818]\tlr: 1.000e-04, eta: 6:38:11, time: 1.970, data_time: 0.012, memory: 23627, loss_rpn_cls: 0.0554, loss_rpn_bbox: 0.0288, s0.loss_cls: 0.2930, s0.acc: 91.2275, s0.loss_bbox: 0.1202, s1.loss_cls: 0.1421, s1.acc: 91.4967, s1.loss_bbox: 0.1086, s2.loss_cls: 0.0687, s2.acc: 91.7395, s2.loss_bbox: 0.0597, loss: 0.8766\n",
      "2021-05-19 21:55:15,677 - mmdet - INFO - Epoch [2][150/818]\tlr: 1.000e-04, eta: 6:38:05, time: 2.111, data_time: 0.013, memory: 23627, loss_rpn_cls: 0.0544, loss_rpn_bbox: 0.0326, s0.loss_cls: 0.3316, s0.acc: 90.3975, s0.loss_bbox: 0.1289, s1.loss_cls: 0.1608, s1.acc: 90.4835, s1.loss_bbox: 0.1163, s2.loss_cls: 0.0774, s2.acc: 90.8911, s2.loss_bbox: 0.0637, loss: 0.9656\n",
      "2021-05-19 21:56:55,497 - mmdet - INFO - Epoch [2][200/818]\tlr: 1.000e-04, eta: 6:36:42, time: 1.996, data_time: 0.012, memory: 23627, loss_rpn_cls: 0.0511, loss_rpn_bbox: 0.0292, s0.loss_cls: 0.3137, s0.acc: 90.8799, s0.loss_bbox: 0.1291, s1.loss_cls: 0.1517, s1.acc: 91.2592, s1.loss_bbox: 0.1118, s2.loss_cls: 0.0716, s2.acc: 91.6207, s2.loss_bbox: 0.0598, loss: 0.9180\n",
      "2021-05-19 21:58:38,502 - mmdet - INFO - Epoch [2][250/818]\tlr: 1.000e-04, eta: 6:35:53, time: 2.060, data_time: 0.013, memory: 23627, loss_rpn_cls: 0.0552, loss_rpn_bbox: 0.0290, s0.loss_cls: 0.3202, s0.acc: 90.7578, s0.loss_bbox: 0.1286, s1.loss_cls: 0.1523, s1.acc: 91.1842, s1.loss_bbox: 0.1109, s2.loss_cls: 0.0733, s2.acc: 91.3808, s2.loss_bbox: 0.0612, loss: 0.9308\n",
      "2021-05-19 22:00:17,452 - mmdet - INFO - Epoch [2][300/818]\tlr: 1.000e-04, eta: 6:34:16, time: 1.979, data_time: 0.012, memory: 23627, loss_rpn_cls: 0.0583, loss_rpn_bbox: 0.0288, s0.loss_cls: 0.3151, s0.acc: 91.1680, s0.loss_bbox: 0.1273, s1.loss_cls: 0.1510, s1.acc: 91.4892, s1.loss_bbox: 0.1062, s2.loss_cls: 0.0718, s2.acc: 91.7279, s2.loss_bbox: 0.0567, loss: 0.9150\n",
      "2021-05-19 22:01:54,693 - mmdet - INFO - Epoch [2][350/818]\tlr: 1.000e-04, eta: 6:32:21, time: 1.945, data_time: 0.012, memory: 23627, loss_rpn_cls: 0.0561, loss_rpn_bbox: 0.0293, s0.loss_cls: 0.3115, s0.acc: 90.9658, s0.loss_bbox: 0.1241, s1.loss_cls: 0.1511, s1.acc: 91.1676, s1.loss_bbox: 0.1075, s2.loss_cls: 0.0727, s2.acc: 91.3656, s2.loss_bbox: 0.0584, loss: 0.9107\n",
      "2021-05-19 22:03:31,774 - mmdet - INFO - Epoch [2][400/818]\tlr: 1.000e-04, eta: 6:30:26, time: 1.942, data_time: 0.012, memory: 23627, loss_rpn_cls: 0.0572, loss_rpn_bbox: 0.0289, s0.loss_cls: 0.3332, s0.acc: 90.3037, s0.loss_bbox: 0.1348, s1.loss_cls: 0.1654, s1.acc: 90.3017, s1.loss_bbox: 0.1239, s2.loss_cls: 0.0779, s2.acc: 90.7617, s2.loss_bbox: 0.0639, loss: 0.9852\n",
      "2021-05-19 22:05:11,289 - mmdet - INFO - Epoch [2][450/818]\tlr: 1.000e-04, eta: 6:28:55, time: 1.990, data_time: 0.012, memory: 23627, loss_rpn_cls: 0.0458, loss_rpn_bbox: 0.0255, s0.loss_cls: 0.3214, s0.acc: 90.7188, s0.loss_bbox: 0.1284, s1.loss_cls: 0.1559, s1.acc: 90.9308, s1.loss_bbox: 0.1148, s2.loss_cls: 0.0744, s2.acc: 91.1951, s2.loss_bbox: 0.0611, loss: 0.9274\n",
      "2021-05-19 22:06:53,815 - mmdet - INFO - Epoch [2][500/818]\tlr: 1.000e-04, eta: 6:27:50, time: 2.050, data_time: 0.013, memory: 23627, loss_rpn_cls: 0.0557, loss_rpn_bbox: 0.0320, s0.loss_cls: 0.3171, s0.acc: 90.4512, s0.loss_bbox: 0.1329, s1.loss_cls: 0.1568, s1.acc: 90.7615, s1.loss_bbox: 0.1197, s2.loss_cls: 0.0748, s2.acc: 91.0092, s2.loss_bbox: 0.0631, loss: 0.9520\n",
      "2021-05-19 22:08:32,967 - mmdet - INFO - Epoch [2][550/818]\tlr: 1.000e-04, eta: 6:26:14, time: 1.983, data_time: 0.012, memory: 23627, loss_rpn_cls: 0.0554, loss_rpn_bbox: 0.0307, s0.loss_cls: 0.3081, s0.acc: 91.0566, s0.loss_bbox: 0.1274, s1.loss_cls: 0.1493, s1.acc: 91.1361, s1.loss_bbox: 0.1069, s2.loss_cls: 0.0710, s2.acc: 91.5104, s2.loss_bbox: 0.0560, loss: 0.9049\n",
      "2021-05-19 22:10:11,753 - mmdet - INFO - Epoch [2][600/818]\tlr: 1.000e-04, eta: 6:24:34, time: 1.976, data_time: 0.012, memory: 23627, loss_rpn_cls: 0.0512, loss_rpn_bbox: 0.0303, s0.loss_cls: 0.3202, s0.acc: 90.8906, s0.loss_bbox: 0.1221, s1.loss_cls: 0.1539, s1.acc: 91.0118, s1.loss_bbox: 0.1034, s2.loss_cls: 0.0729, s2.acc: 91.4818, s2.loss_bbox: 0.0549, loss: 0.9090\n",
      "2021-05-19 22:11:48,602 - mmdet - INFO - Epoch [2][650/818]\tlr: 1.000e-04, eta: 6:22:39, time: 1.937, data_time: 0.012, memory: 23627, loss_rpn_cls: 0.0585, loss_rpn_bbox: 0.0269, s0.loss_cls: 0.2974, s0.acc: 91.3223, s0.loss_bbox: 0.1178, s1.loss_cls: 0.1455, s1.acc: 91.6038, s1.loss_bbox: 0.1048, s2.loss_cls: 0.0691, s2.acc: 92.0250, s2.loss_bbox: 0.0545, loss: 0.8746\n",
      "2021-05-19 22:13:30,141 - mmdet - INFO - Epoch [2][700/818]\tlr: 1.000e-04, eta: 6:21:22, time: 2.031, data_time: 0.013, memory: 23627, loss_rpn_cls: 0.0459, loss_rpn_bbox: 0.0278, s0.loss_cls: 0.2957, s0.acc: 91.2725, s0.loss_bbox: 0.1235, s1.loss_cls: 0.1449, s1.acc: 91.3969, s1.loss_bbox: 0.1104, s2.loss_cls: 0.0687, s2.acc: 91.7984, s2.loss_bbox: 0.0588, loss: 0.8756\n",
      "2021-05-19 22:15:10,641 - mmdet - INFO - Epoch [2][750/818]\tlr: 1.000e-04, eta: 6:19:55, time: 2.010, data_time: 0.013, memory: 23627, loss_rpn_cls: 0.0638, loss_rpn_bbox: 0.0330, s0.loss_cls: 0.3103, s0.acc: 90.5830, s0.loss_bbox: 0.1336, s1.loss_cls: 0.1502, s1.acc: 90.9467, s1.loss_bbox: 0.1134, s2.loss_cls: 0.0711, s2.acc: 91.3029, s2.loss_bbox: 0.0568, loss: 0.9321\n",
      "2021-05-19 22:16:50,770 - mmdet - INFO - Epoch [2][800/818]\tlr: 1.000e-04, eta: 6:18:24, time: 2.003, data_time: 0.013, memory: 23627, loss_rpn_cls: 0.0608, loss_rpn_bbox: 0.0302, s0.loss_cls: 0.2796, s0.acc: 91.4678, s0.loss_bbox: 0.1148, s1.loss_cls: 0.1384, s1.acc: 91.5445, s1.loss_bbox: 0.1039, s2.loss_cls: 0.0661, s2.acc: 91.8797, s2.loss_bbox: 0.0561, loss: 0.8499\n",
      "2021-05-19 22:17:23,376 - mmdet - INFO - Saving checkpoint at 2 epochs\n"
     ]
    },
    {
     "name": "stdout",
     "output_type": "stream",
     "text": [
      "[>>>>>>>>>>>>>>>>>>>>>>>>>>>>>>] 655/655, 8.7 task/s, elapsed: 75s, ETA:     0s"
     ]
    },
    {
     "name": "stderr",
     "output_type": "stream",
     "text": [
      "2021-05-19 22:18:42,681 - mmdet - INFO - Evaluating bbox...\n"
     ]
    },
    {
     "name": "stdout",
     "output_type": "stream",
     "text": [
      "Loading and preparing results...\n",
      "DONE (t=0.60s)\n",
      "creating index...\n",
      "index created!\n",
      "Running per image evaluation...\n",
      "Evaluate annotation type *bbox*\n",
      "DONE (t=4.79s).\n",
      "Accumulating evaluation results...\n",
      "DONE (t=0.71s).\n",
      "Average Precision  (AP) @[ IoU=0.50:0.95 | area=   all | maxDets=100 ] = 0.218\n",
      "Average Precision  (AP) @[ IoU=0.50      | area=   all | maxDets=1000 ] = 0.304\n",
      "Average Precision  (AP) @[ IoU=0.75      | area=   all | maxDets=1000 ] = 0.238\n",
      "Average Precision  (AP) @[ IoU=0.50:0.95 | area= small | maxDets=1000 ] = 0.092\n",
      "Average Precision  (AP) @[ IoU=0.50:0.95 | area=medium | maxDets=1000 ] = 0.218\n",
      "Average Precision  (AP) @[ IoU=0.50:0.95 | area= large | maxDets=1000 ] = 0.367\n",
      "Average Recall     (AR) @[ IoU=0.50:0.95 | area=   all | maxDets=100 ] = 0.352\n",
      "Average Recall     (AR) @[ IoU=0.50:0.95 | area=   all | maxDets=300 ] = 0.352\n",
      "Average Recall     (AR) @[ IoU=0.50:0.95 | area=   all | maxDets=1000 ] = 0.352\n",
      "Average Recall     (AR) @[ IoU=0.50:0.95 | area= small | maxDets=1000 ] = 0.175\n",
      "Average Recall     (AR) @[ IoU=0.50:0.95 | area=medium | maxDets=1000 ] = 0.361\n",
      "Average Recall     (AR) @[ IoU=0.50:0.95 | area= large | maxDets=1000 ] = 0.536\n"
     ]
    },
    {
     "name": "stderr",
     "output_type": "stream",
     "text": [
      "2021-05-19 22:18:58,565 - mmdet - INFO - Now best checkpoint is epoch_2.pth.Best bbox_mAP_50 is 0.3040\n",
      "2021-05-19 22:18:58,571 - mmdet - INFO - Epoch(val) [2][818]\tbbox_mAP: 0.2180, bbox_mAP_50: 0.3040, bbox_mAP_75: 0.2380, bbox_mAP_s: 0.0920, bbox_mAP_m: 0.2180, bbox_mAP_l: 0.3670, bbox_mAP_copypaste: 0.218 0.304 0.238 0.092 0.218 0.367\n",
      "2021-05-19 22:20:44,756 - mmdet - INFO - Epoch [3][50/818]\tlr: 1.000e-04, eta: 6:12:57, time: 2.123, data_time: 0.075, memory: 23627, loss_rpn_cls: 0.0508, loss_rpn_bbox: 0.0280, s0.loss_cls: 0.2693, s0.acc: 92.0039, s0.loss_bbox: 0.1118, s1.loss_cls: 0.1280, s1.acc: 92.2322, s1.loss_bbox: 0.0931, s2.loss_cls: 0.0601, s2.acc: 92.6480, s2.loss_bbox: 0.0506, loss: 0.7918\n",
      "2021-05-19 22:22:21,762 - mmdet - INFO - Epoch [3][100/818]\tlr: 1.000e-04, eta: 6:11:12, time: 1.940, data_time: 0.012, memory: 23627, loss_rpn_cls: 0.0474, loss_rpn_bbox: 0.0256, s0.loss_cls: 0.2901, s0.acc: 91.0703, s0.loss_bbox: 0.1234, s1.loss_cls: 0.1406, s1.acc: 91.2939, s1.loss_bbox: 0.1094, s2.loss_cls: 0.0679, s2.acc: 91.4424, s2.loss_bbox: 0.0605, loss: 0.8650\n",
      "2021-05-19 22:24:01,612 - mmdet - INFO - Epoch [3][150/818]\tlr: 1.000e-04, eta: 6:09:45, time: 1.997, data_time: 0.012, memory: 23627, loss_rpn_cls: 0.0470, loss_rpn_bbox: 0.0288, s0.loss_cls: 0.2661, s0.acc: 91.9395, s0.loss_bbox: 0.1126, s1.loss_cls: 0.1316, s1.acc: 91.9368, s1.loss_bbox: 0.1016, s2.loss_cls: 0.0639, s2.acc: 92.1051, s2.loss_bbox: 0.0544, loss: 0.8059\n",
      "2021-05-19 22:25:45,868 - mmdet - INFO - Epoch [3][200/818]\tlr: 1.000e-04, eta: 6:08:44, time: 2.085, data_time: 0.013, memory: 23627, loss_rpn_cls: 0.0533, loss_rpn_bbox: 0.0269, s0.loss_cls: 0.2849, s0.acc: 91.3281, s0.loss_bbox: 0.1220, s1.loss_cls: 0.1362, s1.acc: 91.6564, s1.loss_bbox: 0.1094, s2.loss_cls: 0.0655, s2.acc: 91.8528, s2.loss_bbox: 0.0611, loss: 0.8593\n",
      "2021-05-19 22:27:26,562 - mmdet - INFO - Epoch [3][250/818]\tlr: 1.000e-04, eta: 6:07:20, time: 2.014, data_time: 0.013, memory: 23627, loss_rpn_cls: 0.0491, loss_rpn_bbox: 0.0262, s0.loss_cls: 0.3129, s0.acc: 90.8135, s0.loss_bbox: 0.1225, s1.loss_cls: 0.1488, s1.acc: 91.1724, s1.loss_bbox: 0.1077, s2.loss_cls: 0.0698, s2.acc: 91.5226, s2.loss_bbox: 0.0571, loss: 0.8941\n",
      "2021-05-19 22:29:05,366 - mmdet - INFO - Epoch [3][300/818]\tlr: 1.000e-04, eta: 6:05:44, time: 1.976, data_time: 0.013, memory: 23627, loss_rpn_cls: 0.0402, loss_rpn_bbox: 0.0256, s0.loss_cls: 0.2712, s0.acc: 91.6035, s0.loss_bbox: 0.1178, s1.loss_cls: 0.1326, s1.acc: 91.8196, s1.loss_bbox: 0.1072, s2.loss_cls: 0.0649, s2.acc: 91.9973, s2.loss_bbox: 0.0613, loss: 0.8208\n",
      "2021-05-19 22:30:42,493 - mmdet - INFO - Epoch [3][350/818]\tlr: 1.000e-04, eta: 6:03:58, time: 1.943, data_time: 0.012, memory: 23627, loss_rpn_cls: 0.0522, loss_rpn_bbox: 0.0300, s0.loss_cls: 0.2760, s0.acc: 91.4932, s0.loss_bbox: 0.1187, s1.loss_cls: 0.1339, s1.acc: 91.6933, s1.loss_bbox: 0.1007, s2.loss_cls: 0.0640, s2.acc: 92.0935, s2.loss_bbox: 0.0554, loss: 0.8310\n",
      "2021-05-19 22:32:23,308 - mmdet - INFO - Epoch [3][400/818]\tlr: 1.000e-04, eta: 6:02:33, time: 2.016, data_time: 0.013, memory: 23627, loss_rpn_cls: 0.0495, loss_rpn_bbox: 0.0252, s0.loss_cls: 0.2754, s0.acc: 91.8066, s0.loss_bbox: 0.1170, s1.loss_cls: 0.1323, s1.acc: 92.0536, s1.loss_bbox: 0.1002, s2.loss_cls: 0.0640, s2.acc: 92.1017, s2.loss_bbox: 0.0536, loss: 0.8173\n",
      "2021-05-19 22:33:59,446 - mmdet - INFO - Epoch [3][450/818]\tlr: 1.000e-04, eta: 6:00:43, time: 1.923, data_time: 0.012, memory: 23627, loss_rpn_cls: 0.0573, loss_rpn_bbox: 0.0328, s0.loss_cls: 0.3066, s0.acc: 90.9121, s0.loss_bbox: 0.1289, s1.loss_cls: 0.1467, s1.acc: 91.2816, s1.loss_bbox: 0.1144, s2.loss_cls: 0.0684, s2.acc: 91.9230, s2.loss_bbox: 0.0605, loss: 0.9157\n",
      "2021-05-19 22:35:41,491 - mmdet - INFO - Epoch [3][500/818]\tlr: 1.000e-04, eta: 5:59:23, time: 2.041, data_time: 0.013, memory: 23627, loss_rpn_cls: 0.0560, loss_rpn_bbox: 0.0337, s0.loss_cls: 0.2863, s0.acc: 91.2715, s0.loss_bbox: 0.1176, s1.loss_cls: 0.1415, s1.acc: 91.3142, s1.loss_bbox: 0.1010, s2.loss_cls: 0.0681, s2.acc: 91.6150, s2.loss_bbox: 0.0544, loss: 0.8587\n",
      "2021-05-19 22:37:19,115 - mmdet - INFO - Epoch [3][550/818]\tlr: 1.000e-04, eta: 5:57:41, time: 1.952, data_time: 0.012, memory: 23627, loss_rpn_cls: 0.0456, loss_rpn_bbox: 0.0265, s0.loss_cls: 0.2729, s0.acc: 92.0762, s0.loss_bbox: 0.1113, s1.loss_cls: 0.1347, s1.acc: 92.2889, s1.loss_bbox: 0.0991, s2.loss_cls: 0.0641, s2.acc: 92.4592, s2.loss_bbox: 0.0536, loss: 0.8079\n",
      "2021-05-19 22:38:57,485 - mmdet - INFO - Epoch [3][600/818]\tlr: 1.000e-04, eta: 5:56:02, time: 1.967, data_time: 0.013, memory: 23627, loss_rpn_cls: 0.0555, loss_rpn_bbox: 0.0261, s0.loss_cls: 0.2885, s0.acc: 91.5010, s0.loss_bbox: 0.1190, s1.loss_cls: 0.1389, s1.acc: 91.7419, s1.loss_bbox: 0.1077, s2.loss_cls: 0.0657, s2.acc: 92.2119, s2.loss_bbox: 0.0580, loss: 0.8594\n",
      "2021-05-19 22:40:40,045 - mmdet - INFO - Epoch [3][650/818]\tlr: 1.000e-04, eta: 5:54:43, time: 2.051, data_time: 0.013, memory: 23627, loss_rpn_cls: 0.0560, loss_rpn_bbox: 0.0313, s0.loss_cls: 0.3075, s0.acc: 90.6641, s0.loss_bbox: 0.1372, s1.loss_cls: 0.1518, s1.acc: 90.7258, s1.loss_bbox: 0.1261, s2.loss_cls: 0.0740, s2.acc: 90.8161, s2.loss_bbox: 0.0685, loss: 0.9522\n",
      "2021-05-19 22:42:25,204 - mmdet - INFO - Epoch [3][700/818]\tlr: 1.000e-04, eta: 5:53:35, time: 2.103, data_time: 0.013, memory: 23627, loss_rpn_cls: 0.0473, loss_rpn_bbox: 0.0286, s0.loss_cls: 0.2870, s0.acc: 91.1475, s0.loss_bbox: 0.1195, s1.loss_cls: 0.1422, s1.acc: 91.1368, s1.loss_bbox: 0.1064, s2.loss_cls: 0.0692, s2.acc: 91.2110, s2.loss_bbox: 0.0564, loss: 0.8566\n",
      "2021-05-19 22:44:01,928 - mmdet - INFO - Epoch [3][750/818]\tlr: 1.000e-04, eta: 5:51:48, time: 1.934, data_time: 0.012, memory: 23627, loss_rpn_cls: 0.0536, loss_rpn_bbox: 0.0241, s0.loss_cls: 0.2889, s0.acc: 91.4756, s0.loss_bbox: 0.1169, s1.loss_cls: 0.1412, s1.acc: 91.5171, s1.loss_bbox: 0.1085, s2.loss_cls: 0.0675, s2.acc: 91.8214, s2.loss_bbox: 0.0593, loss: 0.8601\n",
      "2021-05-19 22:45:41,910 - mmdet - INFO - Epoch [3][800/818]\tlr: 1.000e-04, eta: 5:50:15, time: 2.000, data_time: 0.013, memory: 23627, loss_rpn_cls: 0.0548, loss_rpn_bbox: 0.0279, s0.loss_cls: 0.2587, s0.acc: 92.0996, s0.loss_bbox: 0.1114, s1.loss_cls: 0.1261, s1.acc: 92.2676, s1.loss_bbox: 0.0990, s2.loss_cls: 0.0605, s2.acc: 92.4014, s2.loss_bbox: 0.0529, loss: 0.7912\n",
      "2021-05-19 22:46:16,860 - mmdet - INFO - Saving checkpoint at 3 epochs\n"
     ]
    },
    {
     "name": "stdout",
     "output_type": "stream",
     "text": [
      "[>>>>>>>>>>>>>>>>>>>>>>>>>>>>>>] 655/655, 8.6 task/s, elapsed: 76s, ETA:     0s"
     ]
    },
    {
     "name": "stderr",
     "output_type": "stream",
     "text": [
      "2021-05-19 22:47:37,545 - mmdet - INFO - Evaluating bbox...\n"
     ]
    },
    {
     "name": "stdout",
     "output_type": "stream",
     "text": [
      "Loading and preparing results...\n",
      "DONE (t=0.58s)\n",
      "creating index...\n",
      "index created!\n",
      "Running per image evaluation...\n",
      "Evaluate annotation type *bbox*\n",
      "DONE (t=4.28s).\n",
      "Accumulating evaluation results...\n",
      "DONE (t=0.63s).\n",
      "Average Precision  (AP) @[ IoU=0.50:0.95 | area=   all | maxDets=100 ] = 0.311\n",
      "Average Precision  (AP) @[ IoU=0.50      | area=   all | maxDets=1000 ] = 0.413\n",
      "Average Precision  (AP) @[ IoU=0.75      | area=   all | maxDets=1000 ] = 0.337\n",
      "Average Precision  (AP) @[ IoU=0.50:0.95 | area= small | maxDets=1000 ] = 0.095\n",
      "Average Precision  (AP) @[ IoU=0.50:0.95 | area=medium | maxDets=1000 ] = 0.300\n",
      "Average Precision  (AP) @[ IoU=0.50:0.95 | area= large | maxDets=1000 ] = 0.504\n",
      "Average Recall     (AR) @[ IoU=0.50:0.95 | area=   all | maxDets=100 ] = 0.440\n",
      "Average Recall     (AR) @[ IoU=0.50:0.95 | area=   all | maxDets=300 ] = 0.440\n",
      "Average Recall     (AR) @[ IoU=0.50:0.95 | area=   all | maxDets=1000 ] = 0.440\n",
      "Average Recall     (AR) @[ IoU=0.50:0.95 | area= small | maxDets=1000 ] = 0.165\n",
      "Average Recall     (AR) @[ IoU=0.50:0.95 | area=medium | maxDets=1000 ] = 0.413\n",
      "Average Recall     (AR) @[ IoU=0.50:0.95 | area= large | maxDets=1000 ] = 0.687\n"
     ]
    },
    {
     "name": "stderr",
     "output_type": "stream",
     "text": [
      "2021-05-19 22:47:52,830 - mmdet - INFO - Now best checkpoint is epoch_3.pth.Best bbox_mAP_50 is 0.4130\n",
      "2021-05-19 22:47:52,836 - mmdet - INFO - Epoch(val) [3][818]\tbbox_mAP: 0.3110, bbox_mAP_50: 0.4130, bbox_mAP_75: 0.3370, bbox_mAP_s: 0.0950, bbox_mAP_m: 0.3000, bbox_mAP_l: 0.5040, bbox_mAP_copypaste: 0.311 0.413 0.337 0.095 0.300 0.504\n",
      "2021-05-19 22:49:38,488 - mmdet - INFO - Epoch [4][50/818]\tlr: 1.000e-04, eta: 5:46:01, time: 2.113, data_time: 0.119, memory: 23627, loss_rpn_cls: 0.0489, loss_rpn_bbox: 0.0272, s0.loss_cls: 0.2839, s0.acc: 91.2588, s0.loss_bbox: 0.1202, s1.loss_cls: 0.1363, s1.acc: 91.5126, s1.loss_bbox: 0.1123, s2.loss_cls: 0.0657, s2.acc: 91.5237, s2.loss_bbox: 0.0623, loss: 0.8567\n",
      "2021-05-19 22:51:16,460 - mmdet - INFO - Epoch [4][100/818]\tlr: 1.000e-04, eta: 5:44:22, time: 1.959, data_time: 0.012, memory: 23627, loss_rpn_cls: 0.0447, loss_rpn_bbox: 0.0272, s0.loss_cls: 0.2809, s0.acc: 91.3125, s0.loss_bbox: 0.1168, s1.loss_cls: 0.1367, s1.acc: 91.6716, s1.loss_bbox: 0.1067, s2.loss_cls: 0.0662, s2.acc: 91.7842, s2.loss_bbox: 0.0605, loss: 0.8397\n",
      "2021-05-19 22:52:59,285 - mmdet - INFO - Epoch [4][150/818]\tlr: 1.000e-04, eta: 5:43:03, time: 2.056, data_time: 0.012, memory: 23627, loss_rpn_cls: 0.0467, loss_rpn_bbox: 0.0270, s0.loss_cls: 0.2786, s0.acc: 91.5127, s0.loss_bbox: 0.1160, s1.loss_cls: 0.1363, s1.acc: 91.6463, s1.loss_bbox: 0.1053, s2.loss_cls: 0.0664, s2.acc: 91.8570, s2.loss_bbox: 0.0588, loss: 0.8353\n",
      "2021-05-19 22:54:41,485 - mmdet - INFO - Epoch [4][200/818]\tlr: 1.000e-04, eta: 5:41:41, time: 2.044, data_time: 0.013, memory: 23627, loss_rpn_cls: 0.0497, loss_rpn_bbox: 0.0288, s0.loss_cls: 0.2799, s0.acc: 91.4453, s0.loss_bbox: 0.1201, s1.loss_cls: 0.1366, s1.acc: 91.6050, s1.loss_bbox: 0.1046, s2.loss_cls: 0.0661, s2.acc: 91.6841, s2.loss_bbox: 0.0600, loss: 0.8459\n",
      "2021-05-19 22:56:25,658 - mmdet - INFO - Epoch [4][250/818]\tlr: 1.000e-04, eta: 5:40:25, time: 2.083, data_time: 0.012, memory: 23627, loss_rpn_cls: 0.0520, loss_rpn_bbox: 0.0304, s0.loss_cls: 0.2631, s0.acc: 92.0879, s0.loss_bbox: 0.1166, s1.loss_cls: 0.1266, s1.acc: 92.1670, s1.loss_bbox: 0.1023, s2.loss_cls: 0.0596, s2.acc: 92.6705, s2.loss_bbox: 0.0537, loss: 0.8043\n",
      "2021-05-19 22:58:02,314 - mmdet - INFO - Epoch [4][300/818]\tlr: 1.000e-04, eta: 5:38:41, time: 1.933, data_time: 0.012, memory: 23627, loss_rpn_cls: 0.0459, loss_rpn_bbox: 0.0293, s0.loss_cls: 0.2650, s0.acc: 91.9961, s0.loss_bbox: 0.1135, s1.loss_cls: 0.1275, s1.acc: 92.1564, s1.loss_bbox: 0.1009, s2.loss_cls: 0.0616, s2.acc: 92.3393, s2.loss_bbox: 0.0527, loss: 0.7964\n",
      "2021-05-19 22:59:40,441 - mmdet - INFO - Epoch [4][350/818]\tlr: 1.000e-04, eta: 5:37:01, time: 1.962, data_time: 0.012, memory: 23627, loss_rpn_cls: 0.0503, loss_rpn_bbox: 0.0360, s0.loss_cls: 0.3024, s0.acc: 90.7129, s0.loss_bbox: 0.1337, s1.loss_cls: 0.1469, s1.acc: 90.7256, s1.loss_bbox: 0.1190, s2.loss_cls: 0.0708, s2.acc: 91.0545, s2.loss_bbox: 0.0619, loss: 0.9210\n",
      "2021-05-19 23:01:21,022 - mmdet - INFO - Epoch [4][400/818]\tlr: 1.000e-04, eta: 5:35:31, time: 2.012, data_time: 0.013, memory: 23627, loss_rpn_cls: 0.0482, loss_rpn_bbox: 0.0246, s0.loss_cls: 0.2521, s0.acc: 92.2129, s0.loss_bbox: 0.1083, s1.loss_cls: 0.1221, s1.acc: 92.3473, s1.loss_bbox: 0.0969, s2.loss_cls: 0.0584, s2.acc: 92.7838, s2.loss_bbox: 0.0530, loss: 0.7636\n",
      "2021-05-19 23:02:59,814 - mmdet - INFO - Epoch [4][450/818]\tlr: 1.000e-04, eta: 5:33:54, time: 1.976, data_time: 0.013, memory: 23627, loss_rpn_cls: 0.0430, loss_rpn_bbox: 0.0211, s0.loss_cls: 0.2422, s0.acc: 92.8643, s0.loss_bbox: 0.0949, s1.loss_cls: 0.1169, s1.acc: 93.0188, s1.loss_bbox: 0.0869, s2.loss_cls: 0.0563, s2.acc: 93.2124, s2.loss_bbox: 0.0498, loss: 0.7111\n",
      "2021-05-19 23:04:45,567 - mmdet - INFO - Epoch [4][500/818]\tlr: 1.000e-04, eta: 5:32:41, time: 2.115, data_time: 0.013, memory: 23627, loss_rpn_cls: 0.0404, loss_rpn_bbox: 0.0250, s0.loss_cls: 0.2516, s0.acc: 92.3076, s0.loss_bbox: 0.1034, s1.loss_cls: 0.1247, s1.acc: 92.3373, s1.loss_bbox: 0.0944, s2.loss_cls: 0.0608, s2.acc: 92.5090, s2.loss_bbox: 0.0521, loss: 0.7525\n",
      "2021-05-19 23:06:18,825 - mmdet - INFO - Epoch [4][550/818]\tlr: 1.000e-04, eta: 5:30:45, time: 1.865, data_time: 0.012, memory: 23627, loss_rpn_cls: 0.0578, loss_rpn_bbox: 0.0303, s0.loss_cls: 0.3153, s0.acc: 90.6406, s0.loss_bbox: 0.1266, s1.loss_cls: 0.1518, s1.acc: 90.9051, s1.loss_bbox: 0.1142, s2.loss_cls: 0.0723, s2.acc: 91.3524, s2.loss_bbox: 0.0615, loss: 0.9299\n",
      "2021-05-19 23:08:02,908 - mmdet - INFO - Epoch [4][600/818]\tlr: 1.000e-04, eta: 5:29:26, time: 2.082, data_time: 0.013, memory: 23627, loss_rpn_cls: 0.0439, loss_rpn_bbox: 0.0301, s0.loss_cls: 0.2876, s0.acc: 91.2930, s0.loss_bbox: 0.1145, s1.loss_cls: 0.1417, s1.acc: 91.4676, s1.loss_bbox: 0.1025, s2.loss_cls: 0.0699, s2.acc: 91.2934, s2.loss_bbox: 0.0570, loss: 0.8472\n",
      "2021-05-19 23:09:46,085 - mmdet - INFO - Epoch [4][650/818]\tlr: 1.000e-04, eta: 5:28:02, time: 2.064, data_time: 0.014, memory: 23627, loss_rpn_cls: 0.0471, loss_rpn_bbox: 0.0284, s0.loss_cls: 0.2890, s0.acc: 91.4922, s0.loss_bbox: 0.1239, s1.loss_cls: 0.1378, s1.acc: 91.9504, s1.loss_bbox: 0.1056, s2.loss_cls: 0.0659, s2.acc: 92.1944, s2.loss_bbox: 0.0571, loss: 0.8549\n",
      "2021-05-19 23:11:24,682 - mmdet - INFO - Epoch [4][700/818]\tlr: 1.000e-04, eta: 5:26:24, time: 1.972, data_time: 0.012, memory: 23627, loss_rpn_cls: 0.0410, loss_rpn_bbox: 0.0233, s0.loss_cls: 0.2763, s0.acc: 91.8311, s0.loss_bbox: 0.1071, s1.loss_cls: 0.1346, s1.acc: 91.9768, s1.loss_bbox: 0.0968, s2.loss_cls: 0.0649, s2.acc: 92.1763, s2.loss_bbox: 0.0526, loss: 0.7965\n",
      "2021-05-19 23:13:06,730 - mmdet - INFO - Epoch [4][750/818]\tlr: 1.000e-04, eta: 5:24:56, time: 2.041, data_time: 0.013, memory: 23627, loss_rpn_cls: 0.0420, loss_rpn_bbox: 0.0248, s0.loss_cls: 0.2626, s0.acc: 92.0586, s0.loss_bbox: 0.1093, s1.loss_cls: 0.1252, s1.acc: 92.3928, s1.loss_bbox: 0.0975, s2.loss_cls: 0.0599, s2.acc: 92.5744, s2.loss_bbox: 0.0534, loss: 0.7747\n",
      "2021-05-19 23:14:41,051 - mmdet - INFO - Epoch [4][800/818]\tlr: 1.000e-04, eta: 5:23:04, time: 1.886, data_time: 0.012, memory: 23627, loss_rpn_cls: 0.0474, loss_rpn_bbox: 0.0251, s0.loss_cls: 0.2951, s0.acc: 90.9932, s0.loss_bbox: 0.1176, s1.loss_cls: 0.1473, s1.acc: 90.9527, s1.loss_bbox: 0.1065, s2.loss_cls: 0.0715, s2.acc: 91.2408, s2.loss_bbox: 0.0627, loss: 0.8733\n",
      "2021-05-19 23:15:18,530 - mmdet - INFO - Saving checkpoint at 4 epochs\n"
     ]
    },
    {
     "name": "stdout",
     "output_type": "stream",
     "text": [
      "[>>>>>>>>>>>>>>>>>>>>>>>>>>>>>>] 655/655, 8.7 task/s, elapsed: 76s, ETA:     0s"
     ]
    },
    {
     "name": "stderr",
     "output_type": "stream",
     "text": [
      "2021-05-19 23:16:38,603 - mmdet - INFO - Evaluating bbox...\n"
     ]
    },
    {
     "name": "stdout",
     "output_type": "stream",
     "text": [
      "Loading and preparing results...\n",
      "DONE (t=0.10s)\n",
      "creating index...\n",
      "index created!\n",
      "Running per image evaluation...\n",
      "Evaluate annotation type *bbox*\n",
      "DONE (t=5.45s).\n",
      "Accumulating evaluation results...\n",
      "DONE (t=0.69s).\n",
      "Average Precision  (AP) @[ IoU=0.50:0.95 | area=   all | maxDets=100 ] = 0.341\n",
      "Average Precision  (AP) @[ IoU=0.50      | area=   all | maxDets=1000 ] = 0.457\n",
      "Average Precision  (AP) @[ IoU=0.75      | area=   all | maxDets=1000 ] = 0.379\n",
      "Average Precision  (AP) @[ IoU=0.50:0.95 | area= small | maxDets=1000 ] = 0.140\n",
      "Average Precision  (AP) @[ IoU=0.50:0.95 | area=medium | maxDets=1000 ] = 0.339\n",
      "Average Precision  (AP) @[ IoU=0.50:0.95 | area= large | maxDets=1000 ] = 0.524\n",
      "Average Recall     (AR) @[ IoU=0.50:0.95 | area=   all | maxDets=100 ] = 0.481\n",
      "Average Recall     (AR) @[ IoU=0.50:0.95 | area=   all | maxDets=300 ] = 0.481\n",
      "Average Recall     (AR) @[ IoU=0.50:0.95 | area=   all | maxDets=1000 ] = 0.481\n",
      "Average Recall     (AR) @[ IoU=0.50:0.95 | area= small | maxDets=1000 ] = 0.239\n",
      "Average Recall     (AR) @[ IoU=0.50:0.95 | area=medium | maxDets=1000 ] = 0.465\n",
      "Average Recall     (AR) @[ IoU=0.50:0.95 | area= large | maxDets=1000 ] = 0.727\n"
     ]
    },
    {
     "name": "stderr",
     "output_type": "stream",
     "text": [
      "2021-05-19 23:16:54,623 - mmdet - INFO - Now best checkpoint is epoch_4.pth.Best bbox_mAP_50 is 0.4570\n",
      "2021-05-19 23:16:54,628 - mmdet - INFO - Epoch(val) [4][818]\tbbox_mAP: 0.3410, bbox_mAP_50: 0.4570, bbox_mAP_75: 0.3790, bbox_mAP_s: 0.1400, bbox_mAP_m: 0.3390, bbox_mAP_l: 0.5240, bbox_mAP_copypaste: 0.341 0.457 0.379 0.140 0.339 0.524\n",
      "2021-05-19 23:18:35,988 - mmdet - INFO - Epoch [5][50/818]\tlr: 1.000e-04, eta: 5:19:14, time: 2.027, data_time: 0.087, memory: 23627, loss_rpn_cls: 0.0465, loss_rpn_bbox: 0.0268, s0.loss_cls: 0.2605, s0.acc: 91.7891, s0.loss_bbox: 0.1177, s1.loss_cls: 0.1261, s1.acc: 92.0940, s1.loss_bbox: 0.1067, s2.loss_cls: 0.0614, s2.acc: 92.2989, s2.loss_bbox: 0.0592, loss: 0.8049\n",
      "2021-05-19 23:20:16,478 - mmdet - INFO - Epoch [5][100/818]\tlr: 1.000e-04, eta: 5:17:43, time: 2.010, data_time: 0.013, memory: 23627, loss_rpn_cls: 0.0495, loss_rpn_bbox: 0.0258, s0.loss_cls: 0.2554, s0.acc: 92.2676, s0.loss_bbox: 0.1141, s1.loss_cls: 0.1236, s1.acc: 92.5174, s1.loss_bbox: 0.1030, s2.loss_cls: 0.0598, s2.acc: 92.7078, s2.loss_bbox: 0.0580, loss: 0.7893\n",
      "2021-05-19 23:21:59,554 - mmdet - INFO - Epoch [5][150/818]\tlr: 1.000e-04, eta: 5:16:19, time: 2.061, data_time: 0.012, memory: 23627, loss_rpn_cls: 0.0514, loss_rpn_bbox: 0.0294, s0.loss_cls: 0.2871, s0.acc: 91.2988, s0.loss_bbox: 0.1189, s1.loss_cls: 0.1376, s1.acc: 91.6702, s1.loss_bbox: 0.1079, s2.loss_cls: 0.0667, s2.acc: 91.8526, s2.loss_bbox: 0.0621, loss: 0.8611\n",
      "2021-05-19 23:23:41,597 - mmdet - INFO - Epoch [5][200/818]\tlr: 1.000e-04, eta: 5:14:51, time: 2.041, data_time: 0.012, memory: 23627, loss_rpn_cls: 0.0467, loss_rpn_bbox: 0.0255, s0.loss_cls: 0.2673, s0.acc: 91.8750, s0.loss_bbox: 0.1118, s1.loss_cls: 0.1278, s1.acc: 92.2356, s1.loss_bbox: 0.1001, s2.loss_cls: 0.0606, s2.acc: 92.5765, s2.loss_bbox: 0.0548, loss: 0.7946\n",
      "2021-05-19 23:25:26,043 - mmdet - INFO - Epoch [5][250/818]\tlr: 1.000e-04, eta: 5:13:30, time: 2.089, data_time: 0.013, memory: 23627, loss_rpn_cls: 0.0449, loss_rpn_bbox: 0.0275, s0.loss_cls: 0.2660, s0.acc: 91.9727, s0.loss_bbox: 0.1134, s1.loss_cls: 0.1282, s1.acc: 92.1337, s1.loss_bbox: 0.1015, s2.loss_cls: 0.0618, s2.acc: 92.3482, s2.loss_bbox: 0.0555, loss: 0.7987\n",
      "2021-05-19 23:27:05,375 - mmdet - INFO - Epoch [5][300/818]\tlr: 1.000e-04, eta: 5:11:54, time: 1.987, data_time: 0.012, memory: 23627, loss_rpn_cls: 0.0411, loss_rpn_bbox: 0.0233, s0.loss_cls: 0.2563, s0.acc: 92.4561, s0.loss_bbox: 0.1095, s1.loss_cls: 0.1245, s1.acc: 92.6890, s1.loss_bbox: 0.0995, s2.loss_cls: 0.0597, s2.acc: 92.8432, s2.loss_bbox: 0.0531, loss: 0.7669\n",
      "2021-05-19 23:28:40,756 - mmdet - INFO - Epoch [5][350/818]\tlr: 1.000e-04, eta: 5:10:08, time: 1.908, data_time: 0.012, memory: 23627, loss_rpn_cls: 0.0410, loss_rpn_bbox: 0.0255, s0.loss_cls: 0.2634, s0.acc: 91.9385, s0.loss_bbox: 0.1094, s1.loss_cls: 0.1291, s1.acc: 92.0655, s1.loss_bbox: 0.1006, s2.loss_cls: 0.0623, s2.acc: 92.3148, s2.loss_bbox: 0.0588, loss: 0.7901\n",
      "2021-05-19 23:30:19,166 - mmdet - INFO - Epoch [5][400/818]\tlr: 1.000e-04, eta: 5:08:30, time: 1.968, data_time: 0.013, memory: 23627, loss_rpn_cls: 0.0414, loss_rpn_bbox: 0.0308, s0.loss_cls: 0.2785, s0.acc: 91.5166, s0.loss_bbox: 0.1206, s1.loss_cls: 0.1346, s1.acc: 91.6324, s1.loss_bbox: 0.1094, s2.loss_cls: 0.0653, s2.acc: 91.8585, s2.loss_bbox: 0.0609, loss: 0.8414\n",
      "2021-05-19 23:31:50,348 - mmdet - INFO - Epoch [5][450/818]\tlr: 1.000e-04, eta: 5:06:34, time: 1.824, data_time: 0.012, memory: 23627, loss_rpn_cls: 0.0500, loss_rpn_bbox: 0.0245, s0.loss_cls: 0.2845, s0.acc: 91.7930, s0.loss_bbox: 0.1090, s1.loss_cls: 0.1357, s1.acc: 92.1496, s1.loss_bbox: 0.0962, s2.loss_cls: 0.0655, s2.acc: 92.2920, s2.loss_bbox: 0.0557, loss: 0.8211\n",
      "2021-05-19 23:33:29,925 - mmdet - INFO - Epoch [5][500/818]\tlr: 1.000e-04, eta: 5:04:59, time: 1.992, data_time: 0.013, memory: 23627, loss_rpn_cls: 0.0413, loss_rpn_bbox: 0.0252, s0.loss_cls: 0.2781, s0.acc: 91.4688, s0.loss_bbox: 0.1175, s1.loss_cls: 0.1348, s1.acc: 91.5951, s1.loss_bbox: 0.1067, s2.loss_cls: 0.0656, s2.acc: 91.5698, s2.loss_bbox: 0.0594, loss: 0.8287\n",
      "2021-05-19 23:35:05,392 - mmdet - INFO - Epoch [5][550/818]\tlr: 1.000e-04, eta: 5:03:14, time: 1.909, data_time: 0.012, memory: 23627, loss_rpn_cls: 0.0600, loss_rpn_bbox: 0.0304, s0.loss_cls: 0.2786, s0.acc: 91.6445, s0.loss_bbox: 0.1122, s1.loss_cls: 0.1357, s1.acc: 91.8196, s1.loss_bbox: 0.0960, s2.loss_cls: 0.0645, s2.acc: 92.3264, s2.loss_bbox: 0.0514, loss: 0.8288\n",
      "2021-05-19 23:36:44,866 - mmdet - INFO - Epoch [5][600/818]\tlr: 1.000e-04, eta: 5:01:39, time: 1.989, data_time: 0.013, memory: 23627, loss_rpn_cls: 0.0540, loss_rpn_bbox: 0.0302, s0.loss_cls: 0.2856, s0.acc: 91.2646, s0.loss_bbox: 0.1233, s1.loss_cls: 0.1374, s1.acc: 91.5952, s1.loss_bbox: 0.1097, s2.loss_cls: 0.0659, s2.acc: 91.9001, s2.loss_bbox: 0.0624, loss: 0.8685\n",
      "2021-05-19 23:38:26,082 - mmdet - INFO - Epoch [5][650/818]\tlr: 1.000e-04, eta: 5:00:08, time: 2.024, data_time: 0.013, memory: 23627, loss_rpn_cls: 0.0454, loss_rpn_bbox: 0.0304, s0.loss_cls: 0.2783, s0.acc: 91.5898, s0.loss_bbox: 0.1182, s1.loss_cls: 0.1352, s1.acc: 91.7721, s1.loss_bbox: 0.1061, s2.loss_cls: 0.0663, s2.acc: 91.8987, s2.loss_bbox: 0.0561, loss: 0.8360\n",
      "2021-05-19 23:40:09,163 - mmdet - INFO - Epoch [5][700/818]\tlr: 1.000e-04, eta: 4:58:41, time: 2.062, data_time: 0.013, memory: 23627, loss_rpn_cls: 0.0408, loss_rpn_bbox: 0.0248, s0.loss_cls: 0.2561, s0.acc: 92.2158, s0.loss_bbox: 0.1119, s1.loss_cls: 0.1253, s1.acc: 92.2309, s1.loss_bbox: 0.1046, s2.loss_cls: 0.0614, s2.acc: 92.2200, s2.loss_bbox: 0.0602, loss: 0.7850\n",
      "2021-05-19 23:41:47,550 - mmdet - INFO - Epoch [5][750/818]\tlr: 1.000e-04, eta: 4:57:03, time: 1.968, data_time: 0.013, memory: 23627, loss_rpn_cls: 0.0528, loss_rpn_bbox: 0.0263, s0.loss_cls: 0.2708, s0.acc: 91.8330, s0.loss_bbox: 0.1128, s1.loss_cls: 0.1305, s1.acc: 91.9874, s1.loss_bbox: 0.1002, s2.loss_cls: 0.0624, s2.acc: 92.3484, s2.loss_bbox: 0.0547, loss: 0.8106\n",
      "2021-05-19 23:43:29,182 - mmdet - INFO - Epoch [5][800/818]\tlr: 1.000e-04, eta: 4:55:32, time: 2.033, data_time: 0.012, memory: 23627, loss_rpn_cls: 0.0417, loss_rpn_bbox: 0.0259, s0.loss_cls: 0.2681, s0.acc: 92.0020, s0.loss_bbox: 0.1108, s1.loss_cls: 0.1308, s1.acc: 92.3055, s1.loss_bbox: 0.1016, s2.loss_cls: 0.0635, s2.acc: 92.5152, s2.loss_bbox: 0.0565, loss: 0.7989\n",
      "2021-05-19 23:44:05,694 - mmdet - INFO - Saving checkpoint at 5 epochs\n"
     ]
    },
    {
     "name": "stdout",
     "output_type": "stream",
     "text": [
      "[>>>>>>>>>>>>>>>>>>>>>>>>>>>>>>] 655/655, 8.6 task/s, elapsed: 76s, ETA:     0s"
     ]
    },
    {
     "name": "stderr",
     "output_type": "stream",
     "text": [
      "2021-05-19 23:45:25,714 - mmdet - INFO - Evaluating bbox...\n"
     ]
    },
    {
     "name": "stdout",
     "output_type": "stream",
     "text": [
      "Loading and preparing results...\n",
      "DONE (t=0.07s)\n",
      "creating index...\n",
      "index created!\n",
      "Running per image evaluation...\n",
      "Evaluate annotation type *bbox*\n",
      "DONE (t=4.27s).\n",
      "Accumulating evaluation results...\n",
      "DONE (t=0.55s).\n",
      "Average Precision  (AP) @[ IoU=0.50:0.95 | area=   all | maxDets=100 ] = 0.347\n",
      "Average Precision  (AP) @[ IoU=0.50      | area=   all | maxDets=1000 ] = 0.465\n",
      "Average Precision  (AP) @[ IoU=0.75      | area=   all | maxDets=1000 ] = 0.370\n",
      "Average Precision  (AP) @[ IoU=0.50:0.95 | area= small | maxDets=1000 ] = 0.127\n",
      "Average Precision  (AP) @[ IoU=0.50:0.95 | area=medium | maxDets=1000 ] = 0.368\n",
      "Average Precision  (AP) @[ IoU=0.50:0.95 | area= large | maxDets=1000 ] = 0.555\n",
      "Average Recall     (AR) @[ IoU=0.50:0.95 | area=   all | maxDets=100 ] = 0.466\n",
      "Average Recall     (AR) @[ IoU=0.50:0.95 | area=   all | maxDets=300 ] = 0.466\n",
      "Average Recall     (AR) @[ IoU=0.50:0.95 | area=   all | maxDets=1000 ] = 0.466\n",
      "Average Recall     (AR) @[ IoU=0.50:0.95 | area= small | maxDets=1000 ] = 0.199\n",
      "Average Recall     (AR) @[ IoU=0.50:0.95 | area=medium | maxDets=1000 ] = 0.471\n",
      "Average Recall     (AR) @[ IoU=0.50:0.95 | area= large | maxDets=1000 ] = 0.698\n"
     ]
    },
    {
     "name": "stderr",
     "output_type": "stream",
     "text": [
      "2021-05-19 23:45:40,376 - mmdet - INFO - Now best checkpoint is epoch_5.pth.Best bbox_mAP_50 is 0.4650\n",
      "2021-05-19 23:45:40,382 - mmdet - INFO - Epoch(val) [5][818]\tbbox_mAP: 0.3470, bbox_mAP_50: 0.4650, bbox_mAP_75: 0.3700, bbox_mAP_s: 0.1270, bbox_mAP_m: 0.3680, bbox_mAP_l: 0.5550, bbox_mAP_copypaste: 0.347 0.465 0.370 0.127 0.368 0.555\n",
      "2021-05-19 23:47:21,783 - mmdet - INFO - Epoch [6][50/818]\tlr: 1.000e-04, eta: 4:52:08, time: 2.028, data_time: 0.079, memory: 23627, loss_rpn_cls: 0.0471, loss_rpn_bbox: 0.0270, s0.loss_cls: 0.2544, s0.acc: 92.1514, s0.loss_bbox: 0.1058, s1.loss_cls: 0.1267, s1.acc: 92.1711, s1.loss_bbox: 0.0960, s2.loss_cls: 0.0619, s2.acc: 92.2648, s2.loss_bbox: 0.0516, loss: 0.7705\n",
      "2021-05-19 23:49:03,507 - mmdet - INFO - Epoch [6][100/818]\tlr: 1.000e-04, eta: 4:50:38, time: 2.034, data_time: 0.012, memory: 23627, loss_rpn_cls: 0.0536, loss_rpn_bbox: 0.0272, s0.loss_cls: 0.2544, s0.acc: 92.1650, s0.loss_bbox: 0.1102, s1.loss_cls: 0.1221, s1.acc: 92.3628, s1.loss_bbox: 0.0991, s2.loss_cls: 0.0581, s2.acc: 92.6904, s2.loss_bbox: 0.0560, loss: 0.7807\n",
      "2021-05-19 23:50:43,329 - mmdet - INFO - Epoch [6][150/818]\tlr: 1.000e-04, eta: 4:49:04, time: 1.996, data_time: 0.012, memory: 23627, loss_rpn_cls: 0.0454, loss_rpn_bbox: 0.0239, s0.loss_cls: 0.2524, s0.acc: 92.3320, s0.loss_bbox: 0.1009, s1.loss_cls: 0.1213, s1.acc: 92.7794, s1.loss_bbox: 0.0913, s2.loss_cls: 0.0588, s2.acc: 93.0372, s2.loss_bbox: 0.0516, loss: 0.7457\n",
      "2021-05-19 23:52:18,938 - mmdet - INFO - Epoch [6][200/818]\tlr: 1.000e-04, eta: 4:47:21, time: 1.912, data_time: 0.012, memory: 23627, loss_rpn_cls: 0.0404, loss_rpn_bbox: 0.0222, s0.loss_cls: 0.2432, s0.acc: 92.6455, s0.loss_bbox: 0.1000, s1.loss_cls: 0.1171, s1.acc: 92.8807, s1.loss_bbox: 0.0893, s2.loss_cls: 0.0579, s2.acc: 92.8707, s2.loss_bbox: 0.0538, loss: 0.7239\n",
      "2021-05-19 23:54:00,102 - mmdet - INFO - Epoch [6][250/818]\tlr: 1.000e-04, eta: 4:45:50, time: 2.023, data_time: 0.012, memory: 23627, loss_rpn_cls: 0.0478, loss_rpn_bbox: 0.0287, s0.loss_cls: 0.2873, s0.acc: 91.4102, s0.loss_bbox: 0.1205, s1.loss_cls: 0.1404, s1.acc: 91.7111, s1.loss_bbox: 0.1069, s2.loss_cls: 0.0674, s2.acc: 91.9768, s2.loss_bbox: 0.0578, loss: 0.8568\n",
      "2021-05-19 23:55:39,163 - mmdet - INFO - Epoch [6][300/818]\tlr: 1.000e-04, eta: 4:44:14, time: 1.981, data_time: 0.012, memory: 23627, loss_rpn_cls: 0.0396, loss_rpn_bbox: 0.0259, s0.loss_cls: 0.2543, s0.acc: 92.1963, s0.loss_bbox: 0.1121, s1.loss_cls: 0.1194, s1.acc: 92.5879, s1.loss_bbox: 0.0966, s2.loss_cls: 0.0567, s2.acc: 92.9871, s2.loss_bbox: 0.0551, loss: 0.7598\n",
      "2021-05-19 23:57:20,738 - mmdet - INFO - Epoch [6][350/818]\tlr: 1.000e-04, eta: 4:42:43, time: 2.031, data_time: 0.012, memory: 23627, loss_rpn_cls: 0.0397, loss_rpn_bbox: 0.0262, s0.loss_cls: 0.2747, s0.acc: 91.7861, s0.loss_bbox: 0.1084, s1.loss_cls: 0.1368, s1.acc: 91.7069, s1.loss_bbox: 0.0986, s2.loss_cls: 0.0662, s2.acc: 91.7865, s2.loss_bbox: 0.0548, loss: 0.8053\n",
      "2021-05-19 23:58:58,196 - mmdet - INFO - Epoch [6][400/818]\tlr: 1.000e-04, eta: 4:41:03, time: 1.949, data_time: 0.012, memory: 23627, loss_rpn_cls: 0.0488, loss_rpn_bbox: 0.0275, s0.loss_cls: 0.2828, s0.acc: 91.3066, s0.loss_bbox: 0.1222, s1.loss_cls: 0.1361, s1.acc: 91.6012, s1.loss_bbox: 0.1097, s2.loss_cls: 0.0671, s2.acc: 91.7697, s2.loss_bbox: 0.0610, loss: 0.8552\n",
      "2021-05-20 00:00:33,114 - mmdet - INFO - Epoch [6][450/818]\tlr: 1.000e-04, eta: 4:39:19, time: 1.898, data_time: 0.012, memory: 23627, loss_rpn_cls: 0.0448, loss_rpn_bbox: 0.0278, s0.loss_cls: 0.2602, s0.acc: 92.0625, s0.loss_bbox: 0.1122, s1.loss_cls: 0.1284, s1.acc: 92.1636, s1.loss_bbox: 0.0979, s2.loss_cls: 0.0630, s2.acc: 92.1001, s2.loss_bbox: 0.0517, loss: 0.7860\n",
      "2021-05-20 00:02:13,515 - mmdet - INFO - Epoch [6][500/818]\tlr: 1.000e-04, eta: 4:37:46, time: 2.008, data_time: 0.012, memory: 23627, loss_rpn_cls: 0.0466, loss_rpn_bbox: 0.0258, s0.loss_cls: 0.2683, s0.acc: 91.8613, s0.loss_bbox: 0.1126, s1.loss_cls: 0.1311, s1.acc: 92.0178, s1.loss_bbox: 0.0950, s2.loss_cls: 0.0636, s2.acc: 92.2732, s2.loss_bbox: 0.0518, loss: 0.7948\n",
      "2021-05-20 00:03:51,629 - mmdet - INFO - Epoch [6][550/818]\tlr: 1.000e-04, eta: 4:36:08, time: 1.962, data_time: 0.013, memory: 23627, loss_rpn_cls: 0.0552, loss_rpn_bbox: 0.0276, s0.loss_cls: 0.2737, s0.acc: 91.7451, s0.loss_bbox: 0.1167, s1.loss_cls: 0.1321, s1.acc: 91.9370, s1.loss_bbox: 0.1060, s2.loss_cls: 0.0641, s2.acc: 91.9861, s2.loss_bbox: 0.0581, loss: 0.8336\n",
      "2021-05-20 00:05:28,792 - mmdet - INFO - Epoch [6][600/818]\tlr: 1.000e-04, eta: 4:34:28, time: 1.943, data_time: 0.013, memory: 23627, loss_rpn_cls: 0.0386, loss_rpn_bbox: 0.0183, s0.loss_cls: 0.2143, s0.acc: 93.5723, s0.loss_bbox: 0.0863, s1.loss_cls: 0.1023, s1.acc: 93.8985, s1.loss_bbox: 0.0776, s2.loss_cls: 0.0499, s2.acc: 94.0198, s2.loss_bbox: 0.0442, loss: 0.6316\n",
      "2021-05-20 00:07:14,619 - mmdet - INFO - Epoch [6][650/818]\tlr: 1.000e-04, eta: 4:33:04, time: 2.117, data_time: 0.013, memory: 23627, loss_rpn_cls: 0.0427, loss_rpn_bbox: 0.0256, s0.loss_cls: 0.2602, s0.acc: 91.9697, s0.loss_bbox: 0.1162, s1.loss_cls: 0.1242, s1.acc: 92.2164, s1.loss_bbox: 0.1063, s2.loss_cls: 0.0593, s2.acc: 92.5994, s2.loss_bbox: 0.0581, loss: 0.7925\n",
      "2021-05-20 00:08:58,517 - mmdet - INFO - Epoch [6][700/818]\tlr: 1.000e-04, eta: 4:31:36, time: 2.078, data_time: 0.013, memory: 23627, loss_rpn_cls: 0.0494, loss_rpn_bbox: 0.0317, s0.loss_cls: 0.2845, s0.acc: 91.4883, s0.loss_bbox: 0.1184, s1.loss_cls: 0.1363, s1.acc: 91.7983, s1.loss_bbox: 0.1081, s2.loss_cls: 0.0649, s2.acc: 92.0385, s2.loss_bbox: 0.0589, loss: 0.8523\n",
      "2021-05-20 00:10:34,300 - mmdet - INFO - Epoch [6][750/818]\tlr: 1.000e-04, eta: 4:29:53, time: 1.916, data_time: 0.013, memory: 23627, loss_rpn_cls: 0.0469, loss_rpn_bbox: 0.0282, s0.loss_cls: 0.2736, s0.acc: 92.0596, s0.loss_bbox: 0.1051, s1.loss_cls: 0.1320, s1.acc: 92.3872, s1.loss_bbox: 0.0943, s2.loss_cls: 0.0627, s2.acc: 92.6823, s2.loss_bbox: 0.0516, loss: 0.7945\n",
      "2021-05-20 00:12:08,466 - mmdet - INFO - Epoch [6][800/818]\tlr: 1.000e-04, eta: 4:28:08, time: 1.883, data_time: 0.012, memory: 23627, loss_rpn_cls: 0.0557, loss_rpn_bbox: 0.0313, s0.loss_cls: 0.2817, s0.acc: 91.2764, s0.loss_bbox: 0.1221, s1.loss_cls: 0.1392, s1.acc: 91.2382, s1.loss_bbox: 0.1115, s2.loss_cls: 0.0680, s2.acc: 91.3505, s2.loss_bbox: 0.0634, loss: 0.8728\n",
      "2021-05-20 00:12:45,347 - mmdet - INFO - Saving checkpoint at 6 epochs\n"
     ]
    },
    {
     "name": "stdout",
     "output_type": "stream",
     "text": [
      "[>>>>>>>>>>>>>>>>>>>>>>>>>>>>>>] 655/655, 8.7 task/s, elapsed: 75s, ETA:     0s"
     ]
    },
    {
     "name": "stderr",
     "output_type": "stream",
     "text": [
      "2021-05-20 00:14:04,783 - mmdet - INFO - Evaluating bbox...\n"
     ]
    },
    {
     "name": "stdout",
     "output_type": "stream",
     "text": [
      "Loading and preparing results...\n",
      "DONE (t=0.59s)\n",
      "creating index...\n",
      "index created!\n",
      "Running per image evaluation...\n",
      "Evaluate annotation type *bbox*\n",
      "DONE (t=5.30s).\n",
      "Accumulating evaluation results...\n",
      "DONE (t=0.72s).\n",
      "Average Precision  (AP) @[ IoU=0.50:0.95 | area=   all | maxDets=100 ] = 0.367\n",
      "Average Precision  (AP) @[ IoU=0.50      | area=   all | maxDets=1000 ] = 0.499\n",
      "Average Precision  (AP) @[ IoU=0.75      | area=   all | maxDets=1000 ] = 0.395\n",
      "Average Precision  (AP) @[ IoU=0.50:0.95 | area= small | maxDets=1000 ] = 0.135\n",
      "Average Precision  (AP) @[ IoU=0.50:0.95 | area=medium | maxDets=1000 ] = 0.376\n",
      "Average Precision  (AP) @[ IoU=0.50:0.95 | area= large | maxDets=1000 ] = 0.512\n",
      "Average Recall     (AR) @[ IoU=0.50:0.95 | area=   all | maxDets=100 ] = 0.489\n",
      "Average Recall     (AR) @[ IoU=0.50:0.95 | area=   all | maxDets=300 ] = 0.489\n",
      "Average Recall     (AR) @[ IoU=0.50:0.95 | area=   all | maxDets=1000 ] = 0.489\n",
      "Average Recall     (AR) @[ IoU=0.50:0.95 | area= small | maxDets=1000 ] = 0.211\n",
      "Average Recall     (AR) @[ IoU=0.50:0.95 | area=medium | maxDets=1000 ] = 0.488\n",
      "Average Recall     (AR) @[ IoU=0.50:0.95 | area= large | maxDets=1000 ] = 0.658\n"
     ]
    },
    {
     "name": "stderr",
     "output_type": "stream",
     "text": [
      "2021-05-20 00:14:21,183 - mmdet - INFO - Now best checkpoint is epoch_6.pth.Best bbox_mAP_50 is 0.4990\n",
      "2021-05-20 00:14:21,187 - mmdet - INFO - Epoch(val) [6][818]\tbbox_mAP: 0.3670, bbox_mAP_50: 0.4990, bbox_mAP_75: 0.3950, bbox_mAP_s: 0.1350, bbox_mAP_m: 0.3760, bbox_mAP_l: 0.5120, bbox_mAP_copypaste: 0.367 0.499 0.395 0.135 0.376 0.512\n",
      "2021-05-20 00:16:07,771 - mmdet - INFO - Epoch [7][50/818]\tlr: 1.000e-04, eta: 4:25:11, time: 2.131, data_time: 0.118, memory: 23627, loss_rpn_cls: 0.0381, loss_rpn_bbox: 0.0243, s0.loss_cls: 0.2391, s0.acc: 92.7461, s0.loss_bbox: 0.0996, s1.loss_cls: 0.1123, s1.acc: 93.0309, s1.loss_bbox: 0.0878, s2.loss_cls: 0.0544, s2.acc: 93.1541, s2.loss_bbox: 0.0498, loss: 0.7055\n",
      "2021-05-20 00:17:42,242 - mmdet - INFO - Epoch [7][100/818]\tlr: 1.000e-04, eta: 4:23:28, time: 1.889, data_time: 0.012, memory: 23627, loss_rpn_cls: 0.0506, loss_rpn_bbox: 0.0279, s0.loss_cls: 0.2459, s0.acc: 92.4316, s0.loss_bbox: 0.1104, s1.loss_cls: 0.1143, s1.acc: 92.9609, s1.loss_bbox: 0.0981, s2.loss_cls: 0.0549, s2.acc: 93.0891, s2.loss_bbox: 0.0554, loss: 0.7576\n",
      "2021-05-20 00:19:25,102 - mmdet - INFO - Epoch [7][150/818]\tlr: 1.000e-04, eta: 4:21:58, time: 2.057, data_time: 0.013, memory: 23627, loss_rpn_cls: 0.0355, loss_rpn_bbox: 0.0246, s0.loss_cls: 0.2290, s0.acc: 92.7881, s0.loss_bbox: 0.1054, s1.loss_cls: 0.1101, s1.acc: 92.9405, s1.loss_bbox: 0.0963, s2.loss_cls: 0.0531, s2.acc: 92.9118, s2.loss_bbox: 0.0543, loss: 0.7084\n",
      "2021-05-20 00:21:04,112 - mmdet - INFO - Epoch [7][200/818]\tlr: 1.000e-04, eta: 4:20:22, time: 1.980, data_time: 0.012, memory: 23627, loss_rpn_cls: 0.0479, loss_rpn_bbox: 0.0266, s0.loss_cls: 0.2437, s0.acc: 92.6406, s0.loss_bbox: 0.1087, s1.loss_cls: 0.1148, s1.acc: 92.9816, s1.loss_bbox: 0.0970, s2.loss_cls: 0.0558, s2.acc: 93.0772, s2.loss_bbox: 0.0565, loss: 0.7509\n",
      "2021-05-20 00:22:46,028 - mmdet - INFO - Epoch [7][250/818]\tlr: 1.000e-04, eta: 4:18:50, time: 2.038, data_time: 0.013, memory: 23627, loss_rpn_cls: 0.0411, loss_rpn_bbox: 0.0241, s0.loss_cls: 0.2480, s0.acc: 92.3174, s0.loss_bbox: 0.1053, s1.loss_cls: 0.1197, s1.acc: 92.5830, s1.loss_bbox: 0.0959, s2.loss_cls: 0.0583, s2.acc: 92.5993, s2.loss_bbox: 0.0551, loss: 0.7475\n",
      "2021-05-20 00:24:25,723 - mmdet - INFO - Epoch [7][300/818]\tlr: 1.000e-04, eta: 4:17:15, time: 1.994, data_time: 0.013, memory: 23627, loss_rpn_cls: 0.0442, loss_rpn_bbox: 0.0279, s0.loss_cls: 0.2690, s0.acc: 91.7686, s0.loss_bbox: 0.1073, s1.loss_cls: 0.1299, s1.acc: 92.1015, s1.loss_bbox: 0.0987, s2.loss_cls: 0.0635, s2.acc: 92.1891, s2.loss_bbox: 0.0572, loss: 0.7975\n",
      "2021-05-20 00:26:02,537 - mmdet - INFO - Epoch [7][350/818]\tlr: 1.000e-04, eta: 4:15:35, time: 1.936, data_time: 0.012, memory: 23627, loss_rpn_cls: 0.0479, loss_rpn_bbox: 0.0277, s0.loss_cls: 0.2491, s0.acc: 92.2832, s0.loss_bbox: 0.1085, s1.loss_cls: 0.1220, s1.acc: 92.4253, s1.loss_bbox: 0.0950, s2.loss_cls: 0.0599, s2.acc: 92.6074, s2.loss_bbox: 0.0528, loss: 0.7630\n",
      "2021-05-20 00:27:40,763 - mmdet - INFO - Epoch [7][400/818]\tlr: 1.000e-04, eta: 4:13:58, time: 1.964, data_time: 0.012, memory: 23627, loss_rpn_cls: 0.0410, loss_rpn_bbox: 0.0262, s0.loss_cls: 0.2638, s0.acc: 92.1348, s0.loss_bbox: 0.1122, s1.loss_cls: 0.1267, s1.acc: 92.2253, s1.loss_bbox: 0.1024, s2.loss_cls: 0.0605, s2.acc: 92.3948, s2.loss_bbox: 0.0568, loss: 0.7895\n",
      "2021-05-20 00:29:20,314 - mmdet - INFO - Epoch [7][450/818]\tlr: 1.000e-04, eta: 4:12:22, time: 1.991, data_time: 0.012, memory: 23627, loss_rpn_cls: 0.0366, loss_rpn_bbox: 0.0259, s0.loss_cls: 0.2437, s0.acc: 92.2393, s0.loss_bbox: 0.1046, s1.loss_cls: 0.1166, s1.acc: 92.5929, s1.loss_bbox: 0.0955, s2.loss_cls: 0.0567, s2.acc: 92.7990, s2.loss_bbox: 0.0536, loss: 0.7333\n",
      "2021-05-20 00:31:02,281 - mmdet - INFO - Epoch [7][500/818]\tlr: 1.000e-04, eta: 4:10:50, time: 2.039, data_time: 0.012, memory: 23627, loss_rpn_cls: 0.0435, loss_rpn_bbox: 0.0288, s0.loss_cls: 0.2631, s0.acc: 91.9619, s0.loss_bbox: 0.1155, s1.loss_cls: 0.1241, s1.acc: 92.4419, s1.loss_bbox: 0.0993, s2.loss_cls: 0.0586, s2.acc: 92.8047, s2.loss_bbox: 0.0550, loss: 0.7879\n",
      "2021-05-20 00:32:40,424 - mmdet - INFO - Epoch [7][550/818]\tlr: 1.000e-04, eta: 4:09:12, time: 1.963, data_time: 0.012, memory: 23627, loss_rpn_cls: 0.0452, loss_rpn_bbox: 0.0257, s0.loss_cls: 0.2598, s0.acc: 91.9629, s0.loss_bbox: 0.1083, s1.loss_cls: 0.1263, s1.acc: 92.3459, s1.loss_bbox: 0.0996, s2.loss_cls: 0.0617, s2.acc: 92.5036, s2.loss_bbox: 0.0568, loss: 0.7833\n",
      "2021-05-20 00:34:17,239 - mmdet - INFO - Epoch [7][600/818]\tlr: 1.000e-04, eta: 4:07:32, time: 1.936, data_time: 0.012, memory: 23627, loss_rpn_cls: 0.0452, loss_rpn_bbox: 0.0297, s0.loss_cls: 0.2727, s0.acc: 91.3740, s0.loss_bbox: 0.1197, s1.loss_cls: 0.1327, s1.acc: 91.5724, s1.loss_bbox: 0.1077, s2.loss_cls: 0.0643, s2.acc: 91.6459, s2.loss_bbox: 0.0632, loss: 0.8352\n",
      "2021-05-20 00:36:01,661 - mmdet - INFO - Epoch [7][650/818]\tlr: 1.000e-04, eta: 4:06:03, time: 2.088, data_time: 0.013, memory: 23627, loss_rpn_cls: 0.0511, loss_rpn_bbox: 0.0289, s0.loss_cls: 0.2758, s0.acc: 91.5693, s0.loss_bbox: 0.1220, s1.loss_cls: 0.1314, s1.acc: 91.9119, s1.loss_bbox: 0.1094, s2.loss_cls: 0.0638, s2.acc: 92.2357, s2.loss_bbox: 0.0601, loss: 0.8424\n",
      "2021-05-20 00:37:42,047 - mmdet - INFO - Epoch [7][700/818]\tlr: 1.000e-04, eta: 4:04:28, time: 2.008, data_time: 0.013, memory: 23627, loss_rpn_cls: 0.0357, loss_rpn_bbox: 0.0256, s0.loss_cls: 0.2600, s0.acc: 91.8818, s0.loss_bbox: 0.1157, s1.loss_cls: 0.1249, s1.acc: 92.1936, s1.loss_bbox: 0.1045, s2.loss_cls: 0.0597, s2.acc: 92.4662, s2.loss_bbox: 0.0576, loss: 0.7836\n",
      "2021-05-20 00:39:20,872 - mmdet - INFO - Epoch [7][750/818]\tlr: 1.000e-04, eta: 4:02:51, time: 1.976, data_time: 0.013, memory: 23627, loss_rpn_cls: 0.0402, loss_rpn_bbox: 0.0255, s0.loss_cls: 0.2583, s0.acc: 92.1094, s0.loss_bbox: 0.1135, s1.loss_cls: 0.1265, s1.acc: 92.2619, s1.loss_bbox: 0.1033, s2.loss_cls: 0.0610, s2.acc: 92.5010, s2.loss_bbox: 0.0559, loss: 0.7841\n",
      "2021-05-20 00:41:01,255 - mmdet - INFO - Epoch [7][800/818]\tlr: 1.000e-04, eta: 4:01:16, time: 2.008, data_time: 0.012, memory: 23627, loss_rpn_cls: 0.0364, loss_rpn_bbox: 0.0218, s0.loss_cls: 0.2130, s0.acc: 93.4463, s0.loss_bbox: 0.0907, s1.loss_cls: 0.1034, s1.acc: 93.6866, s1.loss_bbox: 0.0823, s2.loss_cls: 0.0504, s2.acc: 93.7597, s2.loss_bbox: 0.0467, loss: 0.6446\n",
      "2021-05-20 00:41:40,447 - mmdet - INFO - Saving checkpoint at 7 epochs\n"
     ]
    },
    {
     "name": "stdout",
     "output_type": "stream",
     "text": [
      "[>>>>>>>>>>>>>>>>>>>>>>>>>>>>>>] 655/655, 8.7 task/s, elapsed: 75s, ETA:     0s"
     ]
    },
    {
     "name": "stderr",
     "output_type": "stream",
     "text": [
      "2021-05-20 00:42:59,620 - mmdet - INFO - Evaluating bbox...\n"
     ]
    },
    {
     "name": "stdout",
     "output_type": "stream",
     "text": [
      "Loading and preparing results...\n",
      "DONE (t=0.64s)\n",
      "creating index...\n",
      "index created!\n",
      "Running per image evaluation...\n",
      "Evaluate annotation type *bbox*\n",
      "DONE (t=5.60s).\n",
      "Accumulating evaluation results...\n",
      "DONE (t=0.70s).\n",
      "Average Precision  (AP) @[ IoU=0.50:0.95 | area=   all | maxDets=100 ] = 0.400\n",
      "Average Precision  (AP) @[ IoU=0.50      | area=   all | maxDets=1000 ] = 0.537\n",
      "Average Precision  (AP) @[ IoU=0.75      | area=   all | maxDets=1000 ] = 0.434\n",
      "Average Precision  (AP) @[ IoU=0.50:0.95 | area= small | maxDets=1000 ] = 0.140\n",
      "Average Precision  (AP) @[ IoU=0.50:0.95 | area=medium | maxDets=1000 ] = 0.405\n",
      "Average Precision  (AP) @[ IoU=0.50:0.95 | area= large | maxDets=1000 ] = 0.630\n",
      "Average Recall     (AR) @[ IoU=0.50:0.95 | area=   all | maxDets=100 ] = 0.524\n",
      "Average Recall     (AR) @[ IoU=0.50:0.95 | area=   all | maxDets=300 ] = 0.524\n",
      "Average Recall     (AR) @[ IoU=0.50:0.95 | area=   all | maxDets=1000 ] = 0.524\n",
      "Average Recall     (AR) @[ IoU=0.50:0.95 | area= small | maxDets=1000 ] = 0.234\n",
      "Average Recall     (AR) @[ IoU=0.50:0.95 | area=medium | maxDets=1000 ] = 0.515\n",
      "Average Recall     (AR) @[ IoU=0.50:0.95 | area= large | maxDets=1000 ] = 0.763\n"
     ]
    },
    {
     "name": "stderr",
     "output_type": "stream",
     "text": [
      "2021-05-20 00:43:16,326 - mmdet - INFO - Now best checkpoint is epoch_7.pth.Best bbox_mAP_50 is 0.5370\n",
      "2021-05-20 00:43:16,331 - mmdet - INFO - Epoch(val) [7][818]\tbbox_mAP: 0.4000, bbox_mAP_50: 0.5370, bbox_mAP_75: 0.4340, bbox_mAP_s: 0.1400, bbox_mAP_m: 0.4050, bbox_mAP_l: 0.6300, bbox_mAP_copypaste: 0.400 0.537 0.434 0.140 0.405 0.630\n",
      "2021-05-20 00:45:04,672 - mmdet - INFO - Epoch [8][50/818]\tlr: 1.000e-04, eta: 3:58:31, time: 2.166, data_time: 0.094, memory: 23627, loss_rpn_cls: 0.0413, loss_rpn_bbox: 0.0279, s0.loss_cls: 0.2572, s0.acc: 92.0596, s0.loss_bbox: 0.1119, s1.loss_cls: 0.1220, s1.acc: 92.4592, s1.loss_bbox: 0.1011, s2.loss_cls: 0.0589, s2.acc: 92.6942, s2.loss_bbox: 0.0576, loss: 0.7781\n",
      "2021-05-20 00:46:37,305 - mmdet - INFO - Epoch [8][100/818]\tlr: 1.000e-04, eta: 3:56:47, time: 1.853, data_time: 0.012, memory: 23627, loss_rpn_cls: 0.0433, loss_rpn_bbox: 0.0280, s0.loss_cls: 0.2424, s0.acc: 92.4336, s0.loss_bbox: 0.1039, s1.loss_cls: 0.1148, s1.acc: 92.7603, s1.loss_bbox: 0.0928, s2.loss_cls: 0.0550, s2.acc: 92.9317, s2.loss_bbox: 0.0531, loss: 0.7333\n",
      "2021-05-20 00:48:19,343 - mmdet - INFO - Epoch [8][150/818]\tlr: 1.000e-04, eta: 3:55:14, time: 2.041, data_time: 0.012, memory: 23627, loss_rpn_cls: 0.0416, loss_rpn_bbox: 0.0249, s0.loss_cls: 0.2469, s0.acc: 92.0957, s0.loss_bbox: 0.1009, s1.loss_cls: 0.1193, s1.acc: 92.3041, s1.loss_bbox: 0.0942, s2.loss_cls: 0.0587, s2.acc: 92.4058, s2.loss_bbox: 0.0537, loss: 0.7403\n",
      "2021-05-20 00:50:00,045 - mmdet - INFO - Epoch [8][200/818]\tlr: 1.000e-04, eta: 3:53:40, time: 2.014, data_time: 0.012, memory: 23627, loss_rpn_cls: 0.0422, loss_rpn_bbox: 0.0254, s0.loss_cls: 0.2639, s0.acc: 91.7910, s0.loss_bbox: 0.1144, s1.loss_cls: 0.1265, s1.acc: 92.0758, s1.loss_bbox: 0.1034, s2.loss_cls: 0.0614, s2.acc: 92.2853, s2.loss_bbox: 0.0583, loss: 0.7956\n",
      "2021-05-20 00:51:42,120 - mmdet - INFO - Epoch [8][250/818]\tlr: 1.000e-04, eta: 3:52:07, time: 2.041, data_time: 0.013, memory: 23627, loss_rpn_cls: 0.0426, loss_rpn_bbox: 0.0251, s0.loss_cls: 0.2227, s0.acc: 92.9785, s0.loss_bbox: 0.0955, s1.loss_cls: 0.1069, s1.acc: 93.3188, s1.loss_bbox: 0.0860, s2.loss_cls: 0.0519, s2.acc: 93.3976, s2.loss_bbox: 0.0486, loss: 0.6792\n",
      "2021-05-20 00:53:21,342 - mmdet - INFO - Epoch [8][300/818]\tlr: 1.000e-04, eta: 3:50:30, time: 1.984, data_time: 0.012, memory: 23627, loss_rpn_cls: 0.0389, loss_rpn_bbox: 0.0256, s0.loss_cls: 0.2530, s0.acc: 92.0732, s0.loss_bbox: 0.1095, s1.loss_cls: 0.1223, s1.acc: 92.3910, s1.loss_bbox: 0.0971, s2.loss_cls: 0.0583, s2.acc: 92.6866, s2.loss_bbox: 0.0543, loss: 0.7589\n",
      "2021-05-20 00:55:03,433 - mmdet - INFO - Epoch [8][350/818]\tlr: 1.000e-04, eta: 3:48:57, time: 2.042, data_time: 0.012, memory: 23627, loss_rpn_cls: 0.0477, loss_rpn_bbox: 0.0292, s0.loss_cls: 0.2763, s0.acc: 91.6426, s0.loss_bbox: 0.1148, s1.loss_cls: 0.1311, s1.acc: 91.9922, s1.loss_bbox: 0.1027, s2.loss_cls: 0.0623, s2.acc: 92.2303, s2.loss_bbox: 0.0569, loss: 0.8210\n",
      "2021-05-20 00:56:45,437 - mmdet - INFO - Epoch [8][400/818]\tlr: 1.000e-04, eta: 3:47:24, time: 2.040, data_time: 0.013, memory: 23627, loss_rpn_cls: 0.0397, loss_rpn_bbox: 0.0246, s0.loss_cls: 0.2531, s0.acc: 92.0938, s0.loss_bbox: 0.1137, s1.loss_cls: 0.1188, s1.acc: 92.3896, s1.loss_bbox: 0.1022, s2.loss_cls: 0.0576, s2.acc: 92.5810, s2.loss_bbox: 0.0595, loss: 0.7692\n",
      "2021-05-20 00:58:18,507 - mmdet - INFO - Epoch [8][450/818]\tlr: 1.000e-04, eta: 3:45:40, time: 1.861, data_time: 0.012, memory: 23627, loss_rpn_cls: 0.0507, loss_rpn_bbox: 0.0277, s0.loss_cls: 0.2576, s0.acc: 91.9502, s0.loss_bbox: 0.1139, s1.loss_cls: 0.1229, s1.acc: 92.1821, s1.loss_bbox: 0.1044, s2.loss_cls: 0.0598, s2.acc: 92.2569, s2.loss_bbox: 0.0598, loss: 0.7967\n",
      "2021-05-20 00:59:55,386 - mmdet - INFO - Epoch [8][500/818]\tlr: 1.000e-04, eta: 3:44:01, time: 1.938, data_time: 0.012, memory: 23627, loss_rpn_cls: 0.0402, loss_rpn_bbox: 0.0250, s0.loss_cls: 0.2192, s0.acc: 93.1904, s0.loss_bbox: 0.0960, s1.loss_cls: 0.1057, s1.acc: 93.2747, s1.loss_bbox: 0.0909, s2.loss_cls: 0.0513, s2.acc: 93.4563, s2.loss_bbox: 0.0529, loss: 0.6811\n",
      "2021-05-20 01:01:33,197 - mmdet - INFO - Epoch [8][550/818]\tlr: 1.000e-04, eta: 3:42:23, time: 1.956, data_time: 0.012, memory: 23627, loss_rpn_cls: 0.0429, loss_rpn_bbox: 0.0265, s0.loss_cls: 0.2716, s0.acc: 91.5908, s0.loss_bbox: 0.1173, s1.loss_cls: 0.1290, s1.acc: 91.9385, s1.loss_bbox: 0.1054, s2.loss_cls: 0.0624, s2.acc: 92.2246, s2.loss_bbox: 0.0576, loss: 0.8128\n",
      "2021-05-20 01:03:15,636 - mmdet - INFO - Epoch [8][600/818]\tlr: 1.000e-04, eta: 3:40:50, time: 2.049, data_time: 0.013, memory: 23627, loss_rpn_cls: 0.0342, loss_rpn_bbox: 0.0239, s0.loss_cls: 0.2475, s0.acc: 92.4795, s0.loss_bbox: 0.0994, s1.loss_cls: 0.1196, s1.acc: 92.7037, s1.loss_bbox: 0.0913, s2.loss_cls: 0.0580, s2.acc: 92.9633, s2.loss_bbox: 0.0525, loss: 0.7264\n",
      "2021-05-20 01:04:59,950 - mmdet - INFO - Epoch [8][650/818]\tlr: 1.000e-04, eta: 3:39:19, time: 2.086, data_time: 0.013, memory: 23627, loss_rpn_cls: 0.0367, loss_rpn_bbox: 0.0262, s0.loss_cls: 0.2486, s0.acc: 92.3135, s0.loss_bbox: 0.1041, s1.loss_cls: 0.1192, s1.acc: 92.6271, s1.loss_bbox: 0.0944, s2.loss_cls: 0.0575, s2.acc: 92.9433, s2.loss_bbox: 0.0538, loss: 0.7404\n",
      "2021-05-20 01:06:44,214 - mmdet - INFO - Epoch [8][700/818]\tlr: 1.000e-04, eta: 3:37:47, time: 2.085, data_time: 0.013, memory: 23627, loss_rpn_cls: 0.0462, loss_rpn_bbox: 0.0298, s0.loss_cls: 0.2675, s0.acc: 91.6377, s0.loss_bbox: 0.1160, s1.loss_cls: 0.1283, s1.acc: 91.9201, s1.loss_bbox: 0.1085, s2.loss_cls: 0.0615, s2.acc: 92.2232, s2.loss_bbox: 0.0599, loss: 0.8177\n",
      "2021-05-20 01:08:24,520 - mmdet - INFO - Epoch [8][750/818]\tlr: 1.000e-04, eta: 3:36:11, time: 2.006, data_time: 0.013, memory: 23627, loss_rpn_cls: 0.0359, loss_rpn_bbox: 0.0225, s0.loss_cls: 0.2440, s0.acc: 92.6387, s0.loss_bbox: 0.0995, s1.loss_cls: 0.1181, s1.acc: 92.9554, s1.loss_bbox: 0.0920, s2.loss_cls: 0.0575, s2.acc: 93.0444, s2.loss_bbox: 0.0524, loss: 0.7218\n",
      "2021-05-20 01:10:05,746 - mmdet - INFO - Epoch [8][800/818]\tlr: 1.000e-04, eta: 3:34:36, time: 2.024, data_time: 0.013, memory: 23627, loss_rpn_cls: 0.0453, loss_rpn_bbox: 0.0254, s0.loss_cls: 0.2601, s0.acc: 91.8760, s0.loss_bbox: 0.1132, s1.loss_cls: 0.1249, s1.acc: 92.2497, s1.loss_bbox: 0.1012, s2.loss_cls: 0.0605, s2.acc: 92.2975, s2.loss_bbox: 0.0562, loss: 0.7869\n",
      "2021-05-20 01:10:41,680 - mmdet - INFO - Saving checkpoint at 8 epochs\n"
     ]
    },
    {
     "name": "stdout",
     "output_type": "stream",
     "text": [
      "[>>>>>>>>>>>>>>>>>>>>>>>>>>>>>>] 655/655, 8.7 task/s, elapsed: 75s, ETA:     0s"
     ]
    },
    {
     "name": "stderr",
     "output_type": "stream",
     "text": [
      "2021-05-20 01:12:00,995 - mmdet - INFO - Evaluating bbox...\n"
     ]
    },
    {
     "name": "stdout",
     "output_type": "stream",
     "text": [
      "Loading and preparing results...\n",
      "DONE (t=0.65s)\n",
      "creating index...\n",
      "index created!\n",
      "Running per image evaluation...\n",
      "Evaluate annotation type *bbox*\n",
      "DONE (t=4.78s).\n",
      "Accumulating evaluation results...\n"
     ]
    },
    {
     "name": "stderr",
     "output_type": "stream",
     "text": [
      "2021-05-20 01:12:07,236 - mmdet - INFO - Epoch(val) [8][818]\tbbox_mAP: 0.4010, bbox_mAP_50: 0.5190, bbox_mAP_75: 0.4360, bbox_mAP_s: 0.1630, bbox_mAP_m: 0.3790, bbox_mAP_l: 0.6460, bbox_mAP_copypaste: 0.401 0.519 0.436 0.163 0.379 0.646\n"
     ]
    },
    {
     "name": "stdout",
     "output_type": "stream",
     "text": [
      "DONE (t=0.74s).\n",
      "Average Precision  (AP) @[ IoU=0.50:0.95 | area=   all | maxDets=100 ] = 0.401\n",
      "Average Precision  (AP) @[ IoU=0.50      | area=   all | maxDets=1000 ] = 0.519\n",
      "Average Precision  (AP) @[ IoU=0.75      | area=   all | maxDets=1000 ] = 0.436\n",
      "Average Precision  (AP) @[ IoU=0.50:0.95 | area= small | maxDets=1000 ] = 0.163\n",
      "Average Precision  (AP) @[ IoU=0.50:0.95 | area=medium | maxDets=1000 ] = 0.379\n",
      "Average Precision  (AP) @[ IoU=0.50:0.95 | area= large | maxDets=1000 ] = 0.646\n",
      "Average Recall     (AR) @[ IoU=0.50:0.95 | area=   all | maxDets=100 ] = 0.527\n",
      "Average Recall     (AR) @[ IoU=0.50:0.95 | area=   all | maxDets=300 ] = 0.527\n",
      "Average Recall     (AR) @[ IoU=0.50:0.95 | area=   all | maxDets=1000 ] = 0.527\n",
      "Average Recall     (AR) @[ IoU=0.50:0.95 | area= small | maxDets=1000 ] = 0.257\n",
      "Average Recall     (AR) @[ IoU=0.50:0.95 | area=medium | maxDets=1000 ] = 0.515\n",
      "Average Recall     (AR) @[ IoU=0.50:0.95 | area= large | maxDets=1000 ] = 0.769\n"
     ]
    },
    {
     "name": "stderr",
     "output_type": "stream",
     "text": [
      "2021-05-20 01:13:51,300 - mmdet - INFO - Epoch [9][50/818]\tlr: 1.000e-04, eta: 3:31:54, time: 2.081, data_time: 0.094, memory: 23627, loss_rpn_cls: 0.0375, loss_rpn_bbox: 0.0228, s0.loss_cls: 0.2422, s0.acc: 92.5586, s0.loss_bbox: 0.1030, s1.loss_cls: 0.1138, s1.acc: 92.9143, s1.loss_bbox: 0.0927, s2.loss_cls: 0.0554, s2.acc: 93.0694, s2.loss_bbox: 0.0542, loss: 0.7217\n",
      "2021-05-20 01:15:35,660 - mmdet - INFO - Epoch [9][100/818]\tlr: 1.000e-04, eta: 3:30:22, time: 2.087, data_time: 0.013, memory: 23627, loss_rpn_cls: 0.0423, loss_rpn_bbox: 0.0257, s0.loss_cls: 0.2442, s0.acc: 92.4922, s0.loss_bbox: 0.1003, s1.loss_cls: 0.1165, s1.acc: 92.9215, s1.loss_bbox: 0.0923, s2.loss_cls: 0.0562, s2.acc: 93.1788, s2.loss_bbox: 0.0541, loss: 0.7316\n",
      "2021-05-20 01:17:16,185 - mmdet - INFO - Epoch [9][150/818]\tlr: 1.000e-04, eta: 3:28:47, time: 2.010, data_time: 0.013, memory: 23627, loss_rpn_cls: 0.0358, loss_rpn_bbox: 0.0233, s0.loss_cls: 0.2293, s0.acc: 92.8633, s0.loss_bbox: 0.0974, s1.loss_cls: 0.1087, s1.acc: 93.2364, s1.loss_bbox: 0.0926, s2.loss_cls: 0.0527, s2.acc: 93.3675, s2.loss_bbox: 0.0530, loss: 0.6929\n",
      "2021-05-20 01:18:55,884 - mmdet - INFO - Epoch [9][200/818]\tlr: 1.000e-04, eta: 3:27:11, time: 1.994, data_time: 0.012, memory: 23627, loss_rpn_cls: 0.0558, loss_rpn_bbox: 0.0326, s0.loss_cls: 0.2571, s0.acc: 91.9854, s0.loss_bbox: 0.1254, s1.loss_cls: 0.1204, s1.acc: 92.5137, s1.loss_bbox: 0.1065, s2.loss_cls: 0.0574, s2.acc: 92.8274, s2.loss_bbox: 0.0588, loss: 0.8139\n",
      "2021-05-20 01:20:35,199 - mmdet - INFO - Epoch [9][250/818]\tlr: 1.000e-04, eta: 3:25:34, time: 1.986, data_time: 0.012, memory: 23627, loss_rpn_cls: 0.0365, loss_rpn_bbox: 0.0218, s0.loss_cls: 0.2319, s0.acc: 92.8545, s0.loss_bbox: 0.0919, s1.loss_cls: 0.1073, s1.acc: 93.3088, s1.loss_bbox: 0.0848, s2.loss_cls: 0.0518, s2.acc: 93.6427, s2.loss_bbox: 0.0509, loss: 0.6768\n",
      "2021-05-20 01:22:14,824 - mmdet - INFO - Epoch [9][300/818]\tlr: 1.000e-04, eta: 3:23:57, time: 1.992, data_time: 0.013, memory: 23627, loss_rpn_cls: 0.0366, loss_rpn_bbox: 0.0263, s0.loss_cls: 0.2272, s0.acc: 92.8682, s0.loss_bbox: 0.1010, s1.loss_cls: 0.1082, s1.acc: 93.2252, s1.loss_bbox: 0.0950, s2.loss_cls: 0.0532, s2.acc: 93.2032, s2.loss_bbox: 0.0538, loss: 0.7013\n",
      "2021-05-20 01:23:51,614 - mmdet - INFO - Epoch [9][350/818]\tlr: 1.000e-04, eta: 3:22:18, time: 1.936, data_time: 0.012, memory: 23627, loss_rpn_cls: 0.0403, loss_rpn_bbox: 0.0246, s0.loss_cls: 0.2344, s0.acc: 92.8076, s0.loss_bbox: 0.0972, s1.loss_cls: 0.1121, s1.acc: 93.0124, s1.loss_bbox: 0.0894, s2.loss_cls: 0.0541, s2.acc: 93.2275, s2.loss_bbox: 0.0513, loss: 0.7034\n",
      "2021-05-20 01:25:26,515 - mmdet - INFO - Epoch [9][400/818]\tlr: 1.000e-04, eta: 3:20:37, time: 1.898, data_time: 0.011, memory: 23627, loss_rpn_cls: 0.0387, loss_rpn_bbox: 0.0248, s0.loss_cls: 0.2476, s0.acc: 92.3525, s0.loss_bbox: 0.1038, s1.loss_cls: 0.1196, s1.acc: 92.6994, s1.loss_bbox: 0.0976, s2.loss_cls: 0.0575, s2.acc: 92.8971, s2.loss_bbox: 0.0577, loss: 0.7472\n",
      "2021-05-20 01:27:04,231 - mmdet - INFO - Epoch [9][450/818]\tlr: 1.000e-04, eta: 3:18:59, time: 1.954, data_time: 0.013, memory: 23627, loss_rpn_cls: 0.0428, loss_rpn_bbox: 0.0288, s0.loss_cls: 0.2770, s0.acc: 91.5098, s0.loss_bbox: 0.1125, s1.loss_cls: 0.1327, s1.acc: 92.0557, s1.loss_bbox: 0.1018, s2.loss_cls: 0.0641, s2.acc: 92.2832, s2.loss_bbox: 0.0580, loss: 0.8178\n",
      "2021-05-20 01:28:48,126 - mmdet - INFO - Epoch [9][500/818]\tlr: 1.000e-04, eta: 3:17:26, time: 2.078, data_time: 0.012, memory: 23627, loss_rpn_cls: 0.0331, loss_rpn_bbox: 0.0229, s0.loss_cls: 0.2288, s0.acc: 92.6396, s0.loss_bbox: 0.0990, s1.loss_cls: 0.1126, s1.acc: 92.8197, s1.loss_bbox: 0.0932, s2.loss_cls: 0.0552, s2.acc: 93.0322, s2.loss_bbox: 0.0530, loss: 0.6977\n",
      "2021-05-20 01:30:26,483 - mmdet - INFO - Epoch [9][550/818]\tlr: 1.000e-04, eta: 3:15:49, time: 1.967, data_time: 0.013, memory: 23627, loss_rpn_cls: 0.0440, loss_rpn_bbox: 0.0258, s0.loss_cls: 0.2501, s0.acc: 92.1797, s0.loss_bbox: 0.1146, s1.loss_cls: 0.1166, s1.acc: 92.6386, s1.loss_bbox: 0.1009, s2.loss_cls: 0.0560, s2.acc: 92.9251, s2.loss_bbox: 0.0566, loss: 0.7646\n",
      "2021-05-20 01:32:04,275 - mmdet - INFO - Epoch [9][600/818]\tlr: 1.000e-04, eta: 3:14:11, time: 1.956, data_time: 0.012, memory: 23627, loss_rpn_cls: 0.0322, loss_rpn_bbox: 0.0171, s0.loss_cls: 0.2284, s0.acc: 92.9336, s0.loss_bbox: 0.0975, s1.loss_cls: 0.1105, s1.acc: 93.1519, s1.loss_bbox: 0.0903, s2.loss_cls: 0.0538, s2.acc: 93.1566, s2.loss_bbox: 0.0512, loss: 0.6810\n",
      "2021-05-20 01:33:46,403 - mmdet - INFO - Epoch [9][650/818]\tlr: 1.000e-04, eta: 3:12:36, time: 2.043, data_time: 0.012, memory: 23627, loss_rpn_cls: 0.0450, loss_rpn_bbox: 0.0321, s0.loss_cls: 0.2590, s0.acc: 92.1094, s0.loss_bbox: 0.1125, s1.loss_cls: 0.1226, s1.acc: 92.5060, s1.loss_bbox: 0.1000, s2.loss_cls: 0.0600, s2.acc: 92.3850, s2.loss_bbox: 0.0566, loss: 0.7879\n",
      "2021-05-20 01:35:30,964 - mmdet - INFO - Epoch [9][700/818]\tlr: 1.000e-04, eta: 3:11:03, time: 2.091, data_time: 0.013, memory: 23627, loss_rpn_cls: 0.0329, loss_rpn_bbox: 0.0245, s0.loss_cls: 0.2419, s0.acc: 92.4824, s0.loss_bbox: 0.1061, s1.loss_cls: 0.1143, s1.acc: 92.8143, s1.loss_bbox: 0.0980, s2.loss_cls: 0.0544, s2.acc: 93.0832, s2.loss_bbox: 0.0561, loss: 0.7280\n",
      "2021-05-20 01:37:08,222 - mmdet - INFO - Epoch [9][750/818]\tlr: 1.000e-04, eta: 3:09:24, time: 1.945, data_time: 0.012, memory: 23627, loss_rpn_cls: 0.0404, loss_rpn_bbox: 0.0229, s0.loss_cls: 0.2380, s0.acc: 92.6123, s0.loss_bbox: 0.1027, s1.loss_cls: 0.1153, s1.acc: 92.7807, s1.loss_bbox: 0.0940, s2.loss_cls: 0.0553, s2.acc: 93.0845, s2.loss_bbox: 0.0512, loss: 0.7200\n",
      "2021-05-20 01:38:44,991 - mmdet - INFO - Epoch [9][800/818]\tlr: 1.000e-04, eta: 3:07:45, time: 1.935, data_time: 0.012, memory: 23627, loss_rpn_cls: 0.0442, loss_rpn_bbox: 0.0247, s0.loss_cls: 0.2136, s0.acc: 93.3047, s0.loss_bbox: 0.1019, s1.loss_cls: 0.1008, s1.acc: 93.6444, s1.loss_bbox: 0.0902, s2.loss_cls: 0.0486, s2.acc: 93.6726, s2.loss_bbox: 0.0510, loss: 0.6751\n",
      "2021-05-20 01:39:20,823 - mmdet - INFO - Saving checkpoint at 9 epochs\n"
     ]
    },
    {
     "name": "stdout",
     "output_type": "stream",
     "text": [
      "[>>>>>>>>>>>>>>>>>>>>>>>>>>>>>>] 655/655, 8.6 task/s, elapsed: 76s, ETA:     0s"
     ]
    },
    {
     "name": "stderr",
     "output_type": "stream",
     "text": [
      "2021-05-20 01:40:41,238 - mmdet - INFO - Evaluating bbox...\n"
     ]
    },
    {
     "name": "stdout",
     "output_type": "stream",
     "text": [
      "Loading and preparing results...\n",
      "DONE (t=0.10s)\n",
      "creating index...\n",
      "index created!\n",
      "Running per image evaluation...\n",
      "Evaluate annotation type *bbox*\n",
      "DONE (t=5.56s).\n",
      "Accumulating evaluation results...\n"
     ]
    },
    {
     "name": "stderr",
     "output_type": "stream",
     "text": [
      "2021-05-20 01:40:47,706 - mmdet - INFO - Epoch(val) [9][818]\tbbox_mAP: 0.4100, bbox_mAP_50: 0.5280, bbox_mAP_75: 0.4410, bbox_mAP_s: 0.1740, bbox_mAP_m: 0.4080, bbox_mAP_l: 0.6380, bbox_mAP_copypaste: 0.410 0.528 0.441 0.174 0.408 0.638\n"
     ]
    },
    {
     "name": "stdout",
     "output_type": "stream",
     "text": [
      "DONE (t=0.74s).\n",
      "Average Precision  (AP) @[ IoU=0.50:0.95 | area=   all | maxDets=100 ] = 0.410\n",
      "Average Precision  (AP) @[ IoU=0.50      | area=   all | maxDets=1000 ] = 0.528\n",
      "Average Precision  (AP) @[ IoU=0.75      | area=   all | maxDets=1000 ] = 0.441\n",
      "Average Precision  (AP) @[ IoU=0.50:0.95 | area= small | maxDets=1000 ] = 0.174\n",
      "Average Precision  (AP) @[ IoU=0.50:0.95 | area=medium | maxDets=1000 ] = 0.408\n",
      "Average Precision  (AP) @[ IoU=0.50:0.95 | area= large | maxDets=1000 ] = 0.638\n",
      "Average Recall     (AR) @[ IoU=0.50:0.95 | area=   all | maxDets=100 ] = 0.556\n",
      "Average Recall     (AR) @[ IoU=0.50:0.95 | area=   all | maxDets=300 ] = 0.556\n",
      "Average Recall     (AR) @[ IoU=0.50:0.95 | area=   all | maxDets=1000 ] = 0.556\n",
      "Average Recall     (AR) @[ IoU=0.50:0.95 | area= small | maxDets=1000 ] = 0.267\n",
      "Average Recall     (AR) @[ IoU=0.50:0.95 | area=medium | maxDets=1000 ] = 0.577\n",
      "Average Recall     (AR) @[ IoU=0.50:0.95 | area= large | maxDets=1000 ] = 0.776\n"
     ]
    },
    {
     "name": "stderr",
     "output_type": "stream",
     "text": [
      "2021-05-20 01:42:35,805 - mmdet - INFO - Epoch [10][50/818]\tlr: 1.000e-04, eta: 3:05:13, time: 2.162, data_time: 0.098, memory: 23627, loss_rpn_cls: 0.0387, loss_rpn_bbox: 0.0260, s0.loss_cls: 0.2234, s0.acc: 92.8379, s0.loss_bbox: 0.1005, s1.loss_cls: 0.1045, s1.acc: 93.2204, s1.loss_bbox: 0.0904, s2.loss_cls: 0.0503, s2.acc: 93.4149, s2.loss_bbox: 0.0508, loss: 0.6845\n",
      "2021-05-20 01:44:10,608 - mmdet - INFO - Epoch [10][100/818]\tlr: 1.000e-04, eta: 3:03:32, time: 1.896, data_time: 0.013, memory: 23627, loss_rpn_cls: 0.0317, loss_rpn_bbox: 0.0215, s0.loss_cls: 0.2196, s0.acc: 93.0527, s0.loss_bbox: 0.1026, s1.loss_cls: 0.1023, s1.acc: 93.3206, s1.loss_bbox: 0.0934, s2.loss_cls: 0.0499, s2.acc: 93.4301, s2.loss_bbox: 0.0512, loss: 0.6722\n",
      "2021-05-20 01:45:51,255 - mmdet - INFO - Epoch [10][150/818]\tlr: 1.000e-04, eta: 3:01:57, time: 2.013, data_time: 0.013, memory: 23627, loss_rpn_cls: 0.0340, loss_rpn_bbox: 0.0244, s0.loss_cls: 0.2274, s0.acc: 93.0127, s0.loss_bbox: 0.0998, s1.loss_cls: 0.1066, s1.acc: 93.3648, s1.loss_bbox: 0.0918, s2.loss_cls: 0.0521, s2.acc: 93.4243, s2.loss_bbox: 0.0531, loss: 0.6892\n",
      "2021-05-20 01:47:35,330 - mmdet - INFO - Epoch [10][200/818]\tlr: 1.000e-04, eta: 3:00:23, time: 2.081, data_time: 0.013, memory: 23627, loss_rpn_cls: 0.0375, loss_rpn_bbox: 0.0250, s0.loss_cls: 0.2342, s0.acc: 92.6367, s0.loss_bbox: 0.0997, s1.loss_cls: 0.1118, s1.acc: 92.9513, s1.loss_bbox: 0.0977, s2.loss_cls: 0.0554, s2.acc: 93.1605, s2.loss_bbox: 0.0579, loss: 0.7191\n",
      "2021-05-20 01:49:19,729 - mmdet - INFO - Epoch [10][250/818]\tlr: 1.000e-04, eta: 2:58:50, time: 2.088, data_time: 0.014, memory: 23627, loss_rpn_cls: 0.0346, loss_rpn_bbox: 0.0264, s0.loss_cls: 0.2298, s0.acc: 92.9014, s0.loss_bbox: 0.0999, s1.loss_cls: 0.1108, s1.acc: 93.0967, s1.loss_bbox: 0.0931, s2.loss_cls: 0.0545, s2.acc: 93.1077, s2.loss_bbox: 0.0559, loss: 0.7051\n",
      "2021-05-20 01:50:57,544 - mmdet - INFO - Epoch [10][300/818]\tlr: 1.000e-04, eta: 2:57:12, time: 1.956, data_time: 0.013, memory: 23627, loss_rpn_cls: 0.0379, loss_rpn_bbox: 0.0249, s0.loss_cls: 0.2284, s0.acc: 92.7383, s0.loss_bbox: 0.1047, s1.loss_cls: 0.1067, s1.acc: 93.1093, s1.loss_bbox: 0.0946, s2.loss_cls: 0.0519, s2.acc: 93.3339, s2.loss_bbox: 0.0553, loss: 0.7043\n",
      "2021-05-20 01:52:41,972 - mmdet - INFO - Epoch [10][350/818]\tlr: 1.000e-04, eta: 2:55:38, time: 2.089, data_time: 0.014, memory: 23627, loss_rpn_cls: 0.0391, loss_rpn_bbox: 0.0250, s0.loss_cls: 0.2327, s0.acc: 92.6562, s0.loss_bbox: 0.1020, s1.loss_cls: 0.1118, s1.acc: 92.9688, s1.loss_bbox: 0.0924, s2.loss_cls: 0.0543, s2.acc: 93.1100, s2.loss_bbox: 0.0521, loss: 0.7095\n",
      "2021-05-20 01:54:23,856 - mmdet - INFO - Epoch [10][400/818]\tlr: 1.000e-04, eta: 2:54:03, time: 2.038, data_time: 0.014, memory: 23627, loss_rpn_cls: 0.0381, loss_rpn_bbox: 0.0246, s0.loss_cls: 0.2346, s0.acc: 92.6992, s0.loss_bbox: 0.0982, s1.loss_cls: 0.1124, s1.acc: 92.9722, s1.loss_bbox: 0.0873, s2.loss_cls: 0.0546, s2.acc: 93.2804, s2.loss_bbox: 0.0495, loss: 0.6994\n",
      "2021-05-20 01:56:00,434 - mmdet - INFO - Epoch [10][450/818]\tlr: 1.000e-04, eta: 2:52:24, time: 1.932, data_time: 0.013, memory: 23627, loss_rpn_cls: 0.0392, loss_rpn_bbox: 0.0214, s0.loss_cls: 0.2072, s0.acc: 93.3652, s0.loss_bbox: 0.0930, s1.loss_cls: 0.0984, s1.acc: 93.7261, s1.loss_bbox: 0.0851, s2.loss_cls: 0.0466, s2.acc: 94.0744, s2.loss_bbox: 0.0473, loss: 0.6381\n",
      "2021-05-20 01:57:41,622 - mmdet - INFO - Epoch [10][500/818]\tlr: 1.000e-04, eta: 2:50:48, time: 2.024, data_time: 0.013, memory: 23627, loss_rpn_cls: 0.0354, loss_rpn_bbox: 0.0261, s0.loss_cls: 0.2202, s0.acc: 92.9150, s0.loss_bbox: 0.1033, s1.loss_cls: 0.1035, s1.acc: 93.2825, s1.loss_bbox: 0.0907, s2.loss_cls: 0.0493, s2.acc: 93.5131, s2.loss_bbox: 0.0505, loss: 0.6790\n",
      "2021-05-20 01:59:22,475 - mmdet - INFO - Epoch [10][550/818]\tlr: 1.000e-04, eta: 2:49:12, time: 2.017, data_time: 0.012, memory: 23627, loss_rpn_cls: 0.0437, loss_rpn_bbox: 0.0264, s0.loss_cls: 0.2479, s0.acc: 92.4053, s0.loss_bbox: 0.1059, s1.loss_cls: 0.1152, s1.acc: 92.9153, s1.loss_bbox: 0.0989, s2.loss_cls: 0.0555, s2.acc: 93.3107, s2.loss_bbox: 0.0552, loss: 0.7487\n",
      "2021-05-20 02:01:01,152 - mmdet - INFO - Epoch [10][600/818]\tlr: 1.000e-04, eta: 2:47:34, time: 1.974, data_time: 0.013, memory: 23627, loss_rpn_cls: 0.0360, loss_rpn_bbox: 0.0229, s0.loss_cls: 0.2307, s0.acc: 92.6953, s0.loss_bbox: 0.1026, s1.loss_cls: 0.1091, s1.acc: 93.1783, s1.loss_bbox: 0.0979, s2.loss_cls: 0.0528, s2.acc: 93.2753, s2.loss_bbox: 0.0562, loss: 0.7080\n",
      "2021-05-20 02:02:41,484 - mmdet - INFO - Epoch [10][650/818]\tlr: 1.000e-04, eta: 2:45:57, time: 2.007, data_time: 0.013, memory: 23627, loss_rpn_cls: 0.0385, loss_rpn_bbox: 0.0245, s0.loss_cls: 0.2415, s0.acc: 92.4600, s0.loss_bbox: 0.0981, s1.loss_cls: 0.1147, s1.acc: 92.8677, s1.loss_bbox: 0.0905, s2.loss_cls: 0.0547, s2.acc: 93.1938, s2.loss_bbox: 0.0527, loss: 0.7153\n",
      "2021-05-20 02:04:25,973 - mmdet - INFO - Epoch [10][700/818]\tlr: 1.000e-04, eta: 2:44:23, time: 2.090, data_time: 0.014, memory: 23627, loss_rpn_cls: 0.0441, loss_rpn_bbox: 0.0276, s0.loss_cls: 0.2385, s0.acc: 92.6270, s0.loss_bbox: 0.1034, s1.loss_cls: 0.1149, s1.acc: 92.9566, s1.loss_bbox: 0.0943, s2.loss_cls: 0.0566, s2.acc: 92.8659, s2.loss_bbox: 0.0548, loss: 0.7344\n",
      "2021-05-20 02:06:05,592 - mmdet - INFO - Epoch [10][750/818]\tlr: 1.000e-04, eta: 2:42:46, time: 1.992, data_time: 0.013, memory: 23627, loss_rpn_cls: 0.0353, loss_rpn_bbox: 0.0213, s0.loss_cls: 0.2405, s0.acc: 92.7900, s0.loss_bbox: 0.0959, s1.loss_cls: 0.1140, s1.acc: 93.1680, s1.loss_bbox: 0.0904, s2.loss_cls: 0.0552, s2.acc: 93.1057, s2.loss_bbox: 0.0547, loss: 0.7071\n",
      "2021-05-20 02:07:43,379 - mmdet - INFO - Epoch [10][800/818]\tlr: 1.000e-04, eta: 2:41:08, time: 1.956, data_time: 0.013, memory: 23627, loss_rpn_cls: 0.0406, loss_rpn_bbox: 0.0298, s0.loss_cls: 0.2497, s0.acc: 92.2227, s0.loss_bbox: 0.1068, s1.loss_cls: 0.1179, s1.acc: 92.6096, s1.loss_bbox: 0.0981, s2.loss_cls: 0.0564, s2.acc: 93.0351, s2.loss_bbox: 0.0560, loss: 0.7552\n",
      "2021-05-20 02:08:21,381 - mmdet - INFO - Saving checkpoint at 10 epochs\n"
     ]
    },
    {
     "name": "stdout",
     "output_type": "stream",
     "text": [
      "[>>>>>>>>>>>>>>>>>>>>>>>>>>>>>>] 655/655, 8.4 task/s, elapsed: 78s, ETA:     0s"
     ]
    },
    {
     "name": "stderr",
     "output_type": "stream",
     "text": [
      "2021-05-20 02:09:43,753 - mmdet - INFO - Evaluating bbox...\n"
     ]
    },
    {
     "name": "stdout",
     "output_type": "stream",
     "text": [
      "Loading and preparing results...\n",
      "DONE (t=0.64s)\n",
      "creating index...\n",
      "index created!\n",
      "Running per image evaluation...\n",
      "Evaluate annotation type *bbox*\n",
      "DONE (t=4.30s).\n",
      "Accumulating evaluation results...\n",
      "DONE (t=0.60s).\n",
      "Average Precision  (AP) @[ IoU=0.50:0.95 | area=   all | maxDets=100 ] = 0.435\n",
      "Average Precision  (AP) @[ IoU=0.50      | area=   all | maxDets=1000 ] = 0.563\n",
      "Average Precision  (AP) @[ IoU=0.75      | area=   all | maxDets=1000 ] = 0.483\n",
      "Average Precision  (AP) @[ IoU=0.50:0.95 | area= small | maxDets=1000 ] = 0.182\n",
      "Average Precision  (AP) @[ IoU=0.50:0.95 | area=medium | maxDets=1000 ] = 0.440\n",
      "Average Precision  (AP) @[ IoU=0.50:0.95 | area= large | maxDets=1000 ] = 0.675\n",
      "Average Recall     (AR) @[ IoU=0.50:0.95 | area=   all | maxDets=100 ] = 0.547\n",
      "Average Recall     (AR) @[ IoU=0.50:0.95 | area=   all | maxDets=300 ] = 0.547\n",
      "Average Recall     (AR) @[ IoU=0.50:0.95 | area=   all | maxDets=1000 ] = 0.547\n",
      "Average Recall     (AR) @[ IoU=0.50:0.95 | area= small | maxDets=1000 ] = 0.278\n",
      "Average Recall     (AR) @[ IoU=0.50:0.95 | area=medium | maxDets=1000 ] = 0.542\n",
      "Average Recall     (AR) @[ IoU=0.50:0.95 | area= large | maxDets=1000 ] = 0.786\n"
     ]
    },
    {
     "name": "stderr",
     "output_type": "stream",
     "text": [
      "2021-05-20 02:09:59,129 - mmdet - INFO - Now best checkpoint is epoch_10.pth.Best bbox_mAP_50 is 0.5630\n",
      "2021-05-20 02:09:59,137 - mmdet - INFO - Epoch(val) [10][818]\tbbox_mAP: 0.4350, bbox_mAP_50: 0.5630, bbox_mAP_75: 0.4830, bbox_mAP_s: 0.1820, bbox_mAP_m: 0.4400, bbox_mAP_l: 0.6750, bbox_mAP_copypaste: 0.435 0.563 0.483 0.182 0.440 0.675\n",
      "2021-05-20 02:11:46,247 - mmdet - INFO - Epoch [11][50/818]\tlr: 1.000e-04, eta: 2:38:39, time: 2.142, data_time: 0.125, memory: 23627, loss_rpn_cls: 0.0356, loss_rpn_bbox: 0.0227, s0.loss_cls: 0.2095, s0.acc: 93.4014, s0.loss_bbox: 0.0996, s1.loss_cls: 0.1006, s1.acc: 93.6676, s1.loss_bbox: 0.0883, s2.loss_cls: 0.0490, s2.acc: 93.7174, s2.loss_bbox: 0.0493, loss: 0.6546\n",
      "2021-05-20 02:13:25,698 - mmdet - INFO - Epoch [11][100/818]\tlr: 1.000e-04, eta: 2:37:02, time: 1.989, data_time: 0.013, memory: 23627, loss_rpn_cls: 0.0357, loss_rpn_bbox: 0.0259, s0.loss_cls: 0.2393, s0.acc: 92.5654, s0.loss_bbox: 0.1076, s1.loss_cls: 0.1123, s1.acc: 93.0008, s1.loss_bbox: 0.0979, s2.loss_cls: 0.0548, s2.acc: 93.1463, s2.loss_bbox: 0.0568, loss: 0.7304\n",
      "2021-05-20 02:15:12,012 - mmdet - INFO - Epoch [11][150/818]\tlr: 1.000e-04, eta: 2:35:28, time: 2.126, data_time: 0.013, memory: 23627, loss_rpn_cls: 0.0353, loss_rpn_bbox: 0.0267, s0.loss_cls: 0.2210, s0.acc: 92.9619, s0.loss_bbox: 0.1026, s1.loss_cls: 0.1042, s1.acc: 93.4146, s1.loss_bbox: 0.0946, s2.loss_cls: 0.0502, s2.acc: 93.6953, s2.loss_bbox: 0.0563, loss: 0.6909\n",
      "2021-05-20 02:16:54,248 - mmdet - INFO - Epoch [11][200/818]\tlr: 1.000e-04, eta: 2:33:53, time: 2.045, data_time: 0.013, memory: 23627, loss_rpn_cls: 0.0351, loss_rpn_bbox: 0.0256, s0.loss_cls: 0.2215, s0.acc: 92.8271, s0.loss_bbox: 0.0988, s1.loss_cls: 0.1041, s1.acc: 93.2187, s1.loss_bbox: 0.0893, s2.loss_cls: 0.0499, s2.acc: 93.4706, s2.loss_bbox: 0.0530, loss: 0.6773\n",
      "2021-05-20 02:18:39,427 - mmdet - INFO - Epoch [11][250/818]\tlr: 1.000e-04, eta: 2:32:19, time: 2.103, data_time: 0.014, memory: 23627, loss_rpn_cls: 0.0393, loss_rpn_bbox: 0.0258, s0.loss_cls: 0.2335, s0.acc: 92.7510, s0.loss_bbox: 0.1053, s1.loss_cls: 0.1084, s1.acc: 93.3359, s1.loss_bbox: 0.0953, s2.loss_cls: 0.0521, s2.acc: 93.5299, s2.loss_bbox: 0.0523, loss: 0.7119\n",
      "2021-05-20 02:20:18,124 - mmdet - INFO - Epoch [11][300/818]\tlr: 1.000e-04, eta: 2:30:41, time: 1.974, data_time: 0.013, memory: 23627, loss_rpn_cls: 0.0353, loss_rpn_bbox: 0.0229, s0.loss_cls: 0.2358, s0.acc: 92.6787, s0.loss_bbox: 0.0971, s1.loss_cls: 0.1126, s1.acc: 93.0525, s1.loss_bbox: 0.0916, s2.loss_cls: 0.0546, s2.acc: 93.0782, s2.loss_bbox: 0.0545, loss: 0.7044\n",
      "2021-05-20 02:22:00,671 - mmdet - INFO - Epoch [11][350/818]\tlr: 1.000e-04, eta: 2:29:05, time: 2.051, data_time: 0.013, memory: 23627, loss_rpn_cls: 0.0294, loss_rpn_bbox: 0.0222, s0.loss_cls: 0.2163, s0.acc: 93.3672, s0.loss_bbox: 0.0940, s1.loss_cls: 0.1017, s1.acc: 93.6939, s1.loss_bbox: 0.0844, s2.loss_cls: 0.0493, s2.acc: 93.7697, s2.loss_bbox: 0.0470, loss: 0.6442\n",
      "2021-05-20 02:23:35,612 - mmdet - INFO - Epoch [11][400/818]\tlr: 1.000e-04, eta: 2:27:25, time: 1.899, data_time: 0.013, memory: 23627, loss_rpn_cls: 0.0390, loss_rpn_bbox: 0.0214, s0.loss_cls: 0.2141, s0.acc: 93.4824, s0.loss_bbox: 0.0954, s1.loss_cls: 0.1005, s1.acc: 93.8318, s1.loss_bbox: 0.0879, s2.loss_cls: 0.0482, s2.acc: 93.9615, s2.loss_bbox: 0.0517, loss: 0.6582\n",
      "2021-05-20 02:25:15,000 - mmdet - INFO - Epoch [11][450/818]\tlr: 1.000e-04, eta: 2:25:48, time: 1.988, data_time: 0.014, memory: 23627, loss_rpn_cls: 0.0417, loss_rpn_bbox: 0.0272, s0.loss_cls: 0.2388, s0.acc: 92.5225, s0.loss_bbox: 0.1039, s1.loss_cls: 0.1149, s1.acc: 92.8010, s1.loss_bbox: 0.0948, s2.loss_cls: 0.0563, s2.acc: 92.7485, s2.loss_bbox: 0.0529, loss: 0.7305\n",
      "2021-05-20 02:26:56,906 - mmdet - INFO - Epoch [11][500/818]\tlr: 1.000e-04, eta: 2:24:12, time: 2.038, data_time: 0.014, memory: 23627, loss_rpn_cls: 0.0342, loss_rpn_bbox: 0.0204, s0.loss_cls: 0.1989, s0.acc: 93.9355, s0.loss_bbox: 0.0881, s1.loss_cls: 0.0916, s1.acc: 94.3497, s1.loss_bbox: 0.0834, s2.loss_cls: 0.0443, s2.acc: 94.4742, s2.loss_bbox: 0.0478, loss: 0.6088\n",
      "2021-05-20 02:28:37,342 - mmdet - INFO - Epoch [11][550/818]\tlr: 1.000e-04, eta: 2:22:35, time: 2.009, data_time: 0.014, memory: 23627, loss_rpn_cls: 0.0399, loss_rpn_bbox: 0.0253, s0.loss_cls: 0.2335, s0.acc: 92.6621, s0.loss_bbox: 0.1073, s1.loss_cls: 0.1100, s1.acc: 93.0539, s1.loss_bbox: 0.0941, s2.loss_cls: 0.0529, s2.acc: 93.2212, s2.loss_bbox: 0.0521, loss: 0.7152\n",
      "2021-05-20 02:30:17,597 - mmdet - INFO - Epoch [11][600/818]\tlr: 1.000e-04, eta: 2:20:57, time: 2.005, data_time: 0.013, memory: 23627, loss_rpn_cls: 0.0420, loss_rpn_bbox: 0.0296, s0.loss_cls: 0.2516, s0.acc: 92.1904, s0.loss_bbox: 0.1129, s1.loss_cls: 0.1192, s1.acc: 92.7361, s1.loss_bbox: 0.1033, s2.loss_cls: 0.0597, s2.acc: 92.6226, s2.loss_bbox: 0.0587, loss: 0.7770\n",
      "2021-05-20 02:32:03,079 - mmdet - INFO - Epoch [11][650/818]\tlr: 1.000e-04, eta: 2:19:23, time: 2.110, data_time: 0.014, memory: 23627, loss_rpn_cls: 0.0435, loss_rpn_bbox: 0.0280, s0.loss_cls: 0.2345, s0.acc: 92.7441, s0.loss_bbox: 0.1062, s1.loss_cls: 0.1135, s1.acc: 93.0890, s1.loss_bbox: 0.0946, s2.loss_cls: 0.0537, s2.acc: 93.4479, s2.loss_bbox: 0.0518, loss: 0.7258\n",
      "2021-05-20 02:33:42,443 - mmdet - INFO - Epoch [11][700/818]\tlr: 1.000e-04, eta: 2:17:45, time: 1.987, data_time: 0.013, memory: 23627, loss_rpn_cls: 0.0378, loss_rpn_bbox: 0.0303, s0.loss_cls: 0.2513, s0.acc: 92.0576, s0.loss_bbox: 0.1160, s1.loss_cls: 0.1187, s1.acc: 92.5889, s1.loss_bbox: 0.1062, s2.loss_cls: 0.0563, s2.acc: 92.9364, s2.loss_bbox: 0.0580, loss: 0.7746\n",
      "2021-05-20 02:35:20,160 - mmdet - INFO - Epoch [11][750/818]\tlr: 1.000e-04, eta: 2:16:07, time: 1.954, data_time: 0.013, memory: 23627, loss_rpn_cls: 0.0332, loss_rpn_bbox: 0.0194, s0.loss_cls: 0.2019, s0.acc: 93.7012, s0.loss_bbox: 0.0916, s1.loss_cls: 0.0946, s1.acc: 93.9556, s1.loss_bbox: 0.0863, s2.loss_cls: 0.0454, s2.acc: 94.1617, s2.loss_bbox: 0.0496, loss: 0.6220\n",
      "2021-05-20 02:36:59,786 - mmdet - INFO - Epoch [11][800/818]\tlr: 1.000e-04, eta: 2:14:29, time: 1.992, data_time: 0.013, memory: 23627, loss_rpn_cls: 0.0468, loss_rpn_bbox: 0.0316, s0.loss_cls: 0.2596, s0.acc: 91.7900, s0.loss_bbox: 0.1161, s1.loss_cls: 0.1245, s1.acc: 92.0974, s1.loss_bbox: 0.1065, s2.loss_cls: 0.0602, s2.acc: 92.2545, s2.loss_bbox: 0.0614, loss: 0.8066\n",
      "2021-05-20 02:37:37,334 - mmdet - INFO - Saving checkpoint at 11 epochs\n"
     ]
    },
    {
     "name": "stdout",
     "output_type": "stream",
     "text": [
      "[>>>>>>>>>>>>>>>>>>>>>>>>>>>>>>] 655/655, 8.2 task/s, elapsed: 79s, ETA:     0s"
     ]
    },
    {
     "name": "stderr",
     "output_type": "stream",
     "text": [
      "2021-05-20 02:39:01,365 - mmdet - INFO - Evaluating bbox...\n"
     ]
    },
    {
     "name": "stdout",
     "output_type": "stream",
     "text": [
      "Loading and preparing results...\n",
      "DONE (t=0.09s)\n",
      "creating index...\n",
      "index created!\n",
      "Running per image evaluation...\n",
      "Evaluate annotation type *bbox*\n",
      "DONE (t=4.69s).\n",
      "Accumulating evaluation results...\n",
      "DONE (t=0.67s).\n",
      "Average Precision  (AP) @[ IoU=0.50:0.95 | area=   all | maxDets=100 ] = 0.467\n",
      "Average Precision  (AP) @[ IoU=0.50      | area=   all | maxDets=1000 ] = 0.603\n",
      "Average Precision  (AP) @[ IoU=0.75      | area=   all | maxDets=1000 ] = 0.506\n",
      "Average Precision  (AP) @[ IoU=0.50:0.95 | area= small | maxDets=1000 ] = 0.203\n",
      "Average Precision  (AP) @[ IoU=0.50:0.95 | area=medium | maxDets=1000 ] = 0.479\n",
      "Average Precision  (AP) @[ IoU=0.50:0.95 | area= large | maxDets=1000 ] = 0.700\n",
      "Average Recall     (AR) @[ IoU=0.50:0.95 | area=   all | maxDets=100 ] = 0.573\n",
      "Average Recall     (AR) @[ IoU=0.50:0.95 | area=   all | maxDets=300 ] = 0.573\n",
      "Average Recall     (AR) @[ IoU=0.50:0.95 | area=   all | maxDets=1000 ] = 0.573\n",
      "Average Recall     (AR) @[ IoU=0.50:0.95 | area= small | maxDets=1000 ] = 0.276\n",
      "Average Recall     (AR) @[ IoU=0.50:0.95 | area=medium | maxDets=1000 ] = 0.594\n",
      "Average Recall     (AR) @[ IoU=0.50:0.95 | area= large | maxDets=1000 ] = 0.793\n"
     ]
    },
    {
     "name": "stderr",
     "output_type": "stream",
     "text": [
      "2021-05-20 02:39:16,669 - mmdet - INFO - Now best checkpoint is epoch_11.pth.Best bbox_mAP_50 is 0.6030\n",
      "2021-05-20 02:39:16,675 - mmdet - INFO - Epoch(val) [11][818]\tbbox_mAP: 0.4670, bbox_mAP_50: 0.6030, bbox_mAP_75: 0.5060, bbox_mAP_s: 0.2030, bbox_mAP_m: 0.4790, bbox_mAP_l: 0.7000, bbox_mAP_copypaste: 0.467 0.603 0.506 0.203 0.479 0.700\n",
      "2021-05-20 02:41:03,674 - mmdet - INFO - Epoch [12][50/818]\tlr: 1.000e-05, eta: 2:12:04, time: 2.140, data_time: 0.075, memory: 23627, loss_rpn_cls: 0.0305, loss_rpn_bbox: 0.0213, s0.loss_cls: 0.2020, s0.acc: 93.4072, s0.loss_bbox: 0.0918, s1.loss_cls: 0.0934, s1.acc: 93.9632, s1.loss_bbox: 0.0835, s2.loss_cls: 0.0456, s2.acc: 94.0688, s2.loss_bbox: 0.0501, loss: 0.6184\n",
      "2021-05-20 02:42:47,004 - mmdet - INFO - Epoch [12][100/818]\tlr: 1.000e-05, eta: 2:10:28, time: 2.067, data_time: 0.013, memory: 23627, loss_rpn_cls: 0.0344, loss_rpn_bbox: 0.0234, s0.loss_cls: 0.2025, s0.acc: 93.6650, s0.loss_bbox: 0.0901, s1.loss_cls: 0.0946, s1.acc: 94.0910, s1.loss_bbox: 0.0850, s2.loss_cls: 0.0460, s2.acc: 94.3059, s2.loss_bbox: 0.0499, loss: 0.6257\n",
      "2021-05-20 02:44:26,627 - mmdet - INFO - Epoch [12][150/818]\tlr: 1.000e-05, eta: 2:08:51, time: 1.992, data_time: 0.013, memory: 23627, loss_rpn_cls: 0.0339, loss_rpn_bbox: 0.0223, s0.loss_cls: 0.2001, s0.acc: 93.5215, s0.loss_bbox: 0.0970, s1.loss_cls: 0.0915, s1.acc: 94.1313, s1.loss_bbox: 0.0932, s2.loss_cls: 0.0453, s2.acc: 94.1338, s2.loss_bbox: 0.0556, loss: 0.6390\n",
      "2021-05-20 02:46:08,249 - mmdet - INFO - Epoch [12][200/818]\tlr: 1.000e-05, eta: 2:07:14, time: 2.032, data_time: 0.013, memory: 23627, loss_rpn_cls: 0.0297, loss_rpn_bbox: 0.0201, s0.loss_cls: 0.1829, s0.acc: 94.3066, s0.loss_bbox: 0.0811, s1.loss_cls: 0.0837, s1.acc: 94.9709, s1.loss_bbox: 0.0783, s2.loss_cls: 0.0407, s2.acc: 95.0360, s2.loss_bbox: 0.0467, loss: 0.5630\n",
      "2021-05-20 02:47:49,358 - mmdet - INFO - Epoch [12][250/818]\tlr: 1.000e-05, eta: 2:05:37, time: 2.022, data_time: 0.013, memory: 23627, loss_rpn_cls: 0.0320, loss_rpn_bbox: 0.0229, s0.loss_cls: 0.1920, s0.acc: 93.6699, s0.loss_bbox: 0.0969, s1.loss_cls: 0.0897, s1.acc: 94.1264, s1.loss_bbox: 0.0901, s2.loss_cls: 0.0429, s2.acc: 94.3563, s2.loss_bbox: 0.0523, loss: 0.6188\n",
      "2021-05-20 02:49:28,274 - mmdet - INFO - Epoch [12][300/818]\tlr: 1.000e-05, eta: 2:03:59, time: 1.978, data_time: 0.013, memory: 23627, loss_rpn_cls: 0.0299, loss_rpn_bbox: 0.0212, s0.loss_cls: 0.1868, s0.acc: 93.9844, s0.loss_bbox: 0.0878, s1.loss_cls: 0.0855, s1.acc: 94.5629, s1.loss_bbox: 0.0838, s2.loss_cls: 0.0415, s2.acc: 94.5111, s2.loss_bbox: 0.0493, loss: 0.5859\n",
      "2021-05-20 02:51:11,996 - mmdet - INFO - Epoch [12][350/818]\tlr: 1.000e-05, eta: 2:02:23, time: 2.074, data_time: 0.013, memory: 23627, loss_rpn_cls: 0.0286, loss_rpn_bbox: 0.0222, s0.loss_cls: 0.1847, s0.acc: 94.0859, s0.loss_bbox: 0.0853, s1.loss_cls: 0.0848, s1.acc: 94.5580, s1.loss_bbox: 0.0795, s2.loss_cls: 0.0411, s2.acc: 94.6799, s2.loss_bbox: 0.0487, loss: 0.5748\n",
      "2021-05-20 02:52:49,016 - mmdet - INFO - Epoch [12][400/818]\tlr: 1.000e-05, eta: 2:00:45, time: 1.940, data_time: 0.013, memory: 23627, loss_rpn_cls: 0.0275, loss_rpn_bbox: 0.0205, s0.loss_cls: 0.1998, s0.acc: 93.3867, s0.loss_bbox: 0.0968, s1.loss_cls: 0.0943, s1.acc: 93.7666, s1.loss_bbox: 0.0898, s2.loss_cls: 0.0461, s2.acc: 93.6643, s2.loss_bbox: 0.0524, loss: 0.6272\n",
      "2021-05-20 02:54:27,169 - mmdet - INFO - Epoch [12][450/818]\tlr: 1.000e-05, eta: 1:59:06, time: 1.963, data_time: 0.013, memory: 23627, loss_rpn_cls: 0.0260, loss_rpn_bbox: 0.0220, s0.loss_cls: 0.2056, s0.acc: 93.3379, s0.loss_bbox: 0.0951, s1.loss_cls: 0.0947, s1.acc: 93.8113, s1.loss_bbox: 0.0893, s2.loss_cls: 0.0454, s2.acc: 94.0713, s2.loss_bbox: 0.0512, loss: 0.6294\n",
      "2021-05-20 02:56:09,614 - mmdet - INFO - Epoch [12][500/818]\tlr: 1.000e-05, eta: 1:57:30, time: 2.049, data_time: 0.014, memory: 23627, loss_rpn_cls: 0.0268, loss_rpn_bbox: 0.0210, s0.loss_cls: 0.1859, s0.acc: 94.2939, s0.loss_bbox: 0.0804, s1.loss_cls: 0.0856, s1.acc: 94.7833, s1.loss_bbox: 0.0755, s2.loss_cls: 0.0418, s2.acc: 94.8140, s2.loss_bbox: 0.0466, loss: 0.5636\n",
      "2021-05-20 02:57:48,007 - mmdet - INFO - Epoch [12][550/818]\tlr: 1.000e-05, eta: 1:55:52, time: 1.968, data_time: 0.013, memory: 23627, loss_rpn_cls: 0.0271, loss_rpn_bbox: 0.0202, s0.loss_cls: 0.1939, s0.acc: 93.8623, s0.loss_bbox: 0.0818, s1.loss_cls: 0.0901, s1.acc: 94.3761, s1.loss_bbox: 0.0755, s2.loss_cls: 0.0435, s2.acc: 94.6466, s2.loss_bbox: 0.0449, loss: 0.5772\n",
      "2021-05-20 02:59:30,441 - mmdet - INFO - Epoch [12][600/818]\tlr: 1.000e-05, eta: 1:54:15, time: 2.049, data_time: 0.013, memory: 23627, loss_rpn_cls: 0.0315, loss_rpn_bbox: 0.0222, s0.loss_cls: 0.1831, s0.acc: 93.9922, s0.loss_bbox: 0.0872, s1.loss_cls: 0.0861, s1.acc: 94.3915, s1.loss_bbox: 0.0834, s2.loss_cls: 0.0426, s2.acc: 94.4760, s2.loss_bbox: 0.0505, loss: 0.5868\n",
      "2021-05-20 03:01:12,342 - mmdet - INFO - Epoch [12][650/818]\tlr: 1.000e-05, eta: 1:52:38, time: 2.038, data_time: 0.014, memory: 23627, loss_rpn_cls: 0.0354, loss_rpn_bbox: 0.0244, s0.loss_cls: 0.2266, s0.acc: 93.1562, s0.loss_bbox: 0.0956, s1.loss_cls: 0.1036, s1.acc: 93.8051, s1.loss_bbox: 0.0887, s2.loss_cls: 0.0502, s2.acc: 93.9435, s2.loss_bbox: 0.0543, loss: 0.6787\n",
      "2021-05-20 03:02:55,216 - mmdet - INFO - Epoch [12][700/818]\tlr: 1.000e-05, eta: 1:51:02, time: 2.057, data_time: 0.013, memory: 23627, loss_rpn_cls: 0.0245, loss_rpn_bbox: 0.0202, s0.loss_cls: 0.1630, s0.acc: 94.6074, s0.loss_bbox: 0.0731, s1.loss_cls: 0.0748, s1.acc: 95.1296, s1.loss_bbox: 0.0701, s2.loss_cls: 0.0367, s2.acc: 95.3791, s2.loss_bbox: 0.0407, loss: 0.5032\n",
      "2021-05-20 03:04:32,661 - mmdet - INFO - Epoch [12][750/818]\tlr: 1.000e-05, eta: 1:49:23, time: 1.949, data_time: 0.013, memory: 23627, loss_rpn_cls: 0.0289, loss_rpn_bbox: 0.0216, s0.loss_cls: 0.1883, s0.acc: 93.8906, s0.loss_bbox: 0.0910, s1.loss_cls: 0.0865, s1.acc: 94.4428, s1.loss_bbox: 0.0887, s2.loss_cls: 0.0411, s2.acc: 94.7650, s2.loss_bbox: 0.0513, loss: 0.5973\n",
      "2021-05-20 03:06:17,149 - mmdet - INFO - Epoch [12][800/818]\tlr: 1.000e-05, eta: 1:47:47, time: 2.090, data_time: 0.014, memory: 23627, loss_rpn_cls: 0.0264, loss_rpn_bbox: 0.0224, s0.loss_cls: 0.2114, s0.acc: 93.2998, s0.loss_bbox: 0.0976, s1.loss_cls: 0.0984, s1.acc: 93.7230, s1.loss_bbox: 0.0937, s2.loss_cls: 0.0475, s2.acc: 93.9394, s2.loss_bbox: 0.0552, loss: 0.6527\n",
      "2021-05-20 03:06:54,764 - mmdet - INFO - Saving checkpoint at 12 epochs\n"
     ]
    },
    {
     "name": "stdout",
     "output_type": "stream",
     "text": [
      "[>>>>>>>>>>>>>>>>>>>>>>>>>>>>>>] 655/655, 8.3 task/s, elapsed: 79s, ETA:     0s"
     ]
    },
    {
     "name": "stderr",
     "output_type": "stream",
     "text": [
      "2021-05-20 03:08:17,383 - mmdet - INFO - Evaluating bbox...\n"
     ]
    },
    {
     "name": "stdout",
     "output_type": "stream",
     "text": [
      "Loading and preparing results...\n",
      "DONE (t=0.64s)\n",
      "creating index...\n",
      "index created!\n",
      "Running per image evaluation...\n",
      "Evaluate annotation type *bbox*\n",
      "DONE (t=4.18s).\n",
      "Accumulating evaluation results...\n",
      "DONE (t=0.60s).\n",
      "Average Precision  (AP) @[ IoU=0.50:0.95 | area=   all | maxDets=100 ] = 0.542\n",
      "Average Precision  (AP) @[ IoU=0.50      | area=   all | maxDets=1000 ] = 0.668\n",
      "Average Precision  (AP) @[ IoU=0.75      | area=   all | maxDets=1000 ] = 0.587\n",
      "Average Precision  (AP) @[ IoU=0.50:0.95 | area= small | maxDets=1000 ] = 0.258\n",
      "Average Precision  (AP) @[ IoU=0.50:0.95 | area=medium | maxDets=1000 ] = 0.545\n",
      "Average Precision  (AP) @[ IoU=0.50:0.95 | area= large | maxDets=1000 ] = 0.780\n",
      "Average Recall     (AR) @[ IoU=0.50:0.95 | area=   all | maxDets=100 ] = 0.622\n",
      "Average Recall     (AR) @[ IoU=0.50:0.95 | area=   all | maxDets=300 ] = 0.622\n",
      "Average Recall     (AR) @[ IoU=0.50:0.95 | area=   all | maxDets=1000 ] = 0.622\n",
      "Average Recall     (AR) @[ IoU=0.50:0.95 | area= small | maxDets=1000 ] = 0.345\n",
      "Average Recall     (AR) @[ IoU=0.50:0.95 | area=medium | maxDets=1000 ] = 0.645\n",
      "Average Recall     (AR) @[ IoU=0.50:0.95 | area= large | maxDets=1000 ] = 0.831\n"
     ]
    },
    {
     "name": "stderr",
     "output_type": "stream",
     "text": [
      "2021-05-20 03:08:32,675 - mmdet - INFO - Now best checkpoint is epoch_12.pth.Best bbox_mAP_50 is 0.6680\n",
      "2021-05-20 03:08:32,681 - mmdet - INFO - Epoch(val) [12][818]\tbbox_mAP: 0.5420, bbox_mAP_50: 0.6680, bbox_mAP_75: 0.5870, bbox_mAP_s: 0.2580, bbox_mAP_m: 0.5450, bbox_mAP_l: 0.7800, bbox_mAP_copypaste: 0.542 0.668 0.587 0.258 0.545 0.780\n",
      "2021-05-20 03:10:16,244 - mmdet - INFO - Epoch [13][50/818]\tlr: 1.000e-05, eta: 1:45:23, time: 2.071, data_time: 0.100, memory: 23627, loss_rpn_cls: 0.0251, loss_rpn_bbox: 0.0175, s0.loss_cls: 0.1756, s0.acc: 94.4160, s0.loss_bbox: 0.0793, s1.loss_cls: 0.0808, s1.acc: 95.0133, s1.loss_bbox: 0.0749, s2.loss_cls: 0.0384, s2.acc: 95.1502, s2.loss_bbox: 0.0452, loss: 0.5368\n",
      "2021-05-20 03:11:54,931 - mmdet - INFO - Epoch [13][100/818]\tlr: 1.000e-05, eta: 1:43:45, time: 1.974, data_time: 0.013, memory: 23627, loss_rpn_cls: 0.0260, loss_rpn_bbox: 0.0202, s0.loss_cls: 0.1745, s0.acc: 94.3369, s0.loss_bbox: 0.0801, s1.loss_cls: 0.0808, s1.acc: 94.7230, s1.loss_bbox: 0.0782, s2.loss_cls: 0.0398, s2.acc: 94.7743, s2.loss_bbox: 0.0481, loss: 0.5476\n",
      "2021-05-20 03:13:37,369 - mmdet - INFO - Epoch [13][150/818]\tlr: 1.000e-05, eta: 1:42:09, time: 2.049, data_time: 0.013, memory: 23627, loss_rpn_cls: 0.0309, loss_rpn_bbox: 0.0218, s0.loss_cls: 0.1939, s0.acc: 93.8232, s0.loss_bbox: 0.0871, s1.loss_cls: 0.0898, s1.acc: 94.2281, s1.loss_bbox: 0.0838, s2.loss_cls: 0.0436, s2.acc: 94.4290, s2.loss_bbox: 0.0500, loss: 0.6009\n",
      "2021-05-20 03:15:20,647 - mmdet - INFO - Epoch [13][200/818]\tlr: 1.000e-05, eta: 1:40:32, time: 2.066, data_time: 0.013, memory: 23627, loss_rpn_cls: 0.0243, loss_rpn_bbox: 0.0206, s0.loss_cls: 0.1766, s0.acc: 94.2363, s0.loss_bbox: 0.0840, s1.loss_cls: 0.0811, s1.acc: 94.7049, s1.loss_bbox: 0.0773, s2.loss_cls: 0.0395, s2.acc: 94.8333, s2.loss_bbox: 0.0454, loss: 0.5487\n",
      "2021-05-20 03:17:03,770 - mmdet - INFO - Epoch [13][250/818]\tlr: 1.000e-05, eta: 1:38:55, time: 2.062, data_time: 0.013, memory: 23627, loss_rpn_cls: 0.0249, loss_rpn_bbox: 0.0185, s0.loss_cls: 0.1672, s0.acc: 94.5244, s0.loss_bbox: 0.0767, s1.loss_cls: 0.0785, s1.acc: 94.8736, s1.loss_bbox: 0.0767, s2.loss_cls: 0.0383, s2.acc: 95.0523, s2.loss_bbox: 0.0451, loss: 0.5260\n",
      "2021-05-20 03:18:43,294 - mmdet - INFO - Epoch [13][300/818]\tlr: 1.000e-05, eta: 1:37:17, time: 1.990, data_time: 0.013, memory: 23627, loss_rpn_cls: 0.0254, loss_rpn_bbox: 0.0189, s0.loss_cls: 0.1724, s0.acc: 94.4453, s0.loss_bbox: 0.0867, s1.loss_cls: 0.0795, s1.acc: 94.8417, s1.loss_bbox: 0.0793, s2.loss_cls: 0.0377, s2.acc: 94.9662, s2.loss_bbox: 0.0476, loss: 0.5474\n",
      "2021-05-20 03:20:26,888 - mmdet - INFO - Epoch [13][350/818]\tlr: 1.000e-05, eta: 1:35:41, time: 2.072, data_time: 0.013, memory: 23627, loss_rpn_cls: 0.0265, loss_rpn_bbox: 0.0214, s0.loss_cls: 0.1915, s0.acc: 93.7988, s0.loss_bbox: 0.0876, s1.loss_cls: 0.0875, s1.acc: 94.3596, s1.loss_bbox: 0.0834, s2.loss_cls: 0.0430, s2.acc: 94.3383, s2.loss_bbox: 0.0514, loss: 0.5923\n",
      "2021-05-20 03:22:03,713 - mmdet - INFO - Epoch [13][400/818]\tlr: 1.000e-05, eta: 1:34:02, time: 1.936, data_time: 0.013, memory: 23627, loss_rpn_cls: 0.0332, loss_rpn_bbox: 0.0236, s0.loss_cls: 0.1974, s0.acc: 93.6084, s0.loss_bbox: 0.0922, s1.loss_cls: 0.0914, s1.acc: 94.1583, s1.loss_bbox: 0.0861, s2.loss_cls: 0.0446, s2.acc: 94.2009, s2.loss_bbox: 0.0522, loss: 0.6208\n",
      "2021-05-20 03:23:44,422 - mmdet - INFO - Epoch [13][450/818]\tlr: 1.000e-05, eta: 1:32:25, time: 2.014, data_time: 0.013, memory: 23627, loss_rpn_cls: 0.0232, loss_rpn_bbox: 0.0212, s0.loss_cls: 0.1775, s0.acc: 94.2598, s0.loss_bbox: 0.0829, s1.loss_cls: 0.0803, s1.acc: 94.8778, s1.loss_bbox: 0.0774, s2.loss_cls: 0.0393, s2.acc: 94.8546, s2.loss_bbox: 0.0448, loss: 0.5466\n",
      "2021-05-20 03:25:28,057 - mmdet - INFO - Epoch [13][500/818]\tlr: 1.000e-05, eta: 1:30:48, time: 2.073, data_time: 0.013, memory: 23627, loss_rpn_cls: 0.0301, loss_rpn_bbox: 0.0223, s0.loss_cls: 0.1939, s0.acc: 93.8115, s0.loss_bbox: 0.0879, s1.loss_cls: 0.0885, s1.acc: 94.3729, s1.loss_bbox: 0.0810, s2.loss_cls: 0.0432, s2.acc: 94.4070, s2.loss_bbox: 0.0491, loss: 0.5959\n",
      "2021-05-20 03:27:06,639 - mmdet - INFO - Epoch [13][550/818]\tlr: 1.000e-05, eta: 1:29:10, time: 1.972, data_time: 0.013, memory: 23627, loss_rpn_cls: 0.0266, loss_rpn_bbox: 0.0166, s0.loss_cls: 0.1747, s0.acc: 94.4951, s0.loss_bbox: 0.0801, s1.loss_cls: 0.0777, s1.acc: 95.0258, s1.loss_bbox: 0.0757, s2.loss_cls: 0.0376, s2.acc: 95.1325, s2.loss_bbox: 0.0459, loss: 0.5348\n",
      "2021-05-20 03:28:47,461 - mmdet - INFO - Epoch [13][600/818]\tlr: 1.000e-05, eta: 1:27:32, time: 2.016, data_time: 0.013, memory: 23627, loss_rpn_cls: 0.0261, loss_rpn_bbox: 0.0244, s0.loss_cls: 0.1814, s0.acc: 94.1982, s0.loss_bbox: 0.0920, s1.loss_cls: 0.0841, s1.acc: 94.6549, s1.loss_bbox: 0.0855, s2.loss_cls: 0.0412, s2.acc: 94.4699, s2.loss_bbox: 0.0514, loss: 0.5862\n",
      "2021-05-20 03:30:27,855 - mmdet - INFO - Epoch [13][650/818]\tlr: 1.000e-05, eta: 1:25:54, time: 2.008, data_time: 0.013, memory: 23627, loss_rpn_cls: 0.0268, loss_rpn_bbox: 0.0194, s0.loss_cls: 0.1701, s0.acc: 94.4307, s0.loss_bbox: 0.0868, s1.loss_cls: 0.0775, s1.acc: 95.0422, s1.loss_bbox: 0.0822, s2.loss_cls: 0.0370, s2.acc: 95.1191, s2.loss_bbox: 0.0502, loss: 0.5499\n",
      "2021-05-20 03:32:10,740 - mmdet - INFO - Epoch [13][700/818]\tlr: 1.000e-05, eta: 1:24:17, time: 2.058, data_time: 0.013, memory: 23627, loss_rpn_cls: 0.0240, loss_rpn_bbox: 0.0211, s0.loss_cls: 0.1773, s0.acc: 94.2559, s0.loss_bbox: 0.0856, s1.loss_cls: 0.0808, s1.acc: 94.6742, s1.loss_bbox: 0.0791, s2.loss_cls: 0.0397, s2.acc: 94.6992, s2.loss_bbox: 0.0459, loss: 0.5533\n",
      "2021-05-20 03:33:50,848 - mmdet - INFO - Epoch [13][750/818]\tlr: 1.000e-05, eta: 1:22:39, time: 2.002, data_time: 0.013, memory: 23627, loss_rpn_cls: 0.0238, loss_rpn_bbox: 0.0221, s0.loss_cls: 0.1854, s0.acc: 94.0020, s0.loss_bbox: 0.0915, s1.loss_cls: 0.0848, s1.acc: 94.6227, s1.loss_bbox: 0.0884, s2.loss_cls: 0.0418, s2.acc: 94.6146, s2.loss_bbox: 0.0514, loss: 0.5893\n",
      "2021-05-20 03:35:31,793 - mmdet - INFO - Epoch [13][800/818]\tlr: 1.000e-05, eta: 1:21:01, time: 2.019, data_time: 0.013, memory: 23627, loss_rpn_cls: 0.0252, loss_rpn_bbox: 0.0206, s0.loss_cls: 0.1592, s0.acc: 94.6953, s0.loss_bbox: 0.0761, s1.loss_cls: 0.0737, s1.acc: 95.0795, s1.loss_bbox: 0.0708, s2.loss_cls: 0.0356, s2.acc: 95.1628, s2.loss_bbox: 0.0417, loss: 0.5028\n",
      "2021-05-20 03:36:06,616 - mmdet - INFO - Saving checkpoint at 13 epochs\n"
     ]
    },
    {
     "name": "stdout",
     "output_type": "stream",
     "text": [
      "[>>>>>>>>>>>>>>>>>>>>>>>>>>>>>>] 655/655, 8.4 task/s, elapsed: 78s, ETA:     0s"
     ]
    },
    {
     "name": "stderr",
     "output_type": "stream",
     "text": [
      "2021-05-20 03:37:29,678 - mmdet - INFO - Evaluating bbox...\n"
     ]
    },
    {
     "name": "stdout",
     "output_type": "stream",
     "text": [
      "Loading and preparing results...\n",
      "DONE (t=0.08s)\n",
      "creating index...\n",
      "index created!\n",
      "Running per image evaluation...\n",
      "Evaluate annotation type *bbox*\n",
      "DONE (t=4.78s).\n",
      "Accumulating evaluation results...\n",
      "DONE (t=0.61s).\n",
      "Average Precision  (AP) @[ IoU=0.50:0.95 | area=   all | maxDets=100 ] = 0.558\n",
      "Average Precision  (AP) @[ IoU=0.50      | area=   all | maxDets=1000 ] = 0.683\n",
      "Average Precision  (AP) @[ IoU=0.75      | area=   all | maxDets=1000 ] = 0.605\n",
      "Average Precision  (AP) @[ IoU=0.50:0.95 | area= small | maxDets=1000 ] = 0.276\n",
      "Average Precision  (AP) @[ IoU=0.50:0.95 | area=medium | maxDets=1000 ] = 0.562\n",
      "Average Precision  (AP) @[ IoU=0.50:0.95 | area= large | maxDets=1000 ] = 0.795\n",
      "Average Recall     (AR) @[ IoU=0.50:0.95 | area=   all | maxDets=100 ] = 0.631\n",
      "Average Recall     (AR) @[ IoU=0.50:0.95 | area=   all | maxDets=300 ] = 0.631\n",
      "Average Recall     (AR) @[ IoU=0.50:0.95 | area=   all | maxDets=1000 ] = 0.631\n",
      "Average Recall     (AR) @[ IoU=0.50:0.95 | area= small | maxDets=1000 ] = 0.371\n",
      "Average Recall     (AR) @[ IoU=0.50:0.95 | area=medium | maxDets=1000 ] = 0.651\n",
      "Average Recall     (AR) @[ IoU=0.50:0.95 | area= large | maxDets=1000 ] = 0.833\n"
     ]
    },
    {
     "name": "stderr",
     "output_type": "stream",
     "text": [
      "2021-05-20 03:37:44,949 - mmdet - INFO - Now best checkpoint is epoch_13.pth.Best bbox_mAP_50 is 0.6830\n",
      "2021-05-20 03:37:44,955 - mmdet - INFO - Epoch(val) [13][818]\tbbox_mAP: 0.5580, bbox_mAP_50: 0.6830, bbox_mAP_75: 0.6050, bbox_mAP_s: 0.2760, bbox_mAP_m: 0.5620, bbox_mAP_l: 0.7950, bbox_mAP_copypaste: 0.558 0.683 0.605 0.276 0.562 0.795\n",
      "2021-05-20 03:39:24,993 - mmdet - INFO - Epoch [14][50/818]\tlr: 1.000e-05, eta: 1:18:40, time: 2.000, data_time: 0.087, memory: 23627, loss_rpn_cls: 0.0223, loss_rpn_bbox: 0.0195, s0.loss_cls: 0.1665, s0.acc: 94.7285, s0.loss_bbox: 0.0780, s1.loss_cls: 0.0744, s1.acc: 95.2657, s1.loss_bbox: 0.0730, s2.loss_cls: 0.0360, s2.acc: 95.5138, s2.loss_bbox: 0.0445, loss: 0.5142\n",
      "2021-05-20 03:41:05,612 - mmdet - INFO - Epoch [14][100/818]\tlr: 1.000e-05, eta: 1:17:02, time: 2.012, data_time: 0.013, memory: 23627, loss_rpn_cls: 0.0275, loss_rpn_bbox: 0.0215, s0.loss_cls: 0.1699, s0.acc: 94.5312, s0.loss_bbox: 0.0864, s1.loss_cls: 0.0780, s1.acc: 95.0607, s1.loss_bbox: 0.0793, s2.loss_cls: 0.0367, s2.acc: 95.3646, s2.loss_bbox: 0.0474, loss: 0.5469\n",
      "2021-05-20 03:42:50,506 - mmdet - INFO - Epoch [14][150/818]\tlr: 1.000e-05, eta: 1:15:26, time: 2.098, data_time: 0.013, memory: 23627, loss_rpn_cls: 0.0268, loss_rpn_bbox: 0.0208, s0.loss_cls: 0.1974, s0.acc: 93.7959, s0.loss_bbox: 0.0904, s1.loss_cls: 0.0891, s1.acc: 94.4826, s1.loss_bbox: 0.0848, s2.loss_cls: 0.0423, s2.acc: 94.7642, s2.loss_bbox: 0.0528, loss: 0.6043\n",
      "2021-05-20 03:44:32,748 - mmdet - INFO - Epoch [14][200/818]\tlr: 1.000e-05, eta: 1:13:48, time: 2.045, data_time: 0.013, memory: 23627, loss_rpn_cls: 0.0221, loss_rpn_bbox: 0.0198, s0.loss_cls: 0.1614, s0.acc: 94.7803, s0.loss_bbox: 0.0801, s1.loss_cls: 0.0737, s1.acc: 95.3483, s1.loss_bbox: 0.0801, s2.loss_cls: 0.0364, s2.acc: 95.3116, s2.loss_bbox: 0.0470, loss: 0.5205\n",
      "2021-05-20 03:46:14,719 - mmdet - INFO - Epoch [14][250/818]\tlr: 1.000e-05, eta: 1:12:11, time: 2.039, data_time: 0.013, memory: 23627, loss_rpn_cls: 0.0213, loss_rpn_bbox: 0.0185, s0.loss_cls: 0.1619, s0.acc: 94.9219, s0.loss_bbox: 0.0717, s1.loss_cls: 0.0739, s1.acc: 95.4177, s1.loss_bbox: 0.0684, s2.loss_cls: 0.0354, s2.acc: 95.6019, s2.loss_bbox: 0.0425, loss: 0.4937\n",
      "2021-05-20 03:47:49,685 - mmdet - INFO - Epoch [14][300/818]\tlr: 1.000e-05, eta: 1:10:32, time: 1.899, data_time: 0.013, memory: 23627, loss_rpn_cls: 0.0310, loss_rpn_bbox: 0.0235, s0.loss_cls: 0.1781, s0.acc: 94.1230, s0.loss_bbox: 0.0866, s1.loss_cls: 0.0803, s1.acc: 94.7309, s1.loss_bbox: 0.0818, s2.loss_cls: 0.0398, s2.acc: 94.6915, s2.loss_bbox: 0.0482, loss: 0.5693\n",
      "2021-05-20 03:49:29,346 - mmdet - INFO - Epoch [14][350/818]\tlr: 1.000e-05, eta: 1:08:54, time: 1.993, data_time: 0.013, memory: 23627, loss_rpn_cls: 0.0225, loss_rpn_bbox: 0.0179, s0.loss_cls: 0.1686, s0.acc: 94.6670, s0.loss_bbox: 0.0802, s1.loss_cls: 0.0761, s1.acc: 95.2049, s1.loss_bbox: 0.0736, s2.loss_cls: 0.0360, s2.acc: 95.3860, s2.loss_bbox: 0.0455, loss: 0.5205\n",
      "2021-05-20 03:51:08,989 - mmdet - INFO - Epoch [14][400/818]\tlr: 1.000e-05, eta: 1:07:16, time: 1.993, data_time: 0.013, memory: 23627, loss_rpn_cls: 0.0258, loss_rpn_bbox: 0.0198, s0.loss_cls: 0.1801, s0.acc: 94.0947, s0.loss_bbox: 0.0816, s1.loss_cls: 0.0813, s1.acc: 94.6442, s1.loss_bbox: 0.0782, s2.loss_cls: 0.0397, s2.acc: 94.8326, s2.loss_bbox: 0.0487, loss: 0.5551\n",
      "2021-05-20 03:52:51,910 - mmdet - INFO - Epoch [14][450/818]\tlr: 1.000e-05, eta: 1:05:39, time: 2.058, data_time: 0.014, memory: 23627, loss_rpn_cls: 0.0262, loss_rpn_bbox: 0.0227, s0.loss_cls: 0.2015, s0.acc: 93.6777, s0.loss_bbox: 0.0904, s1.loss_cls: 0.0909, s1.acc: 94.3811, s1.loss_bbox: 0.0874, s2.loss_cls: 0.0436, s2.acc: 94.6736, s2.loss_bbox: 0.0522, loss: 0.6150\n",
      "2021-05-20 03:54:34,808 - mmdet - INFO - Epoch [14][500/818]\tlr: 1.000e-05, eta: 1:04:01, time: 2.058, data_time: 0.013, memory: 23627, loss_rpn_cls: 0.0206, loss_rpn_bbox: 0.0164, s0.loss_cls: 0.1564, s0.acc: 94.8643, s0.loss_bbox: 0.0737, s1.loss_cls: 0.0711, s1.acc: 95.3379, s1.loss_bbox: 0.0725, s2.loss_cls: 0.0350, s2.acc: 95.3404, s2.loss_bbox: 0.0437, loss: 0.4894\n",
      "2021-05-20 03:56:17,714 - mmdet - INFO - Epoch [14][550/818]\tlr: 1.000e-05, eta: 1:02:24, time: 2.058, data_time: 0.014, memory: 23627, loss_rpn_cls: 0.0302, loss_rpn_bbox: 0.0217, s0.loss_cls: 0.1637, s0.acc: 94.7090, s0.loss_bbox: 0.0796, s1.loss_cls: 0.0772, s1.acc: 95.0791, s1.loss_bbox: 0.0733, s2.loss_cls: 0.0372, s2.acc: 95.2114, s2.loss_bbox: 0.0426, loss: 0.5256\n",
      "2021-05-20 03:57:59,304 - mmdet - INFO - Epoch [14][600/818]\tlr: 1.000e-05, eta: 1:00:46, time: 2.032, data_time: 0.013, memory: 23627, loss_rpn_cls: 0.0247, loss_rpn_bbox: 0.0192, s0.loss_cls: 0.1760, s0.acc: 94.3691, s0.loss_bbox: 0.0799, s1.loss_cls: 0.0776, s1.acc: 95.0055, s1.loss_bbox: 0.0739, s2.loss_cls: 0.0373, s2.acc: 95.1507, s2.loss_bbox: 0.0458, loss: 0.5344\n",
      "2021-05-20 03:59:36,814 - mmdet - INFO - Epoch [14][650/818]\tlr: 1.000e-05, eta: 0:59:07, time: 1.950, data_time: 0.013, memory: 23627, loss_rpn_cls: 0.0280, loss_rpn_bbox: 0.0221, s0.loss_cls: 0.1876, s0.acc: 93.8770, s0.loss_bbox: 0.0883, s1.loss_cls: 0.0864, s1.acc: 94.3979, s1.loss_bbox: 0.0819, s2.loss_cls: 0.0418, s2.acc: 94.5016, s2.loss_bbox: 0.0481, loss: 0.5842\n",
      "2021-05-20 04:01:23,211 - mmdet - INFO - Epoch [14][700/818]\tlr: 1.000e-05, eta: 0:57:30, time: 2.128, data_time: 0.013, memory: 23627, loss_rpn_cls: 0.0239, loss_rpn_bbox: 0.0206, s0.loss_cls: 0.1614, s0.acc: 94.5859, s0.loss_bbox: 0.0808, s1.loss_cls: 0.0735, s1.acc: 95.0928, s1.loss_bbox: 0.0738, s2.loss_cls: 0.0357, s2.acc: 95.1228, s2.loss_bbox: 0.0440, loss: 0.5137\n",
      "2021-05-20 04:02:59,658 - mmdet - INFO - Epoch [14][750/818]\tlr: 1.000e-05, eta: 0:55:52, time: 1.929, data_time: 0.013, memory: 23627, loss_rpn_cls: 0.0246, loss_rpn_bbox: 0.0203, s0.loss_cls: 0.1696, s0.acc: 94.5049, s0.loss_bbox: 0.0825, s1.loss_cls: 0.0776, s1.acc: 94.7982, s1.loss_bbox: 0.0786, s2.loss_cls: 0.0380, s2.acc: 94.8088, s2.loss_bbox: 0.0464, loss: 0.5375\n",
      "2021-05-20 04:04:36,989 - mmdet - INFO - Epoch [14][800/818]\tlr: 1.000e-05, eta: 0:54:13, time: 1.947, data_time: 0.013, memory: 23627, loss_rpn_cls: 0.0227, loss_rpn_bbox: 0.0191, s0.loss_cls: 0.1647, s0.acc: 94.5488, s0.loss_bbox: 0.0766, s1.loss_cls: 0.0750, s1.acc: 95.1212, s1.loss_bbox: 0.0736, s2.loss_cls: 0.0365, s2.acc: 95.3085, s2.loss_bbox: 0.0454, loss: 0.5137\n",
      "2021-05-20 04:05:12,197 - mmdet - INFO - Saving checkpoint at 14 epochs\n"
     ]
    },
    {
     "name": "stdout",
     "output_type": "stream",
     "text": [
      "[>>>>>>>>>>>>>>>>>>>>>>>>>>>>>>] 655/655, 8.2 task/s, elapsed: 80s, ETA:     0s"
     ]
    },
    {
     "name": "stderr",
     "output_type": "stream",
     "text": [
      "2021-05-20 04:06:35,849 - mmdet - INFO - Evaluating bbox...\n"
     ]
    },
    {
     "name": "stdout",
     "output_type": "stream",
     "text": [
      "Loading and preparing results...\n",
      "DONE (t=0.61s)\n",
      "creating index...\n",
      "index created!\n",
      "Running per image evaluation...\n",
      "Evaluate annotation type *bbox*\n",
      "DONE (t=3.98s).\n",
      "Accumulating evaluation results...\n",
      "DONE (t=0.53s).\n",
      "Average Precision  (AP) @[ IoU=0.50:0.95 | area=   all | maxDets=100 ] = 0.570\n",
      "Average Precision  (AP) @[ IoU=0.50      | area=   all | maxDets=1000 ] = 0.694\n",
      "Average Precision  (AP) @[ IoU=0.75      | area=   all | maxDets=1000 ] = 0.614\n",
      "Average Precision  (AP) @[ IoU=0.50:0.95 | area= small | maxDets=1000 ] = 0.290\n",
      "Average Precision  (AP) @[ IoU=0.50:0.95 | area=medium | maxDets=1000 ] = 0.577\n",
      "Average Precision  (AP) @[ IoU=0.50:0.95 | area= large | maxDets=1000 ] = 0.804\n",
      "Average Recall     (AR) @[ IoU=0.50:0.95 | area=   all | maxDets=100 ] = 0.637\n",
      "Average Recall     (AR) @[ IoU=0.50:0.95 | area=   all | maxDets=300 ] = 0.637\n",
      "Average Recall     (AR) @[ IoU=0.50:0.95 | area=   all | maxDets=1000 ] = 0.637\n",
      "Average Recall     (AR) @[ IoU=0.50:0.95 | area= small | maxDets=1000 ] = 0.377\n",
      "Average Recall     (AR) @[ IoU=0.50:0.95 | area=medium | maxDets=1000 ] = 0.658\n",
      "Average Recall     (AR) @[ IoU=0.50:0.95 | area= large | maxDets=1000 ] = 0.843\n"
     ]
    },
    {
     "name": "stderr",
     "output_type": "stream",
     "text": [
      "2021-05-20 04:06:50,810 - mmdet - INFO - Now best checkpoint is epoch_14.pth.Best bbox_mAP_50 is 0.6940\n",
      "2021-05-20 04:06:50,815 - mmdet - INFO - Epoch(val) [14][818]\tbbox_mAP: 0.5700, bbox_mAP_50: 0.6940, bbox_mAP_75: 0.6140, bbox_mAP_s: 0.2900, bbox_mAP_m: 0.5770, bbox_mAP_l: 0.8040, bbox_mAP_copypaste: 0.570 0.694 0.614 0.290 0.577 0.804\n",
      "2021-05-20 04:08:38,200 - mmdet - INFO - Epoch [15][50/818]\tlr: 1.000e-06, eta: 0:51:56, time: 2.147, data_time: 0.097, memory: 23627, loss_rpn_cls: 0.0226, loss_rpn_bbox: 0.0202, s0.loss_cls: 0.1752, s0.acc: 94.3076, s0.loss_bbox: 0.0835, s1.loss_cls: 0.0804, s1.acc: 94.8095, s1.loss_bbox: 0.0808, s2.loss_cls: 0.0386, s2.acc: 94.9265, s2.loss_bbox: 0.0488, loss: 0.5501\n",
      "2021-05-20 04:10:15,724 - mmdet - INFO - Epoch [15][100/818]\tlr: 1.000e-06, eta: 0:50:17, time: 1.950, data_time: 0.013, memory: 23627, loss_rpn_cls: 0.0244, loss_rpn_bbox: 0.0195, s0.loss_cls: 0.1717, s0.acc: 94.1143, s0.loss_bbox: 0.0833, s1.loss_cls: 0.0793, s1.acc: 94.5863, s1.loss_bbox: 0.0829, s2.loss_cls: 0.0387, s2.acc: 94.8109, s2.loss_bbox: 0.0517, loss: 0.5515\n",
      "2021-05-20 04:12:00,467 - mmdet - INFO - Epoch [15][150/818]\tlr: 1.000e-06, eta: 0:48:40, time: 2.095, data_time: 0.013, memory: 23627, loss_rpn_cls: 0.0199, loss_rpn_bbox: 0.0178, s0.loss_cls: 0.1543, s0.acc: 95.0352, s0.loss_bbox: 0.0745, s1.loss_cls: 0.0680, s1.acc: 95.5632, s1.loss_bbox: 0.0723, s2.loss_cls: 0.0332, s2.acc: 95.6088, s2.loss_bbox: 0.0444, loss: 0.4844\n",
      "2021-05-20 04:13:41,214 - mmdet - INFO - Epoch [15][200/818]\tlr: 1.000e-06, eta: 0:47:02, time: 2.015, data_time: 0.013, memory: 23627, loss_rpn_cls: 0.0256, loss_rpn_bbox: 0.0209, s0.loss_cls: 0.1748, s0.acc: 94.3428, s0.loss_bbox: 0.0832, s1.loss_cls: 0.0806, s1.acc: 94.7871, s1.loss_bbox: 0.0790, s2.loss_cls: 0.0392, s2.acc: 94.8294, s2.loss_bbox: 0.0469, loss: 0.5502\n",
      "2021-05-20 04:15:23,243 - mmdet - INFO - Epoch [15][250/818]\tlr: 1.000e-06, eta: 0:45:24, time: 2.041, data_time: 0.013, memory: 23627, loss_rpn_cls: 0.0259, loss_rpn_bbox: 0.0182, s0.loss_cls: 0.1590, s0.acc: 94.8594, s0.loss_bbox: 0.0796, s1.loss_cls: 0.0724, s1.acc: 95.3193, s1.loss_bbox: 0.0742, s2.loss_cls: 0.0350, s2.acc: 95.4795, s2.loss_bbox: 0.0461, loss: 0.5104\n",
      "2021-05-20 04:17:02,417 - mmdet - INFO - Epoch [15][300/818]\tlr: 1.000e-06, eta: 0:43:46, time: 1.983, data_time: 0.013, memory: 23627, loss_rpn_cls: 0.0262, loss_rpn_bbox: 0.0208, s0.loss_cls: 0.1631, s0.acc: 94.7441, s0.loss_bbox: 0.0789, s1.loss_cls: 0.0726, s1.acc: 95.4049, s1.loss_bbox: 0.0758, s2.loss_cls: 0.0351, s2.acc: 95.5137, s2.loss_bbox: 0.0458, loss: 0.5182\n",
      "2021-05-20 04:18:41,832 - mmdet - INFO - Epoch [15][350/818]\tlr: 1.000e-06, eta: 0:42:08, time: 1.988, data_time: 0.013, memory: 23627, loss_rpn_cls: 0.0249, loss_rpn_bbox: 0.0190, s0.loss_cls: 0.1800, s0.acc: 94.3262, s0.loss_bbox: 0.0866, s1.loss_cls: 0.0806, s1.acc: 94.8746, s1.loss_bbox: 0.0823, s2.loss_cls: 0.0396, s2.acc: 94.8490, s2.loss_bbox: 0.0488, loss: 0.5616\n",
      "2021-05-20 04:20:19,963 - mmdet - INFO - Epoch [15][400/818]\tlr: 1.000e-06, eta: 0:40:29, time: 1.963, data_time: 0.013, memory: 23627, loss_rpn_cls: 0.0208, loss_rpn_bbox: 0.0207, s0.loss_cls: 0.1777, s0.acc: 94.0527, s0.loss_bbox: 0.0889, s1.loss_cls: 0.0801, s1.acc: 94.6631, s1.loss_bbox: 0.0831, s2.loss_cls: 0.0387, s2.acc: 94.8079, s2.loss_bbox: 0.0480, loss: 0.5580\n",
      "2021-05-20 04:21:58,859 - mmdet - INFO - Epoch [15][450/818]\tlr: 1.000e-06, eta: 0:38:51, time: 1.978, data_time: 0.013, memory: 23627, loss_rpn_cls: 0.0229, loss_rpn_bbox: 0.0195, s0.loss_cls: 0.1663, s0.acc: 94.6484, s0.loss_bbox: 0.0795, s1.loss_cls: 0.0753, s1.acc: 95.2451, s1.loss_bbox: 0.0763, s2.loss_cls: 0.0370, s2.acc: 95.3209, s2.loss_bbox: 0.0479, loss: 0.5247\n",
      "2021-05-20 04:23:41,823 - mmdet - INFO - Epoch [15][500/818]\tlr: 1.000e-06, eta: 0:37:13, time: 2.059, data_time: 0.013, memory: 23627, loss_rpn_cls: 0.0236, loss_rpn_bbox: 0.0191, s0.loss_cls: 0.1682, s0.acc: 94.5322, s0.loss_bbox: 0.0819, s1.loss_cls: 0.0734, s1.acc: 95.2339, s1.loss_bbox: 0.0761, s2.loss_cls: 0.0343, s2.acc: 95.5997, s2.loss_bbox: 0.0479, loss: 0.5245\n",
      "2021-05-20 04:25:20,697 - mmdet - INFO - Epoch [15][550/818]\tlr: 1.000e-06, eta: 0:35:35, time: 1.977, data_time: 0.013, memory: 23627, loss_rpn_cls: 0.0273, loss_rpn_bbox: 0.0222, s0.loss_cls: 0.1561, s0.acc: 94.8750, s0.loss_bbox: 0.0784, s1.loss_cls: 0.0689, s1.acc: 95.3934, s1.loss_bbox: 0.0749, s2.loss_cls: 0.0335, s2.acc: 95.5323, s2.loss_bbox: 0.0449, loss: 0.5062\n",
      "2021-05-20 04:27:01,688 - mmdet - INFO - Epoch [15][600/818]\tlr: 1.000e-06, eta: 0:33:57, time: 2.020, data_time: 0.013, memory: 23627, loss_rpn_cls: 0.0256, loss_rpn_bbox: 0.0200, s0.loss_cls: 0.1650, s0.acc: 94.5732, s0.loss_bbox: 0.0788, s1.loss_cls: 0.0749, s1.acc: 95.0643, s1.loss_bbox: 0.0779, s2.loss_cls: 0.0370, s2.acc: 95.1807, s2.loss_bbox: 0.0449, loss: 0.5241\n",
      "2021-05-20 04:28:43,873 - mmdet - INFO - Epoch [15][650/818]\tlr: 1.000e-06, eta: 0:32:19, time: 2.044, data_time: 0.013, memory: 23627, loss_rpn_cls: 0.0226, loss_rpn_bbox: 0.0187, s0.loss_cls: 0.1543, s0.acc: 94.7510, s0.loss_bbox: 0.0773, s1.loss_cls: 0.0688, s1.acc: 95.4052, s1.loss_bbox: 0.0728, s2.loss_cls: 0.0339, s2.acc: 95.4564, s2.loss_bbox: 0.0436, loss: 0.4920\n",
      "2021-05-20 04:30:21,671 - mmdet - INFO - Epoch [15][700/818]\tlr: 1.000e-06, eta: 0:30:41, time: 1.956, data_time: 0.013, memory: 23627, loss_rpn_cls: 0.0227, loss_rpn_bbox: 0.0196, s0.loss_cls: 0.1627, s0.acc: 94.4961, s0.loss_bbox: 0.0789, s1.loss_cls: 0.0744, s1.acc: 94.9433, s1.loss_bbox: 0.0747, s2.loss_cls: 0.0365, s2.acc: 94.9914, s2.loss_bbox: 0.0465, loss: 0.5159\n",
      "2021-05-20 04:31:59,004 - mmdet - INFO - Epoch [15][750/818]\tlr: 1.000e-06, eta: 0:29:02, time: 1.947, data_time: 0.013, memory: 23627, loss_rpn_cls: 0.0255, loss_rpn_bbox: 0.0208, s0.loss_cls: 0.1876, s0.acc: 94.0107, s0.loss_bbox: 0.0878, s1.loss_cls: 0.0837, s1.acc: 94.7429, s1.loss_bbox: 0.0813, s2.loss_cls: 0.0402, s2.acc: 94.9780, s2.loss_bbox: 0.0474, loss: 0.5743\n",
      "2021-05-20 04:33:36,701 - mmdet - INFO - Epoch [15][800/818]\tlr: 1.000e-06, eta: 0:27:24, time: 1.954, data_time: 0.013, memory: 23627, loss_rpn_cls: 0.0252, loss_rpn_bbox: 0.0190, s0.loss_cls: 0.1547, s0.acc: 94.9707, s0.loss_bbox: 0.0747, s1.loss_cls: 0.0706, s1.acc: 95.4492, s1.loss_bbox: 0.0712, s2.loss_cls: 0.0335, s2.acc: 95.7157, s2.loss_bbox: 0.0426, loss: 0.4914\n",
      "2021-05-20 04:34:15,403 - mmdet - INFO - Saving checkpoint at 15 epochs\n"
     ]
    },
    {
     "name": "stdout",
     "output_type": "stream",
     "text": [
      "[>>>>>>>>>>>>>>>>>>>>>>>>>>>>>>] 655/655, 8.4 task/s, elapsed: 78s, ETA:     0s"
     ]
    },
    {
     "name": "stderr",
     "output_type": "stream",
     "text": [
      "2021-05-20 04:35:37,982 - mmdet - INFO - Evaluating bbox...\n"
     ]
    },
    {
     "name": "stdout",
     "output_type": "stream",
     "text": [
      "Loading and preparing results...\n",
      "DONE (t=0.07s)\n",
      "creating index...\n",
      "index created!\n",
      "Running per image evaluation...\n",
      "Evaluate annotation type *bbox*\n",
      "DONE (t=4.61s).\n",
      "Accumulating evaluation results...\n",
      "DONE (t=0.55s).\n",
      "Average Precision  (AP) @[ IoU=0.50:0.95 | area=   all | maxDets=100 ] = 0.576\n",
      "Average Precision  (AP) @[ IoU=0.50      | area=   all | maxDets=1000 ] = 0.699\n",
      "Average Precision  (AP) @[ IoU=0.75      | area=   all | maxDets=1000 ] = 0.623\n",
      "Average Precision  (AP) @[ IoU=0.50:0.95 | area= small | maxDets=1000 ] = 0.295\n",
      "Average Precision  (AP) @[ IoU=0.50:0.95 | area=medium | maxDets=1000 ] = 0.582\n",
      "Average Precision  (AP) @[ IoU=0.50:0.95 | area= large | maxDets=1000 ] = 0.807\n",
      "Average Recall     (AR) @[ IoU=0.50:0.95 | area=   all | maxDets=100 ] = 0.642\n",
      "Average Recall     (AR) @[ IoU=0.50:0.95 | area=   all | maxDets=300 ] = 0.642\n",
      "Average Recall     (AR) @[ IoU=0.50:0.95 | area=   all | maxDets=1000 ] = 0.642\n",
      "Average Recall     (AR) @[ IoU=0.50:0.95 | area= small | maxDets=1000 ] = 0.386\n",
      "Average Recall     (AR) @[ IoU=0.50:0.95 | area=medium | maxDets=1000 ] = 0.665\n",
      "Average Recall     (AR) @[ IoU=0.50:0.95 | area= large | maxDets=1000 ] = 0.843\n"
     ]
    },
    {
     "name": "stderr",
     "output_type": "stream",
     "text": [
      "2021-05-20 04:35:53,069 - mmdet - INFO - Now best checkpoint is epoch_15.pth.Best bbox_mAP_50 is 0.6990\n",
      "2021-05-20 04:35:53,074 - mmdet - INFO - Epoch(val) [15][818]\tbbox_mAP: 0.5760, bbox_mAP_50: 0.6990, bbox_mAP_75: 0.6230, bbox_mAP_s: 0.2950, bbox_mAP_m: 0.5820, bbox_mAP_l: 0.8070, bbox_mAP_copypaste: 0.576 0.699 0.623 0.295 0.582 0.807\n",
      "2021-05-20 04:37:38,944 - mmdet - INFO - Epoch [16][50/818]\tlr: 1.000e-06, eta: 0:25:08, time: 2.117, data_time: 0.103, memory: 23627, loss_rpn_cls: 0.0220, loss_rpn_bbox: 0.0184, s0.loss_cls: 0.1421, s0.acc: 95.3232, s0.loss_bbox: 0.0705, s1.loss_cls: 0.0637, s1.acc: 95.8978, s1.loss_bbox: 0.0650, s2.loss_cls: 0.0314, s2.acc: 96.0444, s2.loss_bbox: 0.0397, loss: 0.4527\n",
      "2021-05-20 04:39:14,529 - mmdet - INFO - Epoch [16][100/818]\tlr: 1.000e-06, eta: 0:23:30, time: 1.912, data_time: 0.013, memory: 23627, loss_rpn_cls: 0.0226, loss_rpn_bbox: 0.0166, s0.loss_cls: 0.1561, s0.acc: 94.9570, s0.loss_bbox: 0.0787, s1.loss_cls: 0.0683, s1.acc: 95.6096, s1.loss_bbox: 0.0726, s2.loss_cls: 0.0327, s2.acc: 95.8249, s2.loss_bbox: 0.0435, loss: 0.4911\n",
      "2021-05-20 04:40:55,502 - mmdet - INFO - Epoch [16][150/818]\tlr: 1.000e-06, eta: 0:21:52, time: 2.019, data_time: 0.013, memory: 23627, loss_rpn_cls: 0.0184, loss_rpn_bbox: 0.0163, s0.loss_cls: 0.1515, s0.acc: 95.0879, s0.loss_bbox: 0.0720, s1.loss_cls: 0.0699, s1.acc: 95.4619, s1.loss_bbox: 0.0677, s2.loss_cls: 0.0334, s2.acc: 95.6144, s2.loss_bbox: 0.0410, loss: 0.4702\n",
      "2021-05-20 04:42:38,901 - mmdet - INFO - Epoch [16][200/818]\tlr: 1.000e-06, eta: 0:20:14, time: 2.068, data_time: 0.013, memory: 23627, loss_rpn_cls: 0.0233, loss_rpn_bbox: 0.0192, s0.loss_cls: 0.1719, s0.acc: 94.2783, s0.loss_bbox: 0.0839, s1.loss_cls: 0.0771, s1.acc: 94.9159, s1.loss_bbox: 0.0809, s2.loss_cls: 0.0375, s2.acc: 95.0979, s2.loss_bbox: 0.0490, loss: 0.5429\n",
      "2021-05-20 04:44:22,232 - mmdet - INFO - Epoch [16][250/818]\tlr: 1.000e-06, eta: 0:18:36, time: 2.067, data_time: 0.013, memory: 23627, loss_rpn_cls: 0.0227, loss_rpn_bbox: 0.0163, s0.loss_cls: 0.1559, s0.acc: 94.8447, s0.loss_bbox: 0.0775, s1.loss_cls: 0.0712, s1.acc: 95.2096, s1.loss_bbox: 0.0746, s2.loss_cls: 0.0348, s2.acc: 95.3908, s2.loss_bbox: 0.0466, loss: 0.4997\n",
      "2021-05-20 04:46:01,135 - mmdet - INFO - Epoch [16][300/818]\tlr: 1.000e-06, eta: 0:16:58, time: 1.978, data_time: 0.013, memory: 23627, loss_rpn_cls: 0.0240, loss_rpn_bbox: 0.0208, s0.loss_cls: 0.1694, s0.acc: 94.4922, s0.loss_bbox: 0.0804, s1.loss_cls: 0.0753, s1.acc: 95.0528, s1.loss_bbox: 0.0781, s2.loss_cls: 0.0368, s2.acc: 94.9791, s2.loss_bbox: 0.0459, loss: 0.5307\n",
      "2021-05-20 04:47:40,844 - mmdet - INFO - Epoch [16][350/818]\tlr: 1.000e-06, eta: 0:15:19, time: 1.994, data_time: 0.013, memory: 23627, loss_rpn_cls: 0.0196, loss_rpn_bbox: 0.0186, s0.loss_cls: 0.1539, s0.acc: 95.0752, s0.loss_bbox: 0.0750, s1.loss_cls: 0.0694, s1.acc: 95.6026, s1.loss_bbox: 0.0739, s2.loss_cls: 0.0342, s2.acc: 95.6269, s2.loss_bbox: 0.0457, loss: 0.4902\n",
      "2021-05-20 04:49:15,343 - mmdet - INFO - Epoch [16][400/818]\tlr: 1.000e-06, eta: 0:13:41, time: 1.890, data_time: 0.013, memory: 23627, loss_rpn_cls: 0.0265, loss_rpn_bbox: 0.0176, s0.loss_cls: 0.1666, s0.acc: 94.6279, s0.loss_bbox: 0.0788, s1.loss_cls: 0.0739, s1.acc: 95.2239, s1.loss_bbox: 0.0723, s2.loss_cls: 0.0359, s2.acc: 95.4272, s2.loss_bbox: 0.0439, loss: 0.5155\n",
      "2021-05-20 04:50:58,135 - mmdet - INFO - Epoch [16][450/818]\tlr: 1.000e-06, eta: 0:12:03, time: 2.056, data_time: 0.014, memory: 23627, loss_rpn_cls: 0.0221, loss_rpn_bbox: 0.0194, s0.loss_cls: 0.1602, s0.acc: 94.7510, s0.loss_bbox: 0.0763, s1.loss_cls: 0.0713, s1.acc: 95.4405, s1.loss_bbox: 0.0736, s2.loss_cls: 0.0346, s2.acc: 95.4342, s2.loss_bbox: 0.0440, loss: 0.5015\n",
      "2021-05-20 04:52:36,760 - mmdet - INFO - Epoch [16][500/818]\tlr: 1.000e-06, eta: 0:10:25, time: 1.972, data_time: 0.013, memory: 23627, loss_rpn_cls: 0.0215, loss_rpn_bbox: 0.0176, s0.loss_cls: 0.1712, s0.acc: 94.4561, s0.loss_bbox: 0.0813, s1.loss_cls: 0.0761, s1.acc: 95.0430, s1.loss_bbox: 0.0745, s2.loss_cls: 0.0371, s2.acc: 95.1873, s2.loss_bbox: 0.0446, loss: 0.5239\n",
      "2021-05-20 04:54:15,502 - mmdet - INFO - Epoch [16][550/818]\tlr: 1.000e-06, eta: 0:08:46, time: 1.975, data_time: 0.013, memory: 23627, loss_rpn_cls: 0.0261, loss_rpn_bbox: 0.0234, s0.loss_cls: 0.1797, s0.acc: 94.0977, s0.loss_bbox: 0.0913, s1.loss_cls: 0.0810, s1.acc: 94.7139, s1.loss_bbox: 0.0804, s2.loss_cls: 0.0388, s2.acc: 94.8911, s2.loss_bbox: 0.0458, loss: 0.5664\n",
      "2021-05-20 04:55:56,782 - mmdet - INFO - Epoch [16][600/818]\tlr: 1.000e-06, eta: 0:07:08, time: 2.026, data_time: 0.014, memory: 23627, loss_rpn_cls: 0.0272, loss_rpn_bbox: 0.0224, s0.loss_cls: 0.1693, s0.acc: 94.5020, s0.loss_bbox: 0.0816, s1.loss_cls: 0.0765, s1.acc: 95.0053, s1.loss_bbox: 0.0766, s2.loss_cls: 0.0368, s2.acc: 95.2084, s2.loss_bbox: 0.0470, loss: 0.5374\n",
      "2021-05-20 04:57:37,753 - mmdet - INFO - Epoch [16][650/818]\tlr: 1.000e-06, eta: 0:05:30, time: 2.019, data_time: 0.014, memory: 23627, loss_rpn_cls: 0.0274, loss_rpn_bbox: 0.0202, s0.loss_cls: 0.1710, s0.acc: 94.3955, s0.loss_bbox: 0.0795, s1.loss_cls: 0.0789, s1.acc: 94.8293, s1.loss_bbox: 0.0757, s2.loss_cls: 0.0389, s2.acc: 94.9254, s2.loss_bbox: 0.0468, loss: 0.5384\n",
      "2021-05-20 04:59:19,938 - mmdet - INFO - Epoch [16][700/818]\tlr: 1.000e-06, eta: 0:03:52, time: 2.044, data_time: 0.013, memory: 23627, loss_rpn_cls: 0.0280, loss_rpn_bbox: 0.0233, s0.loss_cls: 0.1950, s0.acc: 93.6299, s0.loss_bbox: 0.0953, s1.loss_cls: 0.0892, s1.acc: 94.2577, s1.loss_bbox: 0.0925, s2.loss_cls: 0.0428, s2.acc: 94.3226, s2.loss_bbox: 0.0540, loss: 0.6201\n",
      "2021-05-20 05:00:54,603 - mmdet - INFO - Epoch [16][750/818]\tlr: 1.000e-06, eta: 0:02:13, time: 1.893, data_time: 0.012, memory: 23627, loss_rpn_cls: 0.0240, loss_rpn_bbox: 0.0194, s0.loss_cls: 0.1672, s0.acc: 94.6201, s0.loss_bbox: 0.0806, s1.loss_cls: 0.0767, s1.acc: 95.0345, s1.loss_bbox: 0.0751, s2.loss_cls: 0.0368, s2.acc: 95.1763, s2.loss_bbox: 0.0454, loss: 0.5252\n",
      "2021-05-20 05:02:32,681 - mmdet - INFO - Epoch [16][800/818]\tlr: 1.000e-06, eta: 0:00:35, time: 1.962, data_time: 0.013, memory: 23627, loss_rpn_cls: 0.0248, loss_rpn_bbox: 0.0205, s0.loss_cls: 0.1708, s0.acc: 94.3037, s0.loss_bbox: 0.0838, s1.loss_cls: 0.0772, s1.acc: 94.8510, s1.loss_bbox: 0.0771, s2.loss_cls: 0.0367, s2.acc: 95.0681, s2.loss_bbox: 0.0473, loss: 0.5382\n",
      "2021-05-20 05:03:09,100 - mmdet - INFO - Saving checkpoint at 16 epochs\n"
     ]
    },
    {
     "name": "stdout",
     "output_type": "stream",
     "text": [
      "[>>>>>>>>>>>>>>>>>>>>>>>>>>>>>>] 655/655, 8.3 task/s, elapsed: 79s, ETA:     0s"
     ]
    },
    {
     "name": "stderr",
     "output_type": "stream",
     "text": [
      "2021-05-20 05:04:32,287 - mmdet - INFO - Evaluating bbox...\n"
     ]
    },
    {
     "name": "stdout",
     "output_type": "stream",
     "text": [
      "Loading and preparing results...\n",
      "DONE (t=0.07s)\n",
      "creating index...\n",
      "index created!\n",
      "Running per image evaluation...\n",
      "Evaluate annotation type *bbox*\n",
      "DONE (t=4.54s).\n",
      "Accumulating evaluation results...\n",
      "DONE (t=0.55s).\n",
      "Average Precision  (AP) @[ IoU=0.50:0.95 | area=   all | maxDets=100 ] = 0.579\n",
      "Average Precision  (AP) @[ IoU=0.50      | area=   all | maxDets=1000 ] = 0.702\n",
      "Average Precision  (AP) @[ IoU=0.75      | area=   all | maxDets=1000 ] = 0.624\n",
      "Average Precision  (AP) @[ IoU=0.50:0.95 | area= small | maxDets=1000 ] = 0.295\n",
      "Average Precision  (AP) @[ IoU=0.50:0.95 | area=medium | maxDets=1000 ] = 0.588\n",
      "Average Precision  (AP) @[ IoU=0.50:0.95 | area= large | maxDets=1000 ] = 0.808\n",
      "Average Recall     (AR) @[ IoU=0.50:0.95 | area=   all | maxDets=100 ] = 0.647\n",
      "Average Recall     (AR) @[ IoU=0.50:0.95 | area=   all | maxDets=300 ] = 0.647\n",
      "Average Recall     (AR) @[ IoU=0.50:0.95 | area=   all | maxDets=1000 ] = 0.647\n",
      "Average Recall     (AR) @[ IoU=0.50:0.95 | area= small | maxDets=1000 ] = 0.386\n",
      "Average Recall     (AR) @[ IoU=0.50:0.95 | area=medium | maxDets=1000 ] = 0.675\n",
      "Average Recall     (AR) @[ IoU=0.50:0.95 | area= large | maxDets=1000 ] = 0.844\n"
     ]
    },
    {
     "name": "stderr",
     "output_type": "stream",
     "text": [
      "2021-05-20 05:04:47,290 - mmdet - INFO - Now best checkpoint is epoch_16.pth.Best bbox_mAP_50 is 0.7020\n",
      "2021-05-20 05:04:47,296 - mmdet - INFO - Epoch(val) [16][818]\tbbox_mAP: 0.5790, bbox_mAP_50: 0.7020, bbox_mAP_75: 0.6240, bbox_mAP_s: 0.2950, bbox_mAP_m: 0.5880, bbox_mAP_l: 0.8080, bbox_mAP_copypaste: 0.579 0.702 0.624 0.295 0.588 0.808\n"
     ]
    }
   ],
   "source": [
    "# model.\n",
    "model = build_detector(cfg.model)\n",
    "# dataset.\n",
    "datasets = [build_dataset(cfg.data.train)]\n",
    "# training.\n",
    "train_detector(model, datasets[0], cfg, distributed=False, validate=True)"
   ]
  },
  {
   "cell_type": "code",
   "execution_count": null,
   "id": "6f0b20ad-6a60-4b5f-ab7d-df51e8257b52",
   "metadata": {},
   "outputs": [],
   "source": []
  }
 ],
 "metadata": {
  "kernelspec": {
   "display_name": "Python 3",
   "language": "python",
   "name": "python3"
  },
  "language_info": {
   "codemirror_mode": {
    "name": "ipython",
    "version": 3
   },
   "file_extension": ".py",
   "mimetype": "text/x-python",
   "name": "python",
   "nbconvert_exporter": "python",
   "pygments_lexer": "ipython3",
   "version": "3.7.7"
  }
 },
 "nbformat": 4,
 "nbformat_minor": 5
}
