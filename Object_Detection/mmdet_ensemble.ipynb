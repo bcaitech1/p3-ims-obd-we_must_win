{
 "cells": [
  {
   "cell_type": "code",
   "execution_count": 1,
   "id": "39cdfdd0-45fc-44d7-b4db-e3dd5e30461b",
   "metadata": {},
   "outputs": [],
   "source": [
    "from ensemble_boxes import nms, soft_nms, non_maximum_weighted, weighted_boxes_fusion\n",
    "\n",
    "import os\n",
    "import shutil\n",
    "import pandas as pd\n",
    "import numpy as np"
   ]
  },
  {
   "cell_type": "markdown",
   "id": "623bc43f-2fdf-410f-9de5-9629502b4fb1",
   "metadata": {},
   "source": [
    "## CSV file load."
   ]
  },
  {
   "cell_type": "code",
   "execution_count": 2,
   "id": "59f7b9b3-b932-4b8d-852c-94ce776823cf",
   "metadata": {},
   "outputs": [],
   "source": [
    "save_paths = [\n",
    "    \"[0.5228]cascade_mask_rcnn_swin_tiny_patch4_window7_mstrain_480-800_giou_4conv1f_adamw_3x_coco_instaboost_tta\",\n",
    "    \"[0.5313] VFNet_instaboost\",\n",
    "    \"[0.5323] VFNet_insatboost_mosaic\",\n",
    "    \"[0.5323] VFNet_instaboost_mosaic_TTA\",\n",
    "    \"[0.5348] VFNet_all_instaboost_TTA\",\n",
    "    \"[0.5381]Detectors_r50_instaboost_all_train_flip_true_tta\",\n",
    "    \"[0.5397] VFNet_instaboost_TTA\",\n",
    "    \"[0.5576]_htc_x101_64x4d_fpn_dconv_c3-c5_mstrain_400_1400_16x1_20e_coco_all_data_instaboost_with_tta\",\n",
    "    \"[0.5650]_universenet101_2008d_fp16_4x4_mstrain_480_960_20e_coco_all_data_instaboost_with_tta\",\n",
    "    \"[0.5652]_universenet101_2008d_fp16_4x4_mstrain_480_960_20e_coco_all_data_instaboost\",\n",
    "    \"[0.5662]_universenet101_gfl_fp16_4x4_mstrain_480_960_2x_coco_all_data_instaboost\",\n",
    "    \"[0.5664]_universenet101_gfl_fp16_4x4_mstrain_480_960_2x_coco_all_data_instaboost_with_tta\"\n",
    "]\n",
    "lb_scores = [1, 3, 3, 3, 5, 7, 7, 9, 10, 10, 10, 10]\n",
    "\n",
    "data_dfs = [pd.read_csv(os.path.join(\"save_dir\", \"Weighted_Boxes_Fusion\", f\"{save_path}.csv\")) for save_path in save_paths]"
   ]
  },
  {
   "cell_type": "markdown",
   "id": "8c8f0da9-b302-4c40-9d32-f9e0a5f39288",
   "metadata": {},
   "source": [
    "## Helper function define."
   ]
  },
  {
   "cell_type": "code",
   "execution_count": 3,
   "id": "64b85bc5-9756-4089-812b-a26393a8bfe4",
   "metadata": {},
   "outputs": [],
   "source": [
    "def get_values(predicted):\n",
    "    predicted = predicted.split(\" \")\n",
    "    \n",
    "    labels = []\n",
    "    scores = []\n",
    "    boxes = []\n",
    "    \n",
    "    for i in range(0, len(predicted) - 1, 6):\n",
    "        label = int(predicted[i])\n",
    "        score = float(predicted[i + 1])\n",
    "        box = list(map(lambda x: float(x) / 512, predicted[i + 2:i + 6]))\n",
    "        \n",
    "        labels.append(label)\n",
    "        scores.append(score)\n",
    "        boxes.append(box)\n",
    "        \n",
    "    return boxes, scores, labels"
   ]
  },
  {
   "cell_type": "markdown",
   "id": "96ee8ec3-4a08-44d5-bf55-1a939c0a593f",
   "metadata": {},
   "source": [
    "## Weighted boxes fusion."
   ]
  },
  {
   "cell_type": "code",
   "execution_count": 4,
   "id": "639a3cd0-2b73-46b1-9c40-b4bc28ff53bd",
   "metadata": {},
   "outputs": [],
   "source": [
    "iou_thr = 0.6\n",
    "skip_box_thr = 0.0001"
   ]
  },
  {
   "cell_type": "code",
   "execution_count": 5,
   "id": "71271352-7749-4bb0-bf47-57606352012a",
   "metadata": {
    "collapsed": true,
    "jupyter": {
     "outputs_hidden": true
    },
    "tags": []
   },
   "outputs": [
    {
     "name": "stderr",
     "output_type": "stream",
     "text": [
      "/opt/conda/lib/python3.7/site-packages/ensemble_boxes/ensemble_boxes_wbf.py:88: UserWarning: Zero area box skipped: [0.2954540625, 1.0, 0.3533578515625, 1.0].\n",
      "  warnings.warn(\"Zero area box skipped: {}.\".format(box_part))\n",
      "/opt/conda/lib/python3.7/site-packages/ensemble_boxes/ensemble_boxes_wbf.py:88: UserWarning: Zero area box skipped: [0.29238939453125, 1.0, 0.35037970703125, 1.0].\n",
      "  warnings.warn(\"Zero area box skipped: {}.\".format(box_part))\n",
      "/opt/conda/lib/python3.7/site-packages/ensemble_boxes/ensemble_boxes_wbf.py:88: UserWarning: Zero area box skipped: [0.2859361328125, 1.0, 0.346594609375, 1.0].\n",
      "  warnings.warn(\"Zero area box skipped: {}.\".format(box_part))\n",
      "/opt/conda/lib/python3.7/site-packages/ensemble_boxes/ensemble_boxes_wbf.py:88: UserWarning: Zero area box skipped: [0.0, 2.7751923828125e-06, 0.0, 0.030826806640625].\n",
      "  warnings.warn(\"Zero area box skipped: {}.\".format(box_part))\n",
      "/opt/conda/lib/python3.7/site-packages/ensemble_boxes/ensemble_boxes_wbf.py:88: UserWarning: Zero area box skipped: [0.82548505859375, 1.0, 0.9059508984375, 1.0].\n",
      "  warnings.warn(\"Zero area box skipped: {}.\".format(box_part))\n",
      "/opt/conda/lib/python3.7/site-packages/ensemble_boxes/ensemble_boxes_wbf.py:88: UserWarning: Zero area box skipped: [0.81997525390625, 1.0, 0.9035490234375, 1.0].\n",
      "  warnings.warn(\"Zero area box skipped: {}.\".format(box_part))\n",
      "/opt/conda/lib/python3.7/site-packages/ensemble_boxes/ensemble_boxes_wbf.py:88: UserWarning: Zero area box skipped: [0.83001041015625, 1.0, 0.9086890234375, 1.0].\n",
      "  warnings.warn(\"Zero area box skipped: {}.\".format(box_part))\n",
      "/opt/conda/lib/python3.7/site-packages/ensemble_boxes/ensemble_boxes_wbf.py:88: UserWarning: Zero area box skipped: [0.783861875, 1.0, 0.89767861328125, 1.0].\n",
      "  warnings.warn(\"Zero area box skipped: {}.\".format(box_part))\n",
      "/opt/conda/lib/python3.7/site-packages/ensemble_boxes/ensemble_boxes_wbf.py:88: UserWarning: Zero area box skipped: [0.8043471484375, 1.0, 0.90088546875, 1.0].\n",
      "  warnings.warn(\"Zero area box skipped: {}.\".format(box_part))\n",
      "/opt/conda/lib/python3.7/site-packages/ensemble_boxes/ensemble_boxes_wbf.py:88: UserWarning: Zero area box skipped: [0.6818572265625, 1.0, 0.73760306640625, 1.0].\n",
      "  warnings.warn(\"Zero area box skipped: {}.\".format(box_part))\n",
      "/opt/conda/lib/python3.7/site-packages/ensemble_boxes/ensemble_boxes_wbf.py:88: UserWarning: Zero area box skipped: [0.687004921875, 1.0, 0.74902875, 1.0].\n",
      "  warnings.warn(\"Zero area box skipped: {}.\".format(box_part))\n",
      "/opt/conda/lib/python3.7/site-packages/ensemble_boxes/ensemble_boxes_wbf.py:88: UserWarning: Zero area box skipped: [0.6781095703125, 1.0, 0.73232001953125, 1.0].\n",
      "  warnings.warn(\"Zero area box skipped: {}.\".format(box_part))\n",
      "/opt/conda/lib/python3.7/site-packages/ensemble_boxes/ensemble_boxes_wbf.py:88: UserWarning: Zero area box skipped: [0.83582388671875, 1.0, 0.91107875, 1.0].\n",
      "  warnings.warn(\"Zero area box skipped: {}.\".format(box_part))\n",
      "/opt/conda/lib/python3.7/site-packages/ensemble_boxes/ensemble_boxes_wbf.py:88: UserWarning: Zero area box skipped: [0.82754701171875, 1.0, 0.91070283203125, 1.0].\n",
      "  warnings.warn(\"Zero area box skipped: {}.\".format(box_part))\n",
      "/opt/conda/lib/python3.7/site-packages/ensemble_boxes/ensemble_boxes_wbf.py:88: UserWarning: Zero area box skipped: [0.822513515625, 1.0, 0.908089453125, 1.0].\n",
      "  warnings.warn(\"Zero area box skipped: {}.\".format(box_part))\n"
     ]
    }
   ],
   "source": [
    "wbf_results = []\n",
    "\n",
    "for idx in range(len(data_dfs[0])):\n",
    "    boxes_ = []\n",
    "    scores_ = []\n",
    "    labels_ = []\n",
    "    for df_idx in range(len(data_dfs)):\n",
    "        predicted = data_dfs[df_idx].iloc[idx, 0]\n",
    "        box, score, label = get_values(predicted)\n",
    "        boxes_.append(box)\n",
    "        scores_.append(score)\n",
    "        labels_.append(label)\n",
    "        \n",
    "    wbf_box, wbf_score, wbf_label = weighted_boxes_fusion(boxes_, scores_, labels_, weights=lb_scores, iou_thr=iou_thr, skip_box_thr=skip_box_thr)\n",
    "    \n",
    "    wbf_result = [[int(wbf_label_)] + [wbf_score_] + list(map(lambda x: x * 512, wbf_box_)) for wbf_box_, wbf_score_, wbf_label_ in zip(wbf_box, wbf_score, wbf_label)]\n",
    "    wbf_result = sorted(wbf_result, key=lambda x: x[1], reverse=True)\n",
    "    wbf_result = sorted(wbf_result, key=lambda x: x[0])\n",
    "    \n",
    "    wbf_results.append(wbf_result)"
   ]
  },
  {
   "cell_type": "markdown",
   "id": "53f73495-15a9-4c82-9260-4ab6033afc76",
   "metadata": {},
   "source": [
    "## Save to CSV file."
   ]
  },
  {
   "cell_type": "code",
   "execution_count": 6,
   "id": "d9bef271-2c48-4b1d-8b2a-3415d4996545",
   "metadata": {},
   "outputs": [
    {
     "data": {
      "text/html": [
       "<div>\n",
       "<style scoped>\n",
       "    .dataframe tbody tr th:only-of-type {\n",
       "        vertical-align: middle;\n",
       "    }\n",
       "\n",
       "    .dataframe tbody tr th {\n",
       "        vertical-align: top;\n",
       "    }\n",
       "\n",
       "    .dataframe thead th {\n",
       "        text-align: right;\n",
       "    }\n",
       "</style>\n",
       "<table border=\"1\" class=\"dataframe\">\n",
       "  <thead>\n",
       "    <tr style=\"text-align: right;\">\n",
       "      <th></th>\n",
       "      <th>PredictionString</th>\n",
       "      <th>image_id</th>\n",
       "    </tr>\n",
       "  </thead>\n",
       "  <tbody>\n",
       "    <tr>\n",
       "      <th>0</th>\n",
       "      <td>0 0.04474314674735069 0.168295219540596 334.12...</td>\n",
       "      <td>batch_01_vt/0021.jpg</td>\n",
       "    </tr>\n",
       "    <tr>\n",
       "      <th>1</th>\n",
       "      <td>0 0.12292468547821045 284.4479675292969 341.08...</td>\n",
       "      <td>batch_01_vt/0028.jpg</td>\n",
       "    </tr>\n",
       "    <tr>\n",
       "      <th>2</th>\n",
       "      <td>0 0.09606786072254181 235.76296997070312 461.0...</td>\n",
       "      <td>batch_01_vt/0031.jpg</td>\n",
       "    </tr>\n",
       "    <tr>\n",
       "      <th>3</th>\n",
       "      <td>0 0.08053795993328094 295.6004943847656 158.14...</td>\n",
       "      <td>batch_01_vt/0032.jpg</td>\n",
       "    </tr>\n",
       "    <tr>\n",
       "      <th>4</th>\n",
       "      <td>0 0.05190834030508995 111.77779388427734 252.3...</td>\n",
       "      <td>batch_01_vt/0070.jpg</td>\n",
       "    </tr>\n",
       "  </tbody>\n",
       "</table>\n",
       "</div>"
      ],
      "text/plain": [
       "                                    PredictionString              image_id\n",
       "0  0 0.04474314674735069 0.168295219540596 334.12...  batch_01_vt/0021.jpg\n",
       "1  0 0.12292468547821045 284.4479675292969 341.08...  batch_01_vt/0028.jpg\n",
       "2  0 0.09606786072254181 235.76296997070312 461.0...  batch_01_vt/0031.jpg\n",
       "3  0 0.08053795993328094 295.6004943847656 158.14...  batch_01_vt/0032.jpg\n",
       "4  0 0.05190834030508995 111.77779388427734 252.3...  batch_01_vt/0070.jpg"
      ]
     },
     "execution_count": 6,
     "metadata": {},
     "output_type": "execute_result"
    }
   ],
   "source": [
    "image_names = data_dfs[0].iloc[:, 1]\n",
    "\n",
    "prediction_strings = []\n",
    "file_names = []\n",
    "\n",
    "for wbf_result, image_name in zip(wbf_results, image_names):\n",
    "    prediction_string = \"\"\n",
    "    for wbf_result_ in wbf_result:\n",
    "        label = str(wbf_result_[0])\n",
    "        score = str(wbf_result_[1])\n",
    "        box = \" \".join(list(map(lambda x: str(x), wbf_result_[2:])))\n",
    "        prediction_string += label + \" \" + score + \" \" + box + \" \"\n",
    "    \n",
    "    prediction_strings.append(prediction_string)\n",
    "    file_names.append(image_name)\n",
    "    \n",
    "submission = pd.DataFrame()\n",
    "submission[\"PredictionString\"] = prediction_strings\n",
    "submission[\"image_id\"] = file_names\n",
    "submission.to_csv(os.path.join(\"save_dir\", \"Weighted_Boxes_Fusion\", f\"submission_wbf_ensemble.csv\"), index=None)\n",
    "submission.head()"
   ]
  },
  {
   "cell_type": "code",
   "execution_count": null,
   "id": "31068af3-1afa-49ac-8633-3cdfcfa0f995",
   "metadata": {},
   "outputs": [],
   "source": []
  }
 ],
 "metadata": {
  "kernelspec": {
   "display_name": "Python 3",
   "language": "python",
   "name": "python3"
  },
  "language_info": {
   "codemirror_mode": {
    "name": "ipython",
    "version": 3
   },
   "file_extension": ".py",
   "mimetype": "text/x-python",
   "name": "python",
   "nbconvert_exporter": "python",
   "pygments_lexer": "ipython3",
   "version": "3.7.7"
  }
 },
 "nbformat": 4,
 "nbformat_minor": 5
}
