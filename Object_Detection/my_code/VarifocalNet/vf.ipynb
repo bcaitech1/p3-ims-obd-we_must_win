{
 "cells": [
  {
   "cell_type": "code",
   "execution_count": 1,
   "metadata": {},
   "outputs": [
    {
     "name": "stdout",
     "output_type": "stream",
     "text": [
      "Filesystem      Size  Used Avail Use% Mounted on\n",
      "overlay          48G   24G   22G  53% /\n",
      "tmpfs            64M     0   64M   0% /dev\n",
      "tmpfs            45G     0   45G   0% /sys/fs/cgroup\n",
      "shm             1.0G     0  1.0G   0% /dev/shm\n",
      "/dev/xvda1       48G   24G   22G  53% /etc/hosts\n",
      "tmpfs            45G   12K   45G   1% /proc/driver/nvidia\n",
      "udev             45G     0   45G   0% /dev/nvidia0\n",
      "tmpfs            45G     0   45G   0% /proc/acpi\n",
      "tmpfs            45G     0   45G   0% /proc/scsi\n",
      "tmpfs            45G     0   45G   0% /sys/firmware\n"
     ]
    }
   ],
   "source": [
    "!df -h"
   ]
  },
  {
   "cell_type": "markdown",
   "metadata": {},
   "source": [
    "## Library"
   ]
  },
  {
   "cell_type": "code",
   "execution_count": 2,
   "metadata": {},
   "outputs": [
    {
     "name": "stdout",
     "output_type": "stream",
     "text": [
      "1.7.1\n",
      "True\n"
     ]
    }
   ],
   "source": [
    "import torch\n",
    "print(torch.__version__)\n",
    "print(torch.cuda.is_available())"
   ]
  },
  {
   "cell_type": "code",
   "execution_count": 3,
   "metadata": {
    "pycharm": {
     "name": "#%%\n"
    }
   },
   "outputs": [
    {
     "name": "stderr",
     "output_type": "stream",
     "text": [
      "/opt/conda/lib/python3.7/site-packages/mmcv/utils/registry.py:72: UserWarning: The old API of register_module(module, force=False) is deprecated and will be removed, please use the new API register_module(name=None, force=False, module=None) instead.\n",
      "  'The old API of register_module(module, force=False) '\n",
      "/opt/conda/lib/python3.7/site-packages/mmcv/utils/registry.py:72: UserWarning: The old API of register_module(module, force=False) is deprecated and will be removed, please use the new API register_module(name=None, force=False, module=None) instead.\n",
      "  'The old API of register_module(module, force=False) '\n"
     ]
    }
   ],
   "source": [
    "from mmcv import Config\n",
    "from mmdet.datasets import build_dataset\n",
    "from mmdet.models import build_detector\n",
    "from mmdet.apis import train_detector\n",
    "from mmdet.datasets import (build_dataloader, build_dataset,\n",
    "                            replace_ImageToTensor)"
   ]
  },
  {
   "cell_type": "markdown",
   "metadata": {},
   "source": [
    "## Load Config"
   ]
  },
  {
   "cell_type": "code",
   "execution_count": 4,
   "metadata": {
    "pycharm": {
     "name": "#%%\n"
    }
   },
   "outputs": [],
   "source": [
    "classes = (\"UNKNOWN\", \"General trash\", \"Paper\", \"Paper pack\", \"Metal\", \"Glass\", \n",
    "           \"Plastic\", \"Styrofoam\", \"Plastic bag\", \"Battery\", \"Clothing\")\n",
    "\n",
    "model_name = 'vfnet_r2_101_fpn_mdconv_c3-c5_mstrain_2x_coco'\n",
    "folder_name = 'vfnet'\n",
    "\n",
    "# config file 들고오기\n",
    "cfg = Config.fromfile(f'./configs/{folder_name}/{model_name}.py')"
   ]
  },
  {
   "cell_type": "markdown",
   "metadata": {},
   "source": [
    "## Hyper-parameters"
   ]
  },
  {
   "cell_type": "code",
   "execution_count": 5,
   "metadata": {},
   "outputs": [],
   "source": [
    "# batch size\n",
    "cfg.data.samples_per_gpu = 8\n",
    "cfg.data.workers_per_gpu = 4\n",
    "\n",
    "# epochs\n",
    "# cfg.runner.max_epochs = 25 \n",
    "\n",
    "# learning rate\n",
    "# cfg.optimizer.lr = 1e-4\n",
    "\n",
    "# scheduler\n",
    "# cfg.lr_config = dict(\n",
    "#     policy='CosineAnnealing',\n",
    "#     warmup='linear',\n",
    "#     warmup_iters=1000,\n",
    "#     warmup_ratio=1.0 / 10,\n",
    "#     min_lr_ratio=1e-6\n",
    "# )"
   ]
  },
  {
   "cell_type": "markdown",
   "metadata": {},
   "source": [
    "## Config Check"
   ]
  },
  {
   "cell_type": "code",
   "execution_count": 6,
   "metadata": {},
   "outputs": [
    {
     "name": "stdout",
     "output_type": "stream",
     "text": [
      "{'policy': 'step',\n",
      " 'step': [16, 22],\n",
      " 'warmup': 'linear',\n",
      " 'warmup_iters': 500,\n",
      " 'warmup_ratio': 0.1}\n"
     ]
    }
   ],
   "source": [
    "import pprint\n",
    "pprint.pprint(cfg.lr_config)"
   ]
  },
  {
   "cell_type": "code",
   "execution_count": 7,
   "metadata": {
    "tags": []
   },
   "outputs": [
    {
     "name": "stdout",
     "output_type": "stream",
     "text": [
      "{'lr': 0.01,\n",
      " 'momentum': 0.9,\n",
      " 'paramwise_cfg': {'bias_decay_mult': 0.0, 'bias_lr_mult': 2.0},\n",
      " 'type': 'SGD',\n",
      " 'weight_decay': 0.0001}\n"
     ]
    }
   ],
   "source": [
    "pprint.pprint(cfg.optimizer)"
   ]
  },
  {
   "cell_type": "code",
   "execution_count": 8,
   "metadata": {
    "collapsed": true,
    "jupyter": {
     "outputs_hidden": true
    },
    "tags": []
   },
   "outputs": [
    {
     "name": "stdout",
     "output_type": "stream",
     "text": [
      "{'samples_per_gpu': 8,\n",
      " 'test': {'ann_file': 'data/coco/annotations/instances_val2017.json',\n",
      "          'img_prefix': 'data/coco/val2017/',\n",
      "          'pipeline': [{'type': 'LoadImageFromFile'},\n",
      "                       {'flip': False,\n",
      "                        'img_scale': (1333, 800),\n",
      "                        'transforms': [{'keep_ratio': True, 'type': 'Resize'},\n",
      "                                       {'type': 'RandomFlip'},\n",
      "                                       {'mean': [123.675, 116.28, 103.53],\n",
      "                                        'std': [58.395, 57.12, 57.375],\n",
      "                                        'to_rgb': True,\n",
      "                                        'type': 'Normalize'},\n",
      "                                       {'size_divisor': 32, 'type': 'Pad'},\n",
      "                                       {'type': 'DefaultFormatBundle'},\n",
      "                                       {'keys': ['img'], 'type': 'Collect'}],\n",
      "                        'type': 'MultiScaleFlipAug'}],\n",
      "          'type': 'CocoDataset'},\n",
      " 'train': {'ann_file': 'data/coco/annotations/instances_train2017.json',\n",
      "           'img_prefix': 'data/coco/train2017/',\n",
      "           'pipeline': [{'type': 'LoadImageFromFile'},\n",
      "                        {'type': 'InstaBoost'},\n",
      "                        {'type': 'LoadAnnotations', 'with_bbox': True},\n",
      "                        {'img_scale': [(1333, 480), (1333, 960)],\n",
      "                         'keep_ratio': True,\n",
      "                         'multiscale_mode': 'range',\n",
      "                         'type': 'Resize'},\n",
      "                        {'flip_ratio': 0.5, 'type': 'RandomFlip'},\n",
      "                        {'size_divisor': 32, 'type': 'Pad'},\n",
      "                        {'mean': [123.675, 116.28, 103.53],\n",
      "                         'std': [58.395, 57.12, 57.375],\n",
      "                         'to_rgb': True,\n",
      "                         'type': 'Normalize'},\n",
      "                        {'type': 'DefaultFormatBundle'},\n",
      "                        {'keys': ['img', 'gt_bboxes', 'gt_labels'],\n",
      "                         'type': 'Collect'}],\n",
      "           'type': 'CocoDataset'},\n",
      " 'val': {'ann_file': 'data/coco/annotations/instances_val2017.json',\n",
      "         'img_prefix': 'data/coco/val2017/',\n",
      "         'pipeline': [{'type': 'LoadImageFromFile'},\n",
      "                      {'flip': False,\n",
      "                       'img_scale': (1333, 800),\n",
      "                       'transforms': [{'keep_ratio': True, 'type': 'Resize'},\n",
      "                                      {'type': 'RandomFlip'},\n",
      "                                      {'mean': [123.675, 116.28, 103.53],\n",
      "                                       'std': [58.395, 57.12, 57.375],\n",
      "                                       'to_rgb': True,\n",
      "                                       'type': 'Normalize'},\n",
      "                                      {'size_divisor': 32, 'type': 'Pad'},\n",
      "                                      {'type': 'DefaultFormatBundle'},\n",
      "                                      {'keys': ['img'], 'type': 'Collect'}],\n",
      "                       'type': 'MultiScaleFlipAug'}],\n",
      "         'type': 'CocoDataset'},\n",
      " 'workers_per_gpu': 4}\n"
     ]
    }
   ],
   "source": [
    "pprint.pprint(cfg.data)"
   ]
  },
  {
   "cell_type": "code",
   "execution_count": 9,
   "metadata": {
    "collapsed": true,
    "jupyter": {
     "outputs_hidden": true
    },
    "tags": []
   },
   "outputs": [
    {
     "name": "stdout",
     "output_type": "stream",
     "text": [
      "{'backbone': {'base_width': 26,\n",
      "              'dcn': {'deform_groups': 1,\n",
      "                      'fallback_on_stride': False,\n",
      "                      'type': 'DCNv2'},\n",
      "              'depth': 101,\n",
      "              'frozen_stages': 1,\n",
      "              'norm_cfg': {'requires_grad': True, 'type': 'BN'},\n",
      "              'norm_eval': True,\n",
      "              'num_stages': 4,\n",
      "              'out_indices': (0, 1, 2, 3),\n",
      "              'scales': 4,\n",
      "              'stage_with_dcn': (False, True, True, True),\n",
      "              'style': 'pytorch',\n",
      "              'type': 'Res2Net'},\n",
      " 'bbox_head': {'center_sampling': False,\n",
      "               'dcn_on_last_conv': True,\n",
      "               'feat_channels': 256,\n",
      "               'in_channels': 256,\n",
      "               'loss_bbox': {'loss_weight': 1.5, 'type': 'GIoULoss'},\n",
      "               'loss_bbox_refine': {'loss_weight': 2.0, 'type': 'GIoULoss'},\n",
      "               'loss_cls': {'alpha': 0.75,\n",
      "                            'gamma': 2.0,\n",
      "                            'iou_weighted': True,\n",
      "                            'loss_weight': 1.0,\n",
      "                            'type': 'VarifocalLoss',\n",
      "                            'use_sigmoid': True},\n",
      "               'num_classes': 80,\n",
      "               'stacked_convs': 3,\n",
      "               'strides': [8, 16, 32, 64, 128],\n",
      "               'type': 'VFNetHead',\n",
      "               'use_atss': True,\n",
      "               'use_vfl': True},\n",
      " 'neck': {'add_extra_convs': True,\n",
      "          'extra_convs_on_inputs': False,\n",
      "          'in_channels': [256, 512, 1024, 2048],\n",
      "          'num_outs': 5,\n",
      "          'out_channels': 256,\n",
      "          'relu_before_extra_convs': True,\n",
      "          'start_level': 1,\n",
      "          'type': 'FPN'},\n",
      " 'pretrained': 'open-mmlab://res2net101_v1d_26w_4s',\n",
      " 'test_cfg': {'max_per_img': 100,\n",
      "              'min_bbox_size': 0,\n",
      "              'nms': {'iou_threshold': 0.6, 'type': 'soft_nms'},\n",
      "              'nms_pre': 1000,\n",
      "              'score_thr': 0.05},\n",
      " 'train_cfg': {'allowed_border': -1,\n",
      "               'assigner': {'topk': 9, 'type': 'ATSSAssigner'},\n",
      "               'debug': False,\n",
      "               'pos_weight': -1},\n",
      " 'type': 'VFNet'}\n"
     ]
    }
   ],
   "source": [
    "pprint.pprint(cfg.model)"
   ]
  },
  {
   "cell_type": "markdown",
   "metadata": {},
   "source": [
    "## Config Tuning"
   ]
  },
  {
   "cell_type": "code",
   "execution_count": 10,
   "metadata": {
    "pycharm": {
     "name": "#%%\n"
    },
    "tags": []
   },
   "outputs": [],
   "source": [
    "PREFIX = '../input/data/'\n",
    "\n",
    "\n",
    "# dataset 바꾸기\n",
    "cfg.data.train.classes = classes\n",
    "cfg.data.train.img_prefix = PREFIX\n",
    "cfg.data.train.ann_file = PREFIX + 'train.json'\n",
    "# cfg.data.train.pipeline[2]['img_scale'] = (512, 512)\n",
    "\n",
    "cfg.data.val.classes = classes\n",
    "cfg.data.val.img_prefix = PREFIX\n",
    "cfg.data.val.ann_file = PREFIX + 'val.json'\n",
    "# cfg.data.val.pipeline[1]['img_scale'] = (512, 512)\n",
    "\n",
    "cfg.data.test.classes = classes\n",
    "cfg.data.test.img_prefix = PREFIX\n",
    "cfg.data.test.ann_file = PREFIX + 'test.json'\n",
    "# cfg.data.test.pipeline[1]['img_scale'] = (512, 512)\n",
    "\n",
    "\n",
    "cfg.seed=0\n",
    "cfg.gpu_ids = [0]\n",
    "cfg.work_dir = f'./work_dirs/{model_name}'\n",
    "\n",
    "cfg.model.bbox_head.num_classes = 11\n",
    "\n",
    "cfg.optimizer_config.grad_clip = dict(max_norm=35, norm_type=2)"
   ]
  },
  {
   "cell_type": "markdown",
   "metadata": {},
   "source": [
    "## Train"
   ]
  },
  {
   "cell_type": "code",
   "execution_count": 11,
   "metadata": {
    "collapsed": true,
    "jupyter": {
     "outputs_hidden": true
    },
    "pycharm": {
     "name": "#%%\n"
    },
    "tags": []
   },
   "outputs": [
    {
     "name": "stderr",
     "output_type": "stream",
     "text": [
      "2021-05-19 09:20:40,446 - mmdet - INFO - load model from: open-mmlab://res2net101_v1d_26w_4s\n",
      "2021-05-19 09:20:40,446 - mmdet - INFO - Use load_from_openmmlab loader\n",
      "2021-05-19 09:20:40,795 - mmdet - WARNING - The model and loaded state dict do not match exactly\n",
      "\n",
      "unexpected key in source state_dict: fc.weight, fc.bias\n",
      "\n",
      "missing keys in source state_dict: layer2.0.convs.0.conv_offset.weight, layer2.0.convs.0.conv_offset.bias, layer2.0.convs.1.conv_offset.weight, layer2.0.convs.1.conv_offset.bias, layer2.0.convs.2.conv_offset.weight, layer2.0.convs.2.conv_offset.bias, layer2.1.convs.0.conv_offset.weight, layer2.1.convs.0.conv_offset.bias, layer2.1.convs.1.conv_offset.weight, layer2.1.convs.1.conv_offset.bias, layer2.1.convs.2.conv_offset.weight, layer2.1.convs.2.conv_offset.bias, layer2.2.convs.0.conv_offset.weight, layer2.2.convs.0.conv_offset.bias, layer2.2.convs.1.conv_offset.weight, layer2.2.convs.1.conv_offset.bias, layer2.2.convs.2.conv_offset.weight, layer2.2.convs.2.conv_offset.bias, layer2.3.convs.0.conv_offset.weight, layer2.3.convs.0.conv_offset.bias, layer2.3.convs.1.conv_offset.weight, layer2.3.convs.1.conv_offset.bias, layer2.3.convs.2.conv_offset.weight, layer2.3.convs.2.conv_offset.bias, layer3.0.convs.0.conv_offset.weight, layer3.0.convs.0.conv_offset.bias, layer3.0.convs.1.conv_offset.weight, layer3.0.convs.1.conv_offset.bias, layer3.0.convs.2.conv_offset.weight, layer3.0.convs.2.conv_offset.bias, layer3.1.convs.0.conv_offset.weight, layer3.1.convs.0.conv_offset.bias, layer3.1.convs.1.conv_offset.weight, layer3.1.convs.1.conv_offset.bias, layer3.1.convs.2.conv_offset.weight, layer3.1.convs.2.conv_offset.bias, layer3.2.convs.0.conv_offset.weight, layer3.2.convs.0.conv_offset.bias, layer3.2.convs.1.conv_offset.weight, layer3.2.convs.1.conv_offset.bias, layer3.2.convs.2.conv_offset.weight, layer3.2.convs.2.conv_offset.bias, layer3.3.convs.0.conv_offset.weight, layer3.3.convs.0.conv_offset.bias, layer3.3.convs.1.conv_offset.weight, layer3.3.convs.1.conv_offset.bias, layer3.3.convs.2.conv_offset.weight, layer3.3.convs.2.conv_offset.bias, layer3.4.convs.0.conv_offset.weight, layer3.4.convs.0.conv_offset.bias, layer3.4.convs.1.conv_offset.weight, layer3.4.convs.1.conv_offset.bias, layer3.4.convs.2.conv_offset.weight, layer3.4.convs.2.conv_offset.bias, layer3.5.convs.0.conv_offset.weight, layer3.5.convs.0.conv_offset.bias, layer3.5.convs.1.conv_offset.weight, layer3.5.convs.1.conv_offset.bias, layer3.5.convs.2.conv_offset.weight, layer3.5.convs.2.conv_offset.bias, layer3.6.convs.0.conv_offset.weight, layer3.6.convs.0.conv_offset.bias, layer3.6.convs.1.conv_offset.weight, layer3.6.convs.1.conv_offset.bias, layer3.6.convs.2.conv_offset.weight, layer3.6.convs.2.conv_offset.bias, layer3.7.convs.0.conv_offset.weight, layer3.7.convs.0.conv_offset.bias, layer3.7.convs.1.conv_offset.weight, layer3.7.convs.1.conv_offset.bias, layer3.7.convs.2.conv_offset.weight, layer3.7.convs.2.conv_offset.bias, layer3.8.convs.0.conv_offset.weight, layer3.8.convs.0.conv_offset.bias, layer3.8.convs.1.conv_offset.weight, layer3.8.convs.1.conv_offset.bias, layer3.8.convs.2.conv_offset.weight, layer3.8.convs.2.conv_offset.bias, layer3.9.convs.0.conv_offset.weight, layer3.9.convs.0.conv_offset.bias, layer3.9.convs.1.conv_offset.weight, layer3.9.convs.1.conv_offset.bias, layer3.9.convs.2.conv_offset.weight, layer3.9.convs.2.conv_offset.bias, layer3.10.convs.0.conv_offset.weight, layer3.10.convs.0.conv_offset.bias, layer3.10.convs.1.conv_offset.weight, layer3.10.convs.1.conv_offset.bias, layer3.10.convs.2.conv_offset.weight, layer3.10.convs.2.conv_offset.bias, layer3.11.convs.0.conv_offset.weight, layer3.11.convs.0.conv_offset.bias, layer3.11.convs.1.conv_offset.weight, layer3.11.convs.1.conv_offset.bias, layer3.11.convs.2.conv_offset.weight, layer3.11.convs.2.conv_offset.bias, layer3.12.convs.0.conv_offset.weight, layer3.12.convs.0.conv_offset.bias, layer3.12.convs.1.conv_offset.weight, layer3.12.convs.1.conv_offset.bias, layer3.12.convs.2.conv_offset.weight, layer3.12.convs.2.conv_offset.bias, layer3.13.convs.0.conv_offset.weight, layer3.13.convs.0.conv_offset.bias, layer3.13.convs.1.conv_offset.weight, layer3.13.convs.1.conv_offset.bias, layer3.13.convs.2.conv_offset.weight, layer3.13.convs.2.conv_offset.bias, layer3.14.convs.0.conv_offset.weight, layer3.14.convs.0.conv_offset.bias, layer3.14.convs.1.conv_offset.weight, layer3.14.convs.1.conv_offset.bias, layer3.14.convs.2.conv_offset.weight, layer3.14.convs.2.conv_offset.bias, layer3.15.convs.0.conv_offset.weight, layer3.15.convs.0.conv_offset.bias, layer3.15.convs.1.conv_offset.weight, layer3.15.convs.1.conv_offset.bias, layer3.15.convs.2.conv_offset.weight, layer3.15.convs.2.conv_offset.bias, layer3.16.convs.0.conv_offset.weight, layer3.16.convs.0.conv_offset.bias, layer3.16.convs.1.conv_offset.weight, layer3.16.convs.1.conv_offset.bias, layer3.16.convs.2.conv_offset.weight, layer3.16.convs.2.conv_offset.bias, layer3.17.convs.0.conv_offset.weight, layer3.17.convs.0.conv_offset.bias, layer3.17.convs.1.conv_offset.weight, layer3.17.convs.1.conv_offset.bias, layer3.17.convs.2.conv_offset.weight, layer3.17.convs.2.conv_offset.bias, layer3.18.convs.0.conv_offset.weight, layer3.18.convs.0.conv_offset.bias, layer3.18.convs.1.conv_offset.weight, layer3.18.convs.1.conv_offset.bias, layer3.18.convs.2.conv_offset.weight, layer3.18.convs.2.conv_offset.bias, layer3.19.convs.0.conv_offset.weight, layer3.19.convs.0.conv_offset.bias, layer3.19.convs.1.conv_offset.weight, layer3.19.convs.1.conv_offset.bias, layer3.19.convs.2.conv_offset.weight, layer3.19.convs.2.conv_offset.bias, layer3.20.convs.0.conv_offset.weight, layer3.20.convs.0.conv_offset.bias, layer3.20.convs.1.conv_offset.weight, layer3.20.convs.1.conv_offset.bias, layer3.20.convs.2.conv_offset.weight, layer3.20.convs.2.conv_offset.bias, layer3.21.convs.0.conv_offset.weight, layer3.21.convs.0.conv_offset.bias, layer3.21.convs.1.conv_offset.weight, layer3.21.convs.1.conv_offset.bias, layer3.21.convs.2.conv_offset.weight, layer3.21.convs.2.conv_offset.bias, layer3.22.convs.0.conv_offset.weight, layer3.22.convs.0.conv_offset.bias, layer3.22.convs.1.conv_offset.weight, layer3.22.convs.1.conv_offset.bias, layer3.22.convs.2.conv_offset.weight, layer3.22.convs.2.conv_offset.bias, layer4.0.convs.0.conv_offset.weight, layer4.0.convs.0.conv_offset.bias, layer4.0.convs.1.conv_offset.weight, layer4.0.convs.1.conv_offset.bias, layer4.0.convs.2.conv_offset.weight, layer4.0.convs.2.conv_offset.bias, layer4.1.convs.0.conv_offset.weight, layer4.1.convs.0.conv_offset.bias, layer4.1.convs.1.conv_offset.weight, layer4.1.convs.1.conv_offset.bias, layer4.1.convs.2.conv_offset.weight, layer4.1.convs.2.conv_offset.bias, layer4.2.convs.0.conv_offset.weight, layer4.2.convs.0.conv_offset.bias, layer4.2.convs.1.conv_offset.weight, layer4.2.convs.1.conv_offset.bias, layer4.2.convs.2.conv_offset.weight, layer4.2.convs.2.conv_offset.bias\n",
      "\n"
     ]
    }
   ],
   "source": [
    "model = build_detector(cfg.model)"
   ]
  },
  {
   "cell_type": "code",
   "execution_count": 12,
   "metadata": {
    "pycharm": {
     "name": "#%%\n"
    },
    "tags": []
   },
   "outputs": [
    {
     "name": "stdout",
     "output_type": "stream",
     "text": [
      "loading annotations into memory...\n",
      "Done (t=3.17s)\n",
      "creating index...\n",
      "index created!\n"
     ]
    }
   ],
   "source": [
    "datasets = [build_dataset(cfg.data.train)]"
   ]
  },
  {
   "cell_type": "code",
   "execution_count": 13,
   "metadata": {
    "pycharm": {
     "name": "#%%\n"
    },
    "tags": []
   },
   "outputs": [
    {
     "name": "stdout",
     "output_type": "stream",
     "text": [
      "loading annotations into memory...\n"
     ]
    },
    {
     "name": "stderr",
     "output_type": "stream",
     "text": [
      "2021-05-19 09:20:49,916 - mmdet - INFO - load checkpoint from ./pretrained/vfnet_r2_101_dcn_ms_2x_51.1.pth\n",
      "2021-05-19 09:20:49,917 - mmdet - INFO - Use load_from_local loader\n"
     ]
    },
    {
     "name": "stdout",
     "output_type": "stream",
     "text": [
      "Done (t=0.79s)\n",
      "creating index...\n",
      "index created!\n"
     ]
    },
    {
     "name": "stderr",
     "output_type": "stream",
     "text": [
      "2021-05-19 09:20:50,393 - mmdet - WARNING - The model and loaded state dict do not match exactly\n",
      "\n",
      "size mismatch for bbox_head.vfnet_cls.weight: copying a param with shape torch.Size([80, 256, 3, 3]) from checkpoint, the shape in current model is torch.Size([11, 256, 3, 3]).\n",
      "size mismatch for bbox_head.vfnet_cls.bias: copying a param with shape torch.Size([80]) from checkpoint, the shape in current model is torch.Size([11]).\n",
      "2021-05-19 09:20:50,407 - mmdet - INFO - Start running, host: root@f10ce2c11230, work_dir: /opt/ml/VarifocalNet/work_dirs/vfnet_r2_101_fpn_mdconv_c3-c5_mstrain_2x_coco\n",
      "2021-05-19 09:20:50,407 - mmdet - INFO - workflow: [('train', 1)], max: 24 epochs\n",
      "/opt/ml/VarifocalNet/mmdet/core/evaluation/eval_hooks.py:112: UserWarning: runner.meta is None. Creating a empty one.\n",
      "  warnings.warn('runner.meta is None. Creating a empty one.')\n",
      "2021-05-19 09:22:55,144 - mmdet - INFO - Epoch [1][50/328]\tlr: 1.882e-03, eta: 5:25:12, time: 2.495, data_time: 0.100, memory: 22489, loss_cls: 1.8595, loss_bbox: 0.2636, loss_bbox_rf: 0.3424, loss: 2.4655, grad_norm: 6.0527\n",
      "2021-05-19 09:24:52,342 - mmdet - INFO - Epoch [1][100/328]\tlr: 2.782e-03, eta: 5:13:22, time: 2.344, data_time: 0.018, memory: 22489, loss_cls: 1.0999, loss_bbox: 0.2559, loss_bbox_rf: 0.3320, loss: 1.6877, grad_norm: 5.3351\n",
      "2021-05-19 09:26:52,654 - mmdet - INFO - Epoch [1][150/328]\tlr: 3.682e-03, eta: 5:10:47, time: 2.406, data_time: 0.017, memory: 22489, loss_cls: 1.0864, loss_bbox: 0.2504, loss_bbox_rf: 0.3231, loss: 1.6599, grad_norm: 5.5377\n",
      "2021-05-19 09:28:52,943 - mmdet - INFO - Epoch [1][200/328]\tlr: 4.582e-03, eta: 5:08:29, time: 2.406, data_time: 0.017, memory: 22489, loss_cls: 1.0625, loss_bbox: 0.2476, loss_bbox_rf: 0.3206, loss: 1.6307, grad_norm: 5.2026\n",
      "2021-05-19 09:30:51,794 - mmdet - INFO - Epoch [1][250/328]\tlr: 5.482e-03, eta: 5:05:34, time: 2.377, data_time: 0.017, memory: 22489, loss_cls: 1.0728, loss_bbox: 0.2505, loss_bbox_rf: 0.3217, loss: 1.6450, grad_norm: 5.2692\n",
      "2021-05-19 09:32:48,660 - mmdet - INFO - Epoch [1][300/328]\tlr: 6.382e-03, eta: 5:02:08, time: 2.337, data_time: 0.017, memory: 22489, loss_cls: 1.0588, loss_bbox: 0.2411, loss_bbox_rf: 0.3087, loss: 1.6087, grad_norm: 5.4096\n",
      "2021-05-19 09:33:56,334 - mmdet - INFO - Saving checkpoint at 1 epochs\n"
     ]
    },
    {
     "name": "stdout",
     "output_type": "stream",
     "text": [
      "[>>>>>>>>>>>>>>>>>>>>>>>>>>>>>>] 655/655, 7.7 task/s, elapsed: 85s, ETA:     0s"
     ]
    },
    {
     "name": "stderr",
     "output_type": "stream",
     "text": [
      "2021-05-19 09:35:24,482 - mmdet - INFO - Evaluating bbox...\n"
     ]
    },
    {
     "name": "stdout",
     "output_type": "stream",
     "text": [
      "Loading and preparing results...\n",
      "DONE (t=1.16s)\n",
      "creating index...\n",
      "index created!\n",
      "Running per image evaluation...\n",
      "Evaluate annotation type *bbox*\n",
      "DONE (t=7.63s).\n",
      "Accumulating evaluation results...\n"
     ]
    },
    {
     "name": "stderr",
     "output_type": "stream",
     "text": [
      "2021-05-19 09:35:35,177 - mmdet - INFO - Now best checkpoint is epoch_1.pth.Best bbox_mAP_50 is 0.2230\n",
      "2021-05-19 09:35:35,183 - mmdet - INFO - Epoch(val) [1][328]\tbbox_mAP: 0.1680, bbox_mAP_50: 0.2230, bbox_mAP_75: 0.1790, bbox_mAP_s: 0.0690, bbox_mAP_m: 0.1760, bbox_mAP_l: 0.2770, bbox_mAP_copypaste: 0.168 0.223 0.179 0.069 0.176 0.277\n"
     ]
    },
    {
     "name": "stdout",
     "output_type": "stream",
     "text": [
      "DONE (t=1.77s).\n",
      "Average Precision  (AP) @[ IoU=0.50:0.95 | area=   all | maxDets=100 ] = 0.168\n",
      "Average Precision  (AP) @[ IoU=0.50      | area=   all | maxDets=1000 ] = 0.223\n",
      "Average Precision  (AP) @[ IoU=0.75      | area=   all | maxDets=1000 ] = 0.179\n",
      "Average Precision  (AP) @[ IoU=0.50:0.95 | area= small | maxDets=1000 ] = 0.069\n",
      "Average Precision  (AP) @[ IoU=0.50:0.95 | area=medium | maxDets=1000 ] = 0.176\n",
      "Average Precision  (AP) @[ IoU=0.50:0.95 | area= large | maxDets=1000 ] = 0.277\n",
      "Average Recall     (AR) @[ IoU=0.50:0.95 | area=   all | maxDets=100 ] = 0.410\n",
      "Average Recall     (AR) @[ IoU=0.50:0.95 | area=   all | maxDets=300 ] = 0.410\n",
      "Average Recall     (AR) @[ IoU=0.50:0.95 | area=   all | maxDets=1000 ] = 0.410\n",
      "Average Recall     (AR) @[ IoU=0.50:0.95 | area= small | maxDets=1000 ] = 0.158\n",
      "Average Recall     (AR) @[ IoU=0.50:0.95 | area=medium | maxDets=1000 ] = 0.376\n",
      "Average Recall     (AR) @[ IoU=0.50:0.95 | area= large | maxDets=1000 ] = 0.727\n"
     ]
    },
    {
     "name": "stderr",
     "output_type": "stream",
     "text": [
      "2021-05-19 09:37:38,476 - mmdet - INFO - Epoch [2][50/328]\tlr: 7.786e-03, eta: 4:38:03, time: 2.466, data_time: 0.192, memory: 22489, loss_cls: 1.0209, loss_bbox: 0.2512, loss_bbox_rf: 0.3179, loss: 1.5900, grad_norm: 4.5474\n",
      "2021-05-19 09:39:36,154 - mmdet - INFO - Epoch [2][100/328]\tlr: 8.686e-03, eta: 4:38:02, time: 2.354, data_time: 0.018, memory: 22489, loss_cls: 1.0808, loss_bbox: 0.2570, loss_bbox_rf: 0.3268, loss: 1.6646, grad_norm: 5.0057\n",
      "2021-05-19 09:41:35,246 - mmdet - INFO - Epoch [2][150/328]\tlr: 9.586e-03, eta: 4:37:59, time: 2.382, data_time: 0.018, memory: 22489, loss_cls: 1.0360, loss_bbox: 0.2534, loss_bbox_rf: 0.3218, loss: 1.6112, grad_norm: 4.6763\n",
      "2021-05-19 09:43:34,775 - mmdet - INFO - Epoch [2][200/328]\tlr: 1.000e-02, eta: 4:37:40, time: 2.391, data_time: 0.018, memory: 22489, loss_cls: 1.0255, loss_bbox: 0.2665, loss_bbox_rf: 0.3374, loss: 1.6294, grad_norm: 4.3486\n",
      "2021-05-19 09:45:34,415 - mmdet - INFO - Epoch [2][250/328]\tlr: 1.000e-02, eta: 4:37:05, time: 2.393, data_time: 0.018, memory: 22489, loss_cls: 1.0554, loss_bbox: 0.2602, loss_bbox_rf: 0.3264, loss: 1.6420, grad_norm: 4.4086\n",
      "2021-05-19 09:47:33,888 - mmdet - INFO - Epoch [2][300/328]\tlr: 1.000e-02, eta: 4:36:14, time: 2.389, data_time: 0.017, memory: 22489, loss_cls: 1.0058, loss_bbox: 0.2623, loss_bbox_rf: 0.3338, loss: 1.6019, grad_norm: 4.1546\n",
      "2021-05-19 09:48:40,501 - mmdet - INFO - Saving checkpoint at 2 epochs\n"
     ]
    },
    {
     "name": "stdout",
     "output_type": "stream",
     "text": [
      "[>>>>>>>>>>>>>>>>>>>>>>>>>>>>>>] 655/655, 7.5 task/s, elapsed: 87s, ETA:     0s"
     ]
    },
    {
     "name": "stderr",
     "output_type": "stream",
     "text": [
      "2021-05-19 09:50:10,233 - mmdet - INFO - Evaluating bbox...\n"
     ]
    },
    {
     "name": "stdout",
     "output_type": "stream",
     "text": [
      "Loading and preparing results...\n",
      "DONE (t=1.18s)\n",
      "creating index...\n",
      "index created!\n",
      "Running per image evaluation...\n",
      "Evaluate annotation type *bbox*\n",
      "DONE (t=6.12s).\n",
      "Accumulating evaluation results...\n"
     ]
    },
    {
     "name": "stderr",
     "output_type": "stream",
     "text": [
      "2021-05-19 09:50:19,464 - mmdet - INFO - Epoch(val) [2][328]\tbbox_mAP: 0.1640, bbox_mAP_50: 0.2220, bbox_mAP_75: 0.1720, bbox_mAP_s: 0.0690, bbox_mAP_m: 0.1820, bbox_mAP_l: 0.2840, bbox_mAP_copypaste: 0.164 0.222 0.172 0.069 0.182 0.284\n"
     ]
    },
    {
     "name": "stdout",
     "output_type": "stream",
     "text": [
      "DONE (t=1.78s).\n",
      "Average Precision  (AP) @[ IoU=0.50:0.95 | area=   all | maxDets=100 ] = 0.164\n",
      "Average Precision  (AP) @[ IoU=0.50      | area=   all | maxDets=1000 ] = 0.222\n",
      "Average Precision  (AP) @[ IoU=0.75      | area=   all | maxDets=1000 ] = 0.172\n",
      "Average Precision  (AP) @[ IoU=0.50:0.95 | area= small | maxDets=1000 ] = 0.069\n",
      "Average Precision  (AP) @[ IoU=0.50:0.95 | area=medium | maxDets=1000 ] = 0.182\n",
      "Average Precision  (AP) @[ IoU=0.50:0.95 | area= large | maxDets=1000 ] = 0.284\n",
      "Average Recall     (AR) @[ IoU=0.50:0.95 | area=   all | maxDets=100 ] = 0.431\n",
      "Average Recall     (AR) @[ IoU=0.50:0.95 | area=   all | maxDets=300 ] = 0.431\n",
      "Average Recall     (AR) @[ IoU=0.50:0.95 | area=   all | maxDets=1000 ] = 0.431\n",
      "Average Recall     (AR) @[ IoU=0.50:0.95 | area= small | maxDets=1000 ] = 0.179\n",
      "Average Recall     (AR) @[ IoU=0.50:0.95 | area=medium | maxDets=1000 ] = 0.413\n",
      "Average Recall     (AR) @[ IoU=0.50:0.95 | area= large | maxDets=1000 ] = 0.640\n"
     ]
    },
    {
     "name": "stderr",
     "output_type": "stream",
     "text": [
      "2021-05-19 09:52:24,436 - mmdet - INFO - Epoch [3][50/328]\tlr: 1.000e-02, eta: 4:24:13, time: 2.499, data_time: 0.127, memory: 22489, loss_cls: 0.9388, loss_bbox: 0.2491, loss_bbox_rf: 0.3140, loss: 1.5018, grad_norm: 3.9321\n",
      "2021-05-19 09:54:25,095 - mmdet - INFO - Epoch [3][100/328]\tlr: 1.000e-02, eta: 4:23:57, time: 2.413, data_time: 0.018, memory: 22489, loss_cls: 1.0045, loss_bbox: 0.2570, loss_bbox_rf: 0.3239, loss: 1.5854, grad_norm: 4.2622\n",
      "2021-05-19 09:56:24,509 - mmdet - INFO - Epoch [3][150/328]\tlr: 1.000e-02, eta: 4:23:17, time: 2.388, data_time: 0.018, memory: 22489, loss_cls: 0.9776, loss_bbox: 0.2524, loss_bbox_rf: 0.3207, loss: 1.5507, grad_norm: 3.8396\n",
      "2021-05-19 09:58:23,707 - mmdet - INFO - Epoch [3][200/328]\tlr: 1.000e-02, eta: 4:22:26, time: 2.384, data_time: 0.018, memory: 22489, loss_cls: 1.0140, loss_bbox: 0.2426, loss_bbox_rf: 0.3052, loss: 1.5619, grad_norm: 4.4206\n",
      "2021-05-19 10:00:23,279 - mmdet - INFO - Epoch [3][250/328]\tlr: 1.000e-02, eta: 4:21:30, time: 2.391, data_time: 0.018, memory: 22489, loss_cls: 0.9813, loss_bbox: 0.2495, loss_bbox_rf: 0.3152, loss: 1.5460, grad_norm: 3.7349\n",
      "2021-05-19 10:02:21,168 - mmdet - INFO - Epoch [3][300/328]\tlr: 1.000e-02, eta: 4:20:16, time: 2.358, data_time: 0.018, memory: 22489, loss_cls: 0.9637, loss_bbox: 0.2433, loss_bbox_rf: 0.3082, loss: 1.5152, grad_norm: 3.9636\n",
      "2021-05-19 10:03:27,996 - mmdet - INFO - Saving checkpoint at 3 epochs\n"
     ]
    },
    {
     "name": "stdout",
     "output_type": "stream",
     "text": [
      "[>>>>>>>>>>>>>>>>>>>>>>>>>>>>>>] 655/655, 7.8 task/s, elapsed: 84s, ETA:     0s"
     ]
    },
    {
     "name": "stderr",
     "output_type": "stream",
     "text": [
      "2021-05-19 10:04:55,019 - mmdet - INFO - Evaluating bbox...\n"
     ]
    },
    {
     "name": "stdout",
     "output_type": "stream",
     "text": [
      "Loading and preparing results...\n",
      "DONE (t=1.15s)\n",
      "creating index...\n",
      "index created!\n",
      "Running per image evaluation...\n",
      "Evaluate annotation type *bbox*\n",
      "DONE (t=7.55s).\n",
      "Accumulating evaluation results...\n"
     ]
    },
    {
     "name": "stderr",
     "output_type": "stream",
     "text": [
      "2021-05-19 10:05:05,636 - mmdet - INFO - Now best checkpoint is epoch_3.pth.Best bbox_mAP_50 is 0.2700\n",
      "2021-05-19 10:05:05,643 - mmdet - INFO - Epoch(val) [3][328]\tbbox_mAP: 0.2020, bbox_mAP_50: 0.2700, bbox_mAP_75: 0.2140, bbox_mAP_s: 0.0780, bbox_mAP_m: 0.2260, bbox_mAP_l: 0.3310, bbox_mAP_copypaste: 0.202 0.270 0.214 0.078 0.226 0.331\n"
     ]
    },
    {
     "name": "stdout",
     "output_type": "stream",
     "text": [
      "DONE (t=1.77s).\n",
      "Average Precision  (AP) @[ IoU=0.50:0.95 | area=   all | maxDets=100 ] = 0.202\n",
      "Average Precision  (AP) @[ IoU=0.50      | area=   all | maxDets=1000 ] = 0.270\n",
      "Average Precision  (AP) @[ IoU=0.75      | area=   all | maxDets=1000 ] = 0.214\n",
      "Average Precision  (AP) @[ IoU=0.50:0.95 | area= small | maxDets=1000 ] = 0.078\n",
      "Average Precision  (AP) @[ IoU=0.50:0.95 | area=medium | maxDets=1000 ] = 0.226\n",
      "Average Precision  (AP) @[ IoU=0.50:0.95 | area= large | maxDets=1000 ] = 0.331\n",
      "Average Recall     (AR) @[ IoU=0.50:0.95 | area=   all | maxDets=100 ] = 0.477\n",
      "Average Recall     (AR) @[ IoU=0.50:0.95 | area=   all | maxDets=300 ] = 0.477\n",
      "Average Recall     (AR) @[ IoU=0.50:0.95 | area=   all | maxDets=1000 ] = 0.477\n",
      "Average Recall     (AR) @[ IoU=0.50:0.95 | area= small | maxDets=1000 ] = 0.185\n",
      "Average Recall     (AR) @[ IoU=0.50:0.95 | area=medium | maxDets=1000 ] = 0.470\n",
      "Average Recall     (AR) @[ IoU=0.50:0.95 | area= large | maxDets=1000 ] = 0.775\n"
     ]
    },
    {
     "name": "stderr",
     "output_type": "stream",
     "text": [
      "2021-05-19 10:07:08,419 - mmdet - INFO - Epoch [4][50/328]\tlr: 1.000e-02, eta: 4:11:27, time: 2.455, data_time: 0.145, memory: 22489, loss_cls: 0.9326, loss_bbox: 0.2418, loss_bbox_rf: 0.3059, loss: 1.4803, grad_norm: 3.5057\n",
      "2021-05-19 10:09:07,107 - mmdet - INFO - Epoch [4][100/328]\tlr: 1.000e-02, eta: 4:10:29, time: 2.374, data_time: 0.017, memory: 22489, loss_cls: 0.9449, loss_bbox: 0.2382, loss_bbox_rf: 0.3041, loss: 1.4873, grad_norm: 3.8011\n",
      "2021-05-19 10:11:07,558 - mmdet - INFO - Epoch [4][150/328]\tlr: 1.000e-02, eta: 4:09:36, time: 2.409, data_time: 0.018, memory: 22489, loss_cls: 0.9529, loss_bbox: 0.2408, loss_bbox_rf: 0.3033, loss: 1.4970, grad_norm: 4.2992\n",
      "2021-05-19 10:13:05,139 - mmdet - INFO - Epoch [4][200/328]\tlr: 1.000e-02, eta: 4:08:21, time: 2.352, data_time: 0.018, memory: 22489, loss_cls: 0.9505, loss_bbox: 0.2395, loss_bbox_rf: 0.3056, loss: 1.4956, grad_norm: 3.9696\n",
      "2021-05-19 10:15:01,757 - mmdet - INFO - Epoch [4][250/328]\tlr: 1.000e-02, eta: 4:06:58, time: 2.332, data_time: 0.017, memory: 22489, loss_cls: 0.9279, loss_bbox: 0.2409, loss_bbox_rf: 0.3032, loss: 1.4720, grad_norm: 3.8318\n",
      "2021-05-19 10:17:01,015 - mmdet - INFO - Epoch [4][300/328]\tlr: 1.000e-02, eta: 4:05:45, time: 2.385, data_time: 0.018, memory: 22489, loss_cls: 0.9407, loss_bbox: 0.2405, loss_bbox_rf: 0.3053, loss: 1.4865, grad_norm: 3.9718\n",
      "2021-05-19 10:18:09,002 - mmdet - INFO - Saving checkpoint at 4 epochs\n"
     ]
    },
    {
     "name": "stdout",
     "output_type": "stream",
     "text": [
      "[>>>>>>>>>>>>>>>>>>>>>>>>>>>>>>] 655/655, 7.3 task/s, elapsed: 90s, ETA:     0s"
     ]
    },
    {
     "name": "stderr",
     "output_type": "stream",
     "text": [
      "2021-05-19 10:19:41,943 - mmdet - INFO - Evaluating bbox...\n"
     ]
    },
    {
     "name": "stdout",
     "output_type": "stream",
     "text": [
      "Loading and preparing results...\n",
      "DONE (t=1.19s)\n",
      "creating index...\n",
      "index created!\n",
      "Running per image evaluation...\n",
      "Evaluate annotation type *bbox*\n",
      "DONE (t=7.02s).\n",
      "Accumulating evaluation results...\n"
     ]
    },
    {
     "name": "stderr",
     "output_type": "stream",
     "text": [
      "2021-05-19 10:19:52,112 - mmdet - INFO - Now best checkpoint is epoch_4.pth.Best bbox_mAP_50 is 0.3250\n",
      "2021-05-19 10:19:52,118 - mmdet - INFO - Epoch(val) [4][328]\tbbox_mAP: 0.2450, bbox_mAP_50: 0.3250, bbox_mAP_75: 0.2590, bbox_mAP_s: 0.0880, bbox_mAP_m: 0.2600, bbox_mAP_l: 0.4240, bbox_mAP_copypaste: 0.245 0.325 0.259 0.088 0.260 0.424\n"
     ]
    },
    {
     "name": "stdout",
     "output_type": "stream",
     "text": [
      "DONE (t=1.81s).\n",
      "Average Precision  (AP) @[ IoU=0.50:0.95 | area=   all | maxDets=100 ] = 0.245\n",
      "Average Precision  (AP) @[ IoU=0.50      | area=   all | maxDets=1000 ] = 0.325\n",
      "Average Precision  (AP) @[ IoU=0.75      | area=   all | maxDets=1000 ] = 0.259\n",
      "Average Precision  (AP) @[ IoU=0.50:0.95 | area= small | maxDets=1000 ] = 0.088\n",
      "Average Precision  (AP) @[ IoU=0.50:0.95 | area=medium | maxDets=1000 ] = 0.260\n",
      "Average Precision  (AP) @[ IoU=0.50:0.95 | area= large | maxDets=1000 ] = 0.424\n",
      "Average Recall     (AR) @[ IoU=0.50:0.95 | area=   all | maxDets=100 ] = 0.485\n",
      "Average Recall     (AR) @[ IoU=0.50:0.95 | area=   all | maxDets=300 ] = 0.485\n",
      "Average Recall     (AR) @[ IoU=0.50:0.95 | area=   all | maxDets=1000 ] = 0.485\n",
      "Average Recall     (AR) @[ IoU=0.50:0.95 | area= small | maxDets=1000 ] = 0.196\n",
      "Average Recall     (AR) @[ IoU=0.50:0.95 | area=medium | maxDets=1000 ] = 0.479\n",
      "Average Recall     (AR) @[ IoU=0.50:0.95 | area= large | maxDets=1000 ] = 0.765\n"
     ]
    },
    {
     "name": "stderr",
     "output_type": "stream",
     "text": [
      "2021-05-19 10:21:55,710 - mmdet - INFO - Epoch [5][50/328]\tlr: 1.000e-02, eta: 3:58:47, time: 2.471, data_time: 0.114, memory: 22489, loss_cls: 0.9344, loss_bbox: 0.2355, loss_bbox_rf: 0.2994, loss: 1.4693, grad_norm: 3.9364\n",
      "2021-05-19 10:23:52,189 - mmdet - INFO - Epoch [5][100/328]\tlr: 1.000e-02, eta: 3:57:26, time: 2.330, data_time: 0.017, memory: 22489, loss_cls: 0.9097, loss_bbox: 0.2418, loss_bbox_rf: 0.3038, loss: 1.4553, grad_norm: 3.9232\n",
      "2021-05-19 10:25:53,739 - mmdet - INFO - Epoch [5][150/328]\tlr: 1.000e-02, eta: 3:56:25, time: 2.431, data_time: 0.017, memory: 22489, loss_cls: 0.9146, loss_bbox: 0.2293, loss_bbox_rf: 0.2904, loss: 1.4343, grad_norm: 4.0189\n",
      "2021-05-19 10:27:52,936 - mmdet - INFO - Epoch [5][200/328]\tlr: 1.000e-02, eta: 3:55:11, time: 2.384, data_time: 0.018, memory: 22489, loss_cls: 0.9223, loss_bbox: 0.2466, loss_bbox_rf: 0.3136, loss: 1.4825, grad_norm: 4.1159\n",
      "2021-05-19 10:29:53,282 - mmdet - INFO - Epoch [5][250/328]\tlr: 1.000e-02, eta: 3:53:58, time: 2.407, data_time: 0.018, memory: 22489, loss_cls: 0.9125, loss_bbox: 0.2353, loss_bbox_rf: 0.2976, loss: 1.4453, grad_norm: 3.7149\n",
      "2021-05-19 10:31:50,748 - mmdet - INFO - Epoch [5][300/328]\tlr: 1.000e-02, eta: 3:52:31, time: 2.349, data_time: 0.017, memory: 22489, loss_cls: 0.9060, loss_bbox: 0.2419, loss_bbox_rf: 0.3053, loss: 1.4532, grad_norm: 3.7897\n",
      "2021-05-19 10:32:57,495 - mmdet - INFO - Saving checkpoint at 5 epochs\n"
     ]
    },
    {
     "name": "stdout",
     "output_type": "stream",
     "text": [
      "[>>>>>>>>>>>>>>>>>>>>>>>>>>>>>>] 655/655, 8.1 task/s, elapsed: 80s, ETA:     0s"
     ]
    },
    {
     "name": "stderr",
     "output_type": "stream",
     "text": [
      "2021-05-19 10:34:20,712 - mmdet - INFO - Evaluating bbox...\n"
     ]
    },
    {
     "name": "stdout",
     "output_type": "stream",
     "text": [
      "Loading and preparing results...\n",
      "DONE (t=1.14s)\n",
      "creating index...\n",
      "index created!\n",
      "Running per image evaluation...\n",
      "Evaluate annotation type *bbox*\n",
      "DONE (t=6.93s).\n",
      "Accumulating evaluation results...\n"
     ]
    },
    {
     "name": "stderr",
     "output_type": "stream",
     "text": [
      "2021-05-19 10:34:30,607 - mmdet - INFO - Now best checkpoint is epoch_5.pth.Best bbox_mAP_50 is 0.3580\n",
      "2021-05-19 10:34:30,614 - mmdet - INFO - Epoch(val) [5][328]\tbbox_mAP: 0.2710, bbox_mAP_50: 0.3580, bbox_mAP_75: 0.2820, bbox_mAP_s: 0.0840, bbox_mAP_m: 0.2940, bbox_mAP_l: 0.4160, bbox_mAP_copypaste: 0.271 0.358 0.282 0.084 0.294 0.416\n"
     ]
    },
    {
     "name": "stdout",
     "output_type": "stream",
     "text": [
      "DONE (t=1.69s).\n",
      "Average Precision  (AP) @[ IoU=0.50:0.95 | area=   all | maxDets=100 ] = 0.271\n",
      "Average Precision  (AP) @[ IoU=0.50      | area=   all | maxDets=1000 ] = 0.358\n",
      "Average Precision  (AP) @[ IoU=0.75      | area=   all | maxDets=1000 ] = 0.282\n",
      "Average Precision  (AP) @[ IoU=0.50:0.95 | area= small | maxDets=1000 ] = 0.084\n",
      "Average Precision  (AP) @[ IoU=0.50:0.95 | area=medium | maxDets=1000 ] = 0.294\n",
      "Average Precision  (AP) @[ IoU=0.50:0.95 | area= large | maxDets=1000 ] = 0.416\n",
      "Average Recall     (AR) @[ IoU=0.50:0.95 | area=   all | maxDets=100 ] = 0.511\n",
      "Average Recall     (AR) @[ IoU=0.50:0.95 | area=   all | maxDets=300 ] = 0.511\n",
      "Average Recall     (AR) @[ IoU=0.50:0.95 | area=   all | maxDets=1000 ] = 0.511\n",
      "Average Recall     (AR) @[ IoU=0.50:0.95 | area= small | maxDets=1000 ] = 0.214\n",
      "Average Recall     (AR) @[ IoU=0.50:0.95 | area=medium | maxDets=1000 ] = 0.513\n",
      "Average Recall     (AR) @[ IoU=0.50:0.95 | area= large | maxDets=1000 ] = 0.768\n"
     ]
    },
    {
     "name": "stderr",
     "output_type": "stream",
     "text": [
      "2021-05-19 10:36:35,506 - mmdet - INFO - Epoch [6][50/328]\tlr: 1.000e-02, eta: 3:46:38, time: 2.497, data_time: 0.120, memory: 22489, loss_cls: 0.8895, loss_bbox: 0.2290, loss_bbox_rf: 0.2900, loss: 1.4085, grad_norm: 3.7890\n",
      "2021-05-19 10:38:33,595 - mmdet - INFO - Epoch [6][100/328]\tlr: 1.000e-02, eta: 3:45:16, time: 2.362, data_time: 0.018, memory: 22489, loss_cls: 0.9467, loss_bbox: 0.2303, loss_bbox_rf: 0.2910, loss: 1.4681, grad_norm: 4.3775\n",
      "2021-05-19 10:40:34,115 - mmdet - INFO - Epoch [6][150/328]\tlr: 1.000e-02, eta: 3:44:01, time: 2.410, data_time: 0.018, memory: 22489, loss_cls: 0.9038, loss_bbox: 0.2306, loss_bbox_rf: 0.2916, loss: 1.4260, grad_norm: 3.7550\n",
      "2021-05-19 10:42:34,779 - mmdet - INFO - Epoch [6][200/328]\tlr: 1.000e-02, eta: 3:42:44, time: 2.413, data_time: 0.018, memory: 22489, loss_cls: 0.8910, loss_bbox: 0.2367, loss_bbox_rf: 0.2992, loss: 1.4270, grad_norm: 3.8053\n",
      "2021-05-19 10:44:35,428 - mmdet - INFO - Epoch [6][250/328]\tlr: 1.000e-02, eta: 3:41:24, time: 2.413, data_time: 0.017, memory: 22489, loss_cls: 0.9050, loss_bbox: 0.2235, loss_bbox_rf: 0.2802, loss: 1.4087, grad_norm: 3.9888\n",
      "2021-05-19 10:46:32,642 - mmdet - INFO - Epoch [6][300/328]\tlr: 1.000e-02, eta: 3:39:52, time: 2.344, data_time: 0.018, memory: 22489, loss_cls: 0.8836, loss_bbox: 0.2436, loss_bbox_rf: 0.3068, loss: 1.4339, grad_norm: 3.5518\n",
      "2021-05-19 10:47:40,106 - mmdet - INFO - Saving checkpoint at 6 epochs\n"
     ]
    },
    {
     "name": "stdout",
     "output_type": "stream",
     "text": [
      "[>>>>>>>>>>>>>>>>>>>>>>>>>>>>>>] 655/655, 8.0 task/s, elapsed: 82s, ETA:     0s"
     ]
    },
    {
     "name": "stderr",
     "output_type": "stream",
     "text": [
      "2021-05-19 10:49:05,160 - mmdet - INFO - Evaluating bbox...\n"
     ]
    },
    {
     "name": "stdout",
     "output_type": "stream",
     "text": [
      "Loading and preparing results...\n",
      "DONE (t=1.18s)\n",
      "creating index...\n",
      "index created!\n",
      "Running per image evaluation...\n",
      "Evaluate annotation type *bbox*\n",
      "DONE (t=6.62s).\n",
      "Accumulating evaluation results...\n"
     ]
    },
    {
     "name": "stderr",
     "output_type": "stream",
     "text": [
      "2021-05-19 10:49:14,813 - mmdet - INFO - Now best checkpoint is epoch_6.pth.Best bbox_mAP_50 is 0.3660\n",
      "2021-05-19 10:49:14,819 - mmdet - INFO - Epoch(val) [6][328]\tbbox_mAP: 0.2690, bbox_mAP_50: 0.3660, bbox_mAP_75: 0.2760, bbox_mAP_s: 0.0830, bbox_mAP_m: 0.2770, bbox_mAP_l: 0.3930, bbox_mAP_copypaste: 0.269 0.366 0.276 0.083 0.277 0.393\n"
     ]
    },
    {
     "name": "stdout",
     "output_type": "stream",
     "text": [
      "DONE (t=1.71s).\n",
      "Average Precision  (AP) @[ IoU=0.50:0.95 | area=   all | maxDets=100 ] = 0.269\n",
      "Average Precision  (AP) @[ IoU=0.50      | area=   all | maxDets=1000 ] = 0.366\n",
      "Average Precision  (AP) @[ IoU=0.75      | area=   all | maxDets=1000 ] = 0.276\n",
      "Average Precision  (AP) @[ IoU=0.50:0.95 | area= small | maxDets=1000 ] = 0.083\n",
      "Average Precision  (AP) @[ IoU=0.50:0.95 | area=medium | maxDets=1000 ] = 0.277\n",
      "Average Precision  (AP) @[ IoU=0.50:0.95 | area= large | maxDets=1000 ] = 0.393\n",
      "Average Recall     (AR) @[ IoU=0.50:0.95 | area=   all | maxDets=100 ] = 0.512\n",
      "Average Recall     (AR) @[ IoU=0.50:0.95 | area=   all | maxDets=300 ] = 0.512\n",
      "Average Recall     (AR) @[ IoU=0.50:0.95 | area=   all | maxDets=1000 ] = 0.512\n",
      "Average Recall     (AR) @[ IoU=0.50:0.95 | area= small | maxDets=1000 ] = 0.215\n",
      "Average Recall     (AR) @[ IoU=0.50:0.95 | area=medium | maxDets=1000 ] = 0.500\n",
      "Average Recall     (AR) @[ IoU=0.50:0.95 | area= large | maxDets=1000 ] = 0.793\n"
     ]
    },
    {
     "name": "stderr",
     "output_type": "stream",
     "text": [
      "2021-05-19 10:51:20,226 - mmdet - INFO - Epoch [7][50/328]\tlr: 1.000e-02, eta: 3:34:39, time: 2.508, data_time: 0.124, memory: 22489, loss_cls: 0.8815, loss_bbox: 0.2229, loss_bbox_rf: 0.2830, loss: 1.3874, grad_norm: 4.0174\n",
      "2021-05-19 10:53:19,177 - mmdet - INFO - Epoch [7][100/328]\tlr: 1.000e-02, eta: 3:33:14, time: 2.379, data_time: 0.018, memory: 22489, loss_cls: 0.9125, loss_bbox: 0.2298, loss_bbox_rf: 0.2911, loss: 1.4335, grad_norm: 3.8585\n",
      "2021-05-19 10:55:18,396 - mmdet - INFO - Epoch [7][150/328]\tlr: 1.000e-02, eta: 3:31:49, time: 2.384, data_time: 0.018, memory: 22489, loss_cls: 0.8858, loss_bbox: 0.2289, loss_bbox_rf: 0.2862, loss: 1.4008, grad_norm: 3.9786\n",
      "2021-05-19 10:57:16,760 - mmdet - INFO - Epoch [7][200/328]\tlr: 1.000e-02, eta: 3:30:19, time: 2.367, data_time: 0.018, memory: 22489, loss_cls: 0.8779, loss_bbox: 0.2271, loss_bbox_rf: 0.2880, loss: 1.3929, grad_norm: 3.6494\n",
      "2021-05-19 10:59:16,969 - mmdet - INFO - Epoch [7][250/328]\tlr: 1.000e-02, eta: 3:28:53, time: 2.404, data_time: 0.018, memory: 22489, loss_cls: 0.8696, loss_bbox: 0.2325, loss_bbox_rf: 0.2900, loss: 1.3921, grad_norm: 3.7931\n",
      "2021-05-19 11:01:16,503 - mmdet - INFO - Epoch [7][300/328]\tlr: 1.000e-02, eta: 3:27:24, time: 2.391, data_time: 0.017, memory: 22489, loss_cls: 0.8814, loss_bbox: 0.2238, loss_bbox_rf: 0.2831, loss: 1.3883, grad_norm: 3.9686\n",
      "2021-05-19 11:02:24,171 - mmdet - INFO - Saving checkpoint at 7 epochs\n"
     ]
    },
    {
     "name": "stdout",
     "output_type": "stream",
     "text": [
      "[>>>>>>>>>>>>>>>>>>>>>>>>>>>>>>] 655/655, 7.0 task/s, elapsed: 94s, ETA:     0s"
     ]
    },
    {
     "name": "stderr",
     "output_type": "stream",
     "text": [
      "2021-05-19 11:04:00,793 - mmdet - INFO - Evaluating bbox...\n"
     ]
    },
    {
     "name": "stdout",
     "output_type": "stream",
     "text": [
      "Loading and preparing results...\n",
      "DONE (t=1.18s)\n",
      "creating index...\n",
      "index created!\n",
      "Running per image evaluation...\n",
      "Evaluate annotation type *bbox*\n",
      "DONE (t=7.59s).\n",
      "Accumulating evaluation results...\n"
     ]
    },
    {
     "name": "stderr",
     "output_type": "stream",
     "text": [
      "2021-05-19 11:04:11,495 - mmdet - INFO - Epoch(val) [7][328]\tbbox_mAP: 0.2650, bbox_mAP_50: 0.3520, bbox_mAP_75: 0.2770, bbox_mAP_s: 0.0730, bbox_mAP_m: 0.2570, bbox_mAP_l: 0.4190, bbox_mAP_copypaste: 0.265 0.352 0.277 0.073 0.257 0.419\n"
     ]
    },
    {
     "name": "stdout",
     "output_type": "stream",
     "text": [
      "DONE (t=1.79s).\n",
      "Average Precision  (AP) @[ IoU=0.50:0.95 | area=   all | maxDets=100 ] = 0.265\n",
      "Average Precision  (AP) @[ IoU=0.50      | area=   all | maxDets=1000 ] = 0.352\n",
      "Average Precision  (AP) @[ IoU=0.75      | area=   all | maxDets=1000 ] = 0.277\n",
      "Average Precision  (AP) @[ IoU=0.50:0.95 | area= small | maxDets=1000 ] = 0.073\n",
      "Average Precision  (AP) @[ IoU=0.50:0.95 | area=medium | maxDets=1000 ] = 0.257\n",
      "Average Precision  (AP) @[ IoU=0.50:0.95 | area= large | maxDets=1000 ] = 0.419\n",
      "Average Recall     (AR) @[ IoU=0.50:0.95 | area=   all | maxDets=100 ] = 0.468\n",
      "Average Recall     (AR) @[ IoU=0.50:0.95 | area=   all | maxDets=300 ] = 0.468\n",
      "Average Recall     (AR) @[ IoU=0.50:0.95 | area=   all | maxDets=1000 ] = 0.468\n",
      "Average Recall     (AR) @[ IoU=0.50:0.95 | area= small | maxDets=1000 ] = 0.173\n",
      "Average Recall     (AR) @[ IoU=0.50:0.95 | area=medium | maxDets=1000 ] = 0.440\n",
      "Average Recall     (AR) @[ IoU=0.50:0.95 | area= large | maxDets=1000 ] = 0.733\n"
     ]
    },
    {
     "name": "stderr",
     "output_type": "stream",
     "text": [
      "2021-05-19 11:06:19,505 - mmdet - INFO - Epoch [8][50/328]\tlr: 1.000e-02, eta: 3:22:44, time: 2.560, data_time: 0.160, memory: 22489, loss_cls: 0.8731, loss_bbox: 0.2331, loss_bbox_rf: 0.2954, loss: 1.4017, grad_norm: 3.8297\n",
      "2021-05-19 11:08:19,229 - mmdet - INFO - Epoch [8][100/328]\tlr: 1.000e-02, eta: 3:21:16, time: 2.394, data_time: 0.018, memory: 22489, loss_cls: 0.8221, loss_bbox: 0.2131, loss_bbox_rf: 0.2696, loss: 1.3049, grad_norm: 3.6731\n",
      "2021-05-19 11:10:18,967 - mmdet - INFO - Epoch [8][150/328]\tlr: 1.000e-02, eta: 3:19:47, time: 2.395, data_time: 0.018, memory: 22489, loss_cls: 0.8560, loss_bbox: 0.2270, loss_bbox_rf: 0.2852, loss: 1.3682, grad_norm: 4.1916\n",
      "2021-05-19 11:12:17,785 - mmdet - INFO - Epoch [8][200/328]\tlr: 1.000e-02, eta: 3:18:14, time: 2.376, data_time: 0.018, memory: 22489, loss_cls: 0.8707, loss_bbox: 0.2325, loss_bbox_rf: 0.2945, loss: 1.3977, grad_norm: 3.8811\n",
      "2021-05-19 11:14:15,899 - mmdet - INFO - Epoch [8][250/328]\tlr: 1.000e-02, eta: 3:16:39, time: 2.362, data_time: 0.018, memory: 22489, loss_cls: 0.8514, loss_bbox: 0.2206, loss_bbox_rf: 0.2792, loss: 1.3512, grad_norm: 3.9366\n",
      "2021-05-19 11:16:16,660 - mmdet - INFO - Epoch [8][300/328]\tlr: 1.000e-02, eta: 3:15:09, time: 2.415, data_time: 0.018, memory: 22489, loss_cls: 0.8775, loss_bbox: 0.2405, loss_bbox_rf: 0.3047, loss: 1.4227, grad_norm: 3.7356\n",
      "2021-05-19 11:17:22,962 - mmdet - INFO - Saving checkpoint at 8 epochs\n"
     ]
    },
    {
     "name": "stdout",
     "output_type": "stream",
     "text": [
      "[>>>>>>>>>>>>>>>>>>>>>>>>>>>>>>] 655/655, 7.5 task/s, elapsed: 87s, ETA:     0s"
     ]
    },
    {
     "name": "stderr",
     "output_type": "stream",
     "text": [
      "2021-05-19 11:18:53,140 - mmdet - INFO - Evaluating bbox...\n"
     ]
    },
    {
     "name": "stdout",
     "output_type": "stream",
     "text": [
      "Loading and preparing results...\n",
      "DONE (t=1.62s)\n",
      "creating index...\n",
      "index created!\n",
      "Running per image evaluation...\n",
      "Evaluate annotation type *bbox*\n",
      "DONE (t=6.74s).\n",
      "Accumulating evaluation results...\n"
     ]
    },
    {
     "name": "stderr",
     "output_type": "stream",
     "text": [
      "2021-05-19 11:19:03,425 - mmdet - INFO - Now best checkpoint is epoch_8.pth.Best bbox_mAP_50 is 0.3820\n",
      "2021-05-19 11:19:03,431 - mmdet - INFO - Epoch(val) [8][328]\tbbox_mAP: 0.2890, bbox_mAP_50: 0.3820, bbox_mAP_75: 0.3040, bbox_mAP_s: 0.0780, bbox_mAP_m: 0.2870, bbox_mAP_l: 0.4690, bbox_mAP_copypaste: 0.289 0.382 0.304 0.078 0.287 0.469\n"
     ]
    },
    {
     "name": "stdout",
     "output_type": "stream",
     "text": [
      "DONE (t=1.77s).\n",
      "Average Precision  (AP) @[ IoU=0.50:0.95 | area=   all | maxDets=100 ] = 0.289\n",
      "Average Precision  (AP) @[ IoU=0.50      | area=   all | maxDets=1000 ] = 0.382\n",
      "Average Precision  (AP) @[ IoU=0.75      | area=   all | maxDets=1000 ] = 0.304\n",
      "Average Precision  (AP) @[ IoU=0.50:0.95 | area= small | maxDets=1000 ] = 0.078\n",
      "Average Precision  (AP) @[ IoU=0.50:0.95 | area=medium | maxDets=1000 ] = 0.287\n",
      "Average Precision  (AP) @[ IoU=0.50:0.95 | area= large | maxDets=1000 ] = 0.469\n",
      "Average Recall     (AR) @[ IoU=0.50:0.95 | area=   all | maxDets=100 ] = 0.519\n",
      "Average Recall     (AR) @[ IoU=0.50:0.95 | area=   all | maxDets=300 ] = 0.519\n",
      "Average Recall     (AR) @[ IoU=0.50:0.95 | area=   all | maxDets=1000 ] = 0.519\n",
      "Average Recall     (AR) @[ IoU=0.50:0.95 | area= small | maxDets=1000 ] = 0.225\n",
      "Average Recall     (AR) @[ IoU=0.50:0.95 | area=medium | maxDets=1000 ] = 0.519\n",
      "Average Recall     (AR) @[ IoU=0.50:0.95 | area= large | maxDets=1000 ] = 0.771\n"
     ]
    },
    {
     "name": "stderr",
     "output_type": "stream",
     "text": [
      "2021-05-19 11:21:08,543 - mmdet - INFO - Epoch [9][50/328]\tlr: 1.000e-02, eta: 3:10:42, time: 2.502, data_time: 0.106, memory: 22489, loss_cls: 0.8380, loss_bbox: 0.2180, loss_bbox_rf: 0.2744, loss: 1.3304, grad_norm: 3.7042\n",
      "2021-05-19 11:23:06,236 - mmdet - INFO - Epoch [9][100/328]\tlr: 1.000e-02, eta: 3:09:07, time: 2.354, data_time: 0.018, memory: 22489, loss_cls: 0.8920, loss_bbox: 0.2223, loss_bbox_rf: 0.2802, loss: 1.3945, grad_norm: 4.1534\n",
      "2021-05-19 11:25:05,663 - mmdet - INFO - Epoch [9][150/328]\tlr: 1.000e-02, eta: 3:07:33, time: 2.389, data_time: 0.018, memory: 22489, loss_cls: 0.8296, loss_bbox: 0.2247, loss_bbox_rf: 0.2831, loss: 1.3374, grad_norm: 3.5770\n",
      "2021-05-19 11:27:04,995 - mmdet - INFO - Epoch [9][200/328]\tlr: 1.000e-02, eta: 3:05:59, time: 2.387, data_time: 0.018, memory: 22489, loss_cls: 0.8634, loss_bbox: 0.2324, loss_bbox_rf: 0.2867, loss: 1.3824, grad_norm: 3.9278\n",
      "2021-05-19 11:29:03,023 - mmdet - INFO - Epoch [9][250/328]\tlr: 1.000e-02, eta: 3:04:21, time: 2.361, data_time: 0.017, memory: 22489, loss_cls: 0.8916, loss_bbox: 0.2222, loss_bbox_rf: 0.2804, loss: 1.3943, grad_norm: 4.5599\n",
      "2021-05-19 11:31:02,666 - mmdet - INFO - Epoch [9][300/328]\tlr: 1.000e-02, eta: 3:02:46, time: 2.393, data_time: 0.017, memory: 22489, loss_cls: 0.8736, loss_bbox: 0.2280, loss_bbox_rf: 0.2853, loss: 1.3868, grad_norm: 3.8617\n",
      "2021-05-19 11:32:11,907 - mmdet - INFO - Saving checkpoint at 9 epochs\n"
     ]
    },
    {
     "name": "stdout",
     "output_type": "stream",
     "text": [
      "[>>>>>>>>>>>>>>>>>>>>>>>>>>>>>>] 655/655, 8.0 task/s, elapsed: 82s, ETA:     0s"
     ]
    },
    {
     "name": "stderr",
     "output_type": "stream",
     "text": [
      "2021-05-19 11:33:36,413 - mmdet - INFO - Evaluating bbox...\n"
     ]
    },
    {
     "name": "stdout",
     "output_type": "stream",
     "text": [
      "Loading and preparing results...\n",
      "DONE (t=1.12s)\n",
      "creating index...\n",
      "index created!\n",
      "Running per image evaluation...\n",
      "Evaluate annotation type *bbox*\n",
      "DONE (t=7.33s).\n",
      "Accumulating evaluation results...\n"
     ]
    },
    {
     "name": "stderr",
     "output_type": "stream",
     "text": [
      "2021-05-19 11:33:46,695 - mmdet - INFO - Now best checkpoint is epoch_9.pth.Best bbox_mAP_50 is 0.3830\n",
      "2021-05-19 11:33:46,700 - mmdet - INFO - Epoch(val) [9][328]\tbbox_mAP: 0.2920, bbox_mAP_50: 0.3830, bbox_mAP_75: 0.3050, bbox_mAP_s: 0.0890, bbox_mAP_m: 0.2740, bbox_mAP_l: 0.4420, bbox_mAP_copypaste: 0.292 0.383 0.305 0.089 0.274 0.442\n"
     ]
    },
    {
     "name": "stdout",
     "output_type": "stream",
     "text": [
      "DONE (t=1.69s).\n",
      "Average Precision  (AP) @[ IoU=0.50:0.95 | area=   all | maxDets=100 ] = 0.292\n",
      "Average Precision  (AP) @[ IoU=0.50      | area=   all | maxDets=1000 ] = 0.383\n",
      "Average Precision  (AP) @[ IoU=0.75      | area=   all | maxDets=1000 ] = 0.305\n",
      "Average Precision  (AP) @[ IoU=0.50:0.95 | area= small | maxDets=1000 ] = 0.089\n",
      "Average Precision  (AP) @[ IoU=0.50:0.95 | area=medium | maxDets=1000 ] = 0.274\n",
      "Average Precision  (AP) @[ IoU=0.50:0.95 | area= large | maxDets=1000 ] = 0.442\n",
      "Average Recall     (AR) @[ IoU=0.50:0.95 | area=   all | maxDets=100 ] = 0.526\n",
      "Average Recall     (AR) @[ IoU=0.50:0.95 | area=   all | maxDets=300 ] = 0.526\n",
      "Average Recall     (AR) @[ IoU=0.50:0.95 | area=   all | maxDets=1000 ] = 0.526\n",
      "Average Recall     (AR) @[ IoU=0.50:0.95 | area= small | maxDets=1000 ] = 0.243\n",
      "Average Recall     (AR) @[ IoU=0.50:0.95 | area=medium | maxDets=1000 ] = 0.496\n",
      "Average Recall     (AR) @[ IoU=0.50:0.95 | area= large | maxDets=1000 ] = 0.819\n"
     ]
    },
    {
     "name": "stderr",
     "output_type": "stream",
     "text": [
      "2021-05-19 11:35:52,091 - mmdet - INFO - Epoch [10][50/328]\tlr: 1.000e-02, eta: 2:58:36, time: 2.507, data_time: 0.146, memory: 22489, loss_cls: 0.8432, loss_bbox: 0.2128, loss_bbox_rf: 0.2686, loss: 1.3245, grad_norm: 3.8276\n",
      "2021-05-19 11:37:53,182 - mmdet - INFO - Epoch [10][100/328]\tlr: 1.000e-02, eta: 2:57:03, time: 2.422, data_time: 0.018, memory: 22489, loss_cls: 0.8332, loss_bbox: 0.2068, loss_bbox_rf: 0.2602, loss: 1.3002, grad_norm: 4.1526\n",
      "2021-05-19 11:39:53,120 - mmdet - INFO - Epoch [10][150/328]\tlr: 1.000e-02, eta: 2:55:28, time: 2.399, data_time: 0.018, memory: 22489, loss_cls: 0.8503, loss_bbox: 0.2179, loss_bbox_rf: 0.2738, loss: 1.3420, grad_norm: 4.0465\n",
      "2021-05-19 11:41:50,137 - mmdet - INFO - Epoch [10][200/328]\tlr: 1.000e-02, eta: 2:53:48, time: 2.340, data_time: 0.018, memory: 22489, loss_cls: 0.8519, loss_bbox: 0.2348, loss_bbox_rf: 0.2957, loss: 1.3825, grad_norm: 3.7867\n",
      "2021-05-19 11:43:47,743 - mmdet - INFO - Epoch [10][250/328]\tlr: 1.000e-02, eta: 2:52:08, time: 2.352, data_time: 0.017, memory: 22489, loss_cls: 0.8320, loss_bbox: 0.2149, loss_bbox_rf: 0.2718, loss: 1.3187, grad_norm: 3.8181\n",
      "2021-05-19 11:45:47,034 - mmdet - INFO - Epoch [10][300/328]\tlr: 1.000e-02, eta: 2:50:30, time: 2.386, data_time: 0.018, memory: 22489, loss_cls: 0.8230, loss_bbox: 0.2235, loss_bbox_rf: 0.2826, loss: 1.3290, grad_norm: 3.7768\n",
      "2021-05-19 11:46:55,658 - mmdet - INFO - Saving checkpoint at 10 epochs\n"
     ]
    },
    {
     "name": "stdout",
     "output_type": "stream",
     "text": [
      "[>>>>>>>>>>>>>>>>>>>>>>>>>>>>>>] 655/655, 7.8 task/s, elapsed: 84s, ETA:     0s"
     ]
    },
    {
     "name": "stderr",
     "output_type": "stream",
     "text": [
      "2021-05-19 11:48:22,542 - mmdet - INFO - Evaluating bbox...\n"
     ]
    },
    {
     "name": "stdout",
     "output_type": "stream",
     "text": [
      "Loading and preparing results...\n",
      "DONE (t=1.17s)\n",
      "creating index...\n",
      "index created!\n",
      "Running per image evaluation...\n",
      "Evaluate annotation type *bbox*\n",
      "DONE (t=7.10s).\n",
      "Accumulating evaluation results...\n"
     ]
    },
    {
     "name": "stderr",
     "output_type": "stream",
     "text": [
      "2021-05-19 11:48:32,761 - mmdet - INFO - Epoch(val) [10][328]\tbbox_mAP: 0.2890, bbox_mAP_50: 0.3810, bbox_mAP_75: 0.2930, bbox_mAP_s: 0.0860, bbox_mAP_m: 0.2900, bbox_mAP_l: 0.4810, bbox_mAP_copypaste: 0.289 0.381 0.293 0.086 0.290 0.481\n"
     ]
    },
    {
     "name": "stdout",
     "output_type": "stream",
     "text": [
      "DONE (t=1.80s).\n",
      "Average Precision  (AP) @[ IoU=0.50:0.95 | area=   all | maxDets=100 ] = 0.289\n",
      "Average Precision  (AP) @[ IoU=0.50      | area=   all | maxDets=1000 ] = 0.381\n",
      "Average Precision  (AP) @[ IoU=0.75      | area=   all | maxDets=1000 ] = 0.293\n",
      "Average Precision  (AP) @[ IoU=0.50:0.95 | area= small | maxDets=1000 ] = 0.086\n",
      "Average Precision  (AP) @[ IoU=0.50:0.95 | area=medium | maxDets=1000 ] = 0.290\n",
      "Average Precision  (AP) @[ IoU=0.50:0.95 | area= large | maxDets=1000 ] = 0.481\n",
      "Average Recall     (AR) @[ IoU=0.50:0.95 | area=   all | maxDets=100 ] = 0.528\n",
      "Average Recall     (AR) @[ IoU=0.50:0.95 | area=   all | maxDets=300 ] = 0.528\n",
      "Average Recall     (AR) @[ IoU=0.50:0.95 | area=   all | maxDets=1000 ] = 0.528\n",
      "Average Recall     (AR) @[ IoU=0.50:0.95 | area= small | maxDets=1000 ] = 0.233\n",
      "Average Recall     (AR) @[ IoU=0.50:0.95 | area=medium | maxDets=1000 ] = 0.527\n",
      "Average Recall     (AR) @[ IoU=0.50:0.95 | area= large | maxDets=1000 ] = 0.792\n"
     ]
    },
    {
     "name": "stderr",
     "output_type": "stream",
     "text": [
      "2021-05-19 11:50:37,251 - mmdet - INFO - Epoch [11][50/328]\tlr: 1.000e-02, eta: 2:46:31, time: 2.489, data_time: 0.102, memory: 22489, loss_cls: 0.8405, loss_bbox: 0.2085, loss_bbox_rf: 0.2622, loss: 1.3113, grad_norm: 3.9449\n",
      "2021-05-19 11:52:35,554 - mmdet - INFO - Epoch [11][100/328]\tlr: 1.000e-02, eta: 2:44:52, time: 2.366, data_time: 0.017, memory: 22489, loss_cls: 0.8029, loss_bbox: 0.2235, loss_bbox_rf: 0.2825, loss: 1.3089, grad_norm: 3.5276\n",
      "2021-05-19 11:54:34,479 - mmdet - INFO - Epoch [11][150/328]\tlr: 1.000e-02, eta: 2:43:13, time: 2.379, data_time: 0.018, memory: 22489, loss_cls: 0.8197, loss_bbox: 0.2214, loss_bbox_rf: 0.2759, loss: 1.3170, grad_norm: 3.7899\n",
      "2021-05-19 11:56:33,789 - mmdet - INFO - Epoch [11][200/328]\tlr: 1.000e-02, eta: 2:41:35, time: 2.386, data_time: 0.017, memory: 22489, loss_cls: 0.7970, loss_bbox: 0.2264, loss_bbox_rf: 0.2850, loss: 1.3084, grad_norm: 3.5759\n",
      "2021-05-19 11:58:33,390 - mmdet - INFO - Epoch [11][250/328]\tlr: 1.000e-02, eta: 2:39:56, time: 2.392, data_time: 0.017, memory: 22489, loss_cls: 0.8000, loss_bbox: 0.2166, loss_bbox_rf: 0.2714, loss: 1.2880, grad_norm: 3.6764\n",
      "2021-05-19 12:00:33,158 - mmdet - INFO - Epoch [11][300/328]\tlr: 1.000e-02, eta: 2:38:16, time: 2.395, data_time: 0.018, memory: 22489, loss_cls: 0.7967, loss_bbox: 0.2217, loss_bbox_rf: 0.2780, loss: 1.2964, grad_norm: 3.8370\n",
      "2021-05-19 12:01:40,135 - mmdet - INFO - Saving checkpoint at 11 epochs\n"
     ]
    },
    {
     "name": "stdout",
     "output_type": "stream",
     "text": [
      "[>>>>>>>>>>>>>>>>>>>>>>>>>>>>>>] 655/655, 8.1 task/s, elapsed: 81s, ETA:     0s"
     ]
    },
    {
     "name": "stderr",
     "output_type": "stream",
     "text": [
      "2021-05-19 12:03:03,680 - mmdet - INFO - Evaluating bbox...\n"
     ]
    },
    {
     "name": "stdout",
     "output_type": "stream",
     "text": [
      "Loading and preparing results...\n",
      "DONE (t=1.15s)\n",
      "creating index...\n",
      "index created!\n",
      "Running per image evaluation...\n",
      "Evaluate annotation type *bbox*\n",
      "DONE (t=6.72s).\n",
      "Accumulating evaluation results...\n"
     ]
    },
    {
     "name": "stderr",
     "output_type": "stream",
     "text": [
      "2021-05-19 12:03:13,391 - mmdet - INFO - Epoch(val) [11][328]\tbbox_mAP: 0.2800, bbox_mAP_50: 0.3750, bbox_mAP_75: 0.2820, bbox_mAP_s: 0.0820, bbox_mAP_m: 0.2770, bbox_mAP_l: 0.4290, bbox_mAP_copypaste: 0.280 0.375 0.282 0.082 0.277 0.429\n"
     ]
    },
    {
     "name": "stdout",
     "output_type": "stream",
     "text": [
      "DONE (t=1.70s).\n",
      "Average Precision  (AP) @[ IoU=0.50:0.95 | area=   all | maxDets=100 ] = 0.280\n",
      "Average Precision  (AP) @[ IoU=0.50      | area=   all | maxDets=1000 ] = 0.375\n",
      "Average Precision  (AP) @[ IoU=0.75      | area=   all | maxDets=1000 ] = 0.282\n",
      "Average Precision  (AP) @[ IoU=0.50:0.95 | area= small | maxDets=1000 ] = 0.082\n",
      "Average Precision  (AP) @[ IoU=0.50:0.95 | area=medium | maxDets=1000 ] = 0.277\n",
      "Average Precision  (AP) @[ IoU=0.50:0.95 | area= large | maxDets=1000 ] = 0.429\n",
      "Average Recall     (AR) @[ IoU=0.50:0.95 | area=   all | maxDets=100 ] = 0.507\n",
      "Average Recall     (AR) @[ IoU=0.50:0.95 | area=   all | maxDets=300 ] = 0.507\n",
      "Average Recall     (AR) @[ IoU=0.50:0.95 | area=   all | maxDets=1000 ] = 0.507\n",
      "Average Recall     (AR) @[ IoU=0.50:0.95 | area= small | maxDets=1000 ] = 0.204\n",
      "Average Recall     (AR) @[ IoU=0.50:0.95 | area=medium | maxDets=1000 ] = 0.498\n",
      "Average Recall     (AR) @[ IoU=0.50:0.95 | area= large | maxDets=1000 ] = 0.791\n"
     ]
    },
    {
     "name": "stderr",
     "output_type": "stream",
     "text": [
      "2021-05-19 12:05:15,689 - mmdet - INFO - Epoch [12][50/328]\tlr: 1.000e-02, eta: 2:34:26, time: 2.446, data_time: 0.115, memory: 22489, loss_cls: 0.7999, loss_bbox: 0.2080, loss_bbox_rf: 0.2602, loss: 1.2682, grad_norm: 4.2847\n",
      "2021-05-19 12:07:14,828 - mmdet - INFO - Epoch [12][100/328]\tlr: 1.000e-02, eta: 2:32:46, time: 2.383, data_time: 0.018, memory: 22489, loss_cls: 0.8087, loss_bbox: 0.2283, loss_bbox_rf: 0.2889, loss: 1.3259, grad_norm: 3.9435\n",
      "2021-05-19 12:09:11,870 - mmdet - INFO - Epoch [12][150/328]\tlr: 1.000e-02, eta: 2:31:04, time: 2.341, data_time: 0.017, memory: 22489, loss_cls: 0.8082, loss_bbox: 0.2158, loss_bbox_rf: 0.2696, loss: 1.2936, grad_norm: 3.8104\n",
      "2021-05-19 12:11:08,145 - mmdet - INFO - Epoch [12][200/328]\tlr: 1.000e-02, eta: 2:29:20, time: 2.325, data_time: 0.017, memory: 22489, loss_cls: 0.8468, loss_bbox: 0.2199, loss_bbox_rf: 0.2775, loss: 1.3442, grad_norm: 4.2063\n",
      "2021-05-19 12:13:07,141 - mmdet - INFO - Epoch [12][250/328]\tlr: 1.000e-02, eta: 2:27:39, time: 2.380, data_time: 0.018, memory: 22489, loss_cls: 0.8231, loss_bbox: 0.2133, loss_bbox_rf: 0.2689, loss: 1.3053, grad_norm: 3.7750\n",
      "2021-05-19 12:15:06,068 - mmdet - INFO - Epoch [12][300/328]\tlr: 1.000e-02, eta: 2:25:57, time: 2.379, data_time: 0.017, memory: 22489, loss_cls: 0.8269, loss_bbox: 0.2126, loss_bbox_rf: 0.2695, loss: 1.3089, grad_norm: 4.0248\n",
      "2021-05-19 12:16:13,135 - mmdet - INFO - Saving checkpoint at 12 epochs\n"
     ]
    },
    {
     "name": "stdout",
     "output_type": "stream",
     "text": [
      "[>>>>>>>>>>>>>>>>>>>>>>>>>>>>>>] 655/655, 8.1 task/s, elapsed: 81s, ETA:     0s"
     ]
    },
    {
     "name": "stderr",
     "output_type": "stream",
     "text": [
      "2021-05-19 12:17:36,695 - mmdet - INFO - Evaluating bbox...\n"
     ]
    },
    {
     "name": "stdout",
     "output_type": "stream",
     "text": [
      "Loading and preparing results...\n",
      "DONE (t=0.72s)\n",
      "creating index...\n",
      "index created!\n",
      "Running per image evaluation...\n",
      "Evaluate annotation type *bbox*\n",
      "DONE (t=7.43s).\n",
      "Accumulating evaluation results...\n"
     ]
    },
    {
     "name": "stderr",
     "output_type": "stream",
     "text": [
      "2021-05-19 12:17:46,657 - mmdet - INFO - Now best checkpoint is epoch_12.pth.Best bbox_mAP_50 is 0.4250\n",
      "2021-05-19 12:17:46,663 - mmdet - INFO - Epoch(val) [12][328]\tbbox_mAP: 0.3220, bbox_mAP_50: 0.4250, bbox_mAP_75: 0.3360, bbox_mAP_s: 0.0850, bbox_mAP_m: 0.3030, bbox_mAP_l: 0.5540, bbox_mAP_copypaste: 0.322 0.425 0.336 0.085 0.303 0.554\n"
     ]
    },
    {
     "name": "stdout",
     "output_type": "stream",
     "text": [
      "DONE (t=1.67s).\n",
      "Average Precision  (AP) @[ IoU=0.50:0.95 | area=   all | maxDets=100 ] = 0.322\n",
      "Average Precision  (AP) @[ IoU=0.50      | area=   all | maxDets=1000 ] = 0.425\n",
      "Average Precision  (AP) @[ IoU=0.75      | area=   all | maxDets=1000 ] = 0.336\n",
      "Average Precision  (AP) @[ IoU=0.50:0.95 | area= small | maxDets=1000 ] = 0.085\n",
      "Average Precision  (AP) @[ IoU=0.50:0.95 | area=medium | maxDets=1000 ] = 0.303\n",
      "Average Precision  (AP) @[ IoU=0.50:0.95 | area= large | maxDets=1000 ] = 0.554\n",
      "Average Recall     (AR) @[ IoU=0.50:0.95 | area=   all | maxDets=100 ] = 0.520\n",
      "Average Recall     (AR) @[ IoU=0.50:0.95 | area=   all | maxDets=300 ] = 0.520\n",
      "Average Recall     (AR) @[ IoU=0.50:0.95 | area=   all | maxDets=1000 ] = 0.520\n",
      "Average Recall     (AR) @[ IoU=0.50:0.95 | area= small | maxDets=1000 ] = 0.212\n",
      "Average Recall     (AR) @[ IoU=0.50:0.95 | area=medium | maxDets=1000 ] = 0.506\n",
      "Average Recall     (AR) @[ IoU=0.50:0.95 | area= large | maxDets=1000 ] = 0.781\n"
     ]
    },
    {
     "name": "stderr",
     "output_type": "stream",
     "text": [
      "2021-05-19 12:19:51,546 - mmdet - INFO - Epoch [13][50/328]\tlr: 1.000e-02, eta: 2:22:19, time: 2.497, data_time: 0.105, memory: 22489, loss_cls: 0.7957, loss_bbox: 0.2035, loss_bbox_rf: 0.2549, loss: 1.2540, grad_norm: 4.3708\n",
      "2021-05-19 12:21:49,860 - mmdet - INFO - Epoch [13][100/328]\tlr: 1.000e-02, eta: 2:20:37, time: 2.366, data_time: 0.017, memory: 22489, loss_cls: 0.7869, loss_bbox: 0.2212, loss_bbox_rf: 0.2769, loss: 1.2849, grad_norm: 3.9286\n",
      "2021-05-19 12:23:48,815 - mmdet - INFO - Epoch [13][150/328]\tlr: 1.000e-02, eta: 2:18:55, time: 2.379, data_time: 0.018, memory: 22489, loss_cls: 0.8082, loss_bbox: 0.2113, loss_bbox_rf: 0.2666, loss: 1.2861, grad_norm: 4.1123\n",
      "2021-05-19 12:25:47,393 - mmdet - INFO - Epoch [13][200/328]\tlr: 1.000e-02, eta: 2:17:13, time: 2.372, data_time: 0.017, memory: 22489, loss_cls: 0.8023, loss_bbox: 0.2135, loss_bbox_rf: 0.2675, loss: 1.2833, grad_norm: 4.1131\n",
      "2021-05-19 12:27:46,787 - mmdet - INFO - Epoch [13][250/328]\tlr: 1.000e-02, eta: 2:15:31, time: 2.388, data_time: 0.018, memory: 22489, loss_cls: 0.8217, loss_bbox: 0.2234, loss_bbox_rf: 0.2816, loss: 1.3268, grad_norm: 3.9192\n",
      "2021-05-19 12:29:44,671 - mmdet - INFO - Epoch [13][300/328]\tlr: 1.000e-02, eta: 2:13:47, time: 2.358, data_time: 0.018, memory: 22489, loss_cls: 0.8576, loss_bbox: 0.2207, loss_bbox_rf: 0.2747, loss: 1.3530, grad_norm: 4.3155\n",
      "2021-05-19 12:30:51,995 - mmdet - INFO - Saving checkpoint at 13 epochs\n"
     ]
    },
    {
     "name": "stdout",
     "output_type": "stream",
     "text": [
      "[>>>>>>>>>>>>>>>>>>>>>>>>>>>>>>] 655/655, 8.0 task/s, elapsed: 82s, ETA:     0s"
     ]
    },
    {
     "name": "stderr",
     "output_type": "stream",
     "text": [
      "2021-05-19 12:32:16,751 - mmdet - INFO - Evaluating bbox...\n"
     ]
    },
    {
     "name": "stdout",
     "output_type": "stream",
     "text": [
      "Loading and preparing results...\n",
      "DONE (t=1.18s)\n",
      "creating index...\n",
      "index created!\n",
      "Running per image evaluation...\n",
      "Evaluate annotation type *bbox*\n",
      "DONE (t=7.15s).\n",
      "Accumulating evaluation results...\n"
     ]
    },
    {
     "name": "stderr",
     "output_type": "stream",
     "text": [
      "2021-05-19 12:32:26,951 - mmdet - INFO - Epoch(val) [13][328]\tbbox_mAP: 0.2820, bbox_mAP_50: 0.3810, bbox_mAP_75: 0.2970, bbox_mAP_s: 0.0760, bbox_mAP_m: 0.2680, bbox_mAP_l: 0.4450, bbox_mAP_copypaste: 0.282 0.381 0.297 0.076 0.268 0.445\n"
     ]
    },
    {
     "name": "stdout",
     "output_type": "stream",
     "text": [
      "DONE (t=1.71s).\n",
      "Average Precision  (AP) @[ IoU=0.50:0.95 | area=   all | maxDets=100 ] = 0.282\n",
      "Average Precision  (AP) @[ IoU=0.50      | area=   all | maxDets=1000 ] = 0.381\n",
      "Average Precision  (AP) @[ IoU=0.75      | area=   all | maxDets=1000 ] = 0.297\n",
      "Average Precision  (AP) @[ IoU=0.50:0.95 | area= small | maxDets=1000 ] = 0.076\n",
      "Average Precision  (AP) @[ IoU=0.50:0.95 | area=medium | maxDets=1000 ] = 0.268\n",
      "Average Precision  (AP) @[ IoU=0.50:0.95 | area= large | maxDets=1000 ] = 0.445\n",
      "Average Recall     (AR) @[ IoU=0.50:0.95 | area=   all | maxDets=100 ] = 0.485\n",
      "Average Recall     (AR) @[ IoU=0.50:0.95 | area=   all | maxDets=300 ] = 0.485\n",
      "Average Recall     (AR) @[ IoU=0.50:0.95 | area=   all | maxDets=1000 ] = 0.485\n",
      "Average Recall     (AR) @[ IoU=0.50:0.95 | area= small | maxDets=1000 ] = 0.200\n",
      "Average Recall     (AR) @[ IoU=0.50:0.95 | area=medium | maxDets=1000 ] = 0.475\n",
      "Average Recall     (AR) @[ IoU=0.50:0.95 | area= large | maxDets=1000 ] = 0.754\n"
     ]
    },
    {
     "name": "stderr",
     "output_type": "stream",
     "text": [
      "2021-05-19 12:34:31,074 - mmdet - INFO - Epoch [14][50/328]\tlr: 1.000e-02, eta: 2:10:15, time: 2.482, data_time: 0.096, memory: 22489, loss_cls: 0.7592, loss_bbox: 0.2107, loss_bbox_rf: 0.2625, loss: 1.2324, grad_norm: 3.9148\n",
      "2021-05-19 12:36:29,941 - mmdet - INFO - Epoch [14][100/328]\tlr: 1.000e-02, eta: 2:08:32, time: 2.377, data_time: 0.018, memory: 22489, loss_cls: 0.7876, loss_bbox: 0.2130, loss_bbox_rf: 0.2692, loss: 1.2698, grad_norm: 3.7775\n",
      "2021-05-19 12:38:30,394 - mmdet - INFO - Epoch [14][150/328]\tlr: 1.000e-02, eta: 2:06:51, time: 2.409, data_time: 0.018, memory: 22489, loss_cls: 0.7569, loss_bbox: 0.2076, loss_bbox_rf: 0.2605, loss: 1.2250, grad_norm: 3.5831\n",
      "2021-05-19 12:40:30,281 - mmdet - INFO - Epoch [14][200/328]\tlr: 1.000e-02, eta: 2:05:08, time: 2.398, data_time: 0.018, memory: 22489, loss_cls: 0.7779, loss_bbox: 0.2058, loss_bbox_rf: 0.2582, loss: 1.2420, grad_norm: 4.0475\n",
      "2021-05-19 12:42:31,170 - mmdet - INFO - Epoch [14][250/328]\tlr: 1.000e-02, eta: 2:03:26, time: 2.418, data_time: 0.018, memory: 22489, loss_cls: 0.8254, loss_bbox: 0.2151, loss_bbox_rf: 0.2689, loss: 1.3094, grad_norm: 4.2970\n",
      "2021-05-19 12:44:30,076 - mmdet - INFO - Epoch [14][300/328]\tlr: 1.000e-02, eta: 2:01:42, time: 2.378, data_time: 0.017, memory: 22489, loss_cls: 0.7651, loss_bbox: 0.2205, loss_bbox_rf: 0.2759, loss: 1.2616, grad_norm: 3.7592\n",
      "2021-05-19 12:45:36,812 - mmdet - INFO - Saving checkpoint at 14 epochs\n"
     ]
    },
    {
     "name": "stdout",
     "output_type": "stream",
     "text": [
      "[>>>>>>>>>>>>>>>>>>>>>>>>>>>>>>] 655/655, 8.2 task/s, elapsed: 80s, ETA:     0s"
     ]
    },
    {
     "name": "stderr",
     "output_type": "stream",
     "text": [
      "2021-05-19 12:46:59,590 - mmdet - INFO - Evaluating bbox...\n"
     ]
    },
    {
     "name": "stdout",
     "output_type": "stream",
     "text": [
      "Loading and preparing results...\n",
      "DONE (t=1.17s)\n",
      "creating index...\n",
      "index created!\n",
      "Running per image evaluation...\n",
      "Evaluate annotation type *bbox*\n",
      "DONE (t=7.35s).\n",
      "Accumulating evaluation results...\n"
     ]
    },
    {
     "name": "stderr",
     "output_type": "stream",
     "text": [
      "2021-05-19 12:47:09,960 - mmdet - INFO - Epoch(val) [14][328]\tbbox_mAP: 0.3090, bbox_mAP_50: 0.4180, bbox_mAP_75: 0.3220, bbox_mAP_s: 0.0740, bbox_mAP_m: 0.2900, bbox_mAP_l: 0.4960, bbox_mAP_copypaste: 0.309 0.418 0.322 0.074 0.290 0.496\n"
     ]
    },
    {
     "name": "stdout",
     "output_type": "stream",
     "text": [
      "DONE (t=1.70s).\n",
      "Average Precision  (AP) @[ IoU=0.50:0.95 | area=   all | maxDets=100 ] = 0.309\n",
      "Average Precision  (AP) @[ IoU=0.50      | area=   all | maxDets=1000 ] = 0.418\n",
      "Average Precision  (AP) @[ IoU=0.75      | area=   all | maxDets=1000 ] = 0.322\n",
      "Average Precision  (AP) @[ IoU=0.50:0.95 | area= small | maxDets=1000 ] = 0.074\n",
      "Average Precision  (AP) @[ IoU=0.50:0.95 | area=medium | maxDets=1000 ] = 0.290\n",
      "Average Precision  (AP) @[ IoU=0.50:0.95 | area= large | maxDets=1000 ] = 0.496\n",
      "Average Recall     (AR) @[ IoU=0.50:0.95 | area=   all | maxDets=100 ] = 0.517\n",
      "Average Recall     (AR) @[ IoU=0.50:0.95 | area=   all | maxDets=300 ] = 0.517\n",
      "Average Recall     (AR) @[ IoU=0.50:0.95 | area=   all | maxDets=1000 ] = 0.517\n",
      "Average Recall     (AR) @[ IoU=0.50:0.95 | area= small | maxDets=1000 ] = 0.221\n",
      "Average Recall     (AR) @[ IoU=0.50:0.95 | area=medium | maxDets=1000 ] = 0.503\n",
      "Average Recall     (AR) @[ IoU=0.50:0.95 | area= large | maxDets=1000 ] = 0.794\n"
     ]
    },
    {
     "name": "stderr",
     "output_type": "stream",
     "text": [
      "2021-05-19 12:49:15,338 - mmdet - INFO - Epoch [15][50/328]\tlr: 1.000e-02, eta: 1:58:17, time: 2.507, data_time: 0.132, memory: 22489, loss_cls: 0.7870, loss_bbox: 0.2085, loss_bbox_rf: 0.2605, loss: 1.2560, grad_norm: 4.4913\n",
      "2021-05-19 12:51:13,454 - mmdet - INFO - Epoch [15][100/328]\tlr: 1.000e-02, eta: 1:56:33, time: 2.362, data_time: 0.018, memory: 22489, loss_cls: 0.7774, loss_bbox: 0.2063, loss_bbox_rf: 0.2604, loss: 1.2441, grad_norm: 3.8285\n",
      "2021-05-19 12:53:13,637 - mmdet - INFO - Epoch [15][150/328]\tlr: 1.000e-02, eta: 1:54:50, time: 2.404, data_time: 0.018, memory: 22489, loss_cls: 0.7708, loss_bbox: 0.2102, loss_bbox_rf: 0.2655, loss: 1.2466, grad_norm: 4.1308\n",
      "2021-05-19 12:55:13,488 - mmdet - INFO - Epoch [15][200/328]\tlr: 1.000e-02, eta: 1:53:06, time: 2.397, data_time: 0.018, memory: 22489, loss_cls: 0.7842, loss_bbox: 0.2195, loss_bbox_rf: 0.2747, loss: 1.2784, grad_norm: 4.1972\n",
      "2021-05-19 12:57:12,821 - mmdet - INFO - Epoch [15][250/328]\tlr: 1.000e-02, eta: 1:51:21, time: 2.387, data_time: 0.017, memory: 22489, loss_cls: 0.7995, loss_bbox: 0.2158, loss_bbox_rf: 0.2686, loss: 1.2839, grad_norm: 4.4310\n",
      "2021-05-19 12:59:10,791 - mmdet - INFO - Epoch [15][300/328]\tlr: 1.000e-02, eta: 1:49:36, time: 2.359, data_time: 0.018, memory: 22489, loss_cls: 0.7925, loss_bbox: 0.2200, loss_bbox_rf: 0.2797, loss: 1.2922, grad_norm: 3.7881\n",
      "2021-05-19 13:00:18,555 - mmdet - INFO - Saving checkpoint at 15 epochs\n"
     ]
    },
    {
     "name": "stdout",
     "output_type": "stream",
     "text": [
      "[>>>>>>>>>>>>>>>>>>>>>>>>>>>>>>] 655/655, 8.4 task/s, elapsed: 78s, ETA:     0s"
     ]
    },
    {
     "name": "stderr",
     "output_type": "stream",
     "text": [
      "2021-05-19 13:01:39,254 - mmdet - INFO - Evaluating bbox...\n"
     ]
    },
    {
     "name": "stdout",
     "output_type": "stream",
     "text": [
      "Loading and preparing results...\n",
      "DONE (t=0.73s)\n",
      "creating index...\n",
      "index created!\n",
      "Running per image evaluation...\n",
      "Evaluate annotation type *bbox*\n",
      "DONE (t=7.20s).\n",
      "Accumulating evaluation results...\n"
     ]
    },
    {
     "name": "stderr",
     "output_type": "stream",
     "text": [
      "2021-05-19 13:01:48,970 - mmdet - INFO - Epoch(val) [15][328]\tbbox_mAP: 0.3060, bbox_mAP_50: 0.4080, bbox_mAP_75: 0.3150, bbox_mAP_s: 0.0910, bbox_mAP_m: 0.2960, bbox_mAP_l: 0.4720, bbox_mAP_copypaste: 0.306 0.408 0.315 0.091 0.296 0.472\n"
     ]
    },
    {
     "name": "stdout",
     "output_type": "stream",
     "text": [
      "DONE (t=1.64s).\n",
      "Average Precision  (AP) @[ IoU=0.50:0.95 | area=   all | maxDets=100 ] = 0.306\n",
      "Average Precision  (AP) @[ IoU=0.50      | area=   all | maxDets=1000 ] = 0.408\n",
      "Average Precision  (AP) @[ IoU=0.75      | area=   all | maxDets=1000 ] = 0.315\n",
      "Average Precision  (AP) @[ IoU=0.50:0.95 | area= small | maxDets=1000 ] = 0.091\n",
      "Average Precision  (AP) @[ IoU=0.50:0.95 | area=medium | maxDets=1000 ] = 0.296\n",
      "Average Precision  (AP) @[ IoU=0.50:0.95 | area= large | maxDets=1000 ] = 0.472\n",
      "Average Recall     (AR) @[ IoU=0.50:0.95 | area=   all | maxDets=100 ] = 0.514\n",
      "Average Recall     (AR) @[ IoU=0.50:0.95 | area=   all | maxDets=300 ] = 0.514\n",
      "Average Recall     (AR) @[ IoU=0.50:0.95 | area=   all | maxDets=1000 ] = 0.514\n",
      "Average Recall     (AR) @[ IoU=0.50:0.95 | area= small | maxDets=1000 ] = 0.224\n",
      "Average Recall     (AR) @[ IoU=0.50:0.95 | area=medium | maxDets=1000 ] = 0.508\n",
      "Average Recall     (AR) @[ IoU=0.50:0.95 | area= large | maxDets=1000 ] = 0.798\n"
     ]
    },
    {
     "name": "stderr",
     "output_type": "stream",
     "text": [
      "2021-05-19 13:03:56,237 - mmdet - INFO - Epoch [16][50/328]\tlr: 1.000e-02, eta: 1:46:18, time: 2.545, data_time: 0.180, memory: 22489, loss_cls: 0.7497, loss_bbox: 0.2016, loss_bbox_rf: 0.2511, loss: 1.2024, grad_norm: 4.2732\n",
      "2021-05-19 13:05:55,266 - mmdet - INFO - Epoch [16][100/328]\tlr: 1.000e-02, eta: 1:44:33, time: 2.381, data_time: 0.018, memory: 22489, loss_cls: 0.7819, loss_bbox: 0.2138, loss_bbox_rf: 0.2705, loss: 1.2662, grad_norm: 4.2993\n",
      "2021-05-19 13:07:54,590 - mmdet - INFO - Epoch [16][150/328]\tlr: 1.000e-02, eta: 1:42:48, time: 2.386, data_time: 0.018, memory: 22489, loss_cls: 0.8068, loss_bbox: 0.2186, loss_bbox_rf: 0.2776, loss: 1.3030, grad_norm: 4.0854\n",
      "2021-05-19 13:09:52,095 - mmdet - INFO - Epoch [16][200/328]\tlr: 1.000e-02, eta: 1:41:02, time: 2.350, data_time: 0.018, memory: 22489, loss_cls: 0.7728, loss_bbox: 0.2039, loss_bbox_rf: 0.2546, loss: 1.2313, grad_norm: 3.8610\n",
      "2021-05-19 13:11:49,994 - mmdet - INFO - Epoch [16][250/328]\tlr: 1.000e-02, eta: 1:39:16, time: 2.358, data_time: 0.018, memory: 22489, loss_cls: 0.7638, loss_bbox: 0.2067, loss_bbox_rf: 0.2616, loss: 1.2320, grad_norm: 3.8107\n",
      "2021-05-19 13:13:48,592 - mmdet - INFO - Epoch [16][300/328]\tlr: 1.000e-02, eta: 1:37:30, time: 2.372, data_time: 0.018, memory: 22489, loss_cls: 0.7969, loss_bbox: 0.2129, loss_bbox_rf: 0.2676, loss: 1.2775, grad_norm: 4.0144\n",
      "2021-05-19 13:14:54,701 - mmdet - INFO - Saving checkpoint at 16 epochs\n"
     ]
    },
    {
     "name": "stdout",
     "output_type": "stream",
     "text": [
      "[>>>>>>>>>>>>>>>>>>>>>>>>>>>>>>] 655/655, 7.7 task/s, elapsed: 85s, ETA:     0s"
     ]
    },
    {
     "name": "stderr",
     "output_type": "stream",
     "text": [
      "2021-05-19 13:16:22,820 - mmdet - INFO - Evaluating bbox...\n"
     ]
    },
    {
     "name": "stdout",
     "output_type": "stream",
     "text": [
      "Loading and preparing results...\n",
      "DONE (t=1.22s)\n",
      "creating index...\n",
      "index created!\n",
      "Running per image evaluation...\n",
      "Evaluate annotation type *bbox*\n",
      "DONE (t=6.51s).\n",
      "Accumulating evaluation results...\n"
     ]
    },
    {
     "name": "stderr",
     "output_type": "stream",
     "text": [
      "2021-05-19 13:16:32,439 - mmdet - INFO - Epoch(val) [16][328]\tbbox_mAP: 0.2620, bbox_mAP_50: 0.3630, bbox_mAP_75: 0.2670, bbox_mAP_s: 0.0840, bbox_mAP_m: 0.2530, bbox_mAP_l: 0.4260, bbox_mAP_copypaste: 0.262 0.363 0.267 0.084 0.253 0.426\n"
     ]
    },
    {
     "name": "stdout",
     "output_type": "stream",
     "text": [
      "DONE (t=1.74s).\n",
      "Average Precision  (AP) @[ IoU=0.50:0.95 | area=   all | maxDets=100 ] = 0.262\n",
      "Average Precision  (AP) @[ IoU=0.50      | area=   all | maxDets=1000 ] = 0.363\n",
      "Average Precision  (AP) @[ IoU=0.75      | area=   all | maxDets=1000 ] = 0.267\n",
      "Average Precision  (AP) @[ IoU=0.50:0.95 | area= small | maxDets=1000 ] = 0.084\n",
      "Average Precision  (AP) @[ IoU=0.50:0.95 | area=medium | maxDets=1000 ] = 0.253\n",
      "Average Precision  (AP) @[ IoU=0.50:0.95 | area= large | maxDets=1000 ] = 0.426\n",
      "Average Recall     (AR) @[ IoU=0.50:0.95 | area=   all | maxDets=100 ] = 0.470\n",
      "Average Recall     (AR) @[ IoU=0.50:0.95 | area=   all | maxDets=300 ] = 0.470\n",
      "Average Recall     (AR) @[ IoU=0.50:0.95 | area=   all | maxDets=1000 ] = 0.470\n",
      "Average Recall     (AR) @[ IoU=0.50:0.95 | area= small | maxDets=1000 ] = 0.219\n",
      "Average Recall     (AR) @[ IoU=0.50:0.95 | area=medium | maxDets=1000 ] = 0.458\n",
      "Average Recall     (AR) @[ IoU=0.50:0.95 | area= large | maxDets=1000 ] = 0.746\n"
     ]
    },
    {
     "name": "stderr",
     "output_type": "stream",
     "text": [
      "2021-05-19 13:18:35,757 - mmdet - INFO - Epoch [17][50/328]\tlr: 1.000e-03, eta: 1:34:14, time: 2.466, data_time: 0.117, memory: 22489, loss_cls: 0.7211, loss_bbox: 0.1961, loss_bbox_rf: 0.2515, loss: 1.1687, grad_norm: 3.6664\n",
      "2021-05-19 13:20:34,361 - mmdet - INFO - Epoch [17][100/328]\tlr: 1.000e-03, eta: 1:32:28, time: 2.372, data_time: 0.017, memory: 22489, loss_cls: 0.6531, loss_bbox: 0.1882, loss_bbox_rf: 0.2421, loss: 1.0834, grad_norm: 3.0708\n",
      "2021-05-19 13:22:33,438 - mmdet - INFO - Epoch [17][150/328]\tlr: 1.000e-03, eta: 1:30:43, time: 2.382, data_time: 0.018, memory: 22489, loss_cls: 0.6700, loss_bbox: 0.1827, loss_bbox_rf: 0.2353, loss: 1.0880, grad_norm: 3.2235\n",
      "2021-05-19 13:24:32,925 - mmdet - INFO - Epoch [17][200/328]\tlr: 1.000e-03, eta: 1:28:57, time: 2.390, data_time: 0.017, memory: 22489, loss_cls: 0.6629, loss_bbox: 0.1824, loss_bbox_rf: 0.2351, loss: 1.0805, grad_norm: 3.3653\n",
      "2021-05-19 13:26:32,408 - mmdet - INFO - Epoch [17][250/328]\tlr: 1.000e-03, eta: 1:27:11, time: 2.390, data_time: 0.018, memory: 22489, loss_cls: 0.6595, loss_bbox: 0.1837, loss_bbox_rf: 0.2370, loss: 1.0802, grad_norm: 3.2200\n",
      "2021-05-19 13:28:32,797 - mmdet - INFO - Epoch [17][300/328]\tlr: 1.000e-03, eta: 1:25:25, time: 2.408, data_time: 0.018, memory: 22489, loss_cls: 0.6580, loss_bbox: 0.1851, loss_bbox_rf: 0.2392, loss: 1.0822, grad_norm: 3.3782\n",
      "2021-05-19 13:29:39,577 - mmdet - INFO - Saving checkpoint at 17 epochs\n"
     ]
    },
    {
     "name": "stdout",
     "output_type": "stream",
     "text": [
      "[>>>>>>>>>>>>>>>>>>>>>>>>>>>>>>] 655/655, 8.4 task/s, elapsed: 78s, ETA:     0s"
     ]
    },
    {
     "name": "stderr",
     "output_type": "stream",
     "text": [
      "2021-05-19 13:30:59,852 - mmdet - INFO - Evaluating bbox...\n"
     ]
    },
    {
     "name": "stdout",
     "output_type": "stream",
     "text": [
      "Loading and preparing results...\n",
      "DONE (t=1.14s)\n",
      "creating index...\n",
      "index created!\n",
      "Running per image evaluation...\n",
      "Evaluate annotation type *bbox*\n",
      "DONE (t=6.85s).\n",
      "Accumulating evaluation results...\n"
     ]
    },
    {
     "name": "stderr",
     "output_type": "stream",
     "text": [
      "2021-05-19 13:31:09,591 - mmdet - INFO - Now best checkpoint is epoch_17.pth.Best bbox_mAP_50 is 0.4780\n",
      "2021-05-19 13:31:09,597 - mmdet - INFO - Epoch(val) [17][328]\tbbox_mAP: 0.3610, bbox_mAP_50: 0.4780, bbox_mAP_75: 0.3790, bbox_mAP_s: 0.1030, bbox_mAP_m: 0.3440, bbox_mAP_l: 0.5810, bbox_mAP_copypaste: 0.361 0.478 0.379 0.103 0.344 0.581\n"
     ]
    },
    {
     "name": "stdout",
     "output_type": "stream",
     "text": [
      "DONE (t=1.61s).\n",
      "Average Precision  (AP) @[ IoU=0.50:0.95 | area=   all | maxDets=100 ] = 0.361\n",
      "Average Precision  (AP) @[ IoU=0.50      | area=   all | maxDets=1000 ] = 0.478\n",
      "Average Precision  (AP) @[ IoU=0.75      | area=   all | maxDets=1000 ] = 0.379\n",
      "Average Precision  (AP) @[ IoU=0.50:0.95 | area= small | maxDets=1000 ] = 0.103\n",
      "Average Precision  (AP) @[ IoU=0.50:0.95 | area=medium | maxDets=1000 ] = 0.344\n",
      "Average Precision  (AP) @[ IoU=0.50:0.95 | area= large | maxDets=1000 ] = 0.581\n",
      "Average Recall     (AR) @[ IoU=0.50:0.95 | area=   all | maxDets=100 ] = 0.561\n",
      "Average Recall     (AR) @[ IoU=0.50:0.95 | area=   all | maxDets=300 ] = 0.561\n",
      "Average Recall     (AR) @[ IoU=0.50:0.95 | area=   all | maxDets=1000 ] = 0.561\n",
      "Average Recall     (AR) @[ IoU=0.50:0.95 | area= small | maxDets=1000 ] = 0.249\n",
      "Average Recall     (AR) @[ IoU=0.50:0.95 | area=medium | maxDets=1000 ] = 0.554\n",
      "Average Recall     (AR) @[ IoU=0.50:0.95 | area= large | maxDets=1000 ] = 0.831\n"
     ]
    },
    {
     "name": "stderr",
     "output_type": "stream",
     "text": [
      "2021-05-19 13:33:13,565 - mmdet - INFO - Epoch [18][50/328]\tlr: 1.000e-03, eta: 1:22:14, time: 2.479, data_time: 0.086, memory: 22489, loss_cls: 0.6386, loss_bbox: 0.1763, loss_bbox_rf: 0.2270, loss: 1.0419, grad_norm: 3.0937\n",
      "2021-05-19 13:35:11,334 - mmdet - INFO - Epoch [18][100/328]\tlr: 1.000e-03, eta: 1:20:27, time: 2.355, data_time: 0.018, memory: 22489, loss_cls: 0.6356, loss_bbox: 0.1733, loss_bbox_rf: 0.2236, loss: 1.0325, grad_norm: 3.2657\n",
      "2021-05-19 13:37:14,336 - mmdet - INFO - Epoch [18][150/328]\tlr: 1.000e-03, eta: 1:18:42, time: 2.460, data_time: 0.018, memory: 22489, loss_cls: 0.6612, loss_bbox: 0.1870, loss_bbox_rf: 0.2413, loss: 1.0895, grad_norm: 3.3128\n",
      "2021-05-19 13:39:13,150 - mmdet - INFO - Epoch [18][200/328]\tlr: 1.000e-03, eta: 1:16:55, time: 2.376, data_time: 0.018, memory: 22489, loss_cls: 0.6391, loss_bbox: 0.1869, loss_bbox_rf: 0.2411, loss: 1.0670, grad_norm: 3.5459\n",
      "2021-05-19 13:41:12,679 - mmdet - INFO - Epoch [18][250/328]\tlr: 1.000e-03, eta: 1:15:08, time: 2.391, data_time: 0.018, memory: 22489, loss_cls: 0.6254, loss_bbox: 0.1751, loss_bbox_rf: 0.2257, loss: 1.0262, grad_norm: 3.1507\n",
      "2021-05-19 13:43:10,980 - mmdet - INFO - Epoch [18][300/328]\tlr: 1.000e-03, eta: 1:13:21, time: 2.366, data_time: 0.018, memory: 22489, loss_cls: 0.6396, loss_bbox: 0.1773, loss_bbox_rf: 0.2286, loss: 1.0454, grad_norm: 3.4186\n",
      "2021-05-19 13:44:18,269 - mmdet - INFO - Saving checkpoint at 18 epochs\n"
     ]
    },
    {
     "name": "stdout",
     "output_type": "stream",
     "text": [
      "[>>>>>>>>>>>>>>>>>>>>>>>>>>>>>>] 655/655, 8.6 task/s, elapsed: 76s, ETA:     0s"
     ]
    },
    {
     "name": "stderr",
     "output_type": "stream",
     "text": [
      "2021-05-19 13:45:37,254 - mmdet - INFO - Evaluating bbox...\n"
     ]
    },
    {
     "name": "stdout",
     "output_type": "stream",
     "text": [
      "Loading and preparing results...\n",
      "DONE (t=1.12s)\n",
      "creating index...\n",
      "index created!\n",
      "Running per image evaluation...\n",
      "Evaluate annotation type *bbox*\n",
      "DONE (t=7.50s).\n",
      "Accumulating evaluation results...\n"
     ]
    },
    {
     "name": "stderr",
     "output_type": "stream",
     "text": [
      "2021-05-19 13:45:47,564 - mmdet - INFO - Now best checkpoint is epoch_18.pth.Best bbox_mAP_50 is 0.4850\n",
      "2021-05-19 13:45:47,569 - mmdet - INFO - Epoch(val) [18][328]\tbbox_mAP: 0.3630, bbox_mAP_50: 0.4850, bbox_mAP_75: 0.3760, bbox_mAP_s: 0.1040, bbox_mAP_m: 0.3440, bbox_mAP_l: 0.5930, bbox_mAP_copypaste: 0.363 0.485 0.376 0.104 0.344 0.593\n"
     ]
    },
    {
     "name": "stdout",
     "output_type": "stream",
     "text": [
      "DONE (t=1.55s).\n",
      "Average Precision  (AP) @[ IoU=0.50:0.95 | area=   all | maxDets=100 ] = 0.363\n",
      "Average Precision  (AP) @[ IoU=0.50      | area=   all | maxDets=1000 ] = 0.485\n",
      "Average Precision  (AP) @[ IoU=0.75      | area=   all | maxDets=1000 ] = 0.376\n",
      "Average Precision  (AP) @[ IoU=0.50:0.95 | area= small | maxDets=1000 ] = 0.104\n",
      "Average Precision  (AP) @[ IoU=0.50:0.95 | area=medium | maxDets=1000 ] = 0.344\n",
      "Average Precision  (AP) @[ IoU=0.50:0.95 | area= large | maxDets=1000 ] = 0.593\n",
      "Average Recall     (AR) @[ IoU=0.50:0.95 | area=   all | maxDets=100 ] = 0.563\n",
      "Average Recall     (AR) @[ IoU=0.50:0.95 | area=   all | maxDets=300 ] = 0.563\n",
      "Average Recall     (AR) @[ IoU=0.50:0.95 | area=   all | maxDets=1000 ] = 0.563\n",
      "Average Recall     (AR) @[ IoU=0.50:0.95 | area= small | maxDets=1000 ] = 0.256\n",
      "Average Recall     (AR) @[ IoU=0.50:0.95 | area=medium | maxDets=1000 ] = 0.551\n",
      "Average Recall     (AR) @[ IoU=0.50:0.95 | area= large | maxDets=1000 ] = 0.831\n"
     ]
    },
    {
     "name": "stderr",
     "output_type": "stream",
     "text": [
      "2021-05-19 13:47:51,998 - mmdet - INFO - Epoch [19][50/328]\tlr: 1.000e-03, eta: 1:10:14, time: 2.488, data_time: 0.137, memory: 22489, loss_cls: 0.6133, loss_bbox: 0.1667, loss_bbox_rf: 0.2147, loss: 0.9947, grad_norm: 3.5055\n",
      "2021-05-19 13:49:50,867 - mmdet - INFO - Epoch [19][100/328]\tlr: 1.000e-03, eta: 1:08:26, time: 2.377, data_time: 0.017, memory: 22489, loss_cls: 0.6306, loss_bbox: 0.1791, loss_bbox_rf: 0.2308, loss: 1.0405, grad_norm: 3.4982\n",
      "2021-05-19 13:51:50,827 - mmdet - INFO - Epoch [19][150/328]\tlr: 1.000e-03, eta: 1:06:40, time: 2.399, data_time: 0.018, memory: 22489, loss_cls: 0.6230, loss_bbox: 0.1736, loss_bbox_rf: 0.2242, loss: 1.0208, grad_norm: 3.2601\n",
      "2021-05-19 13:53:48,469 - mmdet - INFO - Epoch [19][200/328]\tlr: 1.000e-03, eta: 1:04:52, time: 2.353, data_time: 0.017, memory: 22489, loss_cls: 0.6523, loss_bbox: 0.1875, loss_bbox_rf: 0.2426, loss: 1.0824, grad_norm: 3.2898\n",
      "2021-05-19 13:55:46,931 - mmdet - INFO - Epoch [19][250/328]\tlr: 1.000e-03, eta: 1:03:04, time: 2.369, data_time: 0.018, memory: 22489, loss_cls: 0.6211, loss_bbox: 0.1755, loss_bbox_rf: 0.2262, loss: 1.0228, grad_norm: 3.3181\n",
      "2021-05-19 13:57:46,009 - mmdet - INFO - Epoch [19][300/328]\tlr: 1.000e-03, eta: 1:01:16, time: 2.382, data_time: 0.017, memory: 22489, loss_cls: 0.6344, loss_bbox: 0.1805, loss_bbox_rf: 0.2330, loss: 1.0479, grad_norm: 3.1544\n",
      "2021-05-19 13:58:53,260 - mmdet - INFO - Saving checkpoint at 19 epochs\n"
     ]
    },
    {
     "name": "stdout",
     "output_type": "stream",
     "text": [
      "[>>>>>>>>>>>>>>>>>>>>>>>>>>>>>>] 655/655, 8.7 task/s, elapsed: 76s, ETA:     0s"
     ]
    },
    {
     "name": "stderr",
     "output_type": "stream",
     "text": [
      "2021-05-19 14:00:11,532 - mmdet - INFO - Evaluating bbox...\n"
     ]
    },
    {
     "name": "stdout",
     "output_type": "stream",
     "text": [
      "Loading and preparing results...\n",
      "DONE (t=0.68s)\n",
      "creating index...\n",
      "index created!\n",
      "Running per image evaluation...\n",
      "Evaluate annotation type *bbox*\n",
      "DONE (t=7.14s).\n",
      "Accumulating evaluation results...\n"
     ]
    },
    {
     "name": "stderr",
     "output_type": "stream",
     "text": [
      "2021-05-19 14:00:21,039 - mmdet - INFO - Epoch(val) [19][328]\tbbox_mAP: 0.3640, bbox_mAP_50: 0.4810, bbox_mAP_75: 0.3830, bbox_mAP_s: 0.1040, bbox_mAP_m: 0.3450, bbox_mAP_l: 0.5930, bbox_mAP_copypaste: 0.364 0.481 0.383 0.104 0.345 0.593\n"
     ]
    },
    {
     "name": "stdout",
     "output_type": "stream",
     "text": [
      "DONE (t=1.55s).\n",
      "Average Precision  (AP) @[ IoU=0.50:0.95 | area=   all | maxDets=100 ] = 0.364\n",
      "Average Precision  (AP) @[ IoU=0.50      | area=   all | maxDets=1000 ] = 0.481\n",
      "Average Precision  (AP) @[ IoU=0.75      | area=   all | maxDets=1000 ] = 0.383\n",
      "Average Precision  (AP) @[ IoU=0.50:0.95 | area= small | maxDets=1000 ] = 0.104\n",
      "Average Precision  (AP) @[ IoU=0.50:0.95 | area=medium | maxDets=1000 ] = 0.345\n",
      "Average Precision  (AP) @[ IoU=0.50:0.95 | area= large | maxDets=1000 ] = 0.593\n",
      "Average Recall     (AR) @[ IoU=0.50:0.95 | area=   all | maxDets=100 ] = 0.565\n",
      "Average Recall     (AR) @[ IoU=0.50:0.95 | area=   all | maxDets=300 ] = 0.565\n",
      "Average Recall     (AR) @[ IoU=0.50:0.95 | area=   all | maxDets=1000 ] = 0.565\n",
      "Average Recall     (AR) @[ IoU=0.50:0.95 | area= small | maxDets=1000 ] = 0.264\n",
      "Average Recall     (AR) @[ IoU=0.50:0.95 | area=medium | maxDets=1000 ] = 0.560\n",
      "Average Recall     (AR) @[ IoU=0.50:0.95 | area= large | maxDets=1000 ] = 0.824\n"
     ]
    },
    {
     "name": "stderr",
     "output_type": "stream",
     "text": [
      "Exception ignored in: <function _MultiProcessingDataLoaderIter.__del__ at 0x7f5c42de6a70>\n",
      "Traceback (most recent call last):\n",
      "  File \"/opt/conda/lib/python3.7/site-packages/torch/utils/data/dataloader.py\", line 1203, in __del__\n",
      "    self._shutdown_workers()\n",
      "  File \"/opt/conda/lib/python3.7/site-packages/torch/utils/data/dataloader.py\", line 1177, in _shutdown_workers\n",
      "    w.join(timeout=_utils.MP_STATUS_CHECK_INTERVAL)\n",
      "  File \"/opt/conda/lib/python3.7/multiprocessing/process.py\", line 140, in join\n",
      "    res = self._popen.wait(timeout)\n",
      "  File \"/opt/conda/lib/python3.7/multiprocessing/popen_fork.py\", line 45, in wait\n",
      "    if not wait([self.sentinel], timeout):\n",
      "  File \"/opt/conda/lib/python3.7/multiprocessing/connection.py\", line 920, in wait\n",
      "    ready = selector.select(timeout)\n",
      "  File \"/opt/conda/lib/python3.7/selectors.py\", line 415, in select\n",
      "    fd_event_list = self._selector.poll(timeout)\n",
      "KeyboardInterrupt: \n",
      "ERROR:root:Internal Python error in the inspect module.\n",
      "Below is the traceback from this internal error.\n",
      "\n"
     ]
    },
    {
     "name": "stdout",
     "output_type": "stream",
     "text": [
      "Traceback (most recent call last):\n",
      "  File \"/opt/conda/lib/python3.7/site-packages/IPython/core/interactiveshell.py\", line 3343, in run_code\n",
      "    exec(code_obj, self.user_global_ns, self.user_ns)\n",
      "  File \"<ipython-input-13-59b5768e9e45>\", line 1, in <module>\n",
      "    train_detector(model, datasets[0], cfg, distributed=False, validate=True)\n",
      "  File \"/opt/ml/VarifocalNet/mmdet/apis/train.py\", line 175, in train_detector\n",
      "    runner.run(data_loaders, cfg.workflow)\n",
      "  File \"/opt/conda/lib/python3.7/site-packages/mmcv/runner/epoch_based_runner.py\", line 125, in run\n",
      "    epoch_runner(data_loaders[i], **kwargs)\n",
      "  File \"/opt/conda/lib/python3.7/site-packages/mmcv/runner/epoch_based_runner.py\", line 50, in train\n",
      "    self.run_iter(data_batch, train_mode=True)\n",
      "  File \"/opt/conda/lib/python3.7/site-packages/mmcv/runner/epoch_based_runner.py\", line 30, in run_iter\n",
      "    **kwargs)\n",
      "  File \"/opt/conda/lib/python3.7/site-packages/mmcv/parallel/data_parallel.py\", line 67, in train_step\n",
      "    return self.module.train_step(*inputs[0], **kwargs[0])\n",
      "  File \"/opt/ml/VarifocalNet/mmdet/models/detectors/base.py\", line 247, in train_step\n",
      "    losses = self(**data)\n",
      "  File \"/opt/conda/lib/python3.7/site-packages/torch/nn/modules/module.py\", line 727, in _call_impl\n",
      "    result = self.forward(*input, **kwargs)\n",
      "  File \"/opt/conda/lib/python3.7/site-packages/mmcv/runner/fp16_utils.py\", line 84, in new_func\n",
      "    return old_func(*args, **kwargs)\n",
      "  File \"/opt/ml/VarifocalNet/mmdet/models/detectors/base.py\", line 181, in forward\n",
      "    return self.forward_train(img, img_metas, **kwargs)\n",
      "  File \"/opt/ml/VarifocalNet/mmdet/models/detectors/single_stage.py\", line 93, in forward_train\n",
      "    x = self.extract_feat(img)\n",
      "  File \"/opt/ml/VarifocalNet/mmdet/models/detectors/single_stage.py\", line 54, in extract_feat\n",
      "    x = self.backbone(img)\n",
      "  File \"/opt/conda/lib/python3.7/site-packages/torch/nn/modules/module.py\", line 727, in _call_impl\n",
      "    result = self.forward(*input, **kwargs)\n",
      "  File \"/opt/ml/VarifocalNet/mmdet/models/backbones/resnet.py\", line 634, in forward\n",
      "    x = res_layer(x)\n",
      "  File \"/opt/conda/lib/python3.7/site-packages/torch/nn/modules/module.py\", line 727, in _call_impl\n",
      "    result = self.forward(*input, **kwargs)\n",
      "  File \"/opt/conda/lib/python3.7/site-packages/torch/nn/modules/container.py\", line 117, in forward\n",
      "    input = module(input)\n",
      "  File \"/opt/conda/lib/python3.7/site-packages/torch/nn/modules/module.py\", line 727, in _call_impl\n",
      "    result = self.forward(*input, **kwargs)\n",
      "  File \"/opt/ml/VarifocalNet/mmdet/models/backbones/res2net.py\", line 158, in forward\n",
      "    out = _inner_forward(x)\n",
      "  File \"/opt/ml/VarifocalNet/mmdet/models/backbones/res2net.py\", line 130, in _inner_forward\n",
      "    sp = self.convs[i](sp.contiguous())\n",
      "  File \"/opt/conda/lib/python3.7/site-packages/torch/nn/modules/module.py\", line 727, in _call_impl\n",
      "    result = self.forward(*input, **kwargs)\n",
      "  File \"/opt/conda/lib/python3.7/site-packages/mmcv/ops/modulated_deform_conv.py\", line 238, in forward\n",
      "    out = self.conv_offset(x)\n",
      "  File \"/opt/conda/lib/python3.7/site-packages/torch/nn/modules/module.py\", line 727, in _call_impl\n",
      "    result = self.forward(*input, **kwargs)\n",
      "  File \"/opt/conda/lib/python3.7/site-packages/torch/nn/modules/conv.py\", line 423, in forward\n",
      "    return self._conv_forward(input, self.weight)\n",
      "  File \"/opt/conda/lib/python3.7/site-packages/torch/nn/modules/conv.py\", line 420, in _conv_forward\n",
      "    self.padding, self.dilation, self.groups)\n",
      "KeyboardInterrupt\n",
      "\n",
      "During handling of the above exception, another exception occurred:\n",
      "\n",
      "Traceback (most recent call last):\n",
      "  File \"/opt/conda/lib/python3.7/site-packages/IPython/core/interactiveshell.py\", line 2044, in showtraceback\n",
      "    stb = value._render_traceback_()\n",
      "AttributeError: 'KeyboardInterrupt' object has no attribute '_render_traceback_'\n",
      "\n",
      "During handling of the above exception, another exception occurred:\n",
      "\n",
      "Traceback (most recent call last):\n",
      "  File \"/opt/conda/lib/python3.7/site-packages/IPython/core/ultratb.py\", line 1169, in get_records\n",
      "    return _fixed_getinnerframes(etb, number_of_lines_of_context, tb_offset)\n",
      "  File \"/opt/conda/lib/python3.7/site-packages/IPython/core/ultratb.py\", line 316, in wrapped\n",
      "    return f(*args, **kwargs)\n",
      "  File \"/opt/conda/lib/python3.7/site-packages/IPython/core/ultratb.py\", line 350, in _fixed_getinnerframes\n",
      "    records = fix_frame_records_filenames(inspect.getinnerframes(etb, context))\n",
      "  File \"/opt/conda/lib/python3.7/inspect.py\", line 1502, in getinnerframes\n",
      "    frameinfo = (tb.tb_frame,) + getframeinfo(tb, context)\n",
      "  File \"/opt/conda/lib/python3.7/inspect.py\", line 1460, in getframeinfo\n",
      "    filename = getsourcefile(frame) or getfile(frame)\n",
      "  File \"/opt/conda/lib/python3.7/inspect.py\", line 696, in getsourcefile\n",
      "    if getattr(getmodule(object, filename), '__loader__', None) is not None:\n",
      "  File \"/opt/conda/lib/python3.7/inspect.py\", line 742, in getmodule\n",
      "    os.path.realpath(f)] = module.__name__\n",
      "  File \"/opt/conda/lib/python3.7/posixpath.py\", line 395, in realpath\n",
      "    path, ok = _joinrealpath(filename[:0], filename, {})\n",
      "  File \"/opt/conda/lib/python3.7/posixpath.py\", line 429, in _joinrealpath\n",
      "    if not islink(newpath):\n",
      "  File \"/opt/conda/lib/python3.7/posixpath.py\", line 171, in islink\n",
      "    st = os.lstat(path)\n",
      "KeyboardInterrupt\n"
     ]
    },
    {
     "name": "stderr",
     "output_type": "stream",
     "text": [
      "\n",
      "KeyboardInterrupt\n",
      "\n"
     ]
    }
   ],
   "source": [
    "train_detector(model, datasets[0], cfg, distributed=False, validate=True)"
   ]
  },
  {
   "cell_type": "markdown",
   "metadata": {},
   "source": [
    "## Save Config"
   ]
  },
  {
   "cell_type": "code",
   "execution_count": null,
   "metadata": {
    "tags": []
   },
   "outputs": [],
   "source": [
    "import os\n",
    "from mmcv import Config\n",
    "\n",
    "# ./configs/{model_name}/{model_cfg}\n",
    "# Example)\n",
    "# ./configs/faster_rcnn/faster_rcnn_r50_fpn_1x_coco.py\n",
    "\n",
    "# config 불러오기.\n",
    "cfg = Config.fromfile(os.path.join(\"./configs\", folder_name, f'{model_name}.py'))\n",
    "\n",
    "# config 출력하기.\n",
    "# 모든 설정 값이 출력됩니다요.\n",
    "print(cfg.dump())\n",
    "\n",
    "# 현재 경로의 _custom_configs_ 폴더를 만들고 거기다가 config 파일을 저장합니다.\n",
    "os.makedirs(os.path.join(\"_custom_configs_\"), exist_ok=True)\n",
    "cfg.dump(os.path.join(\"_custom_configs_\", model_name))"
   ]
  },
  {
   "cell_type": "code",
   "execution_count": null,
   "metadata": {},
   "outputs": [],
   "source": []
  }
 ],
 "metadata": {
  "kernelspec": {
   "display_name": "Python 3",
   "language": "python",
   "name": "python3"
  },
  "language_info": {
   "codemirror_mode": {
    "name": "ipython",
    "version": 3
   },
   "file_extension": ".py",
   "mimetype": "text/x-python",
   "name": "python",
   "nbconvert_exporter": "python",
   "pygments_lexer": "ipython3",
   "version": "3.7.7"
  },
  "pycharm": {
   "stem_cell": {
    "cell_type": "raw",
    "metadata": {
     "collapsed": false
    },
    "source": []
   }
  }
 },
 "nbformat": 4,
 "nbformat_minor": 4
}
