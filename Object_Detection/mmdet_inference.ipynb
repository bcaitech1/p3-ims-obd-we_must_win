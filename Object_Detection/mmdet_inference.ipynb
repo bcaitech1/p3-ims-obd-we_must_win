{
 "cells": [
  {
   "cell_type": "code",
   "execution_count": 1,
   "id": "ce3360a7-039c-45db-9dfb-935516cb86a4",
   "metadata": {},
   "outputs": [],
   "source": [
    "from mmcv import Config\n",
    "from mmdet.datasets import build_dataloader, build_dataset\n",
    "from mmdet.models import build_detector\n",
    "from mmdet.apis import single_gpu_test\n",
    "from mmcv.runner import load_checkpoint\n",
    "import os\n",
    "from mmcv.parallel import MMDataParallel\n",
    "import pandas as pd\n",
    "from pycocotools.coco import COCO"
   ]
  },
  {
   "cell_type": "code",
   "execution_count": 2,
   "id": "fbf403b8-dab8-4d74-b01e-29641b1e28c2",
   "metadata": {},
   "outputs": [],
   "source": [
    "model_cfg = \\\n",
    "\"htc_x101_64x4d_fpn_dconv_c3-c5_mstrain_400_1400_16x1_20e_coco_all_data_instaboost\"\n",
    "\n",
    "# load config.\n",
    "cfg = Config.fromfile(os.path.join(\"save_dir\", model_cfg, \"configs.py\"))"
   ]
  },
  {
   "cell_type": "code",
   "execution_count": 3,
   "id": "2d9e8cf3-6578-4a72-877f-4358d23148b4",
   "metadata": {},
   "outputs": [
    {
     "name": "stdout",
     "output_type": "stream",
     "text": [
      "loading annotations into memory...\n",
      "Done (t=0.01s)\n",
      "creating index...\n",
      "index created!\n",
      "Use load_from_local loader\n"
     ]
    }
   ],
   "source": [
    "# checkpoint\n",
    "checkpoint_path = os.path.join(cfg.work_dir, \"best_bbox_mAP_50.pth\")\n",
    "\n",
    "dataset = build_dataset(cfg.data.test)\n",
    "data_loader = build_dataloader(dataset, samples_per_gpu=1, workers_per_gpu=cfg.data.workers_per_gpu, dist=False, shuffle=False)\n",
    "\n",
    "model = build_detector(cfg.model, test_cfg=cfg.get(\"test_cfg\"))\n",
    "checkpoint = load_checkpoint(model, checkpoint_path, map_location=\"cpu\")\n",
    "\n",
    "model.CLASSES = dataset.CLASSES\n",
    "model = MMDataParallel(model.cuda(), device_ids=[0])"
   ]
  },
  {
   "cell_type": "code",
   "execution_count": 4,
   "id": "b20150c0-1aa1-4e20-b65e-7c7d12492d6f",
   "metadata": {},
   "outputs": [
    {
     "name": "stdout",
     "output_type": "stream",
     "text": [
      "[>>>>>>>>>>>>>>>>>>>>>>>>>>>>>] 837/837, 2.9 task/s, elapsed: 291s, ETA:     0s"
     ]
    }
   ],
   "source": [
    "output = single_gpu_test(model, data_loader, show_score_thr=0.001)"
   ]
  },
  {
   "cell_type": "code",
   "execution_count": 5,
   "id": "c61a520b-b12a-4b48-8802-3516e199276a",
   "metadata": {},
   "outputs": [
    {
     "name": "stdout",
     "output_type": "stream",
     "text": [
      "loading annotations into memory...\n",
      "Done (t=0.01s)\n",
      "creating index...\n",
      "index created!\n",
      "loading annotations into memory...\n",
      "Done (t=0.00s)\n",
      "creating index...\n",
      "index created!\n"
     ]
    },
    {
     "data": {
      "text/html": [
       "<div>\n",
       "<style scoped>\n",
       "    .dataframe tbody tr th:only-of-type {\n",
       "        vertical-align: middle;\n",
       "    }\n",
       "\n",
       "    .dataframe tbody tr th {\n",
       "        vertical-align: top;\n",
       "    }\n",
       "\n",
       "    .dataframe thead th {\n",
       "        text-align: right;\n",
       "    }\n",
       "</style>\n",
       "<table border=\"1\" class=\"dataframe\">\n",
       "  <thead>\n",
       "    <tr style=\"text-align: right;\">\n",
       "      <th></th>\n",
       "      <th>PredictionString</th>\n",
       "      <th>image_id</th>\n",
       "    </tr>\n",
       "  </thead>\n",
       "  <tbody>\n",
       "    <tr>\n",
       "      <th>0</th>\n",
       "      <td>1 0.03918961 166.52493 75.445 254.63074 164.61...</td>\n",
       "      <td>batch_01_vt/0021.jpg</td>\n",
       "    </tr>\n",
       "    <tr>\n",
       "      <th>1</th>\n",
       "      <td>0 0.0070311073 285.02002 342.14825 307.5397 37...</td>\n",
       "      <td>batch_01_vt/0028.jpg</td>\n",
       "    </tr>\n",
       "    <tr>\n",
       "      <th>2</th>\n",
       "      <td>0 0.0023195667 236.0474 461.0528 302.72284 510...</td>\n",
       "      <td>batch_01_vt/0031.jpg</td>\n",
       "    </tr>\n",
       "    <tr>\n",
       "      <th>3</th>\n",
       "      <td>0 0.0024504028 0.08807373 225.09482 33.78601 3...</td>\n",
       "      <td>batch_01_vt/0032.jpg</td>\n",
       "    </tr>\n",
       "    <tr>\n",
       "      <th>4</th>\n",
       "      <td>1 0.65325046 388.14993 275.3894 472.24924 344....</td>\n",
       "      <td>batch_01_vt/0070.jpg</td>\n",
       "    </tr>\n",
       "  </tbody>\n",
       "</table>\n",
       "</div>"
      ],
      "text/plain": [
       "                                    PredictionString              image_id\n",
       "0  1 0.03918961 166.52493 75.445 254.63074 164.61...  batch_01_vt/0021.jpg\n",
       "1  0 0.0070311073 285.02002 342.14825 307.5397 37...  batch_01_vt/0028.jpg\n",
       "2  0 0.0023195667 236.0474 461.0528 302.72284 510...  batch_01_vt/0031.jpg\n",
       "3  0 0.0024504028 0.08807373 225.09482 33.78601 3...  batch_01_vt/0032.jpg\n",
       "4  1 0.65325046 388.14993 275.3894 472.24924 344....  batch_01_vt/0070.jpg"
      ]
     },
     "execution_count": 5,
     "metadata": {},
     "output_type": "execute_result"
    }
   ],
   "source": [
    "try:\n",
    "    prediction_strings = []\n",
    "    file_names = []\n",
    "    coco = COCO(cfg.data.test.ann_file)\n",
    "    imag_ids = coco.getImgIds()\n",
    "\n",
    "    class_num = 11\n",
    "    for i, out in enumerate(output):\n",
    "        prediction_string = \"\"\n",
    "        image_info = coco.loadImgs(coco.getImgIds(imgIds=i))[0]\n",
    "        for j in range(class_num):\n",
    "            for o in out[j]:\n",
    "                prediction_string += str(j) + \" \" + str(o[4]) + \" \" + str(o[0]) + \" \" + str(o[1]) + \" \" + str(o[2]) + \" \" + str(o[3]) + \" \"\n",
    "\n",
    "        prediction_strings.append(prediction_string)\n",
    "        file_names.append(image_info[\"file_name\"])\n",
    "except:\n",
    "    prediction_strings = []\n",
    "    file_names = []\n",
    "    coco = COCO(cfg.data.test.ann_file)\n",
    "    imag_ids = coco.getImgIds()\n",
    "\n",
    "    class_num = 11\n",
    "    for i, out in enumerate(output):\n",
    "        prediction_string = \"\"\n",
    "        image_info = coco.loadImgs(coco.getImgIds(imgIds=i))[0]\n",
    "        for j in range(class_num):\n",
    "            for o in out[0][j]:\n",
    "                prediction_string += str(j) + \" \" + str(o[4]) + \" \" + str(o[0]) + \" \" + str(o[1]) + \" \" + str(o[2]) + \" \" + str(o[3]) + \" \"\n",
    "\n",
    "        prediction_strings.append(prediction_string)\n",
    "        file_names.append(image_info[\"file_name\"])\n",
    "    \n",
    "submission = pd.DataFrame()\n",
    "submission[\"PredictionString\"] = prediction_strings\n",
    "submission[\"image_id\"] = file_names\n",
    "submission.to_csv(os.path.join(cfg.work_dir, f\"submission_{model_cfg}.csv\"), index=None)\n",
    "submission.head()"
   ]
  },
  {
   "cell_type": "code",
   "execution_count": null,
   "id": "63411602-3e3f-49d4-9ba5-036e89cd7dd2",
   "metadata": {},
   "outputs": [],
   "source": []
  }
 ],
 "metadata": {
  "kernelspec": {
   "display_name": "Python 3",
   "language": "python",
   "name": "python3"
  },
  "language_info": {
   "codemirror_mode": {
    "name": "ipython",
    "version": 3
   },
   "file_extension": ".py",
   "mimetype": "text/x-python",
   "name": "python",
   "nbconvert_exporter": "python",
   "pygments_lexer": "ipython3",
   "version": "3.7.7"
  }
 },
 "nbformat": 4,
 "nbformat_minor": 5
}
