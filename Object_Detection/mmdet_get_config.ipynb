{
 "cells": [
  {
   "cell_type": "code",
   "execution_count": 1,
   "id": "e7a96ec4-64a7-47bd-acd3-052ce400cd21",
   "metadata": {},
   "outputs": [],
   "source": [
    "import os\n",
    "from urllib import request\n",
    "\n",
    "from mmcv import Config\n",
    "\n",
    "from utils import modify_path, modify_num_classes"
   ]
  },
  {
   "cell_type": "markdown",
   "id": "54b8d93b-74e5-495b-9d43-6caa99edbae8",
   "metadata": {},
   "source": [
    "## Model Name / Config name / Checkpoint URL"
   ]
  },
  {
   "cell_type": "code",
   "execution_count": 2,
   "id": "1983093c-ca3a-4c7f-9b30-6123bfadde67",
   "metadata": {},
   "outputs": [],
   "source": [
    "model_name = \\\n",
    "\"detectors\"\n",
    "\n",
    "model_cfg = \\\n",
    "\"DetectoRS_mstrain_400_1200_x101_32x4d_40e\"\n",
    "\n",
    "model_url = \\\n",
    "\"https://www.cs.jhu.edu/~syqiao/DetectoRS/DetectoRS_X101-ed983634.pth\""
   ]
  },
  {
   "cell_type": "markdown",
   "id": "7ebdecf0-6881-4a4f-8bd0-497d39a4e8a6",
   "metadata": {},
   "source": [
    "## Set Config Setting Values."
   ]
  },
  {
   "cell_type": "code",
   "execution_count": 3,
   "id": "60d353e9-3ba0-4ba8-aed8-d9e97720600f",
   "metadata": {},
   "outputs": [],
   "source": [
    "lr_gamma = 0.5\n",
    "\n",
    "epoch_size = 15\n",
    "batch_size = 4\n",
    "\n",
    "step_milestone = [11, 14]\n",
    "\n",
    "multi_scale_factor = [0.5, 0.75, 1.0, 1.25, 1.5]\n",
    "\n",
    "insta_boost_flag = True"
   ]
  },
  {
   "cell_type": "markdown",
   "id": "c05d4b06-42f9-4426-9e6f-0c62f2f2d6b3",
   "metadata": {},
   "source": [
    "## Load Config"
   ]
  },
  {
   "cell_type": "code",
   "execution_count": 4,
   "id": "3c7895a1-a373-4d03-a7df-9888fd79fd97",
   "metadata": {},
   "outputs": [],
   "source": [
    "cfg = Config.fromfile(os.path.join(\"./configs\", model_name, f\"{model_cfg}.py\"))"
   ]
  },
  {
   "cell_type": "markdown",
   "id": "441b1a59-5672-4324-9e29-88fdedeb77d0",
   "metadata": {},
   "source": [
    "## Modify Config"
   ]
  },
  {
   "cell_type": "code",
   "execution_count": 5,
   "id": "b129ee08-f22d-409f-8c58-f8063ea20aa1",
   "metadata": {},
   "outputs": [],
   "source": [
    "# modify lr_gamma * default lr.\n",
    "cfg.optimizer[\"lr\"] *= lr_gamma\n",
    "\n",
    "# modify evaluation image scales.\n",
    "if multi_scale_factor:\n",
    "    test_h, test_w = cfg.data.test.pipeline[1][\"img_scale\"]\n",
    "    cfg.data.test.pipeline[1][\"img_scale\"] = [(int(test_h * scale_factor), int(test_w * scale_factor)) for scale_factor in multi_scale_factor]\n",
    "    cfg.data.test.pipeline[1][\"flip\"] = True\n",
    "\n",
    "# add pretrained model from url.\n",
    "cfg.load_from = os.path.abspath(os.path.join(\"pretrained\", f\"{model_cfg}.pth\"))\n",
    "\n",
    "# add wandb log.\n",
    "cfg.log_config = dict(\n",
    "    interval=50, hooks=[dict(type=\"TextLoggerHook\"), dict(type=\"WandbLoggerHook\", init_kwargs=dict(project=\"pstage-3-od\", name=model_cfg))]\n",
    ")\n",
    "\n",
    "# pth model file would be saved for most recent 3 epoch.\n",
    "cfg.checkpoint_config = dict(interval=1, max_keep_ckpts=3)\n",
    "\n",
    "# validation processed for every epoch, and best bbox mAP 50 model would be saved.\n",
    "cfg.evaluation = dict(interval=1, metric='bbox', save_best=\"bbox_mAP_50\")\n",
    "\n",
    "# modify data path, save path.\n",
    "modify_path(cfg, data_path=\"../input/data\", save_path=os.path.join(\"./save_dir\", model_cfg))\n",
    "\n",
    "# modify num of class.\n",
    "modify_num_classes(cfg, class_num=11)\n",
    "\n",
    "# batch size and num of worker.\n",
    "cfg.data.samples_per_gpu = batch_size\n",
    "cfg.data.workers_per_gpu = 4\n",
    "\n",
    "# epoch size and step milestone.\n",
    "cfg.runner[\"max_epochs\"] = epoch_size\n",
    "cfg.lr_config[\"step\"] = step_milestone\n",
    "\n",
    "# if checkpoint url exists, clear pretrained.\n",
    "if model_url:\n",
    "    cfg.model.pretrained = None\n",
    "\n",
    "# insta boost apply\n",
    "if insta_boost_flag:\n",
    "    insta_boost_cfg = dict(\n",
    "        type='InstaBoost',\n",
    "        action_candidate=('normal', 'horizontal', 'skip'),\n",
    "        action_prob=(1, 0, 0),\n",
    "        scale=(0.8, 1.2),\n",
    "        dx=15,\n",
    "        dy=15,\n",
    "        theta=(-1, 1),\n",
    "        color_prob=0.5,\n",
    "        hflag=False,\n",
    "        aug_ratio=0.5\n",
    "    )\n",
    "    cfg.data.train.pipeline.insert(1, insta_boost_cfg)"
   ]
  },
  {
   "cell_type": "markdown",
   "id": "bf84b698-81f8-4097-9b09-10d06879c63d",
   "metadata": {},
   "source": [
    "## Save Config"
   ]
  },
  {
   "cell_type": "code",
   "execution_count": 6,
   "id": "76b7a440-3e60-4db3-8eae-abbe0726cbba",
   "metadata": {},
   "outputs": [],
   "source": [
    "os.makedirs(os.path.join(\"custom_configs\"), exist_ok=True)\n",
    "cfg.dump(os.path.join(\"custom_configs\", f\"{model_cfg}.py\"))"
   ]
  },
  {
   "cell_type": "markdown",
   "id": "07cf692d-e026-4436-b42c-cc6c624e2c02",
   "metadata": {},
   "source": [
    "## Pretrained Checkpoint Save."
   ]
  },
  {
   "cell_type": "code",
   "execution_count": 7,
   "id": "3ccd046a-1c02-4e10-a4a7-6d83d8488059",
   "metadata": {},
   "outputs": [
    {
     "data": {
      "text/plain": [
       "('pretrained/DetectoRS_mstrain_400_1200_x101_32x4d_40e.pth',\n",
       " <http.client.HTTPMessage at 0x7f06cdacdd10>)"
      ]
     },
     "execution_count": 7,
     "metadata": {},
     "output_type": "execute_result"
    }
   ],
   "source": [
    "if not os.path.isdir(\"pretrained\"):\n",
    "    os.makedirs(\"pretrained\")\n",
    "\n",
    "ckpt_name = os.path.join(\"pretrained\", f\"{model_cfg}.pth\")\n",
    "\n",
    "request.urlretrieve(model_url, ckpt_name)"
   ]
  },
  {
   "cell_type": "code",
   "execution_count": null,
   "id": "9a660f7e-cffb-4298-a9ae-646ec2a5e922",
   "metadata": {},
   "outputs": [],
   "source": []
  }
 ],
 "metadata": {
  "kernelspec": {
   "display_name": "Python 3",
   "language": "python",
   "name": "python3"
  },
  "language_info": {
   "codemirror_mode": {
    "name": "ipython",
    "version": 3
   },
   "file_extension": ".py",
   "mimetype": "text/x-python",
   "name": "python",
   "nbconvert_exporter": "python",
   "pygments_lexer": "ipython3",
   "version": "3.7.7"
  }
 },
 "nbformat": 4,
 "nbformat_minor": 5
}
