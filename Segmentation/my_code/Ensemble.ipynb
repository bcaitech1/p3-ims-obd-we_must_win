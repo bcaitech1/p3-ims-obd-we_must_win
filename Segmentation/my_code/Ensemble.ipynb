{
 "cells": [
  {
   "cell_type": "markdown",
   "id": "b736f5fc-3b98-4066-a1ab-6700c97e54f0",
   "metadata": {},
   "source": [
    "### Ensemble \n",
    "\n",
    "- TTA 기반 두개 모델 앙상블"
   ]
  },
  {
   "cell_type": "code",
   "execution_count": 2,
   "id": "51689041-245d-4f34-b768-607dce3a2e7c",
   "metadata": {},
   "outputs": [
    {
     "ename": "ModuleNotFoundError",
     "evalue": "No module named 'Datasets'",
     "output_type": "error",
     "traceback": [
      "\u001b[0;31m---------------------------------------------------------------------------\u001b[0m",
      "\u001b[0;31mModuleNotFoundError\u001b[0m                       Traceback (most recent call last)",
      "\u001b[0;32m<ipython-input-2-c5f9f159ab61>\u001b[0m in \u001b[0;36m<module>\u001b[0;34m\u001b[0m\n\u001b[1;32m      4\u001b[0m \u001b[0;32mimport\u001b[0m \u001b[0mpandas\u001b[0m \u001b[0;32mas\u001b[0m \u001b[0mpd\u001b[0m\u001b[0;34m\u001b[0m\u001b[0;34m\u001b[0m\u001b[0m\n\u001b[1;32m      5\u001b[0m \u001b[0;32mfrom\u001b[0m \u001b[0mUtils\u001b[0m \u001b[0;32mimport\u001b[0m \u001b[0minference_view\u001b[0m\u001b[0;34m\u001b[0m\u001b[0;34m\u001b[0m\u001b[0m\n\u001b[0;32m----> 6\u001b[0;31m \u001b[0;32mfrom\u001b[0m \u001b[0mDatasets\u001b[0m \u001b[0;32mimport\u001b[0m \u001b[0;34m*\u001b[0m\u001b[0;34m\u001b[0m\u001b[0;34m\u001b[0m\u001b[0m\n\u001b[0m\u001b[1;32m      7\u001b[0m \u001b[0;32mfrom\u001b[0m \u001b[0mModels\u001b[0m \u001b[0;32mimport\u001b[0m \u001b[0;34m*\u001b[0m\u001b[0;34m\u001b[0m\u001b[0;34m\u001b[0m\u001b[0m\n\u001b[1;32m      8\u001b[0m \u001b[0;32mfrom\u001b[0m \u001b[0mSwinTransformer\u001b[0m \u001b[0;32mimport\u001b[0m \u001b[0;34m*\u001b[0m\u001b[0;34m\u001b[0m\u001b[0;34m\u001b[0m\u001b[0m\n",
      "\u001b[0;31mModuleNotFoundError\u001b[0m: No module named 'Datasets'"
     ]
    }
   ],
   "source": [
    "import albumentations as A\n",
    "from albumentations.pytorch import ToTensorV2\n",
    "\n",
    "import pandas as pd\n",
    "from Utils import inference_view\n",
    "from Datasets import *\n",
    "from Models import *\n",
    "from SwinTransformer import *\n",
    "import torch\n",
    "\n",
    "from tqdm import tqdm"
   ]
  },
  {
   "cell_type": "code",
   "execution_count": 4,
   "id": "98fe0490-313b-47a0-93b8-f9335e6cb28a",
   "metadata": {},
   "outputs": [
    {
     "name": "stdout",
     "output_type": "stream",
     "text": [
      "cuda\n",
      "cuda\n"
     ]
    },
    {
     "name": "stderr",
     "output_type": "stream",
     "text": [
      "  0%|          | 0/837 [00:00<?, ?it/s]"
     ]
    },
    {
     "name": "stdout",
     "output_type": "stream",
     "text": [
      "loading annotations into memory...\n",
      "Done (t=0.00s)\n",
      "creating index...\n",
      "index created!\n",
      "load_complete!\n",
      "loading annotations into memory...\n",
      "Done (t=0.00s)\n",
      "creating index...\n",
      "index created!\n",
      "load_complete!\n"
     ]
    },
    {
     "name": "stderr",
     "output_type": "stream",
     "text": [
      "100%|██████████| 837/837 [19:05<00:00,  1.37s/it]\n"
     ]
    }
   ],
   "source": [
    "weights = [\n",
    "    '/opt/ml/code/saved/mIoU_swin_small_512_stepRL.pt',\n",
    "    '/opt/ml/code/saved/mIoU_swin_small_512_stepRL_CLAHE.pt'\n",
    "]\n",
    "\n",
    "\n",
    "def get_pretrained_model(path):\n",
    "    device = \"cuda\" if torch.cuda.is_available() else \"cpu\"\n",
    "    model = SwinTransformerSmall()\n",
    "    model_path = path\n",
    "\n",
    "    # best model 불러오기\n",
    "    print(device)\n",
    "    checkpoint = torch.load(model_path, map_location=device)\n",
    "    model.load_state_dict(checkpoint)\n",
    "    return model\n",
    "\n",
    "raw_model, transformed_model = [get_pretrained_model(weight) for weight in weights ]\n",
    "\n",
    "\n",
    "def collate_fn(batch):\n",
    "    return tuple(zip(*batch))\n",
    "\n",
    "test_transform = A.Compose([\n",
    "    ToTensorV2()\n",
    "])\n",
    "raw_data = RecylceDatasets(data_dir='../input/data/test.json', mode='test', transform=test_transform,\n",
    "                              # resize=512\n",
    "                              )\n",
    "\n",
    "test_transform = A.Compose([\n",
    "    A.CLAHE(p=1),\n",
    "    ToTensorV2()\n",
    "])\n",
    "transform_data = RecylceDatasets(data_dir='../input/data/test.json', mode='test', transform=test_transform,\n",
    "                              # resize=512\n",
    "                              )\n",
    "\n",
    "res = []\n",
    "\n",
    "resize = A.Compose([\n",
    "    A.Resize(256,256)\n",
    "])\n",
    "\n",
    "tmp = raw_data[0][0].detach().cpu().numpy()\n",
    "for i in tqdm(range(len(raw_data))):\n",
    "    out_1,_= inference_view(raw_model,idx=i, dataset=raw_data, result_plot=False, confidence_plot=False)\n",
    "    out_1 = out_1[0].detach().cpu().numpy()\n",
    "    \n",
    "    out_2,_ = inference_view(transformed_model, idx=i, dataset=transform_data, result_plot=False, confidence_plot=False)\n",
    "    out_2 = out_2[0].detach().cpu().numpy()\n",
    "    \n",
    "    out = out_1 + out_2\n",
    "    out = out.argmax(axis=0)\n",
    "    resized = resize(image=tmp, mask=out)\n",
    "    out = resized['mask']\n",
    "    out = out.reshape((1,256*256))\n",
    "    res.append(out)\n",
    "\n"
   ]
  },
  {
   "cell_type": "markdown",
   "id": "81afa7f4-45a3-4a73-9e21-3a99309c4f05",
   "metadata": {},
   "source": [
    "<br></br>\n",
    "### 다중모델, 동일 data 앙상블"
   ]
  },
  {
   "cell_type": "code",
   "execution_count": null,
   "id": "0afc625d-279e-4f57-8f49-6ccaa27971fb",
   "metadata": {},
   "outputs": [],
   "source": [
    "import albumentations as A\n",
    "from albumentations.pytorch import ToTensorV2\n",
    "\n",
    "import pandas as pd\n",
    "from Utils import inference_view # 필수입니다!\n",
    "from Datasets import * # 불필요..\n",
    "from Models import * # 불필요\n",
    "from SwinTransformer import * # 불필요\n",
    "import torch\n",
    "\n",
    "from tqdm import tqdm"
   ]
  },
  {
   "cell_type": "code",
   "execution_count": 2,
   "id": "0f3a4cb6-1719-41d4-9ac2-58ed3219501c",
   "metadata": {},
   "outputs": [
    {
     "name": "stdout",
     "output_type": "stream",
     "text": [
      "cuda\n",
      "cuda\n",
      "cuda\n"
     ]
    },
    {
     "name": "stderr",
     "output_type": "stream",
     "text": [
      "  0%|          | 0/837 [00:00<?, ?it/s]"
     ]
    },
    {
     "name": "stdout",
     "output_type": "stream",
     "text": [
      "loading annotations into memory...\n",
      "Done (t=0.00s)\n",
      "creating index...\n",
      "index created!\n",
      "load_complete!\n",
      "loading annotations into memory...\n",
      "Done (t=0.01s)\n",
      "creating index...\n",
      "index created!\n",
      "load_complete!\n"
     ]
    },
    {
     "name": "stderr",
     "output_type": "stream",
     "text": [
      "100%|██████████| 837/837 [20:39<00:00,  1.48s/it]\n"
     ]
    }
   ],
   "source": [
    "weights = [\n",
    "    '/opt/ml/code/saved/0fold_best_model.pt',\n",
    "    '/opt/ml/code/saved/1fold_best_model.pt',\n",
    "    '/opt/ml/code/saved/2fold_best_model.pt',\n",
    "    '/opt/ml/code/saved/3fold_best_model.pt',\n",
    "    '/opt/ml/code/saved/4fold_best_model.pt'\n",
    "]\n",
    "\n",
    "import segmentation_models_pytorch as smp\n",
    "from segmentation_models_pytorch.encoders import get_preprocessing_fn\n",
    "\n",
    "models = smp.DeepLabV3Plus(\n",
    "    encoder_name='resnext50_32x4d',\n",
    "    encoder_weights='swsl',\n",
    "    in_channels=3,\n",
    "    classes=12,\n",
    ")\n",
    "\n",
    "\n",
    "def get_pretrained_model(model, path):\n",
    "    device = \"cuda\" if torch.cuda.is_available() else \"cpu\"\n",
    "    model = model \n",
    "    model_path = path\n",
    "\n",
    "    # best model 불러오기\n",
    "    print(device)\n",
    "    checkpoint = torch.load(model_path, map_location=device)\n",
    "    model.load_state_dict(checkpoint)\n",
    "    return model\n",
    "\n",
    "# 학습된 모델들 불러오기\n",
    "trained_models = [get_pretrained_model(models, weights[i]) for i in range(len(weights))]\n",
    "\n",
    "\n",
    "def collate_fn(batch):\n",
    "    return tuple(zip(*batch))\n",
    "\n",
    "test_transform = A.Compose([\n",
    "    # A.CLAHE(p=1),\n",
    "    ToTensorV2()\n",
    "])\n",
    "raw_data = RecylceDatasets(data_dir='../input/data/test.json', mode='test', transform=test_transform,\n",
    "                              # resize=512\n",
    "                              )\n",
    "\n",
    "test_transform = A.Compose([\n",
    "    A.CLAHE(p=1),\n",
    "    ToTensorV2()\n",
    "])\n",
    "transform_data = RecylceDatasets(data_dir='../input/data/test.json', mode='test', transform=test_transform,\n",
    "                              # resize=512\n",
    "                              )\n",
    "\n",
    "res = []\n",
    "\n",
    "resize = A.Compose([\n",
    "    A.Resize(256,256)\n",
    "])\n",
    "\n",
    "tmp = raw_data[0][0].detach().cpu().numpy()\n",
    "\n",
    "for i in range(len(raw_data)):\n",
    "    out = np.zeros((12,256,256))\n",
    "    for m in trained_models:\n",
    "        out_,_= inference_view(m, idx=i, dataset=raw_data, result_plot=False, confidence_plot=False)\n",
    "        out_ = out_1[0].detach().cpu().numpy()\n",
    "        out += out_\n",
    "    out = out.argmax(axis=0)\n",
    "    resized = resize(image=tmp, mask=out)\n",
    "    out = resized['mask']\n",
    "    out = out.reshape((1,256*256))\n",
    "    res.append(out)\n",
    "\n"
   ]
  },
  {
   "cell_type": "code",
   "execution_count": 11,
   "id": "2ae7dfc5-4709-43e3-8dbf-d3f877d7a760",
   "metadata": {},
   "outputs": [
    {
     "data": {
      "text/plain": [
       "<matplotlib.image.AxesImage at 0x7fed18649290>"
      ]
     },
     "execution_count": 11,
     "metadata": {},
     "output_type": "execute_result"
    },
    {
     "data": {
      "image/png": "[encoded data removed]",
      "text/plain": [
       "<Figure size 432x288 with 1 Axes>"
      ]
     },
     "metadata": {
      "needs_background": "light"
     },
     "output_type": "display_data"
    }
   ],
   "source": [
    "import matplotlib.pyplot as plt\n",
    "plt.imshow(res[50].reshape(256,256))"
   ]
  },
  {
   "cell_type": "markdown",
   "id": "e3a4ee4d-26cb-40b8-a52e-b1d7d30dd057",
   "metadata": {},
   "source": [
    "## Save_submission"
   ]
  },
  {
   "cell_type": "code",
   "execution_count": 3,
   "id": "ef1f9396-eea2-4299-9add-ed5f50796dcd",
   "metadata": {},
   "outputs": [],
   "source": [
    "n = 21\n",
    "file_name = 'Swin_small_Base_TTA_CHALE'\n",
    "submission = pd.read_csv('./submission/sample_submission.csv', index_col=None)\n",
    "\n",
    "\n",
    "# PredictionString 대입\n",
    "for i, r in enumerate(res):\n",
    "    submission = submission.append(\n",
    "        {\"image_id\": raw_data.coco.loadImgs(raw_data.coco.getImgIds(i))[0]['file_name'], \n",
    "         \"PredictionString\": ' '.join(str(e) for e in r.tolist()[0])},\n",
    "        ignore_index=True)\n",
    "\n",
    "# submission.csv로 저장\n",
    "submission.to_csv(f\"./submission/{n}ensemble\" + file_name + '.csv', index=False)"
   ]
  },
  {
   "cell_type": "markdown",
   "id": "08c13690-ce87-4dbb-959c-dcba128919e6",
   "metadata": {},
   "source": [
    "### Multi scaling "
   ]
  },
  {
   "cell_type": "code",
   "execution_count": 1,
   "id": "23d48f88-3dcc-49b2-a71b-bc0a9f405109",
   "metadata": {},
   "outputs": [],
   "source": [
    "import albumentations as A\n",
    "from albumentations.pytorch import ToTensorV2\n",
    "\n",
    "import pandas as pd\n",
    "from Utils import inference_view\n",
    "from Datasets import *\n",
    "from Models import *\n",
    "from SwinTransformer import *\n",
    "import torch\n",
    "\n",
    "from tqdm import tqdm"
   ]
  },
  {
   "cell_type": "code",
   "execution_count": 2,
   "id": "bfa28ac2-0b1a-4726-b0cd-aaee626bf96d",
   "metadata": {},
   "outputs": [
    {
     "name": "stdout",
     "output_type": "stream",
     "text": [
      "cuda\n"
     ]
    },
    {
     "name": "stderr",
     "output_type": "stream",
     "text": [
      "  0%|          | 0/837 [00:00<?, ?it/s]"
     ]
    },
    {
     "name": "stdout",
     "output_type": "stream",
     "text": [
      "loading annotations into memory...\n",
      "Done (t=0.00s)\n",
      "creating index...\n",
      "index created!\n",
      "load_complete!\n",
      "loading annotations into memory...\n",
      "Done (t=0.00s)\n",
      "creating index...\n",
      "index created!\n",
      "load_complete!\n",
      "loading annotations into memory...\n",
      "Done (t=0.00s)\n",
      "creating index...\n",
      "index created!\n",
      "load_complete!\n",
      "loading annotations into memory...\n",
      "Done (t=0.00s)\n",
      "creating index...\n",
      "index created!\n",
      "load_complete!\n",
      "loading annotations into memory...\n",
      "Done (t=0.00s)\n",
      "creating index...\n",
      "index created!\n",
      "load_complete!\n"
     ]
    },
    {
     "name": "stderr",
     "output_type": "stream",
     "text": [
      "100%|██████████| 837/837 [09:26<00:00,  1.48it/s]\n"
     ]
    }
   ],
   "source": [
    "\n",
    "weights = [\n",
    "    '/opt/ml/code/saved/mIoU_swin_Small_allData.pt',\n",
    "#     '/opt/ml/code/saved/mIoU_swin_small_512_stepRL_CLAHE.pt'\n",
    "]\n",
    "\n",
    "\n",
    "def get_pretrained_model(path):\n",
    "    device = \"cuda\" if torch.cuda.is_available() else \"cpu\"\n",
    "    model = SwinTransformerSmall()\n",
    "    model_path = path\n",
    "\n",
    "    # best model 불러오기\n",
    "    print(device)\n",
    "    checkpoint = torch.load(model_path, map_location=device)\n",
    "    model.load_state_dict(checkpoint)\n",
    "    return model\n",
    "\n",
    "model = get_pretrained_model(weights[0])\n",
    "\n",
    "\n",
    "def collate_fn(batch):\n",
    "    return tuple(zip(*batch))\n",
    "\n",
    "\n",
    "transform = A.Compose([\n",
    "    # A.CLAHE(p=1),\n",
    "    ToTensorV2()\n",
    "])\n",
    "scale_size = [0.5,0.75,1,1.25,1.5]\n",
    "datasets = [RecylceDatasets(data_dir='../input/data/test.json', mode='test', transform=transform, resize=int(512*i)) for i in scale_size] \n",
    "\n",
    "\n",
    "res = []\n",
    "resize = A.Compose([\n",
    "    A.Resize(256,256)\n",
    "])\n",
    "tmp = datasets[0][0][0].detach().cpu().numpy()\n",
    "\n",
    "\n",
    "for i in tqdm(range(len(datasets[0]))):\n",
    "    out = np.zeros((256,256,12))\n",
    "    for dataset in datasets:\n",
    "        out_1,_= inference_view(model,idx=i, dataset=dataset, result_plot=False, confidence_plot=False) # 12,512,512\n",
    "        out_1 = out_1[0].detach().cpu().numpy().transpose((1,2,0)) # 512, 512, 12\n",
    "        resized = resize(image=out_1, mask=out_1)# 256,256,12\n",
    "        t = resized['image'] # 256,256,12\n",
    "        out += t\n",
    "        \n",
    "    \n",
    "    out = out.transpose((2,0,1)).argmax(axis=0) # 12,512,512\n",
    "    out = out.reshape((1,256*256))\n",
    "    res.append(out)"
   ]
  },
  {
   "cell_type": "code",
   "execution_count": 4,
   "id": "e02010a5-992b-4b09-ac69-802c5c214016",
   "metadata": {},
   "outputs": [],
   "source": [
    "n = 23\n",
    "file_name = 'Swin_small_512_multi_scale'\n",
    "submission = pd.read_csv('./submission/sample_submission.csv', index_col=None)\n",
    "\n",
    "\n",
    "# PredictionString 대입\n",
    "for i, r in enumerate(res):\n",
    "    submission = submission.append(\n",
    "        {\"image_id\": datasets[0].coco.loadImgs(datasets[0].coco.getImgIds(i))[0]['file_name'], \n",
    "         \"PredictionString\": ' '.join(str(e) for e in r.tolist()[0])},\n",
    "        ignore_index=True)\n",
    "\n",
    "# submission.csv로 저장\n",
    "submission.to_csv(f\"./submission/{n}ensemble\" + file_name + '.csv', index=False)"
   ]
  },
  {
   "cell_type": "code",
   "execution_count": null,
   "id": "4bb627cb-87e7-460d-9a27-1773581767f2",
   "metadata": {},
   "outputs": [],
   "source": []
  }
 ],
 "metadata": {
  "kernelspec": {
   "display_name": "Python 3",
   "language": "python",
   "name": "python3"
  },
  "language_info": {
   "codemirror_mode": {
    "name": "ipython",
    "version": 3
   },
   "file_extension": ".py",
   "mimetype": "text/x-python",
   "name": "python",
   "nbconvert_exporter": "python",
   "pygments_lexer": "ipython3",
   "version": "3.7.7"
  }
 },
 "nbformat": 4,
 "nbformat_minor": 5
}
