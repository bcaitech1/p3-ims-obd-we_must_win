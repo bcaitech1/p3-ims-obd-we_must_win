{
 "cells": [
  {
   "cell_type": "code",
   "execution_count": 2,
   "id": "45740529-f794-418d-b961-c3ea202fa7ef",
   "metadata": {},
   "outputs": [
    {
     "name": "stdout",
     "output_type": "stream",
     "text": [
      "submission saved!\n"
     ]
    }
   ],
   "source": [
    "import pandas as pd\n",
    "import numpy as np\n",
    "from scipy import stats\n",
    "\n",
    "# sample_submisson.csv 열기\n",
    "sample = pd.read_csv('sample_submission.csv', index_col=None)\n",
    "submission_1 = pd.read_csv('1.csv', index_col=None)\n",
    "submission_2 = pd.read_csv('2.csv', index_col=None)\n",
    "submission_3 = pd.read_csv('3.csv', index_col=None)\n",
    "# submission_4 = pd.read_csv('4.csv', index_col=None)\n",
    "# submission_5 = pd.read_csv('5.csv', index_col=None)\n",
    "submissions = [submission_1,submission_2,submission_3]\n",
    "\n",
    "\n",
    "\n",
    "sample[\"image_id\"] = submission_1[\"image_id\"]\n",
    "pred_string = []\n",
    "for i in range(len(submission_1)):\n",
    "    pred=[]\n",
    "    for sub in submissions:\n",
    "        pred.append(list(map(int,sub[\"PredictionString\"][i].split())))\n",
    "\n",
    "    pred = np.array(pred)\n",
    "    mode_pred = list(map(str, stats.mode(pred)[0][0]))  \n",
    "    pred_string.append(' '.join(mode_pred))\n",
    "\n",
    "sample[\"PredictionString\"] = pred_string\n",
    "\n",
    "    \n",
    "    \n",
    "sample.to_csv(\"ensemble.csv\", index=False)\n",
    "print('submission saved!')\n"
   ]
  },
  {
   "cell_type": "code",
   "execution_count": null,
   "id": "1deb9358-00bf-45b2-9602-8c50439e052e",
   "metadata": {},
   "outputs": [],
   "source": []
  }
 ],
 "metadata": {
  "kernelspec": {
   "display_name": "Python 3",
   "language": "python",
   "name": "python3"
  },
  "language_info": {
   "codemirror_mode": {
    "name": "ipython",
    "version": 3
   },
   "file_extension": ".py",
   "mimetype": "text/x-python",
   "name": "python",
   "nbconvert_exporter": "python",
   "pygments_lexer": "ipython3",
   "version": "3.7.7"
  }
 },
 "nbformat": 4,
 "nbformat_minor": 5
}
