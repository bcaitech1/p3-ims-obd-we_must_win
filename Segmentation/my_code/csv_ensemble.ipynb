{
 "cells": [
  {
   "cell_type": "code",
   "execution_count": 1,
   "id": "6516560f-a6ca-4a1e-b0de-94bac9c3c29c",
   "metadata": {},
   "outputs": [],
   "source": [
    "import pandas as pd\n",
    "import torch\n",
    "import numpy as np"
   ]
  },
  {
   "cell_type": "code",
   "execution_count": 2,
   "id": "88566262-5005-42f0-8bbd-0dd31fd3958d",
   "metadata": {},
   "outputs": [],
   "source": [
    "def onehot(x, weight):\n",
    "    r = [0 for _ in range(12)]\n",
    "    r[x] = weight\n",
    "    return r"
   ]
  },
  {
   "cell_type": "code",
   "execution_count": 3,
   "id": "526c224b-4794-4624-9451-4c69aad0e572",
   "metadata": {},
   "outputs": [],
   "source": [
    "import pandas as pd\n",
    "\n",
    "a = pd.read_csv(\"./submission/1.csv\")\n",
    "b = pd.read_csv(\"./submission/2.csv\")\n",
    "c = pd.read_csv(\"./submission/3.csv\")\n",
    "# d = pd.read_csv(\"output (3).csv\")\n",
    "# e = pd.read_csv(\"output (4).csv\")\n",
    "# f = pd.read_csv(\"output (5).csv\")\n",
    "# g = pd.read_csv(\"output (6).csv\")\n",
    "# h = pd.read_csv(\"output (7).csv\")\n",
    "# i = pd.read_csv(\"output (8).csv\")\n",
    "# j = pd.read_csv(\"output (9).csv\")\n"
   ]
  },
  {
   "cell_type": "code",
   "execution_count": 4,
   "id": "b3d8c36c-db40-4610-a02e-1b36df852c3e",
   "metadata": {},
   "outputs": [],
   "source": [
    "submission = pd.read_csv('/opt/ml/code/submission/sample_submission.csv', index_col=None)"
   ]
  },
  {
   "cell_type": "code",
   "execution_count": 5,
   "id": "f49871c7-4184-455f-8c19-9a5291d29c50",
   "metadata": {},
   "outputs": [],
   "source": [
    "file_names = list(a[\"image_id\"])"
   ]
  },
  {
   "cell_type": "code",
   "execution_count": 6,
   "id": "86f28a56-7321-4362-9d38-89d96ce61284",
   "metadata": {
    "tags": []
   },
   "outputs": [],
   "source": [
    "preds = np.empty((0, 256 * 256), dtype=np.long)\n",
    "\n",
    "for i in range(len(a)):\n",
    "    a_pred = np.array(list(map(lambda x: onehot(x, 1), list(map(lambda x: int(x), a[\"PredictionString\"][i].split())))))\n",
    "    b_pred = np.array(list(map(lambda x: onehot(x, 1), list(map(lambda x: int(x), b[\"PredictionString\"][i].split())))))\n",
    "    c_pred = np.array(list(map(lambda x: onehot(x, 1), list(map(lambda x: int(x), c[\"PredictionString\"][i].split())))))\n",
    "#     d_pred = np.array(list(map(lambda x: onehot(x, 0.6363), list(map(lambda x: int(x), c[\"PredictionString\"][i].split())))))\n",
    "#     e_pred = np.array(list(map(lambda x: onehot(x, 0.6351), list(map(lambda x: int(x), c[\"PredictionString\"][i].split())))))\n",
    "#     f_pred = np.array(list(map(lambda x: onehot(x, 0.6323), list(map(lambda x: int(x), c[\"PredictionString\"][i].split())))))\n",
    "#     g_pred = np.array(list(map(lambda x: onehot(x, 0.6297), list(map(lambda x: int(x), c[\"PredictionString\"][i].split())))))\n",
    "#     h_pred = np.array(list(map(lambda x: onehot(x, 0.6295), list(map(lambda x: int(x), c[\"PredictionString\"][i].split())))))\n",
    "#     i_pred = np.array(list(map(lambda x: onehot(x, 0.6284), list(map(lambda x: int(x), c[\"PredictionString\"][i].split())))))\n",
    "#     j_pred = np.array(list(map(lambda x: onehot(x, 0.6276), list(map(lambda x: int(x), c[\"PredictionString\"][i].split())))))\n",
    "\n",
    "\n",
    "    ensemble = a_pred + b_pred + c_pred\n",
    "    ensemble = np.argmax(ensemble, axis = 1)\n",
    "    preds = np.vstack((preds, ensemble))"
   ]
  },
  {
   "cell_type": "code",
   "execution_count": 7,
   "id": "3e4da204-32a8-4837-a3d5-e7c19e9d4cb3",
   "metadata": {},
   "outputs": [],
   "source": [
    "submission = pd.read_csv('/opt/ml/code/submission/sample_submission.csv', index_col=None)\n",
    "for file_name, string in zip(file_names, preds):\n",
    "    submission = submission.append(\n",
    "        {\"image_id\": file_name, \"PredictionString\": ' '.join(str(e) for e in string.tolist())},\n",
    "        ignore_index=True)\n",
    "submission.to_csv(f\"/opt/ml/code/submission/ensemble.csv\", index=False)"
   ]
  },
  {
   "cell_type": "code",
   "execution_count": null,
   "id": "6850c886-8af2-4141-9233-7576e90b873e",
   "metadata": {},
   "outputs": [],
   "source": []
  }
 ],
 "metadata": {
  "kernelspec": {
   "display_name": "Python 3",
   "language": "python",
   "name": "python3"
  },
  "language_info": {
   "codemirror_mode": {
    "name": "ipython",
    "version": 3
   },
   "file_extension": ".py",
   "mimetype": "text/x-python",
   "name": "python",
   "nbconvert_exporter": "python",
   "pygments_lexer": "ipython3",
   "version": "3.7.7"
  }
 },
 "nbformat": 4,
 "nbformat_minor": 5
}
