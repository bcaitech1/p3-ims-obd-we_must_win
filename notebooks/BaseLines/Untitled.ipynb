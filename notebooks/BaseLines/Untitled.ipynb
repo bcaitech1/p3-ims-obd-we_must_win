{
 "cells": [
  {
   "cell_type": "code",
   "execution_count": 1,
   "id": "eaf83905-8378-421d-b0be-c2aac30553ea",
   "metadata": {},
   "outputs": [],
   "source": [
    "import torch\n",
    "import torch.nn as nn"
   ]
  },
  {
   "cell_type": "code",
   "execution_count": 2,
   "id": "22c6e603-3117-428f-9298-16c1584be59f",
   "metadata": {},
   "outputs": [],
   "source": [
    "test_in = torch.randn((2, 3, 512, 512))"
   ]
  },
  {
   "cell_type": "code",
   "execution_count": 21,
   "id": "7e4d5985-56db-465e-98be-b1d6a36887fd",
   "metadata": {},
   "outputs": [],
   "source": [
    "deconv = nn.ConvTranspose2d(3, 3, kernel_size=4, stride=2, padding=1)"
   ]
  },
  {
   "cell_type": "code",
   "execution_count": 22,
   "id": "69f5ecad-b71c-42ee-b304-651dbfbd3780",
   "metadata": {},
   "outputs": [
    {
     "data": {
      "text/plain": [
       "torch.Size([2, 3, 1024, 1024])"
      ]
     },
     "execution_count": 22,
     "metadata": {},
     "output_type": "execute_result"
    }
   ],
   "source": [
    "deconv(test_in).shape"
   ]
  },
  {
   "cell_type": "code",
   "execution_count": null,
   "id": "1d466554-a84f-4cb9-a250-e00cfc8ff611",
   "metadata": {},
   "outputs": [],
   "source": []
  }
 ],
 "metadata": {
  "kernelspec": {
   "display_name": "Python 3",
   "language": "python",
   "name": "python3"
  },
  "language_info": {
   "codemirror_mode": {
    "name": "ipython",
    "version": 3
   },
   "file_extension": ".py",
   "mimetype": "text/x-python",
   "name": "python",
   "nbconvert_exporter": "python",
   "pygments_lexer": "ipython3",
   "version": "3.7.7"
  }
 },
 "nbformat": 4,
 "nbformat_minor": 5
}
