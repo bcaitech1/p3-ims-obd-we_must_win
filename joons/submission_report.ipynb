{
 "cells": [
  {
   "cell_type": "code",
   "execution_count": 1,
   "id": "dc4379cd-fa29-4c0f-b16d-2d850bac8fd8",
   "metadata": {},
   "outputs": [
    {
     "name": "stdout",
     "output_type": "stream",
     "text": [
      "loading annotations into memory...\n",
      "Done (t=0.01s)\n",
      "creating index...\n",
      "index created!\n",
      "load_complete!\n"
     ]
    }
   ],
   "source": [
    "from Datasets import *\n",
    "from Models import Deeplabv3ResNet101\n",
    "from albumentations.pytorch import ToTensorV2\n",
    "\n",
    "test_transform = A.Compose([\n",
    "                           ToTensorV2()\n",
    "                           ])\n",
    "testdataset = RecylceDatasets(data_dir= '../input/data/test.json', mode = 'test', transform = test_transform)"
   ]
  },
  {
   "cell_type": "code",
   "execution_count": 2,
   "id": "aea29117-70bd-43ae-814c-bbd41a00e618",
   "metadata": {},
   "outputs": [],
   "source": [
    "# collate_fn needs for batch\n",
    "def collate_fn(batch):\n",
    "    return tuple(zip(*batch))\n",
    "\n",
    "test_loader = torch.utils.data.DataLoader(dataset=testdataset,\n",
    "                                          batch_size=16,\n",
    "                                          num_workers=4,\n",
    "                                          collate_fn=collate_fn)"
   ]
  },
  {
   "cell_type": "code",
   "execution_count": 5,
   "id": "ed9698df-137f-492b-8e0a-19f53153676c",
   "metadata": {},
   "outputs": [
    {
     "name": "stdout",
     "output_type": "stream",
     "text": [
      "cuda\n"
     ]
    },
    {
     "data": {
      "text/plain": [
       "<All keys matched successfully>"
      ]
     },
     "execution_count": 5,
     "metadata": {},
     "output_type": "execute_result"
    }
   ],
   "source": [
    "# best model 저장된 경로\n",
    "device = \"cuda\" if torch.cuda.is_available() else \"cpu\"\n",
    "model = Deeplabv3ResNet101()\n",
    "model_path = '/opt/ml/code/saved/deeplabv3_resnet101(pretrained).pt'\n",
    "\n",
    "# best model 불러오기\n",
    "print(device)\n",
    "checkpoint = torch.load(model_path, map_location=device)\n",
    "model.load_state_dict(checkpoint)\n",
    "\n",
    "# 추론을 실행하기 전에는 반드시 설정 (batch normalization, dropout 를 평가 모드로 설정)\n",
    "# model.eval()"
   ]
  },
  {
   "cell_type": "code",
   "execution_count": null,
   "id": "cb88dca5-da23-4329-8919-9172fb405ed3",
   "metadata": {},
   "outputs": [],
   "source": [
    "from Utils import infenrence_view\n",
    "a = Inference.test_view(model=model, dataset=testdataset, idx = 10, confidence_plot=True)"
   ]
  },
  {
   "cell_type": "code",
   "execution_count": 30,
   "id": "f138fd02-5360-400d-ab30-18769552143f",
   "metadata": {},
   "outputs": [
    {
     "name": "stdout",
     "output_type": "stream",
     "text": [
      "progress: [199 / 200]\r"
     ]
    }
   ],
   "source": [
    "import time\n",
    "for i in range(200):\n",
    "    time.sleep(0.4)\n",
    "    print(f\"progress: [{i} / {200}]\\r\", end=\"\")"
   ]
  },
  {
   "cell_type": "code",
   "execution_count": 3,
   "id": "8b83b24f-34f9-4df5-ba7f-b0a777f51ca6",
   "metadata": {},
   "outputs": [
    {
     "name": "stdout",
     "output_type": "stream",
     "text": [
      "cuda\n",
      "model load\n",
      "\n"
     ]
    }
   ],
   "source": [
    "from Inference import infer\n",
    "# self, model, save_path, data_loader,submission_file_name \n",
    "inference = infer(model='deeplabv3_resnet101', \n",
    "          save_path='/opt/ml/code/saved/deeplabv3_resnet101(pretrained).pt',\n",
    "         data_loader=test_loader,\n",
    "         submission_file_name=\"3th_deeplabv3_resnet101(pretrained).csv\")\n"
   ]
  }
 ],
 "metadata": {
  "kernelspec": {
   "display_name": "Python 3",
   "language": "python",
   "name": "python3"
  },
  "language_info": {
   "codemirror_mode": {
    "name": "ipython",
    "version": 3
   },
   "file_extension": ".py",
   "mimetype": "text/x-python",
   "name": "python",
   "nbconvert_exporter": "python",
   "pygments_lexer": "ipython3",
   "version": "3.7.7"
  }
 },
 "nbformat": 4,
 "nbformat_minor": 5
}
