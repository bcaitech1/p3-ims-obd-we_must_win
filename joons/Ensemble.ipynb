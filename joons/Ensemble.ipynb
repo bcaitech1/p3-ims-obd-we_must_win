{
 "cells": [
  {
   "cell_type": "markdown",
   "id": "b736f5fc-3b98-4066-a1ab-6700c97e54f0",
   "metadata": {},
   "source": [
    "### Ensemble \n",
    "\n",
    "- 단일 모델 앙상블"
   ]
  },
  {
   "cell_type": "code",
   "execution_count": 3,
   "id": "51689041-245d-4f34-b768-607dce3a2e7c",
   "metadata": {},
   "outputs": [],
   "source": [
    "import albumentations as A\n",
    "from albumentations.pytorch import ToTensorV2\n",
    "\n",
    "import pandas as pd\n",
    "from Utils import inference_view\n",
    "from Datasets import *\n",
    "from Models import *\n",
    "from SwinTransformer import *\n",
    "import torch\n",
    "\n",
    "from tqdm import tqdm"
   ]
  },
  {
   "cell_type": "code",
   "execution_count": 4,
   "id": "98fe0490-313b-47a0-93b8-f9335e6cb28a",
   "metadata": {},
   "outputs": [
    {
     "name": "stdout",
     "output_type": "stream",
     "text": [
      "cuda\n",
      "cuda\n"
     ]
    },
    {
     "name": "stderr",
     "output_type": "stream",
     "text": [
      "  0%|          | 0/837 [00:00<?, ?it/s]"
     ]
    },
    {
     "name": "stdout",
     "output_type": "stream",
     "text": [
      "loading annotations into memory...\n",
      "Done (t=0.00s)\n",
      "creating index...\n",
      "index created!\n",
      "load_complete!\n",
      "loading annotations into memory...\n",
      "Done (t=0.00s)\n",
      "creating index...\n",
      "index created!\n",
      "load_complete!\n"
     ]
    },
    {
     "name": "stderr",
     "output_type": "stream",
     "text": [
      "100%|██████████| 837/837 [19:05<00:00,  1.37s/it]\n"
     ]
    }
   ],
   "source": [
    "weights = [\n",
    "    '/opt/ml/code/saved/mIoU_swin_small_512_stepRL.pt',\n",
    "    '/opt/ml/code/saved/mIoU_swin_small_512_stepRL_CLAHE.pt'\n",
    "]\n",
    "\n",
    "\n",
    "def get_pretrained_model(path):\n",
    "    device = \"cuda\" if torch.cuda.is_available() else \"cpu\"\n",
    "    model = SwinTransformerSmall()\n",
    "    model_path = path\n",
    "\n",
    "    # best model 불러오기\n",
    "    print(device)\n",
    "    checkpoint = torch.load(model_path, map_location=device)\n",
    "    model.load_state_dict(checkpoint)\n",
    "    return model\n",
    "\n",
    "raw_model = get_pretrained_model(weights[0])\n",
    "transformed_model = get_pretrained_model(weights[1])\n",
    "\n",
    "\n",
    "def collate_fn(batch):\n",
    "    return tuple(zip(*batch))\n",
    "\n",
    "test_transform = A.Compose([\n",
    "    # A.CLAHE(p=1),\n",
    "    ToTensorV2()\n",
    "])\n",
    "raw_data = RecylceDatasets(data_dir='../input/data/test.json', mode='test', transform=test_transform,\n",
    "                              # resize=512\n",
    "                              )\n",
    "\n",
    "test_transform = A.Compose([\n",
    "    A.CLAHE(p=1),\n",
    "    ToTensorV2()\n",
    "])\n",
    "transform_data = RecylceDatasets(data_dir='../input/data/test.json', mode='test', transform=test_transform,\n",
    "                              # resize=512\n",
    "                              )\n",
    "\n",
    "res = []\n",
    "\n",
    "resize = A.Compose([\n",
    "    A.Resize(256,256)\n",
    "])\n",
    "\n",
    "tmp = raw_data[0][0].detach().cpu().numpy()\n",
    "for i in tqdm(range(len(raw_data))):\n",
    "    out_1,_= inference_view(raw_model,idx=i, dataset=raw_data, result_plot=False, confidence_plot=False)\n",
    "    out_1 = out_1[0].detach().cpu().numpy()\n",
    "    \n",
    "    out_2,_ = inference_view(transformed_model, idx=i, dataset=transform_data, result_plot=False, confidence_plot=False)\n",
    "    out_2 = out_2[0].detach().cpu().numpy()\n",
    "    \n",
    "    out = out_1 + out_2\n",
    "    out = out.argmax(axis=0)\n",
    "    resized = resize(image=tmp, mask=out)\n",
    "    out = resized['mask']\n",
    "    out = out.reshape((1,256*256))\n",
    "    res.append(out)\n",
    "\n"
   ]
  },
  {
   "cell_type": "code",
   "execution_count": 11,
   "id": "2ae7dfc5-4709-43e3-8dbf-d3f877d7a760",
   "metadata": {},
   "outputs": [
    {
     "data": {
      "text/plain": [
       "<matplotlib.image.AxesImage at 0x7fed18649290>"
      ]
     },
     "execution_count": 11,
     "metadata": {},
     "output_type": "execute_result"
    },
    {
     "data": {
      "image/png": "[encoded data removed]",
      "text/plain": [
       "<Figure size 432x288 with 1 Axes>"
      ]
     },
     "metadata": {
      "needs_background": "light"
     },
     "output_type": "display_data"
    }
   ],
   "source": [
    "import matplotlib.pyplot as plt\n",
    "plt.imshow(res[50].reshape(256,256))"
   ]
  },
  {
   "cell_type": "code",
   "execution_count": 5,
   "id": "ef1f9396-eea2-4299-9add-ed5f50796dcd",
   "metadata": {},
   "outputs": [],
   "source": [
    "n = 19\n",
    "file_name = 'Swin_small_TTA_CHALE'\n",
    "submission = pd.read_csv('./submission/sample_submission.csv', index_col=None)\n",
    "\n",
    "\n",
    "# PredictionString 대입\n",
    "for i, r in enumerate(res):\n",
    "    submission = submission.append(\n",
    "        {\"image_id\": raw_data.coco.loadImgs(raw_data.coco.getImgIds(i))[0]['file_name'], \n",
    "         \"PredictionString\": ' '.join(str(e) for e in r.tolist()[0])},\n",
    "        ignore_index=True)\n",
    "\n",
    "# submission.csv로 저장\n",
    "submission.to_csv(f\"./submission/{n}ensemble\" + file_name + '.csv', index=False)"
   ]
  }
 ],
 "metadata": {
  "kernelspec": {
   "display_name": "Python 3",
   "language": "python",
   "name": "python3"
  },
  "language_info": {
   "codemirror_mode": {
    "name": "ipython",
    "version": 3
   },
   "file_extension": ".py",
   "mimetype": "text/x-python",
   "name": "python",
   "nbconvert_exporter": "python",
   "pygments_lexer": "ipython3",
   "version": "3.7.7"
  }
 },
 "nbformat": 4,
 "nbformat_minor": 5
}
