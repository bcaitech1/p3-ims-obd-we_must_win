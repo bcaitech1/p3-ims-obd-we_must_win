{
 "cells": [
  {
   "cell_type": "code",
   "execution_count": 2,
   "id": "ea438d35-1539-42e3-8ce7-0eb9592357ab",
   "metadata": {
    "collapsed": true,
    "jupyter": {
     "outputs_hidden": true,
     "source_hidden": true
    },
    "tags": []
   },
   "outputs": [
    {
     "name": "stdout",
     "output_type": "stream",
     "text": [
      "Filesystem      Size  Used Avail Use% Mounted on\n",
      "overlay          48G   19G   27G  42% /\n",
      "tmpfs            64M     0   64M   0% /dev\n",
      "tmpfs            45G     0   45G   0% /sys/fs/cgroup\n",
      "shm             1.0G   44K  1.0G   1% /dev/shm\n",
      "/dev/xvda1       48G   19G   27G  42% /etc/hosts\n",
      "tmpfs            45G   12K   45G   1% /proc/driver/nvidia\n",
      "udev             45G     0   45G   0% /dev/nvidia0\n",
      "tmpfs            45G     0   45G   0% /proc/acpi\n",
      "tmpfs            45G     0   45G   0% /proc/scsi\n",
      "tmpfs            45G     0   45G   0% /sys/firmware\n",
      "427M\t.\n",
      "378M\t./pretrained\n",
      "22M\t./.git\n",
      "5.3M\t./configs\n",
      "5.0M\t./mmdet\n",
      "3.9M\t./demo\n",
      "3.0M\t./save_dir\n",
      "2.1M\t./.ipynb_checkpoints\n",
      "1.7M\t./resources\n",
      "1.4M\t./tests\n",
      "308K\t./docs\n",
      "200K\t./tools\n",
      "164K\t./readme.assets\n",
      "56K\t./.github\n",
      "48K\t./.dev_scripts\n",
      "36K\t./mmdet.egg-info\n",
      "28K\t./requirements\n",
      "24K\t./docker\n",
      "24K\t./custom_configs\n",
      "8.0K\t./work_dirs\n",
      "8.0K\t./__pycache__\n",
      "4.0K\t./mmcv_custom\n",
      "4.0K\t./.empty\n",
      "rm: cannot remove './.local/share/Trash/files': No such file or directory\n",
      "rm: cannot remove './opt/ml/.local/share/Trash': No such file or directory\n",
      "rm: refusing to remove '.' or '..' directory: skipping './'\n"
     ]
    }
   ],
   "source": [
    "!df -h\n",
    "\n",
    "!cd /\n",
    "!du -h --max-depth=1 | sort -hr\n",
    "!find . -name Trash\n",
    "!rm -r ./.local/share/Trash/files\n",
    "!rm -r ./opt/ml/.local/share/Trash\n",
    "!rm -r ./"
   ]
  },
  {
   "cell_type": "code",
   "execution_count": 45,
   "id": "normal-queue",
   "metadata": {},
   "outputs": [],
   "source": [
    "import os\n",
    "from urllib import request\n",
    "\n",
    "from mmcv import Config\n",
    "\n",
    "from utils import modify_path, modify_num_classes"
   ]
  },
  {
   "cell_type": "markdown",
   "id": "aboriginal-haiti",
   "metadata": {},
   "source": [
    "## Model Name / Config name / Checkpoint URL"
   ]
  },
  {
   "cell_type": "code",
   "execution_count": 46,
   "id": "amended-formation",
   "metadata": {},
   "outputs": [],
   "source": [
    "model_name = \\\n",
    "\"vfnet\"\n",
    "\n",
    "model_cfg = \\\n",
    "\"vfnet_x101_64x4d_fpn_mdconv_c3-c5_mstrain_2x_coco\"\n",
    "\n",
    "model_url = \\\n",
    "\"https://openmmlab.oss-cn-hangzhou.aliyuncs.com/mmdetection/v2.0/vfnet/vfnet_x101_64x4d_fpn_mdconv_c3-c5_mstrain_2x_coco/vfnet_x101_64x4d_fpn_mdconv_c3-c5_mstrain_2x_coco_20201027pth-b5f6da5e.pth\""
   ]
  },
  {
   "cell_type": "markdown",
   "id": "suspected-settlement",
   "metadata": {},
   "source": [
    "## Set Config Setting Values."
   ]
  },
  {
   "cell_type": "code",
   "execution_count": 47,
   "id": "phantom-priority",
   "metadata": {},
   "outputs": [],
   "source": [
    "lr_gamma = 0.5\n",
    "\n",
    "batch_size = 4\n",
    "\n",
    "multi_scale_factor = [0.5, 0.75, 1.0, 1.25, 1.5]"
   ]
  },
  {
   "cell_type": "markdown",
   "id": "friendly-thomas",
   "metadata": {},
   "source": [
    "## Load Config"
   ]
  },
  {
   "cell_type": "code",
   "execution_count": 48,
   "id": "vital-connecticut",
   "metadata": {},
   "outputs": [],
   "source": [
    "cfg = Config.fromfile(os.path.join(\"./configs\", model_name, f\"{model_cfg}.py\"))"
   ]
  },
  {
   "cell_type": "markdown",
   "id": "authorized-extent",
   "metadata": {},
   "source": [
    "## Modify Config"
   ]
  },
  {
   "cell_type": "code",
   "execution_count": 49,
   "id": "greenhouse-syracuse",
   "metadata": {},
   "outputs": [],
   "source": [
    "# modify lr_gamma * default lr.\n",
    "cfg.optimizer[\"lr\"] *= lr_gamma\n",
    "\n",
    "# modify evaluation image scales.\n",
    "if multi_scale_factor:\n",
    "    test_h, test_w = cfg.data.test.pipeline[1][\"img_scale\"]\n",
    "    cfg.data.test.pipeline[1][\"img_scale\"] = [(int(test_h * scale_factor), int(test_w * scale_factor)) for scale_factor in multi_scale_factor]\n",
    "    cfg.data.test.pipeline[1][\"flip\"] = True\n",
    "\n",
    "# add pretrained model from url.\n",
    "cfg.load_from = os.path.abspath(os.path.join(\"pretrained\", f\"{model_cfg}.pth\"))\n",
    "\n",
    "# add wandb log.\n",
    "#cfg.log_config = dict(interval=50, hooks=[dict(type=\"TextLoggerHook\"), dict(type=\"WandbLoggerHook\", init_kwargs=dict(project=\"pstage-3-od\", name=model_cfg))])\n",
    "\n",
    "# pth model file would be saved for most recent 3 epoch.\n",
    "cfg.checkpoint_config = dict(interval=1, max_keep_ckpts=3)\n",
    "\n",
    "# validation processed for every epoch, and best bbox mAP 50 model would be saved.\n",
    "cfg.evaluation = dict(interval=1, metric='bbox', save_best=\"bbox_mAP_50\")\n",
    "\n",
    "# modify data path, save path.\n",
    "modify_path(cfg, data_path=\"../../input/data\", save_path=os.path.join(\"./save_dir\", model_cfg))\n",
    "\n",
    "# modify num of class.\n",
    "modify_num_classes(cfg, class_num=11)\n",
    "\n",
    "# batch size and num of worker.\n",
    "cfg.data.samples_per_gpu = batch_size\n",
    "cfg.data.workers_per_gpu = 2\n",
    "\n",
    "cfg.data.train = dict(\n",
    "        type='CocoDataset',\n",
    "        ann_file='../../input/data/train_all.json', # '../../input/data/train.json',\n",
    "        img_prefix='../../input/data',\n",
    "        pipeline=[\n",
    "            dict(type='LoadImageFromFile'),\n",
    "            dict(\n",
    "                type='InstaBoost',\n",
    "                action_candidate=('normal', 'horizontal', 'skip'),\n",
    "                action_prob=(1, 0, 0),\n",
    "                scale=(0.8, 1.2),\n",
    "                dx=15,\n",
    "                dy=15,\n",
    "                theta=(-1, 1),\n",
    "                color_prob=0.5,\n",
    "                hflag=False,\n",
    "                aug_ratio=0.5),\n",
    "            dict(type='LoadAnnotations', with_bbox=True),\n",
    "            #dict(type='MosaicV2'),\n",
    "            dict(\n",
    "                type='Resize',\n",
    "                img_scale=[(1333, 480), (1333, 960)],\n",
    "                multiscale_mode='range',\n",
    "                keep_ratio=True),\n",
    "            dict(type='RandomFlip', flip_ratio=0.5),\n",
    "            dict(\n",
    "                type='Normalize',\n",
    "                mean=[123.675, 116.28, 103.53],\n",
    "                std=[58.395, 57.12, 57.375],\n",
    "                to_rgb=True),\n",
    "            dict(type='Pad', size_divisor=32),\n",
    "            dict(type='DefaultFormatBundle'),\n",
    "            dict(type='Collect', keys=['img', 'gt_bboxes', 'gt_labels'])\n",
    "        ],\n",
    "        classes=('UNKNOWN', 'General trash', 'Paper', 'Paper pack', 'Metal',\n",
    "                 'Glass', 'Plastic', 'Styrofoam', 'Plastic bag', 'Battery',\n",
    "                 'Clothing'))\n",
    "\n",
    "cfg.test_pipeline = [\n",
    "    dict(type='LoadImageFromFile'),\n",
    "    dict(\n",
    "        type='MultiScaleFlipAug',\n",
    "        img_scale=([(666,400), (999,600), (1333,800), (1666,1000), (1999,1200)]), # img_scale=(1333, 800), #\n",
    "        flip=True, # flip=False, #\n",
    "        transforms=[\n",
    "            dict(type='Resize', keep_ratio=True),\n",
    "            dict(type='RandomFlip'),\n",
    "            dict(\n",
    "                type='Normalize',\n",
    "                mean=[123.675, 116.28, 103.53],\n",
    "                std=[58.395, 57.12, 57.375],\n",
    "                to_rgb=True),\n",
    "            dict(type='Pad', size_divisor=32),\n",
    "            dict(type='DefaultFormatBundle'),\n",
    "            dict(type='Collect', keys=['img'])\n",
    "        ])\n",
    "]"
   ]
  },
  {
   "cell_type": "markdown",
   "id": "recognized-nickname",
   "metadata": {},
   "source": [
    "## Save Config"
   ]
  },
  {
   "cell_type": "code",
   "execution_count": 50,
   "id": "laughing-province",
   "metadata": {},
   "outputs": [],
   "source": [
    "os.makedirs(os.path.join(\"custom_configs\"), exist_ok=True)\n",
    "cfg.dump(os.path.join(\"custom_configs\", f\"{model_cfg}.py\"))"
   ]
  },
  {
   "cell_type": "markdown",
   "id": "accessible-coalition",
   "metadata": {},
   "source": [
    "## Pretrained Checkpoint Save."
   ]
  },
  {
   "cell_type": "code",
   "execution_count": 44,
   "id": "floral-volunteer",
   "metadata": {},
   "outputs": [
    {
     "data": {
      "text/plain": [
       "('pretrained/vfnet_x101_64x4d_fpn_mdconv_c3-c5_mstrain_2x_coco.pth',\n",
       " <http.client.HTTPMessage at 0x7f4bf20f52d0>)"
      ]
     },
     "execution_count": 44,
     "metadata": {},
     "output_type": "execute_result"
    }
   ],
   "source": [
    "if not os.path.isdir(\"pretrained\"):\n",
    "    os.makedirs(\"pretrained\")\n",
    "\n",
    "ckpt_name = os.path.join(\"pretrained\", f\"{model_cfg}.pth\")\n",
    "\n",
    "request.urlretrieve(model_url, ckpt_name)"
   ]
  },
  {
   "cell_type": "code",
   "execution_count": null,
   "id": "dramatic-poison",
   "metadata": {},
   "outputs": [],
   "source": []
  },
  {
   "cell_type": "code",
   "execution_count": null,
   "id": "f2a8924d-32c2-4036-a047-2042aa586725",
   "metadata": {},
   "outputs": [],
   "source": []
  }
 ],
 "metadata": {
  "kernelspec": {
   "display_name": "Python 3",
   "language": "python",
   "name": "python3"
  },
  "language_info": {
   "codemirror_mode": {
    "name": "ipython",
    "version": 3
   },
   "file_extension": ".py",
   "mimetype": "text/x-python",
   "name": "python",
   "nbconvert_exporter": "python",
   "pygments_lexer": "ipython3",
   "version": "3.7.7"
  }
 },
 "nbformat": 4,
 "nbformat_minor": 5
}
