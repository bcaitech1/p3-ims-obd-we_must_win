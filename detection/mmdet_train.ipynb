{
 "cells": [
  {
   "cell_type": "code",
   "execution_count": 24,
   "id": "attached-packet",
   "metadata": {},
   "outputs": [],
   "source": [
    "import os\n",
    "from pprint import pprint\n",
    "\n",
    "from mmcv import Config\n",
    "from mmdet.datasets import build_dataset\n",
    "from mmdet.models import build_detector\n",
    "from mmdet.apis import train_detector"
   ]
  },
  {
   "cell_type": "markdown",
   "id": "continent-prescription",
   "metadata": {},
   "source": [
    "## Model Name / Config"
   ]
  },
  {
   "cell_type": "code",
   "execution_count": 25,
   "id": "ruled-criticism",
   "metadata": {},
   "outputs": [],
   "source": [
    "model_cfg = \\\n",
    "\"vfnet_x101_64x4d_fpn_mdconv_c3-c5_mstrain_2x_coco\"\n",
    "\n",
    "cfg = Config.fromfile(os.path.join(\"custom_configs\", f\"{model_cfg}.py\"))"
   ]
  },
  {
   "cell_type": "code",
   "execution_count": 26,
   "id": "803dd9ab-3a69-4e56-8c15-6b0d6fef4dab",
   "metadata": {},
   "outputs": [
    {
     "data": {
      "text/plain": [
       "'\\n* 암것도 손 안 댔을 때\\n1333x800 (no TTA) 4927 / (TTA) 5075\\n\\n* instaboost & batch 4\\n1333x800 (no TTA) 5397 / (TTA) 5313\\n\\n* instaboost & batch 4 & mosaic aug\\n\\n'"
      ]
     },
     "execution_count": 26,
     "metadata": {},
     "output_type": "execute_result"
    }
   ],
   "source": [
    "\"\"\"\n",
    "* 암것도 손 안 댔을 때\n",
    "1333x800 (no TTA) 4927 / (TTA) 5075\n",
    "\n",
    "* instaboost & batch 4\n",
    "1333x800 (no TTA) 5397 / (TTA) 5313\n",
    "\n",
    "* instaboost & batch 4 & mosaic aug\n",
    "\n",
    "\"\"\"\n"
   ]
  },
  {
   "cell_type": "markdown",
   "id": "genuine-coaching",
   "metadata": {},
   "source": [
    "## Save config file in save dir."
   ]
  },
  {
   "cell_type": "code",
   "execution_count": 27,
   "id": "suited-pharmacy",
   "metadata": {},
   "outputs": [],
   "source": [
    "# Save configs.\n",
    "os.makedirs(cfg.work_dir, exist_ok=True)\n",
    "cfg.dump(os.path.join(cfg.work_dir, \"configs.py\"))"
   ]
  },
  {
   "cell_type": "markdown",
   "id": "experienced-discovery",
   "metadata": {},
   "source": [
    "## Build and Training"
   ]
  },
  {
   "cell_type": "code",
   "execution_count": 23,
   "id": "cooked-commitment",
   "metadata": {
    "tags": []
   },
   "outputs": [
    {
     "name": "stderr",
     "output_type": "stream",
     "text": [
      "2021-05-19 07:34:13,895 - mmdet - INFO - load model from: open-mmlab://resnext101_64x4d\n",
      "2021-05-19 07:34:13,896 - mmdet - INFO - Use load_from_openmmlab loader\n",
      "2021-05-19 07:34:14,111 - mmdet - WARNING - The model and loaded state dict do not match exactly\n",
      "\n",
      "missing keys in source state_dict: layer2.0.conv2.conv_offset.weight, layer2.0.conv2.conv_offset.bias, layer2.1.conv2.conv_offset.weight, layer2.1.conv2.conv_offset.bias, layer2.2.conv2.conv_offset.weight, layer2.2.conv2.conv_offset.bias, layer2.3.conv2.conv_offset.weight, layer2.3.conv2.conv_offset.bias, layer3.0.conv2.conv_offset.weight, layer3.0.conv2.conv_offset.bias, layer3.1.conv2.conv_offset.weight, layer3.1.conv2.conv_offset.bias, layer3.2.conv2.conv_offset.weight, layer3.2.conv2.conv_offset.bias, layer3.3.conv2.conv_offset.weight, layer3.3.conv2.conv_offset.bias, layer3.4.conv2.conv_offset.weight, layer3.4.conv2.conv_offset.bias, layer3.5.conv2.conv_offset.weight, layer3.5.conv2.conv_offset.bias, layer3.6.conv2.conv_offset.weight, layer3.6.conv2.conv_offset.bias, layer3.7.conv2.conv_offset.weight, layer3.7.conv2.conv_offset.bias, layer3.8.conv2.conv_offset.weight, layer3.8.conv2.conv_offset.bias, layer3.9.conv2.conv_offset.weight, layer3.9.conv2.conv_offset.bias, layer3.10.conv2.conv_offset.weight, layer3.10.conv2.conv_offset.bias, layer3.11.conv2.conv_offset.weight, layer3.11.conv2.conv_offset.bias, layer3.12.conv2.conv_offset.weight, layer3.12.conv2.conv_offset.bias, layer3.13.conv2.conv_offset.weight, layer3.13.conv2.conv_offset.bias, layer3.14.conv2.conv_offset.weight, layer3.14.conv2.conv_offset.bias, layer3.15.conv2.conv_offset.weight, layer3.15.conv2.conv_offset.bias, layer3.16.conv2.conv_offset.weight, layer3.16.conv2.conv_offset.bias, layer3.17.conv2.conv_offset.weight, layer3.17.conv2.conv_offset.bias, layer3.18.conv2.conv_offset.weight, layer3.18.conv2.conv_offset.bias, layer3.19.conv2.conv_offset.weight, layer3.19.conv2.conv_offset.bias, layer3.20.conv2.conv_offset.weight, layer3.20.conv2.conv_offset.bias, layer3.21.conv2.conv_offset.weight, layer3.21.conv2.conv_offset.bias, layer3.22.conv2.conv_offset.weight, layer3.22.conv2.conv_offset.bias, layer4.0.conv2.conv_offset.weight, layer4.0.conv2.conv_offset.bias, layer4.1.conv2.conv_offset.weight, layer4.1.conv2.conv_offset.bias, layer4.2.conv2.conv_offset.weight, layer4.2.conv2.conv_offset.bias\n",
      "\n"
     ]
    },
    {
     "name": "stdout",
     "output_type": "stream",
     "text": [
      "loading annotations into memory...\n",
      "Done (t=5.13s)\n",
      "creating index...\n",
      "index created!\n",
      "loading annotations into memory...\n"
     ]
    },
    {
     "name": "stderr",
     "output_type": "stream",
     "text": [
      "2021-05-19 07:34:20,468 - mmdet - INFO - load checkpoint from /opt/ml/code/mmdetection_trash/pretrained/vfnet_x101_64x4d_fpn_mdconv_c3-c5_mstrain_2x_coco.pth\n",
      "2021-05-19 07:34:20,469 - mmdet - INFO - Use load_from_local loader\n"
     ]
    },
    {
     "name": "stdout",
     "output_type": "stream",
     "text": [
      "Done (t=0.89s)\n",
      "creating index...\n",
      "index created!\n"
     ]
    },
    {
     "name": "stderr",
     "output_type": "stream",
     "text": [
      "2021-05-19 07:34:20,801 - mmdet - WARNING - The model and loaded state dict do not match exactly\n",
      "\n",
      "size mismatch for bbox_head.vfnet_cls.weight: copying a param with shape torch.Size([80, 256, 3, 3]) from checkpoint, the shape in current model is torch.Size([11, 256, 3, 3]).\n",
      "size mismatch for bbox_head.vfnet_cls.bias: copying a param with shape torch.Size([80]) from checkpoint, the shape in current model is torch.Size([11]).\n",
      "2021-05-19 07:34:20,803 - mmdet - INFO - Start running, host: root@41d62218635d, work_dir: /opt/ml/code/mmdetection_trash/save_dir/vfnet_x101_64x4d_fpn_mdconv_c3-c5_mstrain_2x_coco\n",
      "2021-05-19 07:34:20,804 - mmdet - INFO - workflow: [('train', 1)], max: 24 epochs\n",
      "2021-05-19 07:36:22,808 - mmdet - INFO - Epoch [1][50/818]\tlr: 9.410e-04, eta: 13:16:19, time: 2.440, data_time: 0.082, memory: 16768, loss_cls: 2.2101, loss_bbox: 0.2691, loss_bbox_rf: 0.3491, loss: 2.8282\n",
      "2021-05-19 07:38:18,741 - mmdet - INFO - Epoch [1][100/818]\tlr: 1.391e-03, eta: 12:54:32, time: 2.319, data_time: 0.009, memory: 16768, loss_cls: 1.2966, loss_bbox: 0.2614, loss_bbox_rf: 0.3380, loss: 1.8960\n",
      "2021-05-19 07:40:16,566 - mmdet - INFO - Epoch [1][150/818]\tlr: 1.841e-03, eta: 12:50:05, time: 2.356, data_time: 0.009, memory: 16768, loss_cls: 1.1309, loss_bbox: 0.2421, loss_bbox_rf: 0.3121, loss: 1.6851\n",
      "2021-05-19 07:42:14,506 - mmdet - INFO - Epoch [1][200/818]\tlr: 2.291e-03, eta: 12:47:04, time: 2.359, data_time: 0.009, memory: 16768, loss_cls: 1.1477, loss_bbox: 0.2273, loss_bbox_rf: 0.2916, loss: 1.6665\n",
      "2021-05-19 07:44:07,510 - mmdet - INFO - Epoch [1][250/818]\tlr: 2.741e-03, eta: 12:38:05, time: 2.260, data_time: 0.008, memory: 16768, loss_cls: 1.1568, loss_bbox: 0.2328, loss_bbox_rf: 0.2982, loss: 1.6878\n",
      "2021-05-19 07:46:03,971 - mmdet - INFO - Epoch [1][300/818]\tlr: 3.191e-03, eta: 12:35:11, time: 2.329, data_time: 0.009, memory: 16768, loss_cls: 1.1247, loss_bbox: 0.2331, loss_bbox_rf: 0.2959, loss: 1.6537\n",
      "2021-05-19 07:48:02,852 - mmdet - INFO - Epoch [1][350/818]\tlr: 3.641e-03, eta: 12:34:47, time: 2.378, data_time: 0.009, memory: 16768, loss_cls: 1.1528, loss_bbox: 0.2486, loss_bbox_rf: 0.3128, loss: 1.7143\n",
      "2021-05-19 07:50:01,471 - mmdet - INFO - Epoch [1][400/818]\tlr: 4.091e-03, eta: 12:33:46, time: 2.372, data_time: 0.009, memory: 16768, loss_cls: 1.1394, loss_bbox: 0.2525, loss_bbox_rf: 0.3174, loss: 1.7093\n",
      "2021-05-19 07:51:56,901 - mmdet - INFO - Epoch [1][450/818]\tlr: 4.541e-03, eta: 12:30:17, time: 2.309, data_time: 0.009, memory: 16768, loss_cls: 1.0647, loss_bbox: 0.2665, loss_bbox_rf: 0.3379, loss: 1.6691\n",
      "2021-05-19 07:53:51,655 - mmdet - INFO - Epoch [1][500/818]\tlr: 4.991e-03, eta: 12:26:40, time: 2.295, data_time: 0.009, memory: 16768, loss_cls: 1.0619, loss_bbox: 0.2573, loss_bbox_rf: 0.3282, loss: 1.6475\n",
      "2021-05-19 07:55:45,499 - mmdet - INFO - Epoch [1][550/818]\tlr: 5.000e-03, eta: 12:22:51, time: 2.277, data_time: 0.009, memory: 16768, loss_cls: 1.1247, loss_bbox: 0.2601, loss_bbox_rf: 0.3328, loss: 1.7176\n",
      "2021-05-19 07:57:40,636 - mmdet - INFO - Epoch [1][600/818]\tlr: 5.000e-03, eta: 12:20:02, time: 2.303, data_time: 0.009, memory: 16768, loss_cls: 1.2338, loss_bbox: 0.2465, loss_bbox_rf: 0.3093, loss: 1.7895\n",
      "2021-05-19 07:59:38,085 - mmdet - INFO - Epoch [1][650/818]\tlr: 5.000e-03, eta: 12:18:28, time: 2.349, data_time: 0.009, memory: 16768, loss_cls: 1.1272, loss_bbox: 0.2676, loss_bbox_rf: 0.3393, loss: 1.7341\n",
      "2021-05-19 08:01:32,979 - mmdet - INFO - Epoch [1][700/818]\tlr: 5.000e-03, eta: 12:15:42, time: 2.298, data_time: 0.009, memory: 16768, loss_cls: 1.0737, loss_bbox: 0.2500, loss_bbox_rf: 0.3160, loss: 1.6398\n",
      "2021-05-19 08:03:30,362 - mmdet - INFO - Epoch [1][750/818]\tlr: 5.000e-03, eta: 12:14:06, time: 2.348, data_time: 0.009, memory: 16768, loss_cls: 1.0814, loss_bbox: 0.2441, loss_bbox_rf: 0.3091, loss: 1.6347\n",
      "2021-05-19 08:05:28,000 - mmdet - INFO - Epoch [1][800/818]\tlr: 5.000e-03, eta: 12:12:33, time: 2.353, data_time: 0.009, memory: 16768, loss_cls: 1.0333, loss_bbox: 0.2726, loss_bbox_rf: 0.3461, loss: 1.6520\n",
      "2021-05-19 08:06:09,430 - mmdet - INFO - Saving checkpoint at 1 epochs\n"
     ]
    },
    {
     "name": "stdout",
     "output_type": "stream",
     "text": [
      "[>>>>>>>>>>>>>>>>>>>>>>>>>>>>>>] 655/655, 7.8 task/s, elapsed: 84s, ETA:     0s"
     ]
    },
    {
     "name": "stderr",
     "output_type": "stream",
     "text": [
      "2021-05-19 08:07:36,949 - mmdet - INFO - Evaluating bbox...\n"
     ]
    },
    {
     "name": "stdout",
     "output_type": "stream",
     "text": [
      "Loading and preparing results...\n",
      "DONE (t=1.23s)\n",
      "creating index...\n",
      "index created!\n",
      "Running per image evaluation...\n",
      "Evaluate annotation type *bbox*\n",
      "DONE (t=7.33s).\n",
      "Accumulating evaluation results...\n"
     ]
    },
    {
     "name": "stderr",
     "output_type": "stream",
     "text": [
      "2021-05-19 08:07:47,354 - mmdet - INFO - Now best checkpoint is epoch_1.pth.Best bbox_mAP_50 is 0.2610\n",
      "2021-05-19 08:07:47,359 - mmdet - INFO - Epoch(val) [1][818]\tbbox_mAP: 0.1930, bbox_mAP_50: 0.2610, bbox_mAP_75: 0.2020, bbox_mAP_s: 0.0730, bbox_mAP_m: 0.2070, bbox_mAP_l: 0.3090, bbox_mAP_copypaste: 0.193 0.261 0.202 0.073 0.207 0.309\n"
     ]
    },
    {
     "name": "stdout",
     "output_type": "stream",
     "text": [
      "DONE (t=1.71s).\n",
      "Average Precision  (AP) @[ IoU=0.50:0.95 | area=   all | maxDets=100 ] = 0.193\n",
      "Average Precision  (AP) @[ IoU=0.50      | area=   all | maxDets=1000 ] = 0.261\n",
      "Average Precision  (AP) @[ IoU=0.75      | area=   all | maxDets=1000 ] = 0.202\n",
      "Average Precision  (AP) @[ IoU=0.50:0.95 | area= small | maxDets=1000 ] = 0.073\n",
      "Average Precision  (AP) @[ IoU=0.50:0.95 | area=medium | maxDets=1000 ] = 0.207\n",
      "Average Precision  (AP) @[ IoU=0.50:0.95 | area= large | maxDets=1000 ] = 0.309\n",
      "Average Recall     (AR) @[ IoU=0.50:0.95 | area=   all | maxDets=100 ] = 0.450\n",
      "Average Recall     (AR) @[ IoU=0.50:0.95 | area=   all | maxDets=300 ] = 0.450\n",
      "Average Recall     (AR) @[ IoU=0.50:0.95 | area=   all | maxDets=1000 ] = 0.450\n",
      "Average Recall     (AR) @[ IoU=0.50:0.95 | area= small | maxDets=1000 ] = 0.214\n",
      "Average Recall     (AR) @[ IoU=0.50:0.95 | area=medium | maxDets=1000 ] = 0.433\n",
      "Average Recall     (AR) @[ IoU=0.50:0.95 | area= large | maxDets=1000 ] = 0.790\n"
     ]
    },
    {
     "name": "stderr",
     "output_type": "stream",
     "text": [
      "2021-05-19 08:09:49,051 - mmdet - INFO - Epoch [2][50/818]\tlr: 5.000e-03, eta: 11:56:34, time: 2.434, data_time: 0.100, memory: 16768, loss_cls: 1.0152, loss_bbox: 0.2472, loss_bbox_rf: 0.3122, loss: 1.5746\n",
      "2021-05-19 08:11:43,608 - mmdet - INFO - Epoch [2][100/818]\tlr: 5.000e-03, eta: 11:54:39, time: 2.291, data_time: 0.009, memory: 16768, loss_cls: 1.0563, loss_bbox: 0.2545, loss_bbox_rf: 0.3215, loss: 1.6322\n",
      "2021-05-19 08:13:40,624 - mmdet - INFO - Epoch [2][150/818]\tlr: 5.000e-03, eta: 11:53:32, time: 2.340, data_time: 0.009, memory: 16768, loss_cls: 1.0316, loss_bbox: 0.2600, loss_bbox_rf: 0.3287, loss: 1.6203\n",
      "2021-05-19 08:15:34,493 - mmdet - INFO - Epoch [2][200/818]\tlr: 5.000e-03, eta: 11:51:22, time: 2.277, data_time: 0.009, memory: 16768, loss_cls: 1.0943, loss_bbox: 0.2494, loss_bbox_rf: 0.3086, loss: 1.6523\n",
      "2021-05-19 08:17:34,554 - mmdet - INFO - Epoch [2][250/818]\tlr: 5.000e-03, eta: 11:51:01, time: 2.401, data_time: 0.010, memory: 16768, loss_cls: 1.0133, loss_bbox: 0.2504, loss_bbox_rf: 0.3112, loss: 1.5750\n",
      "2021-05-19 08:19:30,526 - mmdet - INFO - Epoch [2][300/818]\tlr: 5.000e-03, eta: 11:49:24, time: 2.319, data_time: 0.009, memory: 16768, loss_cls: 0.9830, loss_bbox: 0.2453, loss_bbox_rf: 0.3105, loss: 1.5388\n",
      "2021-05-19 08:21:23,661 - mmdet - INFO - Epoch [2][350/818]\tlr: 5.000e-03, eta: 11:47:00, time: 2.263, data_time: 0.009, memory: 16768, loss_cls: 1.0498, loss_bbox: 0.2335, loss_bbox_rf: 0.2938, loss: 1.5770\n",
      "2021-05-19 08:23:19,878 - mmdet - INFO - Epoch [2][400/818]\tlr: 5.000e-03, eta: 11:45:26, time: 2.324, data_time: 0.010, memory: 16768, loss_cls: 1.1148, loss_bbox: 0.2474, loss_bbox_rf: 0.3105, loss: 1.6727\n",
      "2021-05-19 08:25:18,027 - mmdet - INFO - Epoch [2][450/818]\tlr: 5.000e-03, eta: 11:44:17, time: 2.363, data_time: 0.009, memory: 16768, loss_cls: 1.0117, loss_bbox: 0.2497, loss_bbox_rf: 0.3109, loss: 1.5723\n",
      "2021-05-19 08:27:17,705 - mmdet - INFO - Epoch [2][500/818]\tlr: 5.000e-03, eta: 11:43:26, time: 2.394, data_time: 0.009, memory: 16768, loss_cls: 1.0453, loss_bbox: 0.2249, loss_bbox_rf: 0.2814, loss: 1.5516\n",
      "2021-05-19 08:29:10,647 - mmdet - INFO - Epoch [2][550/818]\tlr: 5.000e-03, eta: 11:41:01, time: 2.259, data_time: 0.009, memory: 16768, loss_cls: 1.0250, loss_bbox: 0.2360, loss_bbox_rf: 0.2984, loss: 1.5594\n",
      "2021-05-19 08:31:08,996 - mmdet - INFO - Epoch [2][600/818]\tlr: 5.000e-03, eta: 11:39:47, time: 2.367, data_time: 0.009, memory: 16768, loss_cls: 1.0643, loss_bbox: 0.2360, loss_bbox_rf: 0.2938, loss: 1.5941\n",
      "2021-05-19 08:33:06,338 - mmdet - INFO - Epoch [2][650/818]\tlr: 5.000e-03, eta: 11:38:17, time: 2.347, data_time: 0.010, memory: 16768, loss_cls: 1.0448, loss_bbox: 0.2388, loss_bbox_rf: 0.3017, loss: 1.5853\n",
      "2021-05-19 08:35:02,483 - mmdet - INFO - Epoch [2][700/818]\tlr: 5.000e-03, eta: 11:36:31, time: 2.323, data_time: 0.009, memory: 16768, loss_cls: 1.0107, loss_bbox: 0.2642, loss_bbox_rf: 0.3328, loss: 1.6076\n",
      "2021-05-19 08:36:58,565 - mmdet - INFO - Epoch [2][750/818]\tlr: 5.000e-03, eta: 11:34:44, time: 2.322, data_time: 0.009, memory: 16768, loss_cls: 0.9941, loss_bbox: 0.2468, loss_bbox_rf: 0.3126, loss: 1.5535\n",
      "2021-05-19 08:38:55,168 - mmdet - INFO - Epoch [2][800/818]\tlr: 5.000e-03, eta: 11:33:03, time: 2.332, data_time: 0.009, memory: 16768, loss_cls: 0.9530, loss_bbox: 0.2356, loss_bbox_rf: 0.2980, loss: 1.4866\n",
      "2021-05-19 08:39:38,663 - mmdet - INFO - Saving checkpoint at 2 epochs\n"
     ]
    },
    {
     "name": "stdout",
     "output_type": "stream",
     "text": [
      "[>>>>>>>>>>>>>>>>>>>>>>>>>>>>>>] 655/655, 7.9 task/s, elapsed: 83s, ETA:     0s"
     ]
    },
    {
     "name": "stderr",
     "output_type": "stream",
     "text": [
      "2021-05-19 08:41:03,899 - mmdet - INFO - Evaluating bbox...\n"
     ]
    },
    {
     "name": "stdout",
     "output_type": "stream",
     "text": [
      "Loading and preparing results...\n",
      "DONE (t=2.07s)\n",
      "creating index...\n",
      "index created!\n",
      "Running per image evaluation...\n",
      "Evaluate annotation type *bbox*\n",
      "DONE (t=5.61s).\n",
      "Accumulating evaluation results...\n"
     ]
    },
    {
     "name": "stderr",
     "output_type": "stream",
     "text": [
      "2021-05-19 08:41:13,249 - mmdet - INFO - Now best checkpoint is epoch_2.pth.Best bbox_mAP_50 is 0.2920\n",
      "2021-05-19 08:41:13,254 - mmdet - INFO - Epoch(val) [2][818]\tbbox_mAP: 0.2220, bbox_mAP_50: 0.2920, bbox_mAP_75: 0.2340, bbox_mAP_s: 0.0860, bbox_mAP_m: 0.2740, bbox_mAP_l: 0.3670, bbox_mAP_copypaste: 0.222 0.292 0.234 0.086 0.274 0.367\n"
     ]
    },
    {
     "name": "stdout",
     "output_type": "stream",
     "text": [
      "DONE (t=1.55s).\n",
      "Average Precision  (AP) @[ IoU=0.50:0.95 | area=   all | maxDets=100 ] = 0.222\n",
      "Average Precision  (AP) @[ IoU=0.50      | area=   all | maxDets=1000 ] = 0.292\n",
      "Average Precision  (AP) @[ IoU=0.75      | area=   all | maxDets=1000 ] = 0.234\n",
      "Average Precision  (AP) @[ IoU=0.50:0.95 | area= small | maxDets=1000 ] = 0.086\n",
      "Average Precision  (AP) @[ IoU=0.50:0.95 | area=medium | maxDets=1000 ] = 0.274\n",
      "Average Precision  (AP) @[ IoU=0.50:0.95 | area= large | maxDets=1000 ] = 0.367\n",
      "Average Recall     (AR) @[ IoU=0.50:0.95 | area=   all | maxDets=100 ] = 0.487\n",
      "Average Recall     (AR) @[ IoU=0.50:0.95 | area=   all | maxDets=300 ] = 0.487\n",
      "Average Recall     (AR) @[ IoU=0.50:0.95 | area=   all | maxDets=1000 ] = 0.487\n",
      "Average Recall     (AR) @[ IoU=0.50:0.95 | area= small | maxDets=1000 ] = 0.195\n",
      "Average Recall     (AR) @[ IoU=0.50:0.95 | area=medium | maxDets=1000 ] = 0.461\n",
      "Average Recall     (AR) @[ IoU=0.50:0.95 | area= large | maxDets=1000 ] = 0.797\n"
     ]
    },
    {
     "name": "stderr",
     "output_type": "stream",
     "text": [
      "2021-05-19 08:43:13,023 - mmdet - INFO - Epoch [3][50/818]\tlr: 5.000e-03, eta: 11:23:50, time: 2.395, data_time: 0.073, memory: 16768, loss_cls: 1.0518, loss_bbox: 0.2385, loss_bbox_rf: 0.2982, loss: 1.5885\n",
      "2021-05-19 08:45:10,718 - mmdet - INFO - Epoch [3][100/818]\tlr: 5.000e-03, eta: 11:22:30, time: 2.354, data_time: 0.009, memory: 16768, loss_cls: 0.9408, loss_bbox: 0.2445, loss_bbox_rf: 0.3005, loss: 1.4858\n",
      "2021-05-19 08:47:07,761 - mmdet - INFO - Epoch [3][150/818]\tlr: 5.000e-03, eta: 11:21:02, time: 2.341, data_time: 0.009, memory: 16768, loss_cls: 1.0631, loss_bbox: 0.2386, loss_bbox_rf: 0.2949, loss: 1.5966\n",
      "2021-05-19 08:49:03,814 - mmdet - INFO - Epoch [3][200/818]\tlr: 5.000e-03, eta: 11:19:23, time: 2.321, data_time: 0.009, memory: 16768, loss_cls: 1.0238, loss_bbox: 0.2449, loss_bbox_rf: 0.3058, loss: 1.5745\n",
      "2021-05-19 08:50:59,991 - mmdet - INFO - Epoch [3][250/818]\tlr: 5.000e-03, eta: 11:17:44, time: 2.324, data_time: 0.009, memory: 16768, loss_cls: 1.0017, loss_bbox: 0.2431, loss_bbox_rf: 0.3060, loss: 1.5507\n",
      "2021-05-19 08:52:52,643 - mmdet - INFO - Epoch [3][300/818]\tlr: 5.000e-03, eta: 11:15:31, time: 2.253, data_time: 0.009, memory: 16768, loss_cls: 0.9693, loss_bbox: 0.2408, loss_bbox_rf: 0.3051, loss: 1.5152\n",
      "2021-05-19 08:54:50,146 - mmdet - INFO - Epoch [3][350/818]\tlr: 5.000e-03, eta: 11:14:03, time: 2.350, data_time: 0.009, memory: 16768, loss_cls: 0.9584, loss_bbox: 0.2458, loss_bbox_rf: 0.3121, loss: 1.5163\n",
      "2021-05-19 08:56:48,073 - mmdet - INFO - Epoch [3][400/818]\tlr: 5.000e-03, eta: 11:12:38, time: 2.359, data_time: 0.009, memory: 16768, loss_cls: 1.0677, loss_bbox: 0.2448, loss_bbox_rf: 0.3100, loss: 1.6225\n",
      "2021-05-19 08:58:45,708 - mmdet - INFO - Epoch [3][450/818]\tlr: 5.000e-03, eta: 11:11:08, time: 2.353, data_time: 0.009, memory: 16768, loss_cls: 1.0326, loss_bbox: 0.2343, loss_bbox_rf: 0.2951, loss: 1.5620\n",
      "2021-05-19 09:00:41,692 - mmdet - INFO - Epoch [3][500/818]\tlr: 5.000e-03, eta: 11:09:23, time: 2.320, data_time: 0.009, memory: 16768, loss_cls: 1.0370, loss_bbox: 0.2314, loss_bbox_rf: 0.2879, loss: 1.5562\n",
      "2021-05-19 09:02:39,600 - mmdet - INFO - Epoch [3][550/818]\tlr: 5.000e-03, eta: 11:07:53, time: 2.358, data_time: 0.009, memory: 16768, loss_cls: 0.9589, loss_bbox: 0.2460, loss_bbox_rf: 0.3134, loss: 1.5184\n",
      "2021-05-19 09:04:33,350 - mmdet - INFO - Epoch [3][600/818]\tlr: 5.000e-03, eta: 11:05:50, time: 2.275, data_time: 0.009, memory: 16768, loss_cls: 0.9349, loss_bbox: 0.2229, loss_bbox_rf: 0.2777, loss: 1.4356\n",
      "2021-05-19 09:06:30,072 - mmdet - INFO - Epoch [3][650/818]\tlr: 5.000e-03, eta: 11:04:09, time: 2.334, data_time: 0.009, memory: 16768, loss_cls: 0.9799, loss_bbox: 0.2231, loss_bbox_rf: 0.2804, loss: 1.4833\n",
      "2021-05-19 09:08:26,699 - mmdet - INFO - Epoch [3][700/818]\tlr: 5.000e-03, eta: 11:02:28, time: 2.333, data_time: 0.009, memory: 16768, loss_cls: 1.0162, loss_bbox: 0.2393, loss_bbox_rf: 0.3001, loss: 1.5555\n",
      "2021-05-19 09:10:22,989 - mmdet - INFO - Epoch [3][750/818]\tlr: 5.000e-03, eta: 11:00:43, time: 2.326, data_time: 0.009, memory: 16768, loss_cls: 0.9514, loss_bbox: 0.2255, loss_bbox_rf: 0.2847, loss: 1.4617\n",
      "2021-05-19 09:12:18,505 - mmdet - INFO - Epoch [3][800/818]\tlr: 5.000e-03, eta: 10:58:52, time: 2.310, data_time: 0.009, memory: 16768, loss_cls: 0.9561, loss_bbox: 0.2419, loss_bbox_rf: 0.3047, loss: 1.5027\n",
      "2021-05-19 09:12:58,728 - mmdet - INFO - Saving checkpoint at 3 epochs\n"
     ]
    },
    {
     "name": "stdout",
     "output_type": "stream",
     "text": [
      "[>>>>>>>>>>>>>>>>>>>>>>>>>>>>>>] 655/655, 7.8 task/s, elapsed: 84s, ETA:     0s"
     ]
    },
    {
     "name": "stderr",
     "output_type": "stream",
     "text": [
      "2021-05-19 09:14:26,984 - mmdet - INFO - Evaluating bbox...\n"
     ]
    },
    {
     "name": "stdout",
     "output_type": "stream",
     "text": [
      "Loading and preparing results...\n",
      "DONE (t=1.18s)\n",
      "creating index...\n",
      "index created!\n",
      "Running per image evaluation...\n",
      "Evaluate annotation type *bbox*\n",
      "DONE (t=7.66s).\n",
      "Accumulating evaluation results...\n"
     ]
    },
    {
     "name": "stderr",
     "output_type": "stream",
     "text": [
      "2021-05-19 09:14:37,721 - mmdet - INFO - Now best checkpoint is epoch_3.pth.Best bbox_mAP_50 is 0.3640\n",
      "2021-05-19 09:14:37,726 - mmdet - INFO - Epoch(val) [3][818]\tbbox_mAP: 0.2890, bbox_mAP_50: 0.3640, bbox_mAP_75: 0.3050, bbox_mAP_s: 0.1070, bbox_mAP_m: 0.3020, bbox_mAP_l: 0.4890, bbox_mAP_copypaste: 0.289 0.364 0.305 0.107 0.302 0.489\n"
     ]
    },
    {
     "name": "stdout",
     "output_type": "stream",
     "text": [
      "DONE (t=1.76s).\n",
      "Average Precision  (AP) @[ IoU=0.50:0.95 | area=   all | maxDets=100 ] = 0.289\n",
      "Average Precision  (AP) @[ IoU=0.50      | area=   all | maxDets=1000 ] = 0.364\n",
      "Average Precision  (AP) @[ IoU=0.75      | area=   all | maxDets=1000 ] = 0.305\n",
      "Average Precision  (AP) @[ IoU=0.50:0.95 | area= small | maxDets=1000 ] = 0.107\n",
      "Average Precision  (AP) @[ IoU=0.50:0.95 | area=medium | maxDets=1000 ] = 0.302\n",
      "Average Precision  (AP) @[ IoU=0.50:0.95 | area= large | maxDets=1000 ] = 0.489\n",
      "Average Recall     (AR) @[ IoU=0.50:0.95 | area=   all | maxDets=100 ] = 0.533\n",
      "Average Recall     (AR) @[ IoU=0.50:0.95 | area=   all | maxDets=300 ] = 0.533\n",
      "Average Recall     (AR) @[ IoU=0.50:0.95 | area=   all | maxDets=1000 ] = 0.533\n",
      "Average Recall     (AR) @[ IoU=0.50:0.95 | area= small | maxDets=1000 ] = 0.254\n",
      "Average Recall     (AR) @[ IoU=0.50:0.95 | area=medium | maxDets=1000 ] = 0.507\n",
      "Average Recall     (AR) @[ IoU=0.50:0.95 | area= large | maxDets=1000 ] = 0.806\n"
     ]
    },
    {
     "name": "stderr",
     "output_type": "stream",
     "text": [
      "2021-05-19 09:16:39,100 - mmdet - INFO - Epoch [4][50/818]\tlr: 5.000e-03, eta: 10:52:16, time: 2.427, data_time: 0.094, memory: 16768, loss_cls: 1.0127, loss_bbox: 0.2116, loss_bbox_rf: 0.2663, loss: 1.4906\n",
      "2021-05-19 09:18:37,024 - mmdet - INFO - Epoch [4][100/818]\tlr: 5.000e-03, eta: 10:50:47, time: 2.358, data_time: 0.009, memory: 16768, loss_cls: 0.9484, loss_bbox: 0.2341, loss_bbox_rf: 0.2992, loss: 1.4816\n",
      "2021-05-19 09:20:35,723 - mmdet - INFO - Epoch [4][150/818]\tlr: 5.000e-03, eta: 10:49:21, time: 2.374, data_time: 0.009, memory: 16768, loss_cls: 0.9498, loss_bbox: 0.2402, loss_bbox_rf: 0.3019, loss: 1.4919\n",
      "2021-05-19 09:22:34,127 - mmdet - INFO - Epoch [4][200/818]\tlr: 5.000e-03, eta: 10:47:52, time: 2.368, data_time: 0.009, memory: 16768, loss_cls: 0.9761, loss_bbox: 0.2264, loss_bbox_rf: 0.2835, loss: 1.4859\n",
      "2021-05-19 09:24:30,038 - mmdet - INFO - Epoch [4][250/818]\tlr: 5.000e-03, eta: 10:46:07, time: 2.318, data_time: 0.009, memory: 16768, loss_cls: 0.9534, loss_bbox: 0.2299, loss_bbox_rf: 0.2903, loss: 1.4735\n",
      "2021-05-19 09:26:25,825 - mmdet - INFO - Epoch [4][300/818]\tlr: 5.000e-03, eta: 10:44:20, time: 2.316, data_time: 0.009, memory: 16768, loss_cls: 0.9653, loss_bbox: 0.2300, loss_bbox_rf: 0.2884, loss: 1.4837\n",
      "2021-05-19 09:28:20,146 - mmdet - INFO - Epoch [4][350/818]\tlr: 5.000e-03, eta: 10:42:24, time: 2.286, data_time: 0.009, memory: 16768, loss_cls: 0.9091, loss_bbox: 0.2417, loss_bbox_rf: 0.3047, loss: 1.4555\n",
      "2021-05-19 09:30:17,144 - mmdet - INFO - Epoch [4][400/818]\tlr: 5.000e-03, eta: 10:40:44, time: 2.340, data_time: 0.009, memory: 16768, loss_cls: 0.9304, loss_bbox: 0.2391, loss_bbox_rf: 0.3006, loss: 1.4701\n",
      "2021-05-19 09:32:12,882 - mmdet - INFO - Epoch [4][450/818]\tlr: 5.000e-03, eta: 10:38:56, time: 2.315, data_time: 0.009, memory: 16768, loss_cls: 0.9438, loss_bbox: 0.2413, loss_bbox_rf: 0.3037, loss: 1.4888\n",
      "2021-05-19 09:34:08,118 - mmdet - INFO - Epoch [4][500/818]\tlr: 5.000e-03, eta: 10:37:05, time: 2.305, data_time: 0.009, memory: 16768, loss_cls: 0.9372, loss_bbox: 0.2346, loss_bbox_rf: 0.2914, loss: 1.4632\n",
      "2021-05-19 09:36:02,521 - mmdet - INFO - Epoch [4][550/818]\tlr: 5.000e-03, eta: 10:35:10, time: 2.288, data_time: 0.009, memory: 16768, loss_cls: 0.9268, loss_bbox: 0.2302, loss_bbox_rf: 0.2894, loss: 1.4464\n",
      "2021-05-19 09:37:58,030 - mmdet - INFO - Epoch [4][600/818]\tlr: 5.000e-03, eta: 10:33:20, time: 2.310, data_time: 0.009, memory: 16768, loss_cls: 0.9571, loss_bbox: 0.2347, loss_bbox_rf: 0.2940, loss: 1.4857\n",
      "2021-05-19 09:39:54,370 - mmdet - INFO - Epoch [4][650/818]\tlr: 5.000e-03, eta: 10:31:35, time: 2.327, data_time: 0.009, memory: 16768, loss_cls: 0.9570, loss_bbox: 0.2227, loss_bbox_rf: 0.2802, loss: 1.4599\n",
      "2021-05-19 09:41:49,058 - mmdet - INFO - Epoch [4][700/818]\tlr: 5.000e-03, eta: 10:29:40, time: 2.294, data_time: 0.009, memory: 16768, loss_cls: 0.9339, loss_bbox: 0.2099, loss_bbox_rf: 0.2634, loss: 1.4072\n",
      "2021-05-19 09:43:48,674 - mmdet - INFO - Epoch [4][750/818]\tlr: 5.000e-03, eta: 10:28:11, time: 2.392, data_time: 0.009, memory: 16768, loss_cls: 0.9259, loss_bbox: 0.2297, loss_bbox_rf: 0.2882, loss: 1.4438\n",
      "2021-05-19 09:45:46,400 - mmdet - INFO - Epoch [4][800/818]\tlr: 5.000e-03, eta: 10:26:31, time: 2.354, data_time: 0.009, memory: 16768, loss_cls: 0.9288, loss_bbox: 0.2417, loss_bbox_rf: 0.3060, loss: 1.4765\n",
      "2021-05-19 09:46:29,074 - mmdet - INFO - Saving checkpoint at 4 epochs\n"
     ]
    },
    {
     "name": "stdout",
     "output_type": "stream",
     "text": [
      "[>>>>>>>>>>>>>>>>>>>>>>>>>>>>>>] 655/655, 7.9 task/s, elapsed: 83s, ETA:     0s"
     ]
    },
    {
     "name": "stderr",
     "output_type": "stream",
     "text": [
      "2021-05-19 09:47:55,263 - mmdet - INFO - Evaluating bbox...\n"
     ]
    },
    {
     "name": "stdout",
     "output_type": "stream",
     "text": [
      "Loading and preparing results...\n",
      "DONE (t=2.19s)\n",
      "creating index...\n",
      "index created!\n",
      "Running per image evaluation...\n",
      "Evaluate annotation type *bbox*\n",
      "DONE (t=6.40s).\n",
      "Accumulating evaluation results...\n"
     ]
    },
    {
     "name": "stderr",
     "output_type": "stream",
     "text": [
      "2021-05-19 09:48:05,885 - mmdet - INFO - Now best checkpoint is epoch_4.pth.Best bbox_mAP_50 is 0.3860\n",
      "2021-05-19 09:48:05,892 - mmdet - INFO - Epoch(val) [4][818]\tbbox_mAP: 0.3040, bbox_mAP_50: 0.3860, bbox_mAP_75: 0.3250, bbox_mAP_s: 0.1190, bbox_mAP_m: 0.3110, bbox_mAP_l: 0.4860, bbox_mAP_copypaste: 0.304 0.386 0.325 0.119 0.311 0.486\n"
     ]
    },
    {
     "name": "stdout",
     "output_type": "stream",
     "text": [
      "DONE (t=1.89s).\n",
      "Average Precision  (AP) @[ IoU=0.50:0.95 | area=   all | maxDets=100 ] = 0.304\n",
      "Average Precision  (AP) @[ IoU=0.50      | area=   all | maxDets=1000 ] = 0.386\n",
      "Average Precision  (AP) @[ IoU=0.75      | area=   all | maxDets=1000 ] = 0.325\n",
      "Average Precision  (AP) @[ IoU=0.50:0.95 | area= small | maxDets=1000 ] = 0.119\n",
      "Average Precision  (AP) @[ IoU=0.50:0.95 | area=medium | maxDets=1000 ] = 0.311\n",
      "Average Precision  (AP) @[ IoU=0.50:0.95 | area= large | maxDets=1000 ] = 0.486\n",
      "Average Recall     (AR) @[ IoU=0.50:0.95 | area=   all | maxDets=100 ] = 0.526\n",
      "Average Recall     (AR) @[ IoU=0.50:0.95 | area=   all | maxDets=300 ] = 0.526\n",
      "Average Recall     (AR) @[ IoU=0.50:0.95 | area=   all | maxDets=1000 ] = 0.526\n",
      "Average Recall     (AR) @[ IoU=0.50:0.95 | area= small | maxDets=1000 ] = 0.282\n",
      "Average Recall     (AR) @[ IoU=0.50:0.95 | area=medium | maxDets=1000 ] = 0.520\n",
      "Average Recall     (AR) @[ IoU=0.50:0.95 | area= large | maxDets=1000 ] = 0.832\n"
     ]
    },
    {
     "name": "stderr",
     "output_type": "stream",
     "text": [
      "2021-05-19 09:50:08,994 - mmdet - INFO - Epoch [5][50/818]\tlr: 5.000e-03, eta: 10:21:13, time: 2.462, data_time: 0.094, memory: 16768, loss_cls: 0.9099, loss_bbox: 0.2201, loss_bbox_rf: 0.2775, loss: 1.4075\n",
      "2021-05-19 09:52:06,059 - mmdet - INFO - Epoch [5][100/818]\tlr: 5.000e-03, eta: 10:19:33, time: 2.341, data_time: 0.010, memory: 16768, loss_cls: 0.9480, loss_bbox: 0.2151, loss_bbox_rf: 0.2712, loss: 1.4343\n",
      "2021-05-19 09:54:03,129 - mmdet - INFO - Epoch [5][150/818]\tlr: 5.000e-03, eta: 10:17:51, time: 2.341, data_time: 0.009, memory: 16768, loss_cls: 0.9183, loss_bbox: 0.2424, loss_bbox_rf: 0.3010, loss: 1.4617\n",
      "2021-05-19 09:55:57,512 - mmdet - INFO - Epoch [5][200/818]\tlr: 5.000e-03, eta: 10:15:57, time: 2.288, data_time: 0.010, memory: 16768, loss_cls: 0.9434, loss_bbox: 0.2289, loss_bbox_rf: 0.2868, loss: 1.4592\n",
      "2021-05-19 09:57:54,861 - mmdet - INFO - Epoch [5][250/818]\tlr: 5.000e-03, eta: 10:14:17, time: 2.347, data_time: 0.009, memory: 16768, loss_cls: 0.9138, loss_bbox: 0.2208, loss_bbox_rf: 0.2772, loss: 1.4119\n",
      "2021-05-19 09:59:52,194 - mmdet - INFO - Epoch [5][300/818]\tlr: 5.000e-03, eta: 10:12:35, time: 2.347, data_time: 0.009, memory: 16768, loss_cls: 0.9034, loss_bbox: 0.2338, loss_bbox_rf: 0.2959, loss: 1.4331\n",
      "2021-05-19 10:01:50,817 - mmdet - INFO - Epoch [5][350/818]\tlr: 5.000e-03, eta: 10:10:59, time: 2.372, data_time: 0.009, memory: 16768, loss_cls: 0.8934, loss_bbox: 0.2174, loss_bbox_rf: 0.2709, loss: 1.3817\n",
      "2021-05-19 10:03:48,320 - mmdet - INFO - Epoch [5][400/818]\tlr: 5.000e-03, eta: 10:09:18, time: 2.350, data_time: 0.009, memory: 16768, loss_cls: 0.8867, loss_bbox: 0.2299, loss_bbox_rf: 0.2895, loss: 1.4061\n",
      "2021-05-19 10:05:42,958 - mmdet - INFO - Epoch [5][450/818]\tlr: 5.000e-03, eta: 10:07:24, time: 2.293, data_time: 0.009, memory: 16768, loss_cls: 0.8939, loss_bbox: 0.2122, loss_bbox_rf: 0.2662, loss: 1.3723\n",
      "2021-05-19 10:07:39,813 - mmdet - INFO - Epoch [5][500/818]\tlr: 5.000e-03, eta: 10:05:39, time: 2.337, data_time: 0.009, memory: 16768, loss_cls: 0.9487, loss_bbox: 0.2365, loss_bbox_rf: 0.2969, loss: 1.4821\n",
      "2021-05-19 10:09:39,188 - mmdet - INFO - Epoch [5][550/818]\tlr: 5.000e-03, eta: 10:04:05, time: 2.387, data_time: 0.009, memory: 16768, loss_cls: 0.9254, loss_bbox: 0.2354, loss_bbox_rf: 0.2950, loss: 1.4558\n",
      "2021-05-19 10:11:34,789 - mmdet - INFO - Epoch [5][600/818]\tlr: 5.000e-03, eta: 10:02:14, time: 2.312, data_time: 0.009, memory: 16768, loss_cls: 0.8899, loss_bbox: 0.2589, loss_bbox_rf: 0.3267, loss: 1.4756\n",
      "2021-05-19 10:13:32,026 - mmdet - INFO - Epoch [5][650/818]\tlr: 5.000e-03, eta: 10:00:30, time: 2.345, data_time: 0.009, memory: 16768, loss_cls: 0.9494, loss_bbox: 0.2448, loss_bbox_rf: 0.3042, loss: 1.4984\n",
      "2021-05-19 10:15:28,907 - mmdet - INFO - Epoch [5][700/818]\tlr: 5.000e-03, eta: 9:58:44, time: 2.338, data_time: 0.009, memory: 16768, loss_cls: 0.9256, loss_bbox: 0.2222, loss_bbox_rf: 0.2800, loss: 1.4279\n",
      "2021-05-19 10:17:29,032 - mmdet - INFO - Epoch [5][750/818]\tlr: 5.000e-03, eta: 9:57:10, time: 2.402, data_time: 0.009, memory: 16768, loss_cls: 0.9113, loss_bbox: 0.2238, loss_bbox_rf: 0.2806, loss: 1.4158\n",
      "2021-05-19 10:19:25,251 - mmdet - INFO - Epoch [5][800/818]\tlr: 5.000e-03, eta: 9:55:21, time: 2.324, data_time: 0.009, memory: 16768, loss_cls: 0.9308, loss_bbox: 0.2154, loss_bbox_rf: 0.2664, loss: 1.4126\n",
      "2021-05-19 10:20:06,169 - mmdet - INFO - Saving checkpoint at 5 epochs\n"
     ]
    },
    {
     "name": "stdout",
     "output_type": "stream",
     "text": [
      "[>>>>>>>>>>>>>>>>>>>>>>>>>>>>>>] 655/655, 7.9 task/s, elapsed: 83s, ETA:     0s"
     ]
    },
    {
     "name": "stderr",
     "output_type": "stream",
     "text": [
      "2021-05-19 10:21:32,969 - mmdet - INFO - Evaluating bbox...\n"
     ]
    },
    {
     "name": "stdout",
     "output_type": "stream",
     "text": [
      "Loading and preparing results...\n",
      "DONE (t=1.16s)\n",
      "creating index...\n",
      "index created!\n",
      "Running per image evaluation...\n",
      "Evaluate annotation type *bbox*\n",
      "DONE (t=7.40s).\n",
      "Accumulating evaluation results...\n"
     ]
    },
    {
     "name": "stderr",
     "output_type": "stream",
     "text": [
      "2021-05-19 10:21:43,307 - mmdet - INFO - Now best checkpoint is epoch_5.pth.Best bbox_mAP_50 is 0.4000\n",
      "2021-05-19 10:21:43,314 - mmdet - INFO - Epoch(val) [5][818]\tbbox_mAP: 0.3140, bbox_mAP_50: 0.4000, bbox_mAP_75: 0.3340, bbox_mAP_s: 0.1210, bbox_mAP_m: 0.3530, bbox_mAP_l: 0.5170, bbox_mAP_copypaste: 0.314 0.400 0.334 0.121 0.353 0.517\n"
     ]
    },
    {
     "name": "stdout",
     "output_type": "stream",
     "text": [
      "DONE (t=1.65s).\n",
      "Average Precision  (AP) @[ IoU=0.50:0.95 | area=   all | maxDets=100 ] = 0.314\n",
      "Average Precision  (AP) @[ IoU=0.50      | area=   all | maxDets=1000 ] = 0.400\n",
      "Average Precision  (AP) @[ IoU=0.75      | area=   all | maxDets=1000 ] = 0.334\n",
      "Average Precision  (AP) @[ IoU=0.50:0.95 | area= small | maxDets=1000 ] = 0.121\n",
      "Average Precision  (AP) @[ IoU=0.50:0.95 | area=medium | maxDets=1000 ] = 0.353\n",
      "Average Precision  (AP) @[ IoU=0.50:0.95 | area= large | maxDets=1000 ] = 0.517\n",
      "Average Recall     (AR) @[ IoU=0.50:0.95 | area=   all | maxDets=100 ] = 0.562\n",
      "Average Recall     (AR) @[ IoU=0.50:0.95 | area=   all | maxDets=300 ] = 0.562\n",
      "Average Recall     (AR) @[ IoU=0.50:0.95 | area=   all | maxDets=1000 ] = 0.562\n",
      "Average Recall     (AR) @[ IoU=0.50:0.95 | area= small | maxDets=1000 ] = 0.265\n",
      "Average Recall     (AR) @[ IoU=0.50:0.95 | area=medium | maxDets=1000 ] = 0.560\n",
      "Average Recall     (AR) @[ IoU=0.50:0.95 | area= large | maxDets=1000 ] = 0.809\n"
     ]
    },
    {
     "name": "stderr",
     "output_type": "stream",
     "text": [
      "2021-05-19 10:23:45,487 - mmdet - INFO - Epoch [6][50/818]\tlr: 5.000e-03, eta: 9:50:38, time: 2.443, data_time: 0.078, memory: 16768, loss_cls: 0.9339, loss_bbox: 0.2215, loss_bbox_rf: 0.2749, loss: 1.4303\n",
      "2021-05-19 10:25:45,685 - mmdet - INFO - Epoch [6][100/818]\tlr: 5.000e-03, eta: 9:49:05, time: 2.404, data_time: 0.010, memory: 16768, loss_cls: 0.9098, loss_bbox: 0.2294, loss_bbox_rf: 0.2870, loss: 1.4263\n",
      "2021-05-19 10:27:41,751 - mmdet - INFO - Epoch [6][150/818]\tlr: 5.000e-03, eta: 9:47:16, time: 2.321, data_time: 0.009, memory: 16768, loss_cls: 0.8766, loss_bbox: 0.2388, loss_bbox_rf: 0.3023, loss: 1.4177\n",
      "2021-05-19 10:29:37,098 - mmdet - INFO - Epoch [6][200/818]\tlr: 5.000e-03, eta: 9:45:25, time: 2.307, data_time: 0.009, memory: 16768, loss_cls: 0.8694, loss_bbox: 0.2248, loss_bbox_rf: 0.2809, loss: 1.3751\n",
      "2021-05-19 10:31:32,599 - mmdet - INFO - Epoch [6][250/818]\tlr: 5.000e-03, eta: 9:43:34, time: 2.310, data_time: 0.009, memory: 16768, loss_cls: 0.9030, loss_bbox: 0.2143, loss_bbox_rf: 0.2690, loss: 1.3863\n",
      "2021-05-19 10:33:29,966 - mmdet - INFO - Epoch [6][300/818]\tlr: 5.000e-03, eta: 9:41:50, time: 2.347, data_time: 0.009, memory: 16768, loss_cls: 0.8784, loss_bbox: 0.2105, loss_bbox_rf: 0.2673, loss: 1.3562\n",
      "2021-05-19 10:35:23,791 - mmdet - INFO - Epoch [6][350/818]\tlr: 5.000e-03, eta: 9:39:53, time: 2.276, data_time: 0.009, memory: 16768, loss_cls: 0.8944, loss_bbox: 0.2233, loss_bbox_rf: 0.2782, loss: 1.3959\n",
      "2021-05-19 10:37:21,059 - mmdet - INFO - Epoch [6][400/818]\tlr: 5.000e-03, eta: 9:38:07, time: 2.345, data_time: 0.009, memory: 16768, loss_cls: 0.8647, loss_bbox: 0.2114, loss_bbox_rf: 0.2573, loss: 1.3334\n",
      "2021-05-19 10:39:16,032 - mmdet - INFO - Epoch [6][450/818]\tlr: 5.000e-03, eta: 9:36:14, time: 2.299, data_time: 0.009, memory: 16768, loss_cls: 0.9136, loss_bbox: 0.2390, loss_bbox_rf: 0.3026, loss: 1.4551\n",
      "2021-05-19 10:41:11,785 - mmdet - INFO - Epoch [6][500/818]\tlr: 5.000e-03, eta: 9:34:24, time: 2.315, data_time: 0.009, memory: 16768, loss_cls: 0.9392, loss_bbox: 0.2294, loss_bbox_rf: 0.2928, loss: 1.4614\n",
      "2021-05-19 10:43:07,546 - mmdet - INFO - Epoch [6][550/818]\tlr: 5.000e-03, eta: 9:32:33, time: 2.315, data_time: 0.009, memory: 16768, loss_cls: 0.9108, loss_bbox: 0.2248, loss_bbox_rf: 0.2809, loss: 1.4164\n",
      "2021-05-19 10:45:01,486 - mmdet - INFO - Epoch [6][600/818]\tlr: 5.000e-03, eta: 9:30:36, time: 2.279, data_time: 0.009, memory: 16768, loss_cls: 0.9508, loss_bbox: 0.2182, loss_bbox_rf: 0.2736, loss: 1.4425\n",
      "2021-05-19 10:46:57,624 - mmdet - INFO - Epoch [6][650/818]\tlr: 5.000e-03, eta: 9:28:47, time: 2.323, data_time: 0.009, memory: 16768, loss_cls: 0.8841, loss_bbox: 0.2274, loss_bbox_rf: 0.2871, loss: 1.3986\n",
      "2021-05-19 10:48:53,477 - mmdet - INFO - Epoch [6][700/818]\tlr: 5.000e-03, eta: 9:26:56, time: 2.317, data_time: 0.009, memory: 16768, loss_cls: 0.8416, loss_bbox: 0.2357, loss_bbox_rf: 0.2959, loss: 1.3731\n",
      "2021-05-19 10:50:51,214 - mmdet - INFO - Epoch [6][750/818]\tlr: 5.000e-03, eta: 9:25:11, time: 2.355, data_time: 0.010, memory: 16768, loss_cls: 0.9114, loss_bbox: 0.2239, loss_bbox_rf: 0.2848, loss: 1.4201\n",
      "2021-05-19 10:52:49,222 - mmdet - INFO - Epoch [6][800/818]\tlr: 5.000e-03, eta: 9:23:27, time: 2.360, data_time: 0.010, memory: 16768, loss_cls: 0.8627, loss_bbox: 0.2280, loss_bbox_rf: 0.2862, loss: 1.3769\n",
      "2021-05-19 10:53:30,151 - mmdet - INFO - Saving checkpoint at 6 epochs\n"
     ]
    },
    {
     "name": "stdout",
     "output_type": "stream",
     "text": [
      "[>>>>>>>>>>>>>>>>>>>>>>>>>>>>>>] 655/655, 7.9 task/s, elapsed: 83s, ETA:     0s"
     ]
    },
    {
     "name": "stderr",
     "output_type": "stream",
     "text": [
      "2021-05-19 10:54:56,324 - mmdet - INFO - Evaluating bbox...\n"
     ]
    },
    {
     "name": "stdout",
     "output_type": "stream",
     "text": [
      "Loading and preparing results...\n",
      "DONE (t=2.07s)\n",
      "creating index...\n",
      "index created!\n",
      "Running per image evaluation...\n",
      "Evaluate annotation type *bbox*\n",
      "DONE (t=6.58s).\n",
      "Accumulating evaluation results...\n"
     ]
    },
    {
     "name": "stderr",
     "output_type": "stream",
     "text": [
      "2021-05-19 10:55:06,741 - mmdet - INFO - Now best checkpoint is epoch_6.pth.Best bbox_mAP_50 is 0.5140\n",
      "2021-05-19 10:55:06,746 - mmdet - INFO - Epoch(val) [6][818]\tbbox_mAP: 0.4040, bbox_mAP_50: 0.5140, bbox_mAP_75: 0.4320, bbox_mAP_s: 0.1470, bbox_mAP_m: 0.3960, bbox_mAP_l: 0.6550, bbox_mAP_copypaste: 0.404 0.514 0.432 0.147 0.396 0.655\n"
     ]
    },
    {
     "name": "stdout",
     "output_type": "stream",
     "text": [
      "DONE (t=1.64s).\n",
      "Average Precision  (AP) @[ IoU=0.50:0.95 | area=   all | maxDets=100 ] = 0.404\n",
      "Average Precision  (AP) @[ IoU=0.50      | area=   all | maxDets=1000 ] = 0.514\n",
      "Average Precision  (AP) @[ IoU=0.75      | area=   all | maxDets=1000 ] = 0.432\n",
      "Average Precision  (AP) @[ IoU=0.50:0.95 | area= small | maxDets=1000 ] = 0.147\n",
      "Average Precision  (AP) @[ IoU=0.50:0.95 | area=medium | maxDets=1000 ] = 0.396\n",
      "Average Precision  (AP) @[ IoU=0.50:0.95 | area= large | maxDets=1000 ] = 0.655\n",
      "Average Recall     (AR) @[ IoU=0.50:0.95 | area=   all | maxDets=100 ] = 0.582\n",
      "Average Recall     (AR) @[ IoU=0.50:0.95 | area=   all | maxDets=300 ] = 0.582\n",
      "Average Recall     (AR) @[ IoU=0.50:0.95 | area=   all | maxDets=1000 ] = 0.582\n",
      "Average Recall     (AR) @[ IoU=0.50:0.95 | area= small | maxDets=1000 ] = 0.288\n",
      "Average Recall     (AR) @[ IoU=0.50:0.95 | area=medium | maxDets=1000 ] = 0.576\n",
      "Average Recall     (AR) @[ IoU=0.50:0.95 | area= large | maxDets=1000 ] = 0.846\n"
     ]
    },
    {
     "name": "stderr",
     "output_type": "stream",
     "text": [
      "2021-05-19 10:57:08,298 - mmdet - INFO - Epoch [7][50/818]\tlr: 5.000e-03, eta: 9:19:09, time: 2.431, data_time: 0.122, memory: 16768, loss_cls: 0.8659, loss_bbox: 0.2211, loss_bbox_rf: 0.2759, loss: 1.3630\n",
      "2021-05-19 10:59:03,901 - mmdet - INFO - Epoch [7][100/818]\tlr: 5.000e-03, eta: 9:17:18, time: 2.312, data_time: 0.009, memory: 16768, loss_cls: 0.8854, loss_bbox: 0.2291, loss_bbox_rf: 0.2880, loss: 1.4024\n",
      "2021-05-19 11:01:02,172 - mmdet - INFO - Epoch [7][150/818]\tlr: 5.000e-03, eta: 9:15:35, time: 2.365, data_time: 0.009, memory: 16768, loss_cls: 0.8488, loss_bbox: 0.2339, loss_bbox_rf: 0.2949, loss: 1.3775\n",
      "2021-05-19 11:02:55,248 - mmdet - INFO - Epoch [7][200/818]\tlr: 5.000e-03, eta: 9:13:37, time: 2.261, data_time: 0.009, memory: 16768, loss_cls: 0.8556, loss_bbox: 0.2054, loss_bbox_rf: 0.2594, loss: 1.3203\n",
      "2021-05-19 11:04:53,232 - mmdet - INFO - Epoch [7][250/818]\tlr: 5.000e-03, eta: 9:11:53, time: 2.360, data_time: 0.009, memory: 16768, loss_cls: 0.8995, loss_bbox: 0.2403, loss_bbox_rf: 0.3033, loss: 1.4431\n",
      "2021-05-19 11:06:50,462 - mmdet - INFO - Epoch [7][300/818]\tlr: 5.000e-03, eta: 9:10:07, time: 2.345, data_time: 0.009, memory: 16768, loss_cls: 0.8943, loss_bbox: 0.2188, loss_bbox_rf: 0.2760, loss: 1.3891\n",
      "2021-05-19 11:08:47,732 - mmdet - INFO - Epoch [7][350/818]\tlr: 5.000e-03, eta: 9:08:20, time: 2.345, data_time: 0.009, memory: 16768, loss_cls: 0.8689, loss_bbox: 0.2099, loss_bbox_rf: 0.2626, loss: 1.3414\n",
      "2021-05-19 11:10:44,514 - mmdet - INFO - Epoch [7][400/818]\tlr: 5.000e-03, eta: 9:06:32, time: 2.336, data_time: 0.009, memory: 16768, loss_cls: 0.8855, loss_bbox: 0.2171, loss_bbox_rf: 0.2708, loss: 1.3734\n",
      "2021-05-19 11:12:43,359 - mmdet - INFO - Epoch [7][450/818]\tlr: 5.000e-03, eta: 9:04:49, time: 2.377, data_time: 0.009, memory: 16768, loss_cls: 0.8806, loss_bbox: 0.2237, loss_bbox_rf: 0.2821, loss: 1.3864\n",
      "2021-05-19 11:14:38,830 - mmdet - INFO - Epoch [7][500/818]\tlr: 5.000e-03, eta: 9:02:57, time: 2.309, data_time: 0.009, memory: 16768, loss_cls: 0.9029, loss_bbox: 0.2072, loss_bbox_rf: 0.2609, loss: 1.3711\n",
      "2021-05-19 11:16:33,927 - mmdet - INFO - Epoch [7][550/818]\tlr: 5.000e-03, eta: 9:01:04, time: 2.302, data_time: 0.009, memory: 16768, loss_cls: 0.8627, loss_bbox: 0.2233, loss_bbox_rf: 0.2789, loss: 1.3648\n",
      "2021-05-19 11:18:25,207 - mmdet - INFO - Epoch [7][600/818]\tlr: 5.000e-03, eta: 8:59:01, time: 2.226, data_time: 0.009, memory: 16768, loss_cls: 0.8936, loss_bbox: 0.2332, loss_bbox_rf: 0.2911, loss: 1.4180\n",
      "2021-05-19 11:20:20,717 - mmdet - INFO - Epoch [7][650/818]\tlr: 5.000e-03, eta: 8:57:09, time: 2.310, data_time: 0.009, memory: 16768, loss_cls: 0.8880, loss_bbox: 0.2095, loss_bbox_rf: 0.2611, loss: 1.3586\n",
      "2021-05-19 11:22:15,589 - mmdet - INFO - Epoch [7][700/818]\tlr: 5.000e-03, eta: 8:55:16, time: 2.297, data_time: 0.009, memory: 16768, loss_cls: 0.8667, loss_bbox: 0.2197, loss_bbox_rf: 0.2747, loss: 1.3612\n",
      "2021-05-19 11:24:17,720 - mmdet - INFO - Epoch [7][750/818]\tlr: 5.000e-03, eta: 8:53:40, time: 2.443, data_time: 0.009, memory: 16768, loss_cls: 0.9318, loss_bbox: 0.2206, loss_bbox_rf: 0.2714, loss: 1.4238\n",
      "2021-05-19 11:26:15,688 - mmdet - INFO - Epoch [7][800/818]\tlr: 5.000e-03, eta: 8:51:54, time: 2.359, data_time: 0.009, memory: 16768, loss_cls: 0.8800, loss_bbox: 0.2271, loss_bbox_rf: 0.2856, loss: 1.3928\n",
      "2021-05-19 11:26:57,157 - mmdet - INFO - Saving checkpoint at 7 epochs\n"
     ]
    },
    {
     "name": "stdout",
     "output_type": "stream",
     "text": [
      "[>>>>>>>>>>>>>>>>>>>>>>>>>>>>>>] 655/655, 7.9 task/s, elapsed: 83s, ETA:     0s"
     ]
    },
    {
     "name": "stderr",
     "output_type": "stream",
     "text": [
      "2021-05-19 11:28:23,978 - mmdet - INFO - Evaluating bbox...\n"
     ]
    },
    {
     "name": "stdout",
     "output_type": "stream",
     "text": [
      "Loading and preparing results...\n",
      "DONE (t=1.23s)\n",
      "creating index...\n",
      "index created!\n",
      "Running per image evaluation...\n",
      "Evaluate annotation type *bbox*\n",
      "DONE (t=8.23s).\n",
      "Accumulating evaluation results...\n"
     ]
    },
    {
     "name": "stderr",
     "output_type": "stream",
     "text": [
      "2021-05-19 11:28:35,336 - mmdet - INFO - Now best checkpoint is epoch_7.pth.Best bbox_mAP_50 is 0.5280\n",
      "2021-05-19 11:28:35,343 - mmdet - INFO - Epoch(val) [7][818]\tbbox_mAP: 0.4190, bbox_mAP_50: 0.5280, bbox_mAP_75: 0.4440, bbox_mAP_s: 0.1710, bbox_mAP_m: 0.4250, bbox_mAP_l: 0.6800, bbox_mAP_copypaste: 0.419 0.528 0.444 0.171 0.425 0.680\n"
     ]
    },
    {
     "name": "stdout",
     "output_type": "stream",
     "text": [
      "DONE (t=1.76s).\n",
      "Average Precision  (AP) @[ IoU=0.50:0.95 | area=   all | maxDets=100 ] = 0.419\n",
      "Average Precision  (AP) @[ IoU=0.50      | area=   all | maxDets=1000 ] = 0.528\n",
      "Average Precision  (AP) @[ IoU=0.75      | area=   all | maxDets=1000 ] = 0.444\n",
      "Average Precision  (AP) @[ IoU=0.50:0.95 | area= small | maxDets=1000 ] = 0.171\n",
      "Average Precision  (AP) @[ IoU=0.50:0.95 | area=medium | maxDets=1000 ] = 0.425\n",
      "Average Precision  (AP) @[ IoU=0.50:0.95 | area= large | maxDets=1000 ] = 0.680\n",
      "Average Recall     (AR) @[ IoU=0.50:0.95 | area=   all | maxDets=100 ] = 0.591\n",
      "Average Recall     (AR) @[ IoU=0.50:0.95 | area=   all | maxDets=300 ] = 0.591\n",
      "Average Recall     (AR) @[ IoU=0.50:0.95 | area=   all | maxDets=1000 ] = 0.591\n",
      "Average Recall     (AR) @[ IoU=0.50:0.95 | area= small | maxDets=1000 ] = 0.299\n",
      "Average Recall     (AR) @[ IoU=0.50:0.95 | area=medium | maxDets=1000 ] = 0.617\n",
      "Average Recall     (AR) @[ IoU=0.50:0.95 | area= large | maxDets=1000 ] = 0.813\n"
     ]
    },
    {
     "name": "stderr",
     "output_type": "stream",
     "text": [
      "2021-05-19 11:30:38,723 - mmdet - INFO - Epoch [8][50/818]\tlr: 5.000e-03, eta: 8:48:00, time: 2.467, data_time: 0.085, memory: 16768, loss_cls: 0.8492, loss_bbox: 0.2136, loss_bbox_rf: 0.2688, loss: 1.3317\n",
      "2021-05-19 11:32:36,343 - mmdet - INFO - Epoch [8][100/818]\tlr: 5.000e-03, eta: 8:46:13, time: 2.352, data_time: 0.009, memory: 16768, loss_cls: 0.8237, loss_bbox: 0.2233, loss_bbox_rf: 0.2810, loss: 1.3280\n",
      "2021-05-19 11:34:32,952 - mmdet - INFO - Epoch [8][150/818]\tlr: 5.000e-03, eta: 8:44:24, time: 2.332, data_time: 0.009, memory: 16768, loss_cls: 0.8452, loss_bbox: 0.2243, loss_bbox_rf: 0.2810, loss: 1.3506\n",
      "2021-05-19 11:36:30,650 - mmdet - INFO - Epoch [8][200/818]\tlr: 5.000e-03, eta: 8:42:38, time: 2.354, data_time: 0.009, memory: 16768, loss_cls: 0.8459, loss_bbox: 0.2163, loss_bbox_rf: 0.2736, loss: 1.3359\n",
      "2021-05-19 11:38:23,682 - mmdet - INFO - Epoch [8][250/818]\tlr: 5.000e-03, eta: 8:40:40, time: 2.261, data_time: 0.009, memory: 16768, loss_cls: 0.8395, loss_bbox: 0.2262, loss_bbox_rf: 0.2858, loss: 1.3515\n",
      "2021-05-19 11:40:18,570 - mmdet - INFO - Epoch [8][300/818]\tlr: 5.000e-03, eta: 8:38:47, time: 2.298, data_time: 0.009, memory: 16768, loss_cls: 0.8401, loss_bbox: 0.2025, loss_bbox_rf: 0.2557, loss: 1.2982\n",
      "2021-05-19 11:42:14,278 - mmdet - INFO - Epoch [8][350/818]\tlr: 5.000e-03, eta: 8:36:56, time: 2.314, data_time: 0.009, memory: 16768, loss_cls: 0.8814, loss_bbox: 0.2341, loss_bbox_rf: 0.2960, loss: 1.4115\n",
      "2021-05-19 11:44:08,399 - mmdet - INFO - Epoch [8][400/818]\tlr: 5.000e-03, eta: 8:35:01, time: 2.282, data_time: 0.009, memory: 16768, loss_cls: 0.8484, loss_bbox: 0.2181, loss_bbox_rf: 0.2775, loss: 1.3440\n",
      "2021-05-19 11:46:06,549 - mmdet - INFO - Epoch [8][450/818]\tlr: 5.000e-03, eta: 8:33:14, time: 2.363, data_time: 0.009, memory: 16768, loss_cls: 0.8729, loss_bbox: 0.2225, loss_bbox_rf: 0.2803, loss: 1.3758\n",
      "2021-05-19 11:48:03,956 - mmdet - INFO - Epoch [8][500/818]\tlr: 5.000e-03, eta: 8:31:26, time: 2.348, data_time: 0.009, memory: 16768, loss_cls: 0.8996, loss_bbox: 0.2051, loss_bbox_rf: 0.2536, loss: 1.3582\n",
      "2021-05-19 11:49:59,743 - mmdet - INFO - Epoch [8][550/818]\tlr: 5.000e-03, eta: 8:29:35, time: 2.316, data_time: 0.009, memory: 16768, loss_cls: 0.8708, loss_bbox: 0.2261, loss_bbox_rf: 0.2842, loss: 1.3811\n",
      "2021-05-19 11:51:53,136 - mmdet - INFO - Epoch [8][600/818]\tlr: 5.000e-03, eta: 8:27:38, time: 2.268, data_time: 0.009, memory: 16768, loss_cls: 0.8861, loss_bbox: 0.2055, loss_bbox_rf: 0.2604, loss: 1.3520\n",
      "2021-05-19 11:53:49,011 - mmdet - INFO - Epoch [8][650/818]\tlr: 5.000e-03, eta: 8:25:46, time: 2.317, data_time: 0.009, memory: 16768, loss_cls: 0.8648, loss_bbox: 0.2227, loss_bbox_rf: 0.2817, loss: 1.3692\n",
      "2021-05-19 11:55:44,444 - mmdet - INFO - Epoch [8][700/818]\tlr: 5.000e-03, eta: 8:23:54, time: 2.309, data_time: 0.009, memory: 16768, loss_cls: 0.8393, loss_bbox: 0.2098, loss_bbox_rf: 0.2603, loss: 1.3094\n",
      "2021-05-19 11:57:45,487 - mmdet - INFO - Epoch [8][750/818]\tlr: 5.000e-03, eta: 8:22:13, time: 2.421, data_time: 0.010, memory: 16768, loss_cls: 0.8948, loss_bbox: 0.2148, loss_bbox_rf: 0.2693, loss: 1.3788\n",
      "2021-05-19 11:59:38,175 - mmdet - INFO - Epoch [8][800/818]\tlr: 5.000e-03, eta: 8:20:15, time: 2.254, data_time: 0.009, memory: 16768, loss_cls: 0.8602, loss_bbox: 0.2258, loss_bbox_rf: 0.2810, loss: 1.3670\n",
      "2021-05-19 12:00:19,420 - mmdet - INFO - Saving checkpoint at 8 epochs\n"
     ]
    },
    {
     "name": "stdout",
     "output_type": "stream",
     "text": [
      "[>>>>>>>>>>>>>>>>>>>>>>>>>>>>>>] 655/655, 7.8 task/s, elapsed: 83s, ETA:     0s"
     ]
    },
    {
     "name": "stderr",
     "output_type": "stream",
     "text": [
      "2021-05-19 12:01:45,646 - mmdet - INFO - Evaluating bbox...\n"
     ]
    },
    {
     "name": "stdout",
     "output_type": "stream",
     "text": [
      "Loading and preparing results...\n",
      "DONE (t=1.17s)\n",
      "creating index...\n",
      "index created!\n",
      "Running per image evaluation...\n",
      "Evaluate annotation type *bbox*\n",
      "DONE (t=7.24s).\n",
      "Accumulating evaluation results...\n"
     ]
    },
    {
     "name": "stderr",
     "output_type": "stream",
     "text": [
      "2021-05-19 12:01:55,656 - mmdet - INFO - Now best checkpoint is epoch_8.pth.Best bbox_mAP_50 is 0.5660\n",
      "2021-05-19 12:01:55,664 - mmdet - INFO - Epoch(val) [8][818]\tbbox_mAP: 0.4490, bbox_mAP_50: 0.5660, bbox_mAP_75: 0.4780, bbox_mAP_s: 0.1880, bbox_mAP_m: 0.4520, bbox_mAP_l: 0.7080, bbox_mAP_copypaste: 0.449 0.566 0.478 0.188 0.452 0.708\n"
     ]
    },
    {
     "name": "stdout",
     "output_type": "stream",
     "text": [
      "DONE (t=1.47s).\n",
      "Average Precision  (AP) @[ IoU=0.50:0.95 | area=   all | maxDets=100 ] = 0.449\n",
      "Average Precision  (AP) @[ IoU=0.50      | area=   all | maxDets=1000 ] = 0.566\n",
      "Average Precision  (AP) @[ IoU=0.75      | area=   all | maxDets=1000 ] = 0.478\n",
      "Average Precision  (AP) @[ IoU=0.50:0.95 | area= small | maxDets=1000 ] = 0.188\n",
      "Average Precision  (AP) @[ IoU=0.50:0.95 | area=medium | maxDets=1000 ] = 0.452\n",
      "Average Precision  (AP) @[ IoU=0.50:0.95 | area= large | maxDets=1000 ] = 0.708\n",
      "Average Recall     (AR) @[ IoU=0.50:0.95 | area=   all | maxDets=100 ] = 0.607\n",
      "Average Recall     (AR) @[ IoU=0.50:0.95 | area=   all | maxDets=300 ] = 0.607\n",
      "Average Recall     (AR) @[ IoU=0.50:0.95 | area=   all | maxDets=1000 ] = 0.607\n",
      "Average Recall     (AR) @[ IoU=0.50:0.95 | area= small | maxDets=1000 ] = 0.327\n",
      "Average Recall     (AR) @[ IoU=0.50:0.95 | area=medium | maxDets=1000 ] = 0.624\n",
      "Average Recall     (AR) @[ IoU=0.50:0.95 | area= large | maxDets=1000 ] = 0.846\n"
     ]
    },
    {
     "name": "stderr",
     "output_type": "stream",
     "text": [
      "2021-05-19 12:03:58,524 - mmdet - INFO - Epoch [9][50/818]\tlr: 5.000e-03, eta: 8:16:34, time: 2.457, data_time: 0.091, memory: 16768, loss_cls: 0.8667, loss_bbox: 0.2222, loss_bbox_rf: 0.2799, loss: 1.3688\n",
      "2021-05-19 12:05:55,691 - mmdet - INFO - Epoch [9][100/818]\tlr: 5.000e-03, eta: 8:14:45, time: 2.343, data_time: 0.009, memory: 16768, loss_cls: 0.8330, loss_bbox: 0.2106, loss_bbox_rf: 0.2622, loss: 1.3058\n",
      "2021-05-19 12:07:52,993 - mmdet - INFO - Epoch [9][150/818]\tlr: 5.000e-03, eta: 8:12:57, time: 2.346, data_time: 0.009, memory: 16768, loss_cls: 0.8088, loss_bbox: 0.2234, loss_bbox_rf: 0.2849, loss: 1.3171\n",
      "2021-05-19 12:09:48,116 - mmdet - INFO - Epoch [9][200/818]\tlr: 5.000e-03, eta: 8:11:04, time: 2.302, data_time: 0.009, memory: 16768, loss_cls: 0.8604, loss_bbox: 0.2224, loss_bbox_rf: 0.2790, loss: 1.3618\n",
      "2021-05-19 12:11:38,989 - mmdet - INFO - Epoch [9][250/818]\tlr: 5.000e-03, eta: 8:09:03, time: 2.217, data_time: 0.009, memory: 16768, loss_cls: 0.8518, loss_bbox: 0.2102, loss_bbox_rf: 0.2652, loss: 1.3273\n",
      "2021-05-19 12:13:35,367 - mmdet - INFO - Epoch [9][300/818]\tlr: 5.000e-03, eta: 8:07:13, time: 2.328, data_time: 0.009, memory: 16768, loss_cls: 0.8348, loss_bbox: 0.2089, loss_bbox_rf: 0.2609, loss: 1.3046\n",
      "2021-05-19 12:15:30,499 - mmdet - INFO - Epoch [9][350/818]\tlr: 5.000e-03, eta: 8:05:20, time: 2.303, data_time: 0.009, memory: 16768, loss_cls: 0.9181, loss_bbox: 0.2097, loss_bbox_rf: 0.2593, loss: 1.3871\n",
      "2021-05-19 12:17:26,796 - mmdet - INFO - Epoch [9][400/818]\tlr: 5.000e-03, eta: 8:03:30, time: 2.326, data_time: 0.009, memory: 16768, loss_cls: 0.8979, loss_bbox: 0.2166, loss_bbox_rf: 0.2725, loss: 1.3870\n",
      "2021-05-19 12:19:23,378 - mmdet - INFO - Epoch [9][450/818]\tlr: 5.000e-03, eta: 8:01:39, time: 2.332, data_time: 0.009, memory: 16768, loss_cls: 0.8616, loss_bbox: 0.2172, loss_bbox_rf: 0.2740, loss: 1.3527\n",
      "2021-05-19 12:21:20,043 - mmdet - INFO - Epoch [9][500/818]\tlr: 5.000e-03, eta: 7:59:49, time: 2.333, data_time: 0.009, memory: 16768, loss_cls: 0.8106, loss_bbox: 0.2259, loss_bbox_rf: 0.2839, loss: 1.3204\n",
      "2021-05-19 12:23:14,254 - mmdet - INFO - Epoch [9][550/818]\tlr: 5.000e-03, eta: 7:57:54, time: 2.284, data_time: 0.010, memory: 16768, loss_cls: 0.8123, loss_bbox: 0.2224, loss_bbox_rf: 0.2810, loss: 1.3158\n",
      "2021-05-19 12:25:11,594 - mmdet - INFO - Epoch [9][600/818]\tlr: 5.000e-03, eta: 7:56:05, time: 2.347, data_time: 0.009, memory: 16768, loss_cls: 0.8410, loss_bbox: 0.2287, loss_bbox_rf: 0.2840, loss: 1.3538\n",
      "2021-05-19 12:27:07,858 - mmdet - INFO - Epoch [9][650/818]\tlr: 5.000e-03, eta: 7:54:14, time: 2.325, data_time: 0.009, memory: 16768, loss_cls: 0.8572, loss_bbox: 0.2232, loss_bbox_rf: 0.2811, loss: 1.3615\n",
      "2021-05-19 12:29:05,398 - mmdet - INFO - Epoch [9][700/818]\tlr: 5.000e-03, eta: 7:52:25, time: 2.351, data_time: 0.009, memory: 16768, loss_cls: 0.8267, loss_bbox: 0.2042, loss_bbox_rf: 0.2555, loss: 1.2865\n",
      "2021-05-19 12:31:05,128 - mmdet - INFO - Epoch [9][750/818]\tlr: 5.000e-03, eta: 7:50:40, time: 2.395, data_time: 0.010, memory: 16768, loss_cls: 0.8241, loss_bbox: 0.2154, loss_bbox_rf: 0.2709, loss: 1.3103\n",
      "2021-05-19 12:33:01,799 - mmdet - INFO - Epoch [9][800/818]\tlr: 5.000e-03, eta: 7:48:49, time: 2.333, data_time: 0.009, memory: 16768, loss_cls: 0.8295, loss_bbox: 0.2291, loss_bbox_rf: 0.2906, loss: 1.3492\n",
      "2021-05-19 12:33:44,981 - mmdet - INFO - Saving checkpoint at 9 epochs\n"
     ]
    },
    {
     "name": "stdout",
     "output_type": "stream",
     "text": [
      "[>>>>>>>>>>>>>>>>>>>>>>>>>>>>>>] 655/655, 7.8 task/s, elapsed: 84s, ETA:     0s"
     ]
    },
    {
     "name": "stderr",
     "output_type": "stream",
     "text": [
      "2021-05-19 12:35:11,986 - mmdet - INFO - Evaluating bbox...\n"
     ]
    },
    {
     "name": "stdout",
     "output_type": "stream",
     "text": [
      "Loading and preparing results...\n",
      "DONE (t=2.09s)\n",
      "creating index...\n",
      "index created!\n",
      "Running per image evaluation...\n",
      "Evaluate annotation type *bbox*\n",
      "DONE (t=6.87s).\n",
      "Accumulating evaluation results...\n"
     ]
    },
    {
     "name": "stderr",
     "output_type": "stream",
     "text": [
      "2021-05-19 12:35:22,738 - mmdet - INFO - Now best checkpoint is epoch_9.pth.Best bbox_mAP_50 is 0.5700\n",
      "2021-05-19 12:35:22,744 - mmdet - INFO - Epoch(val) [9][818]\tbbox_mAP: 0.4600, bbox_mAP_50: 0.5700, bbox_mAP_75: 0.4870, bbox_mAP_s: 0.2260, bbox_mAP_m: 0.4610, bbox_mAP_l: 0.7040, bbox_mAP_copypaste: 0.460 0.570 0.487 0.226 0.461 0.704\n"
     ]
    },
    {
     "name": "stdout",
     "output_type": "stream",
     "text": [
      "DONE (t=1.66s).\n",
      "Average Precision  (AP) @[ IoU=0.50:0.95 | area=   all | maxDets=100 ] = 0.460\n",
      "Average Precision  (AP) @[ IoU=0.50      | area=   all | maxDets=1000 ] = 0.570\n",
      "Average Precision  (AP) @[ IoU=0.75      | area=   all | maxDets=1000 ] = 0.487\n",
      "Average Precision  (AP) @[ IoU=0.50:0.95 | area= small | maxDets=1000 ] = 0.226\n",
      "Average Precision  (AP) @[ IoU=0.50:0.95 | area=medium | maxDets=1000 ] = 0.461\n",
      "Average Precision  (AP) @[ IoU=0.50:0.95 | area= large | maxDets=1000 ] = 0.704\n",
      "Average Recall     (AR) @[ IoU=0.50:0.95 | area=   all | maxDets=100 ] = 0.619\n",
      "Average Recall     (AR) @[ IoU=0.50:0.95 | area=   all | maxDets=300 ] = 0.619\n",
      "Average Recall     (AR) @[ IoU=0.50:0.95 | area=   all | maxDets=1000 ] = 0.619\n",
      "Average Recall     (AR) @[ IoU=0.50:0.95 | area= small | maxDets=1000 ] = 0.361\n",
      "Average Recall     (AR) @[ IoU=0.50:0.95 | area=medium | maxDets=1000 ] = 0.634\n",
      "Average Recall     (AR) @[ IoU=0.50:0.95 | area= large | maxDets=1000 ] = 0.824\n"
     ]
    },
    {
     "name": "stderr",
     "output_type": "stream",
     "text": [
      "2021-05-19 12:37:26,551 - mmdet - INFO - Epoch [10][50/818]\tlr: 5.000e-03, eta: 7:45:21, time: 2.476, data_time: 0.090, memory: 16768, loss_cls: 0.7961, loss_bbox: 0.2166, loss_bbox_rf: 0.2762, loss: 1.2889\n",
      "2021-05-19 12:39:22,244 - mmdet - INFO - Epoch [10][100/818]\tlr: 5.000e-03, eta: 7:43:29, time: 2.314, data_time: 0.009, memory: 16768, loss_cls: 0.8149, loss_bbox: 0.2143, loss_bbox_rf: 0.2709, loss: 1.3002\n",
      "2021-05-19 12:41:18,584 - mmdet - INFO - Epoch [10][150/818]\tlr: 5.000e-03, eta: 7:41:38, time: 2.327, data_time: 0.009, memory: 16768, loss_cls: 0.7928, loss_bbox: 0.2192, loss_bbox_rf: 0.2778, loss: 1.2898\n",
      "2021-05-19 12:43:17,036 - mmdet - INFO - Epoch [10][200/818]\tlr: 5.000e-03, eta: 7:39:51, time: 2.369, data_time: 0.009, memory: 16768, loss_cls: 0.8418, loss_bbox: 0.2148, loss_bbox_rf: 0.2704, loss: 1.3270\n",
      "2021-05-19 12:45:12,353 - mmdet - INFO - Epoch [10][250/818]\tlr: 5.000e-03, eta: 7:37:58, time: 2.306, data_time: 0.009, memory: 16768, loss_cls: 0.8801, loss_bbox: 0.2096, loss_bbox_rf: 0.2633, loss: 1.3530\n",
      "2021-05-19 12:47:05,584 - mmdet - INFO - Epoch [10][300/818]\tlr: 5.000e-03, eta: 7:36:02, time: 2.265, data_time: 0.009, memory: 16768, loss_cls: 0.9003, loss_bbox: 0.2040, loss_bbox_rf: 0.2558, loss: 1.3602\n",
      "2021-05-19 12:49:00,890 - mmdet - INFO - Epoch [10][350/818]\tlr: 5.000e-03, eta: 7:34:09, time: 2.306, data_time: 0.009, memory: 16768, loss_cls: 0.8252, loss_bbox: 0.2215, loss_bbox_rf: 0.2758, loss: 1.3225\n",
      "2021-05-19 12:50:56,818 - mmdet - INFO - Epoch [10][400/818]\tlr: 5.000e-03, eta: 7:32:17, time: 2.319, data_time: 0.009, memory: 16768, loss_cls: 0.8606, loss_bbox: 0.2177, loss_bbox_rf: 0.2696, loss: 1.3478\n",
      "2021-05-19 12:52:49,993 - mmdet - INFO - Epoch [10][450/818]\tlr: 5.000e-03, eta: 7:30:21, time: 2.263, data_time: 0.009, memory: 16768, loss_cls: 0.8489, loss_bbox: 0.2242, loss_bbox_rf: 0.2829, loss: 1.3560\n",
      "2021-05-19 12:54:43,055 - mmdet - INFO - Epoch [10][500/818]\tlr: 5.000e-03, eta: 7:28:25, time: 2.261, data_time: 0.009, memory: 16768, loss_cls: 0.8517, loss_bbox: 0.2221, loss_bbox_rf: 0.2794, loss: 1.3532\n",
      "2021-05-19 12:56:38,505 - mmdet - INFO - Epoch [10][550/818]\tlr: 5.000e-03, eta: 7:26:33, time: 2.309, data_time: 0.009, memory: 16768, loss_cls: 0.7871, loss_bbox: 0.2077, loss_bbox_rf: 0.2610, loss: 1.2558\n",
      "2021-05-19 12:58:31,544 - mmdet - INFO - Epoch [10][600/818]\tlr: 5.000e-03, eta: 7:24:36, time: 2.261, data_time: 0.009, memory: 16768, loss_cls: 0.8105, loss_bbox: 0.2006, loss_bbox_rf: 0.2468, loss: 1.2580\n",
      "2021-05-19 13:00:29,752 - mmdet - INFO - Epoch [10][650/818]\tlr: 5.000e-03, eta: 7:22:48, time: 2.364, data_time: 0.009, memory: 16768, loss_cls: 0.8904, loss_bbox: 0.2095, loss_bbox_rf: 0.2623, loss: 1.3622\n",
      "2021-05-19 13:02:24,484 - mmdet - INFO - Epoch [10][700/818]\tlr: 5.000e-03, eta: 7:20:54, time: 2.295, data_time: 0.009, memory: 16768, loss_cls: 0.8523, loss_bbox: 0.2072, loss_bbox_rf: 0.2564, loss: 1.3160\n",
      "2021-05-19 13:04:21,373 - mmdet - INFO - Epoch [10][750/818]\tlr: 5.000e-03, eta: 7:19:03, time: 2.338, data_time: 0.010, memory: 16768, loss_cls: 0.7937, loss_bbox: 0.2160, loss_bbox_rf: 0.2724, loss: 1.2820\n",
      "2021-05-19 13:06:17,795 - mmdet - INFO - Epoch [10][800/818]\tlr: 5.000e-03, eta: 7:17:12, time: 2.328, data_time: 0.010, memory: 16768, loss_cls: 0.7975, loss_bbox: 0.2008, loss_bbox_rf: 0.2524, loss: 1.2508\n",
      "2021-05-19 13:07:01,138 - mmdet - INFO - Saving checkpoint at 10 epochs\n"
     ]
    },
    {
     "name": "stdout",
     "output_type": "stream",
     "text": [
      "[>>>>>>>>>>>>>>>>>>>>>>>>>>>>>>] 655/655, 7.8 task/s, elapsed: 84s, ETA:     0s"
     ]
    },
    {
     "name": "stderr",
     "output_type": "stream",
     "text": [
      "2021-05-19 13:08:29,058 - mmdet - INFO - Evaluating bbox...\n"
     ]
    },
    {
     "name": "stdout",
     "output_type": "stream",
     "text": [
      "Loading and preparing results...\n",
      "DONE (t=1.14s)\n",
      "creating index...\n",
      "index created!\n",
      "Running per image evaluation...\n",
      "Evaluate annotation type *bbox*\n",
      "DONE (t=8.00s).\n",
      "Accumulating evaluation results...\n"
     ]
    },
    {
     "name": "stderr",
     "output_type": "stream",
     "text": [
      "2021-05-19 13:08:39,946 - mmdet - INFO - Now best checkpoint is epoch_10.pth.Best bbox_mAP_50 is 0.5720\n",
      "2021-05-19 13:08:39,951 - mmdet - INFO - Epoch(val) [10][818]\tbbox_mAP: 0.4640, bbox_mAP_50: 0.5720, bbox_mAP_75: 0.4950, bbox_mAP_s: 0.2390, bbox_mAP_m: 0.4660, bbox_mAP_l: 0.6520, bbox_mAP_copypaste: 0.464 0.572 0.495 0.239 0.466 0.652\n"
     ]
    },
    {
     "name": "stdout",
     "output_type": "stream",
     "text": [
      "DONE (t=1.61s).\n",
      "Average Precision  (AP) @[ IoU=0.50:0.95 | area=   all | maxDets=100 ] = 0.464\n",
      "Average Precision  (AP) @[ IoU=0.50      | area=   all | maxDets=1000 ] = 0.572\n",
      "Average Precision  (AP) @[ IoU=0.75      | area=   all | maxDets=1000 ] = 0.495\n",
      "Average Precision  (AP) @[ IoU=0.50:0.95 | area= small | maxDets=1000 ] = 0.239\n",
      "Average Precision  (AP) @[ IoU=0.50:0.95 | area=medium | maxDets=1000 ] = 0.466\n",
      "Average Precision  (AP) @[ IoU=0.50:0.95 | area= large | maxDets=1000 ] = 0.652\n",
      "Average Recall     (AR) @[ IoU=0.50:0.95 | area=   all | maxDets=100 ] = 0.618\n",
      "Average Recall     (AR) @[ IoU=0.50:0.95 | area=   all | maxDets=300 ] = 0.618\n",
      "Average Recall     (AR) @[ IoU=0.50:0.95 | area=   all | maxDets=1000 ] = 0.618\n",
      "Average Recall     (AR) @[ IoU=0.50:0.95 | area= small | maxDets=1000 ] = 0.358\n",
      "Average Recall     (AR) @[ IoU=0.50:0.95 | area=medium | maxDets=1000 ] = 0.630\n",
      "Average Recall     (AR) @[ IoU=0.50:0.95 | area= large | maxDets=1000 ] = 0.864\n"
     ]
    },
    {
     "name": "stderr",
     "output_type": "stream",
     "text": [
      "2021-05-19 13:10:42,141 - mmdet - INFO - Epoch [11][50/818]\tlr: 5.000e-03, eta: 7:13:50, time: 2.444, data_time: 0.082, memory: 16768, loss_cls: 0.8197, loss_bbox: 0.2210, loss_bbox_rf: 0.2777, loss: 1.3184\n",
      "2021-05-19 13:12:36,783 - mmdet - INFO - Epoch [11][100/818]\tlr: 5.000e-03, eta: 7:11:57, time: 2.293, data_time: 0.010, memory: 16768, loss_cls: 0.8216, loss_bbox: 0.1999, loss_bbox_rf: 0.2518, loss: 1.2733\n",
      "2021-05-19 13:14:32,913 - mmdet - INFO - Epoch [11][150/818]\tlr: 5.000e-03, eta: 7:10:05, time: 2.323, data_time: 0.009, memory: 16768, loss_cls: 0.8049, loss_bbox: 0.2189, loss_bbox_rf: 0.2705, loss: 1.2943\n",
      "2021-05-19 13:16:29,203 - mmdet - INFO - Epoch [11][200/818]\tlr: 5.000e-03, eta: 7:08:14, time: 2.326, data_time: 0.009, memory: 16768, loss_cls: 0.8079, loss_bbox: 0.2073, loss_bbox_rf: 0.2576, loss: 1.2728\n",
      "2021-05-19 13:18:27,760 - mmdet - INFO - Epoch [11][250/818]\tlr: 5.000e-03, eta: 7:06:26, time: 2.371, data_time: 0.009, memory: 16768, loss_cls: 0.8177, loss_bbox: 0.2184, loss_bbox_rf: 0.2712, loss: 1.3073\n",
      "2021-05-19 13:20:23,099 - mmdet - INFO - Epoch [11][300/818]\tlr: 5.000e-03, eta: 7:04:33, time: 2.307, data_time: 0.009, memory: 16768, loss_cls: 0.8057, loss_bbox: 0.1991, loss_bbox_rf: 0.2468, loss: 1.2517\n",
      "2021-05-19 13:22:19,806 - mmdet - INFO - Epoch [11][350/818]\tlr: 5.000e-03, eta: 7:02:42, time: 2.334, data_time: 0.009, memory: 16768, loss_cls: 0.8555, loss_bbox: 0.2286, loss_bbox_rf: 0.2879, loss: 1.3721\n",
      "2021-05-19 13:24:14,891 - mmdet - INFO - Epoch [11][400/818]\tlr: 5.000e-03, eta: 7:00:49, time: 2.302, data_time: 0.009, memory: 16768, loss_cls: 0.7879, loss_bbox: 0.2029, loss_bbox_rf: 0.2556, loss: 1.2463\n",
      "2021-05-19 13:26:12,580 - mmdet - INFO - Epoch [11][450/818]\tlr: 5.000e-03, eta: 6:58:59, time: 2.354, data_time: 0.009, memory: 16768, loss_cls: 0.7991, loss_bbox: 0.2131, loss_bbox_rf: 0.2700, loss: 1.2822\n",
      "2021-05-19 13:28:09,381 - mmdet - INFO - Epoch [11][500/818]\tlr: 5.000e-03, eta: 6:57:08, time: 2.336, data_time: 0.009, memory: 16768, loss_cls: 0.8040, loss_bbox: 0.1942, loss_bbox_rf: 0.2456, loss: 1.2439\n",
      "2021-05-19 13:30:02,408 - mmdet - INFO - Epoch [11][550/818]\tlr: 5.000e-03, eta: 6:55:12, time: 2.261, data_time: 0.009, memory: 16768, loss_cls: 0.8312, loss_bbox: 0.2206, loss_bbox_rf: 0.2771, loss: 1.3289\n",
      "2021-05-19 13:32:01,209 - mmdet - INFO - Epoch [11][600/818]\tlr: 5.000e-03, eta: 6:53:23, time: 2.376, data_time: 0.009, memory: 16768, loss_cls: 0.8522, loss_bbox: 0.2227, loss_bbox_rf: 0.2752, loss: 1.3500\n",
      "2021-05-19 13:33:57,584 - mmdet - INFO - Epoch [11][650/818]\tlr: 5.000e-03, eta: 6:51:32, time: 2.327, data_time: 0.009, memory: 16768, loss_cls: 0.8304, loss_bbox: 0.2135, loss_bbox_rf: 0.2653, loss: 1.3092\n",
      "2021-05-19 13:35:54,928 - mmdet - INFO - Epoch [11][700/818]\tlr: 5.000e-03, eta: 6:49:41, time: 2.347, data_time: 0.009, memory: 16768, loss_cls: 0.8437, loss_bbox: 0.2175, loss_bbox_rf: 0.2737, loss: 1.3348\n",
      "2021-05-19 13:37:51,588 - mmdet - INFO - Epoch [11][750/818]\tlr: 5.000e-03, eta: 6:47:50, time: 2.333, data_time: 0.009, memory: 16768, loss_cls: 0.8402, loss_bbox: 0.2066, loss_bbox_rf: 0.2573, loss: 1.3042\n",
      "2021-05-19 13:39:49,066 - mmdet - INFO - Epoch [11][800/818]\tlr: 5.000e-03, eta: 6:45:59, time: 2.350, data_time: 0.009, memory: 16768, loss_cls: 0.8324, loss_bbox: 0.2243, loss_bbox_rf: 0.2830, loss: 1.3397\n",
      "2021-05-19 13:40:30,376 - mmdet - INFO - Saving checkpoint at 11 epochs\n"
     ]
    },
    {
     "name": "stdout",
     "output_type": "stream",
     "text": [
      "[>>>>>>>>>>>>>>>>>>>>>>>>>>>>>>] 655/655, 8.0 task/s, elapsed: 82s, ETA:     0s"
     ]
    },
    {
     "name": "stderr",
     "output_type": "stream",
     "text": [
      "2021-05-19 13:41:55,559 - mmdet - INFO - Evaluating bbox...\n"
     ]
    },
    {
     "name": "stdout",
     "output_type": "stream",
     "text": [
      "Loading and preparing results...\n",
      "DONE (t=2.04s)\n",
      "creating index...\n",
      "index created!\n",
      "Running per image evaluation...\n",
      "Evaluate annotation type *bbox*\n",
      "DONE (t=6.96s).\n",
      "Accumulating evaluation results...\n"
     ]
    },
    {
     "name": "stderr",
     "output_type": "stream",
     "text": [
      "2021-05-19 13:42:06,308 - mmdet - INFO - Now best checkpoint is epoch_11.pth.Best bbox_mAP_50 is 0.6000\n",
      "2021-05-19 13:42:06,315 - mmdet - INFO - Epoch(val) [11][818]\tbbox_mAP: 0.4810, bbox_mAP_50: 0.6000, bbox_mAP_75: 0.5150, bbox_mAP_s: 0.2550, bbox_mAP_m: 0.4760, bbox_mAP_l: 0.7350, bbox_mAP_copypaste: 0.481 0.600 0.515 0.255 0.476 0.735\n"
     ]
    },
    {
     "name": "stdout",
     "output_type": "stream",
     "text": [
      "DONE (t=1.62s).\n",
      "Average Precision  (AP) @[ IoU=0.50:0.95 | area=   all | maxDets=100 ] = 0.481\n",
      "Average Precision  (AP) @[ IoU=0.50      | area=   all | maxDets=1000 ] = 0.600\n",
      "Average Precision  (AP) @[ IoU=0.75      | area=   all | maxDets=1000 ] = 0.515\n",
      "Average Precision  (AP) @[ IoU=0.50:0.95 | area= small | maxDets=1000 ] = 0.255\n",
      "Average Precision  (AP) @[ IoU=0.50:0.95 | area=medium | maxDets=1000 ] = 0.476\n",
      "Average Precision  (AP) @[ IoU=0.50:0.95 | area= large | maxDets=1000 ] = 0.735\n",
      "Average Recall     (AR) @[ IoU=0.50:0.95 | area=   all | maxDets=100 ] = 0.629\n",
      "Average Recall     (AR) @[ IoU=0.50:0.95 | area=   all | maxDets=300 ] = 0.629\n",
      "Average Recall     (AR) @[ IoU=0.50:0.95 | area=   all | maxDets=1000 ] = 0.629\n",
      "Average Recall     (AR) @[ IoU=0.50:0.95 | area= small | maxDets=1000 ] = 0.377\n",
      "Average Recall     (AR) @[ IoU=0.50:0.95 | area=medium | maxDets=1000 ] = 0.640\n",
      "Average Recall     (AR) @[ IoU=0.50:0.95 | area= large | maxDets=1000 ] = 0.833\n"
     ]
    },
    {
     "name": "stderr",
     "output_type": "stream",
     "text": [
      "2021-05-19 13:44:07,303 - mmdet - INFO - Epoch [12][50/818]\tlr: 5.000e-03, eta: 6:42:43, time: 2.420, data_time: 0.075, memory: 16768, loss_cls: 0.8343, loss_bbox: 0.1973, loss_bbox_rf: 0.2426, loss: 1.2742\n",
      "2021-05-19 13:46:05,487 - mmdet - INFO - Epoch [12][100/818]\tlr: 5.000e-03, eta: 6:40:54, time: 2.364, data_time: 0.009, memory: 16768, loss_cls: 0.8211, loss_bbox: 0.2046, loss_bbox_rf: 0.2575, loss: 1.2832\n",
      "2021-05-19 13:48:00,950 - mmdet - INFO - Epoch [12][150/818]\tlr: 5.000e-03, eta: 6:39:01, time: 2.309, data_time: 0.009, memory: 16768, loss_cls: 0.8124, loss_bbox: 0.1997, loss_bbox_rf: 0.2513, loss: 1.2634\n",
      "2021-05-19 13:49:58,026 - mmdet - INFO - Epoch [12][200/818]\tlr: 5.000e-03, eta: 6:37:10, time: 2.341, data_time: 0.009, memory: 16768, loss_cls: 0.8151, loss_bbox: 0.1984, loss_bbox_rf: 0.2484, loss: 1.2619\n",
      "2021-05-19 13:51:54,858 - mmdet - INFO - Epoch [12][250/818]\tlr: 5.000e-03, eta: 6:35:19, time: 2.337, data_time: 0.009, memory: 16768, loss_cls: 0.7919, loss_bbox: 0.2054, loss_bbox_rf: 0.2541, loss: 1.2513\n",
      "2021-05-19 13:53:48,825 - mmdet - INFO - Epoch [12][300/818]\tlr: 5.000e-03, eta: 6:33:24, time: 2.279, data_time: 0.009, memory: 16768, loss_cls: 0.7629, loss_bbox: 0.2133, loss_bbox_rf: 0.2664, loss: 1.2427\n",
      "2021-05-19 13:55:45,761 - mmdet - INFO - Epoch [12][350/818]\tlr: 5.000e-03, eta: 6:31:33, time: 2.339, data_time: 0.009, memory: 16768, loss_cls: 0.8056, loss_bbox: 0.1950, loss_bbox_rf: 0.2425, loss: 1.2431\n",
      "2021-05-19 13:57:43,801 - mmdet - INFO - Epoch [12][400/818]\tlr: 5.000e-03, eta: 6:29:43, time: 2.361, data_time: 0.009, memory: 16768, loss_cls: 0.9201, loss_bbox: 0.2221, loss_bbox_rf: 0.2771, loss: 1.4193\n",
      "2021-05-19 13:59:39,260 - mmdet - INFO - Epoch [12][450/818]\tlr: 5.000e-03, eta: 6:27:50, time: 2.309, data_time: 0.009, memory: 16768, loss_cls: 0.8341, loss_bbox: 0.2099, loss_bbox_rf: 0.2626, loss: 1.3065\n",
      "2021-05-19 14:01:37,153 - mmdet - INFO - Epoch [12][500/818]\tlr: 5.000e-03, eta: 6:26:00, time: 2.358, data_time: 0.009, memory: 16768, loss_cls: 0.8500, loss_bbox: 0.2176, loss_bbox_rf: 0.2740, loss: 1.3417\n",
      "2021-05-19 14:03:34,707 - mmdet - INFO - Epoch [12][550/818]\tlr: 5.000e-03, eta: 6:24:09, time: 2.351, data_time: 0.009, memory: 16768, loss_cls: 0.8141, loss_bbox: 0.2368, loss_bbox_rf: 0.2994, loss: 1.3503\n",
      "2021-05-19 14:05:32,361 - mmdet - INFO - Epoch [12][600/818]\tlr: 5.000e-03, eta: 6:22:18, time: 2.353, data_time: 0.009, memory: 16768, loss_cls: 0.8270, loss_bbox: 0.2075, loss_bbox_rf: 0.2586, loss: 1.2930\n",
      "2021-05-19 14:07:28,249 - mmdet - INFO - Epoch [12][650/818]\tlr: 5.000e-03, eta: 6:20:26, time: 2.318, data_time: 0.009, memory: 16768, loss_cls: 0.8150, loss_bbox: 0.2119, loss_bbox_rf: 0.2666, loss: 1.2935\n",
      "2021-05-19 14:09:22,882 - mmdet - INFO - Epoch [12][700/818]\tlr: 5.000e-03, eta: 6:18:32, time: 2.293, data_time: 0.009, memory: 16768, loss_cls: 0.7758, loss_bbox: 0.2146, loss_bbox_rf: 0.2704, loss: 1.2607\n",
      "2021-05-19 14:11:22,993 - mmdet - INFO - Epoch [12][750/818]\tlr: 5.000e-03, eta: 6:16:43, time: 2.402, data_time: 0.010, memory: 16768, loss_cls: 0.8211, loss_bbox: 0.2192, loss_bbox_rf: 0.2773, loss: 1.3175\n",
      "2021-05-19 14:13:18,966 - mmdet - INFO - Epoch [12][800/818]\tlr: 5.000e-03, eta: 6:14:50, time: 2.319, data_time: 0.009, memory: 16768, loss_cls: 0.8230, loss_bbox: 0.2053, loss_bbox_rf: 0.2533, loss: 1.2815\n",
      "2021-05-19 14:14:01,950 - mmdet - INFO - Saving checkpoint at 12 epochs\n"
     ]
    },
    {
     "name": "stdout",
     "output_type": "stream",
     "text": [
      "[>>>>>>>>>>>>>>>>>>>>>>>>>>>>>>] 655/655, 7.8 task/s, elapsed: 83s, ETA:     0s"
     ]
    },
    {
     "name": "stderr",
     "output_type": "stream",
     "text": [
      "2021-05-19 14:15:29,003 - mmdet - INFO - Evaluating bbox...\n"
     ]
    },
    {
     "name": "stdout",
     "output_type": "stream",
     "text": [
      "Loading and preparing results...\n",
      "DONE (t=1.18s)\n",
      "creating index...\n",
      "index created!\n",
      "Running per image evaluation...\n",
      "Evaluate annotation type *bbox*\n",
      "DONE (t=6.25s).\n",
      "Accumulating evaluation results...\n"
     ]
    },
    {
     "name": "stderr",
     "output_type": "stream",
     "text": [
      "2021-05-19 14:15:37,955 - mmdet - INFO - Epoch(val) [12][818]\tbbox_mAP: 0.4510, bbox_mAP_50: 0.5700, bbox_mAP_75: 0.4800, bbox_mAP_s: 0.2120, bbox_mAP_m: 0.4640, bbox_mAP_l: 0.6430, bbox_mAP_copypaste: 0.451 0.570 0.480 0.212 0.464 0.643\n"
     ]
    },
    {
     "name": "stdout",
     "output_type": "stream",
     "text": [
      "DONE (t=1.40s).\n",
      "Average Precision  (AP) @[ IoU=0.50:0.95 | area=   all | maxDets=100 ] = 0.451\n",
      "Average Precision  (AP) @[ IoU=0.50      | area=   all | maxDets=1000 ] = 0.570\n",
      "Average Precision  (AP) @[ IoU=0.75      | area=   all | maxDets=1000 ] = 0.480\n",
      "Average Precision  (AP) @[ IoU=0.50:0.95 | area= small | maxDets=1000 ] = 0.212\n",
      "Average Precision  (AP) @[ IoU=0.50:0.95 | area=medium | maxDets=1000 ] = 0.464\n",
      "Average Precision  (AP) @[ IoU=0.50:0.95 | area= large | maxDets=1000 ] = 0.643\n",
      "Average Recall     (AR) @[ IoU=0.50:0.95 | area=   all | maxDets=100 ] = 0.617\n",
      "Average Recall     (AR) @[ IoU=0.50:0.95 | area=   all | maxDets=300 ] = 0.617\n",
      "Average Recall     (AR) @[ IoU=0.50:0.95 | area=   all | maxDets=1000 ] = 0.617\n",
      "Average Recall     (AR) @[ IoU=0.50:0.95 | area= small | maxDets=1000 ] = 0.332\n",
      "Average Recall     (AR) @[ IoU=0.50:0.95 | area=medium | maxDets=1000 ] = 0.655\n",
      "Average Recall     (AR) @[ IoU=0.50:0.95 | area= large | maxDets=1000 ] = 0.857\n"
     ]
    },
    {
     "name": "stderr",
     "output_type": "stream",
     "text": [
      "2021-05-19 14:17:39,717 - mmdet - INFO - Epoch [13][50/818]\tlr: 5.000e-03, eta: 6:11:41, time: 2.435, data_time: 0.081, memory: 16768, loss_cls: 0.8310, loss_bbox: 0.2040, loss_bbox_rf: 0.2529, loss: 1.2879\n",
      "2021-05-19 14:19:33,190 - mmdet - INFO - Epoch [13][100/818]\tlr: 5.000e-03, eta: 6:09:47, time: 2.269, data_time: 0.009, memory: 16768, loss_cls: 0.7748, loss_bbox: 0.2011, loss_bbox_rf: 0.2505, loss: 1.2265\n",
      "2021-05-19 14:21:28,154 - mmdet - INFO - Epoch [13][150/818]\tlr: 5.000e-03, eta: 6:07:53, time: 2.299, data_time: 0.009, memory: 16768, loss_cls: 0.7541, loss_bbox: 0.2032, loss_bbox_rf: 0.2547, loss: 1.2120\n",
      "2021-05-19 14:23:21,931 - mmdet - INFO - Epoch [13][200/818]\tlr: 5.000e-03, eta: 6:05:59, time: 2.276, data_time: 0.009, memory: 16768, loss_cls: 0.7369, loss_bbox: 0.2063, loss_bbox_rf: 0.2602, loss: 1.2034\n",
      "2021-05-19 14:25:16,982 - mmdet - INFO - Epoch [13][250/818]\tlr: 5.000e-03, eta: 6:04:05, time: 2.301, data_time: 0.009, memory: 16768, loss_cls: 0.7978, loss_bbox: 0.2080, loss_bbox_rf: 0.2615, loss: 1.2674\n",
      "2021-05-19 14:27:14,510 - mmdet - INFO - Epoch [13][300/818]\tlr: 5.000e-03, eta: 6:02:14, time: 2.351, data_time: 0.009, memory: 16768, loss_cls: 0.8383, loss_bbox: 0.2020, loss_bbox_rf: 0.2545, loss: 1.2949\n",
      "2021-05-19 14:29:13,604 - mmdet - INFO - Epoch [13][350/818]\tlr: 5.000e-03, eta: 6:00:25, time: 2.382, data_time: 0.010, memory: 16768, loss_cls: 0.7901, loss_bbox: 0.1985, loss_bbox_rf: 0.2491, loss: 1.2378\n",
      "2021-05-19 14:31:09,054 - mmdet - INFO - Epoch [13][400/818]\tlr: 5.000e-03, eta: 5:58:31, time: 2.309, data_time: 0.009, memory: 16768, loss_cls: 0.7916, loss_bbox: 0.1992, loss_bbox_rf: 0.2495, loss: 1.2404\n",
      "2021-05-19 14:33:05,249 - mmdet - INFO - Epoch [13][450/818]\tlr: 5.000e-03, eta: 5:56:39, time: 2.324, data_time: 0.009, memory: 16768, loss_cls: 0.7728, loss_bbox: 0.2091, loss_bbox_rf: 0.2633, loss: 1.2452\n",
      "2021-05-19 14:35:00,672 - mmdet - INFO - Epoch [13][500/818]\tlr: 5.000e-03, eta: 5:54:46, time: 2.308, data_time: 0.010, memory: 16768, loss_cls: 0.8539, loss_bbox: 0.2179, loss_bbox_rf: 0.2728, loss: 1.3445\n",
      "2021-05-19 14:36:57,622 - mmdet - INFO - Epoch [13][550/818]\tlr: 5.000e-03, eta: 5:52:54, time: 2.339, data_time: 0.009, memory: 16768, loss_cls: 0.7933, loss_bbox: 0.2166, loss_bbox_rf: 0.2742, loss: 1.2841\n",
      "2021-05-19 14:38:50,015 - mmdet - INFO - Epoch [13][600/818]\tlr: 5.000e-03, eta: 5:50:58, time: 2.248, data_time: 0.009, memory: 16768, loss_cls: 0.9289, loss_bbox: 0.2197, loss_bbox_rf: 0.2769, loss: 1.4256\n",
      "2021-05-19 14:40:47,036 - mmdet - INFO - Epoch [13][650/818]\tlr: 5.000e-03, eta: 5:49:06, time: 2.340, data_time: 0.009, memory: 16768, loss_cls: 0.8293, loss_bbox: 0.2094, loss_bbox_rf: 0.2639, loss: 1.3026\n",
      "2021-05-19 14:42:41,836 - mmdet - INFO - Epoch [13][700/818]\tlr: 5.000e-03, eta: 5:47:12, time: 2.296, data_time: 0.009, memory: 16768, loss_cls: 0.8520, loss_bbox: 0.2085, loss_bbox_rf: 0.2578, loss: 1.3183\n",
      "2021-05-19 14:44:42,180 - mmdet - INFO - Epoch [13][750/818]\tlr: 5.000e-03, eta: 5:45:23, time: 2.407, data_time: 0.009, memory: 16768, loss_cls: 0.8228, loss_bbox: 0.2049, loss_bbox_rf: 0.2556, loss: 1.2834\n",
      "2021-05-19 14:46:39,238 - mmdet - INFO - Epoch [13][800/818]\tlr: 5.000e-03, eta: 5:43:31, time: 2.341, data_time: 0.009, memory: 16768, loss_cls: 0.7891, loss_bbox: 0.2283, loss_bbox_rf: 0.2883, loss: 1.3058\n",
      "2021-05-19 14:47:23,238 - mmdet - INFO - Saving checkpoint at 13 epochs\n"
     ]
    },
    {
     "name": "stdout",
     "output_type": "stream",
     "text": [
      "[>>>>>>>>>>>>>>>>>>>>>>>>>>>>>>] 655/655, 7.8 task/s, elapsed: 84s, ETA:     0s"
     ]
    },
    {
     "name": "stderr",
     "output_type": "stream",
     "text": [
      "2021-05-19 14:48:50,485 - mmdet - INFO - Evaluating bbox...\n"
     ]
    },
    {
     "name": "stdout",
     "output_type": "stream",
     "text": [
      "Loading and preparing results...\n",
      "DONE (t=1.11s)\n",
      "creating index...\n",
      "index created!\n",
      "Running per image evaluation...\n",
      "Evaluate annotation type *bbox*\n",
      "DONE (t=7.74s).\n",
      "Accumulating evaluation results...\n"
     ]
    },
    {
     "name": "stderr",
     "output_type": "stream",
     "text": [
      "2021-05-19 14:49:00,884 - mmdet - INFO - Now best checkpoint is epoch_13.pth.Best bbox_mAP_50 is 0.6230\n",
      "2021-05-19 14:49:00,889 - mmdet - INFO - Epoch(val) [13][818]\tbbox_mAP: 0.4980, bbox_mAP_50: 0.6230, bbox_mAP_75: 0.5400, bbox_mAP_s: 0.2440, bbox_mAP_m: 0.4940, bbox_mAP_l: 0.7450, bbox_mAP_copypaste: 0.498 0.623 0.540 0.244 0.494 0.745\n"
     ]
    },
    {
     "name": "stdout",
     "output_type": "stream",
     "text": [
      "DONE (t=1.43s).\n",
      "Average Precision  (AP) @[ IoU=0.50:0.95 | area=   all | maxDets=100 ] = 0.498\n",
      "Average Precision  (AP) @[ IoU=0.50      | area=   all | maxDets=1000 ] = 0.623\n",
      "Average Precision  (AP) @[ IoU=0.75      | area=   all | maxDets=1000 ] = 0.540\n",
      "Average Precision  (AP) @[ IoU=0.50:0.95 | area= small | maxDets=1000 ] = 0.244\n",
      "Average Precision  (AP) @[ IoU=0.50:0.95 | area=medium | maxDets=1000 ] = 0.494\n",
      "Average Precision  (AP) @[ IoU=0.50:0.95 | area= large | maxDets=1000 ] = 0.745\n",
      "Average Recall     (AR) @[ IoU=0.50:0.95 | area=   all | maxDets=100 ] = 0.637\n",
      "Average Recall     (AR) @[ IoU=0.50:0.95 | area=   all | maxDets=300 ] = 0.637\n",
      "Average Recall     (AR) @[ IoU=0.50:0.95 | area=   all | maxDets=1000 ] = 0.637\n",
      "Average Recall     (AR) @[ IoU=0.50:0.95 | area= small | maxDets=1000 ] = 0.387\n",
      "Average Recall     (AR) @[ IoU=0.50:0.95 | area=medium | maxDets=1000 ] = 0.649\n",
      "Average Recall     (AR) @[ IoU=0.50:0.95 | area= large | maxDets=1000 ] = 0.873\n"
     ]
    },
    {
     "name": "stderr",
     "output_type": "stream",
     "text": [
      "2021-05-19 14:51:03,732 - mmdet - INFO - Epoch [14][50/818]\tlr: 5.000e-03, eta: 5:40:29, time: 2.457, data_time: 0.104, memory: 16768, loss_cls: 0.7389, loss_bbox: 0.2037, loss_bbox_rf: 0.2572, loss: 1.1998\n",
      "2021-05-19 14:52:58,527 - mmdet - INFO - Epoch [14][100/818]\tlr: 5.000e-03, eta: 5:38:35, time: 2.296, data_time: 0.009, memory: 16768, loss_cls: 0.7721, loss_bbox: 0.1813, loss_bbox_rf: 0.2268, loss: 1.1802\n",
      "2021-05-19 14:54:55,288 - mmdet - INFO - Epoch [14][150/818]\tlr: 5.000e-03, eta: 5:36:43, time: 2.335, data_time: 0.009, memory: 16768, loss_cls: 0.7629, loss_bbox: 0.2171, loss_bbox_rf: 0.2722, loss: 1.2522\n",
      "2021-05-19 14:56:49,289 - mmdet - INFO - Epoch [14][200/818]\tlr: 5.000e-03, eta: 5:34:49, time: 2.280, data_time: 0.009, memory: 16768, loss_cls: 0.8066, loss_bbox: 0.2351, loss_bbox_rf: 0.2988, loss: 1.3405\n",
      "2021-05-19 14:58:44,158 - mmdet - INFO - Epoch [14][250/818]\tlr: 5.000e-03, eta: 5:32:55, time: 2.297, data_time: 0.010, memory: 16768, loss_cls: 0.7688, loss_bbox: 0.2148, loss_bbox_rf: 0.2696, loss: 1.2532\n",
      "2021-05-19 15:00:39,647 - mmdet - INFO - Epoch [14][300/818]\tlr: 5.000e-03, eta: 5:31:02, time: 2.310, data_time: 0.009, memory: 16768, loss_cls: 0.7955, loss_bbox: 0.2145, loss_bbox_rf: 0.2674, loss: 1.2773\n",
      "2021-05-19 15:02:36,942 - mmdet - INFO - Epoch [14][350/818]\tlr: 5.000e-03, eta: 5:29:10, time: 2.346, data_time: 0.009, memory: 16768, loss_cls: 0.8174, loss_bbox: 0.1967, loss_bbox_rf: 0.2487, loss: 1.2627\n",
      "2021-05-19 15:04:30,983 - mmdet - INFO - Epoch [14][400/818]\tlr: 5.000e-03, eta: 5:27:16, time: 2.281, data_time: 0.009, memory: 16768, loss_cls: 0.8014, loss_bbox: 0.2053, loss_bbox_rf: 0.2572, loss: 1.2639\n",
      "2021-05-19 15:06:30,140 - mmdet - INFO - Epoch [14][450/818]\tlr: 5.000e-03, eta: 5:25:26, time: 2.383, data_time: 0.010, memory: 16768, loss_cls: 0.7741, loss_bbox: 0.2014, loss_bbox_rf: 0.2522, loss: 1.2277\n",
      "2021-05-19 15:08:30,190 - mmdet - INFO - Epoch [14][500/818]\tlr: 5.000e-03, eta: 5:23:36, time: 2.401, data_time: 0.009, memory: 16768, loss_cls: 0.7950, loss_bbox: 0.2134, loss_bbox_rf: 0.2687, loss: 1.2771\n",
      "2021-05-19 15:10:27,652 - mmdet - INFO - Epoch [14][550/818]\tlr: 5.000e-03, eta: 5:21:44, time: 2.349, data_time: 0.009, memory: 16768, loss_cls: 0.7496, loss_bbox: 0.2083, loss_bbox_rf: 0.2617, loss: 1.2195\n",
      "2021-05-19 15:12:22,617 - mmdet - INFO - Epoch [14][600/818]\tlr: 5.000e-03, eta: 5:19:50, time: 2.299, data_time: 0.010, memory: 16768, loss_cls: 0.7910, loss_bbox: 0.2033, loss_bbox_rf: 0.2531, loss: 1.2473\n",
      "2021-05-19 15:14:20,673 - mmdet - INFO - Epoch [14][650/818]\tlr: 5.000e-03, eta: 5:17:59, time: 2.361, data_time: 0.010, memory: 16768, loss_cls: 0.7972, loss_bbox: 0.2325, loss_bbox_rf: 0.2944, loss: 1.3241\n",
      "2021-05-19 15:16:15,932 - mmdet - INFO - Epoch [14][700/818]\tlr: 5.000e-03, eta: 5:16:05, time: 2.305, data_time: 0.010, memory: 16768, loss_cls: 0.7907, loss_bbox: 0.1909, loss_bbox_rf: 0.2364, loss: 1.2180\n",
      "2021-05-19 15:18:13,564 - mmdet - INFO - Epoch [14][750/818]\tlr: 5.000e-03, eta: 5:14:13, time: 2.353, data_time: 0.010, memory: 16768, loss_cls: 0.7794, loss_bbox: 0.2068, loss_bbox_rf: 0.2613, loss: 1.2474\n",
      "2021-05-19 15:20:11,334 - mmdet - INFO - Epoch [14][800/818]\tlr: 5.000e-03, eta: 5:12:22, time: 2.355, data_time: 0.010, memory: 16768, loss_cls: 0.8068, loss_bbox: 0.2046, loss_bbox_rf: 0.2568, loss: 1.2682\n",
      "2021-05-19 15:20:52,742 - mmdet - INFO - Saving checkpoint at 14 epochs\n"
     ]
    },
    {
     "name": "stdout",
     "output_type": "stream",
     "text": [
      "[>>>>>>>>>>>>>>>>>>>>>>>>>>>>>>] 655/655, 7.8 task/s, elapsed: 84s, ETA:     0s"
     ]
    },
    {
     "name": "stderr",
     "output_type": "stream",
     "text": [
      "2021-05-19 15:22:19,862 - mmdet - INFO - Evaluating bbox...\n"
     ]
    },
    {
     "name": "stdout",
     "output_type": "stream",
     "text": [
      "Loading and preparing results...\n",
      "DONE (t=1.16s)\n",
      "creating index...\n",
      "index created!\n",
      "Running per image evaluation...\n",
      "Evaluate annotation type *bbox*\n",
      "DONE (t=7.83s).\n",
      "Accumulating evaluation results...\n"
     ]
    },
    {
     "name": "stderr",
     "output_type": "stream",
     "text": [
      "2021-05-19 15:22:30,555 - mmdet - INFO - Epoch(val) [14][818]\tbbox_mAP: 0.4770, bbox_mAP_50: 0.6040, bbox_mAP_75: 0.5100, bbox_mAP_s: 0.2130, bbox_mAP_m: 0.4770, bbox_mAP_l: 0.7280, bbox_mAP_copypaste: 0.477 0.604 0.510 0.213 0.477 0.728\n"
     ]
    },
    {
     "name": "stdout",
     "output_type": "stream",
     "text": [
      "DONE (t=1.57s).\n",
      "Average Precision  (AP) @[ IoU=0.50:0.95 | area=   all | maxDets=100 ] = 0.477\n",
      "Average Precision  (AP) @[ IoU=0.50      | area=   all | maxDets=1000 ] = 0.604\n",
      "Average Precision  (AP) @[ IoU=0.75      | area=   all | maxDets=1000 ] = 0.510\n",
      "Average Precision  (AP) @[ IoU=0.50:0.95 | area= small | maxDets=1000 ] = 0.213\n",
      "Average Precision  (AP) @[ IoU=0.50:0.95 | area=medium | maxDets=1000 ] = 0.477\n",
      "Average Precision  (AP) @[ IoU=0.50:0.95 | area= large | maxDets=1000 ] = 0.728\n",
      "Average Recall     (AR) @[ IoU=0.50:0.95 | area=   all | maxDets=100 ] = 0.618\n",
      "Average Recall     (AR) @[ IoU=0.50:0.95 | area=   all | maxDets=300 ] = 0.618\n",
      "Average Recall     (AR) @[ IoU=0.50:0.95 | area=   all | maxDets=1000 ] = 0.618\n",
      "Average Recall     (AR) @[ IoU=0.50:0.95 | area= small | maxDets=1000 ] = 0.361\n",
      "Average Recall     (AR) @[ IoU=0.50:0.95 | area=medium | maxDets=1000 ] = 0.637\n",
      "Average Recall     (AR) @[ IoU=0.50:0.95 | area= large | maxDets=1000 ] = 0.821\n"
     ]
    },
    {
     "name": "stderr",
     "output_type": "stream",
     "text": [
      "2021-05-19 15:24:34,825 - mmdet - INFO - Epoch [15][50/818]\tlr: 5.000e-03, eta: 5:09:24, time: 2.485, data_time: 0.081, memory: 16768, loss_cls: 0.8421, loss_bbox: 0.2067, loss_bbox_rf: 0.2522, loss: 1.3011\n",
      "2021-05-19 15:26:29,612 - mmdet - INFO - Epoch [15][100/818]\tlr: 5.000e-03, eta: 5:07:30, time: 2.296, data_time: 0.009, memory: 16768, loss_cls: 0.8238, loss_bbox: 0.2141, loss_bbox_rf: 0.2696, loss: 1.3075\n",
      "2021-05-19 15:28:29,384 - mmdet - INFO - Epoch [15][150/818]\tlr: 5.000e-03, eta: 5:05:40, time: 2.395, data_time: 0.010, memory: 16768, loss_cls: 0.7569, loss_bbox: 0.2013, loss_bbox_rf: 0.2530, loss: 1.2112\n",
      "2021-05-19 15:30:24,907 - mmdet - INFO - Epoch [15][200/818]\tlr: 5.000e-03, eta: 5:03:47, time: 2.310, data_time: 0.009, memory: 16768, loss_cls: 0.7779, loss_bbox: 0.2009, loss_bbox_rf: 0.2503, loss: 1.2291\n",
      "2021-05-19 15:32:19,946 - mmdet - INFO - Epoch [15][250/818]\tlr: 5.000e-03, eta: 5:01:53, time: 2.301, data_time: 0.009, memory: 16768, loss_cls: 0.7489, loss_bbox: 0.1975, loss_bbox_rf: 0.2453, loss: 1.1917\n",
      "2021-05-19 15:34:15,034 - mmdet - INFO - Epoch [15][300/818]\tlr: 5.000e-03, eta: 5:00:00, time: 2.302, data_time: 0.009, memory: 16768, loss_cls: 0.7449, loss_bbox: 0.2117, loss_bbox_rf: 0.2628, loss: 1.2195\n",
      "2021-05-19 15:36:11,053 - mmdet - INFO - Epoch [15][350/818]\tlr: 5.000e-03, eta: 4:58:07, time: 2.320, data_time: 0.009, memory: 16768, loss_cls: 0.7539, loss_bbox: 0.1996, loss_bbox_rf: 0.2482, loss: 1.2017\n",
      "2021-05-19 15:38:06,847 - mmdet - INFO - Epoch [15][400/818]\tlr: 5.000e-03, eta: 4:56:13, time: 2.316, data_time: 0.009, memory: 16768, loss_cls: 0.7874, loss_bbox: 0.2079, loss_bbox_rf: 0.2591, loss: 1.2544\n",
      "2021-05-19 15:40:02,904 - mmdet - INFO - Epoch [15][450/818]\tlr: 5.000e-03, eta: 4:54:20, time: 2.321, data_time: 0.009, memory: 16768, loss_cls: 0.7732, loss_bbox: 0.1989, loss_bbox_rf: 0.2463, loss: 1.2183\n",
      "2021-05-19 15:42:00,630 - mmdet - INFO - Epoch [15][500/818]\tlr: 5.000e-03, eta: 4:52:28, time: 2.354, data_time: 0.009, memory: 16768, loss_cls: 0.7765, loss_bbox: 0.2078, loss_bbox_rf: 0.2608, loss: 1.2452\n",
      "2021-05-19 15:43:57,945 - mmdet - INFO - Epoch [15][550/818]\tlr: 5.000e-03, eta: 4:50:36, time: 2.346, data_time: 0.009, memory: 16768, loss_cls: 0.8014, loss_bbox: 0.2059, loss_bbox_rf: 0.2565, loss: 1.2638\n",
      "2021-05-19 15:45:51,810 - mmdet - INFO - Epoch [15][600/818]\tlr: 5.000e-03, eta: 4:48:41, time: 2.277, data_time: 0.009, memory: 16768, loss_cls: 0.7669, loss_bbox: 0.2068, loss_bbox_rf: 0.2571, loss: 1.2308\n",
      "2021-05-19 15:47:51,356 - mmdet - INFO - Epoch [15][650/818]\tlr: 5.000e-03, eta: 4:46:50, time: 2.391, data_time: 0.009, memory: 16768, loss_cls: 0.7488, loss_bbox: 0.2051, loss_bbox_rf: 0.2546, loss: 1.2085\n",
      "2021-05-19 15:49:48,897 - mmdet - INFO - Epoch [15][700/818]\tlr: 5.000e-03, eta: 4:44:58, time: 2.351, data_time: 0.009, memory: 16768, loss_cls: 0.7734, loss_bbox: 0.2077, loss_bbox_rf: 0.2576, loss: 1.2387\n",
      "2021-05-19 15:51:46,201 - mmdet - INFO - Epoch [15][750/818]\tlr: 5.000e-03, eta: 4:43:06, time: 2.346, data_time: 0.009, memory: 16768, loss_cls: 0.7370, loss_bbox: 0.2015, loss_bbox_rf: 0.2550, loss: 1.1935\n",
      "2021-05-19 15:53:43,834 - mmdet - INFO - Epoch [15][800/818]\tlr: 5.000e-03, eta: 4:41:13, time: 2.353, data_time: 0.009, memory: 16768, loss_cls: 0.7357, loss_bbox: 0.2082, loss_bbox_rf: 0.2610, loss: 1.2049\n",
      "2021-05-19 15:54:24,598 - mmdet - INFO - Saving checkpoint at 15 epochs\n"
     ]
    },
    {
     "name": "stdout",
     "output_type": "stream",
     "text": [
      "[>>>>>>>>>>>>>>>>>>>>>>>>>>>>>>] 655/655, 7.9 task/s, elapsed: 83s, ETA:     0s"
     ]
    },
    {
     "name": "stderr",
     "output_type": "stream",
     "text": [
      "2021-05-19 15:55:51,342 - mmdet - INFO - Evaluating bbox...\n"
     ]
    },
    {
     "name": "stdout",
     "output_type": "stream",
     "text": [
      "Loading and preparing results...\n",
      "DONE (t=1.24s)\n",
      "creating index...\n",
      "index created!\n",
      "Running per image evaluation...\n",
      "Evaluate annotation type *bbox*\n",
      "DONE (t=6.88s).\n",
      "Accumulating evaluation results...\n"
     ]
    },
    {
     "name": "stderr",
     "output_type": "stream",
     "text": [
      "2021-05-19 15:56:01,221 - mmdet - INFO - Now best checkpoint is epoch_15.pth.Best bbox_mAP_50 is 0.6640\n",
      "2021-05-19 15:56:01,226 - mmdet - INFO - Epoch(val) [15][818]\tbbox_mAP: 0.5300, bbox_mAP_50: 0.6640, bbox_mAP_75: 0.5700, bbox_mAP_s: 0.2750, bbox_mAP_m: 0.5390, bbox_mAP_l: 0.7710, bbox_mAP_copypaste: 0.530 0.664 0.570 0.275 0.539 0.771\n"
     ]
    },
    {
     "name": "stdout",
     "output_type": "stream",
     "text": [
      "DONE (t=1.62s).\n",
      "Average Precision  (AP) @[ IoU=0.50:0.95 | area=   all | maxDets=100 ] = 0.530\n",
      "Average Precision  (AP) @[ IoU=0.50      | area=   all | maxDets=1000 ] = 0.664\n",
      "Average Precision  (AP) @[ IoU=0.75      | area=   all | maxDets=1000 ] = 0.570\n",
      "Average Precision  (AP) @[ IoU=0.50:0.95 | area= small | maxDets=1000 ] = 0.275\n",
      "Average Precision  (AP) @[ IoU=0.50:0.95 | area=medium | maxDets=1000 ] = 0.539\n",
      "Average Precision  (AP) @[ IoU=0.50:0.95 | area= large | maxDets=1000 ] = 0.771\n",
      "Average Recall     (AR) @[ IoU=0.50:0.95 | area=   all | maxDets=100 ] = 0.651\n",
      "Average Recall     (AR) @[ IoU=0.50:0.95 | area=   all | maxDets=300 ] = 0.651\n",
      "Average Recall     (AR) @[ IoU=0.50:0.95 | area=   all | maxDets=1000 ] = 0.651\n",
      "Average Recall     (AR) @[ IoU=0.50:0.95 | area= small | maxDets=1000 ] = 0.400\n",
      "Average Recall     (AR) @[ IoU=0.50:0.95 | area=medium | maxDets=1000 ] = 0.686\n",
      "Average Recall     (AR) @[ IoU=0.50:0.95 | area= large | maxDets=1000 ] = 0.872\n"
     ]
    },
    {
     "name": "stderr",
     "output_type": "stream",
     "text": [
      "2021-05-19 15:58:06,264 - mmdet - INFO - Epoch [16][50/818]\tlr: 5.000e-03, eta: 4:38:20, time: 2.501, data_time: 0.114, memory: 16768, loss_cls: 0.7035, loss_bbox: 0.1918, loss_bbox_rf: 0.2396, loss: 1.1348\n",
      "2021-05-19 16:00:04,048 - mmdet - INFO - Epoch [16][100/818]\tlr: 5.000e-03, eta: 4:36:28, time: 2.356, data_time: 0.010, memory: 16768, loss_cls: 0.7526, loss_bbox: 0.2032, loss_bbox_rf: 0.2532, loss: 1.2090\n",
      "2021-05-19 16:02:02,005 - mmdet - INFO - Epoch [16][150/818]\tlr: 5.000e-03, eta: 4:34:36, time: 2.359, data_time: 0.010, memory: 16768, loss_cls: 0.7831, loss_bbox: 0.2076, loss_bbox_rf: 0.2585, loss: 1.2492\n",
      "2021-05-19 16:03:57,130 - mmdet - INFO - Epoch [16][200/818]\tlr: 5.000e-03, eta: 4:32:42, time: 2.302, data_time: 0.009, memory: 16768, loss_cls: 0.8113, loss_bbox: 0.2113, loss_bbox_rf: 0.2662, loss: 1.2889\n",
      "2021-05-19 16:05:54,823 - mmdet - INFO - Epoch [16][250/818]\tlr: 5.000e-03, eta: 4:30:50, time: 2.354, data_time: 0.009, memory: 16768, loss_cls: 0.7521, loss_bbox: 0.2014, loss_bbox_rf: 0.2531, loss: 1.2065\n",
      "2021-05-19 16:07:52,402 - mmdet - INFO - Epoch [16][300/818]\tlr: 5.000e-03, eta: 4:28:57, time: 2.352, data_time: 0.009, memory: 16768, loss_cls: 0.7032, loss_bbox: 0.1862, loss_bbox_rf: 0.2332, loss: 1.1227\n",
      "2021-05-19 16:09:48,742 - mmdet - INFO - Epoch [16][350/818]\tlr: 5.000e-03, eta: 4:27:04, time: 2.327, data_time: 0.009, memory: 16768, loss_cls: 0.7724, loss_bbox: 0.2025, loss_bbox_rf: 0.2548, loss: 1.2297\n",
      "2021-05-19 16:11:42,660 - mmdet - INFO - Epoch [16][400/818]\tlr: 5.000e-03, eta: 4:25:10, time: 2.278, data_time: 0.009, memory: 16768, loss_cls: 0.7299, loss_bbox: 0.2112, loss_bbox_rf: 0.2673, loss: 1.2084\n",
      "2021-05-19 16:13:40,044 - mmdet - INFO - Epoch [16][450/818]\tlr: 5.000e-03, eta: 4:23:17, time: 2.348, data_time: 0.009, memory: 16768, loss_cls: 0.7058, loss_bbox: 0.1934, loss_bbox_rf: 0.2405, loss: 1.1396\n",
      "2021-05-19 16:15:35,605 - mmdet - INFO - Epoch [16][500/818]\tlr: 5.000e-03, eta: 4:21:24, time: 2.311, data_time: 0.009, memory: 16768, loss_cls: 0.7249, loss_bbox: 0.2090, loss_bbox_rf: 0.2616, loss: 1.1955\n",
      "2021-05-19 16:17:32,425 - mmdet - INFO - Epoch [16][550/818]\tlr: 5.000e-03, eta: 4:19:31, time: 2.336, data_time: 0.009, memory: 16768, loss_cls: 0.7610, loss_bbox: 0.2085, loss_bbox_rf: 0.2620, loss: 1.2315\n",
      "2021-05-19 16:19:26,115 - mmdet - INFO - Epoch [16][600/818]\tlr: 5.000e-03, eta: 4:17:36, time: 2.274, data_time: 0.009, memory: 16768, loss_cls: 0.7524, loss_bbox: 0.2106, loss_bbox_rf: 0.2623, loss: 1.2253\n",
      "2021-05-19 16:21:23,807 - mmdet - INFO - Epoch [16][650/818]\tlr: 5.000e-03, eta: 4:15:44, time: 2.354, data_time: 0.010, memory: 16768, loss_cls: 0.7381, loss_bbox: 0.1909, loss_bbox_rf: 0.2400, loss: 1.1690\n",
      "2021-05-19 16:23:18,278 - mmdet - INFO - Epoch [16][700/818]\tlr: 5.000e-03, eta: 4:13:49, time: 2.289, data_time: 0.009, memory: 16768, loss_cls: 0.7442, loss_bbox: 0.1981, loss_bbox_rf: 0.2486, loss: 1.1909\n",
      "2021-05-19 16:25:16,129 - mmdet - INFO - Epoch [16][750/818]\tlr: 5.000e-03, eta: 4:11:57, time: 2.357, data_time: 0.010, memory: 16768, loss_cls: 0.7294, loss_bbox: 0.1969, loss_bbox_rf: 0.2465, loss: 1.1728\n",
      "2021-05-19 16:27:13,876 - mmdet - INFO - Epoch [16][800/818]\tlr: 5.000e-03, eta: 4:10:04, time: 2.355, data_time: 0.010, memory: 16768, loss_cls: 0.7805, loss_bbox: 0.1957, loss_bbox_rf: 0.2412, loss: 1.2173\n",
      "2021-05-19 16:27:53,126 - mmdet - INFO - Saving checkpoint at 16 epochs\n"
     ]
    },
    {
     "name": "stdout",
     "output_type": "stream",
     "text": [
      "[>>>>>>>>>>>>>>>>>>>>>>>>>>>>>>] 655/655, 7.7 task/s, elapsed: 85s, ETA:     0s"
     ]
    },
    {
     "name": "stderr",
     "output_type": "stream",
     "text": [
      "2021-05-19 16:29:21,978 - mmdet - INFO - Evaluating bbox...\n"
     ]
    },
    {
     "name": "stdout",
     "output_type": "stream",
     "text": [
      "Loading and preparing results...\n",
      "DONE (t=1.24s)\n",
      "creating index...\n",
      "index created!\n",
      "Running per image evaluation...\n",
      "Evaluate annotation type *bbox*\n",
      "DONE (t=7.81s).\n",
      "Accumulating evaluation results...\n"
     ]
    },
    {
     "name": "stderr",
     "output_type": "stream",
     "text": [
      "2021-05-19 16:29:32,913 - mmdet - INFO - Epoch(val) [16][818]\tbbox_mAP: 0.5030, bbox_mAP_50: 0.6250, bbox_mAP_75: 0.5360, bbox_mAP_s: 0.2780, bbox_mAP_m: 0.5040, bbox_mAP_l: 0.7210, bbox_mAP_copypaste: 0.503 0.625 0.536 0.278 0.504 0.721\n"
     ]
    },
    {
     "name": "stdout",
     "output_type": "stream",
     "text": [
      "DONE (t=1.74s).\n",
      "Average Precision  (AP) @[ IoU=0.50:0.95 | area=   all | maxDets=100 ] = 0.503\n",
      "Average Precision  (AP) @[ IoU=0.50      | area=   all | maxDets=1000 ] = 0.625\n",
      "Average Precision  (AP) @[ IoU=0.75      | area=   all | maxDets=1000 ] = 0.536\n",
      "Average Precision  (AP) @[ IoU=0.50:0.95 | area= small | maxDets=1000 ] = 0.278\n",
      "Average Precision  (AP) @[ IoU=0.50:0.95 | area=medium | maxDets=1000 ] = 0.504\n",
      "Average Precision  (AP) @[ IoU=0.50:0.95 | area= large | maxDets=1000 ] = 0.721\n",
      "Average Recall     (AR) @[ IoU=0.50:0.95 | area=   all | maxDets=100 ] = 0.637\n",
      "Average Recall     (AR) @[ IoU=0.50:0.95 | area=   all | maxDets=300 ] = 0.637\n",
      "Average Recall     (AR) @[ IoU=0.50:0.95 | area=   all | maxDets=1000 ] = 0.637\n",
      "Average Recall     (AR) @[ IoU=0.50:0.95 | area= small | maxDets=1000 ] = 0.394\n",
      "Average Recall     (AR) @[ IoU=0.50:0.95 | area=medium | maxDets=1000 ] = 0.652\n",
      "Average Recall     (AR) @[ IoU=0.50:0.95 | area= large | maxDets=1000 ] = 0.829\n"
     ]
    },
    {
     "name": "stderr",
     "output_type": "stream",
     "text": [
      "2021-05-19 16:31:36,246 - mmdet - INFO - Epoch [17][50/818]\tlr: 5.000e-04, eta: 4:07:13, time: 2.466, data_time: 0.093, memory: 16768, loss_cls: 0.7495, loss_bbox: 0.2055, loss_bbox_rf: 0.2619, loss: 1.2169\n",
      "2021-05-19 16:33:33,285 - mmdet - INFO - Epoch [17][100/818]\tlr: 5.000e-04, eta: 4:05:20, time: 2.341, data_time: 0.010, memory: 16768, loss_cls: 0.6865, loss_bbox: 0.1865, loss_bbox_rf: 0.2387, loss: 1.1117\n",
      "2021-05-19 16:35:27,326 - mmdet - INFO - Epoch [17][150/818]\tlr: 5.000e-04, eta: 4:03:26, time: 2.281, data_time: 0.010, memory: 16768, loss_cls: 0.6775, loss_bbox: 0.1829, loss_bbox_rf: 0.2352, loss: 1.0956\n",
      "2021-05-19 16:37:25,491 - mmdet - INFO - Epoch [17][200/818]\tlr: 5.000e-04, eta: 4:01:33, time: 2.363, data_time: 0.010, memory: 16768, loss_cls: 0.6692, loss_bbox: 0.1799, loss_bbox_rf: 0.2290, loss: 1.0781\n",
      "2021-05-19 16:39:20,708 - mmdet - INFO - Epoch [17][250/818]\tlr: 5.000e-04, eta: 3:59:40, time: 2.304, data_time: 0.010, memory: 16768, loss_cls: 0.6608, loss_bbox: 0.1847, loss_bbox_rf: 0.2375, loss: 1.0830\n",
      "2021-05-19 16:41:16,542 - mmdet - INFO - Epoch [17][300/818]\tlr: 5.000e-04, eta: 3:57:46, time: 2.317, data_time: 0.009, memory: 16768, loss_cls: 0.6688, loss_bbox: 0.1663, loss_bbox_rf: 0.2118, loss: 1.0468\n",
      "2021-05-19 16:43:10,998 - mmdet - INFO - Epoch [17][350/818]\tlr: 5.000e-04, eta: 3:55:52, time: 2.289, data_time: 0.009, memory: 16768, loss_cls: 0.6537, loss_bbox: 0.1748, loss_bbox_rf: 0.2249, loss: 1.0533\n",
      "2021-05-19 16:45:09,203 - mmdet - INFO - Epoch [17][400/818]\tlr: 5.000e-04, eta: 3:54:00, time: 2.364, data_time: 0.010, memory: 16768, loss_cls: 0.6301, loss_bbox: 0.1774, loss_bbox_rf: 0.2280, loss: 1.0355\n",
      "2021-05-19 16:47:03,003 - mmdet - INFO - Epoch [17][450/818]\tlr: 5.000e-04, eta: 3:52:05, time: 2.276, data_time: 0.009, memory: 16768, loss_cls: 0.6706, loss_bbox: 0.1869, loss_bbox_rf: 0.2395, loss: 1.0970\n",
      "2021-05-19 16:48:58,990 - mmdet - INFO - Epoch [17][500/818]\tlr: 5.000e-04, eta: 3:50:12, time: 2.320, data_time: 0.009, memory: 16768, loss_cls: 0.6409, loss_bbox: 0.1787, loss_bbox_rf: 0.2300, loss: 1.0496\n",
      "2021-05-19 16:50:53,837 - mmdet - INFO - Epoch [17][550/818]\tlr: 5.000e-04, eta: 3:48:18, time: 2.297, data_time: 0.009, memory: 16768, loss_cls: 0.6644, loss_bbox: 0.1770, loss_bbox_rf: 0.2269, loss: 1.0683\n",
      "2021-05-19 16:52:52,660 - mmdet - INFO - Epoch [17][600/818]\tlr: 5.000e-04, eta: 3:46:25, time: 2.376, data_time: 0.009, memory: 16768, loss_cls: 0.6454, loss_bbox: 0.1869, loss_bbox_rf: 0.2415, loss: 1.0738\n",
      "2021-05-19 16:54:48,395 - mmdet - INFO - Epoch [17][650/818]\tlr: 5.000e-04, eta: 3:44:32, time: 2.315, data_time: 0.009, memory: 16768, loss_cls: 0.6368, loss_bbox: 0.1824, loss_bbox_rf: 0.2360, loss: 1.0552\n",
      "2021-05-19 16:56:45,793 - mmdet - INFO - Epoch [17][700/818]\tlr: 5.000e-04, eta: 3:42:39, time: 2.348, data_time: 0.009, memory: 16768, loss_cls: 0.6355, loss_bbox: 0.1800, loss_bbox_rf: 0.2324, loss: 1.0479\n",
      "2021-05-19 16:58:44,985 - mmdet - INFO - Epoch [17][750/818]\tlr: 5.000e-04, eta: 3:40:46, time: 2.384, data_time: 0.009, memory: 16768, loss_cls: 0.6159, loss_bbox: 0.1593, loss_bbox_rf: 0.2049, loss: 0.9801\n",
      "2021-05-19 17:00:39,675 - mmdet - INFO - Epoch [17][800/818]\tlr: 5.000e-04, eta: 3:38:52, time: 2.294, data_time: 0.009, memory: 16768, loss_cls: 0.6240, loss_bbox: 0.1616, loss_bbox_rf: 0.2070, loss: 0.9926\n",
      "2021-05-19 17:01:21,367 - mmdet - INFO - Saving checkpoint at 17 epochs\n"
     ]
    },
    {
     "name": "stdout",
     "output_type": "stream",
     "text": [
      "[>>>>>>>>>>>>>>>>>>>>>>>>>>>>>>] 655/655, 7.8 task/s, elapsed: 84s, ETA:     0s"
     ]
    },
    {
     "name": "stderr",
     "output_type": "stream",
     "text": [
      "2021-05-19 17:02:48,621 - mmdet - INFO - Evaluating bbox...\n"
     ]
    },
    {
     "name": "stdout",
     "output_type": "stream",
     "text": [
      "Loading and preparing results...\n",
      "DONE (t=1.16s)\n",
      "creating index...\n",
      "index created!\n",
      "Running per image evaluation...\n",
      "Evaluate annotation type *bbox*\n",
      "DONE (t=7.63s).\n",
      "Accumulating evaluation results...\n"
     ]
    },
    {
     "name": "stderr",
     "output_type": "stream",
     "text": [
      "2021-05-19 17:02:58,956 - mmdet - INFO - Now best checkpoint is epoch_17.pth.Best bbox_mAP_50 is 0.7250\n",
      "2021-05-19 17:02:58,961 - mmdet - INFO - Epoch(val) [17][818]\tbbox_mAP: 0.6070, bbox_mAP_50: 0.7250, bbox_mAP_75: 0.6470, bbox_mAP_s: 0.3370, bbox_mAP_m: 0.6240, bbox_mAP_l: 0.8200, bbox_mAP_copypaste: 0.607 0.725 0.647 0.337 0.624 0.820\n"
     ]
    },
    {
     "name": "stdout",
     "output_type": "stream",
     "text": [
      "DONE (t=1.42s).\n",
      "Average Precision  (AP) @[ IoU=0.50:0.95 | area=   all | maxDets=100 ] = 0.607\n",
      "Average Precision  (AP) @[ IoU=0.50      | area=   all | maxDets=1000 ] = 0.725\n",
      "Average Precision  (AP) @[ IoU=0.75      | area=   all | maxDets=1000 ] = 0.647\n",
      "Average Precision  (AP) @[ IoU=0.50:0.95 | area= small | maxDets=1000 ] = 0.337\n",
      "Average Precision  (AP) @[ IoU=0.50:0.95 | area=medium | maxDets=1000 ] = 0.624\n",
      "Average Precision  (AP) @[ IoU=0.50:0.95 | area= large | maxDets=1000 ] = 0.820\n",
      "Average Recall     (AR) @[ IoU=0.50:0.95 | area=   all | maxDets=100 ] = 0.703\n",
      "Average Recall     (AR) @[ IoU=0.50:0.95 | area=   all | maxDets=300 ] = 0.703\n",
      "Average Recall     (AR) @[ IoU=0.50:0.95 | area=   all | maxDets=1000 ] = 0.703\n",
      "Average Recall     (AR) @[ IoU=0.50:0.95 | area= small | maxDets=1000 ] = 0.462\n",
      "Average Recall     (AR) @[ IoU=0.50:0.95 | area=medium | maxDets=1000 ] = 0.742\n",
      "Average Recall     (AR) @[ IoU=0.50:0.95 | area= large | maxDets=1000 ] = 0.893\n"
     ]
    },
    {
     "name": "stderr",
     "output_type": "stream",
     "text": [
      "2021-05-19 17:05:00,147 - mmdet - INFO - Epoch [18][50/818]\tlr: 5.000e-04, eta: 3:36:03, time: 2.423, data_time: 0.078, memory: 16768, loss_cls: 0.6219, loss_bbox: 0.1765, loss_bbox_rf: 0.2283, loss: 1.0267\n",
      "2021-05-19 17:06:59,191 - mmdet - INFO - Epoch [18][100/818]\tlr: 5.000e-04, eta: 3:34:11, time: 2.381, data_time: 0.010, memory: 16768, loss_cls: 0.6397, loss_bbox: 0.1721, loss_bbox_rf: 0.2207, loss: 1.0325\n",
      "2021-05-19 17:08:53,103 - mmdet - INFO - Epoch [18][150/818]\tlr: 5.000e-04, eta: 3:32:16, time: 2.278, data_time: 0.010, memory: 16768, loss_cls: 0.6056, loss_bbox: 0.1757, loss_bbox_rf: 0.2263, loss: 1.0075\n",
      "2021-05-19 17:10:50,258 - mmdet - INFO - Epoch [18][200/818]\tlr: 5.000e-04, eta: 3:30:23, time: 2.343, data_time: 0.010, memory: 16768, loss_cls: 0.6403, loss_bbox: 0.1963, loss_bbox_rf: 0.2542, loss: 1.0908\n",
      "2021-05-19 17:12:44,460 - mmdet - INFO - Epoch [18][250/818]\tlr: 5.000e-04, eta: 3:28:29, time: 2.284, data_time: 0.009, memory: 16768, loss_cls: 0.6456, loss_bbox: 0.1811, loss_bbox_rf: 0.2333, loss: 1.0600\n",
      "2021-05-19 17:14:39,486 - mmdet - INFO - Epoch [18][300/818]\tlr: 5.000e-04, eta: 3:26:35, time: 2.300, data_time: 0.009, memory: 16768, loss_cls: 0.6109, loss_bbox: 0.1763, loss_bbox_rf: 0.2277, loss: 1.0149\n",
      "2021-05-19 17:16:34,506 - mmdet - INFO - Epoch [18][350/818]\tlr: 5.000e-04, eta: 3:24:41, time: 2.300, data_time: 0.009, memory: 16768, loss_cls: 0.5925, loss_bbox: 0.1679, loss_bbox_rf: 0.2162, loss: 0.9766\n",
      "2021-05-19 17:18:30,630 - mmdet - INFO - Epoch [18][400/818]\tlr: 5.000e-04, eta: 3:22:48, time: 2.322, data_time: 0.009, memory: 16768, loss_cls: 0.6102, loss_bbox: 0.1615, loss_bbox_rf: 0.2074, loss: 0.9791\n",
      "2021-05-19 17:20:27,114 - mmdet - INFO - Epoch [18][450/818]\tlr: 5.000e-04, eta: 3:20:54, time: 2.330, data_time: 0.010, memory: 16768, loss_cls: 0.6269, loss_bbox: 0.1735, loss_bbox_rf: 0.2243, loss: 1.0246\n",
      "2021-05-19 17:22:22,323 - mmdet - INFO - Epoch [18][500/818]\tlr: 5.000e-04, eta: 3:19:00, time: 2.304, data_time: 0.009, memory: 16768, loss_cls: 0.6162, loss_bbox: 0.1660, loss_bbox_rf: 0.2135, loss: 0.9956\n",
      "2021-05-19 17:24:18,883 - mmdet - INFO - Epoch [18][550/818]\tlr: 5.000e-04, eta: 3:17:07, time: 2.331, data_time: 0.009, memory: 16768, loss_cls: 0.6016, loss_bbox: 0.1682, loss_bbox_rf: 0.2159, loss: 0.9858\n",
      "2021-05-19 17:26:13,341 - mmdet - INFO - Epoch [18][600/818]\tlr: 5.000e-04, eta: 3:15:13, time: 2.289, data_time: 0.009, memory: 16768, loss_cls: 0.6010, loss_bbox: 0.1677, loss_bbox_rf: 0.2157, loss: 0.9844\n",
      "2021-05-19 17:28:11,337 - mmdet - INFO - Epoch [18][650/818]\tlr: 5.000e-04, eta: 3:13:20, time: 2.360, data_time: 0.010, memory: 16768, loss_cls: 0.6181, loss_bbox: 0.1674, loss_bbox_rf: 0.2151, loss: 1.0006\n",
      "2021-05-19 17:30:06,266 - mmdet - INFO - Epoch [18][700/818]\tlr: 5.000e-04, eta: 3:11:26, time: 2.299, data_time: 0.010, memory: 16768, loss_cls: 0.6595, loss_bbox: 0.1911, loss_bbox_rf: 0.2467, loss: 1.0974\n",
      "2021-05-19 17:32:06,627 - mmdet - INFO - Epoch [18][750/818]\tlr: 5.000e-04, eta: 3:09:34, time: 2.407, data_time: 0.010, memory: 16768, loss_cls: 0.6250, loss_bbox: 0.1666, loss_bbox_rf: 0.2149, loss: 1.0065\n",
      "2021-05-19 17:34:03,640 - mmdet - INFO - Epoch [18][800/818]\tlr: 5.000e-04, eta: 3:07:40, time: 2.340, data_time: 0.009, memory: 16768, loss_cls: 0.6199, loss_bbox: 0.1654, loss_bbox_rf: 0.2128, loss: 0.9980\n",
      "2021-05-19 17:34:44,745 - mmdet - INFO - Saving checkpoint at 18 epochs\n"
     ]
    },
    {
     "name": "stdout",
     "output_type": "stream",
     "text": [
      "[>>>>>>>>>>>>>>>>>>>>>>>>>>>>>>] 655/655, 7.8 task/s, elapsed: 83s, ETA:     0s"
     ]
    },
    {
     "name": "stderr",
     "output_type": "stream",
     "text": [
      "2021-05-19 17:36:10,870 - mmdet - INFO - Evaluating bbox...\n"
     ]
    },
    {
     "name": "stdout",
     "output_type": "stream",
     "text": [
      "Loading and preparing results...\n",
      "DONE (t=2.04s)\n",
      "creating index...\n",
      "index created!\n",
      "Running per image evaluation...\n",
      "Evaluate annotation type *bbox*\n",
      "DONE (t=6.50s).\n",
      "Accumulating evaluation results...\n"
     ]
    },
    {
     "name": "stderr",
     "output_type": "stream",
     "text": [
      "2021-05-19 17:36:20,923 - mmdet - INFO - Now best checkpoint is epoch_18.pth.Best bbox_mAP_50 is 0.7400\n",
      "2021-05-19 17:36:20,928 - mmdet - INFO - Epoch(val) [18][818]\tbbox_mAP: 0.6230, bbox_mAP_50: 0.7400, bbox_mAP_75: 0.6630, bbox_mAP_s: 0.3510, bbox_mAP_m: 0.6430, bbox_mAP_l: 0.8320, bbox_mAP_copypaste: 0.623 0.740 0.663 0.351 0.643 0.832\n"
     ]
    },
    {
     "name": "stdout",
     "output_type": "stream",
     "text": [
      "DONE (t=1.39s).\n",
      "Average Precision  (AP) @[ IoU=0.50:0.95 | area=   all | maxDets=100 ] = 0.623\n",
      "Average Precision  (AP) @[ IoU=0.50      | area=   all | maxDets=1000 ] = 0.740\n",
      "Average Precision  (AP) @[ IoU=0.75      | area=   all | maxDets=1000 ] = 0.663\n",
      "Average Precision  (AP) @[ IoU=0.50:0.95 | area= small | maxDets=1000 ] = 0.351\n",
      "Average Precision  (AP) @[ IoU=0.50:0.95 | area=medium | maxDets=1000 ] = 0.643\n",
      "Average Precision  (AP) @[ IoU=0.50:0.95 | area= large | maxDets=1000 ] = 0.832\n",
      "Average Recall     (AR) @[ IoU=0.50:0.95 | area=   all | maxDets=100 ] = 0.714\n",
      "Average Recall     (AR) @[ IoU=0.50:0.95 | area=   all | maxDets=300 ] = 0.714\n",
      "Average Recall     (AR) @[ IoU=0.50:0.95 | area=   all | maxDets=1000 ] = 0.714\n",
      "Average Recall     (AR) @[ IoU=0.50:0.95 | area= small | maxDets=1000 ] = 0.483\n",
      "Average Recall     (AR) @[ IoU=0.50:0.95 | area=medium | maxDets=1000 ] = 0.744\n",
      "Average Recall     (AR) @[ IoU=0.50:0.95 | area= large | maxDets=1000 ] = 0.898\n"
     ]
    },
    {
     "name": "stderr",
     "output_type": "stream",
     "text": [
      "2021-05-19 17:38:25,739 - mmdet - INFO - Epoch [19][50/818]\tlr: 5.000e-04, eta: 3:04:55, time: 2.496, data_time: 0.123, memory: 16768, loss_cls: 0.5978, loss_bbox: 0.1707, loss_bbox_rf: 0.2202, loss: 0.9887\n",
      "2021-05-19 17:40:23,137 - mmdet - INFO - Epoch [19][100/818]\tlr: 5.000e-04, eta: 3:03:02, time: 2.348, data_time: 0.010, memory: 16768, loss_cls: 0.6148, loss_bbox: 0.1815, loss_bbox_rf: 0.2347, loss: 1.0310\n",
      "2021-05-19 17:42:18,988 - mmdet - INFO - Epoch [19][150/818]\tlr: 5.000e-04, eta: 3:01:08, time: 2.317, data_time: 0.009, memory: 16768, loss_cls: 0.6154, loss_bbox: 0.1660, loss_bbox_rf: 0.2141, loss: 0.9956\n",
      "2021-05-19 17:44:12,639 - mmdet - INFO - Epoch [19][200/818]\tlr: 5.000e-04, eta: 2:59:13, time: 2.273, data_time: 0.009, memory: 16768, loss_cls: 0.5774, loss_bbox: 0.1594, loss_bbox_rf: 0.2055, loss: 0.9422\n",
      "2021-05-19 17:46:07,483 - mmdet - INFO - Epoch [19][250/818]\tlr: 5.000e-04, eta: 2:57:19, time: 2.297, data_time: 0.009, memory: 16768, loss_cls: 0.6123, loss_bbox: 0.1809, loss_bbox_rf: 0.2329, loss: 1.0261\n",
      "2021-05-19 17:48:03,411 - mmdet - INFO - Epoch [19][300/818]\tlr: 5.000e-04, eta: 2:55:26, time: 2.319, data_time: 0.009, memory: 16768, loss_cls: 0.6019, loss_bbox: 0.1665, loss_bbox_rf: 0.2147, loss: 0.9830\n",
      "2021-05-19 17:49:56,956 - mmdet - INFO - Epoch [19][350/818]\tlr: 5.000e-04, eta: 2:53:31, time: 2.271, data_time: 0.009, memory: 16768, loss_cls: 0.6101, loss_bbox: 0.1722, loss_bbox_rf: 0.2217, loss: 1.0040\n",
      "2021-05-19 17:51:52,953 - mmdet - INFO - Epoch [19][400/818]\tlr: 5.000e-04, eta: 2:51:38, time: 2.320, data_time: 0.009, memory: 16768, loss_cls: 0.6149, loss_bbox: 0.1704, loss_bbox_rf: 0.2198, loss: 1.0051\n",
      "2021-05-19 17:53:47,079 - mmdet - INFO - Epoch [19][450/818]\tlr: 5.000e-04, eta: 2:49:43, time: 2.282, data_time: 0.009, memory: 16768, loss_cls: 0.5572, loss_bbox: 0.1455, loss_bbox_rf: 0.1863, loss: 0.8889\n",
      "2021-05-19 17:55:43,870 - mmdet - INFO - Epoch [19][500/818]\tlr: 5.000e-04, eta: 2:47:50, time: 2.336, data_time: 0.009, memory: 16768, loss_cls: 0.6060, loss_bbox: 0.1637, loss_bbox_rf: 0.2104, loss: 0.9801\n",
      "2021-05-19 17:57:42,354 - mmdet - INFO - Epoch [19][550/818]\tlr: 5.000e-04, eta: 2:45:57, time: 2.370, data_time: 0.009, memory: 16768, loss_cls: 0.6151, loss_bbox: 0.1719, loss_bbox_rf: 0.2216, loss: 1.0086\n",
      "2021-05-19 17:59:35,351 - mmdet - INFO - Epoch [19][600/818]\tlr: 5.000e-04, eta: 2:44:02, time: 2.260, data_time: 0.009, memory: 16768, loss_cls: 0.6008, loss_bbox: 0.1710, loss_bbox_rf: 0.2198, loss: 0.9916\n",
      "2021-05-19 18:01:33,479 - mmdet - INFO - Epoch [19][650/818]\tlr: 5.000e-04, eta: 2:42:09, time: 2.363, data_time: 0.009, memory: 16768, loss_cls: 0.6003, loss_bbox: 0.1642, loss_bbox_rf: 0.2117, loss: 0.9762\n",
      "2021-05-19 18:03:31,624 - mmdet - INFO - Epoch [19][700/818]\tlr: 5.000e-04, eta: 2:40:16, time: 2.363, data_time: 0.009, memory: 16768, loss_cls: 0.5876, loss_bbox: 0.1655, loss_bbox_rf: 0.2124, loss: 0.9655\n",
      "2021-05-19 18:05:30,838 - mmdet - INFO - Epoch [19][750/818]\tlr: 5.000e-04, eta: 2:38:23, time: 2.384, data_time: 0.010, memory: 16768, loss_cls: 0.6259, loss_bbox: 0.1722, loss_bbox_rf: 0.2224, loss: 1.0205\n",
      "2021-05-19 18:07:26,060 - mmdet - INFO - Epoch [19][800/818]\tlr: 5.000e-04, eta: 2:36:29, time: 2.304, data_time: 0.009, memory: 16768, loss_cls: 0.5974, loss_bbox: 0.1736, loss_bbox_rf: 0.2235, loss: 0.9945\n",
      "2021-05-19 18:08:07,256 - mmdet - INFO - Saving checkpoint at 19 epochs\n"
     ]
    },
    {
     "name": "stdout",
     "output_type": "stream",
     "text": [
      "[>>>>>>>>>>>>>>>>>>>>>>>>>>>>>>] 655/655, 7.9 task/s, elapsed: 83s, ETA:     0s"
     ]
    },
    {
     "name": "stderr",
     "output_type": "stream",
     "text": [
      "2021-05-19 18:09:33,866 - mmdet - INFO - Evaluating bbox...\n"
     ]
    },
    {
     "name": "stdout",
     "output_type": "stream",
     "text": [
      "Loading and preparing results...\n",
      "DONE (t=1.10s)\n",
      "creating index...\n",
      "index created!\n",
      "Running per image evaluation...\n",
      "Evaluate annotation type *bbox*\n",
      "DONE (t=6.53s).\n",
      "Accumulating evaluation results...\n"
     ]
    },
    {
     "name": "stderr",
     "output_type": "stream",
     "text": [
      "2021-05-19 18:09:42,927 - mmdet - INFO - Now best checkpoint is epoch_19.pth.Best bbox_mAP_50 is 0.7510\n",
      "2021-05-19 18:09:42,932 - mmdet - INFO - Epoch(val) [19][818]\tbbox_mAP: 0.6350, bbox_mAP_50: 0.7510, bbox_mAP_75: 0.6740, bbox_mAP_s: 0.3650, bbox_mAP_m: 0.6540, bbox_mAP_l: 0.8400, bbox_mAP_copypaste: 0.635 0.751 0.674 0.365 0.654 0.840\n"
     ]
    },
    {
     "name": "stdout",
     "output_type": "stream",
     "text": [
      "DONE (t=1.32s).\n",
      "Average Precision  (AP) @[ IoU=0.50:0.95 | area=   all | maxDets=100 ] = 0.635\n",
      "Average Precision  (AP) @[ IoU=0.50      | area=   all | maxDets=1000 ] = 0.751\n",
      "Average Precision  (AP) @[ IoU=0.75      | area=   all | maxDets=1000 ] = 0.674\n",
      "Average Precision  (AP) @[ IoU=0.50:0.95 | area= small | maxDets=1000 ] = 0.365\n",
      "Average Precision  (AP) @[ IoU=0.50:0.95 | area=medium | maxDets=1000 ] = 0.654\n",
      "Average Precision  (AP) @[ IoU=0.50:0.95 | area= large | maxDets=1000 ] = 0.840\n",
      "Average Recall     (AR) @[ IoU=0.50:0.95 | area=   all | maxDets=100 ] = 0.722\n",
      "Average Recall     (AR) @[ IoU=0.50:0.95 | area=   all | maxDets=300 ] = 0.722\n",
      "Average Recall     (AR) @[ IoU=0.50:0.95 | area=   all | maxDets=1000 ] = 0.722\n",
      "Average Recall     (AR) @[ IoU=0.50:0.95 | area= small | maxDets=1000 ] = 0.485\n",
      "Average Recall     (AR) @[ IoU=0.50:0.95 | area=medium | maxDets=1000 ] = 0.761\n",
      "Average Recall     (AR) @[ IoU=0.50:0.95 | area= large | maxDets=1000 ] = 0.899\n"
     ]
    },
    {
     "name": "stderr",
     "output_type": "stream",
     "text": [
      "2021-05-19 18:11:44,681 - mmdet - INFO - Epoch [20][50/818]\tlr: 5.000e-04, eta: 2:33:45, time: 2.435, data_time: 0.105, memory: 16768, loss_cls: 0.5674, loss_bbox: 0.1465, loss_bbox_rf: 0.1883, loss: 0.9023\n",
      "2021-05-19 18:13:37,816 - mmdet - INFO - Epoch [20][100/818]\tlr: 5.000e-04, eta: 2:31:50, time: 2.263, data_time: 0.010, memory: 16768, loss_cls: 0.5790, loss_bbox: 0.1666, loss_bbox_rf: 0.2143, loss: 0.9598\n",
      "2021-05-19 18:15:34,596 - mmdet - INFO - Epoch [20][150/818]\tlr: 5.000e-04, eta: 2:29:57, time: 2.336, data_time: 0.009, memory: 16768, loss_cls: 0.5984, loss_bbox: 0.1701, loss_bbox_rf: 0.2202, loss: 0.9887\n",
      "2021-05-19 18:17:25,660 - mmdet - INFO - Epoch [20][200/818]\tlr: 5.000e-04, eta: 2:28:02, time: 2.221, data_time: 0.010, memory: 16768, loss_cls: 0.5766, loss_bbox: 0.1551, loss_bbox_rf: 0.1998, loss: 0.9315\n",
      "2021-05-19 18:19:20,294 - mmdet - INFO - Epoch [20][250/818]\tlr: 5.000e-04, eta: 2:26:08, time: 2.293, data_time: 0.009, memory: 16768, loss_cls: 0.6151, loss_bbox: 0.1737, loss_bbox_rf: 0.2236, loss: 1.0124\n",
      "2021-05-19 18:21:15,730 - mmdet - INFO - Epoch [20][300/818]\tlr: 5.000e-04, eta: 2:24:14, time: 2.309, data_time: 0.009, memory: 16768, loss_cls: 0.5983, loss_bbox: 0.1762, loss_bbox_rf: 0.2273, loss: 1.0018\n",
      "2021-05-19 18:23:11,793 - mmdet - INFO - Epoch [20][350/818]\tlr: 5.000e-04, eta: 2:22:20, time: 2.321, data_time: 0.009, memory: 16768, loss_cls: 0.5805, loss_bbox: 0.1564, loss_bbox_rf: 0.2001, loss: 0.9370\n",
      "2021-05-19 18:25:07,443 - mmdet - INFO - Epoch [20][400/818]\tlr: 5.000e-04, eta: 2:20:26, time: 2.313, data_time: 0.010, memory: 16768, loss_cls: 0.5931, loss_bbox: 0.1652, loss_bbox_rf: 0.2142, loss: 0.9725\n",
      "2021-05-19 18:27:02,467 - mmdet - INFO - Epoch [20][450/818]\tlr: 5.000e-04, eta: 2:18:32, time: 2.300, data_time: 0.009, memory: 16768, loss_cls: 0.5857, loss_bbox: 0.1686, loss_bbox_rf: 0.2181, loss: 0.9724\n",
      "2021-05-19 18:28:57,090 - mmdet - INFO - Epoch [20][500/818]\tlr: 5.000e-04, eta: 2:16:38, time: 2.292, data_time: 0.009, memory: 16768, loss_cls: 0.5907, loss_bbox: 0.1617, loss_bbox_rf: 0.2082, loss: 0.9606\n",
      "2021-05-19 18:30:52,497 - mmdet - INFO - Epoch [20][550/818]\tlr: 5.000e-04, eta: 2:14:44, time: 2.308, data_time: 0.009, memory: 16768, loss_cls: 0.5764, loss_bbox: 0.1507, loss_bbox_rf: 0.1940, loss: 0.9211\n",
      "2021-05-19 18:32:44,466 - mmdet - INFO - Epoch [20][600/818]\tlr: 5.000e-04, eta: 2:12:50, time: 2.239, data_time: 0.009, memory: 16768, loss_cls: 0.5770, loss_bbox: 0.1691, loss_bbox_rf: 0.2176, loss: 0.9636\n",
      "2021-05-19 18:34:41,142 - mmdet - INFO - Epoch [20][650/818]\tlr: 5.000e-04, eta: 2:10:56, time: 2.334, data_time: 0.009, memory: 16768, loss_cls: 0.5808, loss_bbox: 0.1659, loss_bbox_rf: 0.2130, loss: 0.9597\n",
      "2021-05-19 18:36:36,308 - mmdet - INFO - Epoch [20][700/818]\tlr: 5.000e-04, eta: 2:09:02, time: 2.303, data_time: 0.009, memory: 16768, loss_cls: 0.5776, loss_bbox: 0.1745, loss_bbox_rf: 0.2252, loss: 0.9773\n",
      "2021-05-19 18:38:34,709 - mmdet - INFO - Epoch [20][750/818]\tlr: 5.000e-04, eta: 2:07:09, time: 2.368, data_time: 0.010, memory: 16768, loss_cls: 0.6071, loss_bbox: 0.1723, loss_bbox_rf: 0.2221, loss: 1.0015\n",
      "2021-05-19 18:40:29,456 - mmdet - INFO - Epoch [20][800/818]\tlr: 5.000e-04, eta: 2:05:15, time: 2.295, data_time: 0.009, memory: 16768, loss_cls: 0.6351, loss_bbox: 0.1940, loss_bbox_rf: 0.2505, loss: 1.0795\n",
      "2021-05-19 18:41:11,997 - mmdet - INFO - Saving checkpoint at 20 epochs\n"
     ]
    },
    {
     "name": "stdout",
     "output_type": "stream",
     "text": [
      "[>>>>>>>>>>>>>>>>>>>>>>>>>>>>>>] 655/655, 7.9 task/s, elapsed: 83s, ETA:     0s"
     ]
    },
    {
     "name": "stderr",
     "output_type": "stream",
     "text": [
      "2021-05-19 18:42:38,603 - mmdet - INFO - Evaluating bbox...\n"
     ]
    },
    {
     "name": "stdout",
     "output_type": "stream",
     "text": [
      "Loading and preparing results...\n",
      "DONE (t=1.11s)\n",
      "creating index...\n",
      "index created!\n",
      "Running per image evaluation...\n",
      "Evaluate annotation type *bbox*\n",
      "DONE (t=6.41s).\n",
      "Accumulating evaluation results...\n"
     ]
    },
    {
     "name": "stderr",
     "output_type": "stream",
     "text": [
      "2021-05-19 18:42:47,552 - mmdet - INFO - Now best checkpoint is epoch_20.pth.Best bbox_mAP_50 is 0.7540\n",
      "2021-05-19 18:42:47,557 - mmdet - INFO - Epoch(val) [20][818]\tbbox_mAP: 0.6380, bbox_mAP_50: 0.7540, bbox_mAP_75: 0.6770, bbox_mAP_s: 0.3740, bbox_mAP_m: 0.6570, bbox_mAP_l: 0.8400, bbox_mAP_copypaste: 0.638 0.754 0.677 0.374 0.657 0.840\n"
     ]
    },
    {
     "name": "stdout",
     "output_type": "stream",
     "text": [
      "DONE (t=1.31s).\n",
      "Average Precision  (AP) @[ IoU=0.50:0.95 | area=   all | maxDets=100 ] = 0.638\n",
      "Average Precision  (AP) @[ IoU=0.50      | area=   all | maxDets=1000 ] = 0.754\n",
      "Average Precision  (AP) @[ IoU=0.75      | area=   all | maxDets=1000 ] = 0.677\n",
      "Average Precision  (AP) @[ IoU=0.50:0.95 | area= small | maxDets=1000 ] = 0.374\n",
      "Average Precision  (AP) @[ IoU=0.50:0.95 | area=medium | maxDets=1000 ] = 0.657\n",
      "Average Precision  (AP) @[ IoU=0.50:0.95 | area= large | maxDets=1000 ] = 0.840\n",
      "Average Recall     (AR) @[ IoU=0.50:0.95 | area=   all | maxDets=100 ] = 0.726\n",
      "Average Recall     (AR) @[ IoU=0.50:0.95 | area=   all | maxDets=300 ] = 0.726\n",
      "Average Recall     (AR) @[ IoU=0.50:0.95 | area=   all | maxDets=1000 ] = 0.726\n",
      "Average Recall     (AR) @[ IoU=0.50:0.95 | area= small | maxDets=1000 ] = 0.490\n",
      "Average Recall     (AR) @[ IoU=0.50:0.95 | area=medium | maxDets=1000 ] = 0.761\n",
      "Average Recall     (AR) @[ IoU=0.50:0.95 | area= large | maxDets=1000 ] = 0.900\n"
     ]
    },
    {
     "name": "stderr",
     "output_type": "stream",
     "text": [
      "2021-05-19 18:44:47,757 - mmdet - INFO - Epoch [21][50/818]\tlr: 5.000e-04, eta: 2:02:32, time: 2.404, data_time: 0.090, memory: 16768, loss_cls: 0.5547, loss_bbox: 0.1612, loss_bbox_rf: 0.2074, loss: 0.9233\n",
      "2021-05-19 18:46:42,883 - mmdet - INFO - Epoch [21][100/818]\tlr: 5.000e-04, eta: 2:00:39, time: 2.303, data_time: 0.009, memory: 16768, loss_cls: 0.5623, loss_bbox: 0.1572, loss_bbox_rf: 0.2014, loss: 0.9209\n",
      "2021-05-19 18:48:37,808 - mmdet - INFO - Epoch [21][150/818]\tlr: 5.000e-04, eta: 1:58:45, time: 2.298, data_time: 0.009, memory: 16768, loss_cls: 0.6139, loss_bbox: 0.1750, loss_bbox_rf: 0.2262, loss: 1.0151\n",
      "2021-05-19 18:50:33,265 - mmdet - INFO - Epoch [21][200/818]\tlr: 5.000e-04, eta: 1:56:51, time: 2.309, data_time: 0.009, memory: 16768, loss_cls: 0.6216, loss_bbox: 0.1682, loss_bbox_rf: 0.2168, loss: 1.0066\n",
      "2021-05-19 18:52:30,462 - mmdet - INFO - Epoch [21][250/818]\tlr: 5.000e-04, eta: 1:54:57, time: 2.344, data_time: 0.010, memory: 16768, loss_cls: 0.5758, loss_bbox: 0.1651, loss_bbox_rf: 0.2129, loss: 0.9537\n",
      "2021-05-19 18:54:27,785 - mmdet - INFO - Epoch [21][300/818]\tlr: 5.000e-04, eta: 1:53:04, time: 2.346, data_time: 0.009, memory: 16768, loss_cls: 0.5842, loss_bbox: 0.1671, loss_bbox_rf: 0.2150, loss: 0.9663\n",
      "2021-05-19 18:56:23,351 - mmdet - INFO - Epoch [21][350/818]\tlr: 5.000e-04, eta: 1:51:10, time: 2.311, data_time: 0.009, memory: 16768, loss_cls: 0.5992, loss_bbox: 0.1617, loss_bbox_rf: 0.2072, loss: 0.9682\n",
      "2021-05-19 18:58:16,603 - mmdet - INFO - Epoch [21][400/818]\tlr: 5.000e-04, eta: 1:49:15, time: 2.265, data_time: 0.009, memory: 16768, loss_cls: 0.5671, loss_bbox: 0.1499, loss_bbox_rf: 0.1920, loss: 0.9090\n",
      "2021-05-19 19:00:13,790 - mmdet - INFO - Epoch [21][450/818]\tlr: 5.000e-04, eta: 1:47:22, time: 2.344, data_time: 0.009, memory: 16768, loss_cls: 0.5875, loss_bbox: 0.1743, loss_bbox_rf: 0.2255, loss: 0.9873\n",
      "2021-05-19 19:02:10,069 - mmdet - INFO - Epoch [21][500/818]\tlr: 5.000e-04, eta: 1:45:28, time: 2.326, data_time: 0.009, memory: 16768, loss_cls: 0.5903, loss_bbox: 0.1690, loss_bbox_rf: 0.2182, loss: 0.9775\n",
      "2021-05-19 19:04:04,281 - mmdet - INFO - Epoch [21][550/818]\tlr: 5.000e-04, eta: 1:43:34, time: 2.284, data_time: 0.010, memory: 16768, loss_cls: 0.5766, loss_bbox: 0.1599, loss_bbox_rf: 0.2060, loss: 0.9425\n",
      "2021-05-19 19:05:57,937 - mmdet - INFO - Epoch [21][600/818]\tlr: 5.000e-04, eta: 1:41:40, time: 2.273, data_time: 0.009, memory: 16768, loss_cls: 0.5806, loss_bbox: 0.1554, loss_bbox_rf: 0.1996, loss: 0.9356\n",
      "2021-05-19 19:07:55,647 - mmdet - INFO - Epoch [21][650/818]\tlr: 5.000e-04, eta: 1:39:46, time: 2.354, data_time: 0.010, memory: 16768, loss_cls: 0.5357, loss_bbox: 0.1524, loss_bbox_rf: 0.1956, loss: 0.8837\n",
      "2021-05-19 19:09:52,229 - mmdet - INFO - Epoch [21][700/818]\tlr: 5.000e-04, eta: 1:37:52, time: 2.332, data_time: 0.009, memory: 16768, loss_cls: 0.6065, loss_bbox: 0.1754, loss_bbox_rf: 0.2269, loss: 1.0088\n",
      "2021-05-19 19:11:51,559 - mmdet - INFO - Epoch [21][750/818]\tlr: 5.000e-04, eta: 1:35:59, time: 2.387, data_time: 0.009, memory: 16768, loss_cls: 0.6051, loss_bbox: 0.1669, loss_bbox_rf: 0.2153, loss: 0.9873\n",
      "2021-05-19 19:13:47,249 - mmdet - INFO - Epoch [21][800/818]\tlr: 5.000e-04, eta: 1:34:05, time: 2.314, data_time: 0.009, memory: 16768, loss_cls: 0.5707, loss_bbox: 0.1676, loss_bbox_rf: 0.2160, loss: 0.9543\n",
      "2021-05-19 19:14:28,430 - mmdet - INFO - Saving checkpoint at 21 epochs\n"
     ]
    },
    {
     "name": "stdout",
     "output_type": "stream",
     "text": [
      "[>>>>>>>>>>>>>>>>>>>>>>>>>>>>>>] 655/655, 7.8 task/s, elapsed: 84s, ETA:     0s"
     ]
    },
    {
     "name": "stderr",
     "output_type": "stream",
     "text": [
      "2021-05-19 19:15:55,211 - mmdet - INFO - Evaluating bbox...\n"
     ]
    },
    {
     "name": "stdout",
     "output_type": "stream",
     "text": [
      "Loading and preparing results...\n",
      "DONE (t=1.07s)\n",
      "creating index...\n",
      "index created!\n",
      "Running per image evaluation...\n",
      "Evaluate annotation type *bbox*\n",
      "DONE (t=7.41s).\n",
      "Accumulating evaluation results...\n"
     ]
    },
    {
     "name": "stderr",
     "output_type": "stream",
     "text": [
      "2021-05-19 19:16:05,066 - mmdet - INFO - Now best checkpoint is epoch_21.pth.Best bbox_mAP_50 is 0.7630\n",
      "2021-05-19 19:16:05,073 - mmdet - INFO - Epoch(val) [21][818]\tbbox_mAP: 0.6430, bbox_mAP_50: 0.7630, bbox_mAP_75: 0.6840, bbox_mAP_s: 0.3850, bbox_mAP_m: 0.6650, bbox_mAP_l: 0.8440, bbox_mAP_copypaste: 0.643 0.763 0.684 0.385 0.665 0.844\n"
     ]
    },
    {
     "name": "stdout",
     "output_type": "stream",
     "text": [
      "DONE (t=1.26s).\n",
      "Average Precision  (AP) @[ IoU=0.50:0.95 | area=   all | maxDets=100 ] = 0.643\n",
      "Average Precision  (AP) @[ IoU=0.50      | area=   all | maxDets=1000 ] = 0.763\n",
      "Average Precision  (AP) @[ IoU=0.75      | area=   all | maxDets=1000 ] = 0.684\n",
      "Average Precision  (AP) @[ IoU=0.50:0.95 | area= small | maxDets=1000 ] = 0.385\n",
      "Average Precision  (AP) @[ IoU=0.50:0.95 | area=medium | maxDets=1000 ] = 0.665\n",
      "Average Precision  (AP) @[ IoU=0.50:0.95 | area= large | maxDets=1000 ] = 0.844\n",
      "Average Recall     (AR) @[ IoU=0.50:0.95 | area=   all | maxDets=100 ] = 0.729\n",
      "Average Recall     (AR) @[ IoU=0.50:0.95 | area=   all | maxDets=300 ] = 0.729\n",
      "Average Recall     (AR) @[ IoU=0.50:0.95 | area=   all | maxDets=1000 ] = 0.729\n",
      "Average Recall     (AR) @[ IoU=0.50:0.95 | area= small | maxDets=1000 ] = 0.510\n",
      "Average Recall     (AR) @[ IoU=0.50:0.95 | area=medium | maxDets=1000 ] = 0.765\n",
      "Average Recall     (AR) @[ IoU=0.50:0.95 | area= large | maxDets=1000 ] = 0.902\n"
     ]
    },
    {
     "name": "stderr",
     "output_type": "stream",
     "text": [
      "2021-05-19 19:18:08,122 - mmdet - INFO - Epoch [22][50/818]\tlr: 5.000e-04, eta: 1:31:25, time: 2.461, data_time: 0.109, memory: 16768, loss_cls: 0.5922, loss_bbox: 0.1616, loss_bbox_rf: 0.2083, loss: 0.9621\n",
      "2021-05-19 19:20:05,892 - mmdet - INFO - Epoch [22][100/818]\tlr: 5.000e-04, eta: 1:29:31, time: 2.355, data_time: 0.010, memory: 16768, loss_cls: 0.5799, loss_bbox: 0.1654, loss_bbox_rf: 0.2137, loss: 0.9590\n",
      "2021-05-19 19:21:59,319 - mmdet - INFO - Epoch [22][150/818]\tlr: 5.000e-04, eta: 1:27:37, time: 2.268, data_time: 0.009, memory: 16768, loss_cls: 0.5748, loss_bbox: 0.1678, loss_bbox_rf: 0.2157, loss: 0.9583\n",
      "2021-05-19 19:23:57,230 - mmdet - INFO - Epoch [22][200/818]\tlr: 5.000e-04, eta: 1:25:44, time: 2.358, data_time: 0.010, memory: 16768, loss_cls: 0.6024, loss_bbox: 0.1754, loss_bbox_rf: 0.2266, loss: 1.0045\n",
      "2021-05-19 19:25:50,475 - mmdet - INFO - Epoch [22][250/818]\tlr: 5.000e-04, eta: 1:23:49, time: 2.265, data_time: 0.009, memory: 16768, loss_cls: 0.5208, loss_bbox: 0.1439, loss_bbox_rf: 0.1856, loss: 0.8503\n",
      "2021-05-19 19:27:48,790 - mmdet - INFO - Epoch [22][300/818]\tlr: 5.000e-04, eta: 1:21:56, time: 2.366, data_time: 0.009, memory: 16768, loss_cls: 0.5939, loss_bbox: 0.1617, loss_bbox_rf: 0.2086, loss: 0.9642\n",
      "2021-05-19 19:29:44,158 - mmdet - INFO - Epoch [22][350/818]\tlr: 5.000e-04, eta: 1:20:02, time: 2.307, data_time: 0.009, memory: 16768, loss_cls: 0.5824, loss_bbox: 0.1764, loss_bbox_rf: 0.2276, loss: 0.9863\n",
      "2021-05-19 19:31:37,605 - mmdet - INFO - Epoch [22][400/818]\tlr: 5.000e-04, eta: 1:18:08, time: 2.269, data_time: 0.009, memory: 16768, loss_cls: 0.5840, loss_bbox: 0.1641, loss_bbox_rf: 0.2124, loss: 0.9605\n",
      "2021-05-19 19:33:33,793 - mmdet - INFO - Epoch [22][450/818]\tlr: 5.000e-04, eta: 1:16:14, time: 2.324, data_time: 0.009, memory: 16768, loss_cls: 0.5710, loss_bbox: 0.1662, loss_bbox_rf: 0.2148, loss: 0.9520\n",
      "2021-05-19 19:35:27,691 - mmdet - INFO - Epoch [22][500/818]\tlr: 5.000e-04, eta: 1:14:20, time: 2.278, data_time: 0.009, memory: 16768, loss_cls: 0.5995, loss_bbox: 0.1782, loss_bbox_rf: 0.2303, loss: 1.0081\n",
      "2021-05-19 19:37:27,457 - mmdet - INFO - Epoch [22][550/818]\tlr: 5.000e-04, eta: 1:12:26, time: 2.395, data_time: 0.010, memory: 16768, loss_cls: 0.5471, loss_bbox: 0.1443, loss_bbox_rf: 0.1850, loss: 0.8763\n",
      "2021-05-19 19:39:21,298 - mmdet - INFO - Epoch [22][600/818]\tlr: 5.000e-04, eta: 1:10:32, time: 2.277, data_time: 0.009, memory: 16768, loss_cls: 0.5600, loss_bbox: 0.1525, loss_bbox_rf: 0.1962, loss: 0.9088\n",
      "2021-05-19 19:41:18,175 - mmdet - INFO - Epoch [22][650/818]\tlr: 5.000e-04, eta: 1:08:38, time: 2.338, data_time: 0.009, memory: 16768, loss_cls: 0.5895, loss_bbox: 0.1642, loss_bbox_rf: 0.2120, loss: 0.9656\n",
      "2021-05-19 19:43:13,416 - mmdet - INFO - Epoch [22][700/818]\tlr: 5.000e-04, eta: 1:06:44, time: 2.305, data_time: 0.009, memory: 16768, loss_cls: 0.5785, loss_bbox: 0.1662, loss_bbox_rf: 0.2148, loss: 0.9595\n",
      "2021-05-19 19:45:13,048 - mmdet - INFO - Epoch [22][750/818]\tlr: 5.000e-04, eta: 1:04:50, time: 2.393, data_time: 0.010, memory: 16768, loss_cls: 0.5900, loss_bbox: 0.1613, loss_bbox_rf: 0.2077, loss: 0.9590\n",
      "2021-05-19 19:47:04,057 - mmdet - INFO - Epoch [22][800/818]\tlr: 5.000e-04, eta: 1:02:56, time: 2.220, data_time: 0.009, memory: 16768, loss_cls: 0.5930, loss_bbox: 0.1749, loss_bbox_rf: 0.2259, loss: 0.9939\n",
      "2021-05-19 19:47:45,487 - mmdet - INFO - Saving checkpoint at 22 epochs\n"
     ]
    },
    {
     "name": "stdout",
     "output_type": "stream",
     "text": [
      "[>>>>>>>>>>>>>>>>>>>>>>>>>>>>>>] 655/655, 8.0 task/s, elapsed: 82s, ETA:     0s"
     ]
    },
    {
     "name": "stderr",
     "output_type": "stream",
     "text": [
      "2021-05-19 19:49:14,450 - mmdet - INFO - Evaluating bbox...\n"
     ]
    },
    {
     "name": "stdout",
     "output_type": "stream",
     "text": [
      "Loading and preparing results...\n",
      "DONE (t=1.08s)\n",
      "creating index...\n",
      "index created!\n",
      "Running per image evaluation...\n",
      "Evaluate annotation type *bbox*\n",
      "DONE (t=7.39s).\n",
      "Accumulating evaluation results...\n"
     ]
    },
    {
     "name": "stderr",
     "output_type": "stream",
     "text": [
      "2021-05-19 19:49:24,279 - mmdet - INFO - Now best checkpoint is epoch_22.pth.Best bbox_mAP_50 is 0.7670\n",
      "2021-05-19 19:49:24,287 - mmdet - INFO - Epoch(val) [22][818]\tbbox_mAP: 0.6510, bbox_mAP_50: 0.7670, bbox_mAP_75: 0.6900, bbox_mAP_s: 0.3900, bbox_mAP_m: 0.6740, bbox_mAP_l: 0.8450, bbox_mAP_copypaste: 0.651 0.767 0.690 0.390 0.674 0.845\n"
     ]
    },
    {
     "name": "stdout",
     "output_type": "stream",
     "text": [
      "DONE (t=1.25s).\n",
      "Average Precision  (AP) @[ IoU=0.50:0.95 | area=   all | maxDets=100 ] = 0.651\n",
      "Average Precision  (AP) @[ IoU=0.50      | area=   all | maxDets=1000 ] = 0.767\n",
      "Average Precision  (AP) @[ IoU=0.75      | area=   all | maxDets=1000 ] = 0.690\n",
      "Average Precision  (AP) @[ IoU=0.50:0.95 | area= small | maxDets=1000 ] = 0.390\n",
      "Average Precision  (AP) @[ IoU=0.50:0.95 | area=medium | maxDets=1000 ] = 0.674\n",
      "Average Precision  (AP) @[ IoU=0.50:0.95 | area= large | maxDets=1000 ] = 0.845\n",
      "Average Recall     (AR) @[ IoU=0.50:0.95 | area=   all | maxDets=100 ] = 0.735\n",
      "Average Recall     (AR) @[ IoU=0.50:0.95 | area=   all | maxDets=300 ] = 0.735\n",
      "Average Recall     (AR) @[ IoU=0.50:0.95 | area=   all | maxDets=1000 ] = 0.735\n",
      "Average Recall     (AR) @[ IoU=0.50:0.95 | area= small | maxDets=1000 ] = 0.505\n",
      "Average Recall     (AR) @[ IoU=0.50:0.95 | area=medium | maxDets=1000 ] = 0.775\n",
      "Average Recall     (AR) @[ IoU=0.50:0.95 | area= large | maxDets=1000 ] = 0.901\n"
     ]
    },
    {
     "name": "stderr",
     "output_type": "stream",
     "text": [
      "2021-05-19 19:51:22,678 - mmdet - INFO - Epoch [23][50/818]\tlr: 5.000e-05, eta: 1:00:17, time: 2.368, data_time: 0.082, memory: 16768, loss_cls: 0.5758, loss_bbox: 0.1701, loss_bbox_rf: 0.2206, loss: 0.9665\n",
      "2021-05-19 19:53:16,909 - mmdet - INFO - Epoch [23][100/818]\tlr: 5.000e-05, eta: 0:58:23, time: 2.285, data_time: 0.009, memory: 16768, loss_cls: 0.5420, loss_bbox: 0.1491, loss_bbox_rf: 0.1921, loss: 0.8832\n",
      "2021-05-19 19:55:11,453 - mmdet - INFO - Epoch [23][150/818]\tlr: 5.000e-05, eta: 0:56:29, time: 2.291, data_time: 0.009, memory: 16768, loss_cls: 0.5774, loss_bbox: 0.1655, loss_bbox_rf: 0.2139, loss: 0.9569\n",
      "2021-05-19 19:57:06,770 - mmdet - INFO - Epoch [23][200/818]\tlr: 5.000e-05, eta: 0:54:35, time: 2.306, data_time: 0.009, memory: 16768, loss_cls: 0.5902, loss_bbox: 0.1700, loss_bbox_rf: 0.2205, loss: 0.9807\n",
      "2021-05-19 19:59:03,796 - mmdet - INFO - Epoch [23][250/818]\tlr: 5.000e-05, eta: 0:52:42, time: 2.340, data_time: 0.009, memory: 16768, loss_cls: 0.5676, loss_bbox: 0.1627, loss_bbox_rf: 0.2101, loss: 0.9404\n",
      "2021-05-19 20:00:58,905 - mmdet - INFO - Epoch [23][300/818]\tlr: 5.000e-05, eta: 0:50:48, time: 2.302, data_time: 0.009, memory: 16768, loss_cls: 0.5629, loss_bbox: 0.1631, loss_bbox_rf: 0.2103, loss: 0.9363\n",
      "2021-05-19 20:02:56,437 - mmdet - INFO - Epoch [23][350/818]\tlr: 5.000e-05, eta: 0:48:54, time: 2.351, data_time: 0.009, memory: 16768, loss_cls: 0.5458, loss_bbox: 0.1510, loss_bbox_rf: 0.1946, loss: 0.8914\n",
      "2021-05-19 20:04:52,179 - mmdet - INFO - Epoch [23][400/818]\tlr: 5.000e-05, eta: 0:47:00, time: 2.315, data_time: 0.009, memory: 16768, loss_cls: 0.5649, loss_bbox: 0.1640, loss_bbox_rf: 0.2123, loss: 0.9412\n",
      "2021-05-19 20:06:49,127 - mmdet - INFO - Epoch [23][450/818]\tlr: 5.000e-05, eta: 0:45:06, time: 2.339, data_time: 0.009, memory: 16768, loss_cls: 0.5664, loss_bbox: 0.1629, loss_bbox_rf: 0.2109, loss: 0.9402\n",
      "2021-05-19 20:08:44,326 - mmdet - INFO - Epoch [23][500/818]\tlr: 5.000e-05, eta: 0:43:12, time: 2.304, data_time: 0.010, memory: 16768, loss_cls: 0.5315, loss_bbox: 0.1541, loss_bbox_rf: 0.1989, loss: 0.8844\n",
      "2021-05-19 20:10:41,834 - mmdet - INFO - Epoch [23][550/818]\tlr: 5.000e-05, eta: 0:41:18, time: 2.350, data_time: 0.009, memory: 16768, loss_cls: 0.5398, loss_bbox: 0.1500, loss_bbox_rf: 0.1929, loss: 0.8827\n",
      "2021-05-19 20:12:37,108 - mmdet - INFO - Epoch [23][600/818]\tlr: 5.000e-05, eta: 0:39:24, time: 2.305, data_time: 0.009, memory: 16768, loss_cls: 0.5578, loss_bbox: 0.1660, loss_bbox_rf: 0.2143, loss: 0.9382\n",
      "2021-05-19 20:14:35,725 - mmdet - INFO - Epoch [23][650/818]\tlr: 5.000e-05, eta: 0:37:30, time: 2.372, data_time: 0.010, memory: 16768, loss_cls: 0.5912, loss_bbox: 0.1744, loss_bbox_rf: 0.2256, loss: 0.9912\n",
      "2021-05-19 20:16:31,811 - mmdet - INFO - Epoch [23][700/818]\tlr: 5.000e-05, eta: 0:35:36, time: 2.322, data_time: 0.009, memory: 16768, loss_cls: 0.5875, loss_bbox: 0.1657, loss_bbox_rf: 0.2136, loss: 0.9667\n",
      "2021-05-19 20:18:30,894 - mmdet - INFO - Epoch [23][750/818]\tlr: 5.000e-05, eta: 0:33:42, time: 2.382, data_time: 0.010, memory: 16768, loss_cls: 0.5700, loss_bbox: 0.1589, loss_bbox_rf: 0.2041, loss: 0.9330\n",
      "2021-05-19 20:20:30,051 - mmdet - INFO - Epoch [23][800/818]\tlr: 5.000e-05, eta: 0:31:48, time: 2.383, data_time: 0.009, memory: 16768, loss_cls: 0.5624, loss_bbox: 0.1677, loss_bbox_rf: 0.2165, loss: 0.9467\n",
      "2021-05-19 20:21:12,385 - mmdet - INFO - Saving checkpoint at 23 epochs\n"
     ]
    },
    {
     "name": "stdout",
     "output_type": "stream",
     "text": [
      "[>>>>>>>>>>>>>>>>>>>>>>>>>>>>>>] 655/655, 7.8 task/s, elapsed: 84s, ETA:     0s"
     ]
    },
    {
     "name": "stderr",
     "output_type": "stream",
     "text": [
      "2021-05-19 20:22:43,122 - mmdet - INFO - Evaluating bbox...\n"
     ]
    },
    {
     "name": "stdout",
     "output_type": "stream",
     "text": [
      "Loading and preparing results...\n",
      "DONE (t=1.10s)\n",
      "creating index...\n",
      "index created!\n",
      "Running per image evaluation...\n",
      "Evaluate annotation type *bbox*\n",
      "DONE (t=6.34s).\n",
      "Accumulating evaluation results...\n"
     ]
    },
    {
     "name": "stderr",
     "output_type": "stream",
     "text": [
      "2021-05-19 20:22:51,935 - mmdet - INFO - Now best checkpoint is epoch_23.pth.Best bbox_mAP_50 is 0.7700\n",
      "2021-05-19 20:22:51,940 - mmdet - INFO - Epoch(val) [23][818]\tbbox_mAP: 0.6530, bbox_mAP_50: 0.7700, bbox_mAP_75: 0.6910, bbox_mAP_s: 0.3990, bbox_mAP_m: 0.6760, bbox_mAP_l: 0.8470, bbox_mAP_copypaste: 0.653 0.770 0.691 0.399 0.676 0.847\n"
     ]
    },
    {
     "name": "stdout",
     "output_type": "stream",
     "text": [
      "DONE (t=1.26s).\n",
      "Average Precision  (AP) @[ IoU=0.50:0.95 | area=   all | maxDets=100 ] = 0.653\n",
      "Average Precision  (AP) @[ IoU=0.50      | area=   all | maxDets=1000 ] = 0.770\n",
      "Average Precision  (AP) @[ IoU=0.75      | area=   all | maxDets=1000 ] = 0.691\n",
      "Average Precision  (AP) @[ IoU=0.50:0.95 | area= small | maxDets=1000 ] = 0.399\n",
      "Average Precision  (AP) @[ IoU=0.50:0.95 | area=medium | maxDets=1000 ] = 0.676\n",
      "Average Precision  (AP) @[ IoU=0.50:0.95 | area= large | maxDets=1000 ] = 0.847\n",
      "Average Recall     (AR) @[ IoU=0.50:0.95 | area=   all | maxDets=100 ] = 0.736\n",
      "Average Recall     (AR) @[ IoU=0.50:0.95 | area=   all | maxDets=300 ] = 0.736\n",
      "Average Recall     (AR) @[ IoU=0.50:0.95 | area=   all | maxDets=1000 ] = 0.736\n",
      "Average Recall     (AR) @[ IoU=0.50:0.95 | area= small | maxDets=1000 ] = 0.512\n",
      "Average Recall     (AR) @[ IoU=0.50:0.95 | area=medium | maxDets=1000 ] = 0.773\n",
      "Average Recall     (AR) @[ IoU=0.50:0.95 | area= large | maxDets=1000 ] = 0.903\n"
     ]
    },
    {
     "name": "stderr",
     "output_type": "stream",
     "text": [
      "2021-05-19 20:24:50,600 - mmdet - INFO - Epoch [24][50/818]\tlr: 5.000e-05, eta: 0:29:11, time: 2.373, data_time: 0.075, memory: 16768, loss_cls: 0.5665, loss_bbox: 0.1613, loss_bbox_rf: 0.2090, loss: 0.9367\n",
      "2021-05-19 20:26:47,669 - mmdet - INFO - Epoch [24][100/818]\tlr: 5.000e-05, eta: 0:27:17, time: 2.341, data_time: 0.010, memory: 16768, loss_cls: 0.5718, loss_bbox: 0.1615, loss_bbox_rf: 0.2092, loss: 0.9425\n",
      "2021-05-19 20:28:43,143 - mmdet - INFO - Epoch [24][150/818]\tlr: 5.000e-05, eta: 0:25:23, time: 2.309, data_time: 0.010, memory: 16768, loss_cls: 0.5855, loss_bbox: 0.1631, loss_bbox_rf: 0.2100, loss: 0.9587\n",
      "2021-05-19 20:30:39,302 - mmdet - INFO - Epoch [24][200/818]\tlr: 5.000e-05, eta: 0:23:29, time: 2.323, data_time: 0.009, memory: 16768, loss_cls: 0.5611, loss_bbox: 0.1557, loss_bbox_rf: 0.2011, loss: 0.9178\n",
      "2021-05-19 20:32:35,464 - mmdet - INFO - Epoch [24][250/818]\tlr: 5.000e-05, eta: 0:21:35, time: 2.323, data_time: 0.009, memory: 16768, loss_cls: 0.5657, loss_bbox: 0.1626, loss_bbox_rf: 0.2096, loss: 0.9379\n",
      "2021-05-19 20:34:30,240 - mmdet - INFO - Epoch [24][300/818]\tlr: 5.000e-05, eta: 0:19:41, time: 2.295, data_time: 0.010, memory: 16768, loss_cls: 0.5710, loss_bbox: 0.1645, loss_bbox_rf: 0.2120, loss: 0.9476\n",
      "2021-05-19 20:36:27,652 - mmdet - INFO - Epoch [24][350/818]\tlr: 5.000e-05, eta: 0:17:47, time: 2.348, data_time: 0.010, memory: 16768, loss_cls: 0.5684, loss_bbox: 0.1557, loss_bbox_rf: 0.2015, loss: 0.9256\n",
      "2021-05-19 20:38:21,129 - mmdet - INFO - Epoch [24][400/818]\tlr: 5.000e-05, eta: 0:15:53, time: 2.270, data_time: 0.009, memory: 16768, loss_cls: 0.5554, loss_bbox: 0.1603, loss_bbox_rf: 0.2072, loss: 0.9228\n",
      "2021-05-19 20:40:20,157 - mmdet - INFO - Epoch [24][450/818]\tlr: 5.000e-05, eta: 0:13:59, time: 2.381, data_time: 0.010, memory: 16768, loss_cls: 0.5294, loss_bbox: 0.1409, loss_bbox_rf: 0.1817, loss: 0.8521\n",
      "2021-05-19 20:42:16,783 - mmdet - INFO - Epoch [24][500/818]\tlr: 5.000e-05, eta: 0:12:05, time: 2.333, data_time: 0.009, memory: 16768, loss_cls: 0.5816, loss_bbox: 0.1713, loss_bbox_rf: 0.2217, loss: 0.9746\n",
      "2021-05-19 20:44:12,690 - mmdet - INFO - Epoch [24][550/818]\tlr: 5.000e-05, eta: 0:10:11, time: 2.318, data_time: 0.010, memory: 16768, loss_cls: 0.5631, loss_bbox: 0.1686, loss_bbox_rf: 0.2172, loss: 0.9488\n",
      "2021-05-19 20:46:08,684 - mmdet - INFO - Epoch [24][600/818]\tlr: 5.000e-05, eta: 0:08:17, time: 2.320, data_time: 0.009, memory: 16768, loss_cls: 0.5431, loss_bbox: 0.1525, loss_bbox_rf: 0.1968, loss: 0.8924\n",
      "2021-05-19 20:48:07,327 - mmdet - INFO - Epoch [24][650/818]\tlr: 5.000e-05, eta: 0:06:23, time: 2.373, data_time: 0.010, memory: 16768, loss_cls: 0.5706, loss_bbox: 0.1576, loss_bbox_rf: 0.2039, loss: 0.9321\n",
      "2021-05-19 20:50:04,613 - mmdet - INFO - Epoch [24][700/818]\tlr: 5.000e-05, eta: 0:04:29, time: 2.346, data_time: 0.009, memory: 16768, loss_cls: 0.5601, loss_bbox: 0.1631, loss_bbox_rf: 0.2110, loss: 0.9341\n",
      "2021-05-19 20:52:02,496 - mmdet - INFO - Epoch [24][750/818]\tlr: 5.000e-05, eta: 0:02:35, time: 2.358, data_time: 0.010, memory: 16768, loss_cls: 0.5419, loss_bbox: 0.1584, loss_bbox_rf: 0.2045, loss: 0.9049\n",
      "2021-05-19 20:53:56,881 - mmdet - INFO - Epoch [24][800/818]\tlr: 5.000e-05, eta: 0:00:41, time: 2.288, data_time: 0.009, memory: 16768, loss_cls: 0.5649, loss_bbox: 0.1636, loss_bbox_rf: 0.2112, loss: 0.9397\n",
      "2021-05-19 20:54:37,641 - mmdet - INFO - Saving checkpoint at 24 epochs\n"
     ]
    },
    {
     "name": "stdout",
     "output_type": "stream",
     "text": [
      "[>>>>>>>>>>>>>>>>>>>>>>>>>>>>>>] 655/655, 8.0 task/s, elapsed: 82s, ETA:     0s"
     ]
    },
    {
     "name": "stderr",
     "output_type": "stream",
     "text": [
      "2021-05-19 20:56:07,615 - mmdet - INFO - Evaluating bbox...\n"
     ]
    },
    {
     "name": "stdout",
     "output_type": "stream",
     "text": [
      "Loading and preparing results...\n",
      "DONE (t=1.08s)\n",
      "creating index...\n",
      "index created!\n",
      "Running per image evaluation...\n",
      "Evaluate annotation type *bbox*\n",
      "DONE (t=6.33s).\n",
      "Accumulating evaluation results...\n"
     ]
    },
    {
     "name": "stderr",
     "output_type": "stream",
     "text": [
      "2021-05-19 20:56:16,362 - mmdet - INFO - Now best checkpoint is epoch_24.pth.Best bbox_mAP_50 is 0.7720\n",
      "2021-05-19 20:56:16,369 - mmdet - INFO - Epoch(val) [24][818]\tbbox_mAP: 0.6550, bbox_mAP_50: 0.7720, bbox_mAP_75: 0.6930, bbox_mAP_s: 0.3990, bbox_mAP_m: 0.6780, bbox_mAP_l: 0.8480, bbox_mAP_copypaste: 0.655 0.772 0.693 0.399 0.678 0.848\n"
     ]
    },
    {
     "name": "stdout",
     "output_type": "stream",
     "text": [
      "DONE (t=1.23s).\n",
      "Average Precision  (AP) @[ IoU=0.50:0.95 | area=   all | maxDets=100 ] = 0.655\n",
      "Average Precision  (AP) @[ IoU=0.50      | area=   all | maxDets=1000 ] = 0.772\n",
      "Average Precision  (AP) @[ IoU=0.75      | area=   all | maxDets=1000 ] = 0.693\n",
      "Average Precision  (AP) @[ IoU=0.50:0.95 | area= small | maxDets=1000 ] = 0.399\n",
      "Average Precision  (AP) @[ IoU=0.50:0.95 | area=medium | maxDets=1000 ] = 0.678\n",
      "Average Precision  (AP) @[ IoU=0.50:0.95 | area= large | maxDets=1000 ] = 0.848\n",
      "Average Recall     (AR) @[ IoU=0.50:0.95 | area=   all | maxDets=100 ] = 0.737\n",
      "Average Recall     (AR) @[ IoU=0.50:0.95 | area=   all | maxDets=300 ] = 0.737\n",
      "Average Recall     (AR) @[ IoU=0.50:0.95 | area=   all | maxDets=1000 ] = 0.737\n",
      "Average Recall     (AR) @[ IoU=0.50:0.95 | area= small | maxDets=1000 ] = 0.512\n",
      "Average Recall     (AR) @[ IoU=0.50:0.95 | area=medium | maxDets=1000 ] = 0.777\n",
      "Average Recall     (AR) @[ IoU=0.50:0.95 | area= large | maxDets=1000 ] = 0.903\n"
     ]
    }
   ],
   "source": [
    "# model.\n",
    "model = build_detector(cfg.model)\n",
    "# dataset.\n",
    "datasets = [build_dataset(cfg.data.train)]\n",
    "# training.\n",
    "train_detector(model, datasets[0], cfg, distributed=False, validate=True)"
   ]
  },
  {
   "cell_type": "code",
   "execution_count": null,
   "id": "77eb9466-fa18-459c-8361-4883cd4da13c",
   "metadata": {},
   "outputs": [],
   "source": []
  },
  {
   "cell_type": "code",
   "execution_count": null,
   "id": "4a8f29fe-a51d-49e7-b2c5-f005d2a559ba",
   "metadata": {},
   "outputs": [],
   "source": []
  }
 ],
 "metadata": {
  "kernelspec": {
   "display_name": "Python 3",
   "language": "python",
   "name": "python3"
  },
  "language_info": {
   "codemirror_mode": {
    "name": "ipython",
    "version": 3
   },
   "file_extension": ".py",
   "mimetype": "text/x-python",
   "name": "python",
   "nbconvert_exporter": "python",
   "pygments_lexer": "ipython3",
   "version": "3.7.7"
  }
 },
 "nbformat": 4,
 "nbformat_minor": 5
}
