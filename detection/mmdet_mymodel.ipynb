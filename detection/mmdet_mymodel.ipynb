{
 "cells": [
  {
   "cell_type": "code",
   "execution_count": 8,
   "metadata": {
    "pycharm": {
     "name": "#%%\n"
    }
   },
   "outputs": [],
   "source": [
    "import mmcv\n",
    "from mmcv import Config\n",
    "from mmdet.datasets import build_dataset\n",
    "from mmdet.models import build_detector\n",
    "from mmdet.apis import train_detector\n",
    "from mmdet.datasets import (build_dataloader, build_dataset,\n",
    "                            replace_ImageToTensor)\n",
    "\n",
    "from mmdet.apis import single_gpu_test\n",
    "from mmcv.runner import load_checkpoint\n",
    "import os\n",
    "from mmcv.parallel import MMDataParallel\n",
    "import pandas as pd\n",
    "from pandas import DataFrame\n",
    "from pycocotools.coco import COCO\n",
    "import numpy as np"
   ]
  },
  {
   "cell_type": "code",
   "execution_count": 18,
   "metadata": {
    "tags": []
   },
   "outputs": [
    {
     "name": "stdout",
     "output_type": "stream",
     "text": [
      "Filesystem      Size  Used Avail Use% Mounted on\n",
      "overlay          48G   46G     0 100% /\n",
      "tmpfs            64M     0   64M   0% /dev\n",
      "tmpfs            45G     0   45G   0% /sys/fs/cgroup\n",
      "shm             1.0G   25M 1000M   3% /dev/shm\n",
      "/dev/xvda1       48G   46G     0 100% /etc/hosts\n",
      "tmpfs            45G   12K   45G   1% /proc/driver/nvidia\n",
      "udev             45G     0   45G   0% /dev/nvidia0\n",
      "tmpfs            45G     0   45G   0% /proc/acpi\n",
      "tmpfs            45G     0   45G   0% /proc/scsi\n",
      "tmpfs            45G     0   45G   0% /sys/firmware\n",
      "1.2G\t.\n",
      "594M\t./configs\n",
      "22M\t./.git\n",
      "11M\t./venv\n",
      "5.0M\t./mmdet\n",
      "3.9M\t./demo\n",
      "1.7M\t./resources\n",
      "1.4M\t./tests\n",
      "368K\t./.ipynb_checkpoints\n",
      "308K\t./docs\n",
      "200K\t./tools\n",
      "56K\t./.github\n",
      "48K\t./.dev_scripts\n",
      "36K\t./mmdet.egg-info\n",
      "28K\t./requirements\n",
      "24K\t./docker\n",
      "16K\t./work_dirs\n",
      "4.0K\t./.empty\n",
      "rm: cannot remove './.local/share/Trash/files': No such file or directory\n",
      "rm: cannot remove './opt/ml/.local/share/Trash': No such file or directory\n"
     ]
    }
   ],
   "source": [
    "!df -h\n",
    "#!du -h --max-depth=1 | sort -hr # 용량 체크\n",
    "\n",
    "!cd /\n",
    "!du -h --max-depth=1 | sort -hr\n",
    "!find . -name Trash\n",
    "!rm -r ./.local/share/Trash/files\n",
    "!rm -r ./opt/ml/.local/share/Trash\n",
    "!rm -r ./"
   ]
  },
  {
   "cell_type": "code",
   "execution_count": 10,
   "metadata": {
    "pycharm": {
     "name": "#%%\n"
    },
    "tags": []
   },
   "outputs": [],
   "source": [
    "classes = (\"UNKNOWN\", \"General trash\", \"Paper\", \"Paper pack\", \"Metal\", \"Glass\", \n",
    "           \"Plastic\", \"Styrofoam\", \"Plastic bag\", \"Battery\", \"Clothing\")\n",
    "# config file 들고오기\n",
    "#cfg = Config.fromfile('./configs/vfnet/vfnet_r50_fpn_1x_coco.py')\n",
    "cfg = Config.fromfile('./configs/vfnet/vfnet_mycfg.py')\n",
    "\n",
    "PREFIX = '../../input/data/'\n",
    "\n",
    "\n",
    "# dataset 바꾸기\n",
    "cfg.data.train.classes = classes\n",
    "cfg.data.train.img_prefix = PREFIX\n",
    "cfg.data.train.ann_file = PREFIX + 'train.json'\n",
    "cfg.data.train.pipeline[2]['img_scale'] = (512, 512)\n",
    "\n",
    "cfg.data.val.classes = classes\n",
    "cfg.data.val.img_prefix = PREFIX\n",
    "cfg.data.val.ann_file = PREFIX + 'val.json'\n",
    "cfg.data.val.pipeline[1]['img_scale'] = (512, 512)\n",
    "\n",
    "cfg.data.test.classes = classes\n",
    "cfg.data.test.img_prefix = PREFIX\n",
    "cfg.data.test.ann_file = PREFIX + 'test.json'\n",
    "cfg.data.test.pipeline[1]['img_scale'] = (512, 512)\n",
    "\n",
    "\n",
    "cfg.data.samples_per_gpu = 4\n",
    "\n",
    "cfg.seed=2020\n",
    "cfg.gpu_ids = [0]\n",
    "cfg.work_dir = './work_dirs/vfnet_x101_32x4d_fpn_mdconv_c3-c5_mstrain_2x_trash'\n",
    "\n",
    "cfg.model.bbox_head.num_classes = 11\n",
    "\n",
    "cfg.optimizer_config.grad_clip = dict(max_norm=35, norm_type=2)"
   ]
  },
  {
   "cell_type": "code",
   "execution_count": 11,
   "metadata": {
    "tags": []
   },
   "outputs": [
    {
     "name": "stdout",
     "output_type": "stream",
     "text": [
      "[type]\n",
      "VFNet\n",
      " =========== \n",
      "[pretrained]\n",
      "open-mmlab://resnext101_32x4d\n",
      " =========== \n",
      "[backbone]\n",
      "{'type': 'ResNeXt', 'depth': 101, 'groups': 32, 'base_width': 4, 'num_stages': 4, 'out_indices': (0, 1, 2, 3), 'frozen_stages': 1, 'norm_cfg': {'type': 'BN', 'requires_grad': True}, 'norm_eval': True, 'style': 'pytorch', 'dcn': {'type': 'DCNv2', 'deform_groups': 1, 'fallback_on_stride': False}, 'stage_with_dcn': (False, True, True, True)}\n",
      " =========== \n",
      "[neck]\n",
      "{'type': 'FPN', 'in_channels': [256, 512, 1024, 2048], 'out_channels': 256, 'start_level': 1, 'add_extra_convs': True, 'extra_convs_on_inputs': False, 'num_outs': 5, 'relu_before_extra_convs': True}\n",
      " =========== \n",
      "[bbox_head]\n",
      "{'type': 'VFNetHead', 'num_classes': 11, 'in_channels': 256, 'stacked_convs': 3, 'feat_channels': 256, 'strides': [8, 16, 32, 64, 128], 'center_sampling': False, 'dcn_on_last_conv': True, 'use_atss': True, 'use_vfl': True, 'loss_cls': {'type': 'VarifocalLoss', 'use_sigmoid': True, 'alpha': 0.75, 'gamma': 2.0, 'iou_weighted': True, 'loss_weight': 1.0}, 'loss_bbox': {'type': 'GIoULoss', 'loss_weight': 1.5}, 'loss_bbox_refine': {'type': 'GIoULoss', 'loss_weight': 2.0}}\n",
      " =========== \n",
      "[train_cfg]\n",
      "{'assigner': {'type': 'ATSSAssigner', 'topk': 9}, 'allowed_border': -1, 'pos_weight': -1, 'debug': False}\n",
      " =========== \n",
      "[test_cfg]\n",
      "{'nms_pre': 1000, 'min_bbox_size': 0, 'score_thr': 0.05, 'nms': {'type': 'nms', 'iou_threshold': 0.6}, 'max_per_img': 100}\n",
      " =========== \n"
     ]
    }
   ],
   "source": [
    "for i,v in cfg.model.items():\n",
    "    print('['+str(i)+']')\n",
    "    print(v)\n",
    "    print(\" =========== \")"
   ]
  },
  {
   "cell_type": "code",
   "execution_count": 12,
   "metadata": {
    "pycharm": {
     "name": "#%%\n"
    },
    "tags": []
   },
   "outputs": [
    {
     "name": "stderr",
     "output_type": "stream",
     "text": [
      "2021-05-14 00:52:37,663 - mmdet - INFO - load model from: open-mmlab://resnext101_32x4d\n",
      "2021-05-14 00:52:37,664 - mmdet - INFO - Use load_from_openmmlab loader\n",
      "2021-05-14 00:52:37,816 - mmdet - WARNING - The model and loaded state dict do not match exactly\n",
      "\n",
      "missing keys in source state_dict: layer2.0.conv2.conv_offset.weight, layer2.0.conv2.conv_offset.bias, layer2.1.conv2.conv_offset.weight, layer2.1.conv2.conv_offset.bias, layer2.2.conv2.conv_offset.weight, layer2.2.conv2.conv_offset.bias, layer2.3.conv2.conv_offset.weight, layer2.3.conv2.conv_offset.bias, layer3.0.conv2.conv_offset.weight, layer3.0.conv2.conv_offset.bias, layer3.1.conv2.conv_offset.weight, layer3.1.conv2.conv_offset.bias, layer3.2.conv2.conv_offset.weight, layer3.2.conv2.conv_offset.bias, layer3.3.conv2.conv_offset.weight, layer3.3.conv2.conv_offset.bias, layer3.4.conv2.conv_offset.weight, layer3.4.conv2.conv_offset.bias, layer3.5.conv2.conv_offset.weight, layer3.5.conv2.conv_offset.bias, layer3.6.conv2.conv_offset.weight, layer3.6.conv2.conv_offset.bias, layer3.7.conv2.conv_offset.weight, layer3.7.conv2.conv_offset.bias, layer3.8.conv2.conv_offset.weight, layer3.8.conv2.conv_offset.bias, layer3.9.conv2.conv_offset.weight, layer3.9.conv2.conv_offset.bias, layer3.10.conv2.conv_offset.weight, layer3.10.conv2.conv_offset.bias, layer3.11.conv2.conv_offset.weight, layer3.11.conv2.conv_offset.bias, layer3.12.conv2.conv_offset.weight, layer3.12.conv2.conv_offset.bias, layer3.13.conv2.conv_offset.weight, layer3.13.conv2.conv_offset.bias, layer3.14.conv2.conv_offset.weight, layer3.14.conv2.conv_offset.bias, layer3.15.conv2.conv_offset.weight, layer3.15.conv2.conv_offset.bias, layer3.16.conv2.conv_offset.weight, layer3.16.conv2.conv_offset.bias, layer3.17.conv2.conv_offset.weight, layer3.17.conv2.conv_offset.bias, layer3.18.conv2.conv_offset.weight, layer3.18.conv2.conv_offset.bias, layer3.19.conv2.conv_offset.weight, layer3.19.conv2.conv_offset.bias, layer3.20.conv2.conv_offset.weight, layer3.20.conv2.conv_offset.bias, layer3.21.conv2.conv_offset.weight, layer3.21.conv2.conv_offset.bias, layer3.22.conv2.conv_offset.weight, layer3.22.conv2.conv_offset.bias, layer4.0.conv2.conv_offset.weight, layer4.0.conv2.conv_offset.bias, layer4.1.conv2.conv_offset.weight, layer4.1.conv2.conv_offset.bias, layer4.2.conv2.conv_offset.weight, layer4.2.conv2.conv_offset.bias\n",
      "\n"
     ]
    }
   ],
   "source": [
    "model = build_detector(cfg.model)"
   ]
  },
  {
   "cell_type": "code",
   "execution_count": 13,
   "metadata": {
    "pycharm": {
     "name": "#%%\n"
    },
    "tags": []
   },
   "outputs": [
    {
     "name": "stdout",
     "output_type": "stream",
     "text": [
      "loading annotations into memory...\n",
      "Done (t=4.08s)\n",
      "creating index...\n",
      "index created!\n"
     ]
    }
   ],
   "source": [
    "datasets = [build_dataset(cfg.data.train)]"
   ]
  },
  {
   "cell_type": "code",
   "execution_count": 14,
   "metadata": {
    "pycharm": {
     "name": "#%%\n"
    },
    "tags": []
   },
   "outputs": [
    {
     "name": "stdout",
     "output_type": "stream",
     "text": [
      "loading annotations into memory...\n"
     ]
    },
    {
     "name": "stderr",
     "output_type": "stream",
     "text": [
      "2021-05-14 00:52:43,060 - mmdet - INFO - Start running, host: root@45737fb6744d, work_dir: /opt/ml/code/mmdetection_trash/work_dirs/vfnet_x101_32x4d_fpn_mdconv_c3-c5_mstrain_2x_trash\n",
      "2021-05-14 00:52:43,061 - mmdet - INFO - workflow: [('train', 1)], max: 24 epochs\n"
     ]
    },
    {
     "name": "stdout",
     "output_type": "stream",
     "text": [
      "Done (t=0.89s)\n",
      "creating index...\n",
      "index created!\n"
     ]
    },
    {
     "name": "stderr",
     "output_type": "stream",
     "text": [
      "2021-05-14 00:53:23,778 - mmdet - INFO - Epoch [1][50/655]\tlr: 1.000e-03, eta: 3:32:39, time: 0.814, data_time: 0.054, memory: 7090, loss_cls: 0.5959, loss_bbox: 0.8790, loss_bbox_rf: 1.1720, loss: 2.6469, grad_norm: 94.7847\n",
      "2021-05-14 00:54:00,300 - mmdet - INFO - Epoch [1][100/655]\tlr: 1.000e-03, eta: 3:21:03, time: 0.730, data_time: 0.006, memory: 7090, loss_cls: 0.7548, loss_bbox: 0.7758, loss_bbox_rf: 1.0477, loss: 2.5783, grad_norm: 49.7512\n",
      "2021-05-14 00:54:37,188 - mmdet - INFO - Epoch [1][150/655]\tlr: 1.000e-03, eta: 3:17:25, time: 0.738, data_time: 0.006, memory: 7090, loss_cls: 0.7348, loss_bbox: 0.7723, loss_bbox_rf: 1.0356, loss: 2.5426, grad_norm: 19.8931\n",
      "2021-05-14 00:55:13,815 - mmdet - INFO - Epoch [1][200/655]\tlr: 1.000e-03, eta: 3:14:58, time: 0.733, data_time: 0.006, memory: 7090, loss_cls: 0.8147, loss_bbox: 0.7455, loss_bbox_rf: 0.9944, loss: 2.5546, grad_norm: 4.1355\n",
      "2021-05-14 00:55:50,367 - mmdet - INFO - Epoch [1][250/655]\tlr: 1.000e-03, eta: 3:13:10, time: 0.731, data_time: 0.006, memory: 7090, loss_cls: 0.7878, loss_bbox: 0.7378, loss_bbox_rf: 0.9861, loss: 2.5117, grad_norm: 3.6491\n",
      "2021-05-14 00:56:27,042 - mmdet - INFO - Epoch [1][300/655]\tlr: 1.000e-03, eta: 3:11:52, time: 0.733, data_time: 0.006, memory: 7090, loss_cls: 0.8579, loss_bbox: 0.7482, loss_bbox_rf: 0.9981, loss: 2.6042, grad_norm: 4.5741\n",
      "2021-05-14 00:57:03,835 - mmdet - INFO - Epoch [1][350/655]\tlr: 1.000e-03, eta: 3:10:51, time: 0.736, data_time: 0.006, memory: 7090, loss_cls: 0.8364, loss_bbox: 0.7284, loss_bbox_rf: 0.9705, loss: 2.5353, grad_norm: 5.1052\n",
      "2021-05-14 00:57:40,251 - mmdet - INFO - Epoch [1][400/655]\tlr: 1.000e-03, eta: 3:09:42, time: 0.728, data_time: 0.006, memory: 7090, loss_cls: 0.8357, loss_bbox: 0.7365, loss_bbox_rf: 0.9775, loss: 2.5497, grad_norm: 4.1614\n",
      "2021-05-14 00:58:17,135 - mmdet - INFO - Epoch [1][450/655]\tlr: 1.000e-03, eta: 3:08:55, time: 0.738, data_time: 0.006, memory: 7090, loss_cls: 0.7998, loss_bbox: 0.7349, loss_bbox_rf: 0.9726, loss: 2.5074, grad_norm: 3.4259\n",
      "2021-05-14 00:58:54,045 - mmdet - INFO - Epoch [1][500/655]\tlr: 1.000e-03, eta: 3:08:12, time: 0.738, data_time: 0.006, memory: 7090, loss_cls: 0.7817, loss_bbox: 0.7319, loss_bbox_rf: 0.9691, loss: 2.4827, grad_norm: 3.4635\n",
      "2021-05-14 00:59:30,906 - mmdet - INFO - Epoch [1][550/655]\tlr: 1.000e-03, eta: 3:07:28, time: 0.737, data_time: 0.006, memory: 7090, loss_cls: 0.8239, loss_bbox: 0.7294, loss_bbox_rf: 0.9640, loss: 2.5173, grad_norm: 6.2968\n",
      "2021-05-14 01:00:07,412 - mmdet - INFO - Epoch [1][600/655]\tlr: 1.000e-03, eta: 3:06:37, time: 0.730, data_time: 0.006, memory: 7090, loss_cls: 0.8021, loss_bbox: 0.7280, loss_bbox_rf: 0.9623, loss: 2.4924, grad_norm: 3.6613\n",
      "2021-05-14 01:00:44,199 - mmdet - INFO - Epoch [1][650/655]\tlr: 1.000e-03, eta: 3:05:54, time: 0.736, data_time: 0.006, memory: 7090, loss_cls: 0.8074, loss_bbox: 0.7350, loss_bbox_rf: 0.9651, loss: 2.5075, grad_norm: 3.6247\n"
     ]
    },
    {
     "name": "stdout",
     "output_type": "stream",
     "text": [
      "[>>>>>>>>>>>>>>>>>>>>>>>>>>>>>] 655/655, 12.6 task/s, elapsed: 52s, ETA:     0s"
     ]
    },
    {
     "name": "stderr",
     "output_type": "stream",
     "text": [
      "2021-05-14 01:01:41,074 - mmdet - INFO - Evaluating bbox...\n"
     ]
    },
    {
     "name": "stdout",
     "output_type": "stream",
     "text": [
      "Loading and preparing results...\n",
      "DONE (t=1.85s)\n",
      "creating index...\n",
      "index created!\n",
      "Running per image evaluation...\n",
      "Evaluate annotation type *bbox*\n",
      "DONE (t=7.39s).\n",
      "Accumulating evaluation results...\n"
     ]
    },
    {
     "name": "stderr",
     "output_type": "stream",
     "text": [
      "2021-05-14 01:01:52,380 - mmdet - INFO - Epoch(val) [1][655]\tbbox_mAP: 0.0010, bbox_mAP_50: 0.0030, bbox_mAP_75: 0.0000, bbox_mAP_s: 0.0000, bbox_mAP_m: 0.0080, bbox_mAP_l: 0.0020, bbox_mAP_copypaste: 0.001 0.003 0.000 0.000 0.008 0.002\n"
     ]
    },
    {
     "name": "stdout",
     "output_type": "stream",
     "text": [
      "DONE (t=1.95s).\n",
      "Average Precision  (AP) @[ IoU=0.50:0.95 | area=   all | maxDets=100 ] = 0.001\n",
      "Average Precision  (AP) @[ IoU=0.50      | area=   all | maxDets=1000 ] = 0.003\n",
      "Average Precision  (AP) @[ IoU=0.75      | area=   all | maxDets=1000 ] = 0.000\n",
      "Average Precision  (AP) @[ IoU=0.50:0.95 | area= small | maxDets=1000 ] = 0.000\n",
      "Average Precision  (AP) @[ IoU=0.50:0.95 | area=medium | maxDets=1000 ] = 0.008\n",
      "Average Precision  (AP) @[ IoU=0.50:0.95 | area= large | maxDets=1000 ] = 0.002\n",
      "Average Recall     (AR) @[ IoU=0.50:0.95 | area=   all | maxDets=100 ] = 0.021\n",
      "Average Recall     (AR) @[ IoU=0.50:0.95 | area=   all | maxDets=300 ] = 0.021\n",
      "Average Recall     (AR) @[ IoU=0.50:0.95 | area=   all | maxDets=1000 ] = 0.021\n",
      "Average Recall     (AR) @[ IoU=0.50:0.95 | area= small | maxDets=1000 ] = 0.000\n",
      "Average Recall     (AR) @[ IoU=0.50:0.95 | area=medium | maxDets=1000 ] = 0.007\n",
      "Average Recall     (AR) @[ IoU=0.50:0.95 | area= large | maxDets=1000 ] = 0.057\n"
     ]
    },
    {
     "name": "stderr",
     "output_type": "stream",
     "text": [
      "2021-05-14 01:02:31,706 - mmdet - INFO - Epoch [2][50/655]\tlr: 1.000e-03, eta: 3:04:44, time: 0.786, data_time: 0.051, memory: 7090, loss_cls: 0.8361, loss_bbox: 0.7227, loss_bbox_rf: 0.9483, loss: 2.5071, grad_norm: 3.7138\n",
      "2021-05-14 01:03:08,671 - mmdet - INFO - Epoch [2][100/655]\tlr: 1.000e-03, eta: 3:04:08, time: 0.739, data_time: 0.006, memory: 7090, loss_cls: 0.8148, loss_bbox: 0.7335, loss_bbox_rf: 0.9608, loss: 2.5092, grad_norm: 3.4525\n",
      "2021-05-14 01:03:46,145 - mmdet - INFO - Epoch [2][150/655]\tlr: 1.000e-03, eta: 3:03:41, time: 0.749, data_time: 0.006, memory: 7090, loss_cls: 0.8319, loss_bbox: 0.7261, loss_bbox_rf: 0.9524, loss: 2.5104, grad_norm: 3.7812\n",
      "2021-05-14 01:04:23,226 - mmdet - INFO - Epoch [2][200/655]\tlr: 1.000e-03, eta: 3:03:07, time: 0.742, data_time: 0.006, memory: 7090, loss_cls: 0.8022, loss_bbox: 0.7586, loss_bbox_rf: 0.9929, loss: 2.5537, grad_norm: 4.0474\n",
      "2021-05-14 01:04:59,921 - mmdet - INFO - Epoch [2][250/655]\tlr: 1.000e-03, eta: 3:02:26, time: 0.734, data_time: 0.006, memory: 7090, loss_cls: 0.8303, loss_bbox: 0.7213, loss_bbox_rf: 0.9482, loss: 2.4998, grad_norm: 3.3754\n",
      "2021-05-14 01:05:36,375 - mmdet - INFO - Epoch [2][300/655]\tlr: 1.000e-03, eta: 3:01:41, time: 0.729, data_time: 0.006, memory: 7090, loss_cls: 0.7974, loss_bbox: 0.7356, loss_bbox_rf: 0.9644, loss: 2.4974, grad_norm: 3.0319\n",
      "2021-05-14 01:06:13,223 - mmdet - INFO - Epoch [2][350/655]\tlr: 1.000e-03, eta: 3:01:03, time: 0.737, data_time: 0.006, memory: 7090, loss_cls: 0.8484, loss_bbox: 0.7196, loss_bbox_rf: 0.9454, loss: 2.5134, grad_norm: 3.9335\n",
      "2021-05-14 01:06:50,154 - mmdet - INFO - Epoch [2][400/655]\tlr: 1.000e-03, eta: 3:00:26, time: 0.739, data_time: 0.006, memory: 7090, loss_cls: 0.8393, loss_bbox: 0.7303, loss_bbox_rf: 0.9575, loss: 2.5271, grad_norm: 3.3265\n",
      "2021-05-14 01:07:27,377 - mmdet - INFO - Epoch [2][450/655]\tlr: 1.000e-03, eta: 2:59:54, time: 0.744, data_time: 0.007, memory: 7090, loss_cls: 0.7882, loss_bbox: 0.7326, loss_bbox_rf: 0.9634, loss: 2.4842, grad_norm: 3.4011\n",
      "2021-05-14 01:08:04,261 - mmdet - INFO - Epoch [2][500/655]\tlr: 1.000e-03, eta: 2:59:16, time: 0.738, data_time: 0.006, memory: 7090, loss_cls: 0.8384, loss_bbox: 0.7243, loss_bbox_rf: 0.9444, loss: 2.5071, grad_norm: 3.7968\n",
      "2021-05-14 01:08:42,113 - mmdet - INFO - Epoch [2][550/655]\tlr: 1.000e-03, eta: 2:58:50, time: 0.757, data_time: 0.007, memory: 7090, loss_cls: 0.8175, loss_bbox: 0.7380, loss_bbox_rf: 0.9672, loss: 2.5227, grad_norm: 3.5484\n",
      "2021-05-14 01:09:19,471 - mmdet - INFO - Epoch [2][600/655]\tlr: 1.000e-03, eta: 2:58:18, time: 0.747, data_time: 0.007, memory: 7090, loss_cls: 0.8618, loss_bbox: 0.7096, loss_bbox_rf: 0.9273, loss: 2.4988, grad_norm: 3.6926\n",
      "2021-05-14 01:09:56,433 - mmdet - INFO - Epoch [2][650/655]\tlr: 1.000e-03, eta: 2:57:41, time: 0.739, data_time: 0.006, memory: 7090, loss_cls: 0.7895, loss_bbox: 0.7330, loss_bbox_rf: 0.9648, loss: 2.4873, grad_norm: 2.6788\n"
     ]
    },
    {
     "name": "stdout",
     "output_type": "stream",
     "text": [
      "[>>>>>>>>>>>>>>>>>>>>>>>>>>>>>] 655/655, 12.3 task/s, elapsed: 53s, ETA:     0s"
     ]
    },
    {
     "name": "stderr",
     "output_type": "stream",
     "text": [
      "2021-05-14 01:10:54,649 - mmdet - INFO - Evaluating bbox...\n"
     ]
    },
    {
     "name": "stdout",
     "output_type": "stream",
     "text": [
      "Loading and preparing results...\n",
      "DONE (t=1.83s)\n",
      "creating index...\n",
      "index created!\n",
      "Running per image evaluation...\n",
      "Evaluate annotation type *bbox*\n",
      "DONE (t=6.55s).\n",
      "Accumulating evaluation results...\n"
     ]
    },
    {
     "name": "stderr",
     "output_type": "stream",
     "text": [
      "2021-05-14 01:11:05,090 - mmdet - INFO - Epoch(val) [2][655]\tbbox_mAP: 0.0010, bbox_mAP_50: 0.0030, bbox_mAP_75: 0.0000, bbox_mAP_s: 0.0000, bbox_mAP_m: 0.0070, bbox_mAP_l: 0.0020, bbox_mAP_copypaste: 0.001 0.003 0.000 0.000 0.007 0.002\n"
     ]
    },
    {
     "name": "stdout",
     "output_type": "stream",
     "text": [
      "DONE (t=1.94s).\n",
      "Average Precision  (AP) @[ IoU=0.50:0.95 | area=   all | maxDets=100 ] = 0.001\n",
      "Average Precision  (AP) @[ IoU=0.50      | area=   all | maxDets=1000 ] = 0.003\n",
      "Average Precision  (AP) @[ IoU=0.75      | area=   all | maxDets=1000 ] = 0.000\n",
      "Average Precision  (AP) @[ IoU=0.50:0.95 | area= small | maxDets=1000 ] = 0.000\n",
      "Average Precision  (AP) @[ IoU=0.50:0.95 | area=medium | maxDets=1000 ] = 0.007\n",
      "Average Precision  (AP) @[ IoU=0.50:0.95 | area= large | maxDets=1000 ] = 0.002\n",
      "Average Recall     (AR) @[ IoU=0.50:0.95 | area=   all | maxDets=100 ] = 0.020\n",
      "Average Recall     (AR) @[ IoU=0.50:0.95 | area=   all | maxDets=300 ] = 0.020\n",
      "Average Recall     (AR) @[ IoU=0.50:0.95 | area=   all | maxDets=1000 ] = 0.020\n",
      "Average Recall     (AR) @[ IoU=0.50:0.95 | area= small | maxDets=1000 ] = 0.000\n",
      "Average Recall     (AR) @[ IoU=0.50:0.95 | area=medium | maxDets=1000 ] = 0.006\n",
      "Average Recall     (AR) @[ IoU=0.50:0.95 | area= large | maxDets=1000 ] = 0.055\n"
     ]
    },
    {
     "name": "stderr",
     "output_type": "stream",
     "text": [
      "2021-05-14 01:11:44,410 - mmdet - INFO - Epoch [3][50/655]\tlr: 1.000e-03, eta: 2:56:46, time: 0.786, data_time: 0.051, memory: 7090, loss_cls: 0.8092, loss_bbox: 0.7410, loss_bbox_rf: 0.9720, loss: 2.5222, grad_norm: 3.4646\n",
      "2021-05-14 01:12:22,179 - mmdet - INFO - Epoch [3][100/655]\tlr: 1.000e-03, eta: 2:56:17, time: 0.755, data_time: 0.006, memory: 7090, loss_cls: 0.8554, loss_bbox: 0.7130, loss_bbox_rf: 0.9334, loss: 2.5018, grad_norm: 3.6428\n",
      "2021-05-14 01:12:58,985 - mmdet - INFO - Epoch [3][150/655]\tlr: 1.000e-03, eta: 2:55:39, time: 0.736, data_time: 0.006, memory: 7090, loss_cls: 0.8101, loss_bbox: 0.7287, loss_bbox_rf: 0.9568, loss: 2.4957, grad_norm: 3.0757\n",
      "2021-05-14 01:13:36,602 - mmdet - INFO - Epoch [3][200/655]\tlr: 1.000e-03, eta: 2:55:08, time: 0.752, data_time: 0.006, memory: 7090, loss_cls: 0.8196, loss_bbox: 0.7367, loss_bbox_rf: 0.9683, loss: 2.5246, grad_norm: 3.3506\n",
      "2021-05-14 01:14:13,444 - mmdet - INFO - Epoch [3][250/655]\tlr: 1.000e-03, eta: 2:54:30, time: 0.737, data_time: 0.006, memory: 7090, loss_cls: 0.8362, loss_bbox: 0.7052, loss_bbox_rf: 0.9246, loss: 2.4661, grad_norm: 3.0935\n",
      "2021-05-14 01:14:50,327 - mmdet - INFO - Epoch [3][300/655]\tlr: 1.000e-03, eta: 2:53:52, time: 0.738, data_time: 0.006, memory: 7090, loss_cls: 0.8097, loss_bbox: 0.7373, loss_bbox_rf: 0.9679, loss: 2.5149, grad_norm: 3.2207\n",
      "2021-05-14 01:15:27,211 - mmdet - INFO - Epoch [3][350/655]\tlr: 1.000e-03, eta: 2:53:14, time: 0.738, data_time: 0.006, memory: 7090, loss_cls: 0.8392, loss_bbox: 0.7111, loss_bbox_rf: 0.9363, loss: 2.4866, grad_norm: 3.3694\n",
      "2021-05-14 01:16:04,743 - mmdet - INFO - Epoch [3][400/655]\tlr: 1.000e-03, eta: 2:52:42, time: 0.751, data_time: 0.006, memory: 7090, loss_cls: 0.8064, loss_bbox: 0.7199, loss_bbox_rf: 0.9433, loss: 2.4697, grad_norm: 2.8395\n",
      "2021-05-14 01:16:41,334 - mmdet - INFO - Epoch [3][450/655]\tlr: 1.000e-03, eta: 2:52:02, time: 0.732, data_time: 0.006, memory: 7090, loss_cls: 0.8376, loss_bbox: 0.7218, loss_bbox_rf: 0.9428, loss: 2.5022, grad_norm: 3.1423\n",
      "2021-05-14 01:17:18,165 - mmdet - INFO - Epoch [3][500/655]\tlr: 1.000e-03, eta: 2:51:24, time: 0.737, data_time: 0.006, memory: 7090, loss_cls: 0.8260, loss_bbox: 0.7330, loss_bbox_rf: 0.9646, loss: 2.5235, grad_norm: 3.1458\n",
      "2021-05-14 01:17:55,051 - mmdet - INFO - Epoch [3][550/655]\tlr: 1.000e-03, eta: 2:50:46, time: 0.738, data_time: 0.006, memory: 7090, loss_cls: 0.8302, loss_bbox: 0.7160, loss_bbox_rf: 0.9344, loss: 2.4805, grad_norm: 3.0969\n",
      "2021-05-14 01:18:33,136 - mmdet - INFO - Epoch [3][600/655]\tlr: 1.000e-03, eta: 2:50:17, time: 0.762, data_time: 0.006, memory: 7090, loss_cls: 0.8165, loss_bbox: 0.7229, loss_bbox_rf: 0.9497, loss: 2.4891, grad_norm: 2.7387\n",
      "2021-05-14 01:19:09,593 - mmdet - INFO - Epoch [3][650/655]\tlr: 1.000e-03, eta: 2:49:37, time: 0.729, data_time: 0.006, memory: 7090, loss_cls: 0.8362, loss_bbox: 0.7186, loss_bbox_rf: 0.9401, loss: 2.4949, grad_norm: 2.9636\n",
      "2021-05-14 01:19:13,292 - mmdet - INFO - Saving checkpoint at 3 epochs\n"
     ]
    },
    {
     "name": "stdout",
     "output_type": "stream",
     "text": [
      "[>>>>>>>>>>>>>>>>>>>>>>>>>>>>>] 655/655, 12.1 task/s, elapsed: 54s, ETA:     0s"
     ]
    },
    {
     "name": "stderr",
     "output_type": "stream",
     "text": [
      "2021-05-14 01:20:10,657 - mmdet - INFO - Evaluating bbox...\n"
     ]
    },
    {
     "name": "stdout",
     "output_type": "stream",
     "text": [
      "Loading and preparing results...\n",
      "DONE (t=1.85s)\n",
      "creating index...\n",
      "index created!\n",
      "Running per image evaluation...\n",
      "Evaluate annotation type *bbox*\n",
      "DONE (t=6.57s).\n",
      "Accumulating evaluation results...\n"
     ]
    },
    {
     "name": "stderr",
     "output_type": "stream",
     "text": [
      "2021-05-14 01:20:21,189 - mmdet - INFO - Epoch(val) [3][655]\tbbox_mAP: 0.0010, bbox_mAP_50: 0.0040, bbox_mAP_75: 0.0000, bbox_mAP_s: 0.0000, bbox_mAP_m: 0.0060, bbox_mAP_l: 0.0020, bbox_mAP_copypaste: 0.001 0.004 0.000 0.000 0.006 0.002\n"
     ]
    },
    {
     "name": "stdout",
     "output_type": "stream",
     "text": [
      "DONE (t=1.97s).\n",
      "Average Precision  (AP) @[ IoU=0.50:0.95 | area=   all | maxDets=100 ] = 0.001\n",
      "Average Precision  (AP) @[ IoU=0.50      | area=   all | maxDets=1000 ] = 0.004\n",
      "Average Precision  (AP) @[ IoU=0.75      | area=   all | maxDets=1000 ] = 0.000\n",
      "Average Precision  (AP) @[ IoU=0.50:0.95 | area= small | maxDets=1000 ] = 0.000\n",
      "Average Precision  (AP) @[ IoU=0.50:0.95 | area=medium | maxDets=1000 ] = 0.006\n",
      "Average Precision  (AP) @[ IoU=0.50:0.95 | area= large | maxDets=1000 ] = 0.002\n",
      "Average Recall     (AR) @[ IoU=0.50:0.95 | area=   all | maxDets=100 ] = 0.028\n",
      "Average Recall     (AR) @[ IoU=0.50:0.95 | area=   all | maxDets=300 ] = 0.028\n",
      "Average Recall     (AR) @[ IoU=0.50:0.95 | area=   all | maxDets=1000 ] = 0.028\n",
      "Average Recall     (AR) @[ IoU=0.50:0.95 | area= small | maxDets=1000 ] = 0.000\n",
      "Average Recall     (AR) @[ IoU=0.50:0.95 | area=medium | maxDets=1000 ] = 0.005\n",
      "Average Recall     (AR) @[ IoU=0.50:0.95 | area= large | maxDets=1000 ] = 0.090\n"
     ]
    },
    {
     "name": "stderr",
     "output_type": "stream",
     "text": [
      "2021-05-14 01:21:00,535 - mmdet - INFO - Epoch [4][50/655]\tlr: 1.000e-03, eta: 2:48:47, time: 0.787, data_time: 0.051, memory: 7090, loss_cls: 0.8327, loss_bbox: 0.7169, loss_bbox_rf: 0.9411, loss: 2.4907, grad_norm: 2.9021\n",
      "2021-05-14 01:21:37,255 - mmdet - INFO - Epoch [4][100/655]\tlr: 1.000e-03, eta: 2:48:08, time: 0.734, data_time: 0.006, memory: 7090, loss_cls: 0.8172, loss_bbox: 0.7280, loss_bbox_rf: 0.9550, loss: 2.5001, grad_norm: 2.9521\n",
      "2021-05-14 01:22:13,835 - mmdet - INFO - Epoch [4][150/655]\tlr: 1.000e-03, eta: 2:47:29, time: 0.732, data_time: 0.006, memory: 7090, loss_cls: 0.8340, loss_bbox: 0.7137, loss_bbox_rf: 0.9348, loss: 2.4825, grad_norm: 2.9573\n",
      "2021-05-14 01:22:50,839 - mmdet - INFO - Epoch [4][200/655]\tlr: 1.000e-03, eta: 2:46:53, time: 0.740, data_time: 0.006, memory: 7090, loss_cls: 0.8211, loss_bbox: 0.7292, loss_bbox_rf: 0.9545, loss: 2.5048, grad_norm: 3.2142\n",
      "2021-05-14 01:23:27,752 - mmdet - INFO - Epoch [4][250/655]\tlr: 1.000e-03, eta: 2:46:16, time: 0.738, data_time: 0.006, memory: 7090, loss_cls: 0.8611, loss_bbox: 0.7064, loss_bbox_rf: 0.9300, loss: 2.4975, grad_norm: 3.4847\n",
      "2021-05-14 01:24:05,358 - mmdet - INFO - Epoch [4][300/655]\tlr: 1.000e-03, eta: 2:45:43, time: 0.752, data_time: 0.006, memory: 7090, loss_cls: 0.8462, loss_bbox: 0.7050, loss_bbox_rf: 0.9291, loss: 2.4803, grad_norm: 3.2215\n",
      "2021-05-14 01:24:41,817 - mmdet - INFO - Epoch [4][350/655]\tlr: 1.000e-03, eta: 2:45:03, time: 0.729, data_time: 0.006, memory: 7090, loss_cls: 0.8604, loss_bbox: 0.7231, loss_bbox_rf: 0.9468, loss: 2.5303, grad_norm: 3.2517\n",
      "2021-05-14 01:25:18,190 - mmdet - INFO - Epoch [4][400/655]\tlr: 1.000e-03, eta: 2:44:23, time: 0.727, data_time: 0.006, memory: 7090, loss_cls: 0.8269, loss_bbox: 0.7155, loss_bbox_rf: 0.9459, loss: 2.4883, grad_norm: 3.0510\n",
      "2021-05-14 01:25:54,642 - mmdet - INFO - Epoch [4][450/655]\tlr: 1.000e-03, eta: 2:43:43, time: 0.729, data_time: 0.006, memory: 7090, loss_cls: 0.8118, loss_bbox: 0.7084, loss_bbox_rf: 0.9325, loss: 2.4528, grad_norm: 2.7431\n",
      "2021-05-14 01:26:31,156 - mmdet - INFO - Epoch [4][500/655]\tlr: 1.000e-03, eta: 2:43:04, time: 0.730, data_time: 0.006, memory: 7090, loss_cls: 0.8512, loss_bbox: 0.7149, loss_bbox_rf: 0.9419, loss: 2.5080, grad_norm: 3.4053\n",
      "2021-05-14 01:27:07,658 - mmdet - INFO - Epoch [4][550/655]\tlr: 1.000e-03, eta: 2:42:25, time: 0.730, data_time: 0.006, memory: 7090, loss_cls: 0.8302, loss_bbox: 0.7345, loss_bbox_rf: 0.9676, loss: 2.5323, grad_norm: 3.3477\n",
      "2021-05-14 01:27:44,030 - mmdet - INFO - Epoch [4][600/655]\tlr: 1.000e-03, eta: 2:41:45, time: 0.727, data_time: 0.006, memory: 7090, loss_cls: 0.8394, loss_bbox: 0.7183, loss_bbox_rf: 0.9431, loss: 2.5007, grad_norm: 2.9255\n",
      "2021-05-14 01:28:20,723 - mmdet - INFO - Epoch [4][650/655]\tlr: 1.000e-03, eta: 2:41:07, time: 0.734, data_time: 0.006, memory: 7090, loss_cls: 0.8273, loss_bbox: 0.7107, loss_bbox_rf: 0.9351, loss: 2.4730, grad_norm: 3.3523\n"
     ]
    },
    {
     "name": "stdout",
     "output_type": "stream",
     "text": [
      "[>>>>>>>>>>>>>>>>>>>>>>>>>>>>>] 655/655, 12.7 task/s, elapsed: 51s, ETA:     0s"
     ]
    },
    {
     "name": "stderr",
     "output_type": "stream",
     "text": [
      "2021-05-14 01:29:17,978 - mmdet - INFO - Evaluating bbox...\n"
     ]
    },
    {
     "name": "stdout",
     "output_type": "stream",
     "text": [
      "Loading and preparing results...\n",
      "DONE (t=1.13s)\n",
      "creating index...\n",
      "index created!\n",
      "Running per image evaluation...\n",
      "Evaluate annotation type *bbox*\n",
      "DONE (t=7.11s).\n",
      "Accumulating evaluation results...\n"
     ]
    },
    {
     "name": "stderr",
     "output_type": "stream",
     "text": [
      "2021-05-14 01:29:28,335 - mmdet - INFO - Epoch(val) [4][655]\tbbox_mAP: 0.0010, bbox_mAP_50: 0.0030, bbox_mAP_75: 0.0000, bbox_mAP_s: 0.0000, bbox_mAP_m: 0.0060, bbox_mAP_l: 0.0020, bbox_mAP_copypaste: 0.001 0.003 0.000 0.000 0.006 0.002\n"
     ]
    },
    {
     "name": "stdout",
     "output_type": "stream",
     "text": [
      "DONE (t=1.97s).\n",
      "Average Precision  (AP) @[ IoU=0.50:0.95 | area=   all | maxDets=100 ] = 0.001\n",
      "Average Precision  (AP) @[ IoU=0.50      | area=   all | maxDets=1000 ] = 0.003\n",
      "Average Precision  (AP) @[ IoU=0.75      | area=   all | maxDets=1000 ] = 0.000\n",
      "Average Precision  (AP) @[ IoU=0.50:0.95 | area= small | maxDets=1000 ] = 0.000\n",
      "Average Precision  (AP) @[ IoU=0.50:0.95 | area=medium | maxDets=1000 ] = 0.006\n",
      "Average Precision  (AP) @[ IoU=0.50:0.95 | area= large | maxDets=1000 ] = 0.002\n",
      "Average Recall     (AR) @[ IoU=0.50:0.95 | area=   all | maxDets=100 ] = 0.027\n",
      "Average Recall     (AR) @[ IoU=0.50:0.95 | area=   all | maxDets=300 ] = 0.027\n",
      "Average Recall     (AR) @[ IoU=0.50:0.95 | area=   all | maxDets=1000 ] = 0.027\n",
      "Average Recall     (AR) @[ IoU=0.50:0.95 | area= small | maxDets=1000 ] = 0.000\n",
      "Average Recall     (AR) @[ IoU=0.50:0.95 | area=medium | maxDets=1000 ] = 0.005\n",
      "Average Recall     (AR) @[ IoU=0.50:0.95 | area= large | maxDets=1000 ] = 0.084\n"
     ]
    },
    {
     "name": "stderr",
     "output_type": "stream",
     "text": [
      "2021-05-14 01:30:07,805 - mmdet - INFO - Epoch [5][50/655]\tlr: 1.000e-03, eta: 2:40:21, time: 0.789, data_time: 0.051, memory: 7090, loss_cls: 0.8312, loss_bbox: 0.7233, loss_bbox_rf: 0.9500, loss: 2.5044, grad_norm: 3.0146\n",
      "2021-05-14 01:30:44,740 - mmdet - INFO - Epoch [5][100/655]\tlr: 1.000e-03, eta: 2:39:45, time: 0.739, data_time: 0.006, memory: 7090, loss_cls: 0.8567, loss_bbox: 0.7043, loss_bbox_rf: 0.9297, loss: 2.4908, grad_norm: 3.5312\n",
      "2021-05-14 01:31:21,753 - mmdet - INFO - Epoch [5][150/655]\tlr: 1.000e-03, eta: 2:39:09, time: 0.740, data_time: 0.006, memory: 7090, loss_cls: 0.8596, loss_bbox: 0.7115, loss_bbox_rf: 0.9362, loss: 2.5073, grad_norm: 3.5793\n",
      "2021-05-14 01:31:58,644 - mmdet - INFO - Epoch [5][200/655]\tlr: 1.000e-03, eta: 2:38:32, time: 0.738, data_time: 0.006, memory: 7090, loss_cls: 0.8059, loss_bbox: 0.7194, loss_bbox_rf: 0.9528, loss: 2.4781, grad_norm: 2.5492\n",
      "2021-05-14 01:32:35,711 - mmdet - INFO - Epoch [5][250/655]\tlr: 1.000e-03, eta: 2:37:56, time: 0.741, data_time: 0.006, memory: 7090, loss_cls: 0.8367, loss_bbox: 0.7257, loss_bbox_rf: 0.9565, loss: 2.5189, grad_norm: 3.4002\n",
      "2021-05-14 01:33:12,266 - mmdet - INFO - Epoch [5][300/655]\tlr: 1.000e-03, eta: 2:37:18, time: 0.731, data_time: 0.006, memory: 7090, loss_cls: 0.8331, loss_bbox: 0.7108, loss_bbox_rf: 0.9349, loss: 2.4788, grad_norm: 3.0176\n",
      "2021-05-14 01:33:48,941 - mmdet - INFO - Epoch [5][350/655]\tlr: 1.000e-03, eta: 2:36:40, time: 0.733, data_time: 0.006, memory: 7090, loss_cls: 0.8429, loss_bbox: 0.7131, loss_bbox_rf: 0.9421, loss: 2.4981, grad_norm: 3.2910\n",
      "2021-05-14 01:34:25,819 - mmdet - INFO - Epoch [5][400/655]\tlr: 1.000e-03, eta: 2:36:03, time: 0.738, data_time: 0.006, memory: 7090, loss_cls: 0.8521, loss_bbox: 0.7016, loss_bbox_rf: 0.9256, loss: 2.4793, grad_norm: 2.9711\n",
      "2021-05-14 01:35:02,676 - mmdet - INFO - Epoch [5][450/655]\tlr: 1.000e-03, eta: 2:35:26, time: 0.737, data_time: 0.006, memory: 7090, loss_cls: 0.8262, loss_bbox: 0.7126, loss_bbox_rf: 0.9389, loss: 2.4778, grad_norm: 2.6859\n",
      "2021-05-14 01:35:39,838 - mmdet - INFO - Epoch [5][500/655]\tlr: 1.000e-03, eta: 2:34:51, time: 0.743, data_time: 0.006, memory: 7090, loss_cls: 0.8401, loss_bbox: 0.7062, loss_bbox_rf: 0.9318, loss: 2.4781, grad_norm: 2.9511\n",
      "2021-05-14 01:36:16,630 - mmdet - INFO - Epoch [5][550/655]\tlr: 1.000e-03, eta: 2:34:13, time: 0.736, data_time: 0.006, memory: 7090, loss_cls: 0.8522, loss_bbox: 0.7127, loss_bbox_rf: 0.9334, loss: 2.4984, grad_norm: 3.2627\n",
      "2021-05-14 01:36:53,379 - mmdet - INFO - Epoch [5][600/655]\tlr: 1.000e-03, eta: 2:33:36, time: 0.735, data_time: 0.006, memory: 7090, loss_cls: 0.8303, loss_bbox: 0.7072, loss_bbox_rf: 0.9354, loss: 2.4728, grad_norm: 2.9615\n",
      "2021-05-14 01:37:30,193 - mmdet - INFO - Epoch [5][650/655]\tlr: 1.000e-03, eta: 2:32:59, time: 0.736, data_time: 0.006, memory: 7090, loss_cls: 0.8665, loss_bbox: 0.7070, loss_bbox_rf: 0.9318, loss: 2.5053, grad_norm: 3.0306\n"
     ]
    },
    {
     "name": "stdout",
     "output_type": "stream",
     "text": [
      "[>>>>>>>>>>>>>>>>>>>>>>>>>>>>>] 655/655, 12.6 task/s, elapsed: 52s, ETA:     0s"
     ]
    },
    {
     "name": "stderr",
     "output_type": "stream",
     "text": [
      "2021-05-14 01:38:27,950 - mmdet - INFO - Evaluating bbox...\n"
     ]
    },
    {
     "name": "stdout",
     "output_type": "stream",
     "text": [
      "Loading and preparing results...\n",
      "DONE (t=1.07s)\n",
      "creating index...\n",
      "index created!\n",
      "Running per image evaluation...\n",
      "Evaluate annotation type *bbox*\n",
      "DONE (t=7.51s).\n",
      "Accumulating evaluation results...\n"
     ]
    },
    {
     "name": "stderr",
     "output_type": "stream",
     "text": [
      "2021-05-14 01:38:38,613 - mmdet - INFO - Epoch(val) [5][655]\tbbox_mAP: 0.0010, bbox_mAP_50: 0.0030, bbox_mAP_75: 0.0000, bbox_mAP_s: 0.0000, bbox_mAP_m: 0.0080, bbox_mAP_l: 0.0020, bbox_mAP_copypaste: 0.001 0.003 0.000 0.000 0.008 0.002\n"
     ]
    },
    {
     "name": "stdout",
     "output_type": "stream",
     "text": [
      "DONE (t=1.95s).\n",
      "Average Precision  (AP) @[ IoU=0.50:0.95 | area=   all | maxDets=100 ] = 0.001\n",
      "Average Precision  (AP) @[ IoU=0.50      | area=   all | maxDets=1000 ] = 0.003\n",
      "Average Precision  (AP) @[ IoU=0.75      | area=   all | maxDets=1000 ] = 0.000\n",
      "Average Precision  (AP) @[ IoU=0.50:0.95 | area= small | maxDets=1000 ] = 0.000\n",
      "Average Precision  (AP) @[ IoU=0.50:0.95 | area=medium | maxDets=1000 ] = 0.008\n",
      "Average Precision  (AP) @[ IoU=0.50:0.95 | area= large | maxDets=1000 ] = 0.002\n",
      "Average Recall     (AR) @[ IoU=0.50:0.95 | area=   all | maxDets=100 ] = 0.023\n",
      "Average Recall     (AR) @[ IoU=0.50:0.95 | area=   all | maxDets=300 ] = 0.023\n",
      "Average Recall     (AR) @[ IoU=0.50:0.95 | area=   all | maxDets=1000 ] = 0.023\n",
      "Average Recall     (AR) @[ IoU=0.50:0.95 | area= small | maxDets=1000 ] = 0.000\n",
      "Average Recall     (AR) @[ IoU=0.50:0.95 | area=medium | maxDets=1000 ] = 0.007\n",
      "Average Recall     (AR) @[ IoU=0.50:0.95 | area= large | maxDets=1000 ] = 0.070\n"
     ]
    },
    {
     "name": "stderr",
     "output_type": "stream",
     "text": [
      "2021-05-14 01:39:17,542 - mmdet - INFO - Epoch [6][50/655]\tlr: 1.000e-03, eta: 2:32:12, time: 0.778, data_time: 0.051, memory: 7090, loss_cls: 0.8026, loss_bbox: 0.7209, loss_bbox_rf: 0.9509, loss: 2.4744, grad_norm: 2.8674\n",
      "2021-05-14 01:39:54,931 - mmdet - INFO - Epoch [6][100/655]\tlr: 1.000e-03, eta: 2:31:38, time: 0.748, data_time: 0.006, memory: 7090, loss_cls: 0.8244, loss_bbox: 0.7107, loss_bbox_rf: 0.9386, loss: 2.4737, grad_norm: 2.8066\n",
      "2021-05-14 01:40:31,813 - mmdet - INFO - Epoch [6][150/655]\tlr: 1.000e-03, eta: 2:31:01, time: 0.738, data_time: 0.006, memory: 7090, loss_cls: 0.8412, loss_bbox: 0.7088, loss_bbox_rf: 0.9319, loss: 2.4819, grad_norm: 2.6902\n",
      "2021-05-14 01:41:08,485 - mmdet - INFO - Epoch [6][200/655]\tlr: 1.000e-03, eta: 2:30:23, time: 0.733, data_time: 0.006, memory: 7090, loss_cls: 0.8349, loss_bbox: 0.7116, loss_bbox_rf: 0.9404, loss: 2.4870, grad_norm: 2.7704\n",
      "2021-05-14 01:41:45,189 - mmdet - INFO - Epoch [6][250/655]\tlr: 1.000e-03, eta: 2:29:46, time: 0.734, data_time: 0.006, memory: 7090, loss_cls: 0.8427, loss_bbox: 0.7145, loss_bbox_rf: 0.9402, loss: 2.4974, grad_norm: 2.8889\n",
      "2021-05-14 01:42:21,908 - mmdet - INFO - Epoch [6][300/655]\tlr: 1.000e-03, eta: 2:29:09, time: 0.734, data_time: 0.006, memory: 7090, loss_cls: 0.8433, loss_bbox: 0.7228, loss_bbox_rf: 0.9489, loss: 2.5150, grad_norm: 3.1699\n",
      "2021-05-14 01:42:58,698 - mmdet - INFO - Epoch [6][350/655]\tlr: 1.000e-03, eta: 2:28:32, time: 0.736, data_time: 0.006, memory: 7090, loss_cls: 0.8335, loss_bbox: 0.7104, loss_bbox_rf: 0.9381, loss: 2.4821, grad_norm: 2.7407\n",
      "2021-05-14 01:43:36,079 - mmdet - INFO - Epoch [6][400/655]\tlr: 1.000e-03, eta: 2:27:57, time: 0.748, data_time: 0.006, memory: 7090, loss_cls: 0.8229, loss_bbox: 0.7220, loss_bbox_rf: 0.9493, loss: 2.4942, grad_norm: 2.5197\n",
      "2021-05-14 01:44:12,573 - mmdet - INFO - Epoch [6][450/655]\tlr: 1.000e-03, eta: 2:27:19, time: 0.730, data_time: 0.006, memory: 7090, loss_cls: 0.8660, loss_bbox: 0.7053, loss_bbox_rf: 0.9280, loss: 2.4993, grad_norm: 3.1251\n",
      "2021-05-14 01:44:48,954 - mmdet - INFO - Epoch [6][500/655]\tlr: 1.000e-03, eta: 2:26:40, time: 0.728, data_time: 0.006, memory: 7090, loss_cls: 0.8266, loss_bbox: 0.7055, loss_bbox_rf: 0.9329, loss: 2.4650, grad_norm: 2.3615\n",
      "2021-05-14 01:45:25,566 - mmdet - INFO - Epoch [6][550/655]\tlr: 1.000e-03, eta: 2:26:03, time: 0.732, data_time: 0.006, memory: 7090, loss_cls: 0.8747, loss_bbox: 0.6903, loss_bbox_rf: 0.9128, loss: 2.4778, grad_norm: 2.9049\n",
      "2021-05-14 01:46:03,528 - mmdet - INFO - Epoch [6][600/655]\tlr: 1.000e-03, eta: 2:25:29, time: 0.759, data_time: 0.006, memory: 7090, loss_cls: 0.8317, loss_bbox: 0.7146, loss_bbox_rf: 0.9431, loss: 2.4893, grad_norm: 2.9858\n",
      "2021-05-14 01:46:40,161 - mmdet - INFO - Epoch [6][650/655]\tlr: 1.000e-03, eta: 2:24:52, time: 0.733, data_time: 0.006, memory: 7090, loss_cls: 0.8323, loss_bbox: 0.7066, loss_bbox_rf: 0.9290, loss: 2.4680, grad_norm: 2.6833\n",
      "2021-05-14 01:46:43,873 - mmdet - INFO - Saving checkpoint at 6 epochs\n"
     ]
    },
    {
     "name": "stdout",
     "output_type": "stream",
     "text": [
      "[>>>>>>>>>>>>>>>>>>>>>>>>>>>>>] 655/655, 12.6 task/s, elapsed: 52s, ETA:     0s"
     ]
    },
    {
     "name": "stderr",
     "output_type": "stream",
     "text": [
      "2021-05-14 01:47:38,417 - mmdet - INFO - Evaluating bbox...\n"
     ]
    },
    {
     "name": "stdout",
     "output_type": "stream",
     "text": [
      "Loading and preparing results...\n",
      "DONE (t=1.85s)\n",
      "creating index...\n",
      "index created!\n",
      "Running per image evaluation...\n",
      "Evaluate annotation type *bbox*\n",
      "DONE (t=6.80s).\n",
      "Accumulating evaluation results...\n"
     ]
    },
    {
     "name": "stderr",
     "output_type": "stream",
     "text": [
      "2021-05-14 01:47:49,157 - mmdet - INFO - Epoch(val) [6][655]\tbbox_mAP: 0.0010, bbox_mAP_50: 0.0040, bbox_mAP_75: 0.0000, bbox_mAP_s: 0.0000, bbox_mAP_m: 0.0070, bbox_mAP_l: 0.0020, bbox_mAP_copypaste: 0.001 0.004 0.000 0.000 0.007 0.002\n"
     ]
    },
    {
     "name": "stdout",
     "output_type": "stream",
     "text": [
      "DONE (t=1.96s).\n",
      "Average Precision  (AP) @[ IoU=0.50:0.95 | area=   all | maxDets=100 ] = 0.001\n",
      "Average Precision  (AP) @[ IoU=0.50      | area=   all | maxDets=1000 ] = 0.004\n",
      "Average Precision  (AP) @[ IoU=0.75      | area=   all | maxDets=1000 ] = 0.000\n",
      "Average Precision  (AP) @[ IoU=0.50:0.95 | area= small | maxDets=1000 ] = 0.000\n",
      "Average Precision  (AP) @[ IoU=0.50:0.95 | area=medium | maxDets=1000 ] = 0.007\n",
      "Average Precision  (AP) @[ IoU=0.50:0.95 | area= large | maxDets=1000 ] = 0.002\n",
      "Average Recall     (AR) @[ IoU=0.50:0.95 | area=   all | maxDets=100 ] = 0.024\n",
      "Average Recall     (AR) @[ IoU=0.50:0.95 | area=   all | maxDets=300 ] = 0.024\n",
      "Average Recall     (AR) @[ IoU=0.50:0.95 | area=   all | maxDets=1000 ] = 0.024\n",
      "Average Recall     (AR) @[ IoU=0.50:0.95 | area= small | maxDets=1000 ] = 0.000\n",
      "Average Recall     (AR) @[ IoU=0.50:0.95 | area=medium | maxDets=1000 ] = 0.007\n",
      "Average Recall     (AR) @[ IoU=0.50:0.95 | area= large | maxDets=1000 ] = 0.073\n"
     ]
    },
    {
     "name": "stderr",
     "output_type": "stream",
     "text": [
      "2021-05-14 01:48:28,076 - mmdet - INFO - Epoch [7][50/655]\tlr: 1.000e-03, eta: 2:24:07, time: 0.778, data_time: 0.050, memory: 7090, loss_cls: 0.8271, loss_bbox: 0.7175, loss_bbox_rf: 0.9492, loss: 2.4938, grad_norm: 2.5736\n",
      "2021-05-14 01:49:04,443 - mmdet - INFO - Epoch [7][100/655]\tlr: 1.000e-03, eta: 2:23:28, time: 0.727, data_time: 0.006, memory: 7090, loss_cls: 0.8229, loss_bbox: 0.7148, loss_bbox_rf: 0.9434, loss: 2.4812, grad_norm: 2.7303\n",
      "2021-05-14 01:49:40,918 - mmdet - INFO - Epoch [7][150/655]\tlr: 1.000e-03, eta: 2:22:51, time: 0.729, data_time: 0.006, memory: 7090, loss_cls: 0.8529, loss_bbox: 0.7037, loss_bbox_rf: 0.9290, loss: 2.4856, grad_norm: 2.4664\n",
      "2021-05-14 01:50:17,475 - mmdet - INFO - Epoch [7][200/655]\tlr: 1.000e-03, eta: 2:22:13, time: 0.731, data_time: 0.006, memory: 7090, loss_cls: 0.8578, loss_bbox: 0.6942, loss_bbox_rf: 0.9151, loss: 2.4671, grad_norm: 2.8084\n",
      "2021-05-14 01:50:53,810 - mmdet - INFO - Epoch [7][250/655]\tlr: 1.000e-03, eta: 2:21:35, time: 0.727, data_time: 0.006, memory: 7090, loss_cls: 0.8212, loss_bbox: 0.7160, loss_bbox_rf: 0.9482, loss: 2.4854, grad_norm: 2.4983\n",
      "2021-05-14 01:51:30,209 - mmdet - INFO - Epoch [7][300/655]\tlr: 1.000e-03, eta: 2:20:57, time: 0.728, data_time: 0.006, memory: 7090, loss_cls: 0.8624, loss_bbox: 0.6957, loss_bbox_rf: 0.9160, loss: 2.4740, grad_norm: 2.9075\n",
      "2021-05-14 01:52:06,825 - mmdet - INFO - Epoch [7][350/655]\tlr: 1.000e-03, eta: 2:20:20, time: 0.732, data_time: 0.006, memory: 7090, loss_cls: 0.8693, loss_bbox: 0.7067, loss_bbox_rf: 0.9353, loss: 2.5114, grad_norm: 3.1574\n",
      "2021-05-14 01:52:43,308 - mmdet - INFO - Epoch [7][400/655]\tlr: 1.000e-03, eta: 2:19:42, time: 0.730, data_time: 0.006, memory: 7090, loss_cls: 0.8430, loss_bbox: 0.7024, loss_bbox_rf: 0.9277, loss: 2.4731, grad_norm: 2.4734\n",
      "2021-05-14 01:53:20,817 - mmdet - INFO - Epoch [7][450/655]\tlr: 1.000e-03, eta: 2:19:07, time: 0.750, data_time: 0.006, memory: 7090, loss_cls: 0.8094, loss_bbox: 0.7241, loss_bbox_rf: 0.9567, loss: 2.4902, grad_norm: 2.5743\n",
      "2021-05-14 01:53:57,294 - mmdet - INFO - Epoch [7][500/655]\tlr: 1.000e-03, eta: 2:18:29, time: 0.730, data_time: 0.006, memory: 7090, loss_cls: 0.8254, loss_bbox: 0.7115, loss_bbox_rf: 0.9381, loss: 2.4750, grad_norm: 2.6368\n",
      "2021-05-14 01:54:33,663 - mmdet - INFO - Epoch [7][550/655]\tlr: 1.000e-03, eta: 2:17:52, time: 0.727, data_time: 0.006, memory: 7090, loss_cls: 0.8449, loss_bbox: 0.7085, loss_bbox_rf: 0.9349, loss: 2.4883, grad_norm: 2.8395\n",
      "2021-05-14 01:55:10,086 - mmdet - INFO - Epoch [7][600/655]\tlr: 1.000e-03, eta: 2:17:14, time: 0.728, data_time: 0.006, memory: 7090, loss_cls: 0.8149, loss_bbox: 0.7213, loss_bbox_rf: 0.9516, loss: 2.4878, grad_norm: 2.5127\n",
      "2021-05-14 01:55:47,337 - mmdet - INFO - Epoch [7][650/655]\tlr: 1.000e-03, eta: 2:16:38, time: 0.745, data_time: 0.006, memory: 7090, loss_cls: 0.8242, loss_bbox: 0.7058, loss_bbox_rf: 0.9320, loss: 2.4621, grad_norm: 2.6220\n"
     ]
    },
    {
     "name": "stdout",
     "output_type": "stream",
     "text": [
      "[>>>>>>>>>>>>>>>>>>>>>>>>>>>>>] 655/655, 12.6 task/s, elapsed: 52s, ETA:     0s"
     ]
    },
    {
     "name": "stderr",
     "output_type": "stream",
     "text": [
      "2021-05-14 01:56:44,913 - mmdet - INFO - Evaluating bbox...\n"
     ]
    },
    {
     "name": "stdout",
     "output_type": "stream",
     "text": [
      "Loading and preparing results...\n",
      "DONE (t=1.05s)\n",
      "creating index...\n",
      "index created!\n",
      "Running per image evaluation...\n",
      "Evaluate annotation type *bbox*\n",
      "DONE (t=7.49s).\n",
      "Accumulating evaluation results...\n"
     ]
    },
    {
     "name": "stderr",
     "output_type": "stream",
     "text": [
      "2021-05-14 01:56:55,478 - mmdet - INFO - Epoch(val) [7][655]\tbbox_mAP: 0.0010, bbox_mAP_50: 0.0050, bbox_mAP_75: 0.0000, bbox_mAP_s: 0.0000, bbox_mAP_m: 0.0080, bbox_mAP_l: 0.0030, bbox_mAP_copypaste: 0.001 0.005 0.000 0.000 0.008 0.003\n"
     ]
    },
    {
     "name": "stdout",
     "output_type": "stream",
     "text": [
      "DONE (t=1.90s).\n",
      "Average Precision  (AP) @[ IoU=0.50:0.95 | area=   all | maxDets=100 ] = 0.001\n",
      "Average Precision  (AP) @[ IoU=0.50      | area=   all | maxDets=1000 ] = 0.005\n",
      "Average Precision  (AP) @[ IoU=0.75      | area=   all | maxDets=1000 ] = 0.000\n",
      "Average Precision  (AP) @[ IoU=0.50:0.95 | area= small | maxDets=1000 ] = 0.000\n",
      "Average Precision  (AP) @[ IoU=0.50:0.95 | area=medium | maxDets=1000 ] = 0.008\n",
      "Average Precision  (AP) @[ IoU=0.50:0.95 | area= large | maxDets=1000 ] = 0.003\n",
      "Average Recall     (AR) @[ IoU=0.50:0.95 | area=   all | maxDets=100 ] = 0.023\n",
      "Average Recall     (AR) @[ IoU=0.50:0.95 | area=   all | maxDets=300 ] = 0.023\n",
      "Average Recall     (AR) @[ IoU=0.50:0.95 | area=   all | maxDets=1000 ] = 0.023\n",
      "Average Recall     (AR) @[ IoU=0.50:0.95 | area= small | maxDets=1000 ] = 0.000\n",
      "Average Recall     (AR) @[ IoU=0.50:0.95 | area=medium | maxDets=1000 ] = 0.007\n",
      "Average Recall     (AR) @[ IoU=0.50:0.95 | area= large | maxDets=1000 ] = 0.073\n"
     ]
    },
    {
     "name": "stderr",
     "output_type": "stream",
     "text": [
      "2021-05-14 01:57:34,271 - mmdet - INFO - Epoch [8][50/655]\tlr: 1.000e-03, eta: 2:15:54, time: 0.776, data_time: 0.051, memory: 7090, loss_cls: 0.8224, loss_bbox: 0.7038, loss_bbox_rf: 0.9308, loss: 2.4570, grad_norm: 2.3340\n",
      "2021-05-14 01:58:10,797 - mmdet - INFO - Epoch [8][100/655]\tlr: 1.000e-03, eta: 2:15:16, time: 0.731, data_time: 0.006, memory: 7090, loss_cls: 0.8397, loss_bbox: 0.7018, loss_bbox_rf: 0.9282, loss: 2.4697, grad_norm: 2.6398\n",
      "2021-05-14 01:58:47,162 - mmdet - INFO - Epoch [8][150/655]\tlr: 1.000e-03, eta: 2:14:38, time: 0.727, data_time: 0.006, memory: 7090, loss_cls: 0.8381, loss_bbox: 0.7140, loss_bbox_rf: 0.9445, loss: 2.4966, grad_norm: 2.8522\n",
      "2021-05-14 01:59:23,216 - mmdet - INFO - Epoch [8][200/655]\tlr: 1.000e-03, eta: 2:14:00, time: 0.721, data_time: 0.006, memory: 7090, loss_cls: 0.8445, loss_bbox: 0.7008, loss_bbox_rf: 0.9250, loss: 2.4702, grad_norm: 2.6143\n",
      "2021-05-14 01:59:59,362 - mmdet - INFO - Epoch [8][250/655]\tlr: 1.000e-03, eta: 2:13:22, time: 0.723, data_time: 0.006, memory: 7090, loss_cls: 0.8390, loss_bbox: 0.7127, loss_bbox_rf: 0.9404, loss: 2.4921, grad_norm: 2.4956\n",
      "2021-05-14 02:00:35,702 - mmdet - INFO - Epoch [8][300/655]\tlr: 1.000e-03, eta: 2:12:44, time: 0.727, data_time: 0.006, memory: 7090, loss_cls: 0.8471, loss_bbox: 0.6990, loss_bbox_rf: 0.9244, loss: 2.4706, grad_norm: 2.6226\n",
      "2021-05-14 02:01:11,811 - mmdet - INFO - Epoch [8][350/655]\tlr: 1.000e-03, eta: 2:12:06, time: 0.722, data_time: 0.006, memory: 7090, loss_cls: 0.8225, loss_bbox: 0.7094, loss_bbox_rf: 0.9364, loss: 2.4684, grad_norm: 2.4964\n",
      "2021-05-14 02:01:48,076 - mmdet - INFO - Epoch [8][400/655]\tlr: 1.000e-03, eta: 2:11:28, time: 0.725, data_time: 0.006, memory: 7090, loss_cls: 0.8436, loss_bbox: 0.7135, loss_bbox_rf: 0.9374, loss: 2.4944, grad_norm: 2.5887\n",
      "2021-05-14 02:02:24,360 - mmdet - INFO - Epoch [8][450/655]\tlr: 1.000e-03, eta: 2:10:51, time: 0.726, data_time: 0.006, memory: 7090, loss_cls: 0.8372, loss_bbox: 0.7169, loss_bbox_rf: 0.9415, loss: 2.4956, grad_norm: 2.6482\n",
      "2021-05-14 02:03:00,477 - mmdet - INFO - Epoch [8][500/655]\tlr: 1.000e-03, eta: 2:10:13, time: 0.722, data_time: 0.006, memory: 7090, loss_cls: 0.8483, loss_bbox: 0.7038, loss_bbox_rf: 0.9296, loss: 2.4817, grad_norm: 2.5271\n",
      "2021-05-14 02:03:36,747 - mmdet - INFO - Epoch [8][550/655]\tlr: 1.000e-03, eta: 2:09:35, time: 0.725, data_time: 0.006, memory: 7090, loss_cls: 0.8295, loss_bbox: 0.7075, loss_bbox_rf: 0.9306, loss: 2.4675, grad_norm: 2.4656\n",
      "2021-05-14 02:04:13,045 - mmdet - INFO - Epoch [8][600/655]\tlr: 1.000e-03, eta: 2:08:57, time: 0.726, data_time: 0.006, memory: 7090, loss_cls: 0.8452, loss_bbox: 0.7050, loss_bbox_rf: 0.9310, loss: 2.4812, grad_norm: 2.7342\n",
      "2021-05-14 02:04:49,378 - mmdet - INFO - Epoch [8][650/655]\tlr: 1.000e-03, eta: 2:08:20, time: 0.727, data_time: 0.006, memory: 7090, loss_cls: 0.8572, loss_bbox: 0.7031, loss_bbox_rf: 0.9298, loss: 2.4901, grad_norm: 2.2346\n"
     ]
    },
    {
     "name": "stdout",
     "output_type": "stream",
     "text": [
      "[>>>>>>>>>>>>>>>>>>>>>>>>>>>>>] 655/655, 12.7 task/s, elapsed: 52s, ETA:     0s"
     ]
    },
    {
     "name": "stderr",
     "output_type": "stream",
     "text": [
      "2021-05-14 02:05:46,090 - mmdet - INFO - Evaluating bbox...\n"
     ]
    },
    {
     "name": "stdout",
     "output_type": "stream",
     "text": [
      "Loading and preparing results...\n",
      "DONE (t=1.80s)\n",
      "creating index...\n",
      "index created!\n",
      "Running per image evaluation...\n",
      "Evaluate annotation type *bbox*\n",
      "DONE (t=6.91s).\n",
      "Accumulating evaluation results...\n"
     ]
    },
    {
     "name": "stderr",
     "output_type": "stream",
     "text": [
      "2021-05-14 02:05:56,785 - mmdet - INFO - Epoch(val) [8][655]\tbbox_mAP: 0.0010, bbox_mAP_50: 0.0040, bbox_mAP_75: 0.0000, bbox_mAP_s: 0.0000, bbox_mAP_m: 0.0060, bbox_mAP_l: 0.0030, bbox_mAP_copypaste: 0.001 0.004 0.000 0.000 0.006 0.003\n"
     ]
    },
    {
     "name": "stdout",
     "output_type": "stream",
     "text": [
      "DONE (t=1.85s).\n",
      "Average Precision  (AP) @[ IoU=0.50:0.95 | area=   all | maxDets=100 ] = 0.001\n",
      "Average Precision  (AP) @[ IoU=0.50      | area=   all | maxDets=1000 ] = 0.004\n",
      "Average Precision  (AP) @[ IoU=0.75      | area=   all | maxDets=1000 ] = 0.000\n",
      "Average Precision  (AP) @[ IoU=0.50:0.95 | area= small | maxDets=1000 ] = 0.000\n",
      "Average Precision  (AP) @[ IoU=0.50:0.95 | area=medium | maxDets=1000 ] = 0.006\n",
      "Average Precision  (AP) @[ IoU=0.50:0.95 | area= large | maxDets=1000 ] = 0.003\n",
      "Average Recall     (AR) @[ IoU=0.50:0.95 | area=   all | maxDets=100 ] = 0.027\n",
      "Average Recall     (AR) @[ IoU=0.50:0.95 | area=   all | maxDets=300 ] = 0.027\n",
      "Average Recall     (AR) @[ IoU=0.50:0.95 | area=   all | maxDets=1000 ] = 0.027\n",
      "Average Recall     (AR) @[ IoU=0.50:0.95 | area= small | maxDets=1000 ] = 0.000\n",
      "Average Recall     (AR) @[ IoU=0.50:0.95 | area=medium | maxDets=1000 ] = 0.005\n",
      "Average Recall     (AR) @[ IoU=0.50:0.95 | area= large | maxDets=1000 ] = 0.084\n"
     ]
    },
    {
     "name": "stderr",
     "output_type": "stream",
     "text": [
      "2021-05-14 02:06:35,518 - mmdet - INFO - Epoch [9][50/655]\tlr: 1.000e-03, eta: 2:07:36, time: 0.774, data_time: 0.050, memory: 7090, loss_cls: 0.8278, loss_bbox: 0.7033, loss_bbox_rf: 0.9295, loss: 2.4606, grad_norm: 2.3069\n",
      "2021-05-14 02:07:11,877 - mmdet - INFO - Epoch [9][100/655]\tlr: 1.000e-03, eta: 2:06:59, time: 0.727, data_time: 0.006, memory: 7090, loss_cls: 0.8211, loss_bbox: 0.7146, loss_bbox_rf: 0.9422, loss: 2.4779, grad_norm: 2.2535\n",
      "2021-05-14 02:07:48,066 - mmdet - INFO - Epoch [9][150/655]\tlr: 1.000e-03, eta: 2:06:21, time: 0.724, data_time: 0.006, memory: 7090, loss_cls: 0.8451, loss_bbox: 0.7044, loss_bbox_rf: 0.9283, loss: 2.4779, grad_norm: 2.2875\n",
      "2021-05-14 02:08:24,569 - mmdet - INFO - Epoch [9][200/655]\tlr: 1.000e-03, eta: 2:05:44, time: 0.730, data_time: 0.006, memory: 7090, loss_cls: 0.8369, loss_bbox: 0.7034, loss_bbox_rf: 0.9297, loss: 2.4700, grad_norm: 2.5048\n",
      "2021-05-14 02:09:00,879 - mmdet - INFO - Epoch [9][250/655]\tlr: 1.000e-03, eta: 2:05:06, time: 0.726, data_time: 0.006, memory: 7090, loss_cls: 0.8749, loss_bbox: 0.7073, loss_bbox_rf: 0.9324, loss: 2.5147, grad_norm: 2.8346\n",
      "2021-05-14 02:09:37,024 - mmdet - INFO - Epoch [9][300/655]\tlr: 1.000e-03, eta: 2:04:29, time: 0.723, data_time: 0.006, memory: 7090, loss_cls: 0.8466, loss_bbox: 0.7071, loss_bbox_rf: 0.9342, loss: 2.4879, grad_norm: 2.7059\n",
      "2021-05-14 02:10:13,194 - mmdet - INFO - Epoch [9][350/655]\tlr: 1.000e-03, eta: 2:03:51, time: 0.723, data_time: 0.006, memory: 7090, loss_cls: 0.8265, loss_bbox: 0.7088, loss_bbox_rf: 0.9374, loss: 2.4727, grad_norm: 2.5560\n",
      "2021-05-14 02:10:49,466 - mmdet - INFO - Epoch [9][400/655]\tlr: 1.000e-03, eta: 2:03:14, time: 0.725, data_time: 0.006, memory: 7090, loss_cls: 0.8377, loss_bbox: 0.7116, loss_bbox_rf: 0.9411, loss: 2.4903, grad_norm: 2.3988\n",
      "2021-05-14 02:11:25,919 - mmdet - INFO - Epoch [9][450/655]\tlr: 1.000e-03, eta: 2:02:37, time: 0.729, data_time: 0.006, memory: 7090, loss_cls: 0.8544, loss_bbox: 0.6995, loss_bbox_rf: 0.9225, loss: 2.4764, grad_norm: 2.3565\n",
      "2021-05-14 02:12:01,980 - mmdet - INFO - Epoch [9][500/655]\tlr: 1.000e-03, eta: 2:01:59, time: 0.721, data_time: 0.006, memory: 7090, loss_cls: 0.8533, loss_bbox: 0.7004, loss_bbox_rf: 0.9260, loss: 2.4797, grad_norm: 2.3487\n",
      "2021-05-14 02:12:37,934 - mmdet - INFO - Epoch [9][550/655]\tlr: 1.000e-03, eta: 2:01:21, time: 0.719, data_time: 0.006, memory: 7090, loss_cls: 0.8351, loss_bbox: 0.7009, loss_bbox_rf: 0.9240, loss: 2.4599, grad_norm: 2.4582\n",
      "2021-05-14 02:13:14,542 - mmdet - INFO - Epoch [9][600/655]\tlr: 1.000e-03, eta: 2:00:44, time: 0.732, data_time: 0.006, memory: 7090, loss_cls: 0.8350, loss_bbox: 0.7019, loss_bbox_rf: 0.9262, loss: 2.4631, grad_norm: 2.3775\n",
      "2021-05-14 02:13:50,960 - mmdet - INFO - Epoch [9][650/655]\tlr: 1.000e-03, eta: 2:00:07, time: 0.728, data_time: 0.006, memory: 7090, loss_cls: 0.8297, loss_bbox: 0.7086, loss_bbox_rf: 0.9366, loss: 2.4749, grad_norm: 2.4122\n",
      "2021-05-14 02:13:54,647 - mmdet - INFO - Saving checkpoint at 9 epochs\n"
     ]
    },
    {
     "name": "stdout",
     "output_type": "stream",
     "text": [
      "[>>>>>>>>>>>>>>>>>>>>>>>>>>>>>] 655/655, 12.5 task/s, elapsed: 52s, ETA:     0s"
     ]
    },
    {
     "name": "stderr",
     "output_type": "stream",
     "text": [
      "2021-05-14 02:14:52,299 - mmdet - INFO - Evaluating bbox...\n"
     ]
    },
    {
     "name": "stdout",
     "output_type": "stream",
     "text": [
      "Loading and preparing results...\n",
      "DONE (t=1.90s)\n",
      "creating index...\n",
      "index created!\n",
      "Running per image evaluation...\n",
      "Evaluate annotation type *bbox*\n",
      "DONE (t=6.29s).\n",
      "Accumulating evaluation results...\n"
     ]
    },
    {
     "name": "stderr",
     "output_type": "stream",
     "text": [
      "2021-05-14 02:15:02,709 - mmdet - INFO - Epoch(val) [9][655]\tbbox_mAP: 0.0010, bbox_mAP_50: 0.0050, bbox_mAP_75: 0.0000, bbox_mAP_s: 0.0000, bbox_mAP_m: 0.0050, bbox_mAP_l: 0.0040, bbox_mAP_copypaste: 0.001 0.005 0.000 0.000 0.005 0.004\n"
     ]
    },
    {
     "name": "stdout",
     "output_type": "stream",
     "text": [
      "DONE (t=2.07s).\n",
      "Average Precision  (AP) @[ IoU=0.50:0.95 | area=   all | maxDets=100 ] = 0.001\n",
      "Average Precision  (AP) @[ IoU=0.50      | area=   all | maxDets=1000 ] = 0.005\n",
      "Average Precision  (AP) @[ IoU=0.75      | area=   all | maxDets=1000 ] = 0.000\n",
      "Average Precision  (AP) @[ IoU=0.50:0.95 | area= small | maxDets=1000 ] = 0.000\n",
      "Average Precision  (AP) @[ IoU=0.50:0.95 | area=medium | maxDets=1000 ] = 0.005\n",
      "Average Precision  (AP) @[ IoU=0.50:0.95 | area= large | maxDets=1000 ] = 0.004\n",
      "Average Recall     (AR) @[ IoU=0.50:0.95 | area=   all | maxDets=100 ] = 0.034\n",
      "Average Recall     (AR) @[ IoU=0.50:0.95 | area=   all | maxDets=300 ] = 0.034\n",
      "Average Recall     (AR) @[ IoU=0.50:0.95 | area=   all | maxDets=1000 ] = 0.034\n",
      "Average Recall     (AR) @[ IoU=0.50:0.95 | area= small | maxDets=1000 ] = 0.000\n",
      "Average Recall     (AR) @[ IoU=0.50:0.95 | area=medium | maxDets=1000 ] = 0.006\n",
      "Average Recall     (AR) @[ IoU=0.50:0.95 | area= large | maxDets=1000 ] = 0.110\n"
     ]
    },
    {
     "name": "stderr",
     "output_type": "stream",
     "text": [
      "2021-05-14 02:15:41,371 - mmdet - INFO - Epoch [10][50/655]\tlr: 1.000e-03, eta: 1:59:24, time: 0.773, data_time: 0.051, memory: 7090, loss_cls: 0.8349, loss_bbox: 0.7043, loss_bbox_rf: 0.9308, loss: 2.4700, grad_norm: 2.1871\n",
      "2021-05-14 02:16:17,648 - mmdet - INFO - Epoch [10][100/655]\tlr: 1.000e-03, eta: 1:58:47, time: 0.726, data_time: 0.006, memory: 7090, loss_cls: 0.8755, loss_bbox: 0.6958, loss_bbox_rf: 0.9177, loss: 2.4890, grad_norm: 2.7227\n",
      "2021-05-14 02:16:54,061 - mmdet - INFO - Epoch [10][150/655]\tlr: 1.000e-03, eta: 1:58:10, time: 0.728, data_time: 0.006, memory: 7090, loss_cls: 0.8498, loss_bbox: 0.6948, loss_bbox_rf: 0.9162, loss: 2.4608, grad_norm: 2.4706\n",
      "2021-05-14 02:17:30,993 - mmdet - INFO - Epoch [10][200/655]\tlr: 1.000e-03, eta: 1:57:34, time: 0.739, data_time: 0.006, memory: 7090, loss_cls: 0.8632, loss_bbox: 0.6914, loss_bbox_rf: 0.9136, loss: 2.4682, grad_norm: 2.3130\n",
      "2021-05-14 02:18:07,600 - mmdet - INFO - Epoch [10][250/655]\tlr: 1.000e-03, eta: 1:56:57, time: 0.732, data_time: 0.006, memory: 7090, loss_cls: 0.8215, loss_bbox: 0.7051, loss_bbox_rf: 0.9328, loss: 2.4594, grad_norm: 2.0540\n",
      "2021-05-14 02:18:44,645 - mmdet - INFO - Epoch [10][300/655]\tlr: 1.000e-03, eta: 1:56:21, time: 0.741, data_time: 0.006, memory: 7090, loss_cls: 0.8624, loss_bbox: 0.6980, loss_bbox_rf: 0.9224, loss: 2.4827, grad_norm: 2.2747\n",
      "2021-05-14 02:19:20,749 - mmdet - INFO - Epoch [10][350/655]\tlr: 1.000e-03, eta: 1:55:43, time: 0.722, data_time: 0.006, memory: 7090, loss_cls: 0.8591, loss_bbox: 0.7098, loss_bbox_rf: 0.9383, loss: 2.5072, grad_norm: 2.5150\n",
      "2021-05-14 02:19:57,052 - mmdet - INFO - Epoch [10][400/655]\tlr: 1.000e-03, eta: 1:55:06, time: 0.726, data_time: 0.006, memory: 7090, loss_cls: 0.8470, loss_bbox: 0.7058, loss_bbox_rf: 0.9344, loss: 2.4872, grad_norm: 2.6857\n",
      "2021-05-14 02:20:33,557 - mmdet - INFO - Epoch [10][450/655]\tlr: 1.000e-03, eta: 1:54:29, time: 0.730, data_time: 0.006, memory: 7090, loss_cls: 0.8570, loss_bbox: 0.6989, loss_bbox_rf: 0.9266, loss: 2.4826, grad_norm: 2.5998\n",
      "2021-05-14 02:21:10,023 - mmdet - INFO - Epoch [10][500/655]\tlr: 1.000e-03, eta: 1:53:53, time: 0.729, data_time: 0.006, memory: 7090, loss_cls: 0.8374, loss_bbox: 0.7133, loss_bbox_rf: 0.9413, loss: 2.4920, grad_norm: 2.5475\n",
      "2021-05-14 02:21:46,331 - mmdet - INFO - Epoch [10][550/655]\tlr: 1.000e-03, eta: 1:53:15, time: 0.726, data_time: 0.006, memory: 7090, loss_cls: 0.8507, loss_bbox: 0.6995, loss_bbox_rf: 0.9240, loss: 2.4742, grad_norm: 2.3937\n",
      "2021-05-14 02:22:22,389 - mmdet - INFO - Epoch [10][600/655]\tlr: 1.000e-03, eta: 1:52:38, time: 0.721, data_time: 0.006, memory: 7090, loss_cls: 0.8387, loss_bbox: 0.7091, loss_bbox_rf: 0.9366, loss: 2.4843, grad_norm: 2.1270\n",
      "2021-05-14 02:22:58,542 - mmdet - INFO - Epoch [10][650/655]\tlr: 1.000e-03, eta: 1:52:01, time: 0.723, data_time: 0.006, memory: 7090, loss_cls: 0.8267, loss_bbox: 0.7034, loss_bbox_rf: 0.9299, loss: 2.4601, grad_norm: 2.4866\n"
     ]
    },
    {
     "name": "stdout",
     "output_type": "stream",
     "text": [
      "[>>>>>>>>>>>>>>>>>>>>>>>>>>>>>] 655/655, 12.4 task/s, elapsed: 53s, ETA:     0s"
     ]
    },
    {
     "name": "stderr",
     "output_type": "stream",
     "text": [
      "2021-05-14 02:23:57,201 - mmdet - INFO - Evaluating bbox...\n"
     ]
    },
    {
     "name": "stdout",
     "output_type": "stream",
     "text": [
      "Loading and preparing results...\n",
      "DONE (t=1.06s)\n",
      "creating index...\n",
      "index created!\n",
      "Running per image evaluation...\n",
      "Evaluate annotation type *bbox*\n",
      "DONE (t=7.63s).\n",
      "Accumulating evaluation results...\n"
     ]
    },
    {
     "name": "stderr",
     "output_type": "stream",
     "text": [
      "2021-05-14 02:24:08,004 - mmdet - INFO - Epoch(val) [10][655]\tbbox_mAP: 0.0010, bbox_mAP_50: 0.0050, bbox_mAP_75: 0.0010, bbox_mAP_s: 0.0010, bbox_mAP_m: 0.0080, bbox_mAP_l: 0.0040, bbox_mAP_copypaste: 0.001 0.005 0.001 0.001 0.008 0.004\n"
     ]
    },
    {
     "name": "stdout",
     "output_type": "stream",
     "text": [
      "DONE (t=1.99s).\n",
      "Average Precision  (AP) @[ IoU=0.50:0.95 | area=   all | maxDets=100 ] = 0.001\n",
      "Average Precision  (AP) @[ IoU=0.50      | area=   all | maxDets=1000 ] = 0.005\n",
      "Average Precision  (AP) @[ IoU=0.75      | area=   all | maxDets=1000 ] = 0.001\n",
      "Average Precision  (AP) @[ IoU=0.50:0.95 | area= small | maxDets=1000 ] = 0.001\n",
      "Average Precision  (AP) @[ IoU=0.50:0.95 | area=medium | maxDets=1000 ] = 0.008\n",
      "Average Precision  (AP) @[ IoU=0.50:0.95 | area= large | maxDets=1000 ] = 0.004\n",
      "Average Recall     (AR) @[ IoU=0.50:0.95 | area=   all | maxDets=100 ] = 0.022\n",
      "Average Recall     (AR) @[ IoU=0.50:0.95 | area=   all | maxDets=300 ] = 0.022\n",
      "Average Recall     (AR) @[ IoU=0.50:0.95 | area=   all | maxDets=1000 ] = 0.022\n",
      "Average Recall     (AR) @[ IoU=0.50:0.95 | area= small | maxDets=1000 ] = 0.000\n",
      "Average Recall     (AR) @[ IoU=0.50:0.95 | area=medium | maxDets=1000 ] = 0.007\n",
      "Average Recall     (AR) @[ IoU=0.50:0.95 | area= large | maxDets=1000 ] = 0.067\n"
     ]
    },
    {
     "name": "stderr",
     "output_type": "stream",
     "text": [
      "2021-05-14 02:24:46,975 - mmdet - INFO - Epoch [11][50/655]\tlr: 1.000e-03, eta: 1:51:19, time: 0.779, data_time: 0.050, memory: 7090, loss_cls: 0.8198, loss_bbox: 0.7091, loss_bbox_rf: 0.9390, loss: 2.4680, grad_norm: 1.9622\n",
      "2021-05-14 02:25:23,288 - mmdet - INFO - Epoch [11][100/655]\tlr: 1.000e-03, eta: 1:50:42, time: 0.726, data_time: 0.006, memory: 7090, loss_cls: 0.8608, loss_bbox: 0.6993, loss_bbox_rf: 0.9214, loss: 2.4815, grad_norm: 2.3780\n",
      "2021-05-14 02:25:59,385 - mmdet - INFO - Epoch [11][150/655]\tlr: 1.000e-03, eta: 1:50:04, time: 0.722, data_time: 0.006, memory: 7090, loss_cls: 0.8527, loss_bbox: 0.6905, loss_bbox_rf: 0.9120, loss: 2.4552, grad_norm: 2.2941\n",
      "2021-05-14 02:26:35,474 - mmdet - INFO - Epoch [11][200/655]\tlr: 1.000e-03, eta: 1:49:27, time: 0.722, data_time: 0.006, memory: 7090, loss_cls: 0.7975, loss_bbox: 0.7156, loss_bbox_rf: 0.9482, loss: 2.4613, grad_norm: 2.1871\n",
      "2021-05-14 02:27:11,696 - mmdet - INFO - Epoch [11][250/655]\tlr: 1.000e-03, eta: 1:48:50, time: 0.724, data_time: 0.006, memory: 7090, loss_cls: 0.8289, loss_bbox: 0.7088, loss_bbox_rf: 0.9382, loss: 2.4759, grad_norm: 2.3271\n",
      "2021-05-14 02:27:47,829 - mmdet - INFO - Epoch [11][300/655]\tlr: 1.000e-03, eta: 1:48:13, time: 0.723, data_time: 0.006, memory: 7090, loss_cls: 0.8675, loss_bbox: 0.6856, loss_bbox_rf: 0.9045, loss: 2.4576, grad_norm: 3.4529\n",
      "2021-05-14 02:28:23,792 - mmdet - INFO - Epoch [11][350/655]\tlr: 1.000e-03, eta: 1:47:35, time: 0.719, data_time: 0.006, memory: 7090, loss_cls: 0.8363, loss_bbox: 0.7126, loss_bbox_rf: 0.9391, loss: 2.4880, grad_norm: 2.4443\n",
      "2021-05-14 02:29:01,090 - mmdet - INFO - Epoch [11][400/655]\tlr: 1.000e-03, eta: 1:46:59, time: 0.746, data_time: 0.006, memory: 7090, loss_cls: 0.8251, loss_bbox: 0.7004, loss_bbox_rf: 0.9297, loss: 2.4551, grad_norm: 2.2005\n",
      "2021-05-14 02:29:37,904 - mmdet - INFO - Epoch [11][450/655]\tlr: 1.000e-03, eta: 1:46:23, time: 0.736, data_time: 0.006, memory: 7090, loss_cls: 0.8438, loss_bbox: 0.7029, loss_bbox_rf: 0.9291, loss: 2.4758, grad_norm: 2.4474\n",
      "2021-05-14 02:30:13,844 - mmdet - INFO - Epoch [11][500/655]\tlr: 1.000e-03, eta: 1:45:46, time: 0.719, data_time: 0.006, memory: 7090, loss_cls: 0.8061, loss_bbox: 0.7176, loss_bbox_rf: 0.9482, loss: 2.4720, grad_norm: 2.1292\n",
      "2021-05-14 02:30:49,460 - mmdet - INFO - Epoch [11][550/655]\tlr: 1.000e-03, eta: 1:45:08, time: 0.712, data_time: 0.006, memory: 7090, loss_cls: 0.8165, loss_bbox: 0.7143, loss_bbox_rf: 0.9458, loss: 2.4767, grad_norm: 1.9490\n",
      "2021-05-14 02:31:24,875 - mmdet - INFO - Epoch [11][600/655]\tlr: 1.000e-03, eta: 1:44:30, time: 0.708, data_time: 0.006, memory: 7090, loss_cls: 0.8533, loss_bbox: 0.7008, loss_bbox_rf: 0.9266, loss: 2.4807, grad_norm: 2.3788\n",
      "2021-05-14 02:32:00,247 - mmdet - INFO - Epoch [11][650/655]\tlr: 1.000e-03, eta: 1:43:52, time: 0.707, data_time: 0.006, memory: 7090, loss_cls: 0.8737, loss_bbox: 0.6905, loss_bbox_rf: 0.9122, loss: 2.4764, grad_norm: 2.2583\n"
     ]
    },
    {
     "name": "stdout",
     "output_type": "stream",
     "text": [
      "[>>>>>>>>>>>>>>>>>>>>>>>>>>>>>] 655/655, 11.9 task/s, elapsed: 55s, ETA:     0s"
     ]
    },
    {
     "name": "stderr",
     "output_type": "stream",
     "text": [
      "2021-05-14 02:33:00,372 - mmdet - INFO - Evaluating bbox...\n"
     ]
    },
    {
     "name": "stdout",
     "output_type": "stream",
     "text": [
      "Loading and preparing results...\n",
      "DONE (t=1.81s)\n",
      "creating index...\n",
      "index created!\n",
      "Running per image evaluation...\n",
      "Evaluate annotation type *bbox*\n",
      "DONE (t=7.72s).\n",
      "Accumulating evaluation results...\n"
     ]
    },
    {
     "name": "stderr",
     "output_type": "stream",
     "text": [
      "2021-05-14 02:33:12,032 - mmdet - INFO - Epoch(val) [11][655]\tbbox_mAP: 0.0010, bbox_mAP_50: 0.0040, bbox_mAP_75: 0.0000, bbox_mAP_s: 0.0000, bbox_mAP_m: 0.0090, bbox_mAP_l: 0.0030, bbox_mAP_copypaste: 0.001 0.004 0.000 0.000 0.009 0.003\n"
     ]
    },
    {
     "name": "stdout",
     "output_type": "stream",
     "text": [
      "DONE (t=2.00s).\n",
      "Average Precision  (AP) @[ IoU=0.50:0.95 | area=   all | maxDets=100 ] = 0.001\n",
      "Average Precision  (AP) @[ IoU=0.50      | area=   all | maxDets=1000 ] = 0.004\n",
      "Average Precision  (AP) @[ IoU=0.75      | area=   all | maxDets=1000 ] = 0.000\n",
      "Average Precision  (AP) @[ IoU=0.50:0.95 | area= small | maxDets=1000 ] = 0.000\n",
      "Average Precision  (AP) @[ IoU=0.50:0.95 | area=medium | maxDets=1000 ] = 0.009\n",
      "Average Precision  (AP) @[ IoU=0.50:0.95 | area= large | maxDets=1000 ] = 0.003\n",
      "Average Recall     (AR) @[ IoU=0.50:0.95 | area=   all | maxDets=100 ] = 0.025\n",
      "Average Recall     (AR) @[ IoU=0.50:0.95 | area=   all | maxDets=300 ] = 0.025\n",
      "Average Recall     (AR) @[ IoU=0.50:0.95 | area=   all | maxDets=1000 ] = 0.025\n",
      "Average Recall     (AR) @[ IoU=0.50:0.95 | area= small | maxDets=1000 ] = 0.000\n",
      "Average Recall     (AR) @[ IoU=0.50:0.95 | area=medium | maxDets=1000 ] = 0.008\n",
      "Average Recall     (AR) @[ IoU=0.50:0.95 | area= large | maxDets=1000 ] = 0.072\n"
     ]
    },
    {
     "name": "stderr",
     "output_type": "stream",
     "text": [
      "2021-05-14 02:33:50,180 - mmdet - INFO - Epoch [12][50/655]\tlr: 1.000e-03, eta: 1:43:09, time: 0.763, data_time: 0.051, memory: 7090, loss_cls: 0.8826, loss_bbox: 0.6919, loss_bbox_rf: 0.9177, loss: 2.4922, grad_norm: 2.9686\n",
      "2021-05-14 02:34:25,691 - mmdet - INFO - Epoch [12][100/655]\tlr: 1.000e-03, eta: 1:42:31, time: 0.710, data_time: 0.006, memory: 7090, loss_cls: 0.8358, loss_bbox: 0.7082, loss_bbox_rf: 0.9372, loss: 2.4812, grad_norm: 2.1932\n",
      "2021-05-14 02:35:01,156 - mmdet - INFO - Epoch [12][150/655]\tlr: 1.000e-03, eta: 1:41:54, time: 0.709, data_time: 0.006, memory: 7090, loss_cls: 0.8316, loss_bbox: 0.7107, loss_bbox_rf: 0.9432, loss: 2.4855, grad_norm: 2.2457\n",
      "2021-05-14 02:35:36,655 - mmdet - INFO - Epoch [12][200/655]\tlr: 1.000e-03, eta: 1:41:16, time: 0.710, data_time: 0.006, memory: 7090, loss_cls: 0.8302, loss_bbox: 0.6981, loss_bbox_rf: 0.9260, loss: 2.4543, grad_norm: 1.8907\n",
      "2021-05-14 02:36:12,408 - mmdet - INFO - Epoch [12][250/655]\tlr: 1.000e-03, eta: 1:40:39, time: 0.715, data_time: 0.006, memory: 7090, loss_cls: 0.8282, loss_bbox: 0.7002, loss_bbox_rf: 0.9274, loss: 2.4558, grad_norm: 1.9832\n",
      "2021-05-14 02:36:50,275 - mmdet - INFO - Epoch [12][300/655]\tlr: 1.000e-03, eta: 1:40:03, time: 0.757, data_time: 0.006, memory: 7090, loss_cls: 0.8145, loss_bbox: 0.7084, loss_bbox_rf: 0.9388, loss: 2.4616, grad_norm: 1.9984\n",
      "2021-05-14 02:37:25,982 - mmdet - INFO - Epoch [12][350/655]\tlr: 1.000e-03, eta: 1:39:26, time: 0.714, data_time: 0.006, memory: 7090, loss_cls: 0.8393, loss_bbox: 0.7010, loss_bbox_rf: 0.9226, loss: 2.4629, grad_norm: 2.4037\n",
      "2021-05-14 02:38:01,390 - mmdet - INFO - Epoch [12][400/655]\tlr: 1.000e-03, eta: 1:38:48, time: 0.708, data_time: 0.006, memory: 7090, loss_cls: 0.8271, loss_bbox: 0.7141, loss_bbox_rf: 0.9471, loss: 2.4883, grad_norm: 2.0566\n",
      "2021-05-14 02:38:37,399 - mmdet - INFO - Epoch [12][450/655]\tlr: 1.000e-03, eta: 1:38:11, time: 0.720, data_time: 0.006, memory: 7090, loss_cls: 0.8265, loss_bbox: 0.7138, loss_bbox_rf: 0.9433, loss: 2.4837, grad_norm: 1.9663\n",
      "2021-05-14 02:39:12,860 - mmdet - INFO - Epoch [12][500/655]\tlr: 1.000e-03, eta: 1:37:34, time: 0.709, data_time: 0.006, memory: 7090, loss_cls: 0.8500, loss_bbox: 0.6916, loss_bbox_rf: 0.9125, loss: 2.4541, grad_norm: 2.1621\n",
      "2021-05-14 02:39:48,802 - mmdet - INFO - Epoch [12][550/655]\tlr: 1.000e-03, eta: 1:36:56, time: 0.719, data_time: 0.006, memory: 7090, loss_cls: 0.8422, loss_bbox: 0.6949, loss_bbox_rf: 0.9226, loss: 2.4598, grad_norm: 2.0298\n",
      "2021-05-14 02:40:24,526 - mmdet - INFO - Epoch [12][600/655]\tlr: 1.000e-03, eta: 1:36:19, time: 0.714, data_time: 0.006, memory: 7090, loss_cls: 0.8784, loss_bbox: 0.6943, loss_bbox_rf: 0.9198, loss: 2.4925, grad_norm: 2.1206\n",
      "2021-05-14 02:40:59,936 - mmdet - INFO - Epoch [12][650/655]\tlr: 1.000e-03, eta: 1:35:41, time: 0.708, data_time: 0.006, memory: 7090, loss_cls: 0.8627, loss_bbox: 0.7116, loss_bbox_rf: 0.9407, loss: 2.5150, grad_norm: 2.6448\n",
      "2021-05-14 02:41:03,541 - mmdet - INFO - Saving checkpoint at 12 epochs\n"
     ]
    },
    {
     "ename": "RuntimeError",
     "evalue": "[enforce fail at inline_container.cc:262] . unexpected pos 139545088 vs 139544976",
     "output_type": "error",
     "traceback": [
      "\u001b[0;31m---------------------------------------------------------------------------\u001b[0m",
      "\u001b[0;31mOSError\u001b[0m                                   Traceback (most recent call last)",
      "\u001b[0;32m/opt/conda/lib/python3.7/site-packages/torch/serialization.py\u001b[0m in \u001b[0;36msave\u001b[0;34m(obj, f, pickle_module, pickle_protocol, _use_new_zipfile_serialization)\u001b[0m\n\u001b[1;32m    363\u001b[0m             \u001b[0;32mwith\u001b[0m \u001b[0m_open_zipfile_writer\u001b[0m\u001b[0;34m(\u001b[0m\u001b[0mopened_file\u001b[0m\u001b[0;34m)\u001b[0m \u001b[0;32mas\u001b[0m \u001b[0mopened_zipfile\u001b[0m\u001b[0;34m:\u001b[0m\u001b[0;34m\u001b[0m\u001b[0;34m\u001b[0m\u001b[0m\n\u001b[0;32m--> 364\u001b[0;31m                 \u001b[0m_save\u001b[0m\u001b[0;34m(\u001b[0m\u001b[0mobj\u001b[0m\u001b[0;34m,\u001b[0m \u001b[0mopened_zipfile\u001b[0m\u001b[0;34m,\u001b[0m \u001b[0mpickle_module\u001b[0m\u001b[0;34m,\u001b[0m \u001b[0mpickle_protocol\u001b[0m\u001b[0;34m)\u001b[0m\u001b[0;34m\u001b[0m\u001b[0;34m\u001b[0m\u001b[0m\n\u001b[0m\u001b[1;32m    365\u001b[0m                 \u001b[0;32mreturn\u001b[0m\u001b[0;34m\u001b[0m\u001b[0;34m\u001b[0m\u001b[0m\n",
      "\u001b[0;32m/opt/conda/lib/python3.7/site-packages/torch/serialization.py\u001b[0m in \u001b[0;36m_save\u001b[0;34m(obj, zip_file, pickle_module, pickle_protocol)\u001b[0m\n\u001b[1;32m    482\u001b[0m             \u001b[0mbuf_value\u001b[0m \u001b[0;34m=\u001b[0m \u001b[0mbuf\u001b[0m\u001b[0;34m.\u001b[0m\u001b[0mgetvalue\u001b[0m\u001b[0;34m(\u001b[0m\u001b[0;34m)\u001b[0m\u001b[0;34m\u001b[0m\u001b[0;34m\u001b[0m\u001b[0m\n\u001b[0;32m--> 483\u001b[0;31m             \u001b[0mzip_file\u001b[0m\u001b[0;34m.\u001b[0m\u001b[0mwrite_record\u001b[0m\u001b[0;34m(\u001b[0m\u001b[0mname\u001b[0m\u001b[0;34m,\u001b[0m \u001b[0mbuf_value\u001b[0m\u001b[0;34m,\u001b[0m \u001b[0mlen\u001b[0m\u001b[0;34m(\u001b[0m\u001b[0mbuf_value\u001b[0m\u001b[0;34m)\u001b[0m\u001b[0;34m)\u001b[0m\u001b[0;34m\u001b[0m\u001b[0;34m\u001b[0m\u001b[0m\n\u001b[0m\u001b[1;32m    484\u001b[0m \u001b[0;34m\u001b[0m\u001b[0m\n",
      "\u001b[0;31mOSError\u001b[0m: [Errno 28] No space left on device",
      "\nDuring handling of the above exception, another exception occurred:\n",
      "\u001b[0;31mRuntimeError\u001b[0m                              Traceback (most recent call last)",
      "\u001b[0;32m<ipython-input-14-59b5768e9e45>\u001b[0m in \u001b[0;36m<module>\u001b[0;34m\u001b[0m\n\u001b[0;32m----> 1\u001b[0;31m \u001b[0mtrain_detector\u001b[0m\u001b[0;34m(\u001b[0m\u001b[0mmodel\u001b[0m\u001b[0;34m,\u001b[0m \u001b[0mdatasets\u001b[0m\u001b[0;34m[\u001b[0m\u001b[0;36m0\u001b[0m\u001b[0;34m]\u001b[0m\u001b[0;34m,\u001b[0m \u001b[0mcfg\u001b[0m\u001b[0;34m,\u001b[0m \u001b[0mdistributed\u001b[0m\u001b[0;34m=\u001b[0m\u001b[0;32mFalse\u001b[0m\u001b[0;34m,\u001b[0m \u001b[0mvalidate\u001b[0m\u001b[0;34m=\u001b[0m\u001b[0;32mTrue\u001b[0m\u001b[0;34m)\u001b[0m\u001b[0;34m\u001b[0m\u001b[0;34m\u001b[0m\u001b[0m\n\u001b[0m",
      "\u001b[0;32m~/code/mmdetection_trash/mmdet/apis/train.py\u001b[0m in \u001b[0;36mtrain_detector\u001b[0;34m(model, dataset, cfg, distributed, validate, timestamp, meta)\u001b[0m\n\u001b[1;32m    168\u001b[0m     \u001b[0;32melif\u001b[0m \u001b[0mcfg\u001b[0m\u001b[0;34m.\u001b[0m\u001b[0mload_from\u001b[0m\u001b[0;34m:\u001b[0m\u001b[0;34m\u001b[0m\u001b[0;34m\u001b[0m\u001b[0m\n\u001b[1;32m    169\u001b[0m         \u001b[0mrunner\u001b[0m\u001b[0;34m.\u001b[0m\u001b[0mload_checkpoint\u001b[0m\u001b[0;34m(\u001b[0m\u001b[0mcfg\u001b[0m\u001b[0;34m.\u001b[0m\u001b[0mload_from\u001b[0m\u001b[0;34m)\u001b[0m\u001b[0;34m\u001b[0m\u001b[0;34m\u001b[0m\u001b[0m\n\u001b[0;32m--> 170\u001b[0;31m     \u001b[0mrunner\u001b[0m\u001b[0;34m.\u001b[0m\u001b[0mrun\u001b[0m\u001b[0;34m(\u001b[0m\u001b[0mdata_loaders\u001b[0m\u001b[0;34m,\u001b[0m \u001b[0mcfg\u001b[0m\u001b[0;34m.\u001b[0m\u001b[0mworkflow\u001b[0m\u001b[0;34m)\u001b[0m\u001b[0;34m\u001b[0m\u001b[0;34m\u001b[0m\u001b[0m\n\u001b[0m",
      "\u001b[0;32m/opt/conda/lib/python3.7/site-packages/mmcv/runner/epoch_based_runner.py\u001b[0m in \u001b[0;36mrun\u001b[0;34m(self, data_loaders, workflow, max_epochs, **kwargs)\u001b[0m\n\u001b[1;32m    123\u001b[0m                     \u001b[0;32mif\u001b[0m \u001b[0mmode\u001b[0m \u001b[0;34m==\u001b[0m \u001b[0;34m'train'\u001b[0m \u001b[0;32mand\u001b[0m \u001b[0mself\u001b[0m\u001b[0;34m.\u001b[0m\u001b[0mepoch\u001b[0m \u001b[0;34m>=\u001b[0m \u001b[0mself\u001b[0m\u001b[0;34m.\u001b[0m\u001b[0m_max_epochs\u001b[0m\u001b[0;34m:\u001b[0m\u001b[0;34m\u001b[0m\u001b[0;34m\u001b[0m\u001b[0m\n\u001b[1;32m    124\u001b[0m                         \u001b[0;32mbreak\u001b[0m\u001b[0;34m\u001b[0m\u001b[0;34m\u001b[0m\u001b[0m\n\u001b[0;32m--> 125\u001b[0;31m                     \u001b[0mepoch_runner\u001b[0m\u001b[0;34m(\u001b[0m\u001b[0mdata_loaders\u001b[0m\u001b[0;34m[\u001b[0m\u001b[0mi\u001b[0m\u001b[0;34m]\u001b[0m\u001b[0;34m,\u001b[0m \u001b[0;34m**\u001b[0m\u001b[0mkwargs\u001b[0m\u001b[0;34m)\u001b[0m\u001b[0;34m\u001b[0m\u001b[0;34m\u001b[0m\u001b[0m\n\u001b[0m\u001b[1;32m    126\u001b[0m \u001b[0;34m\u001b[0m\u001b[0m\n\u001b[1;32m    127\u001b[0m         \u001b[0mtime\u001b[0m\u001b[0;34m.\u001b[0m\u001b[0msleep\u001b[0m\u001b[0;34m(\u001b[0m\u001b[0;36m1\u001b[0m\u001b[0;34m)\u001b[0m  \u001b[0;31m# wait for some hooks like loggers to finish\u001b[0m\u001b[0;34m\u001b[0m\u001b[0;34m\u001b[0m\u001b[0m\n",
      "\u001b[0;32m/opt/conda/lib/python3.7/site-packages/mmcv/runner/epoch_based_runner.py\u001b[0m in \u001b[0;36mtrain\u001b[0;34m(self, data_loader, **kwargs)\u001b[0m\n\u001b[1;32m     52\u001b[0m             \u001b[0mself\u001b[0m\u001b[0;34m.\u001b[0m\u001b[0m_iter\u001b[0m \u001b[0;34m+=\u001b[0m \u001b[0;36m1\u001b[0m\u001b[0;34m\u001b[0m\u001b[0;34m\u001b[0m\u001b[0m\n\u001b[1;32m     53\u001b[0m \u001b[0;34m\u001b[0m\u001b[0m\n\u001b[0;32m---> 54\u001b[0;31m         \u001b[0mself\u001b[0m\u001b[0;34m.\u001b[0m\u001b[0mcall_hook\u001b[0m\u001b[0;34m(\u001b[0m\u001b[0;34m'after_train_epoch'\u001b[0m\u001b[0;34m)\u001b[0m\u001b[0;34m\u001b[0m\u001b[0;34m\u001b[0m\u001b[0m\n\u001b[0m\u001b[1;32m     55\u001b[0m         \u001b[0mself\u001b[0m\u001b[0;34m.\u001b[0m\u001b[0m_epoch\u001b[0m \u001b[0;34m+=\u001b[0m \u001b[0;36m1\u001b[0m\u001b[0;34m\u001b[0m\u001b[0;34m\u001b[0m\u001b[0m\n\u001b[1;32m     56\u001b[0m \u001b[0;34m\u001b[0m\u001b[0m\n",
      "\u001b[0;32m/opt/conda/lib/python3.7/site-packages/mmcv/runner/base_runner.py\u001b[0m in \u001b[0;36mcall_hook\u001b[0;34m(self, fn_name)\u001b[0m\n\u001b[1;32m    305\u001b[0m         \"\"\"\n\u001b[1;32m    306\u001b[0m         \u001b[0;32mfor\u001b[0m \u001b[0mhook\u001b[0m \u001b[0;32min\u001b[0m \u001b[0mself\u001b[0m\u001b[0;34m.\u001b[0m\u001b[0m_hooks\u001b[0m\u001b[0;34m:\u001b[0m\u001b[0;34m\u001b[0m\u001b[0;34m\u001b[0m\u001b[0m\n\u001b[0;32m--> 307\u001b[0;31m             \u001b[0mgetattr\u001b[0m\u001b[0;34m(\u001b[0m\u001b[0mhook\u001b[0m\u001b[0;34m,\u001b[0m \u001b[0mfn_name\u001b[0m\u001b[0;34m)\u001b[0m\u001b[0;34m(\u001b[0m\u001b[0mself\u001b[0m\u001b[0;34m)\u001b[0m\u001b[0;34m\u001b[0m\u001b[0;34m\u001b[0m\u001b[0m\n\u001b[0m\u001b[1;32m    308\u001b[0m \u001b[0;34m\u001b[0m\u001b[0m\n\u001b[1;32m    309\u001b[0m     def load_checkpoint(self,\n",
      "\u001b[0;32m/opt/conda/lib/python3.7/site-packages/mmcv/runner/hooks/checkpoint.py\u001b[0m in \u001b[0;36mafter_train_epoch\u001b[0;34m(self, runner)\u001b[0m\n\u001b[1;32m     67\u001b[0m             \u001b[0;32mif\u001b[0m \u001b[0mself\u001b[0m\u001b[0;34m.\u001b[0m\u001b[0msync_buffer\u001b[0m\u001b[0;34m:\u001b[0m\u001b[0;34m\u001b[0m\u001b[0;34m\u001b[0m\u001b[0m\n\u001b[1;32m     68\u001b[0m                 \u001b[0mallreduce_params\u001b[0m\u001b[0;34m(\u001b[0m\u001b[0mrunner\u001b[0m\u001b[0;34m.\u001b[0m\u001b[0mmodel\u001b[0m\u001b[0;34m.\u001b[0m\u001b[0mbuffers\u001b[0m\u001b[0;34m(\u001b[0m\u001b[0;34m)\u001b[0m\u001b[0;34m)\u001b[0m\u001b[0;34m\u001b[0m\u001b[0;34m\u001b[0m\u001b[0m\n\u001b[0;32m---> 69\u001b[0;31m             \u001b[0mself\u001b[0m\u001b[0;34m.\u001b[0m\u001b[0m_save_checkpoint\u001b[0m\u001b[0;34m(\u001b[0m\u001b[0mrunner\u001b[0m\u001b[0;34m)\u001b[0m\u001b[0;34m\u001b[0m\u001b[0;34m\u001b[0m\u001b[0m\n\u001b[0m\u001b[1;32m     70\u001b[0m \u001b[0;34m\u001b[0m\u001b[0m\n\u001b[1;32m     71\u001b[0m     \u001b[0;34m@\u001b[0m\u001b[0mmaster_only\u001b[0m\u001b[0;34m\u001b[0m\u001b[0;34m\u001b[0m\u001b[0m\n",
      "\u001b[0;32m/opt/conda/lib/python3.7/site-packages/mmcv/runner/dist_utils.py\u001b[0m in \u001b[0;36mwrapper\u001b[0;34m(*args, **kwargs)\u001b[0m\n\u001b[1;32m    101\u001b[0m         \u001b[0mrank\u001b[0m\u001b[0;34m,\u001b[0m \u001b[0m_\u001b[0m \u001b[0;34m=\u001b[0m \u001b[0mget_dist_info\u001b[0m\u001b[0;34m(\u001b[0m\u001b[0;34m)\u001b[0m\u001b[0;34m\u001b[0m\u001b[0;34m\u001b[0m\u001b[0m\n\u001b[1;32m    102\u001b[0m         \u001b[0;32mif\u001b[0m \u001b[0mrank\u001b[0m \u001b[0;34m==\u001b[0m \u001b[0;36m0\u001b[0m\u001b[0;34m:\u001b[0m\u001b[0;34m\u001b[0m\u001b[0;34m\u001b[0m\u001b[0m\n\u001b[0;32m--> 103\u001b[0;31m             \u001b[0;32mreturn\u001b[0m \u001b[0mfunc\u001b[0m\u001b[0;34m(\u001b[0m\u001b[0;34m*\u001b[0m\u001b[0margs\u001b[0m\u001b[0;34m,\u001b[0m \u001b[0;34m**\u001b[0m\u001b[0mkwargs\u001b[0m\u001b[0;34m)\u001b[0m\u001b[0;34m\u001b[0m\u001b[0;34m\u001b[0m\u001b[0m\n\u001b[0m\u001b[1;32m    104\u001b[0m \u001b[0;34m\u001b[0m\u001b[0m\n\u001b[1;32m    105\u001b[0m     \u001b[0;32mreturn\u001b[0m \u001b[0mwrapper\u001b[0m\u001b[0;34m\u001b[0m\u001b[0;34m\u001b[0m\u001b[0m\n",
      "\u001b[0;32m/opt/conda/lib/python3.7/site-packages/mmcv/runner/hooks/checkpoint.py\u001b[0m in \u001b[0;36m_save_checkpoint\u001b[0;34m(self, runner)\u001b[0m\n\u001b[1;32m     73\u001b[0m         \u001b[0;34m\"\"\"Save the current checkpoint and delete unwanted checkpoint.\"\"\"\u001b[0m\u001b[0;34m\u001b[0m\u001b[0;34m\u001b[0m\u001b[0m\n\u001b[1;32m     74\u001b[0m         runner.save_checkpoint(\n\u001b[0;32m---> 75\u001b[0;31m             self.out_dir, save_optimizer=self.save_optimizer, **self.args)\n\u001b[0m\u001b[1;32m     76\u001b[0m         \u001b[0;32mif\u001b[0m \u001b[0mrunner\u001b[0m\u001b[0;34m.\u001b[0m\u001b[0mmeta\u001b[0m \u001b[0;32mis\u001b[0m \u001b[0;32mnot\u001b[0m \u001b[0;32mNone\u001b[0m\u001b[0;34m:\u001b[0m\u001b[0;34m\u001b[0m\u001b[0;34m\u001b[0m\u001b[0m\n\u001b[1;32m     77\u001b[0m             \u001b[0;32mif\u001b[0m \u001b[0mself\u001b[0m\u001b[0;34m.\u001b[0m\u001b[0mby_epoch\u001b[0m\u001b[0;34m:\u001b[0m\u001b[0;34m\u001b[0m\u001b[0;34m\u001b[0m\u001b[0m\n",
      "\u001b[0;32m/opt/conda/lib/python3.7/site-packages/mmcv/runner/epoch_based_runner.py\u001b[0m in \u001b[0;36msave_checkpoint\u001b[0;34m(self, out_dir, filename_tmpl, save_optimizer, meta, create_symlink)\u001b[0m\n\u001b[1;32m    162\u001b[0m         \u001b[0mfilepath\u001b[0m \u001b[0;34m=\u001b[0m \u001b[0mosp\u001b[0m\u001b[0;34m.\u001b[0m\u001b[0mjoin\u001b[0m\u001b[0;34m(\u001b[0m\u001b[0mout_dir\u001b[0m\u001b[0;34m,\u001b[0m \u001b[0mfilename\u001b[0m\u001b[0;34m)\u001b[0m\u001b[0;34m\u001b[0m\u001b[0;34m\u001b[0m\u001b[0m\n\u001b[1;32m    163\u001b[0m         \u001b[0moptimizer\u001b[0m \u001b[0;34m=\u001b[0m \u001b[0mself\u001b[0m\u001b[0;34m.\u001b[0m\u001b[0moptimizer\u001b[0m \u001b[0;32mif\u001b[0m \u001b[0msave_optimizer\u001b[0m \u001b[0;32melse\u001b[0m \u001b[0;32mNone\u001b[0m\u001b[0;34m\u001b[0m\u001b[0;34m\u001b[0m\u001b[0m\n\u001b[0;32m--> 164\u001b[0;31m         \u001b[0msave_checkpoint\u001b[0m\u001b[0;34m(\u001b[0m\u001b[0mself\u001b[0m\u001b[0;34m.\u001b[0m\u001b[0mmodel\u001b[0m\u001b[0;34m,\u001b[0m \u001b[0mfilepath\u001b[0m\u001b[0;34m,\u001b[0m \u001b[0moptimizer\u001b[0m\u001b[0;34m=\u001b[0m\u001b[0moptimizer\u001b[0m\u001b[0;34m,\u001b[0m \u001b[0mmeta\u001b[0m\u001b[0;34m=\u001b[0m\u001b[0mmeta\u001b[0m\u001b[0;34m)\u001b[0m\u001b[0;34m\u001b[0m\u001b[0;34m\u001b[0m\u001b[0m\n\u001b[0m\u001b[1;32m    165\u001b[0m         \u001b[0;31m# in some environments, `os.symlink` is not supported, you may need to\u001b[0m\u001b[0;34m\u001b[0m\u001b[0;34m\u001b[0m\u001b[0;34m\u001b[0m\u001b[0m\n\u001b[1;32m    166\u001b[0m         \u001b[0;31m# set `create_symlink` to False\u001b[0m\u001b[0;34m\u001b[0m\u001b[0;34m\u001b[0m\u001b[0;34m\u001b[0m\u001b[0m\n",
      "\u001b[0;32m/opt/conda/lib/python3.7/site-packages/mmcv/runner/checkpoint.py\u001b[0m in \u001b[0;36msave_checkpoint\u001b[0;34m(model, filename, optimizer, meta)\u001b[0m\n\u001b[1;32m    685\u001b[0m         \u001b[0;31m# immediately flush buffer\u001b[0m\u001b[0;34m\u001b[0m\u001b[0;34m\u001b[0m\u001b[0;34m\u001b[0m\u001b[0m\n\u001b[1;32m    686\u001b[0m         \u001b[0;32mwith\u001b[0m \u001b[0mopen\u001b[0m\u001b[0;34m(\u001b[0m\u001b[0mfilename\u001b[0m\u001b[0;34m,\u001b[0m \u001b[0;34m'wb'\u001b[0m\u001b[0;34m)\u001b[0m \u001b[0;32mas\u001b[0m \u001b[0mf\u001b[0m\u001b[0;34m:\u001b[0m\u001b[0;34m\u001b[0m\u001b[0;34m\u001b[0m\u001b[0m\n\u001b[0;32m--> 687\u001b[0;31m             \u001b[0mtorch\u001b[0m\u001b[0;34m.\u001b[0m\u001b[0msave\u001b[0m\u001b[0;34m(\u001b[0m\u001b[0mcheckpoint\u001b[0m\u001b[0;34m,\u001b[0m \u001b[0mf\u001b[0m\u001b[0;34m)\u001b[0m\u001b[0;34m\u001b[0m\u001b[0;34m\u001b[0m\u001b[0m\n\u001b[0m\u001b[1;32m    688\u001b[0m             \u001b[0mf\u001b[0m\u001b[0;34m.\u001b[0m\u001b[0mflush\u001b[0m\u001b[0;34m(\u001b[0m\u001b[0;34m)\u001b[0m\u001b[0;34m\u001b[0m\u001b[0;34m\u001b[0m\u001b[0m\n",
      "\u001b[0;32m/opt/conda/lib/python3.7/site-packages/torch/serialization.py\u001b[0m in \u001b[0;36msave\u001b[0;34m(obj, f, pickle_module, pickle_protocol, _use_new_zipfile_serialization)\u001b[0m\n\u001b[1;32m    363\u001b[0m             \u001b[0;32mwith\u001b[0m \u001b[0m_open_zipfile_writer\u001b[0m\u001b[0;34m(\u001b[0m\u001b[0mopened_file\u001b[0m\u001b[0;34m)\u001b[0m \u001b[0;32mas\u001b[0m \u001b[0mopened_zipfile\u001b[0m\u001b[0;34m:\u001b[0m\u001b[0;34m\u001b[0m\u001b[0;34m\u001b[0m\u001b[0m\n\u001b[1;32m    364\u001b[0m                 \u001b[0m_save\u001b[0m\u001b[0;34m(\u001b[0m\u001b[0mobj\u001b[0m\u001b[0;34m,\u001b[0m \u001b[0mopened_zipfile\u001b[0m\u001b[0;34m,\u001b[0m \u001b[0mpickle_module\u001b[0m\u001b[0;34m,\u001b[0m \u001b[0mpickle_protocol\u001b[0m\u001b[0;34m)\u001b[0m\u001b[0;34m\u001b[0m\u001b[0;34m\u001b[0m\u001b[0m\n\u001b[0;32m--> 365\u001b[0;31m                 \u001b[0;32mreturn\u001b[0m\u001b[0;34m\u001b[0m\u001b[0;34m\u001b[0m\u001b[0m\n\u001b[0m\u001b[1;32m    366\u001b[0m         \u001b[0m_legacy_save\u001b[0m\u001b[0;34m(\u001b[0m\u001b[0mobj\u001b[0m\u001b[0;34m,\u001b[0m \u001b[0mopened_file\u001b[0m\u001b[0;34m,\u001b[0m \u001b[0mpickle_module\u001b[0m\u001b[0;34m,\u001b[0m \u001b[0mpickle_protocol\u001b[0m\u001b[0;34m)\u001b[0m\u001b[0;34m\u001b[0m\u001b[0;34m\u001b[0m\u001b[0m\n\u001b[1;32m    367\u001b[0m \u001b[0;34m\u001b[0m\u001b[0m\n",
      "\u001b[0;32m/opt/conda/lib/python3.7/site-packages/torch/serialization.py\u001b[0m in \u001b[0;36m__exit__\u001b[0;34m(self, *args)\u001b[0m\n\u001b[1;32m    256\u001b[0m \u001b[0;34m\u001b[0m\u001b[0m\n\u001b[1;32m    257\u001b[0m     \u001b[0;32mdef\u001b[0m \u001b[0m__exit__\u001b[0m\u001b[0;34m(\u001b[0m\u001b[0mself\u001b[0m\u001b[0;34m,\u001b[0m \u001b[0;34m*\u001b[0m\u001b[0margs\u001b[0m\u001b[0;34m)\u001b[0m\u001b[0;34m:\u001b[0m\u001b[0;34m\u001b[0m\u001b[0;34m\u001b[0m\u001b[0m\n\u001b[0;32m--> 258\u001b[0;31m         \u001b[0mself\u001b[0m\u001b[0;34m.\u001b[0m\u001b[0mfile_like\u001b[0m\u001b[0;34m.\u001b[0m\u001b[0mwrite_end_of_file\u001b[0m\u001b[0;34m(\u001b[0m\u001b[0;34m)\u001b[0m\u001b[0;34m\u001b[0m\u001b[0;34m\u001b[0m\u001b[0m\n\u001b[0m\u001b[1;32m    259\u001b[0m         \u001b[0mself\u001b[0m\u001b[0;34m.\u001b[0m\u001b[0mbuffer\u001b[0m\u001b[0;34m.\u001b[0m\u001b[0mflush\u001b[0m\u001b[0;34m(\u001b[0m\u001b[0;34m)\u001b[0m\u001b[0;34m\u001b[0m\u001b[0;34m\u001b[0m\u001b[0m\n\u001b[1;32m    260\u001b[0m \u001b[0;34m\u001b[0m\u001b[0m\n",
      "\u001b[0;31mRuntimeError\u001b[0m: [enforce fail at inline_container.cc:262] . unexpected pos 139545088 vs 139544976"
     ]
    }
   ],
   "source": [
    "train_detector(model, datasets[0], cfg, distributed=False, validate=True)"
   ]
  },
  {
   "cell_type": "code",
   "execution_count": null,
   "metadata": {},
   "outputs": [],
   "source": [
    "epoch = 24\n",
    "\n",
    "checkpoint_path = os.path.join(cfg.work_dir, f'epoch_{epoch}.pth')\n",
    "dataset = build_dataset(cfg.data.test)\n",
    "data_loader = build_dataloader(\n",
    "        dataset,\n",
    "        samples_per_gpu=8,\n",
    "        workers_per_gpu=cfg.data.workers_per_gpu,\n",
    "        dist=False,\n",
    "        shuffle=False)\n"
   ]
  },
  {
   "cell_type": "code",
   "execution_count": null,
   "metadata": {
    "tags": []
   },
   "outputs": [],
   "source": [
    "model = build_detector(cfg.model, test_cfg=cfg.get('test_cfg'))\n",
    "checkpoint = load_checkpoint(model, checkpoint_path, map_location='cpu', strict=False)\n",
    "\n",
    "model.CLASSES = dataset.CLASSES\n",
    "model = MMDataParallel(model.cuda(), device_ids=[0])"
   ]
  },
  {
   "cell_type": "code",
   "execution_count": null,
   "metadata": {},
   "outputs": [],
   "source": [
    "output = single_gpu_test(model, data_loader, show_score_thr=0.05)"
   ]
  },
  {
   "cell_type": "code",
   "execution_count": null,
   "metadata": {},
   "outputs": [],
   "source": [
    "prediction_strings = []\n",
    "file_names = []\n",
    "coco = COCO(cfg.data.test.ann_file)\n",
    "imag_ids = coco.getImgIds()\n",
    "\n",
    "class_num = 11\n",
    "for i, out in enumerate(output):\n",
    "    prediction_string = ''\n",
    "    image_info = coco.loadImgs(coco.getImgIds(imgIds=i))[0]\n",
    "    for j in range(class_num):\n",
    "        for o in out[j]:\n",
    "            prediction_string += str(j) + ' ' + str(o[4]) + ' ' + str(o[0]) + ' ' + str(o[1]) + ' ' + str(\n",
    "                o[2]) + ' ' + str(o[3]) + ' '\n",
    "        \n",
    "    prediction_strings.append(prediction_string)\n",
    "    file_names.append(image_info['file_name'])\n",
    "\n",
    "\n",
    "submission = pd.DataFrame()\n",
    "submission['PredictionString'] = prediction_strings\n",
    "submission['image_id'] = file_names\n",
    "submission.to_csv(os.path.join(cfg.work_dir, f'submission_{epoch}.csv'), index=None)\n",
    "submission.head()"
   ]
  },
  {
   "cell_type": "code",
   "execution_count": null,
   "metadata": {},
   "outputs": [],
   "source": []
  },
  {
   "cell_type": "code",
   "execution_count": null,
   "metadata": {},
   "outputs": [],
   "source": []
  },
  {
   "cell_type": "code",
   "execution_count": null,
   "metadata": {},
   "outputs": [],
   "source": []
  },
  {
   "cell_type": "code",
   "execution_count": null,
   "metadata": {},
   "outputs": [],
   "source": []
  }
 ],
 "metadata": {
  "kernelspec": {
   "display_name": "Python 3",
   "language": "python",
   "name": "python3"
  },
  "language_info": {
   "codemirror_mode": {
    "name": "ipython",
    "version": 3
   },
   "file_extension": ".py",
   "mimetype": "text/x-python",
   "name": "python",
   "nbconvert_exporter": "python",
   "pygments_lexer": "ipython3",
   "version": "3.7.7"
  },
  "pycharm": {
   "stem_cell": {
    "cell_type": "raw",
    "metadata": {
     "collapsed": false
    },
    "source": []
   }
  }
 },
 "nbformat": 4,
 "nbformat_minor": 4
}
